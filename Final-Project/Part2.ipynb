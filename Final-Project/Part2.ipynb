{
 "cells": [
  {
   "cell_type": "markdown",
   "metadata": {},
   "source": [
    "# PART 2 - Build a text data classifier"
   ]
  },
  {
   "cell_type": "markdown",
   "metadata": {},
   "source": [
    "## Part 2.1 - from unstructured data to structured data "
   ]
  },
  {
   "cell_type": "code",
   "execution_count": 257,
   "metadata": {
    "collapsed": true
   },
   "outputs": [],
   "source": [
    "%matplotlib inline"
   ]
  },
  {
   "cell_type": "markdown",
   "metadata": {},
   "source": [
    "first, we will read the csv file from part1 to DataFrame.  \n",
    "for that we will use pandas and csv libraries."
   ]
  },
  {
   "cell_type": "code",
   "execution_count": 258,
   "metadata": {
    "collapsed": true
   },
   "outputs": [],
   "source": [
    "import matplotlib.pyplot as plt\n",
    "import pandas as pd\n",
    "import csv"
   ]
  },
  {
   "cell_type": "code",
   "execution_count": 259,
   "metadata": {
    "collapsed": true,
    "scrolled": true
   },
   "outputs": [],
   "source": [
    "df = pd.read_csv(\"dataNew.csv\")"
   ]
  },
  {
   "cell_type": "markdown",
   "metadata": {},
   "source": [
    "we can notice that there are numbers in the messages, we have to decide how to represent the numbers, if any...  \n",
    "to make a good decision, let's explore the use of numbers. we will check for each sender how many messages include numbers:"
   ]
  },
  {
   "cell_type": "code",
   "execution_count": 260,
   "metadata": {
    "collapsed": true,
    "scrolled": false
   },
   "outputs": [],
   "source": [
    "import re\n",
    "df_helper = df.copy(deep = True)\n",
    "df_helper['num_exist'] = df_helper.message.apply(lambda row: bool(re.search(r'\\d', row)))   #bool(re.search(r'\\d', inputString))\n",
    "df_num = df_helper.groupby('email address').agg({'num_exist':['sum']}).reset_index()"
   ]
  },
  {
   "cell_type": "code",
   "execution_count": 261,
   "metadata": {},
   "outputs": [
    {
     "name": "stdout",
     "output_type": "stream",
     "text": [
      "Email: asafdavid08@gmail.com \n",
      "percent: 64.516%\n",
      "Email: dvirnimrod84@gmail.com \n",
      "percent: 44.444%\n",
      "Email: illonashachar78@gmail.com \n",
      "percent: 44.828%\n",
      "Email: itaicohen266@gmail.com \n",
      "percent: 50.000%\n",
      "Email: leapeturel@gmail.com \n",
      "percent: 42.857%\n"
     ]
    }
   ],
   "source": [
    "df_count = pd.DataFrame({'count' : df.groupby('email address').size()}).reset_index()\n",
    "df_count[\"email address\"]\n",
    "for index, row in df.iterrows():\n",
    "    if index<5:\n",
    "        print(\"Email: %s \\npercent: %s\" % (df_count[\"email address\"][index],\"{0:.3%}\".format(df_num[\"num_exist\"][\"sum\"][index]/df_count[\"count\"][index])))"
   ]
  },
  {
   "cell_type": "markdown",
   "metadata": {},
   "source": [
    "as we can see, ~65% of the messages that asafdavid sent include numbers, while only 45% of the messages that the other senders sent included numbers. because of this reason, we decided not to delete the numbers, but because each number in itself is meaningless, we will replace each number with the word NUM.  \n",
    "let's do this:"
   ]
  },
  {
   "cell_type": "code",
   "execution_count": 262,
   "metadata": {
    "scrolled": true
   },
   "outputs": [
    {
     "data": {
      "text/html": [
       "<div>\n",
       "<style>\n",
       "    .dataframe thead tr:only-child th {\n",
       "        text-align: right;\n",
       "    }\n",
       "\n",
       "    .dataframe thead th {\n",
       "        text-align: left;\n",
       "    }\n",
       "\n",
       "    .dataframe tbody tr th {\n",
       "        vertical-align: top;\n",
       "    }\n",
       "</style>\n",
       "<table border=\"1\" class=\"dataframe\">\n",
       "  <thead>\n",
       "    <tr style=\"text-align: right;\">\n",
       "      <th></th>\n",
       "      <th>email address</th>\n",
       "      <th>message</th>\n",
       "    </tr>\n",
       "  </thead>\n",
       "  <tbody>\n",
       "    <tr>\n",
       "      <th>0</th>\n",
       "      <td>illonashachar78@gmail.com</td>\n",
       "      <td>Hi no I will be free for almost all Day! Shavi...</td>\n",
       "    </tr>\n",
       "    <tr>\n",
       "      <th>1</th>\n",
       "      <td>illonashachar78@gmail.com</td>\n",
       "      <td>You can go free before NUM pm. At NUM people w...</td>\n",
       "    </tr>\n",
       "    <tr>\n",
       "      <th>2</th>\n",
       "      <td>illonashachar78@gmail.com</td>\n",
       "      <td>What time are You going to Kazimierz?</td>\n",
       "    </tr>\n",
       "    <tr>\n",
       "      <th>3</th>\n",
       "      <td>illonashachar78@gmail.com</td>\n",
       "      <td>I think it is better for You to go there by bu...</td>\n",
       "    </tr>\n",
       "    <tr>\n",
       "      <th>4</th>\n",
       "      <td>illonashachar78@gmail.com</td>\n",
       "      <td>Go to Riviera! I should go there yesterday bec...</td>\n",
       "    </tr>\n",
       "    <tr>\n",
       "      <th>5</th>\n",
       "      <td>dvirnimrod84@gmail.com</td>\n",
       "      <td>Im not even sure I have depression I think thi...</td>\n",
       "    </tr>\n",
       "    <tr>\n",
       "      <th>6</th>\n",
       "      <td>dvirnimrod84@gmail.com</td>\n",
       "      <td>What a fantastic answer but also a really bad ...</td>\n",
       "    </tr>\n",
       "    <tr>\n",
       "      <th>7</th>\n",
       "      <td>dvirnimrod84@gmail.com</td>\n",
       "      <td>I had a few people on her write to me over Xma...</td>\n",
       "    </tr>\n",
       "    <tr>\n",
       "      <th>8</th>\n",
       "      <td>dvirnimrod84@gmail.com</td>\n",
       "      <td>Quick research scan read. Told you I would... ...</td>\n",
       "    </tr>\n",
       "    <tr>\n",
       "      <th>9</th>\n",
       "      <td>dvirnimrod84@gmail.com</td>\n",
       "      <td>I doubt you have no one family is only one par...</td>\n",
       "    </tr>\n",
       "    <tr>\n",
       "      <th>10</th>\n",
       "      <td>dvirnimrod84@gmail.com</td>\n",
       "      <td>Hi Hypercat I really didnt mean any offence I ...</td>\n",
       "    </tr>\n",
       "    <tr>\n",
       "      <th>11</th>\n",
       "      <td>dvirnimrod84@gmail.com</td>\n",
       "      <td>Great message. Funnily enough I am/was a teach...</td>\n",
       "    </tr>\n",
       "    <tr>\n",
       "      <th>12</th>\n",
       "      <td>dvirnimrod84@gmail.com</td>\n",
       "      <td>I do love travelling but now having just had t...</td>\n",
       "    </tr>\n",
       "    <tr>\n",
       "      <th>13</th>\n",
       "      <td>dvirnimrod84@gmail.com</td>\n",
       "      <td>We certainly have strong similarities you seem...</td>\n",
       "    </tr>\n",
       "    <tr>\n",
       "      <th>14</th>\n",
       "      <td>dvirnimrod84@gmail.com</td>\n",
       "      <td>Thanks for the reply its nice to know youre no...</td>\n",
       "    </tr>\n",
       "    <tr>\n",
       "      <th>15</th>\n",
       "      <td>dvirnimrod84@gmail.com</td>\n",
       "      <td>I have read the replies and sympathise with yo...</td>\n",
       "    </tr>\n",
       "    <tr>\n",
       "      <th>16</th>\n",
       "      <td>dvirnimrod84@gmail.com</td>\n",
       "      <td>What is it with my compulsion to reply despite...</td>\n",
       "    </tr>\n",
       "    <tr>\n",
       "      <th>17</th>\n",
       "      <td>dvirnimrod84@gmail.com</td>\n",
       "      <td>Im not deluded enough to think people wouldnt ...</td>\n",
       "    </tr>\n",
       "    <tr>\n",
       "      <th>18</th>\n",
       "      <td>dvirnimrod84@gmail.com</td>\n",
       "      <td>I smiled at that last comment my girlfriend sa...</td>\n",
       "    </tr>\n",
       "    <tr>\n",
       "      <th>19</th>\n",
       "      <td>illonashachar78@gmail.com</td>\n",
       "      <td>I am in restaurant with my friend but she is g...</td>\n",
       "    </tr>\n",
       "    <tr>\n",
       "      <th>20</th>\n",
       "      <td>illonashachar78@gmail.com</td>\n",
       "      <td>Ok but I think everything will be closed soon....</td>\n",
       "    </tr>\n",
       "    <tr>\n",
       "      <th>21</th>\n",
       "      <td>illonashachar78@gmail.com</td>\n",
       "      <td>Hey are You sure that You want meet with me? D...</td>\n",
       "    </tr>\n",
       "    <tr>\n",
       "      <th>22</th>\n",
       "      <td>illonashachar78@gmail.com</td>\n",
       "      <td>Thank You Shavit! !!! IT was so nice to meet Y...</td>\n",
       "    </tr>\n",
       "    <tr>\n",
       "      <th>23</th>\n",
       "      <td>illonashachar78@gmail.com</td>\n",
       "      <td>Hi Shavit ! how are You? I moved to Warsaw tod...</td>\n",
       "    </tr>\n",
       "    <tr>\n",
       "      <th>24</th>\n",
       "      <td>illonashachar78@gmail.com</td>\n",
       "      <td>Hey ! I am sorry I wrote that I would talk to ...</td>\n",
       "    </tr>\n",
       "    <tr>\n",
       "      <th>25</th>\n",
       "      <td>illonashachar78@gmail.com</td>\n",
       "      <td>I dont know yet but I hope I will be able to c...</td>\n",
       "    </tr>\n",
       "    <tr>\n",
       "      <th>26</th>\n",
       "      <td>dvirnimrod84@gmail.com</td>\n",
       "      <td>Resisting the urge to get in to a theological ...</td>\n",
       "    </tr>\n",
       "    <tr>\n",
       "      <th>27</th>\n",
       "      <td>illonashachar78@gmail.com</td>\n",
       "      <td>Wow thats great. Warm! I wanted to write super...</td>\n",
       "    </tr>\n",
       "    <tr>\n",
       "      <th>28</th>\n",
       "      <td>illonashachar78@gmail.com</td>\n",
       "      <td>Yes I remember she is NUM. Does she undersand ...</td>\n",
       "    </tr>\n",
       "    <tr>\n",
       "      <th>29</th>\n",
       "      <td>illonashachar78@gmail.com</td>\n",
       "      <td>Yes I feel it Meybe Your polish side live long...</td>\n",
       "    </tr>\n",
       "    <tr>\n",
       "      <th>...</th>\n",
       "      <td>...</td>\n",
       "      <td>...</td>\n",
       "    </tr>\n",
       "    <tr>\n",
       "      <th>111</th>\n",
       "      <td>asafdavid08@gmail.com</td>\n",
       "      <td>Wow...just wow...This game is crazy. And huge....</td>\n",
       "    </tr>\n",
       "    <tr>\n",
       "      <th>112</th>\n",
       "      <td>asafdavid08@gmail.com</td>\n",
       "      <td>We live tech. We breath tech. We use tech. Fro...</td>\n",
       "    </tr>\n",
       "    <tr>\n",
       "      <th>113</th>\n",
       "      <td>asafdavid08@gmail.com</td>\n",
       "      <td>Can we just take a moment and be honest? The D...</td>\n",
       "    </tr>\n",
       "    <tr>\n",
       "      <th>114</th>\n",
       "      <td>asafdavid08@gmail.com</td>\n",
       "      <td>Wow....just wow! The Switch has really come in...</td>\n",
       "    </tr>\n",
       "    <tr>\n",
       "      <th>115</th>\n",
       "      <td>asafdavid08@gmail.com</td>\n",
       "      <td>So the gist is that someone is going to remedy...</td>\n",
       "    </tr>\n",
       "    <tr>\n",
       "      <th>116</th>\n",
       "      <td>asafdavid08@gmail.com</td>\n",
       "      <td>Could some of you who purchased an iPhone NUM ...</td>\n",
       "    </tr>\n",
       "    <tr>\n",
       "      <th>117</th>\n",
       "      <td>asafdavid08@gmail.com</td>\n",
       "      <td>So lets see if we can pin down what the table ...</td>\n",
       "    </tr>\n",
       "    <tr>\n",
       "      <th>118</th>\n",
       "      <td>asafdavid08@gmail.com</td>\n",
       "      <td>The best way to retain customers in a product ...</td>\n",
       "    </tr>\n",
       "    <tr>\n",
       "      <th>119</th>\n",
       "      <td>asafdavid08@gmail.com</td>\n",
       "      <td>The Razer is the first major phone to be ackno...</td>\n",
       "    </tr>\n",
       "    <tr>\n",
       "      <th>120</th>\n",
       "      <td>asafdavid08@gmail.com</td>\n",
       "      <td>So the gist is that someone is going to remedy...</td>\n",
       "    </tr>\n",
       "    <tr>\n",
       "      <th>121</th>\n",
       "      <td>asafdavid08@gmail.com</td>\n",
       "      <td>Personally I have no need for cellular in my s...</td>\n",
       "    </tr>\n",
       "    <tr>\n",
       "      <th>122</th>\n",
       "      <td>asafdavid08@gmail.com</td>\n",
       "      <td>Youre an Apple user. You have an iPhone iPad A...</td>\n",
       "    </tr>\n",
       "    <tr>\n",
       "      <th>123</th>\n",
       "      <td>asafdavid08@gmail.com</td>\n",
       "      <td>Youre an Android user. You have dozens of opti...</td>\n",
       "    </tr>\n",
       "    <tr>\n",
       "      <th>124</th>\n",
       "      <td>asafdavid08@gmail.com</td>\n",
       "      <td>Check out this article: https://www.google.com...</td>\n",
       "    </tr>\n",
       "    <tr>\n",
       "      <th>125</th>\n",
       "      <td>asafdavid08@gmail.com</td>\n",
       "      <td>So should Apple go all in on using eye/facial ...</td>\n",
       "    </tr>\n",
       "    <tr>\n",
       "      <th>126</th>\n",
       "      <td>asafdavid08@gmail.com</td>\n",
       "      <td>Netflix. Hulu. Amazon Prime. HBO Go. Showtime....</td>\n",
       "    </tr>\n",
       "    <tr>\n",
       "      <th>127</th>\n",
       "      <td>asafdavid08@gmail.com</td>\n",
       "      <td>Since its widely regarded as the best smartpho...</td>\n",
       "    </tr>\n",
       "    <tr>\n",
       "      <th>128</th>\n",
       "      <td>asafdavid08@gmail.com</td>\n",
       "      <td>So how many of you are getting destroyed in th...</td>\n",
       "    </tr>\n",
       "    <tr>\n",
       "      <th>129</th>\n",
       "      <td>asafdavid08@gmail.com</td>\n",
       "      <td>So far Im enjoying the beta on my iPad Pro NUM...</td>\n",
       "    </tr>\n",
       "    <tr>\n",
       "      <th>130</th>\n",
       "      <td>asafdavid08@gmail.com</td>\n",
       "      <td>I just want an open discussion about this topi...</td>\n",
       "    </tr>\n",
       "    <tr>\n",
       "      <th>131</th>\n",
       "      <td>asafdavid08@gmail.com</td>\n",
       "      <td>My heart wants to believe that all hype around...</td>\n",
       "    </tr>\n",
       "    <tr>\n",
       "      <th>132</th>\n",
       "      <td>asafdavid08@gmail.com</td>\n",
       "      <td>Currently I have the NUMmm Aluminum Sport mode...</td>\n",
       "    </tr>\n",
       "    <tr>\n",
       "      <th>133</th>\n",
       "      <td>asafdavid08@gmail.com</td>\n",
       "      <td>So I may be in the minority but Im buying this...</td>\n",
       "    </tr>\n",
       "    <tr>\n",
       "      <th>134</th>\n",
       "      <td>asafdavid08@gmail.com</td>\n",
       "      <td>So it appears that maybe were headed toward a ...</td>\n",
       "    </tr>\n",
       "    <tr>\n",
       "      <th>135</th>\n",
       "      <td>dvirnimrod84@gmail.com</td>\n",
       "      <td>So youre an Indian person living in Russia spe...</td>\n",
       "    </tr>\n",
       "    <tr>\n",
       "      <th>136</th>\n",
       "      <td>dvirnimrod84@gmail.com</td>\n",
       "      <td>I mean this with the greatest respect but woul...</td>\n",
       "    </tr>\n",
       "    <tr>\n",
       "      <th>137</th>\n",
       "      <td>dvirnimrod84@gmail.com</td>\n",
       "      <td>I love the way you write! It sounds really ver...</td>\n",
       "    </tr>\n",
       "    <tr>\n",
       "      <th>138</th>\n",
       "      <td>dvirnimrod84@gmail.com</td>\n",
       "      <td>Typical responces in themselves are not a bad ...</td>\n",
       "    </tr>\n",
       "    <tr>\n",
       "      <th>139</th>\n",
       "      <td>dvirnimrod84@gmail.com</td>\n",
       "      <td>I and this thread are probably not the best av...</td>\n",
       "    </tr>\n",
       "    <tr>\n",
       "      <th>140</th>\n",
       "      <td>dvirnimrod84@gmail.com</td>\n",
       "      <td>Kick away! Fair enough I dont do much at the m...</td>\n",
       "    </tr>\n",
       "  </tbody>\n",
       "</table>\n",
       "<p>141 rows × 2 columns</p>\n",
       "</div>"
      ],
      "text/plain": [
       "                 email address  \\\n",
       "0    illonashachar78@gmail.com   \n",
       "1    illonashachar78@gmail.com   \n",
       "2    illonashachar78@gmail.com   \n",
       "3    illonashachar78@gmail.com   \n",
       "4    illonashachar78@gmail.com   \n",
       "5       dvirnimrod84@gmail.com   \n",
       "6       dvirnimrod84@gmail.com   \n",
       "7       dvirnimrod84@gmail.com   \n",
       "8       dvirnimrod84@gmail.com   \n",
       "9       dvirnimrod84@gmail.com   \n",
       "10      dvirnimrod84@gmail.com   \n",
       "11      dvirnimrod84@gmail.com   \n",
       "12      dvirnimrod84@gmail.com   \n",
       "13      dvirnimrod84@gmail.com   \n",
       "14      dvirnimrod84@gmail.com   \n",
       "15      dvirnimrod84@gmail.com   \n",
       "16      dvirnimrod84@gmail.com   \n",
       "17      dvirnimrod84@gmail.com   \n",
       "18      dvirnimrod84@gmail.com   \n",
       "19   illonashachar78@gmail.com   \n",
       "20   illonashachar78@gmail.com   \n",
       "21   illonashachar78@gmail.com   \n",
       "22   illonashachar78@gmail.com   \n",
       "23   illonashachar78@gmail.com   \n",
       "24   illonashachar78@gmail.com   \n",
       "25   illonashachar78@gmail.com   \n",
       "26      dvirnimrod84@gmail.com   \n",
       "27   illonashachar78@gmail.com   \n",
       "28   illonashachar78@gmail.com   \n",
       "29   illonashachar78@gmail.com   \n",
       "..                         ...   \n",
       "111      asafdavid08@gmail.com   \n",
       "112      asafdavid08@gmail.com   \n",
       "113      asafdavid08@gmail.com   \n",
       "114      asafdavid08@gmail.com   \n",
       "115      asafdavid08@gmail.com   \n",
       "116      asafdavid08@gmail.com   \n",
       "117      asafdavid08@gmail.com   \n",
       "118      asafdavid08@gmail.com   \n",
       "119      asafdavid08@gmail.com   \n",
       "120      asafdavid08@gmail.com   \n",
       "121      asafdavid08@gmail.com   \n",
       "122      asafdavid08@gmail.com   \n",
       "123      asafdavid08@gmail.com   \n",
       "124      asafdavid08@gmail.com   \n",
       "125      asafdavid08@gmail.com   \n",
       "126      asafdavid08@gmail.com   \n",
       "127      asafdavid08@gmail.com   \n",
       "128      asafdavid08@gmail.com   \n",
       "129      asafdavid08@gmail.com   \n",
       "130      asafdavid08@gmail.com   \n",
       "131      asafdavid08@gmail.com   \n",
       "132      asafdavid08@gmail.com   \n",
       "133      asafdavid08@gmail.com   \n",
       "134      asafdavid08@gmail.com   \n",
       "135     dvirnimrod84@gmail.com   \n",
       "136     dvirnimrod84@gmail.com   \n",
       "137     dvirnimrod84@gmail.com   \n",
       "138     dvirnimrod84@gmail.com   \n",
       "139     dvirnimrod84@gmail.com   \n",
       "140     dvirnimrod84@gmail.com   \n",
       "\n",
       "                                               message  \n",
       "0    Hi no I will be free for almost all Day! Shavi...  \n",
       "1    You can go free before NUM pm. At NUM people w...  \n",
       "2                What time are You going to Kazimierz?  \n",
       "3    I think it is better for You to go there by bu...  \n",
       "4    Go to Riviera! I should go there yesterday bec...  \n",
       "5    Im not even sure I have depression I think thi...  \n",
       "6    What a fantastic answer but also a really bad ...  \n",
       "7    I had a few people on her write to me over Xma...  \n",
       "8    Quick research scan read. Told you I would... ...  \n",
       "9    I doubt you have no one family is only one par...  \n",
       "10   Hi Hypercat I really didnt mean any offence I ...  \n",
       "11   Great message. Funnily enough I am/was a teach...  \n",
       "12   I do love travelling but now having just had t...  \n",
       "13   We certainly have strong similarities you seem...  \n",
       "14   Thanks for the reply its nice to know youre no...  \n",
       "15   I have read the replies and sympathise with yo...  \n",
       "16   What is it with my compulsion to reply despite...  \n",
       "17   Im not deluded enough to think people wouldnt ...  \n",
       "18   I smiled at that last comment my girlfriend sa...  \n",
       "19   I am in restaurant with my friend but she is g...  \n",
       "20   Ok but I think everything will be closed soon....  \n",
       "21   Hey are You sure that You want meet with me? D...  \n",
       "22   Thank You Shavit! !!! IT was so nice to meet Y...  \n",
       "23   Hi Shavit ! how are You? I moved to Warsaw tod...  \n",
       "24   Hey ! I am sorry I wrote that I would talk to ...  \n",
       "25   I dont know yet but I hope I will be able to c...  \n",
       "26   Resisting the urge to get in to a theological ...  \n",
       "27   Wow thats great. Warm! I wanted to write super...  \n",
       "28   Yes I remember she is NUM. Does she undersand ...  \n",
       "29   Yes I feel it Meybe Your polish side live long...  \n",
       "..                                                 ...  \n",
       "111  Wow...just wow...This game is crazy. And huge....  \n",
       "112  We live tech. We breath tech. We use tech. Fro...  \n",
       "113  Can we just take a moment and be honest? The D...  \n",
       "114  Wow....just wow! The Switch has really come in...  \n",
       "115  So the gist is that someone is going to remedy...  \n",
       "116  Could some of you who purchased an iPhone NUM ...  \n",
       "117  So lets see if we can pin down what the table ...  \n",
       "118  The best way to retain customers in a product ...  \n",
       "119  The Razer is the first major phone to be ackno...  \n",
       "120  So the gist is that someone is going to remedy...  \n",
       "121  Personally I have no need for cellular in my s...  \n",
       "122  Youre an Apple user. You have an iPhone iPad A...  \n",
       "123  Youre an Android user. You have dozens of opti...  \n",
       "124  Check out this article: https://www.google.com...  \n",
       "125  So should Apple go all in on using eye/facial ...  \n",
       "126  Netflix. Hulu. Amazon Prime. HBO Go. Showtime....  \n",
       "127  Since its widely regarded as the best smartpho...  \n",
       "128  So how many of you are getting destroyed in th...  \n",
       "129  So far Im enjoying the beta on my iPad Pro NUM...  \n",
       "130  I just want an open discussion about this topi...  \n",
       "131  My heart wants to believe that all hype around...  \n",
       "132  Currently I have the NUMmm Aluminum Sport mode...  \n",
       "133  So I may be in the minority but Im buying this...  \n",
       "134  So it appears that maybe were headed toward a ...  \n",
       "135  So youre an Indian person living in Russia spe...  \n",
       "136  I mean this with the greatest respect but woul...  \n",
       "137  I love the way you write! It sounds really ver...  \n",
       "138  Typical responces in themselves are not a bad ...  \n",
       "139  I and this thread are probably not the best av...  \n",
       "140  Kick away! Fair enough I dont do much at the m...  \n",
       "\n",
       "[141 rows x 2 columns]"
      ]
     },
     "execution_count": 262,
     "metadata": {},
     "output_type": "execute_result"
    }
   ],
   "source": [
    "import re\n",
    "for index, row in df.iterrows():   \n",
    "    row['message'] = re.sub(r'\\d+','NUM',row['message'])\n",
    "df"
   ]
  },
  {
   "cell_type": "markdown",
   "metadata": {},
   "source": [
    "## from unstructured data to structured data\n",
    "\n",
    "we will use tow different models to convert our data to numeric and store it as vector:  \n",
    "1) BOW (bag of words)  \n",
    "2) TFIDF (term frequency–inverse document frequency)\n",
    "\n",
    "after train the machine learning with each one of them and comparing the results, we will choose the better one for future use."
   ]
  },
  {
   "cell_type": "markdown",
   "metadata": {},
   "source": [
    "#### BOW MODEL\n",
    "\n",
    "now, we want to convert the data to numeric representation (structured data) in order to use it for machine learning. we will use BOW (Bag Of Words) , as we learned in the lecture.  \n",
    "BOW is a model that learns a vocabulary from all the documents, then models each document by counting the number of times each word appears.  \n",
    "in our case, we will build the vocabulary from all the words in all the messages, and than represent each message by vector that indicate number of times each word appears in the message."
   ]
  },
  {
   "cell_type": "code",
   "execution_count": 263,
   "metadata": {
    "collapsed": true,
    "scrolled": true
   },
   "outputs": [],
   "source": [
    "messages = []\n",
    "for index, row in df.iterrows():   \n",
    "    messages.append(row['message'])"
   ]
  },
  {
   "cell_type": "markdown",
   "metadata": {},
   "source": [
    "now we will use CountVectorizer in order to make BOW . we have to notice the following arguments in the constructor:  \n",
    "1) analyzer - size of the feature. (it can be also n-grams) we decided that it will be word because in this case, phase with more than ome word doesnt have special meaning.  \n",
    "2) stop_words - delete most common words in language. we set this value to english because the messages are in english.  \n",
    "3) lowercase - words in lower case and upper case are the same meaning in our case and therefore we chose to set this value as True.\n",
    "4) max_features - the number of words in the vocubulary (features) , we tried with 5000 and saw that we have only 3112 words, the vector of features is not so long, so we decided to stay with this limit. (we are far from the limit but maybe we will have more messages in future, so number of words will increase)."
   ]
  },
  {
   "cell_type": "code",
   "execution_count": 264,
   "metadata": {},
   "outputs": [
    {
     "name": "stdout",
     "output_type": "stream",
     "text": [
      "(141, 3112)\n"
     ]
    }
   ],
   "source": [
    "from sklearn.feature_extraction.text import CountVectorizer\n",
    "vectorizer = CountVectorizer(analyzer = \"word\",   \\\n",
    "                             tokenizer = None,    \\\n",
    "                             preprocessor = None, \\\n",
    "                             stop_words = 'english',   \\\n",
    "                             lowercase = True, \\\n",
    "                             max_features = 5000) \n",
    "# fit_transform() does two functions: First, it fits the model\n",
    "# and learns the vocabulary; second, it transforms our training data\n",
    "# into feature vectors. The input to fit_transform should be a list of \n",
    "# strings.\n",
    "train_data_features = vectorizer.fit_transform(messages)\n",
    "# Numpy arrays are easy to work with, so convert the result to an \n",
    "# array\n",
    "train_data_features = train_data_features.toarray()\n",
    "print (train_data_features.shape)"
   ]
  },
  {
   "cell_type": "markdown",
   "metadata": {},
   "source": [
    "Some clarifications:\n",
    "* because our vector of BOW is not long, we decided not to do stemming and decrease the number of words, because in such a case we think we losing more than we earn, because it will make it more difficult to classify between the types, and we will not get any advantage by a shorter vector.\n",
    "* about tokenizer and preproccessor we didn't specified because there is nothing speacial about them (it important only in case of n-grams)."
   ]
  },
  {
   "cell_type": "markdown",
   "metadata": {},
   "source": [
    "it has 141 rows and 3310 features. each feature is a vocabulary word.  \n",
    "let's take a look at the vocabulary:"
   ]
  },
  {
   "cell_type": "code",
   "execution_count": 265,
   "metadata": {},
   "outputs": [
    {
     "name": "stdout",
     "output_type": "stream",
     "text": [
      "['_silellak_', '_too_', 'abilities', 'ability', 'able', 'abo', 'aboves', 'abroad', 'absence', 'absolute', 'absolutely', 'absolve', 'abuse', 'abused', 'accelerates', 'accept', 'acceptable', 'accepted', 'accepting', 'access', 'accident', 'account', 'accounts', 'accusations', 'accused', 'acheive', 'acheivement', 'achieve', 'achievement', 'achievements', 'acknowledge', 'acknowledged', 'act', 'acting', 'action', 'actions', 'active', 'activities', 'activity', 'actresses', 'acts', 'actual', 'actually', 'add', 'added', 'addicted', 'adding', 'addition', 'additional', 'additionally', 'addon', 'addons', 'address', 'addresses', 'adds', 'admire', 'admission', 'admit', 'advance', 'advanced', 'advances', 'advancing', 'advantage', 'advent', 'adventure', 'advice', 'af', 'afar', 'affecting', 'affection', 'affluent', 'afford', 'afraid', 'age', 'aggressively', 'ago', 'agree', 'agreeing', 'aim', 'air', 'alcohol', 'alcoholic', 'alive', 'alliance', 'allow', 'allowed', 'alrest', 'alright', 'altered', 'alternate', 'alternately', 'alternative', 'alternatively', 'aluminum', 'alzhaimer', 'amazing', 'amazon', 'ambition', 'america', 'american', 'americans', 'amoled', 'amp', 'amsterdam', 'analyse', 'analytical', 'android', 'anger', 'angry', 'animal', 'animation', 'annoying', 'anonymous', 'anorexia', 'answer', 'answering', 'answers', 'ant', 'antenna', 'anxiety', 'anybody', 'anymore', 'apathetic', 'apathy', 'ape', 'apeing', 'aperture', 'apologise', 'apologize', 'app', 'apparent', 'apparently', 'appealed', 'appeals', 'appear', 'appearance', 'appears', 'applauded', 'apple', 'apples', 'apply', 'appointment', 'appreciate', 'appreciated', 'approach', 'approaches', 'appropriate', 'apps', 'aprill', 'archaic', 'architect', 'archive', 'area', 'areas', 'arent', 'argent', 'argue', 'arguing', 'argument', 'arguments', 'arise', 'arms', 'arrow', 'article', 'articles', 'asia', 'aside', 'ask', 'asked', 'asking', 'aspect', 'aspects', 'aspiring', 'assessment', 'assignment', 'assist', 'associated', 'associations', 'assualting', 'assure', 'attached', 'attack', 'attacks', 'attempt', 'attempting', 'attempts', 'attention', 'attracted', 'audio', 'australia', 'authors', 'autistic', 'auto', 'ava', 'availability', 'available', 'avenue', 'average', 'avoid', 'avoiding', 'awakens', 'award', 'awarded', 'aware', 'awareness', 'away', 'awful', 'awkward', 'azeroth', 'aziz', 'azizansarinum', 'babe', 'baby', 'backed', 'backfire', 'backing', 'backwards', 'bad', 'badly', 'bag', 'bags', 'balkan', 'ball', 'balloon', 'balls', 'band', 'bands', 'bandwagon', 'banfield', 'bang', 'bangkok', 'bar', 'barely', 'bas', 'base', 'based', 'basic', 'basically', 'basics', 'batman', 'battery', 'battle', 'battlefield', 'battles', 'battlestone', 'battletraining', 'battling', 'beach', 'beard', 'beast', 'beat', 'beats', 'beautiful', 'bed', 'beers', 'begin', 'beginning', 'behaviour', 'belief', 'beliefs', 'believe', 'believed', 'belive', 'belotte', 'beloved', 'bend', 'beneath', 'benefit', 'benefits', 'benefitting', 'berlin', 'best', 'bet', 'beta', 'better', 'bezels', 'bff', 'bi', 'bien', 'big', 'biggest', 'billard', 'bills', 'bisous', 'bit', 'bits', 'black', 'blamelessly', 'blaming', 'bleak', 'blew', 'blind', 'blinkered', 'blizzard', 'blockbuster', 'bloke', 'bloomin', 'blow', 'blows', 'boa', 'boards', 'boat', 'body', 'boggles', 'bonds', 'bonus', 'book', 'boost', 'boosts', 'bordering', 'borderline', 'bored', 'boring', 'boss', 'bosses', 'bother', 'bothering', 'bottle', 'botw', 'bound', 'bounty', 'box', 'boyfriend', 'brain', 'branching', 'brand', 'bravado', 'brazil', 'break', 'breakdown', 'breaker', 'breath', 'breed', 'breeds', 'bring', 'brings', 'broad', 'broke', 'broken', 'bros', 'brushes', 'budapest', 'budget', 'bug', 'build', 'built', 'bullied', 'bungeejumping', 'burden', 'burdn', 'buried', 'bus', 'buses', 'business', 'busy', 'button', 'buttons', 'buy', 'buying', 'bvs', 'bye', 'cable', 'cage', 'caged', 'caging', 'california', 'called', 'calls', 'calmed', 'cambodge', 'cambodgia', 'cambodia', 'came', 'camera', 'cameras', 'campaigns', 'camper', 'camping', 'cancer', 'cap', 'capital', 'capture', 'car', 'care', 'cared', 'career', 'careful', 'cares', 'carry', 'case', 'cases', 'cast', 'castle', 'cat', 'catch', 'catholics', 'cattery', 'caught', 'caulo', 'cause', 'caused', 'causes', 'causing', 'caveat', 'cbt', 'celcius', 'celebrate', 'celebrity', 'celestial', 'cellular', 'central', 'certain', 'certainly', 'cham', 'champions', 'chance', 'chances', 'chang', 'change', 'changed', 'changes', 'character', 'characteristic', 'characters', 'charged', 'charging', 'charms', 'chat', 'chatty', 'cheap', 'cheaper', 'check', 'checking', 'cheers', 'child', 'childhood', 'childrens', 'choice', 'choices', 'choose', 'choosing', 'chore', 'christmas', 'chrome', 'chromebook', 'chromeboom', 'chromeunboxed', 'chronicles', 'chunks', 'churn', 'circle', 'circumstance', 'circumstances', 'cities', 'city', 'civil', 'clad', 'claim', 'claims', 'clarify', 'class', 'classes', 'classic', 'clear', 'cleared', 'clearly', 'clever', 'click', 'clicking', 'climate', 'close', 'closed', 'closer', 'closest', 'cloud', 'clouds', 'club', 'clubs', 'cmos', 'cohen', 'coins', 'cold', 'collapses', 'colleagues', 'collect', 'collection', 'collectors', 'color', 'colors', 'colour', 'com', 'combat', 'combination', 'combine', 'combo', 'come', 'comes', 'comfort', 'comfortable', 'comics', 'coming', 'commander', 'commands', 'comment', 'commenting', 'comments', 'common', 'communicated', 'community', 'companion', 'company', 'comparable', 'compare', 'compared', 'comparing', 'compassionate', 'compelling', 'competition', 'compiling', 'complain', 'complete', 'completed', 'completely', 'completing', 'complications', 'compliment', 'component', 'compostella', 'compounds', 'compromise', 'compromises', 'compulsion', 'computer', 'concern', 'concerned', 'concerns', 'concert', 'conclusion', 'conclusions', 'condemning', 'condense', 'condition', 'conditions', 'confidence', 'confident', 'confirm', 'confused', 'confusion', 'congrats', 'connection', 'connections', 'considerably', 'considered', 'considering', 'considers', 'consistent', 'constant', 'constantly', 'constructive', 'consumers', 'consuming', 'contact', 'contacts', 'contains', 'content', 'contention', 'context', 'continue', 'continuity', 'continuous', 'contrast', 'control', 'controlled', 'controller', 'controllers', 'controls', 'conver', 'conversation', 'convince', 'convinced', 'cool', 'cope', 'copy', 'corgi', 'corner', 'cornish', 'correct', 'correctly', 'cost', 'count', 'counted', 'counter', 'country', 'couple', 'courage', 'course', 'cover', 'covered', 'cowardly', 'cowell', 'cr', 'craft', 'crannies', 'crap', 'crappy', 'crashes', 'crashing', 'crazy', 'cream', 'creams', 'created', 'creates', 'credit', 'crew', 'criminals', 'cringe', 'criticism', 'croaita', 'crucial', 'crunchy', 'crz', 'culture', 'cure', 'current', 'currently', 'curse', 'curtains', 'curve', 'customers', 'cut', 'cycle', 'cycles', 'cycling', 'cynical', 'daily', 'damage', 'damned', 'dance', 'dark', 'daughter', 'daughters', 'day', 'days', 'daytime', 'dc', 'dceu', 'dcs', 'dead', 'deadly', 'deal', 'dealing', 'dealt', 'death', 'debate', 'decent', 'decide', 'decided', 'decision', 'decisions', 'deep', 'deeper', 'deepest', 'defeated', 'defeatest', 'defense', 'definitely', 'degree', 'degres', 'delay', 'delicate', 'deliver', 'delivered', 'delivery', 'deluded', 'demons', 'departments', 'departure', 'depending', 'depends', 'depress', 'depressed', 'depresses', 'depressing', 'depression', 'depths', 'desert', 'deserts', 'deserve', 'deserved', 'design', 'designed', 'desire', 'despise', 'despite', 'destination', 'destroyed', 'destruction', 'destructive', 'detach', 'detectables', 'detection', 'detrimented', 'device', 'devices', 'devote', 'diagnosis', 'dicey', 'did', 'didnt', 'die', 'died', 'diet', 'differ', 'difference', 'different', 'differently', 'differetiation', 'diffic', 'difficult', 'difficulty', 'dignity', 'dilusions', 'dimmer', 'dip', 'diposal', 'directed', 'direction', 'directional', 'directly', 'directors', 'dirty', 'disable', 'disagree', 'disappear', 'disappeared', 'disappointed', 'disappointment', 'disaster', 'discourage', 'discuss', 'discussed', 'discussion', 'discussions', 'disease', 'disgusted', 'disgusting', 'dismissive', 'disney', 'disneyland', 'display', 'displaying', 'displays', 'distract', 'divers', 'diversity', 'divisive', 'dk', 'doc', 'doctor', 'doctors', 'documents', 'does', 'doesnt', 'dog', 'doing', 'dolny', 'domination', 'dont', 'door', 'dorian', 'dos', 'doubled', 'doubt', 'doubted', 'downright', 'downs', 'downtime', 'downward', 'dozens', 'draenic', 'draenor', 'drag', 'dragons', 'draining', 'drama', 'dramas', 'dramatic', 'dream', 'dreams', 'drink', 'drive', 'driven', 'drop', 'dropped', 'drops', 'drug', 'drugs', 'dual', 'dualtone', 'dumbfounded', 'duration', 'duty', 'earlier', 'early', 'earned', 'ease', 'easier', 'easily', 'east', 'easy', 'easygoing', 'eat', 'eater', 'echo', 'ecosystem', 'ecosystems', 'ectrum', 'edge', 'education', 'effect', 'effecting', 'effectively', 'effects', 'effort', 'efforts', 'eh', 'element', 'elements', 'elevating', 'elfquest', 'eligible', 'elwyn', 'email', 'embed', 'embedded', 'emerald', 'emotion', 'emotional', 'emotionally', 'empathise', 'enables', 'encounter', 'encourage', 'encouraging', 'end', 'ended', 'ending', 'endings', 'endless', 'enemies', 'enemy', 'energy', 'engine', 'english', 'enjoy', 'enjoyed', 'enjoying', 'enjoyment', 'enriched', 'entertaining', 'entertainment', 'entire', 'entirety', 'enventually', 'envious', 'environment', 'envy', 'epic', 'epitomy', 'equal', 'equally', 'equipped', 'escalated', 'escape', 'escaped', 'especially', 'especialy', 'establish', 'euro', 'europe', 'eve', 'evening', 'event', 'events', 'eventually', 'everobody', 'everybody', 'everyday', 'everyones', 'evil', 'evolve', 'ex', 'exactly', 'examen', 'examine', 'example', 'excel', 'exceptional', 'excited', 'exciting', 'exclusively', 'excuse', 'exemple', 'exept', 'exercise', 'exercising', 'exist', 'expansion', 'expect', 'expectations', 'expected', 'expecting', 'expects', 'expensive', 'experience', 'experienced', 'experiences', 'experiencing', 'expert', 'experts', 'explain', 'explained', 'explanation', 'explanations', 'exploration', 'exploring', 'express', 'extension', 'extent', 'externally', 'extra', 'extras', 'extreme', 'extremely', 'extrememly', 'eye', 'eyes', 'face', 'facebook', 'faceless', 'facial', 'facing', 'fact', 'faction', 'facts', 'fade', 'fail', 'failed', 'failure', 'failures', 'fair', 'fairly', 'faith', 'fake', 'fall', 'fallen', 'familiar', 'families', 'family', 'familys', 'famous', 'fan', 'fanning', 'fans', 'fantastic', 'fantasy', 'far', 'fast', 'faster', 'fathom', 'fault', 'fears', 'features', 'feb', 'february', 'fed', 'feed', 'feel', 'feeling', 'feelings', 'feels', 'felt', 'feltouched', 'female', 'feminist', 'ferried', 'fight', 'fighting', 'fights', 'figure', 'file', 'filled', 'film', 'films', 'final', 'finally', 'finances', 'financial', 'financially', 'finding', 'fine', 'fingerprint', 'finish', 'finished', 'finite', 'finland', 'finn', 'fired', 'firstly', 'fit', 'fitness', 'fix', 'fixable', 'fixed', 'flames', 'flash', 'flashes', 'flattered', 'flaw', 'flawless', 'flaws', 'flee', 'flight', 'flip', 'flood', 'flop', 'fluffy', 'fly', 'fnum', 'focus', 'focused', 'focusing', 'foe', 'foes', 'follow', 'followed', 'following', 'follows', 'foot', 'football', 'force', 'forced', 'foreign', 'foremost', 'forest', 'forever', 'forget', 'forgetable', 'forgettable', 'forgiving', 'forgot', 'forgotten', 'form', 'fortunately', 'forum', 'forums', 'forward', 'fought', 'foul', 'foundation', 'fps', 'fragile', 'france', 'fray', 'freaking', 'freaks', 'free', 'freely', 'freetoplay', 'freeze', 'french', 'friend', 'friendlier', 'friendly', 'friends', 'friendsfootball', 'frustrating', 'fuctioning', 'fullresolution', 'fully', 'fun', 'functions', 'funnily', 'funny', 'future', 'gain', 'gains', 'galactic', 'galaxy', 'game', 'games', 'gaming', 'garrison', 'gathering', 'gatherings', 'gave', 'gear', 'gearing', 'general', 'generally', 'generic', 'generous', 'genetic', 'genetically', 'genius', 'genuine', 'genuinely', 'geographical', 'gets', 'getting', 'gf', 'gfs', 'ghostbusters', 'gift', 'girl', 'girlfriend', 'girls', 'gist', 'given', 'gives', 'giving', 'glad', 'glass', 'glimpse', 'gmail', 'goal', 'goes', 'goin', 'going', 'gold', 'golden', 'gone', 'gonna', 'good', 'goods', 'google', 'googleevenewlaptoppatentchromebook', 'googles', 'got', 'gotten', 'gracias', 'grammar', 'grand', 'grandchild', 'grandfather', 'grandmother', 'grant', 'granted', 'grass', 'grateful', 'great', 'greatest', 'greatly', 'green', 'greener', 'grey', 'grip', 'group', 'groups', 'grow', 'grown', 'grrr', 'grumpy', 'gruntling', 'guide', 'guiding', 'guild', 'guilt', 'gun', 'guy', 'guys', 'gve', 'gyroscopebased', 'ha', 'hadnt', 'haha', 'hahaha', 'halping', 'hand', 'hands', 'happen', 'happening', 'happens', 'happier', 'happily', 'happy', 'harassment', 'hard', 'harder', 'hardware', 'hat', 'hate', 'hateable', 'haters', 'hav', 'havent', 'having', 'hawaii', 'hbo', 'head', 'headed', 'headphone', 'heals', 'health', 'healthily', 'healthy', 'hear', 'heard', 'heart', 'heartless', 'hearts', 'heavier', 'heavily', 'heavy', 'hebrew', 'heck', 'hectic', 'hefty', 'hehehe', 'height', 'heighten', 'held', 'hell', 'help', 'helped', 'helpful', 'helping', 'helps', 'herald', 'heres', 'hes', 'hey', 'hfas', 'hfsa', 'hi', 'hidden', 'hide', 'hides', 'high', 'higher', 'highest', 'highlight', 'highly', 'hinge', 'hint', 'history', 'hit', 'hola', 'hold', 'holding', 'hole', 'holes', 'holidays', 'holiding', 'hollywood', 'holy', 'home', 'homepod', 'honest', 'honestly', 'hope', 'hoped', 'hopefully', 'hopeless', 'hopelessness', 'hoping', 'horde', 'horrible', 'horsepower', 'hospital', 'hostel', 'hostels', 'hostile', 'hosting', 'hot', 'hotel', 'hotfix', 'hour', 'hours', 'house', 'hows', 'howto', 'https', 'hud', 'hug', 'huge', 'hugs', 'hulu', 'human', 'humongous', 'humour', 'hunters', 'hurt', 'hurting', 'husband', 'hype', 'hypercat', 'hyrule', 'ibiza', 'icon', 'id', 'idea', 'idealist', 'ideas', 'identical', 'identified', 'identity', 'idiot', 'ignore', 'ignored', 'ignoring', 'ilable', 'ill', 'illness', 'illusions', 'im', 'images', 'imagine', 'immediate', 'immediately', 'impact', 'impacting', 'impacts', 'implement', 'important', 'importantly', 'impossible', 'impressed', 'impression', 'impressive', 'improve', 'improvements', 'improving', 'inability', 'inaction', 'inadequacy', 'include', 'included', 'incorporate', 'incorrect', 'incorrectly', 'increase', 'increased', 'incredibles', 'index', 'india', 'indian', 'individual', 'ineligible', 'inevitably', 'infectious', 'inferior', 'infinitely', 'infinity', 'info', 'information', 'ingame', 'initial', 'injustice', 'ins', 'insane', 'insects', 'inserting', 'inside', 'insightful', 'insignificance', 'inspiration', 'install', 'instance', 'instances', 'instantly', 'instead', 'intelligent', 'intended', 'intends', 'intensity', 'intent', 'intention', 'intentioned', 'interaction', 'interent', 'interested', 'interesting', 'interests', 'intergration', 'internally', 'internet', 'internship', 'internships', 'intimidating', 'introduced', 'inventory', 'investment', 'invisible', 'invloves', 'involving', 'ios', 'iota', 'ipad', 'ipads', 'iphone', 'irony', 'irrelevant', 'irritated', 'island', 'isle', 'isnt', 'israel', 'israelian', 'issue', 'issues', 'itai', 'itaicohennum', 'itd', 'item', 'items', 'itis', 'itll', 'ittle', 'ive', 'izrael', 'jack', 'jaded', 'january', 'japanese', 'je', 'jealous', 'jedi', 'jews', 'job', 'jobs', 'jogging', 'join', 'joined', 'jokey', 'joking', 'journal', 'journalist', 'jp', 'jrpg', 'judge', 'judgement', 'juggling', 'jumped', 'jumping', 'jungle', 'jungles', 'just', 'justice', 'kanpong', 'kao', 'kart', 'katie', 'kazimierz', 'keel', 'keeping', 'keeps', 'kept', 'keyboard', 'keyboards', 'keys', 'kick', 'kicked', 'kicks', 'kickstand', 'kids', 'kill', 'killer', 'kills', 'kin', 'kind', 'king', 'kiss', 'kisses', 'kitchen', 'km', 'knew', 'knock', 'know', 'knowing', 'knowledge', 'known', 'knows', 'ko', 'koh', 'korea', 'krakow', 'la', 'label', 'labelling', 'labels', 'lack', 'lacking', 'lacks', 'lak', 'land', 'landscape', 'landscapes', 'language', 'lanta', 'lanterns', 'lap', 'laptop', 'laptops', 'large', 'largely', 'larger', 'laserassistance', 'lasted', 'late', 'later', 'latest', 'latino', 'launch', 'launching', 'lay', 'lazy', 'leaching', 'lead', 'leading', 'league', 'leans', 'learn', 'learned', 'learning', 'leave', 'leaving', 'led', 'left', 'legendary', 'legimate', 'legion', 'legitimate', 'length', 'lengths', 'lesser', 'lesson', 'lessons', 'let', 'lets', 'letter', 'letters', 'letting', 'level', 'leveled', 'leveling', 'levels', 'lg', 'lie', 'life', 'lifetime', 'lift', 'lifting', 'light', 'like', 'liked', 'likely', 'likes', 'limbs', 'limit', 'limitations', 'limited', 'line', 'lineup', 'link', 'linkers', 'lio', 'lioness', 'lisbon', 'listed', 'listen', 'listing', 'literally', 'little', 'live', 'lived', 'lively', 'lives', 'living', 'lo', 'loads', 'local', 'location', 'locked', 'logical', 'lonely', 'loner', 'long', 'longer', 'longest', 'look', 'looked', 'looking', 'looks', 'lose', 'loser', 'loss', 'lost', 'lot', 'lots', 'lottery', 'loud', 'love', 'loved', 'lovely', 'low', 'lowbies', 'lower', 'lowerquality', 'lowest', 'lowlevel', 'lublin', 'luck', 'luckier', 'lucky', 'luke', 'lurking', 'lush', 'luxuries', 'mac', 'macro', 'magic', 'magically', 'mai', 'main', 'mainstream', 'maintain', 'maintaining', 'major', 'make', 'makers', 'makes', 'making', 'male', 'man', 'manages', 'mangas', 'manic', 'manner', 'mannerisms', 'mans', 'manual', 'march', 'mario', 'mark', 'marked', 'market', 'marriage', 'marrigate', 'massive', 'massively', 'master', 'masterbate', 'match', 'matter', 'max', 'maybe', 'mcdonald', 'mcu', 'mean', 'meaningless', 'means', 'meant', 'measure', 'measured', 'measurement', 'mechanic', 'media', 'medias', 'medication', 'medicinal', 'medicine', 'meds', 'meet', 'meeting', 'meetings', 'meh', 'member', 'members', 'men', 'menagerie', 'mental', 'mention', 'mentioned', 'merely', 'mess', 'message', 'messages', 'messanger', 'messed', 'messes', 'met', 'metal', 'metaphor', 'metaphorical', 'method', 'metoo', 'meybe', 'mick', 'microsoft', 'microsofts', 'mid', 'mild', 'mildly', 'million', 'mind', 'minded', 'minigame', 'minigames', 'minilabels', 'minimap', 'minimum', 'minor', 'minority', 'minutes', 'miracle', 'misconception', 'miss', 'missed', 'missing', 'missions', 'mistake', 'mists', 'misuse', 'mix', 'mknum', 'mobile', 'mode', 'model', 'moe', 'molten', 'moment', 'moments', 'monday', 'money', 'monica', 'month', 'months', 'mood', 'mop', 'mortgages', 'mos', 'moth', 'mother', 'motorola', 'mouse', 'moustache', 'moved', 'movement', 'moves', 'movie', 'moviegoer', 'movies', 'moving', 'mpossible', 'mr', 'mrs', 'multipet', 'multiple', 'mundane', 'muslims', 'muted', 'mutually', 'myelf', 'mystery', 'mystic', 'naming', 'native', 'naturally', 'nature', 'nd', 'near', 'nearby', 'nearly', 'need', 'needed', 'needing', 'needs', 'negative', 'negatively', 'negatives', 'neighbors', 'neighbours', 'net', 'netflix', 'new', 'newer', 'newest', 'news', 'nice', 'nicer', 'night', 'nightclubs', 'nightmare', 'nintendo', 'nintendos', 'nitpick', 'niuzao', 'nk', 'nods', 'noise', 'nonexistant', 'nonexistent', 'nooks', 'normal', 'normally', 'north', 'northrend', 'note', 'notenum', 'nothings', 'notice', 'noticed', 'npc', 'npcs', 'num', 'number', 'numbers', 'numerous', 'numfps', 'numg', 'numhz', 'numk', 'numm', 'nummm', 'nummp', 'numnnums', 'nump', 'numpet', 'nums', 'numyrs', 'nutcracker', 'nuts', 'nypost', 'obscene', 'obsessed', 'obtain', 'obtained', 'obvious', 'obviously', 'occasionally', 'ocd', 'odd', 'odyssey', 'oem', 'oems', 'offence', 'offensive', 'offer', 'offerings', 'office', 'ofsted', 'oh', 'ok', 'okay', 'old', 'older', 'olds', 'oled', 'omitting', 'ones', 'onfines', 'online', 'onsensor', 'ooks', 'oooooh', 'open', 'opening', 'opinion', 'opinions', 'opponent', 'opportunities', 'option', 'options', 'order', 'ordinary', 'organised', 'original', 'orphan', 'orphans', 'ortodox', 'os', 'ou', 'ounce', 'outcast', 'outland', 'outs', 'outside', 'overall', 'overdue', 'overload', 'overly', 'overqualified', 'overseen', 'overthinking', 'overtime', 'overunning', 'overwhelm', 'owl', 'owlevel', 'owned', 'owner', 'owners', 'oz', 'pad', 'pag', 'page', 'pahgan', 'pahgnan', 'pahngan', 'pai', 'paid', 'pain', 'pandaria', 'panghan', 'panic', 'panther', 'paolo', 'paperwork', 'paranoia', 'paraphrase', 'parcel', 'parent', 'parents', 'paris', 'partially', 'participated', 'particuarly', 'particular', 'particularly', 'parties', 'partner', 'partners', 'parts', 'party', 'pass', 'passing', 'passion', 'past', 'paste', 'patch', 'patent', 'path', 'pathetic', 'paths', 'patience', 'patient', 'patients', 'paulsinbc', 'paws', 'pay', 'paying', 'pcs', 'pedophile', 'people', 'peoples', 'perfect', 'perfectionist', 'perfectly', 'perform', 'period', 'periodically', 'periods', 'person', 'persona', 'personal', 'personalised', 'personality', 'personally', 'persons', 'perspective', 'pertinently', 'pet', 'petbattle', 'pets', 'petty', 'phase', 'phem', 'philosophy', 'phone', 'phones', 'photo', 'photos', 'physical', 'physically', 'pick', 'picked', 'picture', 'pictures', 'piddly', 'piece', 'pin', 'ping', 'pirating', 'pixel', 'pixels', 'place', 'placed', 'places', 'plaguing', 'plain', 'plan', 'plane', 'planet', 'planning', 'plans', 'plastic', 'plate', 'platform', 'platforms', 'play', 'player', 'players', 'playing', 'playstation', 'pleasant', 'pleased', 'pleaser', 'pleasure', 'plentiful', 'plenty', 'plunge', 'plus', 'pm', 'pnhon', 'pocket', 'pod', 'point', 'pointing', 'pointless', 'points', 'pokemon', 'poland', 'polandgermany', 'polar', 'polish', 'polished', 'polite', 'political', 'politics', 'pooper', 'poor', 'popular', 'portability', 'portal', 'portrait', 'portugal', 'positive', 'positively', 'possibility', 'possible', 'possibly', 'post', 'posted', 'posts', 'potential', 'potentially', 'potter', 'pouring', 'power', 'powerlevel', 'practical', 'prague', 'prefer', 'preferably', 'prepare', 'prepared', 'present', 'presenting', 'presents', 'pressed', 'pressing', 'pressure', 'pressures', 'pretence', 'pretend', 'pretty', 'prevalent', 'previous', 'price', 'pricing', 'pride', 'primary', 'prime', 'printouts', 'pristine', 'pro', 'proactive', 'probably', 'problem', 'problems', 'proceed', 'process', 'processes', 'produce', 'producers', 'product', 'profecies', 'profession', 'professional', 'professionals', 'profit', 'programmed', 'progress', 'projects', 'prominence', 'promise', 'promptly', 'pronunciacion', 'proof', 'proper', 'properly', 'proportions', 'prospects', 'protect', 'protecting', 'proved', 'providing', 'pts', 'pub', 'public', 'pull', 'punctuation', 'purchase', 'purchased', 'pure', 'purely', 'purpose', 'push', 'putting', 'pve', 'pvp', 'qualified', 'quality', 'quest', 'question', 'questionably', 'questions', 'questline', 'quests', 'quick', 'quicker', 'quickly', 'quiet', 'quintessence', 'quirks', 'quit', 'quite', 'quo', 'race', 'raf', 'rain', 'raining', 'rainman', 'raised', 'raising', 'ralph', 'ram', 'rambling', 'random', 'rant', 'rare', 'rarely', 'rate', 'rates', 'rational', 'rawsupport', 'razer', 'reach', 'reached', 'read', 'readily', 'reading', 'ready', 'real', 'realise', 'realises', 'realistic', 'realistically', 'reality', 'really', 'reap', 'reason', 'reasonable', 'reasonably', 'reasons', 'receive', 'received', 'recent', 'recluse', 'recognise', 'recognising', 'recognition', 'recomend', 'record', 'red', 'reduce', 'reduced', 'reducing', 'reels', 'refered', 'reflecting', 'reflects', 'refresh', 'refute', 'regarded', 'regarding', 'regardless', 'regards', 'regimes', 'region', 'regret', 'regrets', 'reguarly', 'relabled', 'relate', 'relationship', 'relationships', 'relatively', 'relax', 'relaxed', 'release', 'relegation', 'relevant', 'religion', 'religious', 'remainded', 'remedy', 'remember', 'remembered', 'reminds', 'remotest', 'remove', 'removed', 'rename', 'rent', 'repeat', 'replacement', 'replied', 'replies', 'reply', 'report', 'reportage', 'reported', 'reporter', 'reporterbehindansaristorycriticizeshlnhostslooksinscathingemail', 'represent', 'require', 'requirements', 'requires', 'research', 'researched', 'reselling', 'resisting', 'resolution', 'resources', 'respect', 'respects', 'respite', 'responces', 'respond', 'response', 'responses', 'responsibility', 'responsible', 'rest', 'restart', 'restaurant', 'rested', 'restored', 'result', 'results', 'retain', 'retirement', 'return', 'returned', 'reveal', 'reverted', 'revive', 'revolving', 'reward', 'rewarded', 'rewards', 'rex', 'rich', 'rid', 'riddled', 'ridiculous', 'ridiculously', 'right', 'rightclick', 'rightclicking', 'rightly', 'rise', 'risks', 'river', 'riviera', 'road', 'rocking', 'roll', 'rong', 'room', 'rosetinted', 'route', 'routines', 'rudeness', 'rules', 'rumors', 'rumunia', 'run', 'running', 'runs', 'ruska', 'russia', 'russian', 'sabotage', 'sad', 'saddled', 'safari', 'safe', 'safety', 'saga', 'said', 'saightseeing', 'sake', 'sale', 'sales', 'samaritans', 'samlaem', 'samsung', 'sandy', 'sane', 'santa', 'santiago', 'sarajevo', 'sarcasm', 'sarcastically', 'sation', 'saturation', 'save', 'saw', 'say', 'saying', 'says', 'scales', 'scan', 'scare', 'scared', 'scattered', 'schedul', 'school', 'scrap', 'scratch', 'screen', 'screenwriters', 'scrolling', 'scutinised', 'se', 'seamless', 'searching', 'seat', 'second', 'secondary', 'section', 'sections', 'security', 'seeing', 'seek', 'seeking', 'seen', 'sees', 'seizures', 'select', 'selection', 'self', 'selfdiagnosing', 'selfesteem', 'selffullfillng', 'selfinflicted', 'selfish', 'sell', 'semantic', 'semi', 'send', 'sends', 'sense', 'sensor', 'sensors', 'sentences', 'separate', 'september', 'series', 'seriously', 'serrah', 'server', 'service', 'services', 'session', 'set', 'sets', 'setting', 'sexual', 'sh', 'shabat', 'shake', 'shaking', 'shape', 'sharable', 'share', 'shared', 'sharing', 'shav', 'shavi', 'shavit', 'shed', 'shell', 'shes', 'shift', 'ship', 'shoot', 'shop', 'shops', 'short', 'shot', 'shoulders', 'shouldnt', 'showtime', 'shrug', 'shut', 'shylir', 'siam', 'siblings', 'sightseeing', 'sign', 'significant', 'signposted', 'signposting', 'signs', 'silly', 'similar', 'similarities', 'simple', 'simply', 'singing', 'single', 'sister', 'sisters', 'site', 'sites', 'sith', 'situation', 'situations', 'size', 'sizes', 'skill', 'skills', 'skin', 'skydiving', 'skywalkers', 'slant', 'slaps', 'sleep', 'sleeping', 'slightly', 'sling', 'slips', 'slot', 'slower', 'slowmotion', 'small', 'smaller', 'smartphone', 'smartspeakers', 'smartwatch', 'smiled', 'smoke', 'snail', 'snappy', 'snowy', 'soak', 'sociable', 'social', 'socialising', 'socially', 'society', 'softly', 'software', 'sold', 'soldiers', 'solely', 'solo', 'solution', 'solutions', 'solve', 'solved', 'somewhat', 'sonos', 'sony', 'soon', 'sooner', 'sorry', 'sort', 'sorted', 'sorting', 'sound', 'sounding', 'sounds', 'source', 'souvenirs', 'sp', 'space', 'spaces', 'spain', 'spanish', 'spark', 'spawn', 'speak', 'speaking', 'special', 'specific', 'specs', 'speed', 'spend', 'spending', 'spent', 'spin', 'spiral', 'spirit', 'spiritualty', 'split', 'spoil', 'sporadically', 'sport', 'sports', 'sportsman', 'spot', 'spring', 'squad', 'squire', 'stabbing', 'stability', 'stabilization', 'stablemates', 'stack', 'stakes', 'stances', 'stand', 'standard', 'standing', 'star', 'start', 'started', 'starter', 'starting', 'stat', 'state', 'statement', 'statements', 'station', 'status', 'stay', 'staying', 'steel', 'steep', 'step', 'steppes', 'stew', 'stewing', 'sth', 'stick', 'sticky', 'stitch', 'stone', 'stones', 'stop', 'stopped', 'stops', 'storage', 'store', 'storm', 'stormwind', 'story', 'strange', 'stranger', 'strangers', 'strategy', 'streaming', 'street', 'strength', 'stress', 'stressed', 'stressful', 'strikes', 'string', 'strong', 'stronger', 'strongest', 'strongly', 'struggle', 'struggles', 'struggling', 'strugling', 'stubbornness', 'stuck', 'students', 'studio', 'study', 'studying', 'stuff', 'stumbled', 'stunned', 'stupid', 'stupidity', 'style', 'subconciously', 'subjected', 'subsides', 'substance', 'succeed', 'success', 'successful', 'successfully', 'suceeds', 'sudden', 'suddenly', 'suffer', 'suffering', 'suggest', 'suggested', 'suggestions', 'suggests', 'suicidal', 'suicide', 'suit', 'suitable', 'sum', 'summary', 'summer', 'summon', 'sun', 'sunday', 'sunflower', 'sunny', 'sunshine', 'super', 'superb', 'superior', 'superman', 'supplant', 'supplies', 'supply', 'support', 'supportive', 'supposed', 'suprised', 'sure', 'surface', 'surprised', 'surprisingly', 'surrounded', 'survey', 'survive', 'surviving', 'suspect', 'sustainable', 'swap', 'sway', 'sweet', 'swims', 'switch', 'switching', 'sword', 'swords', 'sydrome', 'symathise', 'symbolic', 'sympathise', 'symptom', 'symptoms', 'synagogue', 'synergistic', 'synergy', 'table', 'tablet', 'tablets', 'tail', 'taken', 'taking', 'talent', 'talented', 'talents', 'talk', 'talked', 'talking', 'tall', 'tamer', 'tamers', 'taming', 'tamples', 'tanaan', 'tao', 'tap', 'tapping', 'target', 'taste', 'taught', 'teach', 'teacher', 'teachers', 'teaching', 'team', 'tech', 'technology', 'teenage', 'teenager', 'telephone', 'telephones', 'television', 'tell', 'telling', 'tembrasse', 'temple', 'temporarily', 'tendancies', 'tenderhearted', 'term', 'terms', 'terrible', 'terrified', 'terrifies', 'test', 'texted', 'th', 'thai', 'thailand', 'thank', 'thankful', 'thanks', 'thats', 'theatlantic', 'thehumiliationofazizansari', 'theological', 'theories', 'theorycrafting', 'therapist', 'therapy', 'theres', 'thesis', 'theyd', 'theyll', 'theyre', 'theyve', 'thi', 'thing', 'things', 'think', 'thinking', 'thinks', 'thirdparty', 'tho', 'thorugh', 'thoughout', 'thought', 'thoughts', 'thread', 'threw', 'throughly', 'thx', 'tick', 'ticket', 'tickets', 'tied', 'time', 'timeless', 'times', 'timing', 'timmain', 'tipping', 'tips', 'tired', 'tiring', 'titans', 'title', 'titles', 'today', 'told', 'tomorow', 'tomorrow', 'ton', 'tone', 'tonight', 'took', 'toons', 'topic', 'total', 'touch', 'touching', 'tour', 'tourists', 'tournament', 'tout', 'towie', 'townalong', 'towns', 'toxic', 'track', 'trade', 'trail', 'trailer', 'train', 'trained', 'trainer', 'training', 'transfixed', 'trap', 'traps', 'traumas', 'traumatic', 'travel', 'travelled', 'travelling', 'treat', 'treating', 'treatment', 'treats', 'trek', 'trial', 'triangle', 'tribunals', 'trichotillomania', 'tricks', 'tricky', 'tried', 'trifecta', 'trigger', 'triggers', 'trip', 'trooper', 'true', 'truly', 'try', 'trying', 'tthatd', 'tuesday', 'turn', 'turnip', 'turns', 'tutorials', 'tutoriorls', 'tv', 'twist', 'type', 'types', 'typic', 'typical', 'ugly', 'uk', 'ul', 'ulica', 'ult', 'ultimate', 'ultimately', 'unable', 'unacceptable', 'uncommon', 'uncurl', 'undersand', 'understand', 'understanding', 'understands', 'undo', 'uneasy', 'uneducated', 'unemployment', 'unexpected', 'unfit', 'unfortunate', 'unfortunately', 'ungrateful', 'unhappy', 'unique', 'universe', 'university', 'unknown', 'unleashes', 'unless', 'unlimited', 'unlock', 'unlucky', 'unrealistically', 'unrelated', 'unsuspecting', 'unteach', 'unwanted', 'upbringing', 'upcoming', 'update', 'updated', 'upgrade', 'upgraded', 'upgrades', 'upper', 'ups', 'upset', 'upsetting', 'uptodate', 'upwards', 'urge', 'uring', 'usability', 'usage', 'use', 'used', 'useful', 'useless', 'user', 'users', 'using', 'usual', 'usually', 'ut', 'utility', 'utter', 'vacation', 'vaccinations', 'value', 'varied', 'variety', 'various', 'vary', 've', 'vegas', 'vehicles', 'vendor', 'vendors', 'verbal', 'version', 'victim', 'video', 'videos', 'view', 'views', 'villians', 'virtual', 'vision', 'visit', 'visitied', 'visiting', 'vnum', 'voice', 'voiced', 'volleyball', 'volunteer', 'volunteering', 'vs', 'wage', 'wahlberg', 'wait', 'waiting', 'walk', 'walked', 'walkers', 'walking', 'wall', 'wand', 'wanna', 'want', 'wanted', 'wants', 'war', 'warcraftpets', 'warlas', 'warm', 'warmed', 'warned', 'warner', 'warning', 'wars', 'warsaw', 'wasnt', 'wasp', 'waste', 'wasting', 'watch', 'watchbands', 'watched', 'watches', 'watching', 'water', 'watssap', 'wattsap', 'way', 'ways', 'wealth', 'weapons', 'wear', 'weather', 'web', 'weed', 'week', 'weekend', 'weeks', 'weighing', 'weight', 'weighting', 'weinstein', 'weird', 'welcome', 'welp', 'went', 'westfall', 'weve', 'whats', 'whe', 'whelpling', 'whilst', 'whiner', 'whinging', 'whining', 'white', 'wholly', 'whos', 'wide', 'widely', 'wielding', 'wife', 'wii', 'wild', 'willing', 'win', 'window', 'windows', 'winning', 'winter', 'wireless', 'wise', 'wish', 'wished', 'wishes', 'withdraw', 'withdrawal', 'woman', 'women', 'won', 'wonder', 'wonderful', 'wonderfully', 'wondering', 'wonders', 'wont', 'word', 'words', 'work', 'worked', 'working', 'works', 'world', 'worlds', 'worn', 'worry', 'worrying', 'worse', 'worst', 'worth', 'worthless', 'worthwhile', 'wouldnt', 'wouldve', 'wow', 'wowhead', 'wreak', 'wrecked', 'wrinkle', 'write', 'writing', 'written', 'wroclaw', 'wrong', 'wrote', 'wtote', 'ww', 'www', 'xcnum', 'xenoblade', 'xl', 'xmas', 'xoom', 'xp', 'yeah', 'year', 'years', 'yehud', 'yellow', 'yep', 'yes', 'yester', 'yesterday', 'youd', 'youhopefully', 'youll', 'young', 'youngest', 'youre', 'youtube', 'youve', 'yself', 'zagreb', 'zelda', 'zero', 'zone', 'zones', 'zrce']\n"
     ]
    }
   ],
   "source": [
    "print(vectorizer.get_feature_names())"
   ]
  },
  {
   "cell_type": "markdown",
   "metadata": {},
   "source": [
    "as we can see, CountVectorizer also clean for us words that include character such as '?' '!' from the vocabulary, we will try to train our model without this characters if we will not be satisfied by the results, we will try using them to help us."
   ]
  },
  {
   "cell_type": "markdown",
   "metadata": {},
   "source": [
    "#### TFIDF\n",
    "\n",
    "parameter tuning:\n",
    "min_df- ignore terms that have a document frequency strictly higher than the given threshold, because our vocabulary is not big, we decided to stay with all the words, and choose the default value of 1.\n",
    "\n",
    "(other parameters were chosen from the same reasons as in BOW)"
   ]
  },
  {
   "cell_type": "code",
   "execution_count": 266,
   "metadata": {
    "collapsed": true
   },
   "outputs": [],
   "source": [
    "from sklearn.feature_extraction.text import TfidfVectorizer\n",
    "tfidfvectorizer = TfidfVectorizer(analyzer = \"word\",   \\\n",
    "                                 tokenizer = None,    \\\n",
    "                                 preprocessor = None, \\\n",
    "                                 stop_words = 'english',   \\\n",
    "                                 lowercase = True, \\\n",
    "                                 max_features = 5000, \\\n",
    "                                 min_df=1)\n",
    "tfidf_matrix = tfidfvectorizer.fit_transform(messages)\n",
    "features_tfidf = tfidf_matrix.toarray()"
   ]
  },
  {
   "cell_type": "markdown",
   "metadata": {},
   "source": [
    "## Part 2.2 - Machine Learning"
   ]
  },
  {
   "cell_type": "markdown",
   "metadata": {},
   "source": [
    "we will use tow different type of method to split our data in order to practice a model.  \n",
    "train and test, and k-fold. in train and test we will split the data to 80% train and 20% test. because we don't have big data and we don't have limit in our practice time, we will also use 10-fold, to get more accurate result.  \n",
    "(we could usre only 10-fold, but we were not sure if it is ok not to do test&train according to the assignment instruction)\n",
    "\n",
    "*** we will import the following libraries: ***  \n",
    "*accuracy_score* -  to calculate the acuuracy of the test data, when we use train and test.  \n",
    "*cross_val_score* - to calculate by k-fold the cross validation score.  \n",
    "*numpy* - to treat arrays.  \n",
    "*GridSearchCV* - to train our parameters in a model with different values and get the best value for each parameter. "
   ]
  },
  {
   "cell_type": "code",
   "execution_count": 267,
   "metadata": {
    "collapsed": true
   },
   "outputs": [],
   "source": [
    "from sklearn.metrics import accuracy_score\n",
    "from sklearn.model_selection import cross_val_score\n",
    "import numpy as np\n",
    "from sklearn.model_selection import GridSearchCV"
   ]
  },
  {
   "cell_type": "markdown",
   "metadata": {},
   "source": [
    "#### Train/Test preparation\n",
    "\n",
    "we will split the data in tdidf and in bow models into train and test data set."
   ]
  },
  {
   "cell_type": "code",
   "execution_count": 268,
   "metadata": {
    "collapsed": true
   },
   "outputs": [],
   "source": [
    "# split the data for train&test\n",
    "msk = np.random.rand(len(df)) < 0.8\n",
    "train_x_tfidf = tfidf_asArray[msk]\n",
    "test_x_tfidf = tfidf_asArray[~msk]\n",
    "train_x = train_data_features[msk]\n",
    "test_x = train_data_features[~msk]\n",
    "train_y = df.loc[msk,\"email address\"]\n",
    "test_y = df.loc[~msk,\"email address\"]   \n",
    "# for k-fold we are using ALL the data because k-fold algo split for us. \n",
    "features_BOW = train_data_features\n",
    "target = df[\"email address\"]"
   ]
  },
  {
   "cell_type": "markdown",
   "metadata": {},
   "source": [
    "now, we build a function that we will use to run the machine learning models, each one will print result for both tfidf and BOW in train&test and k-fold (we chose k=10, because it's recommended by the internet as the best value according to empirical experiments and because this value gave us the most stable results for different trains of the same model.)."
   ]
  },
  {
   "cell_type": "code",
   "execution_count": 269,
   "metadata": {
    "collapsed": true
   },
   "outputs": [],
   "source": [
    "tdidf_res=()\n",
    "bow_res=()\n",
    "name_res=()\n",
    "stdBOW_res=()\n",
    "stdTFIDF_res=()\n",
    "def classification_model(model,grid,dataType,name):\n",
    "        global tdidf_res\n",
    "        global bow_res\n",
    "        global name_res\n",
    "        global stdBOW_res\n",
    "        global stdTFIDF_res\n",
    "        name_res=name_res + (name,)\n",
    "        if dataType==0 or dataType==2:\n",
    "            #Fit the model:\n",
    "            model.fit(train_x,train_y)\n",
    "            #Make predictions on test set:\n",
    "            predictions = model.predict(test_x)\n",
    "            #Print accuracy\n",
    "            accuracy = accuracy_score(predictions,test_y)\n",
    "            print(\"Result using BOW:\\n\")\n",
    "            print(\"Accuracy : %s\" % \"{0:.3%}\".format(accuracy))\n",
    "            grid.fit(features_BOW,target)\n",
    "            bs=grid.best_score_\n",
    "            bow_res=bow_res + (bs,)\n",
    "            print (\"Cross-Validation Score: %s \" % grid.best_score_)\n",
    "            std=grid.cv_results_[\"std_test_score\"][0]\n",
    "            stdBOW_res = stdBOW_res + (std,) \n",
    "            print(\"std : %s\" % std)\n",
    "            print (\"best params: %s \" % grid.best_params_)\n",
    "        if dataType==1 or dataType==2:\n",
    "            print(\"\\nResult using TFIDF:\\n\")\n",
    "            model.fit(train_x_tfidf,train_y)\n",
    "            predictions = model.predict(test_x_tfidf)\n",
    "            accuracy = accuracy_score(predictions,test_y)\n",
    "            print(\"Accuracy : %s\" % \"{0:.3%}\".format(accuracy))\n",
    "            grid.fit(features_tfidf,target)\n",
    "            bs=grid.best_score_\n",
    "            tdidf_res=tdidf_res + (bs,)\n",
    "            print (\"Cross-Validation Score: %s \" % grid.best_score_)\n",
    "            std=grid.cv_results_[\"std_test_score\"][0]\n",
    "            stdTFIDF_res = stdTFIDF_res + (std,) \n",
    "            print(\"std : %s\" % std)\n",
    "            print (\"best params: %s \" % grid.best_params_)\n"
   ]
  },
  {
   "cell_type": "markdown",
   "metadata": {},
   "source": [
    "### LinearSVC\n",
    "first algorithm we will use is the LinearSVC.   \n",
    "we want to emphasize our choice of this algorithm, and not use svm.SCV with rbf kernal, that should usually be with better performance than linear (or at least quivalent), but when we tried to use with it the results were poor (with the default parameter values), the reason is when we have high number of features, we actually have high dimensional spaces, and the distance between points becomes less meaningful, and its lead to kernal and rbf itself be less meaningful, so probably with tuning parameters we could have results as same as the Linear case.  \n",
    "(we found this article about it: https://en.wikipedia.org/wiki/Curse_of_dimensionality as intersting for this case :) )\n",
    "\n",
    "#### parameter meaning and tuning:  \n",
    "dual - as described in the specification, dual=False when n_samples > n_features.  \n",
    "max_iter - maximun number of iteration to be run. we chose 1000 as default, for this value we got the best score.  \n",
    "other parameters chose to be the default after we read the specification and we saw it right."
   ]
  },
  {
   "cell_type": "code",
   "execution_count": 270,
   "metadata": {},
   "outputs": [
    {
     "name": "stdout",
     "output_type": "stream",
     "text": [
      "Result using BOW:\n",
      "\n",
      "Accuracy : 80.000%\n",
      "Cross-Validation Score: 0.851063829787 \n",
      "std : 0.0763578344708\n",
      "best params: {} \n",
      "\n",
      "Result using TFIDF:\n",
      "\n",
      "Accuracy : 93.333%\n",
      "Cross-Validation Score: 0.929078014184 \n",
      "std : 0.0493819663299\n",
      "best params: {} \n"
     ]
    }
   ],
   "source": [
    "from sklearn.svm import LinearSVC\n",
    "param_grid=dict()\n",
    "svc_linear = LinearSVC(dual = False,max_iter=1000,random_state = 80) \n",
    "grid=GridSearchCV(svc_linear,param_grid,cv=10,scoring='accuracy')\n",
    "classification_model(svc_linear,grid,2, \"LinearSVC\")"
   ]
  },
  {
   "cell_type": "markdown",
   "metadata": {},
   "source": [
    "*NOTE: the result with tfidf are better.*"
   ]
  },
  {
   "cell_type": "markdown",
   "metadata": {},
   "source": [
    "### Guassian Naive Bayes  \n",
    "second algorithm we chose is GuassianNB.\n",
    "\n",
    "####  parameter meaning and tuning:   \n",
    "this algorithem doesn't have any parameters, only prior that should be None because we don't have any.\n"
   ]
  },
  {
   "cell_type": "code",
   "execution_count": 271,
   "metadata": {},
   "outputs": [
    {
     "name": "stdout",
     "output_type": "stream",
     "text": [
      "Result using BOW:\n",
      "\n",
      "Accuracy : 76.667%\n",
      "Cross-Validation Score: 0.787234042553 \n",
      "std : 0.0543055758665\n",
      "best params: {} \n",
      "\n",
      "Result using TFIDF:\n",
      "\n",
      "Accuracy : 73.333%\n",
      "Cross-Validation Score: 0.794326241135 \n",
      "std : 0.0870541147224\n",
      "best params: {} \n"
     ]
    }
   ],
   "source": [
    "from sklearn.naive_bayes import GaussianNB\n",
    "nbrs = GaussianNB(priors=None)\n",
    "param_grid=dict()\n",
    "grid=GridSearchCV(nbrs,param_grid,cv=10,scoring='accuracy')\n",
    "classification_model(nbrs,grid,2,\"GaussianNB\")"
   ]
  },
  {
   "cell_type": "markdown",
   "metadata": {},
   "source": [
    "*NOTE: the result with both of the models are the same. and the k-fold score isn't so good...*"
   ]
  },
  {
   "cell_type": "markdown",
   "metadata": {},
   "source": [
    "### LogisticRegressionClassifier  \n",
    "third algorithm is logistic regression\n",
    "\n",
    "#### parameter meaning and tuning:  \n"
   ]
  },
  {
   "cell_type": "code",
   "execution_count": 272,
   "metadata": {
    "collapsed": true
   },
   "outputs": [],
   "source": [
    "from sklearn.linear_model import LogisticRegression   \n",
    "lg = LogisticRegression(dual =True, random_state = 80)"
   ]
  },
  {
   "cell_type": "markdown",
   "metadata": {},
   "source": [
    "in order to choose the best c parameter we will use gridSearchCV.\n"
   ]
  },
  {
   "cell_type": "markdown",
   "metadata": {},
   "source": [
    "we chose these values to C parameter because usually c grows exp"
   ]
  },
  {
   "cell_type": "code",
   "execution_count": 273,
   "metadata": {
    "collapsed": true
   },
   "outputs": [],
   "source": [
    "c_values=[0.0001 , 0.001 , 0.01 , 0.1 , 1, 10, 100, 1000]"
   ]
  },
  {
   "cell_type": "markdown",
   "metadata": {},
   "source": [
    "let's define param_grid as pair of parameter and list of values:"
   ]
  },
  {
   "cell_type": "code",
   "execution_count": 274,
   "metadata": {
    "collapsed": true
   },
   "outputs": [],
   "source": [
    "param_grid = dict(C=c_values)"
   ]
  },
  {
   "cell_type": "markdown",
   "metadata": {},
   "source": [
    "instantiate the grid and fit it:  "
   ]
  },
  {
   "cell_type": "code",
   "execution_count": 275,
   "metadata": {},
   "outputs": [
    {
     "name": "stdout",
     "output_type": "stream",
     "text": [
      "Result using BOW:\n",
      "\n",
      "Accuracy : 83.333%\n",
      "Cross-Validation Score: 0.90780141844 \n",
      "std : 0.100845160417\n",
      "best params: {'C': 0.1} \n",
      "\n",
      "Result using TFIDF:\n",
      "\n",
      "Accuracy : 93.333%\n",
      "Cross-Validation Score: 0.921985815603 \n",
      "std : 0.0587676071555\n",
      "best params: {'C': 100} \n"
     ]
    }
   ],
   "source": [
    "grid=GridSearchCV(lg,param_grid,cv=10,scoring='accuracy')\n",
    "classification_model(lg,grid,2,\"LogisticRegression\")"
   ]
  },
  {
   "cell_type": "markdown",
   "metadata": {},
   "source": [
    "*NOTE: the result are similar but different values of C for each models. (we found it by GridSearchSV!)*"
   ]
  },
  {
   "cell_type": "markdown",
   "metadata": {},
   "source": [
    "let's comapre between the results with tdidf and bow:"
   ]
  },
  {
   "cell_type": "code",
   "execution_count": 276,
   "metadata": {},
   "outputs": [
    {
     "data": {
      "image/png": "[encoded data removed]",
      "text/plain": [
       "<matplotlib.figure.Figure at 0x11513cfd0f0>"
      ]
     },
     "metadata": {},
     "output_type": "display_data"
    }
   ],
   "source": [
    "import numpy as np\n",
    "import matplotlib.pyplot as plt\n",
    " \n",
    "n_groups = 3 # number of models\n",
    "\n",
    "# create plot\n",
    "fig, ax = plt.subplots()\n",
    "index = np.arange(n_groups)\n",
    "bar_width = 0.35\n",
    "opacity = 0.9\n",
    " \n",
    "rects1 = plt.bar(index, bow_res, bar_width,\n",
    "                 alpha=opacity,\n",
    "                 color='b',\n",
    "                 label='BOW')\n",
    " \n",
    "rects2 = plt.bar(index + bar_width, tdidf_res, bar_width,\n",
    "                 alpha=opacity,\n",
    "                 color='g',\n",
    "                 label='Tdidf')\n",
    " \n",
    "plt.xlabel('Model')\n",
    "plt.ylabel('Accuracy')\n",
    "plt.title('comprasion between using BOW and tdidf')\n",
    "plt.xticks(index + bar_width, name_res) \n",
    "plt.legend()\n",
    " \n",
    "plt.tight_layout()\n",
    "plt.show()"
   ]
  },
  {
   "cell_type": "markdown",
   "metadata": {},
   "source": [
    "as we can notice using tdidf gave us the same or even better results."
   ]
  },
  {
   "cell_type": "markdown",
   "metadata": {},
   "source": [
    "*Remark:* from this point, we will use only tfidf, because we got equal or better result with tfidf, and at the end we plan to make one strong single model from the models we trained (so it has to be trained on the same data)."
   ]
  },
  {
   "cell_type": "markdown",
   "metadata": {},
   "source": [
    "### Random Forest\n",
    "last algorithm we will use is *\"Random Forest\"*, this is an ensemble tool which takes a subset of observations and a subset of variables to build a decision trees.  \n",
    "\n",
    "\n",
    "#### parameter meaning and tuning:  \n",
    "*max_features* - these are the maximum number of features Random Forest is allowed to try in individual tree. if we increase the value of this feature it improves the performance of the model because each node now has higher number of options to be considered. and therefore we chose 'auto' value, which means all the features.  \n",
    "*n_jobs* - This parameter tells the engine how many processors is it allowed to use, we will use the value of -1 that means there is no restriction. (notice: this feature is different from the others, because it will improve only the training speed and not the performance)  \n",
    "\n",
    "for tuning the other parameters we will use gridsearchCV and some guides we read on the internet for this task."
   ]
  },
  {
   "cell_type": "code",
   "execution_count": 277,
   "metadata": {
    "collapsed": true
   },
   "outputs": [],
   "source": [
    "from sklearn.ensemble import RandomForestClassifier\n",
    "\n",
    "rf = RandomForestClassifier(random_state = 80,n_jobs = -1, max_features='auto')\n",
    "\n",
    "def plot_evaluate_parameter(parameter, num_range, index):\n",
    "    grid_search = GridSearchCV(rf, param_grid = {parameter: num_range})\n",
    "    grid_search.fit(tfidf_asArray, target) # As we said, we will use ONLY tfidf\n",
    "    \n",
    "    df = {}\n",
    "    for i, score in enumerate(grid_search.grid_scores_):\n",
    "        df[score[0][parameter]] = score[1]\n",
    "       \n",
    "    \n",
    "    df = pd.DataFrame.from_dict(df, orient='index')\n",
    "    df.reset_index(level=0, inplace=True)\n",
    "    df = df.sort_values(by='index')\n",
    " \n",
    "    #ploting the results\n",
    "    plt.subplot(3,2,index)\n",
    "    plot = plt.plot(df['index'], df[0])\n",
    "    plt.title(parameter)\n",
    "    return plot, df\n"
   ]
  },
  {
   "cell_type": "markdown",
   "metadata": {},
   "source": [
    "we will train random forest on our data with sets of values for each parameter. we set resonable values for each parameters, and we will choose the best score for each one. as you can guess there is a chance that \"the best\" value for a parameter is out from the gap we set, in this case we will miss this value :( .  (but it still be better from the default values) "
   ]
  },
  {
   "cell_type": "code",
   "execution_count": 278,
   "metadata": {},
   "outputs": [
    {
     "name": "stderr",
     "output_type": "stream",
     "text": [
      "C:\\Users\\shavit\\Anaconda3\\lib\\site-packages\\sklearn\\model_selection\\_search.py:761: DeprecationWarning: The grid_scores_ attribute was deprecated in version 0.18 in favor of the more elaborate cv_results_ attribute. The grid_scores_ attribute will not be available from 0.20\n",
      "  DeprecationWarning)\n",
      "C:\\Users\\shavit\\Anaconda3\\lib\\site-packages\\sklearn\\model_selection\\_search.py:761: DeprecationWarning: The grid_scores_ attribute was deprecated in version 0.18 in favor of the more elaborate cv_results_ attribute. The grid_scores_ attribute will not be available from 0.20\n",
      "  DeprecationWarning)\n",
      "C:\\Users\\shavit\\Anaconda3\\lib\\site-packages\\sklearn\\model_selection\\_search.py:761: DeprecationWarning: The grid_scores_ attribute was deprecated in version 0.18 in favor of the more elaborate cv_results_ attribute. The grid_scores_ attribute will not be available from 0.20\n",
      "  DeprecationWarning)\n",
      "C:\\Users\\shavit\\Anaconda3\\lib\\site-packages\\sklearn\\model_selection\\_search.py:761: DeprecationWarning: The grid_scores_ attribute was deprecated in version 0.18 in favor of the more elaborate cv_results_ attribute. The grid_scores_ attribute will not be available from 0.20\n",
      "  DeprecationWarning)\n",
      "C:\\Users\\shavit\\Anaconda3\\lib\\site-packages\\sklearn\\model_selection\\_search.py:761: DeprecationWarning: The grid_scores_ attribute was deprecated in version 0.18 in favor of the more elaborate cv_results_ attribute. The grid_scores_ attribute will not be available from 0.20\n",
      "  DeprecationWarning)\n"
     ]
    },
    {
     "data": {
      "image/png": "[encoded data removed]",
      "text/plain": [
       "<matplotlib.figure.Figure at 0x1151443a390>"
      ]
     },
     "metadata": {},
     "output_type": "display_data"
    }
   ],
   "source": [
    "param_grid = {\"max_depth\": np.arange(1, 29, 1),\n",
    "              \"min_samples_split\": np.arange(2,150,1),\n",
    "              \"min_samples_leaf\": np.arange(1,60,1),\n",
    "              \"max_leaf_nodes\": np.arange(2,60,1),\n",
    "              \"min_weight_fraction_leaf\": np.arange(0.1,0.4, 0.1)}\n",
    "index = 1\n",
    "plt.figure(figsize=(16,12))\n",
    "for parameter, param_range in dict.items(param_grid):   \n",
    "    plot_evaluate_parameter(parameter, param_range, index)\n",
    "    index += 1"
   ]
  },
  {
   "cell_type": "markdown",
   "metadata": {},
   "source": [
    "let's explain how we will decide with which parameters to practice our Random Forest model:\n",
    "\n",
    "*n_estimators* - the number of trees we want to build before taking the maximum voting or averages of predictions. from lectures and articles we read in the internet we concluded that we should choose value as high as our processor can handle because this will make our predictions stronger and more stable. and therefore we chose 800. ( we tried to fit the machine learning with lower values but each tine the result was different, until we got to this value, and got stable result)  \n",
    "*min_weight_fraction_leaf* - we can see that the highest score is with values around 0, the default value is 0, so we will not set value for this.  \n",
    "*max_leaf_nodes* - we can see that the best score is with values in range of ~[16,22], so we will set with this values.  \n",
    "*min_samples_leaf* - we can see that best score is with values in range of ~[1,3] (the default is 1 but maybe we can get better)  \n",
    "*min_samples_split*-  we can see that best score is with values in range of ~[27,30] (default is 2)  \n",
    "*max_depth* -  we can see that best score is with values in range of ~[8,10]"
   ]
  },
  {
   "cell_type": "markdown",
   "metadata": {},
   "source": [
    "to notice the power of parameter tuning, let's first run the model with the default values, and later with the values we mentioned."
   ]
  },
  {
   "cell_type": "code",
   "execution_count": 279,
   "metadata": {},
   "outputs": [
    {
     "name": "stdout",
     "output_type": "stream",
     "text": [
      "\n",
      "Result using TFIDF:\n",
      "\n",
      "Accuracy : 70.000%\n",
      "Cross-Validation Score: 0.801418439716 \n",
      "std : 0.103989921586\n",
      "best params: {} \n"
     ]
    }
   ],
   "source": [
    "from sklearn.ensemble import RandomForestClassifier\n",
    "param_grid = dict()\n",
    "forest = RandomForestClassifier(n_estimators = 500,n_jobs = -1, max_features='auto')\n",
    "grid=GridSearchCV(forest,param_grid,cv=10,scoring='accuracy')\n",
    "classification_model(forest,grid,1,\"randomForest\")"
   ]
  },
  {
   "cell_type": "code",
   "execution_count": 280,
   "metadata": {},
   "outputs": [
    {
     "name": "stdout",
     "output_type": "stream",
     "text": [
      "\n",
      "Result using TFIDF:\n",
      "\n",
      "Accuracy : 70.000%\n",
      "Cross-Validation Score: 0.872340425532 \n",
      "std : 0.0973726353684\n",
      "best params: {'max_depth': 15, 'max_leaf_nodes': 16, 'min_samples_leaf': 2, 'min_samples_split': 29} \n"
     ]
    }
   ],
   "source": [
    "param_grid = {\"max_depth\": range(15, 17),\n",
    "              \"min_samples_split\": range(27,30),\n",
    "              \"min_samples_leaf\": range(1,3),\n",
    "              \"max_leaf_nodes\": range(16, 22)}\n",
    "forest_improved = RandomForestClassifier(n_estimators = 500,n_jobs = -1, max_features='auto')\n",
    "grid=GridSearchCV(forest_improved,param_grid,cv=10,scoring='accuracy')\n",
    "classification_model(forest_improved,grid,1,\"randomForest_improved\")"
   ]
  },
  {
   "cell_type": "markdown",
   "metadata": {},
   "source": [
    "** as we can see, the results are much better **"
   ]
  },
  {
   "cell_type": "markdown",
   "metadata": {},
   "source": [
    "##### Okay we have some learning machines not bad at all, let's try to unite them into one even stronger!\n",
    "\n",
    "for this, we will use votingClassifier to ensemble our models\n",
    "\n",
    "### VotingClassifier\n",
    "\n",
    "#### parameter meaning and tuning:  \n",
    "we willuse only estimators variable that get all the models to include in the ensemble.  \n",
    "first, we will take the TOP THREE models, for this let's plot the results:"
   ]
  },
  {
   "cell_type": "code",
   "execution_count": 281,
   "metadata": {
    "collapsed": true
   },
   "outputs": [],
   "source": [
    "def autolabel(rects):\n",
    "    for rect in rects:\n",
    "        height = rect.get_height()\n",
    "        ax.text(rect.get_x() + rect.get_width()/2., height,\n",
    "                '%s' % \"{0:.3%}\".format(height),\n",
    "                ha='center', va='bottom')"
   ]
  },
  {
   "cell_type": "code",
   "execution_count": 282,
   "metadata": {},
   "outputs": [
    {
     "data": {
      "image/png": "[encoded data removed]",
      "text/plain": [
       "<matplotlib.figure.Figure at 0x115132e9748>"
      ]
     },
     "metadata": {},
     "output_type": "display_data"
    }
   ],
   "source": [
    "import numpy as np\n",
    "import matplotlib.pyplot as plt\n",
    " \n",
    "n_groups = 5 # number of models\n",
    "#plt.subplots(figsize=(13,8))\n",
    "\n",
    "# create plot\n",
    "fig, ax = plt.subplots(figsize=(10,4))\n",
    "index = np.arange(n_groups)\n",
    "bar_width = 0.3\n",
    "opacity = 0.9\n",
    " \n",
    "rects = plt.bar(index + bar_width, tdidf_res, bar_width,\n",
    "                 alpha=opacity,\n",
    "                 color='g',\n",
    "                 label='Tdidf')\n",
    "autolabel(rects)\n",
    "plt.xlabel('Model')\n",
    "plt.ylabel('Accuracy')\n",
    "plt.title('Accuracy Rate')\n",
    "plt.xticks(index + bar_width, name_res) \n",
    " \n",
    "plt.tight_layout()\n",
    "plt.show()"
   ]
  },
  {
   "cell_type": "markdown",
   "metadata": {},
   "source": [
    "as we can see top three are:  \n",
    "* LinearSVC\n",
    "* randomForest (improved)\n",
    "* LogisticRegression"
   ]
  },
  {
   "cell_type": "markdown",
   "metadata": {},
   "source": [
    "now, we will initiate each model with \"the best\" parameters we found:"
   ]
  },
  {
   "cell_type": "code",
   "execution_count": 283,
   "metadata": {
    "collapsed": true
   },
   "outputs": [],
   "source": [
    "forest_improved = RandomForestClassifier(n_estimators = 500,n_jobs = -1, max_features='auto', \n",
    "                                         max_depth = 16, max_leaf_nodes = 16, min_samples_leaf = 2 , \n",
    "                                         min_samples_split = 27)\n",
    "\n",
    "lg = LogisticRegression(dual =True, C=10)\n",
    "\n",
    "svc_linear = LinearSVC(dual = False,max_iter=1000,random_state = 80) "
   ]
  },
  {
   "cell_type": "markdown",
   "metadata": {},
   "source": [
    "and train the model:"
   ]
  },
  {
   "cell_type": "code",
   "execution_count": 284,
   "metadata": {},
   "outputs": [
    {
     "name": "stdout",
     "output_type": "stream",
     "text": [
      "\n",
      "Result using TFIDF:\n",
      "\n",
      "Accuracy : 93.333%\n",
      "Cross-Validation Score: 0.914893617021 \n",
      "std : 0.055642268589\n",
      "best params: {} \n"
     ]
    }
   ],
   "source": [
    "from sklearn.ensemble import VotingClassifier\n",
    "vc = VotingClassifier(estimators=[ ('SVC_LINEAR',svc_linear),('LG',lg), (\"rf\",forest_improved)])\n",
    "param_grid=dict()\n",
    "grid=GridSearchCV(vc,param_grid,cv=10,scoring='accuracy')\n",
    "classification_model(vc,grid,1,\"VotingClassifier\")"
   ]
  },
  {
   "cell_type": "markdown",
   "metadata": {},
   "source": [
    "So... which model is the best !? let's see:"
   ]
  },
  {
   "cell_type": "code",
   "execution_count": 310,
   "metadata": {},
   "outputs": [
    {
     "data": {
      "image/png": "[encoded data removed]",
      "text/plain": [
       "<matplotlib.figure.Figure at 0x11515c71438>"
      ]
     },
     "metadata": {},
     "output_type": "display_data"
    }
   ],
   "source": [
    "import numpy as np\n",
    "import matplotlib.pyplot as plt\n",
    "        \n",
    "n_groups = 6 # number of models\n",
    "#plt.subplots(figsize=(13,8))\n",
    "\n",
    "# create plot\n",
    "fig, ax = plt.subplots(figsize=(12,4))\n",
    "index = np.arange(n_groups)\n",
    "bar_width = 0.3\n",
    "opacity = 0.9\n",
    " \n",
    "rects = plt.bar(index, tdidf_res, bar_width,\n",
    "                 alpha=opacity,\n",
    "                 color='orange',\n",
    "                 label='accuracy')\n",
    "rects2 = plt.bar(index , stdTFIDF_res, bar_width,\n",
    "                 alpha=opacity,\n",
    "                 color='black',\n",
    "                 label='std')\n",
    "\n",
    "autolabel(rects)\n",
    "autolabel(rects2)\n",
    "plt.xlabel('Model')\n",
    "plt.ylabel('Accuracy\\std')\n",
    "plt.title('Accuracy and std Rate')\n",
    "plt.xticks(index + bar_width, name_res) \n",
    "plt.legend()\n",
    "plt.tight_layout()\n",
    "plt.show()"
   ]
  },
  {
   "cell_type": "markdown",
   "metadata": {},
   "source": [
    "as we can see, LinearSVC, LogisticRegression and votingClassifier have almost the same accuracy results, but LinearSVC has the highest accuracy and the lowest std so we will choose this model as our classification model in part 4."
   ]
  },
  {
   "cell_type": "markdown",
   "metadata": {},
   "source": [
    "### Save models for future use"
   ]
  },
  {
   "cell_type": "markdown",
   "metadata": {},
   "source": [
    "we will save the chosen model nad the tfidfVectorizer for later use. (at part 4)  \n",
    "inititate the model:"
   ]
  },
  {
   "cell_type": "code",
   "execution_count": 296,
   "metadata": {},
   "outputs": [
    {
     "data": {
      "text/plain": [
       "0.92907801418439717"
      ]
     },
     "execution_count": 296,
     "metadata": {},
     "output_type": "execute_result"
    }
   ],
   "source": [
    "svc_linear = LinearSVC(dual = False,max_iter=1000,random_state = 80) \n",
    "grid=GridSearchCV(svc_linear,dict(),cv=10,scoring='accuracy')\n",
    "grid.fit(features_tfidf,target)\n",
    "grid.best_score_"
   ]
  },
  {
   "cell_type": "markdown",
   "metadata": {},
   "source": [
    "use pickle packages in order to save the model:"
   ]
  },
  {
   "cell_type": "code",
   "execution_count": 297,
   "metadata": {
    "collapsed": true
   },
   "outputs": [],
   "source": [
    "import pickle\n",
    "filename = 'LinearSVC_Model.sav'\n",
    "pickle.dump(grid, open(./modelSave/filename, 'wb'))"
   ]
  },
  {
   "cell_type": "code",
   "execution_count": 298,
   "metadata": {
    "collapsed": true
   },
   "outputs": [],
   "source": [
    "filename = 'TfidfVectorizer.sav'\n",
    "pickle.dump(tfidfvectorizer, open(./modelSave/filename, 'wb'))"
   ]
  }
 ],
 "metadata": {
  "kernelspec": {
   "display_name": "Python 3",
   "language": "python",
   "name": "python3"
  },
  "language_info": {
   "codemirror_mode": {
    "name": "ipython",
    "version": 3
   },
   "file_extension": ".py",
   "mimetype": "text/x-python",
   "name": "python",
   "nbconvert_exporter": "python",
   "pygments_lexer": "ipython3",
   "version": "3.6.4"
  }
 },
 "nbformat": 4,
 "nbformat_minor": 2
}
