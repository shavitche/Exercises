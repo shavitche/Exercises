{
 "cells": [
  {
   "cell_type": "markdown",
   "metadata": {},
   "source": [
    "# PART 3- DEEP NETWORK & TEXT GENERATION"
   ]
  },
  {
   "cell_type": "markdown",
   "metadata": {},
   "source": [
    "### 3.0 Preparations"
   ]
  },
  {
   "cell_type": "markdown",
   "metadata": {},
   "source": [
    "first, we will import the following libraries:  \n",
    "*theano*- use it in order to optimize and evaluate mathematical expressions involving multi-dimensional arrays.  \n",
    "*keras*- we will use it to build high-level neural networks API.  \n",
    "(about the others we explained at the previous parts)"
   ]
  },
  {
   "cell_type": "code",
   "execution_count": 3,
   "metadata": {},
   "outputs": [
    {
     "name": "stderr",
     "output_type": "stream",
     "text": [
      "Using TensorFlow backend.\n"
     ]
    }
   ],
   "source": [
    "import numpy as np\n",
    "import theano\n",
    "import keras\n",
    "import matplotlib.pyplot as plt\n",
    "import pandas as pd\n",
    "import csv"
   ]
  },
  {
   "cell_type": "markdown",
   "metadata": {},
   "source": [
    "we will use theano as backend of keras (for define,optimize and evaluate multi-dimensional arrays.)"
   ]
  },
  {
   "cell_type": "code",
   "execution_count": 4,
   "metadata": {
    "collapsed": true
   },
   "outputs": [],
   "source": [
    "from keras import backend as K\n",
    "K.set_image_dim_ordering('th')"
   ]
  },
  {
   "cell_type": "markdown",
   "metadata": {},
   "source": [
    "we also print some tables in this part, and we found it more easy using tabulate, in order to install it:  \n",
    "(install by conda prompt)"
   ]
  },
  {
   "cell_type": "code",
   "execution_count": 3,
   "metadata": {
    "collapsed": true
   },
   "outputs": [],
   "source": [
    "# $ pip install tabulate"
   ]
  },
  {
   "cell_type": "code",
   "execution_count": 4,
   "metadata": {
    "collapsed": true
   },
   "outputs": [],
   "source": [
    "from tabulate import tabulate"
   ]
  },
  {
   "cell_type": "markdown",
   "metadata": {},
   "source": [
    "### 3.1 Import the data"
   ]
  },
  {
   "cell_type": "markdown",
   "metadata": {},
   "source": [
    "let's read the csv file of the original data we imported by gmail API at part 1"
   ]
  },
  {
   "cell_type": "code",
   "execution_count": 6,
   "metadata": {},
   "outputs": [],
   "source": [
    "df = pd.read_csv(\"./saveData/orginalData.csv\")"
   ]
  },
  {
   "cell_type": "markdown",
   "metadata": {},
   "source": [
    "convert to a list for our comfort:"
   ]
  },
  {
   "cell_type": "code",
   "execution_count": 7,
   "metadata": {
    "collapsed": true,
    "scrolled": true
   },
   "outputs": [],
   "source": [
    "lst=list(df.values.flatten())"
   ]
  },
  {
   "cell_type": "markdown",
   "metadata": {},
   "source": [
    "let's take a look on the data:"
   ]
  },
  {
   "cell_type": "code",
   "execution_count": 8,
   "metadata": {},
   "outputs": [
    {
     "data": {
      "text/plain": [
       "['illonashachar78@gmail.com',\n",
       " ' Hi [image: =F0=9F=99=82] no, I will be free for almost all Day!\\r\\nShavit I am not going out today but If You would like to go I would\\r\\nrecomend You club called Rado=C5=9B=C4=87 for tonight!\\r\\n',\n",
       " 'illonashachar78@gmail.com',\n",
       " ' You can go free before 10 pm. At 10 people will start letting a lot of\\r\\nlanterns in the air and then will be a concert .\\r\\nPeople just want to beat a record (a lot of lanterns) without any reason.\\r\\nDo what are Your plans for tomorrow? Are You going to Kazimierz?\\r\\n',\n",
       " 'illonashachar78@gmail.com',\n",
       " ' What time are You going to Kazimierz?\\r\\n',\n",
       " 'illonashachar78@gmail.com',\n",
       " ' I think it is better for You to go there by bus because my parents will\\r\\nstart travel around 8.20. IT is to early!\\r\\nI will check schedul of buses for You now\\r\\nBus to Kazimierz Dolny 9.25 - You will be in Kazimierz at 10.35 (big bus )\\r\\nor 10.20 -You will be in Kazimierz at 11.40 (small bus )\\r\\nThe places where the bus start is : 9.25 : ul. Ruska 7/pod Skarp=C4=85. 10.=\\r\\n20:\\r\\nul. Ruska\\r\\nBoth are behind bus station close to this Castle where we where today\\r\\n\\r\\nShavi\\r\\n',\n",
       " 'illonashachar78@gmail.com',\n",
       " ' Go to Riviera! [image: =F0=9F=99=82]\\r\\nI should go there yesterday because IT was latino night [image: =F0=9F=99=\\r\\n=82] Have a\\r\\nnice evening. See You tomorrow [image: =F0=9F=99=82] When You will looking =\\r\\nfor bus to\\r\\nKazimierz : remember the bus will not wait on this big main bus station,\\r\\nYou have to go behind bus station. There is ulica (street ) Ruska. But\\r\\nthere are 2 another places on Ruska street where buses to Kazimierz start\\r\\n(as I wtote it to You 10 minutes ago )\\r\\nBye Bye [image: =F0=9F=98=97]\\r\\nShavit\\r\\n\\r\\nSh\\r\\n\\r\\nShavi\\r\\n',\n",
       " 'dvirnimrod84@gmail.com',\n",
       " \"I'm not even sure I have depression, I think this may just be 'me'.\\r\\n\\r\\nI have always been pretty useless socially, but have had a normal\\r\\nupbringing, no horrible experiences, have gone through education fine and\\r\\neven got jobs but I've never enjoyed life, never really cared and normally\\r\\nfeel like I'm not really worth anything and, inevitably enventually, will\\r\\nbecome a burden.\\r\\n\\r\\nI'm not going to be dramatic and say I'm going to end it, it sounds so\\r\\npathetic (no offence intended to anyone) but I have thoughts of 'going' or\\r\\neven dreams that I could die 'blamelessly' thorugh accident or illness.\\r\\nSelfish I know.\\r\\n\\r\\nI have a cycle. Get job, put on confident easy going persona, get\\r\\nphysically tired from doing that, lose energy to maintain job, focus on\\r\\nnegative, leave job in some form (fired/quit). Friends are much the same,\\r\\nplay easy going fun, can't keep it up, lose or push them away.\\r\\nRelationships, get attracted to ones who need help, help them in anyway I\\r\\ncan, get to a point where I feel I am no more use so should go as they'd be\\r\\nultimately better off.\\r\\n\\r\\nSo, currently I've quit my job as a teacher, couldn't take it - always\\r\\nsomething to improve and with my way of thinking that just sounds like\\r\\nconstantly someone telling you you're useless (and it backing up your own\\r\\nthoughts anyway) but even though I liked aspects of my job I don't think I\\r\\nhad a passion like I see in others. I felt I'd let everyone down so\\r\\ndisappeared, my partner/ parents got me through immediate days after my\\r\\nsudden departure from work and saw Doc who was nice enough - put me on\\r\\nmedication which seemed to do very little - even after a few months. In\\r\\nfact it only had negative side effects so about three weeks ago I stopped\\r\\ntaking them completely. I also started seeing a CBT person about three/four\\r\\nsession ago but this feels like it's doing nothing at all either, we talk,\\r\\nI'm honest as I can be but there is some element of being 'public' and\\r\\nputting on that face/ jokey responses.\\r\\n\\r\\nI dip between a wish to not be around that is forever there and seems to be\\r\\nbacked up with wholly logical reasons that people genuinely struggle to\\r\\nrefute to absolutely crashing panic attacks/ given up when my 'theories'\\r\\nare proved.\\r\\n\\r\\nI know this sounds odd, but I don't even have the will to get 'better',\\r\\nlargely because I don't think I can. I am just 'me'. I am negative, boring\\r\\nand even if it is all just selffullfillng profecies - it's still me who has\\r\\ndone that. I'm not blaming life, or others or anything else.\\r\\n\\r\\nA lot of the posts I read on here seem to have good reason; PTS, loss,\\r\\nfinances etc - does anyone have no 'good' reason?\\r\\n\\r\\nI just feel I'm never going to be happy, I am soon to be much a burden on\\r\\nthose around me (my gf) and that, in the long run, it'd be better for all\\r\\nif I just went. I know my family and gf love me - but time heals, life\\r\\nwould get better and people move on. In the long run I'm sure it wouldn't\\r\\neffect my family and 100% sure my gf would be better off.\\r\\n\\r\\nNot sure if there is an answer for this, just writing. I'm not angry, I'm\\r\\nnot hurt, I'm not even sad as such, I'm just tired...\\r\\n\",\n",
       " 'dvirnimrod84@gmail.com',\n",
       " \"What a fantastic answer, but also a really bad one!! Let me explain...\\r\\n\\r\\n=E2=80=8BFirstly I'm very pleased to see you are happy and treat every day =\\r\\nas a\\r\\ngift. Obviously I'm sorry you have such daily physical problems but I'm\\r\\nsure that makes you even happier you did the skydiving when you did. I'm\\r\\nreally pleased what you did worked for you and it's encouraging to find a\\r\\nrare example of someone who has somewhat defeated depression even if the\\r\\ncost of that has been quite extreme.\\r\\n\\r\\n=E2=80=8BBut then on the same hand, not recognising how lucky I am isn't th=\\r\\ne\\r\\nproblem, it's knowing that I am and I'm still not feeling good which then\\r\\nfurther compounds how bad I feel about myself. I know I'm luckier than\\r\\nmost, I know things could be worse, I live in an affluent country with\\r\\nwater on tap, have good health and had a normal upbringing with no major\\r\\ntraumas. So knowing this makes me feel EVEN worse about myself. I see\\r\\nI'm selfish, and ungrateful, and petty and all other words - why can't I\\r\\njust be happy?\\r\\n\\r\\n=E2=80=8BI've put my life on the line a few times, both within the safety c=\\r\\nonfines\\r\\nof organised activities and on the less controlled activities I may do\\r\\nmyself - it doesn't help me. Being near death doesn't impact me positively\\r\\nor negatively - I'm almost apathetic to it.\\r\\n\\r\\n=E2=80=8BAnd this is why your answer is both fantastic and bad! For you, an=\\r\\nd others\\r\\nit may work. You are obviously an inspiration to lots of people not only\\r\\nfor the physical issues (which are almost a separate issue) but for the\\r\\nfact you have altered your way of thinking in a positive manner. But they\\r\\nalso highlight how everyone's issues are unique - and as well intentioned,\\r\\nand even correct, your view that it could be worse it, that can actually\\r\\nmake people feel worse.\\r\\n\\r\\n=E2=80=8BIf we all focused on 'it could be worse' they'd be very few people=\\r\\n in this\\r\\nworld who could complain, unfortunately it's not that simple. This\\r\\ndepression doesn't care that I'm lucky, it just cares that I think badly of\\r\\nmyelf and reminds me of it every day and actually accelerates when I speak\\r\\nto people who could argue they do have a good reason to feel bad. I know I\\r\\ndon't - and that makes it even worse.\\r\\n\\r\\n=E2=80=8BThanks for your reply, I hope I didn't come across aggressively! I=\\r\\n'm very\\r\\nhappy that you are happy and hope things improve if that's possible for\\r\\nyou. Good luck, have a great Christmas and a lovely New Year.\\r\\n\",\n",
       " 'dvirnimrod84@gmail.com',\n",
       " \"I had a few people on her write to me over Xmas/ New Year but needed to\\r\\nignore them - too much energy was needed to focus on acting happy and\\r\\nnormal around family!\\r\\n\\r\\n=E2=80=8BI wish I could talk to you more directly than on an open forum. I'=\\r\\nve said\\r\\nbefore, knowledge is a great thing - but it can also be a curse. You need\\r\\nto be particuarly careful self-diagnosing but also need to think whether\\r\\nthis diagnosis is in any way helpful to you. Say you decide that you are\\r\\nHFAS - how does that help you? If you can't source help then it is just\\r\\nanother meaningless semantic for feeling awful day to day.\\r\\n\\r\\n=E2=80=8BI've also mentioned that it is probably important to get outside y=\\r\\nour own\\r\\nhead - think about doing things that stop you thinking about yourself.\\r\\nHowever, as a caveat, I also recognise doing anything (like talking to\\r\\nanother human being as you rightly point out!) can be extrememly stressful.\\r\\n\\r\\n=E2=80=8BI'd never pick holes in others punctuation and grammar unless they=\\r\\n were\\r\\ndoing it to others! It's a forum, not a thesis! However if you have the\\r\\ntime and pride to check your message back then maybe you do have the time\\r\\nto look at HFAS if it interests you.\\r\\n\\r\\n=E2=80=8BTo be honest, knowledge is something I despise yet am addicted to =\\r\\nso I\\r\\nwill inevitably be searching HFSA after I've written this reply! But\\r\\nwithout an argument or focus it is impossible to really research a topic to\\r\\nany purpose. I will happily help others if I can (preferably from afar!)\\r\\nbut not sure what I could do to focus your research on this matter and\\r\\nwhether it'd even be of any benefit to you anyway.\\r\\n\\r\\n=E2=80=8BLike I said, there is certainly an interesting discussion to be ha=\\r\\nd but\\r\\nunfortunately I doubt this is the place to do it effectively for you or I.\\r\\n\\r\\n=E2=80=8BGood Luck.\\r\\n\",\n",
       " 'dvirnimrod84@gmail.com',\n",
       " \"Quick research, scan read. Told you I would... I definitely don't have\\r\\nHFSA. You may well have but it'd take more than a quick chat to establish\\r\\nthat.\\r\\n\\r\\n=E2=80=8BAs I'm sure you're aware, everyone is somewhere on the autistic sp=\\r\\nectrum\\r\\nand all the various labels that spin off that. Even the most 'normal' of\\r\\npeople might feel particuarly calmed by a colour, or get irritated by a\\r\\nsimple tapping noise. The issues arise when your 'quirks' impact on your\\r\\nlife. Mine do for me, and yours sound like they do for you.\\r\\n\\r\\n=E2=80=8BI have had a ton of labels I have both researched or been told abo=\\r\\nut that\\r\\nmight fit my ways of thinking and acting but the conclusion I reached was\\r\\nthat it was all kind of pointless - a label by its very nature is just a\\r\\nbroad title to fit many people and when that comes to the brain it's a very\\r\\npointless exercise. You might be able to group broken limbs in patients but\\r\\nwith the head it's nearly impossible  - there's too many bits that do or\\r\\ndon't apply for every individual. Ultimately a title is only helpful to\\r\\npoint you in the right direction to get you personalised help. And it HAS\\r\\nto be personalised.\\r\\n\\r\\n=E2=80=8BI think I have depression, with social anxiety. I have signs of bi=\\r\\npolar, I\\r\\nget symptoms of SAD, I have trichotillomania, I have mild OCD that gets\\r\\nworse if I'm stressed, I have panic attacks, I over think everything, I\\r\\nhave low self-esteem and no confidence, I feel suicidal most days and a\\r\\nmillion other mini-labels. Doesn't help me though. It's the classic 'what's\\r\\nin a name?'\\r\\n\\r\\n=E2=80=8BI hope you see my point. We sound very similar yet I would class m=\\r\\nyself as\\r\\na people pleaser, I rarely sure emotion outside the house and am overly\\r\\npolite to even strangers. So whilst HFSA might apply in parts, it doesn't\\r\\nsolve everything.\\r\\n\\r\\n=E2=80=8BThink about what you want from this title. How will it help you? Y=\\r\\nou might\\r\\nbe better focusing on the things that make you feel better, not labelling\\r\\nsomething that makes you feel bad.\\r\\n\\r\\nGood luck.\\r\\n\",\n",
       " 'dvirnimrod84@gmail.com',\n",
       " \"I doubt you have no one, family is only one part. Work friends? Neighbours?\\r\\n\\r\\nBut, for the sake of discussion, if there is really no-one then in a way\\r\\nyou know how to feel better and that gives you a lot of power. I don't even\\r\\nknow how to be 'happy' and feel I should leave those around me before I\\r\\ndrag them down too!\\r\\n\\r\\nIf you feel lonely, then be a little more proactive, join some clubs or\\r\\ngroups etc. Without being offensive, you are a little older than me and\\r\\nthere are a lot more clubs set up for your age group than mine that\\r\\nwouldn't be intimidating. I get expectations of sports clubs (loud bravado\\r\\npeople!) or nightclubs etc where as I'm sure there are more suitable groups\\r\\nfor you. Knowing what you want to make you happy is a great thing.\\r\\n\\r\\nAs for your family, you seem to want nothing to do with them. Great! Sorry,\\r\\npeople on here may say that's sad etc or to try but it's your situation -\\r\\nif you simply don't get on then absolutely forget them. People survive\\r\\nwithout families all the time. Or you mentioned the recluse, maybe you need\\r\\neach other...\\r\\n\\r\\nI sympathise, in case that didn't come across, so whilst I appreciate I\\r\\nhave one on you by having a partner (although that can make you feel worse\\r\\nby the way in that you feel like a burden) you also have one on me knowing\\r\\nwhat will make you happy.\\r\\n\\r\\nYou don't need family/partner to feel loved. In fact family's love often\\r\\nfeels more 'because you're family' than out of want. Friends are there\\r\\npurely because they want to be.\\r\\n\",\n",
       " 'dvirnimrod84@gmail.com',\n",
       " \"Hi Hypercat, I really didn't mean any offence, I just meant you have more\\r\\naccess to such activities due to your age. I bet most of the people in\\r\\nthose activities you talk of are of similar age and are in similar\\r\\nsituations due to unemployment, retirement etc. You may well be the\\r\\nyoungest there but I'm sure you have plenty in common with them. In fact\\r\\nI'm envious! All I was trying to say is there isn't that social world more\\r\\nmid 30 year olds, you're kind of expected to be all sociable and loud. My\\r\\none friend tried to get me to go to a craft course - he's ten years older\\r\\nthan me, and he was youngest be 10 years! It doesn't mean its not pleasant\\r\\nto some degree but you do feel very 'odd one out'\\r\\n\\r\\nI apologise if I jumped to conclusions based on your message but I maintain\\r\\nthat with the active social life you live you have LOADS of people who\\r\\nwould miss you. Love is not exclusively available from family and partners.\\r\\nYou seemed to suggest this was why you were largely unhappy so I think you\\r\\nknow what makes you tick; you miss a partner/ family bonds. I'm not going\\r\\nto be stupid enough to say 'fix it' then as it's never that simple, but\\r\\nknowing what would make you happy is a positive; at least it gives you a\\r\\ntarget.\\r\\n\",\n",
       " 'dvirnimrod84@gmail.com',\n",
       " \"Great message. Funnily enough I am/was a teacher too - but I think the\\r\\nenvironment is particularly toxic for those with is style of thinking (the\\r\\nprofession is based around you/ the work never being good enough and what\\r\\ncan you do to improve in the UK)\\r\\n\\r\\nCatch 22 means that once this impacts you to the degree I had to quit my\\r\\njob, it means you cut off a social group and have no money for new\\r\\nexperiences/ days out.\\r\\n\\r\\nAs regards you, I'd stay in Australia! I imagine it's a lot nicer when you\\r\\nhave a crappy day opening the curtains to sunshine! Tthat'd make a little,\\r\\nbut significant difference.\\r\\n\\r\\nI'm not sure what I'll do now, think teaching is gone, can't see what I can\\r\\ndo to keep me 'sane' as a career and find very little point in most things.\\r\\nI go to CBT but it just feels like we're talking about philosophy, my way\\r\\nof thinking hasn't changed one iota.\\r\\n\\r\\nI had no reasons to think this way, I created them almost. Now I actually\\r\\nhave no job etc. I am not a victim, I did it to myself. I think I have just\\r\\ngiven up, if I see 2015 I will be a little surprised as I imagine something\\r\\nwill come along in next few months that will be enough to knock me fully\\r\\nover the edge; an unexpected bill, a worry how I'm impacting on my partner,\\r\\na death in the family - something...\\r\\n\",\n",
       " 'dvirnimrod84@gmail.com',\n",
       " \"I do love travelling but now, having just had to quit work, it isn't even\\r\\npossible for me to 'save' at all. Besides, my gf still has a job so I'm\\r\\ntaking on my full time job of being a burden [image: wink]\\r\\n\\r\\nEverything you write makes perfect sense. But the most relevant part is the\\r\\ntone; you seem to know everything isn't perfect but know your triggers and\\r\\nthat there is good and bad. I was joking about staying in Oz, I fully\\r\\nrecognise complications regarding family etc. Fortunately, or\\r\\nunfortunately, I now have no friends, no job, limited family (that I see\\r\\nrarely anyway) so am not tied to any geographical place. It's just gfs job\\r\\nthat keeps me where I am.\\r\\n\\r\\nI just struggle with people so much that I need a job that has little\\r\\ninteraction. Don't get me wrong, most people would see me as easy going,\\r\\nrelaxed, even funny at work but it is all such a tiring act I can never\\r\\nmaintain it. I just spend my time thinking they don't really like me, or\\r\\nthey think I'm an idiot or that I'm crap at my job. Think I just need to be\\r\\na recluse!\\r\\n\",\n",
       " 'dvirnimrod84@gmail.com',\n",
       " 'We certainly have strong similarities, you seem to be a lot further along\\r\\nin your understanding of you and your triggers though. Going to Australia\\r\\nin the first place is quite an acheivement and you must be doing something\\r\\nright!\\r\\n\\r\\nI too only really get enjoyment from helping others, the issue comes that\\r\\nwhen that \\'problem\\' is solved I feel of no use and begin to withdraw. I\\r\\nhave done it with friends and family. My girlfriend is a case in point, she\\r\\nhad relationship, financial and work issues and I helped her solve all of\\r\\nthese to be in a better place to the point now she considers everything to\\r\\nbe pretty good in those departments, but I have nothing left to offer her.\\r\\nWorse still, I am now only going to be a burdn on her financially and\\r\\nemotionally and can offer her no decent future prospects. All that swims in\\r\\nmy head is \"if you love them let them go\" as staying with her seems very\\r\\nselfish.\\r\\n\\r\\nHowever, she is the first person who I have ever really shared this with.\\r\\nMy past relationships completed the cycle! She understands as much as one\\r\\ncan and is very supportive but I feel that her patience must run out\\r\\neventually (she\\'s a teacher so she does have a lot!) and she shouldn\\'t have\\r\\nto deal with this anyway.\\r\\n\\r\\nIf I were you I\\'d visit America. Not sure where you\\'re going but if you\\r\\nhave the means then do it. If nothing else it is something to look back on\\r\\none day and think \\'wow, I did that\\' and gives you that ton more of info to\\r\\ntalk about with friends, strangers, future partners that can fill those\\r\\nawkward moments when you\\'re not sure what to say! You\\'ve lived abroad,\\r\\nnearly everyone would say that\\'s pretty cool!\\r\\n\\r\\nCheers for the offer of a drink ha ha! But I\\'m so crap I\\'d probably just\\r\\nput it off and hope to be left alone! The lovely thing about the internet\\r\\nis it is so anonymous even I don\\'t mind being honest. The second I meet\\r\\nsomeone I\\'m worrying I\\'m boring them, annoying them etc! Even my CBT doc!\\r\\n\\r\\nI wish I could find just one positive to focus on. I really can\\'t. The only\\r\\none I should have (my gf) I twist to make it one of the biggest negatives -\\r\\nme being a burden to her. I\\'m not fun, I\\'m not confident, I now have no\\r\\njob, I have cr*p future financially, I can never acheive in basic things\\r\\nlike house buying etc (I\\'ve never even owned a car in my name!) because\\r\\nevery time I get myself on an even keel I sabotage it best I can, waiting\\r\\nfor the disaster to hit.\\r\\n\\r\\nCheers for the replies.\\r\\n',\n",
       " 'dvirnimrod84@gmail.com',\n",
       " \"Thanks for the reply, its nice to know you're not alone isn't it? However,\\r\\nit'd be nicer if people said it got any better! I hate the idea that this\\r\\nis forever, like an alcoholic or something!\\r\\n\\r\\nI hope you haven't given up; I don't know how you just 'get over it', for\\r\\ngood or bad! I have no spiritualty (I almost envy those who do!) so am\\r\\nunder no illusions that it gets better after life but, much like someone in\\r\\nconstant physical pain, I feel like I should be allowed to just give up\\r\\nwithout guilt.\\r\\n\\r\\nI fully empathise with your issues, they sound identical! I beat myself up\\r\\na little more as, being a man, society expects you to step up - think I get\\r\\nweird looks when the gf is dealing with everything!\\r\\n\\r\\nI wish you luck with your future too - I hope you are doing something to\\r\\ntry and fight it as I think without at least trying Meds/ Talk therapy etc\\r\\nthen giving up in your head can easily turn in to giving up 'properly'.\\r\\n\",\n",
       " 'dvirnimrod84@gmail.com',\n",
       " 'I have read the replies and sympathise with you all, despite it being some\\r\\ntime since I wrote the original post. Unfortunately little changes.\\r\\n\\r\\nPaulsinbc you sound very similar! I\\'m impressed you can volunteer, I\\r\\nstruggle with people and then somehow feel worse as I think I should be\\r\\nable to cope compared to people who have REAL problems. I\\'ve never felt\\r\\nhard done by or unfortunate - my problems are me!\\r\\n\\r\\nHowever, you\\'re right, there is an element of fanning the flames! The\\r\\nreason I\\'ve largely stopped looking at this site is I don\\'t see a benefit\\r\\nfor me or anyone else. I recognise some may get comfort from support from\\r\\nlike minded people, or signposted to suitable resources or recognise\\r\\nsymptoms of PTS or similar, but for me all I read is people who live with\\r\\nit forever with no answers and that in itself is depressing.\\r\\n\\r\\nPeople say knowledge is power, but I find it to be a curse. The more you\\r\\nknow, the more you realise your insignificance, the hopelessness of\\r\\nsituations and the reality of the world rather than the rose-tinted \\'it\\'ll\\r\\nall work out in the end\\' view we\\'re told to believe. I really struggle with\\r\\nthe inability of professionals to accept that some people don\\'t succeed,\\r\\nsome people do fail, some people aren\\'t talented, some people aren\\'t nice -\\r\\nwhy can\\'t that be me? It\\'s no different than saying \"it can\\'t happen to me\".\\r\\n\\r\\nSo for that reason I\\'m very much keeping this site at arms length. I\\'d\\r\\nunrealistically hoped for advice or signposting or, ridiculously, a miracle\\r\\ncure but it\\'s more a gathering for people to support each other with\\r\\nknowing nods or virtual hugs. I recognise the support that may give to\\r\\nothers but for me, it just makes me feel worse.\\r\\n',\n",
       " 'dvirnimrod84@gmail.com',\n",
       " \"What is it with my compulsion to reply despite my last comment?! [image:\\r\\nwink]\\r\\n\\r\\nYeah 8 months, feels both more and less. Unfortunately I doubt I will\\r\\neither give you insightful answers or even a nice positive slant on my\\r\\nresponse - you have been warned!\\r\\n\\r\\nLittle has changed. I tried drugs, didn't work, I tried therapy, too much\\r\\nreligion and not willing to try again - a weird catch 22 in where you need\\r\\nto ask for help but are afraid of talking to people even day to day.\\r\\nFriends are nonexistent, I quit my job and haven't returned. I still feel\\r\\nlike a burden to those around me, and how ever much they care it doesn't\\r\\nexcuse it - in fact it makes it worse. I can't escape feeling that if I was\\r\\na good person then I'd protect them from me - if you were highly infectious\\r\\nwith a  deadly disease would you hug your family? So internally and\\r\\nexternally, very much status quo. I'm still here, slightly surprisingly.\\r\\n\\r\\nIt is fair to say I'm confused as to my wants and beliefs about my\\r\\nsituation. One day it's just me and there is no hope, next day it's won't\\r\\nplease someone give me a magic wand (but I won't ask!). If I seem\\r\\nungrateful with any responses then that wasn't my intention, maybe it's my\\r\\nway, I always focus on negative and all I see is lots of people struggling\\r\\nand no-one coming out the other side. It feels like the blind leading the\\r\\nblind.\\r\\n\\r\\nFurther more most people seem to have a good reason through circumstance or\\r\\nsubstance abuse or dramas in their life -I'm just like this for no real\\r\\nreason. Pretty pathetic really.\\r\\n\\r\\nMy girlfriend does support me but it both helps me survive and yet stops me\\r\\nfacing my issues and makes me feel not good enough and as if I'm holding\\r\\nher back. I know she doesn't feel that, but I feel like it MUST or it will\\r\\neventually when she realises what she'll miss out on.\\r\\n\\r\\nCycles of mood are continuous but rarely hit a positive slant, some days\\r\\nI'm just ok and potter around and others I feel the strongest urge to give\\r\\nup. The only trigger I know doesn't help (but isn't crucial) is the weather\\r\\nbut that's common with lots of people. A bad day will turn in to a bed day\\r\\neasily if it's grey! Lucky I live in UK [image: wink]\\r\\n\\r\\nI've tried improvements in diet etc but I'm not exactly a bad eater anyway,\\r\\nexercise is fine but doesn't really change anything, just gives me\\r\\nsomething to do. Easily lose will to do it though. My socialising is\\r\\nobviously nonexistent and I try to encourage girlfriend to do her own thing\\r\\nwith friends in that respect.\\r\\n\\r\\nSo in summary, nothings changed, I'm in a state of status quo, every plan I\\r\\ncome up with I find a major flaw in, I strongly doubt there's a way out, I\\r\\nhate the way I look, sound and feel and feel I should protect people from\\r\\ntheir own blinkered love.\\r\\n\\r\\nSo, sorry and hope you have more success.\\r\\n\",\n",
       " 'dvirnimrod84@gmail.com',\n",
       " 'I\\'m not deluded enough to think people wouldn\\'t care if someone close to\\r\\nthem wasn\\'t there anymore. People aren\\'t generally that heartless. However,\\r\\nit doesn\\'t mean they wouldn\\'t be better off. Like a child who is removed\\r\\nfrom an unfit parent; they\\'d cry and be upset and miss them but ultimately\\r\\nthey\\'re better off. We all get over loss - we don\\'t as easily get over\\r\\nregret, disappointment and missed opportunities. Only I hold people back.\\r\\n\\r\\nI agree, I have nothing to really complain about, I almost wish I did as\\r\\nthen it\\'d explain it. I just can\\'t cope with society; I can\\'t even talk to\\r\\npeople on the phone or worry about what a stranger thinks of me. I just\\r\\ndon\\'t know what to do; stubbornness, stupidity, anxiety stops me from doing\\r\\nthings and every time I try to fight it I can only keep up the pretence for\\r\\na while and then everything collapses. I just know I\\'m right - we seem\\r\\nscared to admit some people are just failures and not equipped. We could\\r\\nname loads of people in our lives we could say are useless or horrible etc,\\r\\nbut the second their is an element of affection for them is we decide to\\r\\nlie to them and ourselves - \"they\\'re just unlucky/ need help/ have hidden\\r\\ntalents\" - I don\\'t believe it.\\r\\n\\r\\nI have, and if not struggling, do still do a fair bit of exercise. Cycling,\\r\\njogging etc but fitness has never really helped. In my 20s particularly I\\r\\nwas extremely fit but it didn\\'t help. When I said way I look I meant more\\r\\nappearance than shape.\\r\\n\\r\\nI do appreciate responses but worry there is no hope. Maybe I can\\'t hear it\\r\\neven if there is....\\r\\n',\n",
       " 'dvirnimrod84@gmail.com',\n",
       " \"I smiled at that last comment - my girlfriend says I'm too nice. It's a\\r\\nidea I struggle with (how can someone be too nice?) but she says people\\r\\njust take advantage or walk all over me. I'd bend over backwards to help a\\r\\nstranger even if it detrimented me which is possibly part and parcel of the\\r\\nworrying about what others think element. So whilst on here I may come\\r\\nacross ungrateful I can assure you I'm not really - this is perhaps my\\r\\nselfish place. I've tried to be very thankful for all the responses on\\r\\nhere, I just struggle to see any benefit in it.\\r\\n\\r\\nYou can't say you have a hidden talent and then not say what it is [image:\\r\\nwink] that's just mean...! Good for you though. Genuinely. However some\\r\\npeople are just bang on average, I'm one of those. I'm not in some deluded\\r\\nspiral that makes me think I'm the worst at anything, or have a difficult\\r\\nhand or anything, I'm just realistic and know I, like many others, are just\\r\\nbang on average but if I do dip one way it's always the worse than average\\r\\nway. It's my head that beats me up for my limitations and stops me just\\r\\nfuctioning - it's hard to explain so I'll stop!\\r\\n\\r\\nTrying to think of good things is difficult for me, I can't think of\\r\\nanything I can't put a negative slant on! Maybe I'm good at arguing... But\\r\\nif I look at widely accepted sections of my life it's not a good overall\\r\\npicture:\\r\\n\\r\\nFamily - fed up with me, disappointed and feel sorry for me on one hand.\\r\\nHave never really included me anyway (but maybe that's my withdrawal\\r\\ntendancies)\\r\\n\\r\\nLove Life - good and yet that makes it bad! If I didn't care about her I'd\\r\\nbe quite happy taking advantage but if you love someone you don't want to\\r\\nhurt them in any way, emotionally, financially, future etc. If you love\\r\\nthem let them go as the saying goes...\\r\\n\\r\\nFinancially - was poor, sorted with job, would be cleared up in a few years\\r\\n(credit) but don't struggle day to day at all as girlfriend is very\\r\\nsuccessful. So I'm just leaching...\\r\\n\\r\\nFriends - if you can measure a person by their friends then I'm zero. I\\r\\nmean zero, not one person. My fault, there fault it, it doesn't really\\r\\nmatter.\\r\\n\\r\\nHealth - other than this(!) ok really, standard weight, normal height,\\r\\ndon't smoke, drink or do drugs. Eat reasonably healthily and do sport\\r\\nsporadically when it's either sunny and/or I have a spark of inspiration.\\r\\nTried routines, lasted a week before a bad day threw it all off.\\r\\n\\r\\nCareer - down the pooper! Can't return to full time teaching, know I can't\\r\\ndo that. To 'stuck up' for want of a better word to take a shop job knowing\\r\\nI trained to be a teacher. Also can't find another job that is term time\\r\\nonly (to spend time with partner). I'd struggle in ANY job anyway. Too\\r\\noverqualified for most things that might suit purpose. Supply is\\r\\npossibility but that means new people and stuff every day - not my string\\r\\npoint! Plus it means phone calls for availability and I can't talk on\\r\\nphone! Pathetic, whinging, excuse riddled crap eh? Not on benefits or\\r\\nanything as gf is on plentiful wage.\\r\\n\\r\\nLooks - awful, have the face of a teenager who can't grow even a hint of a\\r\\nmoustache never mind a beard which means I'm constantly asked for ID (or my\\r\\nparents if a knock at the door) despite being 34!!! People say you should\\r\\nbe flattered but to me it feels like a kick in the face - maybe it's the\\r\\nbloke thing, it's like people telling you you're a child. I almost am a\\r\\nchild... My facial skin is awful too, no creams or regimes suggested by the\\r\\ngirlfriend work so I've just given up. Maybe I'm an expert at giving up!!\\r\\nTo be fair, all things above have been tried for at least 6 months from\\r\\ndrugs to therapy to face cream!\\r\\n\\r\\nI do appreciate your help/advice. I still wonder if it's just character\\r\\nrather than depression. Maybe I'm just a cynical, boring, lonely, ugly\\r\\nloner. That's fine when it's just you, a killer when you feel you're\\r\\nholding others back from a 'proper' life.\\r\\n\",\n",
       " 'illonashachar78@gmail.com',\n",
       " 'I am in restaurant with my friend but she is going home soon.\\r\\nI will be close to Your hotel in 15 minutes.  I would like to say good bye\\r\\nto You.  I will let You know when I will be outside Your hotel.  And go out\\r\\nthere ok?\\r\\n',\n",
       " 'illonashachar78@gmail.com',\n",
       " 'Ok but I think everything will be closed soon.  Exept of Mcdonald !\\r\\nWe can go to mcdonald.\\r\\n',\n",
       " 'illonashachar78@gmail.com',\n",
       " 'Hey are You sure that You want meet with me? Dont You prefer to sleep?\\r\\n',\n",
       " 'illonashachar78@gmail.com',\n",
       " 'Thank You Shavit! !!! IT was so nice to meet You =F0=9F=98=97  I would like=\\r\\n to visit\\r\\nIsrael very much, I will let You know before I come =F0=9F=99=82 and let me=\\r\\n know next\\r\\nyear when You be in Poland ! Sleep good and have safe travel to Yehud :)\\r\\n',\n",
       " 'illonashachar78@gmail.com',\n",
       " 'Hi Shavit ! =F0=9F=99=82 how are You?  I moved to Warsaw today. I often thi=\\r\\nnk about\\r\\nYou, I had so nice time with You =F0=9F=99=82 Could I visit You in Izrael d=\\r\\nuring\\r\\nupcoming winter?\\r\\nGreat thank You!  I met 2 girl\\r\\nyesterday who were in Israel  and they told me I can feel safe during\\r\\nsaightseeing Israel by myself (because I know You work and have another\\r\\nthings to do SO I wouldnt like You to change Your plans and make any\\r\\nproblem for You )\\r\\n',\n",
       " 'illonashachar78@gmail.com',\n",
       " 'Hey ! I am sorry I wrote that I would talk to You in 30 minutes but I was\\r\\nso busy. My friend called me to talk about her problem, then I made quick\\r\\ndecision to go to Lublin to take my stuff and come back to Warsaw tomorrow\\r\\nso I am in bus to Lublin now. Yes I changed city and I am starting work on\\r\\nmonday. Shavit thank You =F0=9F=99=82 You are so nice and I miss our conver=\\r\\nsation too\\r\\n!!!    Today is first day with quite good weather since You left Poland!  I\\r\\nmean: without rain!\\r\\nAll of my friends who were in Izrael recomend me to go there.  They said IT\\r\\nis amazing there =F0=9F=99=82 If You are working now, answer me later.  Hav=\\r\\ne a nice\\r\\nday =F0=9F=98=97\\r\\nOh I just remember that You dont work this week =F0=9F=98=9B\\r\\n',\n",
       " 'illonashachar78@gmail.com',\n",
       " 'I dont know yet but I hope I will be able to come to Izrael    in January\\r\\nor February. Would it be ok for You?\\r\\nWhen would be the best time for You?\\r\\nShavit I can rent room in hostel not to make any problems, but It would be\\r\\ngreat to meet with You =F0=9F=99=82\\r\\n',\n",
       " 'dvirnimrod84@gmail.com',\n",
       " \"Resisting the urge to get in to a theological debate... let's just agree to\\r\\ndisagree. Sometimes I envy those with faith, today I almost feel anger...\\r\\nAnyway, my problem not yours.\\r\\n\\r\\n=E2=80=8BI hope things improve for you,hopefully your faith gives you a bas=\\r\\ne to\\r\\nwork from and you turn around those feelings you have. If you believe what\\r\\nyou have written then I feel you are closer than you think you are to\\r\\naccepting/being happy.\\r\\n\\r\\n=E2=80=8BI'm as tired as I've ever been. Tired, bored and had enough. I can=\\r\\n't even\\r\\nthink of a positive thing to say. I think I'm ready to sleep now.\\r\\n\",\n",
       " 'illonashachar78@gmail.com',\n",
       " \"Wow thats great.  Warm!  I wanted to write ''super'' in Your language but I\\r\\ncant copy this signs from internet and put it here .\\r\\n\\r\\nThx =F0=9F=99=82 Because Polish language, especialy pronunciacion is diffic=\\r\\nult so it\\r\\nis easy for us to say words in Your language. But You are quite good at\\r\\nPolish too\\r\\nYes =F0=9F=99=82 does Your grandmother sometimes speak polish with anybody =\\r\\nor she\\r\\ndoesnt have opportunities to use it?\\r\\n\",\n",
       " 'illonashachar78@gmail.com',\n",
       " 'Yes I remember she is 90. Does she undersand a lot when she hear polish?\\r\\n\\r\\nOh yes You told me that they were living in Rumunia but my mind was focused\\r\\ndo much on Your grandmother from Poland that I forgot about the rest. .....\\r\\nI am sorry =F0=9F=99=82\\r\\n',\n",
       " 'illonashachar78@gmail.com',\n",
       " 'Yes I feel it =F0=9F=99=82\\r\\nMeybe Your polish side live longer because Your grandmother and\\r\\ngrandfather  had so difficult live when they were young so they become\\r\\nstronger for everything. I know meybe it is a little stupid what I wrote.\\r\\n...\\r\\n',\n",
       " 'dvirnimrod84@gmail.com',\n",
       " \"Let me start by saying I feel for you, I really do. You have a GENUINE\\r\\nreason to feel like you do and should not feel bad or apologise for asking\\r\\nfor help! You make me feel even more pathetic but that's my issue rather\\r\\nthan yours!! Perspective makes me think even worse of myself as I know I'm\\r\\nlucky compared to lots - so why do I feel like this?\\r\\n\\r\\nAs regards the drug route, a lot of people have suggested this. However one\\r\\nmajor issue stops me and is not really ever talked about - I'm terrified of\\r\\npeople/meetings etc! So I can't see a Doctor! When at my lowest I was being\\r\\nferried around so had no choice and needed a Doctors note etc but now the\\r\\nthought of seeing a Doctor (or any body I know I have to talk to) terrifies\\r\\nme to the point I'd almost have a panic attack. So not sure what to do\\r\\nthere really! Still not convinced on the drug thing anyway - it only made\\r\\nme slightly manic (obsessed with projects) and had no effect on my overall\\r\\nmood at all, well other than making the idea of 'going' seem even more\\r\\nrational.\\r\\n\\r\\nSo instead of me whinging on and on let me just make a few completely\\r\\nuneducated comments regarding your situation. You don't seem depressed so\\r\\nmuch as tired! I don't mean that in a dismissive way but you clearly have a\\r\\nlot on your plate and I think (if there is any) you need some support. I'd\\r\\ngo as far as saying I doubt the drugs are halping you - they seem to be\\r\\ntreating a symptom not a cause.\\r\\n\\r\\nDid you have anxiety before all the pressures you're under? I think you'd\\r\\nfeel a hell of a lot better quicker if you directed your energy to finding\\r\\nfinancial and/or respite support if there is any. You're probably doing too\\r\\nmuch and it's impacting on your health physically and emotionally. If there\\r\\nisn't any further help then, other than shaking your head at the hand\\r\\nyou've been dealt, then you seem to have a good plan of action at the\\r\\nmoment. If that plan could be super organised to include you (as in time\\r\\nfor yourself etc) and maybe incorporate a job (if you so wished) you may\\r\\nfind you were in control a bit more.\\r\\n\\r\\nI'm not trying to sound dismissive at all I promise! You have a compelling\\r\\nreason to feel the way you do and I acknowledge I'm talking without all the\\r\\nfacts. I just get the sense it's a lack of control on a very hectic/\\r\\nemotional draining life that is you're primary concern. For example, if you\\r\\nwon the lottery and could deal with all the bills and give the care to your\\r\\ndaughter you wish do you think you'd feel infinitely better? You're\\r\\ndepressed because of the situation I think so hopefully either you, or you\\r\\nand others, could plan a route that would help you considerably. I think\\r\\nthere is a lot of hope for you to be VERY happy and enjoy your life with\\r\\nyour daughter but you've just been struggling for years and it's worn you\\r\\ndown. Asking for help (other than medicinal) is the right way to go.\\r\\n\",\n",
       " 'illonashachar78@gmail.com',\n",
       " 'Oh thats bad!  This is not good explanation,  they should go to doctor!\\r\\n!!!!!!!!!!!!!!\\r\\nYou remainded me sth : I read great book last month about one American\\r\\nCouple (70 old woman with Cancer and her 75 years old husband with\\r\\nAlzhaimer who escaped from hospital to travel in camper through 66 Road\\r\\nfrom East side of US to California (to Disneyland and Santa Monica where\\r\\nthey met the first time ) and when they finished their trip and were\\r\\nsleeping in camper woman put their documents on the table, started the\\r\\nengine and closed every windows in car ....... IT was wonderful book =F0=9F=\\r\\n=99=82\\r\\nThey reduced time of living but raised standard of living.    I dont\\r\\ncomment if she made good or wrong decision. I dont know why I shared this\\r\\nstory with You but we were talking about old people and time of life so.\\r\\n..... =F0=9F=98=9C\\r\\n',\n",
       " 'illonashachar78@gmail.com',\n",
       " 'I am fine =F0=9F=99=82 thank You! Yes tomorrow is my first day and I am a l=\\r\\nittle\\r\\nstressed like always when I get new job.\\r\\nI am going to studying today   . I was out yesterday evening with my new\\r\\nfriend and her friends and we were playing billard so my weekend is ok =F0=\\r\\n=9F=99=82\\r\\nWhat about You?\\r\\n',\n",
       " 'illonashachar78@gmail.com',\n",
       " 'Really ?? I know some people in poland who have it  but  almost everobody\\r\\nuse messanger. Why do You need wattsap if You have messanger?\\r\\n',\n",
       " 'illonashachar78@gmail.com',\n",
       " 'Ok! I will let You know when I install watssap.... I am going to synagogue\\r\\nin the evening to take part in sightseeing trip and  hebrew language lesson\\r\\n=F0=9F=99=82\\r\\nToday is special day when many tamples (other religious ) are open and\\r\\nthere are organised special events inside\\r\\nWhat about You ?\\r\\n',\n",
       " 'illonashachar78@gmail.com',\n",
       " 'Hey Shavit =F0=9F=99=82 best wishes because of 5778 year!\\r\\nHow do You celebrate it?  Arent You working these 2 days ?\\r\\nI was in synagogue and saw a part of shabat but didnt take part in hebrew\\r\\nlesson because I didnt feel good (I was cold )\\r\\n',\n",
       " 'illonashachar78@gmail.com',\n",
       " 'Hi Shav thank You =F0=9F=99=82 I thought about You too =F0=9F=98=AD !!! Yes=\\r\\n I have good time in\\r\\nWarsaw.  I am reading great book today (reportage about Israel people )....\\r\\nWhere was this picture taken (I mean new photo which You put on facebook\\r\\ntoday ) ?\\r\\n',\n",
       " 'illonashachar78@gmail.com',\n",
       " 'Wow thats great =F0=9F=99=82 I thought it is Poland on picture because it l=\\r\\nooks\\r\\nfamiliar !!! =F0=9F=99=82 I will write to You later because I am working no=\\r\\nw.  Have a\\r\\nnice day =F0=9F=99=82\\r\\n',\n",
       " 'illonashachar78@gmail.com',\n",
       " 'hey Shavit =F0=9F=99=82\\r\\noh You went to sleep =F0=9F=98=9E I will write to You another evening when =\\r\\nYou will\\r\\nbe available. I can write to You only when I am home (using messanger on my\\r\\ncomputer) because my telephone is broken and I cant write long messages on\\r\\ntelephone.... Good night =F0=9F=99=82\\r\\n',\n",
       " 'illonashachar78@gmail.com',\n",
       " 'hey Shavit are U going to be in israel  19-25/27.04 .? Would it be good\\r\\ntime for u to meet with me ? i am not asking about hosting me (i know it\\r\\nis  it is too early to ask about it ! ). ...\\r\\n',\n",
       " 'dvirnimrod84@gmail.com',\n",
       " \"Please don't be sorry - very aware that's my issue not yours!\\r\\n\\r\\nYou sound like you have a very clear plan, you almost sound excited! I'm\\r\\nsure you are, but if you're not do, but make that your focus and you may\\r\\nfeel the clouds lift quite a lot! I envy that purpose, or goal or action\\r\\nplan - I can't think of any!\\r\\n\\r\\nI think my girlfriend might stay with someone she felt sorry for, like a\\r\\nresponsibility for so to speak. I think she WOULD be sad if I 'left' but\\r\\nshe'd be happy again a lot sooner than having to live with me! It's quite\\r\\nanalytical, I recognise that, but to me I'd rather her be sad for a year\\r\\nwith 'loss' rather than sad for 20 years with me! It's weighing up value,\\r\\nshort term pain for long term gain... As for a job, my head stops me, I\\r\\nfeel I can do most jobs but only temporarily as my head messes me up,\\r\\nmesses my professional relationships up and I just can't see how I can hold\\r\\ndown a job - it's hard to explain, but being sociable (like you have to be\\r\\nat work) is almost physically draining and eventually my energy runs out\\r\\nand I drop all the balls I'm juggling.\\r\\n\\r\\nYou may be right about reason for depression but the genetic one concerns\\r\\nme most - that means I'll never be 'fixed'... I'd rather just give up now.\\r\\n\\r\\nOrdinary to me is depressing. Ordinary is forgetable, ordinary is boring,\\r\\nordinary doesn't 'exist'. To give you a glimpse of my thinking; the popular\\r\\nkids in school were 'exceptional', but even the bullied kids had something\\r\\nabout them. When you're average, you're invisible. You can take the\\r\\n(friendly) mick out of someone who's bad at something, you can admire the\\r\\ntalent of someone who's great at something, but when someone is average\\r\\nit's just a shrug, no story, move on. I'm genuinely the most forgettable\\r\\nman in the world! I'm one of a large group of siblings, I'm one forgotten\\r\\nin family dos, I was one forgotten at school (old teacher remembered all\\r\\nsiblings during catch up chat to parents bar me) I'm one forgotten at work\\r\\n- I really am a waste of space!\\r\\n\\r\\nThe media's main fault is trying to make people believe that happy endings\\r\\nexist, that we all have a hidden talent and if you want something enough\\r\\nthen it magically comes true. Sorry, my view is very much it doesn't! It\\r\\ndoesn't 'all work out in the end' and we're just fed this fantasy world\\r\\nthat depresses us when the reality slaps us in the face!\\r\\n\\r\\nSorry - trying so hard not to just 'release' on here....\\r\\n\",\n",
       " 'illonashachar78@gmail.com',\n",
       " 'oh great... the flight tickets are  sale now. I will buy it ok? ( even if\\r\\nYou would be very busy this time, it would be be nice to meet with You even\\r\\none time.... =F0=9F=98=89\\r\\n',\n",
       " 'illonashachar78@gmail.com',\n",
       " 'Yes I am still working in Warsaw  =F0=9F=99=82 but I will have 3 months of =\\r\\nvacation\\r\\nfrom 15 Aprill =F0=9F=98=84\\r\\nWinter in Poland is not so cold this year ! more than 0 Celcius degree\\r\\nalmost every day\\r\\nhow are U?\\r\\n',\n",
       " 'illonashachar78@gmail.com',\n",
       " 'dont know yet but probably during my 3 months vacation. I am  planning to\\r\\nspend about one week in Lisbon and go from Lisbon to Santiago de\\r\\nCompostella on foot ( 520 km, people who are following this trail can sleep\\r\\neveryday in hostels for only  5 Euro ! )\\r\\n',\n",
       " 'illonashachar78@gmail.com',\n",
       " \"my telephone's battery was dead.....70 years! great, I will be  happy to\\r\\nsee how people in Israel celebrate it =F0=9F=99=82  oh to be honest Poland =\\r\\nin winter\\r\\nis not good idea, I always feel I would like to escape from my country\\r\\nduring winter =F0=9F=98=9E\\r\\nI am going to Portugal at the beginning of may for about 3 weeks  =F0=9F=98=\\r\\n=80 =F0=9F=98=80 =F0=9F=98=80\\r\\n=F0=9F=98=80\\r\\n\",\n",
       " 'illonashachar78@gmail.com',\n",
       " 'yes, i hope it will be great.... I belive it must be amazing in India, (U\\r\\nhave to remember about vaccinations before going there, it is so dirty\\r\\n.......=F0=9F=98=A8 )\\r\\n',\n",
       " 'dvirnimrod84@gmail.com',\n",
       " \"Please do not get me wrong, I do not believe any one characteristic makes\\r\\nsomeone of no value, further more I think it'd be impossible not to be of\\r\\nSOME value, it's just to what weighting you give a value when compared to\\r\\nall the problems it may cause. For example, alcohol gives you a small boost\\r\\nbut, when abused, can cause significant problems. For those with a problem,\\r\\nit may be better to just give up the alcohol.\\r\\n\\r\\nI too have multiple issues with religion (that's a real rant!) but I don't\\r\\nthink anyone has the right to judge another. I would never judge anyone\\r\\nelse as worthless, but I know myself and can judge myself. I stand by that\\r\\njudgement based on what I know, what I do, what I think and the proof I\\r\\nhave. A person suffering from anorexia will ignore the scales reading too\\r\\nlow a weight, I suffer from no dilusions. Everything points to me being\\r\\neverything I think I am.\\r\\n\\r\\nYou sound like a much better person than me, you maintain strength in\\r\\ndifficulty and have the fight in you to counter injustice. I can barely\\r\\nface people so volunteering is out of the question, whether that is lazy or\\r\\ncowardly, I simply can't pretend to be 'normal' any more and public is so\\r\\nmuch energy.\\r\\n\\r\\nI am a faceless person on here. The reality of me is much worse.\\r\\n\",\n",
       " 'dvirnimrod84@gmail.com',\n",
       " \"I care a lot about most people, more than is healthy perhaps. I take on\\r\\nothers problems if I can and feel more useful if I'm helping someone else.\\r\\nI'm often accused of making people's decisions for them regarding me\\r\\nthough, although I don't see that as an issue if I'm protecting them. For\\r\\nexample I say I should leave gf to protect her, she and family say it's her\\r\\ndecision to give up on me not mine. I still struggle a lot with that way of\\r\\nthinking. I feel you should protect people, even from themselves sometimes.\\r\\n\\r\\nA reply after 8 months due to some shift.... bit more mundane I'm afraid,\\r\\nsomeone replied after a long time, put effort in to their thread and I had\\r\\nan email telling me so I felt it was polite to respond! Sorry!\\r\\n\\r\\nIs 'holding back' a strange metaphor?! :D But yeah, maybe that's what it is\\r\\n- in fact it'd be easier to escape as I have no upper body strength at all!\\r\\nBut it's meant more in the way that if I struggle through on the low level\\r\\nI am my girlfriend will put up with it and not have the marrigate, house,\\r\\nholidays, and have to basically look after me (phone calls, sorting\\r\\nanything that invloves others, avoiding social events to look after me)\\r\\nwhere as if I went, she'd be sad for a while, perhaps never even forget,\\r\\nbut move on and get a 'proper' boyfriend and get all that stuff. She didn't\\r\\nsign up for this - she met the fake easy-going confident full time teacher\\r\\nwith prospects...!\\r\\n\\r\\nIs there such thing as too much time on a computer?! I didn't realise! I\\r\\nfilled in a survey the other day - it said how long do you spend on the\\r\\ninterent a day. I was strugling to find the 'all day' option!\\r\\n\",\n",
       " 'dvirnimrod84@gmail.com',\n",
       " 'It\\'s strange talking on the internet as you answer one comment but then\\r\\nsomeone else adds an extension question, but all of it is stuff you\\'ve\\r\\nthought before. Does that make sense?! Another words, whilst I offer my\\r\\nopinion on a particular though process it doesn\\'t mean I\\'ve not actually\\r\\ngone far beyond that in my own thinking.\\r\\n\\r\\nSo to answer your very well thoughout view, it is all stuff I have thought\\r\\nof before and almost counted out! I\\'m just a whiner obviously [image: wink]\\r\\n\\r\\nIf I did what I want I\\'d be sportsman, but then we have to be realistic and\\r\\nsay that isn\\'t going to bring in any wage! Besides, I also know I struggle\\r\\nin team situations in reality as I struggle with the bravado that is\\r\\nespecially prevalent in male sports. So what else do I enjoy, genuinely,\\r\\nnothing. But even I recognise that might be an extension of my apathy.\\r\\nTeaching is fun, I love working with kids... but the other teachers,\\r\\nparents, Ofsted, paperwork, and most constant judgement of any career makes\\r\\nit impossible. On a side note, if you have any issues with self confidence,\\r\\nteaching is NOT the way to go! I\\'ve never known a career in which you\\'re so\\r\\nreguarly scutinised and there\\'s always something you could have done better\\r\\n- and if you\\'re of a fragile nature you naturally only focus on that.\\r\\n\\r\\nNo jobs don\\'t have to be people based, I too have worked in media as a\\r\\njournalist (although that is people based!) but can\\'t think of anything I\\'d\\r\\nenjoy or, more pertinently, be able to do - skill, time or wage wise!\\r\\nSetting up a cattery would be nice, but need money for that. Being an\\r\\narchitect always appealed by I have neither the time (course duration) or\\r\\nthe skills to do it!\\r\\n\\r\\nI\\'m not sure if this is normal or not; I struggle with people but also\\r\\nstruggle alone. It\\'s not like once I have escaped people I feel relaxed.\\r\\nMaybe I\\'m in a sydrome called \\'grass is always greener\\'! When left alone I\\r\\nam even more self destructive in my thoughts - thinking time is not good\\r\\ntime.\\r\\n\\r\\nI do appreciate you saying \\'maybe there isn\\'t anything you massively excel\\r\\nin\\' - it\\'s those kind of statements that make me think people are writing\\r\\nrealistically rather than using a softly softly approach. It\\'s not like\\r\\nnegatives are the only reality but I can only begin to believe a statement\\r\\nif people acknowledge the bad. People saying \"I\\'m sure you\\'re good at x\"\\r\\njust makes me turn off, someone saying \"Ok, you\\'re crap at that BUT\\r\\ntry....\" is much more realistic. Unfortunately I haven\\'t found the good\\r\\nthing!\\r\\n\\r\\nI know that \\'you\\'d be better off\\' is an extremely frustrating statement.\\r\\nThe question is, do you reveal what you\\'re thinking or keep it to yourself?\\r\\nI always say \\'be careful what you ask or you might not like the answer\\',\\r\\nbut if I\\'m being asked to open up and not bottle feelings then where is the\\r\\nline on what is acceptable to share and what isn\\'t? I can\\'t help very\\r\\nstrongly feeling that.\\r\\n\\r\\nI do think time heals and it seems logical to reduce any pain to it\\'s\\r\\nminimum; a year or so after I\\'m gone or a lifetime of regrets, missed\\r\\nopportunities and struggles with me around. I can\\'t do the whole marriage,\\r\\nkids thing. I am next to useless when it comes to mortgages and luxuries.\\r\\nWe all start with dreams of being rich and famous and having everything we\\r\\nwant, we then give up certain dreams as childhood subsides and reality\\r\\nkicks in, as we get older we give up more and more dreams as we can\\'t\\r\\nachieve them. But once you\\'ve given up every dream, don\\'t you just fade\\r\\naway? A very old person knows they will not travel the world again, they\\r\\nknow they can not look like a 30 year old movie star, their wish may be to\\r\\nsee a grandchild go to university or even simply to reach 100. But once\\r\\nyou\\'ve done everything you can do, or know you will ever do, then, to me,\\r\\nit feels like it\\'s time to go.\\r\\n\\r\\nI tried the meds, ok only once, but it didn\\'t work. I can\\'t face going back\\r\\nto the doctors again and having to talk about all this. It feel so pathetic\\r\\ntalking to a grown man about my piddly stupid head. There\\'s people going in\\r\\nthere with proper problems, or at least fixable ones!\\r\\n\\r\\nAm I afraid of death? Not really, the thought of it is very much in my\\r\\nhead. And I mean the actual thought, not the before or the after, the\\r\\nthought of that last breath then nothing. I don\\'t think greatly of the\\r\\ndrama of after a death (like \\'oh people will miss me etc etc) I just am\\r\\ntransfixed on the thought of that very last spark of the brain. It will\\r\\ncome one day. Whilst I\\'m very careful not to talk about suicide on here\\r\\n(\\'gone\\' or \\'left\\' being much friendlier terms) I know I\\'d never make me\\r\\npassing traumatic for train divers, dog walkers or unsuspecting family\\r\\nmembers.\\r\\n\\r\\nBungee-jumping, skydiving or Vegas all sound great. But that\\'s where the\\r\\nreality sets in, how exactly am I paying for this?! If there was one thing\\r\\nthat I think would have the greatest impact on my mental health it\\'d be\\r\\nwinning the lottery - I could then distract myself with things, or feel\\r\\nlike I was providing for my family. I\\'d still have those demons, I\\'d still\\r\\navoid people, I\\'d still have no friends etc, but instead of stewing I\\'d be\\r\\nbeing kept busy on a beach in Hawaii! Money doesn\\'t solve everything, but\\r\\nit makes the low points easier to deal with as you can more readily escape.\\r\\nI do love travel that being said, and when ever I can afford it I do.\\r\\n\\r\\nI\\'m never going to feel differently to the way I do... that\\'s as far as I\\'m\\r\\nwilling to agree with your last statement! [image: wink] I\\'ve actually\\r\\ntried the big changes, I\\'ve tried doing the things that scare me or out of\\r\\nmy comfort zone. I went to University alone, along way away from family, I\\r\\ntravelled Europe camping for a summer, I took on jobs I didn\\'t think I\\r\\ncould do, I moved to new areas with no contacts. I think I\\'ve done\\r\\neverything I\\'m \\'supposed\\' to improve myself and my thinking. But none of it\\r\\nworked, all of is (possibly self-inflicted) failed, I always reverted to\\r\\n\\'type\\'.\\r\\n\\r\\nI appreciate everyone on here giving their time to convince me otherwise. I\\r\\nhave never doubted there are very nice people in this world, just as there\\r\\nare horrible ones. I do believe the horrible ones get a \\'better\\' life but\\r\\nthat\\'s a different conversation. But I\\'m beginning to find that me\\r\\nanswering these views is just making me more sure I\\'m right - I\\'m a\\r\\nhopeless case.\\r\\n\\r\\nWhether it\\'s depression, anxiety, personality, whining, my fault, other\\'s\\r\\nfault, luck or time it now kind of strikes me as irrelevant. I\\'m at this\\r\\ndestination, there are no more stops.\\r\\n',\n",
       " 'dvirnimrod84@gmail.com',\n",
       " \"Kick away!\\r\\n\\r\\nFair enough, I don't do much at the moment. I occasionally do a little bit\\r\\nof exercising (jogging/cycling) but a grey cloud, real or metaphorical,\\r\\nquickly kills any energy I have! I don't think it's the lack of doing\\r\\nanything that causes this however, I'm still 'better' than when I was at\\r\\nwork/ socialising - but then if this is the best it gets... well.\\r\\n\\r\\nI have visitied the Doctor, and for the record he was really nice. Very\\r\\nsupportive in fact. But it didn't change the fact I felt stupid and as if I\\r\\nwas wasting his, and others, time. I remember being really worked up about\\r\\nthe fact our appointment slot was overunning because I felt like I was\\r\\nholiding up other people. But I did that because my girlfriend was with me\\r\\nat all times (and forced me!) and because I needed to get a Doctors note\\r\\nfor work. Now I no longer work, I no longer need to waste people's time.\\r\\nBut you're right, I'm an expert in giving up!\\r\\n\\r\\nThe girlfriend question comment is a difficult one and the one I battle\\r\\nevery day more than anything else. If I leave her there is nowhere to go,\\r\\nthat really is it. I mean that in the practical sense here, house etc but\\r\\nalso it means that really is the end. I stay through her appeals and for\\r\\nmaybe that ounce of hope that she, and others, are right that it'll pass.\\r\\nAlthough I've always been like this. I'm not staying with her for ease, or\\r\\nto string her along, but leaving her really is a final decision - I have no\\r\\nbelief there is something better than her. Probably makes no sense. The 1%\\r\\nhope keeps me alive, therefore the 1% keeps me here. If I lose the here, I\\r\\nhave absolutely zero interest in the alive.\\r\\n\\r\\nI really do appreciate your replies, a constructive kick is better than a\\r\\ncompassionate hug for me. But I can't find that kick that I can't talk my\\r\\nway around or explain away. I hate my head! I have actually tried\\r\\neverything I'm supposed to, maybe not for long enough, but I've seen zero\\r\\ndifference. Leaving work calmed me down and made me able to uncurl from a\\r\\nball but does that mean I can never return to a job? That then creates\\r\\ndifferent problems emotionally and financially.\\r\\n\\r\\nI saw the CBT guy but, nice as he was, he tried a religious route with me\\r\\n(never going to work) and I put on my fake chatty character for the hour,\\r\\neven if I was tired afterwards. It didn't do anything. Even if I try to get\\r\\nrefered again by the Doctor, I'd actually be scared that I'd be seeing him\\r\\nagain, or be seen to have asked not for him - and although I'm fairly sure\\r\\nhe wouldn't care, it genuinely freaks me out! How messed up is that?!\\r\\n\\r\\nI'm actually ok, if I prepare well, for an hour or so around people - I can\\r\\nseem easy going and chatty, any longer than that and it gets difficult. If\\r\\nI can't prepare, i.e. I know there will be questions I'm not expecting or\\r\\nit's someone I feel who will judge me e.g. a car mechanic as a 'guy' then I\\r\\ncan't do it. How silly is this - I still get uneasy surrounded by teenage\\r\\ngirls! I'm not in the remotest bit interested in them obviously, but just\\r\\nthe feeling of inadequacy/ that I'm a loser makes me feel 'weird'. Same\\r\\nwith family, there is a duration before it gets too personal; I can feel\\r\\nmyself being overly happy and lively around them as if it's all pouring out\\r\\non first meeting them but that there is a finite amount and then my energy\\r\\ndrops and I disappear.\\r\\n\\r\\nGrrr.... I'm whining again. Shoot me.\\r\\n\",\n",
       " 'itaicohen266@gmail.com',\n",
       " \"No =E2=80=93 the intent of this guide isn't a how-to or strategy guide. My =\\r\\nintent\\r\\nis to build an index of all the great information that available on pet\\r\\nbattling that is currently scattered across sites and posts and condense it\\r\\nto one location. I'm hoping to keep this fairly up-to-date as best I can.\\r\\n\\r\\nIf you spot that I've got some information incorrect, some information is\\r\\nmissing, or you have some information/link/macro/addon you'd like to share,\\r\\nplease let me know in the comments and I will update.\\r\\n\",\n",
       " 'itaicohen266@gmail.com',\n",
       " \"Pet battles are one of the features Blizzard introduced with the Mists of\\r\\nPandaria expansion for WoW. Currently, they're mini-games within the game,\\r\\nintended as an alternative action or for when there's down-time in the\\r\\ngame. As there are really no rewards outside of pet-battle rewards (more\\r\\npets, achievements, titles, pet battle supplies), they are not an\\r\\nalternative to gearing up your character.\\r\\n\",\n",
       " 'itaicohen266@gmail.com',\n",
       " \"You need to have a character that is level 5 and have 10 gold. You also\\r\\nneed to have a full account - pet battles will not work on starter/free to\\r\\nplay accounts. If you meet the requirements, head to a Pet Battle trainer\\r\\nto learn. (link to locations: http://www.wowpedia.org/Battle_Pet_Trainer)\\r\\n\\r\\nOnce you've learned the skill, a couple of things will happen. You'll get a\\r\\nseries of basic quests from the trainer which will teach you the basics of\\r\\npet battling and you'll notice little green paws on your mini-map. Those\\r\\npaws represent pets you can battle with. You can select to track pet\\r\\nbattles with the same mini-map button you use to track everything in game.\\r\\n\",\n",
       " 'itaicohen266@gmail.com',\n",
       " \"Ten gold is too much for new characters!\\r\\nIt's supposed to be. Blizzard added the pet battle system as a mini-game\\r\\nfor experienced players. New players should be focused on learning to play\\r\\nthe game. However, with the recent hotfix reducing training from 100g to\\r\\n10g, this should be available much sooner for new players.\\r\\n\",\n",
       " 'itaicohen266@gmail.com',\n",
       " 'Right now, the total pet cap is 1000. However, if you came into MoP with\\r\\nmore than the cap, your extra pets are still there =E2=80=93 you just can\\'t=\\r\\n catch\\r\\nadditional pets. Once you dip below the cap, you can catch new pets.\\r\\nIn Legion, completing a series of World Quests will reward players with an\\r\\nitem, the Pocket Pet Portal (\\r\\nhttp://www.wowhead.com/item=3D139003/pocket-pet-portal), that raises their\\r\\npet cap to 1500. The Pocket Pet Portal is rewarded from completing the\\r\\n\"Battle on the Broken Isles\" achievement, which requires completing 30\\r\\nWorld Pet Battle quests.\\r\\nIn addition, you can only have up to 3 of each unique type of pet. Again,\\r\\nif you came into MoP with more than 3, those pets are still there. Until\\r\\nyou release/cage the extras, you are unable to add more of those unique\\r\\ntype of pets. For example, I started MoP with 9 Cornish Rex cats. Until I\\r\\ncaged my extras, I was unable to learn/add additional ones.\\r\\nHowever, some pets are unique no matter how many you had across your alts.\\r\\nPretty much any Bind to Account pet (such as the Wind Rider Cub or the 4th\\r\\nanniversary Baby Blizzard Bear) and achievement pets (such as Nuts) will\\r\\nonly exist as a single copy in your pet journal.\\r\\n',\n",
       " 'itaicohen266@gmail.com',\n",
       " \"You may already have a pet collection and have all you need to get started.\\r\\nHowever, if you're brand new and are starting with nothing, you have\\r\\nseveral options. The Pet Trainer who taught you how to battle will also\\r\\nsell you a pet based on your starting race. You can visit any of the pet\\r\\nvendors in game to purchase additional pets (opposite faction pets will\\r\\neither require you to visit the AH or roll an alt to purchase). Some pets\\r\\nare awarded from quests, some pets are drops, some pets are awarded from\\r\\nachievements, some pets are obtained from special events, some are for sale\\r\\nin the Blizzard store, and some are obtained from the trading card game.\\r\\nA lot of battle pets are obtained via battling and capturing wild pets\\r\\n(this is covered further on in the FAQs).\\r\\n\\r\\nMany battle pets are able to be sold on the AH. However, any pets that are\\r\\ncaptured in the wild are NOT able to be caged/sold. Currently, Blizzard has\\r\\ndisabled the selling of captured pets (this is discussed further on in the\\r\\nFAQs). IMPORTANT: If you buy a pre-leveled pet off the AH, you won't be\\r\\nable to add it to your collection unless you already have a pet of that\\r\\nlevel!\\r\\n\\r\\nWarcraftpets is the definitive site for where to obtain pets. (link:\\r\\nhttp://www.warcraftpets.com/) WoWPedia has a fantastic listing of all the\\r\\npets in game as well. (link: http://www.wowpedia.org/List_of_companions)\\r\\n\\r\\nIt is important to note that not all pets are able to do battle. The\\r\\nballoon pets (Alliance, Horde, Darkmoon Faire), most kite pets (Dragon kite\\r\\nwith 5.1 is now able to fight), the Guild Page and Herald, and the Argent\\r\\nSquire/Gruntling are ineligible for pet battles. These guys are just for\\r\\nlooking pretty while following you around.\\r\\n\",\n",
       " 'itaicohen266@gmail.com',\n",
       " 'What do you mean, =E2=80=9Ccaging=E2=80=9D pets?\\r\\nCurrently, some pets are able to be put into a cage. Wild battle pets are\\r\\ncurrently unable to be caged. In addition, BoA pets (such as the Blizzard\\r\\nstore pets), pets from achievements (such as Nuts), pets that grant\\r\\nachievements (such as the Spirit of Competition), and pets from some quests\\r\\n(such as the Singing Sunflower and Northrend Children=E2=80=99s Week orphan=\\r\\ns) are\\r\\nalso unable to be caged. Vendor pets (such as the Cornish Rex cat), dropped\\r\\npets (such as the Emerald Whelpling), and some quest pets (such as the\\r\\nAzeroth and Outland Children=E2=80=99s Week rewards) are able to be caged.\\r\\n\\r\\nThe best way to be tell for sure if your pet can be caged is to right-click\\r\\non it in the Pet Journal. If it can be caged, you=E2=80=99ll see that as an=\\r\\n option.\\r\\nOnce a pet is caged, it becomes an item in your inventory that you can\\r\\ntrade or sell as normal.\\r\\n',\n",
       " 'itaicohen266@gmail.com',\n",
       " 'What if I want to get rid of a pet that can=E2=80=99t be caged?\\r\\nYour only option is to =E2=80=9Crelease=E2=80=9D the pets. This is also ava=\\r\\nilable by\\r\\nright-clicking on a pet in your Pet Journal. There is no animation of the\\r\\npet running free =E2=80=93 they merely disappear from your listed pets. Tho=\\r\\nse more\\r\\ntender-hearted may find it hard to release some pets (Northrend orphans\\r\\nhave nowhere else to go!)\\r\\n\\r\\nWhen I right-click, I also get the option to rename. What is that?\\r\\nAfter years of asking, pet collectors have finally gotten the right to\\r\\nrename their pets. It does exactly what you think it does =E2=80=93 you can=\\r\\n rename\\r\\nyour Cornish Rex to Fluffy if you so desire. Pet naming follows pretty much\\r\\nthe same set of rules as naming your character: nothing obscene/offensive,\\r\\nno titles (such as Mr), and no linkers (such as The). You can put multiple\\r\\ncapital letters and spaces into a pet name, so you=E2=80=99ve got that goin=\\r\\ng for\\r\\nyou, which is nice.\\r\\n',\n",
       " 'itaicohen266@gmail.com',\n",
       " \"What does the color around the pet's portrait mean?\\r\\nLike gear, battle pets have a quality associated with them. Currently,\\r\\nthere's poor (grey), common (white), uncommon (green), and rare (blue)\\r\\npets. There are no epic or legendary pets available to PLAYERS, but some\\r\\nNPC Tamers use Epic pets and the Grand Master Tamers have Legendary pets.\\r\\nIn addition, there are legendary pets to battle through-out Pandaria and\\r\\nDraenor.\\r\\nPet quality affects the total stat values a battle pet has. Poor quality\\r\\npets will have lower stats than common quality pets of the same level, and\\r\\nso on. For fighting, it's recommended to use high quality pets over lower\\r\\nquality pets.\\r\\nShalura from Anvilmar has made a fantastic compilation of pre-existing pet\\r\\nqualities as well. (link: http://us.battle.net/wow/en/forum/topic/6712862299\\r\\n)\\r\\n\\r\\nThere's a gold ring around my pets'/opponent pets' portrait. What does that\\r\\nmean?\\r\\n The gold color indicates which pet gets to go first.\\r\\n\\r\\nWhat does my pet's family mean?\\r\\nIf you're familiar with Pokemon (or Rock-Paper-Scissors), you'll understand\\r\\nabout pet types/families. WoW pet battles have a type associated with them\\r\\n(for example, critter). This determines what other attack types they are\\r\\nstrong against (critters are strong against undead type attacks) and weak\\r\\nagainst (critters are weak against beast type attacks), in addition to\\r\\nhaving a special ability associated with the type (critter types break out\\r\\nof crowd control more quickly). While a battle pet will have a base type,\\r\\nthey can also have other type's moves (for example, a rabbit, which is a\\r\\ncritter type, learns burrow, a beast move, at level 4).\\r\\nWowpedia has a very nice chart showing what battle pet types are strong and\\r\\nweak against. (link: http://www.wowpedia.org/File:BattlePets.png?c=1)\\r\\n\",\n",
       " 'itaicohen266@gmail.com',\n",
       " \"What types of pet battles are there?\\r\\nLike much of the game, Pet Battles have a PvE and a PvP component.\\r\\n\\r\\nPvE battles are those battles with wild pets or with the NPC Pet Tamers.\\r\\nThis is the way if you want to collect pets and level them up.\\r\\n(WoWPedia link: http://www.wowpedia.org/Pet_Tamer)\\r\\n(WoWHead link: http://www.wowhead.com/search?q=pet+tamer)\\r\\n\\r\\nPvP battles are battles with other players. On your Pet Battle tab, there's\\r\\na button to find a random pet battle. Unlike PvP'ing in other parts of the\\r\\ngame, you will not know who you are battling against. Character names are\\r\\nnot displayed. Also, losses are not tracked, only wins. Your pet will gain\\r\\nXP from doing random PvP battles. However, dueling will not yield XP.\\r\\n\\r\\nTgwaste from Korialstrasz wrote a macro for finding PvP Pet Battles without\\r\\nopening your pet journal (find it in the macros section of this thread).\\r\\n\",\n",
       " 'itaicohen266@gmail.com',\n",
       " \"Where should I go to find pet battles?\\r\\nPretty much anywhere in the world. If you're just starting out, you'll want\\r\\nto level your pets along a similar zone path as a character. Lower level\\r\\nbattle pets are found in lower level zones and progress slightly slower\\r\\nthan character levels. For example, Elwyn Forest and Stormwind have level\\r\\n1-2 pets while Westfall has level 2-4 pets. You'll want to start in a zone\\r\\nthat has pets appropriate to your pets' levels.\\r\\n\\r\\nQuintessence (Senior Content Manager at Warcraftpets.com) has compiled a\\r\\nlisting of pet levels by zone. Useful for plotting out your pet-leveling\\r\\nplan. (link:\\r\\nhttp://wowpetaddiction.blogspot.com/2012/09/zones-by-pet-level.html#more)\\r\\n\\r\\nWrelch from Wyrmrest Accord also put together a nice forum thread with this\\r\\ninformation: http://us.battle.net/wow/en/forum/topic/6758257090\\r\\n\\r\\nWarcraftpets put together a visual map with several search functions as\\r\\nwell http://www.warcraftpets.com/guides/pets/wow-pets-by-zone/?wild=3DY\\r\\n\\r\\nWhy are all of the pets I find Beasts and Critters in this zone? Battle\\r\\npets tend to follow the flavor of the zone. In a forested zone, you=E2=80=\\r\\n=99ll find\\r\\nforest pets. Near water, aquatic pets. Places with undead will have undead\\r\\npets.\\r\\n\\r\\nOh no! My battle pet didn't last through the battle/has been wounded. What\\r\\ndo I do?\\r\\nYou have several options to heal/revive your battle pets. One is to use\\r\\nyour revive pet ability, which has a 8 minute cooldown. You can visit a\\r\\nstable master (able to be tracked via the mini-map) to heal/revive your\\r\\npets (no CD). Lastly, you can use a Pet Bandage (obtained from Pet Supply\\r\\nbags from battling Pet Tamers, with Celestial Coins obtained from the\\r\\nCelestial Tournament on the Timeless Isle, or with Pet Charms from the\\r\\nGarrison Menagerie) to heal/revive your pets.\\r\\n\\r\\nOne suggestion has been to park an alt near a stable master and log onto\\r\\nthat character when you need to heal/revive, instead of coming in from the\\r\\nwilds. However, be aware that logging into a character places a short CD (\\r\\n~ 3 min) on interacting with a stablemaster (they ask for your to wait a\\r\\nfew minutes) and your revive pets ability.\\r\\n\",\n",
       " 'itaicohen266@gmail.com',\n",
       " ' *How do I capture a wild pet? *\\r\\nYou should have a trap icon on your pet battle bar. Once a wild pet gets\\r\\nbelow 35% health, this icon will light up and you can attempt to capture\\r\\nthe pet. Your chances of capture increase the lower the health of the wild\\r\\npet. This becomes a delicate dance of you trying not to kill the pet while\\r\\nkeeping your own pets alive. Having the Terrible Turnip or Molten Corgi as\\r\\none of your capture pets makes this a little easier, as these pets have an\\r\\nability that will never kill.\\r\\n\\r\\nYou can progress towards better traps by raising battle pets to level 25.\\r\\nThe Pristine Trap is the best trap in game and is earned by completing the\\r\\n\"Pro Pet Crew\" achievement. The Draenic Trap, which only works in Draenor,\\r\\nis obtained by leveling your Garrison Pet Menagerie to level 2.\\r\\n\\r\\nSpecial note: occasionally in the wild, you\\'ll see that an additional\\r\\npet(s) has joined the battle.\\r\\nIf you\\'re looking to capture more pets, pay attention to the quality of\\r\\nboth pets you\\'re fighting (the additional pets\\' portrait will display\\r\\nsmaller next to the pet you\\'re currently fighting). You can only use a trap\\r\\nonce per fight. Don\\'t waste a trap on a lower-quality pet if there\\'s a rare\\r\\npet waiting in to battle (I learned that the hard way).\\r\\n',\n",
       " 'itaicohen266@gmail.com',\n",
       " ' *I\\'ve heard some pets only spawn in certain conditions. How do I know what\\r\\npets and what the conditions are?*\\r\\nThe Pet Journal has this information in it - if you know what pet you are\\r\\nlooking for (for example, the Baby Ape). At this point, the \"rare\\r\\nspawn/scarce\" pets require a single condition - time of day (late night,\\r\\ndaytime, morning), weather (raining, sandstorm, snowing), or season\\r\\n(winter, summer).\\r\\n\\r\\nQuintessence from Warcraftpets has started a discussion thread on the\\r\\nWarcraftpets forum listing some of this information.\\r\\n*http://www.warcraftpets.com/community/forum/viewtopic.php?f=3&t=368\\r\\n<http://www.warcraftpets.com/community/forum/viewtopic.php?f=3&t=368>*).\\r\\n\\r\\n*Are there any special pets I should keep my eyes open for in each zone?*\\r\\nYes. Most zones tend to have one special, zone-unique pet. Twixi from\\r\\nGarrosh put together a listing of each zone\\'s special pet(s) and their\\r\\nlevel, to help with your need to catch them all.\\r\\nhttp://us.battle.net/wow/en/forum/topic/6758627164\\r\\n\\r\\n*Is there an advantage to raising a pet vs. catching a higher level pet? *\\r\\nNot in relation to the stats. Unlike Pokemon, caught and raised pets of the\\r\\nsame unique type, quality, and breed (for example, two uncommon squirrels\\r\\nof breed 5) will have their stats raised in the exact same manner. The only\\r\\nthing affected would be the \"Raise X Pets to Level Y\" achievements, if the\\r\\npet caught is higher level than the achievement (catching a level 11 pet\\r\\ndoesn\\'t count for raising pets to level 10).\\r\\n\\r\\nMore discussion of the Breeds can be found in the Theorycrafting section.\\r\\n',\n",
       " 'itaicohen266@gmail.com',\n",
       " ' *How does pet XP work? What about my pets in a party? *\\r\\nPets gain XP by fighting other pets (either in PvE battles vs. wild/tamer\\r\\npets or in PvP battles against other PC\\'s pets). XP is needed to advance\\r\\nyour pet\\'s levels, much like your characters need XP to level. Pets do not\\r\\ngain a rested XP bonus.\\r\\n\\r\\nLevel 25 pets, and pets that are 5+ levels above the enemy pet, receive no\\r\\nexperience for that battle, although they do count when experience is split\\r\\n(as long as they are alive at the end of the battle). A \"difficulty bonus\"\\r\\nis given to pets that survive a battle under certain conditions. First, if\\r\\na pet is 2+ levels below the level of the enemy pet, they generally receive\\r\\nthe difficulty bonus. Also, if a pet at or below the level of the enemy\\r\\npets manages to solo a multi-pet team, or 2 pets of equal or lower level\\r\\ntake on a 3-pet team, they will receive a difficulty bonus.\\r\\n\\r\\nAs of a hotfix to patch 5.1, level 25 pets no longer soak XP. Feel free to\\r\\nlevel lowbies with your 25s to your heart\\'s content!\\r\\n\\r\\n*What=E2=80=99s the highest level my pets can reach?*\\r\\nCurrently, 25 is the max level a battle pet can reach.\\r\\n\\r\\n*My pet has reached level 10. How do I change what skills it can use in\\r\\nbattle? *\\r\\nIn the pet journal, add the pet whose moves you want to change to your team\\r\\n(if they aren\\'t already on your current team). On their top abilities\\r\\nbuttons you should see a little yellow downward pointing triangle. Click on\\r\\nthat to select a different move.\\r\\n',\n",
       " 'itaicohen266@gmail.com',\n",
       " ' *Any tips for leveling pets quickly?*\\r\\nAside from following the pet tamer questline and battling wild pets, there\\r\\nare a few tricks.\\r\\n\\r\\nOne Pokemon standard is to start the fight with a low-level pet you wish to\\r\\npowerlevel against higher level pets. That pet must perform an action in\\r\\norder to credit =E2=80=93 merely having it out does not count. After your l=\\r\\now-level\\r\\npet has done its duty, switch it out for a higher level pet and proceed to\\r\\nknock out the wild pet(s). Alternately, swap in your low-level pet and then\\r\\nimmediately swap it out (obviously, need to time this just right in pet\\r\\nbattles!).\\r\\n\\r\\nThere are a few items in-game that will increase XP gain of battle pets.\\r\\nThe Safari Hat, obtained by completing the achievement \"Taming the World\",\\r\\nwill increase XP gain of pets by 10%.\\r\\nPet Treats will increase the XP gain by 50% for 1 hour and Lesser Pet\\r\\nTreats increase the XP gain by 25% for 1 hour. All the pet XP boosts stack.\\r\\nPet Treats can drop from Tamer Bags or be purchased with either Celestial\\r\\nCoins at the Timeless Isle or with Pet Charms.\\r\\n\\r\\nAdditionally, periodically there will be \"Bonus Pet XP\" weeks in WoW, where\\r\\nall pets\\' XP gains are doubled. This is a fantastic time to level pets.\\r\\nAgain, all the XP boosts stack.\\r\\n\\r\\nFinally, there are stones that increase levels (covered a little further\\r\\ndown in this guide).\\r\\n',\n",
       " 'itaicohen266@gmail.com',\n",
       " ' *My minor child and I share a battle.net <http://battle.net> account. Will\\r\\nwe be able to pet battle each other?*\\r\\nUnfortunately at the current time, Blizzard has made Pet Battles active on\\r\\nonly ONE WoW account per battle.net account. While every WoW account will\\r\\nhave access to Pet Battles (and share pets across accounts), only the first\\r\\naccount to log-in each play session will be able to use the Pet Battles\\r\\nfeatures. The rest of the WoW accounts will find that the Pet Journal is\\r\\nlocked.\\r\\n\\r\\nIf you are serious about wanting access at the same time on separate WoW\\r\\naccounts, you will need to set-up additional battle.net accounts for each\\r\\nWoW account you want simultaneous Pet Battle access on. The CSF forum (found\\r\\n http://us.battle.net/wow/en/forum/1011699/ ) will better be able to help\\r\\nyou with any questions you have pertaining to moving WoW accounts and all.\\r\\nUnfortunately, removing WoW accounts from a battle.net account means that\\r\\nthe moved WoW account will lose access to the shared pets, mounts, and\\r\\nother BoA privilages (such as heirlooms).\\r\\n',\n",
       " 'itaicohen266@gmail.com',\n",
       " ' *What are Pet Battles Stones?*\\r\\nPet Battles Stones are an item added by Blizzard with patch 5.1 that\\r\\nenables you to upgrade the quality of your battle pet. There\\'s two types of\\r\\nstones: one which will upgrade the quality of pets and one that will\\r\\nupgrade the level of pets.\\r\\n\\r\\nQuality upgrades (Battle stones): Flawless Battle stones are rewarded for\\r\\ncompleting some pet quests, can drop from some bosses, can be present in\\r\\ntamer bags, and are available for purchase with either Celestial Coins or\\r\\nPet Charms. There\\'s also Polished Battle stones (but they only upgrade to\\r\\nuncommon and are pretty useless now).\\r\\n\\r\\nLeveling stones (Battle-training stones): Currently, there are family\\r\\nspecific stones (which drop from battles/tamer battles and are also\\r\\navailable for purchase with Pet Charms), Flawless Battle-training stones\\r\\n(which are awarded for completing Menagerie pet quests and available for\\r\\npurchase with Pet Charms), and Fel-touched Battle-Training Stones, which\\r\\naward 5 pet levels and drop from the Fel-Touched Pet Supplies, obtained by\\r\\nbattling the legendary pets in Tanaan Jungle.\\r\\n\\r\\n*How do I obtain Pet Battles Stones?*\\r\\nThere are several ways, depending on the stone.\\r\\n\\r\\nPolished Battle Stones are sold by Commander Lo Ping in the Niuzao Temple\\r\\nin Townalong Steppes for 1000 JP. Again, these merely upgrade a pet to\\r\\nuncommon and are pretty much a waste of JP. Do not buy these.\\r\\n\\r\\nYou can purchase a Marked Flawless Battlestone for 3 Celestial Coins\\r\\nobtained from the Celestial Tournament on the Timeless Isle or at the\\r\\nGarrison Menagerie for 15 Pet Charms.\\r\\n\\r\\nFamily Battle-training Stones are a *random* drop that you get from\\r\\nbattling wild pets or Pet Tamers. Mostly, wild pets will drop family\\r\\nspecific stones but can drop the general purpose (need to confirm this).\\r\\nAlso, some pets seem to have identity confusion and may drop a different\\r\\nfamily stone. As of 5.4, you can turn 3 family specific stones (ex,\\r\\nFlawless Beast Battle Stone) into one general purpose Flawless Battlestone.\\r\\nFamily battle-training stones are also available for purchase at the\\r\\nGarrison Menagerie in the \"Mystery Bag\" for 2 pet charms (random which\\r\\nfamily(s) you get). Flawless Battle-training stones are also available at\\r\\nthe Garrison for 3 pet charms.\\r\\n\\r\\nAdditionally, once a character has upgraded their Draenor garrison to level\\r\\n3, they are given a quest outside their new Menagerie by either Lio the\\r\\nLioness (Alliance) or Serr\\'ah (Horde) to find a stone outside their\\r\\ngarrison mine. Completing this quest rewards the character with the\\r\\n\"Ultimate Battle-Training Stone\" , which will level any battle pet to 25.\\r\\nThis quest can be done on multiple characters.\\r\\n\\r\\nCurrently, Battle Stones *may* disappear from your inventory through the\\r\\nmagic of CRZ. If this happens to you, open a ticket to get it restored.\\r\\n\\r\\n*How do I use a Battle Stone?*\\r\\nTo use one of these, you need to summon the pet in question, target it, and\\r\\nthen use the item. Clicking on the pet in the Pet Journal will not do\\r\\nanything.\\r\\n',\n",
       " 'itaicohen266@gmail.com',\n",
       " ' Updated with new link. Shylir, please check your email. Also, back to the\\r\\nfront!\\r\\n\\r\\nQuestion: has anyone put any thought into compiling a \"rare spawn\"\\r\\ninformation sticky, with a listing of the pets that need special conditions\\r\\nto be caught (ie, raining on the island for Baby Ape, daytime for Little\\r\\nBlack Ram, winter for Snowy Owl, etc)?\\r\\n\\r\\nI would love to, but am finding that maintaining this thread is enough for\\r\\nme and I don\\'t feel comfortable as I don\\'t know enough (been too busy\\r\\nputting this thread together to level pets as much as I wanted - oh the\\r\\nirony!).\\r\\n',\n",
       " 'itaicohen266@gmail.com',\n",
       " \" First, I apologize for the delay in getting back to you. I ended up having\\r\\na fairly busy weekend.\\r\\n\\r\\nUnfortunately, I do not have first hand knowledge about WoW accounts on the\\r\\nsame b.net account. I have a trial account I could try out, but I am\\r\\ncurrently at work without access.\\r\\n\\r\\nHowever, it's been reported that pets are b.net bound, so they *should* be\\r\\nsharable. If you can, you can test this by setting up a\\r\\nfree-to-play/endless trial account and seeing if that account has access to\\r\\nyour current pets. If this works, RaF should work as well then.\\r\\n\\r\\nIf they're not, there are several possible solutions, depending on what\\r\\nHorde specific pets you need. Do you need just the Argent Gruntling, Horde\\r\\nballoon, and Horde guild pets? You can roll a DK on another server (since\\r\\nthey start out at higher level) and do your thing to get the pets you need.\\r\\nAlternatively, you can...pay to faction switch one of your current toons\\r\\nand find a Horde guild on your current server to fit your needs. Given the\\r\\ncost of RaF (base account + 2 months of game time), this would probably\\r\\neven out to cost the same.\\r\\n\\r\\nI know the above are not the answers you're looking for, but they do exist\\r\\nas solutions. If you do figure out an answer, please report back!\\r\\n\",\n",
       " 'itaicohen266@gmail.com',\n",
       " \" I had seen Warla's thread. Unfortunately, I didn't have time to check it\\r\\nout yesterday. I was thinking about it today and am in the process of\\r\\nattempting to look it over. If I don't get a chance to look at it before\\r\\ntonight, I'll add a link to the thread at the very least.\\r\\n\\r\\nAlso, I'm going to be on vacation for a few days, so this thread won't be\\r\\nupdated for a week or so. I promise when I come back I'll look things over\\r\\nand update things as needed.\\r\\n\",\n",
       " 'itaicohen266@gmail.com',\n",
       " \" sorry for the delay in getting back to you.\\r\\n\\r\\nFor putting together a synergistic team, I'd use the wowhead listing of pet\\r\\nabilities/companion listing (which may be time consuming), check out the\\r\\nwarcraftpets forums, or make a thread in this forum. I *think* I've seen a\\r\\nthread about team synergy, but it may be buried now.\\r\\n\\r\\nHope this helps you out!\\r\\n\",\n",
       " 'itaicohen266@gmail.com',\n",
       " \" sorry for the delay in getting back to you.\\r\\n\\r\\nFor putting together a synergistic team, I'd use the wowhead listing of pet\\r\\nabilities/companion listing (which may be time consuming), check out the\\r\\nwarcraftpets forums, or make a thread in this forum. I *think* I've seen a\\r\\nthread about team synergy, but it may be buried now.\\r\\n\\r\\nHope this helps you out!\\r\\n\",\n",
       " 'itaicohen266@gmail.com',\n",
       " \" First, you have to have a full version of the game (the endless trial\\r\\naccount is not eligible). Second, you have to have paid the 10 g to train\\r\\nfor Pet Battles and completed the initial quests the trainer sends you on.\\r\\nOnce you've completed that initial series of quests, you can go anywhere in\\r\\nthe world where little green paws show up on your mini-map (the paws\\r\\nrepresent battle pets). During the battle with a wild battle pet, once you\\r\\nknock that pet down to 35% health or lower (but don't knock them out\\r\\ncompletely), your cage icon should light up. Then, it's a matter of luck if\\r\\nthe cage will actually capture the battle pet.\\r\\n\",\n",
       " 'itaicohen266@gmail.com',\n",
       " \" Unrelated to your question: Timmain, from ElfQuest?\\r\\n\\r\\nAnswering your question: The Difficulty Bonus *should* be affecting the\\r\\namount of XP you get. If your pets are 2 levels below the pets you are\\r\\nbattling or take on 2 or 3 of the pets themselves, they should be getting\\r\\nXP reflecting this bonus. When the battle is over and the XP flashes aboves\\r\\neach pet's head, it should have this bonus XP built in. For example, I'll\\r\\nhave one pet get 49 XP and the other pet get 194 XP with the difficulty\\r\\nbonus (note: that XP reflects the bonus xp being added in - it's not the\\r\\ntypical XP plus that number).\\r\\n\\r\\nKeep in mind that the XP is still split amongst your surviving pets that\\r\\nparticipated in the battle.\\r\\n\\r\\nAre you not getting the proper amount of XP? Was it possible you were\\r\\nadding the numbers wrong? If you were reading the numbers correctly and\\r\\nyour pets aren't level 25, you're experiencing a bug and should open a\\r\\nticket to report it.\\r\\n\",\n",
       " 'itaicohen266@gmail.com',\n",
       " \"*=D7=A7=D7=99=D7=99=D7=9D =D7=9B=D7=A4=D7=99=D7=9C=D7=95=D7=AA =D7=A9=D7=9C=\\r\\n =D7=96=D7=94, =D7=9C=D7=9E=D7=97=D7=99=D7=A7=D7=94!*\\r\\n\\r\\nOn Sun, Feb 11, 2018 at 11:16 PM, Itai Cohen <itaicohen266@gmail.com> wrote=\\r\\n:\\r\\n\\r\\n> sorry for the delay in getting back to you.\\r\\n>\\r\\n> For putting together a synergistic team, I'd use the wowhead listing of\\r\\n> pet abilities/companion listing (which may be time consuming), check out\\r\\n> the warcraftpets forums, or make a thread in this forum. I *think* I've\\r\\n> seen a thread about team synergy, but it may be buried now.\\r\\n>\\r\\n> Hope this helps you out!\\r\\n>\\r\\n\",\n",
       " 'itaicohen266@gmail.com',\n",
       " \" Without an Addon, there's no easy way, especially with low level pets.\\r\\nYou'd need to know how the H/P/S numbers relate for each pet to each breed.\\r\\nFor example, a S/S breed Snail will not have the same speed stat as a S/S\\r\\nbreed moth.\\r\\n\\r\\nWith level 1 pets, this is impossible because there is no real stat\\r\\ndifferetiation. Even addons will get the level 1 breeds incorrect.\\r\\n\\r\\nIf you are serious about knowing breeds, an addon is highly suggested. I\\r\\ndon't think it's possible to do it without an addon unless you're Rainman\\r\\nand/or have print-outs for every pet with the numbers.\\r\\n\",\n",
       " 'leapeturel@gmail.com',\n",
       " \"Hey you ! how are you ? you don't feel depressed ? and presents for your\\r\\ngirl friend, she liked ?! bisous\\r\\n\",\n",
       " 'leapeturel@gmail.com',\n",
       " 'I will take more time later to answer you because I have to take a boat to\\r\\ngo to Koh tao.. give me some news about you, and everything that you want\\r\\nto say ( remember, I like when you speak, even if it is better when I can\\r\\nwatch you..)\\r\\n',\n",
       " 'leapeturel@gmail.com',\n",
       " \"oh...hard for you... I think a lot about you, and I remember all moments\\r\\ntogether.. for exemple, one week ago, we were watching girls thai who made\\r\\nsport near to the river !\\r\\nok, not a good idea to think about that.. but I hope we could have news\\r\\nsouvenirs ( good word?!) together ?in an other city / country ?!\\r\\nSo, about me, I'm fine, I'm in koh Pahgan, it's nice but a little\\r\\nexpensive, and too much tourists..! I drink beers but it's not the same\\r\\ntaste without you..\\r\\nI will think about you tomorow when you will begin your study.. when is the\\r\\nend ? (I'm sorry, I forget..)\\r\\neh, send me some photos ( and photos of you ! ) !\\r\\n\",\n",
       " 'leapeturel@gmail.com',\n",
       " \"Hey Shavit ! I'm in Kao lak, too much tourists, it's just terrible.. so\\r\\ntomorow, I leave, I don't now where... So, if you finish at the end of\\r\\nmarch ( When I come back in France), maybe we could see each other after\\r\\n... ?!\\r\\nAnd about the book from Paolo caulo '11 minutes' ?! Did You like the end ?!\\r\\n\",\n",
       " 'leapeturel@gmail.com',\n",
       " 'Oooooh thank you !! Sometimes I watch some pictures of you.. and I tell me\\r\\n\" I want to see him, really...\" No time to read ?! So, I imagine no time\\r\\nany more to see a movie, like \"walk the line\" ?! about me, I meet a friend\\r\\nfrom France for 1 week, and we meet only french people so I don\\'t speak a\\r\\nlot in English... But when you will come in France, we could speak =F0=9F=\\r\\n=99=82 I\\'m\\r\\nstill in Thailand, I will go in Cambodge only end of february. poor you,\\r\\nonly study all the day... but in two months it\\'is finished !! courage ! je\\r\\nt\\'embrasse\\r\\n',\n",
       " 'leapeturel@gmail.com',\n",
       " \"What movie ? I don't remember..\\r\\nI'm in Chang Mai, great ! tomorow Pai and I Think going to Cambodgia after\\r\\nto meet other french friends. And you, are you ok ? You still study a lot ?\\r\\neven during week end, or you have the time to make party ?!\\r\\n\",\n",
       " 'leapeturel@gmail.com',\n",
       " 'Hi Shavit ! Yes, still in Thailand, I\\'m in Koh lanta, I really like this\\r\\nplace, better than in Koh Panghan ! I leave country in 3 days to meet my\\r\\nfriend in Cambodgia. You didn\\'t see photos ? I have a file about my trip.\\r\\nabout insects, that was really \"hateable\"... really !\\r\\n',\n",
       " 'leapeturel@gmail.com',\n",
       " \"when is your final test ? end of march ? and after ? Yep, I'm in Cambodia !\\r\\nwe are 5 friends together, we spent 4 days in Koh Rong Samlaem, we lived\\r\\nwith a family from Island, so great, so typic, I liked ! this night we go\\r\\nto Siam Reap. It's soon the end of my travel..\\r\\n\",\n",
       " 'leapeturel@gmail.com',\n",
       " 'seriously ?!! but you remember rules ?! oF course I want to play with you !\\r\\nI come back 26 march..!\\r\\n',\n",
       " 'leapeturel@gmail.com',\n",
       " \"We are in Kanpong Cham, nice ! tomorow pnhon phem because my friend go back\\r\\nin france, and to finish Koh Pahgnan to meet a french friend (all my\\r\\nfriends are in asia.. crazy)\\r\\nand I now a new version about La Belotte, more funny, when I will see you,\\r\\nI'll learn you..\\r\\n\",\n",
       " 'leapeturel@gmail.com',\n",
       " 'yeah... I m in ko pahngan,  I do nothing except beach, restaurant, ... time\\r\\nto come back ! about you ?!\\r\\nI think yes, because I miss my friends and my family... it is the end for\\r\\nyou !!!after, only good time ! in france ?!\\r\\n',\n",
       " 'leapeturel@gmail.com',\n",
       " \"in France, it's spring now ! apparently, 20 degres in my city ! nice ! in\\r\\nBangkok, it's raining today... bad day !\\r\\n\",\n",
       " 'leapeturel@gmail.com',\n",
       " \"Hi Shavit ! How are U ? I'm sorry, I didn't give U some new about me... My\\r\\nboyfriend read your message when you said maybe You'll come in France at\\r\\nthe end of may.. So, he were jealous.. Did you have your results from your\\r\\nexamen ? What do you do this summer ? I kiss you, L=C3=A9a\\r\\n\",\n",
       " 'leapeturel@gmail.com',\n",
       " \"Hi Shavit ! How are you ? What do you do this summer ?\\r\\nFor me, lots of changes... I'm not anymore with Dorian for 1 month.. I\\r\\nbroke with him, and I think it's better.\\r\\nI enjoy the holidays, tonight I take a plane to meet friends in Berlin for\\r\\nfew days ! And I try to find job but it's very difficult..\\r\\nAnd you !?!\\r\\n\",\n",
       " 'leapeturel@gmail.com',\n",
       " \"hi !! You speak french ?! eh eh =F0=9F=99=82 I came back from Berlin yester=\\r\\nday night\\r\\n; in fact, I was not in Berlin, but in an island in the north to visit a\\r\\nfriend who works during the summer in a camping ! now I'm in Paris for few\\r\\ndays ! What kind of job do you do ? New trip in september ?! great ! tell\\r\\nme more when you know where you will go ! kisses !\\r\\n\",\n",
       " 'leapeturel@gmail.com',\n",
       " \"i'm in Zagreb now, just came back from Budapest and tomorrow i'm going back\\r\\nto Poland\\r\\nit was really nice, i was studying here for 5 months, the region of Balkan\\r\\nis really interesting and worth to see\\r\\n\",\n",
       " 'leapeturel@gmail.com',\n",
       " \"i was really busy those days and at the same time I had big discussion with\\r\\nmy bff so i just didn't have mind to reply it\\r\\nhehehe, yeah it was funny....\\r\\ni'm just suprised that after whole those months you still remember me and u\\r\\ntexted to me\\r\\n\",\n",
       " 'leapeturel@gmail.com',\n",
       " \"It was weird to see that everybody can speak polish =F0=9F=98=9B yeah, it w=\\r\\nas nice to\\r\\nsee my mother and bff. Now, i need to relax before my internships period\\r\\ni got second internship, i will work a little bit but i like it. Finally i\\r\\nwill do something normal not only studying\\r\\nSo, how is your life? How's your holidays?\\r\\nI have my internship, it's really nice and my boss likes me (i think =F0=9F=\\r\\n=98=9B )\\r\\n\",\n",
       " 'leapeturel@gmail.com',\n",
       " \"Probably Pag island, you have lots of clubs there\\r\\nin Spain you have Ibiza\\r\\nbut you know, i'm not a party animal and i prefer seeing the city, not to\\r\\nparty =F0=9F=98=9B\\r\\nlot of students go also to Amsterdam just to smoke weed\\r\\nthis is famous place on Pag Island- Zrce beach\\r\\n\",\n",
       " 'leapeturel@gmail.com',\n",
       " 'you are welcome, as i see you start plan your trip to Europe. and you\\r\\nshould study hahaha =F0=9F=98=9B\\r\\noh really? you mentioned something about weekend. But never mind =F0=9F=98=\\r\\n=9B\\r\\nCongrats. Now you can plan your trip haha =F0=9F=99=82\\r\\nfor how long are you going to stay in Europe?\\r\\n',\n",
       " 'leapeturel@gmail.com',\n",
       " \"well... quite long =F0=9F=99=82 well, comparing to my 5 months travelling a=\\r\\nnd\\r\\nstudying in Croaita, it's not enough =F0=9F=98=9B haha =F0=9F=98=80\\r\\nbut really, if you would like to visit more Balkan - go to Sarajevo. A girl\\r\\nwho i met in Budapest posted on my wall that she really enjoyed her trip to\\r\\nSarajevo\\r\\nand she is grateful that i gave her a contact to the tour guide in Sarajevo\\r\\n=F0=9F=99=82\\r\\n\",\n",
       " 'leapeturel@gmail.com',\n",
       " \"the people, the history, the culture- catholics, ortodox, muslims and jews\\r\\nlive together there and they don't care who you are\\r\\nyou have everything there and it's really cheap =F0=9F=98=9B\\r\\n\",\n",
       " 'leapeturel@gmail.com',\n",
       " \"yeah, it's hot right now, but when i was there it was only 15, and it was\\r\\nin May =F0=9F=98=9B\\r\\nyou know, you will do what you want\\r\\ndepends what do you want to do during your holidays =F0=9F=98=9B\\r\\n\",\n",
       " 'leapeturel@gmail.com',\n",
       " \"Well, my friend from Brazil and Finland were in Wroclaw and Krakow and they\\r\\nreally enjoyed both cities\\r\\nIt's super weird (especially expensive) to get from Prague to Krakow\\r\\nI think it's cheaper and nicer to go to Wroclaw\\r\\n\",\n",
       " 'leapeturel@gmail.com',\n",
       " \"so? Did you decide where to go? Tomorrow, i will be at work and i will have\\r\\nbetter connection with Internet so i can help you\\r\\nhola! Bien, gracias =F0=9F=99=82 I'm at the office now, working a little bi=\\r\\nt. Then\\r\\nspanish classes, and then football match poland-germany in pub =F0=9F=99=82\\r\\nand you? how are you? =F0=9F=99=82\\r\\n\",\n",
       " 'leapeturel@gmail.com',\n",
       " 'Well, i have some time on Sunday, I will have more time during weekend\\r\\nCause on Monday or Tuesday, i could have a break at work but only for max 2\\r\\nhours\\r\\nI think there is no chance to watch Israelian match =F0=9F=98=9E\\r\\nI asked couple of my friends-football fans and they said that is almost\\r\\nmpossible to watch this match\\r\\n',\n",
       " 'leapeturel@gmail.com',\n",
       " \"Hahaha, maybe in some hostel or something like that haha =F0=9F=99=82\\r\\nAnd what's the match? I mean, football, volleyball?\\r\\n\",\n",
       " 'leapeturel@gmail.com',\n",
       " \"hi, thanks for a meeting =F0=9F=99=82 sorry, that it was short but you know=\\r\\n, i need\\r\\nto work =F0=9F=99=82 and your friend wasn't in good condition =F0=9F=98=9B =\\r\\nSorry, that i wasn't\\r\\nmyself, but i 'm very tired, a little bit stress and today it's not my day\\r\\nsince 8 am\\\\\\r\\nsorry once again\\r\\n\",\n",
       " 'asafdavid08@gmail.com',\n",
       " \"So, as many of you know, I love my Switch. First and foremost, it's\\r\\nportability makes for a great gaming experience.\\r\\n\\r\\nThat said, I'm not blind to some of its flaws. From it's screen resolution,\\r\\nto it horsepower, to it's mostly plastic build; there are many areas where\\r\\nNintendo could improve the Switch.\\r\\n\\r\\nWith that said, how soon before we see Nintendo roll out an updated Switch?\\r\\nAnd what changes do you expect or hope to see?\\r\\n\",\n",
       " 'asafdavid08@gmail.com',\n",
       " \"Most of us a pretty happy with last year's phone purchase; be it a Pixel,\\r\\niPhone, Galaxy or something else.\\r\\n\\r\\nYet, try as they might, no OEM can produce a truly perfect phone. As\\r\\ntechnology changes, some compromise presents itself. And as consumers, we\\r\\naccept some of these to get as close to perfect as possible.\\r\\n\\r\\nSo, when you examine that piece of glass and metal in your hand, how would\\r\\nyou improve it?\\r\\n\\r\\nLet's hear below.\\r\\n\",\n",
       " 'asafdavid08@gmail.com',\n",
       " \"Welp....looks like Disney is gonna do it again.\\r\\n\\r\\nBlack Panther. Infinity War. Solo. Incredibles 2. Wreak It Ralph 2. Ant Man\\r\\nand Wasp....\\r\\n\\r\\nThese films are gonna lead to another year of complete domination by the\\r\\nHouse of Mouse.\\r\\n\\r\\nI think the only film that may not see massive success is A Wrinkle in Time\\r\\nand maybe The Nutcracker. But we'll see.\\r\\n\\r\\nWhat Disney film are you most looking forward to?\\r\\n\",\n",
       " 'asafdavid08@gmail.com',\n",
       " \"Look....\\r\\n\\r\\nI know things get dicey when we talk about ecosystems. Especially when they\\r\\nare between Apple and Google. This is especially true after reading the\\r\\nthread _silellak_ posted this past week or weekend.\\r\\n\\r\\nReading through it now, its as if people are suddenly audio experts.\\r\\n\\r\\nCan we be real honest for a moment?\\r\\n\\r\\nI don't need to have heard any of them to come to this conclusion:\\r\\n\\r\\nThey all sound great; with one maybe sounding a bit better than the others.\\r\\n\\r\\nDoes it really matter though? The things that make them unique are their\\r\\nability to use voice commands to do extra functions.\\r\\n\\r\\nIf any of us are truly looking for superior sound aren't going to buy a\\r\\nsmartspeakers. Plain and simple.\\r\\n\\r\\nThe Sonos, Google Home Max or the Apple HomePod will put out audio that is\\r\\ntruly beyond a fault.\\r\\n\\r\\nThe real discussion should be the features.\\r\\n\\r\\nI hate to be the one to say this; but are we simply arguing sound quality\\r\\nbecause Apple thinks that's what's most important? Or, because the HomePod\\r\\nis lacking many features at launch?\\r\\n\\r\\nRegardless, the HomePod will get more features as time goes on; just like\\r\\nthe Echo did.\\r\\n\\r\\nIt's really just making me scratch my head how crazy this is getting...\\r\\n\",\n",
       " 'asafdavid08@gmail.com',\n",
       " \"Well, this escalated quickly.\\r\\n\\r\\nhttps://www.google.com/amp/s/nypost.com/2018/01/17/reporter-behind-ansari-story-criticizes-hln-hosts-looks-in-scathing-email/amp/\\r\\n\\r\\nFor those who may not follow the link, I'll try to paraphrase this:\\r\\n\\r\\nMrs. Banfield was against the tone, *NOT THE FACTS,* revolving around the\\r\\nAziz story written. She then voiced her opinions on air condemning the way\\r\\nthe story was delivered.\\r\\n\\r\\nAgain, *not the facts.*\\r\\n\\r\\nFollowing that, Katie Way, the reporter at Babe.net, decided to fire back.\\r\\nAnd she took some extremely low blows at Banfield; namely taking aim at her\\r\\nage and looks.\\r\\n\\r\\nIt was...sad. And certainly beneath one who claims to be a feminist.\\r\\n\\r\\nNow, it makes me wonder, how do those that support this article and it's\\r\\ndelivery, those that say arguments against it are a mess, feel knowing that\\r\\nauthors other side?\\r\\n\",\n",
       " 'asafdavid08@gmail.com',\n",
       " \"So, I don't need to tell any of you that there's been an extremely heighten\\r\\nawareness of sexual harassment; especially in Hollywood.\\r\\n\\r\\nOne that's *long* overdue.\\r\\n\\r\\nYet, something was bothering me, and the latest claim against Aziz really\\r\\nbrings up an issue:\\r\\n\\r\\nhttps://babe.net/2018/01/13/aziz-ansari-28355\\r\\n\\r\\nI then read this article:\\r\\n\\r\\nhttps://www.theatlantic.com/entertainment/archive/2018/01/the-humiliation-of-aziz-ansari/550541/\\r\\n\\r\\n.......\\r\\n\\r\\nI want to be completely honest. All the accounts in the #MeToo movement\\r\\naren't the same. And this particular story against Aziz is a bit of a\\r\\ntipping point that I'm afraid may begin to hurt the entire movement.\\r\\n\\r\\nIt seems as though we have people jumping on the symbolic bandwagon.\\r\\n\\r\\nWhile people should be fully held responsible for their foul, assualting\\r\\nactions; but what about inaction?\\r\\n\\r\\nDuring the Weinstein saga, like many, I was dumbfounded. How could so many\\r\\nwomen have been lead into these situations.\\r\\n\\r\\nYet, as I researched a bit more, it turns out that many women, now famous\\r\\nfrom their associations with Weinstein, knew full well that other young\\r\\naspiring actresses were walking into the same trap.\\r\\n\\r\\nAnd I think that disgusted me just as much.\\r\\n\\r\\nWhy would you allow other women to be subjected to the same foul treatment?\\r\\nCertainly you would mention to your neighbors and friends if you knew a\\r\\npedophile were lurking nearby! This is just as terrible.\\r\\n\\r\\nTurns out, some women in Hollywood had indeed voiced their experiences, but\\r\\nwere mostly ignored. Yet, the important part was that they had voiced it in\\r\\nthe public! Some put out a warning.\\r\\n\\r\\nAgain, I want to be clear: This in no way brushes aside the actions of men\\r\\nwho misuse their celebrity or power to gain what they want.\\r\\n\\r\\nBut I can shake the feeling that standing there and taking it....is\\r\\nstrange. And bordering on stupid.\\r\\n\\r\\nThere are plenty of women around the world who simply wouldn't stand around\\r\\nfor this behaviour. My sister's, wife and numerous female friends are\\r\\nequally stunned by these situations.\\r\\n\\r\\nGoing to meet strange men alone at night, standing around while men\\r\\nmasterbate in front of them...\\r\\n\\r\\nWhy? Is your potential career more important than your dignity or respect?\\r\\n\\r\\nI don't believe any men is these forums would absolve another man of this\\r\\nbehaviour. But those of you with daughters; certainly you've trained your\\r\\ngirls that this is unacceptable and they should immediately leave, run or\\r\\nflee if they encounter unwanted sexual advances.\\r\\n\\r\\nMy daughter is 4yrs old and my wife and I have already discussed, and\\r\\ncontinue to discuss with her that no one should touch her in certain\\r\\nplaces. What decent parent hasn't?\\r\\n\\r\\nYet, what is happening when people grow older? Some obviously retain these\\r\\nlessons. Others seem to be ignoring it.\\r\\n\\r\\nI've always believed that when a situation is in your control, you need to\\r\\ntake responsibility for what follows. Because in life there are going to be\\r\\nmany instances where you don't have control.\\r\\n\\r\\nI may be rambling in some of this post. Maybe some of my thoughts aren't\\r\\nbeing clearly communicated.\\r\\n\\r\\nBut I want to hear the thoughts of others in this community. There are a\\r\\nvariety of people here that differ from maybe those in my immediate circle.\\r\\n\\r\\nHow do some of you feel about the entirety of the recent flood of\\r\\naccusations? Do you feel all are legimate? Are some just jumping on the\\r\\nbandwagon?\\r\\n\\r\\nAlso, do you feel that all the accusations leveled at those in power will\\r\\nremedy the situation? Could it backfire?\\r\\n\\r\\nPlease....please keep this civil. I really want us to have a decent\\r\\ndiscussions that respects others opinions. *(Unless that opinion suggests\\r\\nthat sexual harassment is okay. If so, you're a piece of crap and don't\\r\\nbother commenting.)*\\r\\n\\r\\nThanks.\\r\\n\",\n",
       " 'asafdavid08@gmail.com',\n",
       " \"I now need a new tablet. I'm simply not going to spend upwards of $300 for\\r\\na screen replacement when I can spend just a bit more and get a new one.\\r\\n\\r\\nMy first thought, of course, was just get another iPad. Perfectly\\r\\nreasonable assessment. The iPad is hands down the best *pure* tablet by a\\r\\nlong shot. In fact, outside of buying the failed Motorola Xoom at launch,\\r\\nand promptly switching to the iPad 2 7 or so months later; or the time I\\r\\ntried out a Surface 3, I haven't seriously considered trying anything else.\\r\\n\\r\\nBut things have now changed. I wanna try something different.\\r\\n\\r\\nAfter leaving behind my iPhone and Apple Watch and inserting myself back\\r\\ninto Android, now seems to be a great time to do so.\\r\\n\\r\\nThe question is simply what to get.\\r\\n\\r\\nMy options are the following:\\r\\n\\r\\nWindows 10 detectables or Chromebook 2-n-1's *(at least until some OEM\\r\\nunleashes a true Chrome OS tablet)*\\r\\n\\r\\nMy budget is $600; let's hear your suggestions below.\\r\\n\\r\\nLet's go!\\r\\n\",\n",
       " 'asafdavid08@gmail.com',\n",
       " \" Wow...just wow...This game is crazy. And huge. So freaking huge!\\r\\n\\r\\nI'm 20 hours in and I'm still getting lost on these Titans. Here's my\\r\\nbreakdown of Xenoblade Chronicles 2.\\r\\n\\r\\nFirst, this game is not for those who want something they can play in very\\r\\nsmall chunks. It is a pretty deep JRPG and requires/seizures your attention\\r\\nfor long periods of time. To get the most from this title you must devote\\r\\nsome time to learning it's ins and outs.\\r\\n\\r\\nOver the course of the first 10+ hours, you're going to have information\\r\\nfeed to you. Most importantly, those involving combat. Clicking through\\r\\nthese tutoriorls because you think you understand will result in you\\r\\npromptly being destroyed by your enemies.\\r\\n\\r\\nThe world of Alrest feels as though it is literally seeking your utter\\r\\ndestruction for any and every failure. Time attacks incorrectly and you may\\r\\nleave your foe with just enough life to lay down a world of hurt upon you.\\r\\n\\r\\nRegarding combat: It's superb. The learning curve can be steep though. You\\r\\nhave such a wealth of options at your diposal that it can overwhelm you.\\r\\nElements, weapons, directional stances, etc....your mind will be working\\r\\novertime to figure out what your next step in battlefield should be and you\\r\\ndon't have very long to decide.\\r\\n\\r\\nXenoblade fights require you to be not just quick thinking, but divisive.\\r\\n\\r\\nThe HUD during combat is another aspect that can be a bit much. Especially\\r\\nif you were again, the type of person to ignore the tutorials. It is\\r\\ninformation overload.\\r\\n\\r\\nWatch your parties health, watch you characters auto attack timing, watch\\r\\nyou special abilities, watch your enemies attacks, watch for status changes\\r\\nin the enemies.\\r\\n\\r\\nYour eyes need to be trained to take this all in and be able to act upon it\\r\\nin an instance.\\r\\n\\r\\nThe amount of damage you can deliver is huge if you are prepared. It can\\r\\ngreatly reduced the amount of time your fighting an opponent.\\r\\n\\r\\nCombat is something that Xenoblade does very well. It makes you feel like a\\r\\npro when you successfully bring down a for due to your skill. Something you\\r\\ndon't always get from a game.\\r\\n\\r\\nNext up is exploration.\\r\\n\\r\\nAs I mentioned earlier, the world of Xenoblade is humongous! It makes the\\r\\nland of Hyrule in BotW look downright bleak and empty. Towns are full of\\r\\npeople and feel alive with activity. So many shops to spend your money on\\r\\nto prepare for combat. Numerous NPCs to speak with to not only learn about\\r\\nthis world, but also what's happening in it and actually advancing it's\\r\\nabilities to assist you later.\\r\\n\\r\\nOutside of the towns, the landscape is simply beautiful. The areas vary\\r\\ngreatly from lush jungles to sandy deserts. Branching paths usually reward\\r\\nyou for simply exploring.\\r\\n\\r\\nBut while the towns and landscapes are wonderful, the guiding arrow to\\r\\ncomplete missions is borderline a deal breaker. Seriously, this thing is\\r\\nuseless unless your on a level area. Alrest is wide, tall and full of nooks\\r\\nand crannies. If you aren't up for looking behind every corner, checking\\r\\nevery hole, you'll miss you stop.\\r\\n\\r\\nMy advice: You better listen to whoever is giving you an assignment because\\r\\nsimply following the arrow at the top of the HUD will drive you insane.\\r\\n\\r\\nFinally, the story. I won't spoil anything here, but I will say that it's\\r\\nvery good so far. Probably not the deepest thing out there, but certainly\\r\\nentertaining. Leans heavily into ideas and mannerisms found in many\\r\\nJapanese mangas. If you like those things, you throughly enjoy yourself.\\r\\n\\r\\nTo sum up, I'd say this game is certainly worth the price of admission.\\r\\nZelda kicked off the Switch launch properly, and Xenoblade is giving the\\r\\nhuge assist to finish off Nintendo's efforts in 2017.\\r\\n\\r\\nXenoblade has kicked my tail to the point that sometimes I want to just put\\r\\nthe controller down. But those times I successfully pull off a combo of\\r\\nepic proportions...it just reels me back in.\\r\\n\\r\\nSo, what do you all think of XC2?\\r\\n\\r\\nLet's discuss below!\\r\\n\",\n",
       " 'asafdavid08@gmail.com',\n",
       " 'We live tech. We breath tech. We use tech.\\r\\n\\r\\nFrom gaming, to vehicles, to mobile, tech is constantly moving and\\r\\npresenting us with either new things, or improvements on things we already\\r\\nuse.\\r\\n\\r\\nWith that said, what has been your best tech purchase in 2017?\\r\\n\\r\\nThat single item that has truly enriched your life or been an absolute\\r\\npleasure to use daily.\\r\\n\\r\\nSound off below!\\r\\n',\n",
       " 'asafdavid08@gmail.com',\n",
       " \"Can we just take a moment and be honest? The DCEU is a mess; plain and\\r\\nsimple.\\r\\n\\r\\nI don't want this post to be a MCU vs DCEU debate. To be fair, the MCU has\\r\\nplenty of issues of its own. There a few problems with continuity, some of\\r\\nthe films aren't great, villians are mostly forgettable, etc.\\r\\n\\r\\nDespite these issues though, the MCU has a common thread that has made it's\\r\\nmovies must watch for many; especially the average moviegoer.\\r\\n\\r\\nThe DCEU though...its problems are deeper than what's on the screen.\\r\\n\\r\\nFrom the producers, directors, screenwriters...If you can't get the\\r\\nsituation right behind the camera, how can you expect to put a good film on\\r\\nscreen?\\r\\n\\r\\nWonder Woman is a good/great film, but it's measured against it's\\r\\nstablemates, which helps it to look even better.\\r\\n\\r\\nMan of Steel was decent/good. It's problem was being _too_ dark for the\\r\\ncoming out of a new Superman film.\\r\\n\\r\\nSuicide Squad was meh/decent. Problem here is, we didn't need this film yet.\\r\\n\\r\\nFinally: Batman vs Superman was bad/meh. This film had way too many issues\\r\\nand even the most advent DC fan can see that; especially when they compare\\r\\nit back to Wonder Woman.\\r\\n\\r\\nHaving too many hands in the kitchen has wrecked the DCEU and the attempts\\r\\nto right the ship with Justice League doesn't seem to be helping a lot.\\r\\n\\r\\nIs it maybe time to just scrap what's on the table for Warner Bros and just\\r\\nrestart?\\r\\n\\r\\nAt least by going back to the beginning, a single head can help churn out a\\r\\nconsistent vision with none of the problems of trying to stitch together\\r\\nthese previous films.\\r\\n\\r\\nDC characters are too well known to be saddled with such films. Superman,\\r\\nBatman, Wonder Woman all deserve better than this.\\r\\n\",\n",
       " 'asafdavid08@gmail.com',\n",
       " \"Wow....just wow!\\r\\n\\r\\nThe Switch has really come into its own this first year. Launching with\\r\\nBotW, followed by Mario Odyssey was certainly a great plan.\\r\\n\\r\\nBut now, Nintendo intends to end the year on another high note:\\r\\n\\r\\nXenoblade Chronicles 2.\\r\\n\\r\\nI can't state just how pleased I am with Nintendo's efforts. Each of these\\r\\ngames alone will fill weeks of your time if you spend the time exploring.\\r\\n\\r\\nPersonally, I've always been a fan of single player campaigns, so this\\r\\nlineup appeals to me, but probably not to those who enjoy online play.\\r\\n\\r\\nRegardless, I think Nintendo is a perfect compliment to either an X Box or\\r\\nPlaystation owner.\\r\\n\\r\\nHow do you feel about the Switch and it's first year lineup? Confident they\\r\\ncan continue to deliver the goods?\\r\\n\",\n",
       " 'asafdavid08@gmail.com',\n",
       " \"So, the gist is that someone is going to remedy the saturation issue that's\\r\\nbeen plaguing the Pixel 2's display. Granted, it doesn't address the more\\r\\nserious issues some users may be experiencing.\\r\\n\\r\\nRegardless, for those like me with no major display problems, this will be\\r\\nmuch appreciated.\\r\\n\\r\\nMy single issue with my 2 XL is the muted colors. While I don't notice in\\r\\nnormal usage too often...as soon as I see my 6P, it's obvious.\\r\\n\\r\\nHere's hoping this upcoming app helps!\\r\\n\",\n",
       " 'asafdavid08@gmail.com',\n",
       " \"Could some of you who purchased an iPhone 8 please explain why you did so?\\r\\n\\r\\nI simply can't fathom why you wouldn't wait for the clearly superior\\r\\niPhone: the iPhone X. It contains all the things that make a new phone\\r\\nexciting: new (though questionably ugly) design, beautiful AMOLED screen,\\r\\nmore advanced cameras, etc. It's the iPhone that is more forward thinking\\r\\nand helps push it's competition.\\r\\n\\r\\nMy personal opinion is that the iPhone 8 is simply a warmed over device\\r\\nthat certainly doesn't deserve to have increased even slightly in price.\\r\\nAnd while the X is a bit too expensive, I can at least understand and see\\r\\nlegitimate changes.\\r\\n\\r\\nSo why did you spend your money on the inferior iPhone and not wait for the\\r\\nclearly better one?\\r\\n\",\n",
       " 'asafdavid08@gmail.com',\n",
       " \"So, lets see if we can pin down what the table stakes seem to be for our\\r\\nmobile phones:\\r\\n\\r\\n1. Greatly reduced bezels.\\r\\n\\r\\n2. Water proof.\\r\\n\\r\\n3. AMOLED display.\\r\\n\\r\\n4. Great camera.\\r\\n\\r\\nIt would seem that if you have these things, you're golden. The iPhone X,\\r\\nGoogle Pixel 2, Galaxy Note8 and LG V30 seem to share these things in\\r\\ncommon.\\r\\n\\r\\nNow, what about extras?\\r\\n\\r\\n1. Wireless charging.\\r\\n\\r\\n2. Headphone jack.\\r\\n\\r\\nWhile not table stakes, they are important to many users. This is an area\\r\\nwhere only LG and Samsung have made a clear attempt to keep both. Sorry\\r\\nApple and Google. You may miss a few sales omitting one or both of these.\\r\\n\\r\\nFinally:\\r\\n\\r\\n1. Pricing.\\r\\n\\r\\nThis is a point of contention. Spending nearly a grand on a phone is wild.\\r\\nI damned Apple for it and Samsung and Google dont get a pass. This is\\r\\ngetting ridiculous. Plain and simple. *At least one can make a hefty profit\\r\\nreselling the iPhone X*.\\r\\n\\r\\nThat said, I can honestly say I'm glad that we have such a great selection\\r\\nof phones this fall. We'll continue to nitpick over minor things, but\\r\\nregardless of which you pick, you should be happy.\\r\\n\",\n",
       " 'asafdavid08@gmail.com',\n",
       " 'The best way to retain customers in a product driven market like mobile is\\r\\na strong or even mix of software, hardware and services.\\r\\n\\r\\nYet, no company is quite there on all three.\\r\\n\\r\\nApple lacks the strong foundation of services. Google is missing the\\r\\nhardware side, and Microsoft is hurting in software.\\r\\n\\r\\nSo, which company has the longest way to go to complete the holy trifecta?\\r\\nPlease offer your explanations below.\\r\\n',\n",
       " 'asafdavid08@gmail.com',\n",
       " 'The Razer is the first major phone to be acknowledged to use a 120Hz\\r\\ndisplay.\\r\\n\\r\\nAnd the hands on from many sites seems to be extremely positive. The\\r\\ndifference, while not picked up on camera well, seems to be immediately\\r\\nseen.\\r\\n\\r\\nSo, how soon before we see more mainstream OEMs take the plunge and give us\\r\\nthese faster refresh rates on phones?\\r\\n\\r\\nWith the push for everyone to use OLED, this may take a bit longer than\\r\\nusual...but still.\\r\\n\\r\\nThink Samsung, king of displays, can pull it off?\\r\\n',\n",
       " 'asafdavid08@gmail.com',\n",
       " \"So, the gist is that someone is going to remedy the saturation issue that's\\r\\nbeen plaguing the Pixel 2's display. Granted, it doesn't address the more\\r\\nserious issues some users may be experiencing.\\r\\n\\r\\nRegardless, for those like me with no major display problems, this will be\\r\\nmuch appreciated.\\r\\n\\r\\nMy single issue with my 2 XL is the muted colors. While I don't notice in\\r\\nnormal usage too often...as soon as I see my 6P, it's obvious.\\r\\n\\r\\nHere's hoping this upcoming app helps!\\r\\n\",\n",
       " 'asafdavid08@gmail.com',\n",
       " \"Personally, I have no need for cellular in my smartwatch. But I'll admit\\r\\nthis:\\r\\n\\r\\nApple has done this right with Series 3! Adding the antenna to the screen\\r\\nis actually genius.\\r\\n\\r\\nPlease take note all Android Wear makers. There's no need to add sensors\\r\\nand wireless bands in the watch band itself. People like to change their\\r\\nwatchbands!\\r\\n\",\n",
       " 'asafdavid08@gmail.com',\n",
       " \"You're an Apple user. You have an iPhone, iPad, Apple Watch and a Mac (or\\r\\nsome combination of these). You're also locked into the ecosystem and it\\r\\nwould be expensive to suddenly switch to another platform if you wanted to.\\r\\n\\r\\nYet, you feel as though, at times, you're missing out on features from\\r\\nother platforms such as Googles Android or Microsofts Windows. Granted, the\\r\\nenvy may not sway you to leave, but you can't help but long for offerings\\r\\nfrom the other side.\\r\\n\\r\\nWhat's missing from iOS and Mac OS that you would love to see Apple\\r\\nimplement into its platform? It can be software or even hardware.\\r\\n\\r\\nLet's hear your thoughts about *ONLY* Apple below.\\r\\n\\r\\nStay positive!\\r\\n\",\n",
       " 'asafdavid08@gmail.com',\n",
       " \"You're an Android user. You have dozens of options for your phone, from\\r\\ndozens of OEMs, a few semi options for a tablet, maybe rocking an Android\\r\\nWear device and heck, you may even work from a Chrome OS laptop (or some\\r\\ncombination of these). You're also locked into the ecosystem and it would\\r\\nbe expensive to suddenly switch to another platform if you wanted to.\\r\\n\\r\\nYet, you feel as though, at times, you're missing out on features from\\r\\nother platforms such as Apple's platform or Microsofts Windows. Maybe some\\r\\nof that nice, nearly seamless intergration.\\r\\n\\r\\nWhat's missing from Android or even Chrome OS that you would love to see\\r\\nGoogle implement into its platform? It can be software or even hardware.\\r\\n\\r\\nLet's hear your thoughts about *ONLY* Google below.\\r\\n\\r\\nStay positive!\\r\\n\",\n",
       " 'asafdavid08@gmail.com',\n",
       " \"Check out this article:\\r\\n\\r\\nhttps://www.google.com/amp/s/chromeunboxed.com/google-eve-new-laptop-patent-chromebook/amp/\\r\\n\\r\\nNow, it brings up a lot of points regarding the Chromeboom Eve. But my\\r\\nfocus is the design itself. It addresses the major flaw many 2n1s face:\\r\\n\\r\\nNo one likes touching the letter keys when in tablet mode.\\r\\n\\r\\nIt still boggles my mind that OEMs still make laptops that do this. It's a\\r\\nusability nightmare. Laptops are still generally heavier than your basic\\r\\ntablet or iPad. Why combine that extra weight with the feeling of pressing\\r\\nkeys when you're holding the device in its alternate mode?\\r\\n\\r\\nSo, Google seems to be looking at a way around it, but still leaving the\\r\\nkeyboard attached.\\r\\n\\r\\nGranted, both Google and Microsoft have tried different approaches to this.\\r\\nThey've each created devices that separate the screen from the keyboard.\\r\\nBut this still results in some compromises. The Surface Pro requires a\\r\\nkickstand and has stability issues when used on your lap. And the Pixel C\\r\\nwas top heavy to an extent.\\r\\n\\r\\nIn their defense though, you could at least detach the Keyboards and flip\\r\\nthem so as to not encounter the issues of most other 2n1s.\\r\\n\\r\\nDo you imagine that Google could pull off a relatively thin and light\\r\\nweight Chrome OS laptop as it's designed in the patent? One that hides the\\r\\nkeys beneath a cover hinge that also acts as a touch pad?\\r\\n\",\n",
       " 'asafdavid08@gmail.com',\n",
       " \"So, should Apple go all in on using eye/facial recognition to supplant\\r\\nTouch ID, do you believe they'll continue to attempt to embed a fingerprint\\r\\nsensor under the display?\\r\\n\\r\\nHonestly, it wouldn't make much sense to me.\\r\\n\\r\\nA hands free solution, that's followed up by a method that requires\\r\\ntouching to unlock on a future device seems backwards. Once you move\\r\\nforward with a new technology like eye/facial recognition, especially if\\r\\nit's the primary source of security, it would seem an admission of failure\\r\\nto say, 'Hey, Touch ID was really better...Let's just go back to that.'\\r\\n\\r\\nWhat do you imagine Apple will do?\\r\\n\\r\\nPart of me wonders if they'll just add the sensor to the power button. As\\r\\nfar as I know, no major players in the US implement the fingerprint sensor\\r\\nthere, so to an extent, it would be more or less unique to the iPhone. (I'm\\r\\nfully aware Sony does this, but they still disable that sensor in the US.)\\r\\n\\r\\nIt also makes me wonder about the iPads future. Would future tablets\\r\\nimplement the 'Face ID'? Is Apple going to remove the button from it as\\r\\nwell?\\r\\n\\r\\nLet's hear your thoughts below.\\r\\n\",\n",
       " 'asafdavid08@gmail.com',\n",
       " \"Netflix. Hulu. Amazon Prime. HBO Go. Showtime. Crunchy Roll. Sling TV.\\r\\nYouTube Red...Etc.\\r\\n\\r\\nHell, now even Disney is jumping into the fray.\\r\\n\\r\\nJust how sustainable is this business? There's no way people are going to\\r\\ncontinue to pay for numerous streaming services to get all their content.\\r\\nSo what will the end result be?\\r\\n\\r\\n*1. Will some of these services join into one central service?*\\r\\n\\r\\n*2. Are some going to simply fail due to not having enough diversity of\\r\\ncontent?*\\r\\n\\r\\n*3. Or worse, will we eventually be forced back into the archaic cable\\r\\ntelevision model of old?*\\r\\n\\r\\nHonestly, I'm not gonna pay for more than 3 services. And I don't imagine\\r\\nmany of you will either. If the idea was to keep people from\\r\\npirating...Well, this idea that every company and studio needing it's own\\r\\nservice is going to backfire very quickly.\\r\\n\",\n",
       " 'asafdavid08@gmail.com',\n",
       " 'Since it\\'s widely regarded as the best smartphone camera, in what ways do\\r\\nyou imagine Google can improve on its camera?\\r\\n\\r\\nLast year\\'s specs:\\r\\n\\r\\n   - 1/2.3\" 12MP CMOS sensor with 1.55=C2=B5m pixels\\r\\n   - F2.0 aperture\\r\\n   - AF with on-sensor phase detection and laser-assistance\\r\\n   - Dual-tone LED flash\\r\\n   - 4K video at 30 fps\\r\\n   - 1080p slow-motion at 120fps, 720p at 240fps\\r\\n   - Manual controls and Raw-support with third-party camera apps\\r\\n   - Gyroscope-based video stabilization\\r\\n   - 8MP front camera, 1/3.2\" sensor, 1.4 =C2=B5m pixels, F2.4, 1080p video\\r\\n   - Unlimited cloud storage for full-resolution images and videos\\r\\n\\r\\nNow, rumors suggest that Google isn\\'t going to bother with dual cameras at\\r\\nthis time. Which means they will no doubt put their full efforts into\\r\\nmaking the software do the heavy lifting. And if last year\\'s camera is the\\r\\nmeasurement stick, then it\\'s easy to expect that Google could easily repeat\\r\\nit\\'s efforts.\\r\\n\\r\\nLet\\'s here you\\'re thoughts below.\\r\\n',\n",
       " 'asafdavid08@gmail.com',\n",
       " \"So, how many of you are getting destroyed in the Trial of Swords?\\r\\n\\r\\nI think back to when I first started the game and how often I died. It\\r\\nhonestly like starting from scratch again with this Trial.\\r\\n\\r\\nSeriously, it's comparable to All You Need Is Kill....Except I'm not\\r\\ngetting better at a fast enough rate.\\r\\n\\r\\nThat said, still having fun. I want that fully charged Master Sword!\\r\\n\",\n",
       " 'asafdavid08@gmail.com',\n",
       " \"So far, I'm enjoying the beta on my iPad Pro 9.7.\\r\\n\\r\\nA few things I've noticed so far:\\r\\n\\r\\n*Chrome is displaying the web address toward the right corner of the bar*\\r\\n\\r\\n*My display appears to be dimmer than normal*\\r\\n\\r\\n*Scrolling seems faster, really wish I could see it on the newer iPads with\\r\\nthe faster refresh displays*\\r\\n\\r\\n*No app crashes so far, but I've had some freeze up for a few moments*\\r\\n\\r\\nAll in all, I think this is going to be a huge relegation for iPad owners\\r\\nwho wish for a bit more utility from the world's best pure tablet.\\r\\n\\r\\nHow has your experience been?\\r\\n\",\n",
       " 'asafdavid08@gmail.com',\n",
       " \"I just want an open discussion about this topic as I didn't immediately see\\r\\none as of late.\\r\\n\\r\\nHow do you feel about Americans choosing to travel to a country like North\\r\\nKorea? With the political climate being as it has been for quite a while,\\r\\nshould a persons sense of adventure be placed secondary to the possible\\r\\nrisks that potentially come from a trip like this?\\r\\n\\r\\nAlso, what does one gain by visiting North Korea? Is being able to tout\\r\\nthat you've gone to such a place really worthwhile considering the apparent\\r\\nrisks?\\r\\n\\r\\nLet's hear your thoughts below.\\r\\n\",\n",
       " 'asafdavid08@gmail.com',\n",
       " \"My heart wants to believe that all hype around WW is well deserved. To\\r\\nbelieve that it is actually a great summer blockbuster.\\r\\n\\r\\nI want to believe that this female directed film is good, not just for\\r\\nbeing overseen by a woman, but because much love and time was put into\\r\\nelevating the status of a strong female character.\\r\\n\\r\\nBut...I just don't know.\\r\\n\\r\\nI can't help but to think back to all the hype the new Ghostbusters\\r\\nreceived and I become a bit jaded.\\r\\n\\r\\nSo many articles were written on how fantastic the talent was for that\\r\\nmovie. How that an all female cast would do so wonderfully and shut up all\\r\\nthe haters.\\r\\n\\r\\nAnd then we got the film...And it was relatively a flop.\\r\\n\\r\\nAnd now we have WW. It's just too bad she has to carry the weight of 3 past\\r\\nfilms that have varied between 'alright' (MoS) to okay (Suicide Squad) to\\r\\nterrible (BvS).\\r\\n\\r\\nThat's a lot of pressure to be under...Even for the shoulders of one of\\r\\ncomics strongest and most beloved characters.\\r\\n\\r\\nSo, here's hoping that WW suceeds where the other DC films have stumbled or\\r\\nin many cases, completely fallen.\\r\\n\\r\\nWhat do you all think: Will Wonder Woman be a success, or will this film\\r\\necho Ghostbusters and further push back DCs movie universe?\\r\\n\",\n",
       " 'asafdavid08@gmail.com',\n",
       " \"Currently, I have the 42mm Aluminum Sport model. And while it's been a\\r\\ngreat device, I can't help but feel as though I want a larger device.\\r\\n\\r\\nBut not for battery life. I simply like my watches on the larger size. I\\r\\nthink a 48mm size option would suit me just fine.\\r\\n\\r\\nWhat do you all think? Are you happy with the current two sizes; or would\\r\\nyou like to see Apple give us an even larger 48mm or more size?\\r\\n\",\n",
       " 'asafdavid08@gmail.com',\n",
       " \"So, I may be in the minority, but I'm buying this as I didn't own a Wii U\\r\\nat the time to play this game.\\r\\n\\r\\nMario Kart has always been an extremely fun game to play with people\\r\\nactually in the room with you. And since the Switch comes with two\\r\\ncontrollers, you can instantly pick up and play against any willing family\\r\\nmember or friend.\\r\\n\\r\\nSo, are you buying MK8 today?\\r\\n\",\n",
       " 'asafdavid08@gmail.com',\n",
       " \"So, it appears that maybe we're headed toward a future of Star Wars films\\r\\nwhere the Jedi, Sith and the Force begin to take a back seat.\\r\\n\\r\\nMaybe I'm just reading too much into the newest trailer, but it makes me\\r\\ncringe.\\r\\n\\r\\nIn my opinion, Star Wars is nothing without force users; those that use it\\r\\nfor evil and those who stand against them. It's basically a generic space\\r\\nodyssey, a poor mans Star Trek.\\r\\n\\r\\nIve never watched a Star Wars film for bounty hunters, galactic politics,\\r\\nfoot soldiers clad in white or anything else. I've watched solely because\\r\\nof those champions of good wielding swords made of light and making use of\\r\\nan unknown mystic force against foes who, on the surface, appear to be evil.\\r\\n\\r\\nIf Luke Skywalkers comment about the Jedi ending means that they are going\\r\\nto simply evolve, than I'm cool with that.\\r\\n\\r\\nBut if it means that all connections to the Force are going out the\\r\\nwindow...I'm done.\\r\\n\\r\\nI already had hostile feelings about The Force Awakens and its copy and\\r\\npaste method of apeing A New Hope. (Seriously, Finn would've been a better\\r\\nJedi character as his life experience of being a Storm Trooper was\\r\\nsomething we hadn't seen in film before. We've already seen a lonely\\r\\noutcast character living on a desert planet rise to prominence )\\r\\n\\r\\nEnding Force users would be a blow to my investment in Star Wars.\\r\\n\\r\\nBut who knows...maybe I'm jumping the gun. Maybe I'm overthinking the\\r\\ncontext. I certainly hope so.\\r\\n\\r\\nWhat do you all think?\\r\\n\",\n",
       " 'dvirnimrod84@gmail.com',\n",
       " \"So you're an Indian person living in Russia speaking English... That's\\r\\nbloomin impressive! But I still maintain you might find it tricky to\\r\\nexpress yourself in a personal way in a language other than your home one.\\r\\n\\r\\nHowever, don't let me discourage you if you feel it is benefitting you in\\r\\nanyway. You sound slightly lonely but I imagine that is largely due to your\\r\\npersonal circumstances and possibly a short term thing while you sort your\\r\\neducation in medicine. Keep that goal in mind and the time will fly. Once\\r\\nyou've qualified you will probably have a lot more choices and can then\\r\\nchoose where to be. If you're going to these lengths to follow your\\r\\nprofession then you clearly enjoy it so that's another thing that is good.\\r\\n\\r\\nI'm sure you could find like minded people local to you if you looked.\\r\\nThere are very few 'unique' people in this world that you wouldn't have\\r\\nsomething in common with. But I'm not sure if you've fully explained what's\\r\\nwrong, what's making you unhappy.\\r\\n\\r\\nImagine dragons are very good, Mark Wahlberg not so much [image: wink]\\r\\n\",\n",
       " 'dvirnimrod84@gmail.com',\n",
       " \"I mean this with the greatest respect, but would you not be better finding\\r\\nsupport in your native language?\\r\\n\\r\\nYou sound like you have identified the issues that are causing your\\r\\ndepression and sound like you may be able to talk through your fears and\\r\\nproblems but I'm concerned you may struggle to clearly express yourself if\\r\\nyou're speaking in a foreign language.\\r\\n\\r\\nDon't get me wrong, you're English is far better than my non-existant\\r\\nRussian! I just think you need to be able to talk freely and that could be\\r\\nhard if English is not your first language.\\r\\n\",\n",
       " 'dvirnimrod84@gmail.com',\n",
       " \"I love the way you write! It sounds really verbal! Very nice of you to sign\\r\\nup to reply. How weird is this though; I didn't think I had paranoia but\\r\\nyou almost sound like my little sister! I know you're not, but in my head\\r\\nI'm beginning to wonder whether I should write on here!\\r\\n\\r\\nI probably do have depression, I acknowledge that. I think my personality\\r\\nmight not help but I agree, depression is likely. I have social anxiety, I\\r\\nover think far too much, I have mild symptoms of OCD, I have some body\\r\\nissues, I hide my trichotillomania well being male (face) and I'm somewhat\\r\\nof a perfectionist or idealist - if I could have done it better then it was\\r\\ncrap.\\r\\n\\r\\nGenetically speaking there doesn't seem to be any history of it in my\\r\\nfamily. Because of the way my last job blew up, my parents became more\\r\\naware of the situation. That's not to say they were completely blind to it,\\r\\nbut it became more of a discussion. My parents have both had depression due\\r\\nto work but were fine before and after the event that caused it (tribunals\\r\\netc) but they don't really understand the 'lack of reason' side of it. I\\r\\nshared with them for a while, on both ups and downs, but got the impression\\r\\nit was upsetting them so have largely stopped talking about it. I never\\r\\nmentioned suicide to them. Again, due to the situation my older sister\\r\\nbecame aware and she too pressed a little but there is a limit you want to\\r\\ntalk about things when all it does is upset people and they can't help you\\r\\nanyway. I have not talked about it with other family members. I'm already\\r\\nknown as the depressing one, so I try to sound super happy when I'm around\\r\\nfamily now. I was told that the reason I'm, at least subconciously, left\\r\\nout in family gatherings is because I'm quiet/ serious/ boring (actual\\r\\nterms!). I'm aware they'd care if I wasn't here - most people are\\r\\ngenetically programmed to protect their kin, but my absence would make no\\r\\ndifference really. I now spend Xmas away from family, I'm fairly sure\\r\\nthey're happier for it! I hate being a chore. I love your statement about\\r\\nit being 'disgusting sweet s*t' - that's so very much my style, even in the\\r\\ndepths it's very much black humour, sarcasm etc - struggle with sweet stuff!\\r\\n\\r\\nOutside my family there is just my girlfriend. That sounds extreme, but\\r\\nit's really not. I don't have a single other friend, that is equally my\\r\\nfault. But I talk to no one from University days, no ex colleagues etc. I\\r\\nknow no-one else. Partially I like it that way, it's easy and I don't feel\\r\\nlike a burden, on the other hand I feel like some of them could have fought\\r\\nto 'look after me' - they all gave up very easily. I know that's not fair.\\r\\nYou shouldn't test your friends. But on the other hand, if I really cared\\r\\nfor someone and knew they were struggling emotionally, I'd put in a little\\r\\nmore effort. I wasn't ever mean or snappy with them, I just kind of\\r\\ndisappeared. But it's not their job to understand mental issues, they have\\r\\ntheir own busy lives with their own problems.\\r\\n\\r\\nSo I sometimes speak to my girlfriend, less so these days though. When it\\r\\nall hit the fan I had no choice but to share everything with her, not that\\r\\nit was brand new information of anything - I've been with her for a long\\r\\ntime. But maybe the intensity of the feelings was new, of the fact they\\r\\nwere always there. But again, there's very little she can do so why depress\\r\\nher. I don't want to see her cry because of me. So I've largely stopped\\r\\ntalking about things, in a way that might give her the impression I'm\\r\\nimproving. Occasionally stuff slips out, or I sarcastically mention\\r\\n'leaving' but I cover it well now. I still tell her to find someone else, I\\r\\ncover it in a light/jokey way but, although I'm not stupid and I know she\\r\\nsees though it, it is kind of an acceptable level of sharing.\\r\\n\\r\\nYou're right about social anxiety too. That I fully recognise. I care way\\r\\nmore than I should, or want to, about others thoughts. Doesn't stop it\\r\\nthough. I do analyse everything I've said and done before and after events\\r\\nbut I can't forget it - really stupid example; I still remember saying\\r\\nsomething that was taken the mick out of at school, probably really mildly,\\r\\nand that was about twenty five years ago! How the hell can I get over this\\r\\nwhen I still stew over stuff I said when I was 9?!\\r\\n\\r\\nDespite seeing every flaw in myself I don't take criticism well, not in a\\r\\ngrumpy way but in a defeatest way. If I'm told a million things are good\\r\\nbut 'this' needs improving then it was an awful experience. I know that is\\r\\nboth ridiculous and common but want it stop effecting me so much. In\\r\\ncomplete contrast I am very patient and forgiving of others, I'll always\\r\\nsee the other side of the argument and I'll happily give people as much\\r\\ntime as they need. I'm the epitomy of 'do as I say, not as I do!'. I know\\r\\nwhere I'm going wrong, I know my thought processes are messed up, but I\\r\\njust don't know how to fix them. I can't think of many situations where\\r\\nI've felt 'better' than anyone else - the closest I get it wondering why\\r\\nhorrible people in this world are more likely to succeed; stupidity is\\r\\nrewarded (TOWIE type), rudeness is applauded (Cowell), stabbing people in\\r\\nthe back is relabled 'ambition', and generous people get walked on and\\r\\ncriminals win the lottery!\\r\\n\\r\\nI'm really happy you've started to figure your life out. You sound very\\r\\nintelligent and in control. You also mentioned being in school so I suspect\\r\\nyou are quite young; for you to have such a good grip on your feelings and\\r\\nrecognise triggers and mental health issues is quite impressive. Is it an\\r\\navenue you have interest in? I'm genuinely happy you have got such a grip\\r\\non it early, understanding it early may help you in the long run - I don't\\r\\nknow, but I suspect the longer this is left the harder it is to undo the\\r\\n'learning to hate yourself' that is embedded in to you. Much like whe I\\r\\nused to teach, the longer you left a mistake/misconception with a child the\\r\\nharder it was to 'unteach' it - so I just have 34 years to unteach\\r\\nmyself! [image:\\r\\nwink]\\r\\n\\r\\nAnd you're definitely not my little sister are you?! [image: wink]\\r\\n\",\n",
       " 'dvirnimrod84@gmail.com',\n",
       " \"Typical responces in themselves are not a bad thing, but perhaps too\\r\\ngeneric for most people. However, with limited information they are the\\r\\nonly thing that can be given to you.\\r\\n\\r\\nI don't feel you can give up until you've tried. So you'll need to talk to\\r\\nsomeone on here, close to you, a doctor or a therapist or someone. You need\\r\\nto gve them a lot of information.\\r\\n\\r\\nIf you've done all that and still feel like giving up then I fully\\r\\nsympathise. Just try to avoid giving one line sentences as that is not\\r\\nsharing, that is a call for help and you'd be much better seeking moe\\r\\nimmediate attention like the Samaritans etc (unless you're scared of phone\\r\\ncalls like me!)\\r\\n\\r\\nI do symathise, but you need to share and you need to try first.\\r\\n\",\n",
       " 'dvirnimrod84@gmail.com',\n",
       " 'I, and this thread, are probably not the best avenue to seek answers. It\\'s\\r\\nvery much a \\'give up\\' thread the way it\\'s going! [image: smile]\\r\\n\\r\\nStart your own thread. Tell your story if you want, writing it down can\\r\\nhelp clarify what areas of your life make you feel the way you do. You may\\r\\nhave a reason when you just keep writing.\\r\\n\\r\\nI\\'m not going to give you the easy answer and say \"I\\'m sure you\\'re amazing\"\\r\\nas I don\\'t know you and that\\'s just not realistic. I know nothing about you.\\r\\n\\r\\nHowever, on these boards are a lot of clever, kind, insightful people so\\r\\nthey would be much better placed to help you than me. I don\\'t think us\\r\\nmutually agreeing how tiring life is will help either of us.\\r\\n',\n",
       " 'dvirnimrod84@gmail.com',\n",
       " \"Kick away!\\r\\n\\r\\nFair enough, I don't do much at the moment. I occasionally do a little bit\\r\\nof exercising (jogging/cycling) but a grey cloud, real or metaphorical,\\r\\nquickly kills any energy I have! I don't think it's the lack of doing\\r\\nanything that causes this however, I'm still 'better' than when I was at\\r\\nwork/ socialising - but then if this is the best it gets... well.\\r\\n\\r\\nI have visitied the Doctor, and for the record he was really nice. Very\\r\\nsupportive in fact. But it didn't change the fact I felt stupid and as if I\\r\\nwas wasting his, and others, time. I remember being really worked up about\\r\\nthe fact our appointment slot was overunning because I felt like I was\\r\\nholiding up other people. But I did that because my girlfriend was with me\\r\\nat all times (and forced me!) and because I needed to get a Doctors note\\r\\nfor work. Now I no longer work, I no longer need to waste people's time.\\r\\nBut you're right, I'm an expert in giving up!\\r\\n\\r\\nThe girlfriend question comment is a difficult one and the one I battle\\r\\nevery day more than anything else. If I leave her there is nowhere to go,\\r\\nthat really is it. I mean that in the practical sense here, house etc but\\r\\nalso it means that really is the end. I stay through her appeals and for\\r\\nmaybe that ounce of hope that she, and others, are right that it'll pass.\\r\\nAlthough I've always been like this. I'm not staying with her for ease, or\\r\\nto string her along, but leaving her really is a final decision - I have no\\r\\nbelief there is something better than her. Probably makes no sense. The 1%\\r\\nhope keeps me alive, therefore the 1% keeps me here. If I lose the here, I\\r\\nhave absolutely zero interest in the alive.\\r\\n\\r\\nI really do appreciate your replies, a constructive kick is better than a\\r\\ncompassionate hug for me. But I can't find that kick that I can't talk my\\r\\nway around or explain away. I hate my head! I have actually tried\\r\\neverything I'm supposed to, maybe not for long enough, but I've seen zero\\r\\ndifference. Leaving work calmed me down and made me able to uncurl from a\\r\\nball but does that mean I can never return to a job? That then creates\\r\\ndifferent problems emotionally and financially.\\r\\n\\r\\nI saw the CBT guy but, nice as he was, he tried a religious route with me\\r\\n(never going to work) and I put on my fake chatty character for the hour,\\r\\neven if I was tired afterwards. It didn't do anything. Even if I try to get\\r\\nrefered again by the Doctor, I'd actually be scared that I'd be seeing him\\r\\nagain, or be seen to have asked not for him - and although I'm fairly sure\\r\\nhe wouldn't care, it genuinely freaks me out! How messed up is that?!\\r\\n\\r\\nI'm actually ok, if I prepare well, for an hour or so around people - I can\\r\\nseem easy going and chatty, any longer than that and it gets difficult. If\\r\\nI can't prepare, i.e. I know there will be questions I'm not expecting or\\r\\nit's someone I feel who will judge me e.g. a car mechanic as a 'guy' then I\\r\\ncan't do it. How silly is this - I still get uneasy surrounded by teenage\\r\\ngirls! I'm not in the remotest bit interested in them obviously, but just\\r\\nthe feeling of inadequacy/ that I'm a loser makes me feel 'weird'. Same\\r\\nwith family, there is a duration before it gets too personal; I can feel\\r\\nmyself being overly happy and lively around them as if it's all pouring out\\r\\non first meeting them but that there is a finite amount and then my energy\\r\\ndrops and I disappear.\\r\\n\\r\\nGrrr.... I'm whining again. Shoot me.\\r\\n\"]"
      ]
     },
     "execution_count": 8,
     "metadata": {},
     "output_type": "execute_result"
    }
   ],
   "source": [
    "lst"
   ]
  },
  {
   "cell_type": "markdown",
   "metadata": {},
   "source": [
    "### 3.2 Preprocessing the text to fit into a network¶"
   ]
  },
  {
   "cell_type": "markdown",
   "metadata": {},
   "source": [
    "we will divide the preprocessing to 2 parts, preprocessing for ALL the data, and preprocrssing to each one of the senders. (that will be more suitable to kind of the model we will use).  \n",
    "so, first general preprocessing: we can notice that many of the messages includes links, we will clean it: "
   ]
  },
  {
   "cell_type": "code",
   "execution_count": 9,
   "metadata": {
    "collapsed": true
   },
   "outputs": [],
   "source": [
    "import re\n",
    "lst1=lst\n",
    "for i in  np.arange(1,len(lst1),2):\n",
    "            lst1[i] = re.sub(r'\\[.*?\\]|\\(.*http.+\\)|\\<.*http.+\\>','',lst1[i])\n",
    "            lst1[i] = re.sub(r'Rado([^\\s]+)|Skarp([^\\s]+)', '', lst1[i])\n",
    "            lst1[i] = re.sub(r'\\=[A-Z|0-9][A-Z|0-9]|\\=', '', lst1[i])"
   ]
  },
  {
   "cell_type": "markdown",
   "metadata": {},
   "source": [
    "EXPLAIN: we use np.arange(1,len(lst1),2) in order to clean in jump of 2 cells starting with the second cell in order to clean ONLY the messages and not change the addresses. for cleaning we use regex and therefore import re library."
   ]
  },
  {
   "cell_type": "code",
   "execution_count": 10,
   "metadata": {},
   "outputs": [
    {
     "data": {
      "text/plain": [
       "['illonashachar78@gmail.com',\n",
       " ' Hi  no, I will be free for almost all Day!\\r\\nShavit I am not going out today but If You would like to go I would\\r\\nrecomend You club called  for tonight!\\r\\n',\n",
       " 'illonashachar78@gmail.com',\n",
       " ' You can go free before 10 pm. At 10 people will start letting a lot of\\r\\nlanterns in the air and then will be a concert .\\r\\nPeople just want to beat a record (a lot of lanterns) without any reason.\\r\\nDo what are Your plans for tomorrow? Are You going to Kazimierz?\\r\\n',\n",
       " 'illonashachar78@gmail.com',\n",
       " ' What time are You going to Kazimierz?\\r\\n',\n",
       " 'illonashachar78@gmail.com',\n",
       " ' I think it is better for You to go there by bus because my parents will\\r\\nstart travel around 8.20. IT is to early!\\r\\nI will check schedul of buses for You now\\r\\nBus to Kazimierz Dolny 9.25 - You will be in Kazimierz at 10.35 (big bus )\\r\\nor 10.20 -You will be in Kazimierz at 11.40 (small bus )\\r\\nThe places where the bus start is : 9.25 : ul. Ruska 7/pod  10.\\r\\n20:\\r\\nul. Ruska\\r\\nBoth are behind bus station close to this Castle where we where today\\r\\n\\r\\nShavi\\r\\n',\n",
       " 'illonashachar78@gmail.com',\n",
       " ' Go to Riviera! \\r\\nI should go there yesterday because IT was latino night [image: \\r\\n] Have a\\r\\nnice evening. See You tomorrow  When You will looking \\r\\nfor bus to\\r\\nKazimierz : remember the bus will not wait on this big main bus station,\\r\\nYou have to go behind bus station. There is ulica (street ) Ruska. But\\r\\nthere are 2 another places on Ruska street where buses to Kazimierz start\\r\\n(as I wtote it to You 10 minutes ago )\\r\\nBye Bye \\r\\nShavit\\r\\n\\r\\nSh\\r\\n\\r\\nShavi\\r\\n',\n",
       " 'dvirnimrod84@gmail.com',\n",
       " \"I'm not even sure I have depression, I think this may just be 'me'.\\r\\n\\r\\nI have always been pretty useless socially, but have had a normal\\r\\nupbringing, no horrible experiences, have gone through education fine and\\r\\neven got jobs but I've never enjoyed life, never really cared and normally\\r\\nfeel like I'm not really worth anything and, inevitably enventually, will\\r\\nbecome a burden.\\r\\n\\r\\nI'm not going to be dramatic and say I'm going to end it, it sounds so\\r\\npathetic (no offence intended to anyone) but I have thoughts of 'going' or\\r\\neven dreams that I could die 'blamelessly' thorugh accident or illness.\\r\\nSelfish I know.\\r\\n\\r\\nI have a cycle. Get job, put on confident easy going persona, get\\r\\nphysically tired from doing that, lose energy to maintain job, focus on\\r\\nnegative, leave job in some form (fired/quit). Friends are much the same,\\r\\nplay easy going fun, can't keep it up, lose or push them away.\\r\\nRelationships, get attracted to ones who need help, help them in anyway I\\r\\ncan, get to a point where I feel I am no more use so should go as they'd be\\r\\nultimately better off.\\r\\n\\r\\nSo, currently I've quit my job as a teacher, couldn't take it - always\\r\\nsomething to improve and with my way of thinking that just sounds like\\r\\nconstantly someone telling you you're useless (and it backing up your own\\r\\nthoughts anyway) but even though I liked aspects of my job I don't think I\\r\\nhad a passion like I see in others. I felt I'd let everyone down so\\r\\ndisappeared, my partner/ parents got me through immediate days after my\\r\\nsudden departure from work and saw Doc who was nice enough - put me on\\r\\nmedication which seemed to do very little - even after a few months. In\\r\\nfact it only had negative side effects so about three weeks ago I stopped\\r\\ntaking them completely. I also started seeing a CBT person about three/four\\r\\nsession ago but this feels like it's doing nothing at all either, we talk,\\r\\nI'm honest as I can be but there is some element of being 'public' and\\r\\nputting on that face/ jokey responses.\\r\\n\\r\\nI dip between a wish to not be around that is forever there and seems to be\\r\\nbacked up with wholly logical reasons that people genuinely struggle to\\r\\nrefute to absolutely crashing panic attacks/ given up when my 'theories'\\r\\nare proved.\\r\\n\\r\\nI know this sounds odd, but I don't even have the will to get 'better',\\r\\nlargely because I don't think I can. I am just 'me'. I am negative, boring\\r\\nand even if it is all just selffullfillng profecies - it's still me who has\\r\\ndone that. I'm not blaming life, or others or anything else.\\r\\n\\r\\nA lot of the posts I read on here seem to have good reason; PTS, loss,\\r\\nfinances etc - does anyone have no 'good' reason?\\r\\n\\r\\nI just feel I'm never going to be happy, I am soon to be much a burden on\\r\\nthose around me (my gf) and that, in the long run, it'd be better for all\\r\\nif I just went. I know my family and gf love me - but time heals, life\\r\\nwould get better and people move on. In the long run I'm sure it wouldn't\\r\\neffect my family and 100% sure my gf would be better off.\\r\\n\\r\\nNot sure if there is an answer for this, just writing. I'm not angry, I'm\\r\\nnot hurt, I'm not even sad as such, I'm just tired...\\r\\n\",\n",
       " 'dvirnimrod84@gmail.com',\n",
       " \"What a fantastic answer, but also a really bad one!! Let me explain...\\r\\n\\r\\nFirstly I'm very pleased to see you are happy and treat every day \\r\\nas a\\r\\ngift. Obviously I'm sorry you have such daily physical problems but I'm\\r\\nsure that makes you even happier you did the skydiving when you did. I'm\\r\\nreally pleased what you did worked for you and it's encouraging to find a\\r\\nrare example of someone who has somewhat defeated depression even if the\\r\\ncost of that has been quite extreme.\\r\\n\\r\\nBut then on the same hand, not recognising how lucky I am isn't th\\r\\ne\\r\\nproblem, it's knowing that I am and I'm still not feeling good which then\\r\\nfurther compounds how bad I feel about myself. I know I'm luckier than\\r\\nmost, I know things could be worse, I live in an affluent country with\\r\\nwater on tap, have good health and had a normal upbringing with no major\\r\\ntraumas. So knowing this makes me feel EVEN worse about myself. I see\\r\\nI'm selfish, and ungrateful, and petty and all other words - why can't I\\r\\njust be happy?\\r\\n\\r\\nI've put my life on the line a few times, both within the safety c\\r\\nonfines\\r\\nof organised activities and on the less controlled activities I may do\\r\\nmyself - it doesn't help me. Being near death doesn't impact me positively\\r\\nor negatively - I'm almost apathetic to it.\\r\\n\\r\\nAnd this is why your answer is both fantastic and bad! For you, an\\r\\nd others\\r\\nit may work. You are obviously an inspiration to lots of people not only\\r\\nfor the physical issues (which are almost a separate issue) but for the\\r\\nfact you have altered your way of thinking in a positive manner. But they\\r\\nalso highlight how everyone's issues are unique - and as well intentioned,\\r\\nand even correct, your view that it could be worse it, that can actually\\r\\nmake people feel worse.\\r\\n\\r\\nIf we all focused on 'it could be worse' they'd be very few people\\r\\n in this\\r\\nworld who could complain, unfortunately it's not that simple. This\\r\\ndepression doesn't care that I'm lucky, it just cares that I think badly of\\r\\nmyelf and reminds me of it every day and actually accelerates when I speak\\r\\nto people who could argue they do have a good reason to feel bad. I know I\\r\\ndon't - and that makes it even worse.\\r\\n\\r\\nThanks for your reply, I hope I didn't come across aggressively! I\\r\\n'm very\\r\\nhappy that you are happy and hope things improve if that's possible for\\r\\nyou. Good luck, have a great Christmas and a lovely New Year.\\r\\n\",\n",
       " 'dvirnimrod84@gmail.com',\n",
       " \"I had a few people on her write to me over Xmas/ New Year but needed to\\r\\nignore them - too much energy was needed to focus on acting happy and\\r\\nnormal around family!\\r\\n\\r\\nI wish I could talk to you more directly than on an open forum. I'\\r\\nve said\\r\\nbefore, knowledge is a great thing - but it can also be a curse. You need\\r\\nto be particuarly careful self-diagnosing but also need to think whether\\r\\nthis diagnosis is in any way helpful to you. Say you decide that you are\\r\\nHFAS - how does that help you? If you can't source help then it is just\\r\\nanother meaningless semantic for feeling awful day to day.\\r\\n\\r\\nI've also mentioned that it is probably important to get outside y\\r\\nour own\\r\\nhead - think about doing things that stop you thinking about yourself.\\r\\nHowever, as a caveat, I also recognise doing anything (like talking to\\r\\nanother human being as you rightly point out!) can be extrememly stressful.\\r\\n\\r\\nI'd never pick holes in others punctuation and grammar unless they\\r\\n were\\r\\ndoing it to others! It's a forum, not a thesis! However if you have the\\r\\ntime and pride to check your message back then maybe you do have the time\\r\\nto look at HFAS if it interests you.\\r\\n\\r\\nTo be honest, knowledge is something I despise yet am addicted to \\r\\nso I\\r\\nwill inevitably be searching HFSA after I've written this reply! But\\r\\nwithout an argument or focus it is impossible to really research a topic to\\r\\nany purpose. I will happily help others if I can (preferably from afar!)\\r\\nbut not sure what I could do to focus your research on this matter and\\r\\nwhether it'd even be of any benefit to you anyway.\\r\\n\\r\\nLike I said, there is certainly an interesting discussion to be ha\\r\\nd but\\r\\nunfortunately I doubt this is the place to do it effectively for you or I.\\r\\n\\r\\nGood Luck.\\r\\n\",\n",
       " 'dvirnimrod84@gmail.com',\n",
       " \"Quick research, scan read. Told you I would... I definitely don't have\\r\\nHFSA. You may well have but it'd take more than a quick chat to establish\\r\\nthat.\\r\\n\\r\\nAs I'm sure you're aware, everyone is somewhere on the autistic sp\\r\\nectrum\\r\\nand all the various labels that spin off that. Even the most 'normal' of\\r\\npeople might feel particuarly calmed by a colour, or get irritated by a\\r\\nsimple tapping noise. The issues arise when your 'quirks' impact on your\\r\\nlife. Mine do for me, and yours sound like they do for you.\\r\\n\\r\\nI have had a ton of labels I have both researched or been told abo\\r\\nut that\\r\\nmight fit my ways of thinking and acting but the conclusion I reached was\\r\\nthat it was all kind of pointless - a label by its very nature is just a\\r\\nbroad title to fit many people and when that comes to the brain it's a very\\r\\npointless exercise. You might be able to group broken limbs in patients but\\r\\nwith the head it's nearly impossible  - there's too many bits that do or\\r\\ndon't apply for every individual. Ultimately a title is only helpful to\\r\\npoint you in the right direction to get you personalised help. And it HAS\\r\\nto be personalised.\\r\\n\\r\\nI think I have depression, with social anxiety. I have signs of bi\\r\\npolar, I\\r\\nget symptoms of SAD, I have trichotillomania, I have mild OCD that gets\\r\\nworse if I'm stressed, I have panic attacks, I over think everything, I\\r\\nhave low self-esteem and no confidence, I feel suicidal most days and a\\r\\nmillion other mini-labels. Doesn't help me though. It's the classic 'what's\\r\\nin a name?'\\r\\n\\r\\nI hope you see my point. We sound very similar yet I would class m\\r\\nyself as\\r\\na people pleaser, I rarely sure emotion outside the house and am overly\\r\\npolite to even strangers. So whilst HFSA might apply in parts, it doesn't\\r\\nsolve everything.\\r\\n\\r\\nThink about what you want from this title. How will it help you? Y\\r\\nou might\\r\\nbe better focusing on the things that make you feel better, not labelling\\r\\nsomething that makes you feel bad.\\r\\n\\r\\nGood luck.\\r\\n\",\n",
       " 'dvirnimrod84@gmail.com',\n",
       " \"I doubt you have no one, family is only one part. Work friends? Neighbours?\\r\\n\\r\\nBut, for the sake of discussion, if there is really no-one then in a way\\r\\nyou know how to feel better and that gives you a lot of power. I don't even\\r\\nknow how to be 'happy' and feel I should leave those around me before I\\r\\ndrag them down too!\\r\\n\\r\\nIf you feel lonely, then be a little more proactive, join some clubs or\\r\\ngroups etc. Without being offensive, you are a little older than me and\\r\\nthere are a lot more clubs set up for your age group than mine that\\r\\nwouldn't be intimidating. I get expectations of sports clubs (loud bravado\\r\\npeople!) or nightclubs etc where as I'm sure there are more suitable groups\\r\\nfor you. Knowing what you want to make you happy is a great thing.\\r\\n\\r\\nAs for your family, you seem to want nothing to do with them. Great! Sorry,\\r\\npeople on here may say that's sad etc or to try but it's your situation -\\r\\nif you simply don't get on then absolutely forget them. People survive\\r\\nwithout families all the time. Or you mentioned the recluse, maybe you need\\r\\neach other...\\r\\n\\r\\nI sympathise, in case that didn't come across, so whilst I appreciate I\\r\\nhave one on you by having a partner (although that can make you feel worse\\r\\nby the way in that you feel like a burden) you also have one on me knowing\\r\\nwhat will make you happy.\\r\\n\\r\\nYou don't need family/partner to feel loved. In fact family's love often\\r\\nfeels more 'because you're family' than out of want. Friends are there\\r\\npurely because they want to be.\\r\\n\",\n",
       " 'dvirnimrod84@gmail.com',\n",
       " \"Hi Hypercat, I really didn't mean any offence, I just meant you have more\\r\\naccess to such activities due to your age. I bet most of the people in\\r\\nthose activities you talk of are of similar age and are in similar\\r\\nsituations due to unemployment, retirement etc. You may well be the\\r\\nyoungest there but I'm sure you have plenty in common with them. In fact\\r\\nI'm envious! All I was trying to say is there isn't that social world more\\r\\nmid 30 year olds, you're kind of expected to be all sociable and loud. My\\r\\none friend tried to get me to go to a craft course - he's ten years older\\r\\nthan me, and he was youngest be 10 years! It doesn't mean its not pleasant\\r\\nto some degree but you do feel very 'odd one out'\\r\\n\\r\\nI apologise if I jumped to conclusions based on your message but I maintain\\r\\nthat with the active social life you live you have LOADS of people who\\r\\nwould miss you. Love is not exclusively available from family and partners.\\r\\nYou seemed to suggest this was why you were largely unhappy so I think you\\r\\nknow what makes you tick; you miss a partner/ family bonds. I'm not going\\r\\nto be stupid enough to say 'fix it' then as it's never that simple, but\\r\\nknowing what would make you happy is a positive; at least it gives you a\\r\\ntarget.\\r\\n\",\n",
       " 'dvirnimrod84@gmail.com',\n",
       " \"Great message. Funnily enough I am/was a teacher too - but I think the\\r\\nenvironment is particularly toxic for those with is style of thinking (the\\r\\nprofession is based around you/ the work never being good enough and what\\r\\ncan you do to improve in the UK)\\r\\n\\r\\nCatch 22 means that once this impacts you to the degree I had to quit my\\r\\njob, it means you cut off a social group and have no money for new\\r\\nexperiences/ days out.\\r\\n\\r\\nAs regards you, I'd stay in Australia! I imagine it's a lot nicer when you\\r\\nhave a crappy day opening the curtains to sunshine! Tthat'd make a little,\\r\\nbut significant difference.\\r\\n\\r\\nI'm not sure what I'll do now, think teaching is gone, can't see what I can\\r\\ndo to keep me 'sane' as a career and find very little point in most things.\\r\\nI go to CBT but it just feels like we're talking about philosophy, my way\\r\\nof thinking hasn't changed one iota.\\r\\n\\r\\nI had no reasons to think this way, I created them almost. Now I actually\\r\\nhave no job etc. I am not a victim, I did it to myself. I think I have just\\r\\ngiven up, if I see 2015 I will be a little surprised as I imagine something\\r\\nwill come along in next few months that will be enough to knock me fully\\r\\nover the edge; an unexpected bill, a worry how I'm impacting on my partner,\\r\\na death in the family - something...\\r\\n\",\n",
       " 'dvirnimrod84@gmail.com',\n",
       " \"I do love travelling but now, having just had to quit work, it isn't even\\r\\npossible for me to 'save' at all. Besides, my gf still has a job so I'm\\r\\ntaking on my full time job of being a burden \\r\\n\\r\\nEverything you write makes perfect sense. But the most relevant part is the\\r\\ntone; you seem to know everything isn't perfect but know your triggers and\\r\\nthat there is good and bad. I was joking about staying in Oz, I fully\\r\\nrecognise complications regarding family etc. Fortunately, or\\r\\nunfortunately, I now have no friends, no job, limited family (that I see\\r\\nrarely anyway) so am not tied to any geographical place. It's just gfs job\\r\\nthat keeps me where I am.\\r\\n\\r\\nI just struggle with people so much that I need a job that has little\\r\\ninteraction. Don't get me wrong, most people would see me as easy going,\\r\\nrelaxed, even funny at work but it is all such a tiring act I can never\\r\\nmaintain it. I just spend my time thinking they don't really like me, or\\r\\nthey think I'm an idiot or that I'm crap at my job. Think I just need to be\\r\\na recluse!\\r\\n\",\n",
       " 'dvirnimrod84@gmail.com',\n",
       " 'We certainly have strong similarities, you seem to be a lot further along\\r\\nin your understanding of you and your triggers though. Going to Australia\\r\\nin the first place is quite an acheivement and you must be doing something\\r\\nright!\\r\\n\\r\\nI too only really get enjoyment from helping others, the issue comes that\\r\\nwhen that \\'problem\\' is solved I feel of no use and begin to withdraw. I\\r\\nhave done it with friends and family. My girlfriend is a case in point, she\\r\\nhad relationship, financial and work issues and I helped her solve all of\\r\\nthese to be in a better place to the point now she considers everything to\\r\\nbe pretty good in those departments, but I have nothing left to offer her.\\r\\nWorse still, I am now only going to be a burdn on her financially and\\r\\nemotionally and can offer her no decent future prospects. All that swims in\\r\\nmy head is \"if you love them let them go\" as staying with her seems very\\r\\nselfish.\\r\\n\\r\\nHowever, she is the first person who I have ever really shared this with.\\r\\nMy past relationships completed the cycle! She understands as much as one\\r\\ncan and is very supportive but I feel that her patience must run out\\r\\neventually (she\\'s a teacher so she does have a lot!) and she shouldn\\'t have\\r\\nto deal with this anyway.\\r\\n\\r\\nIf I were you I\\'d visit America. Not sure where you\\'re going but if you\\r\\nhave the means then do it. If nothing else it is something to look back on\\r\\none day and think \\'wow, I did that\\' and gives you that ton more of info to\\r\\ntalk about with friends, strangers, future partners that can fill those\\r\\nawkward moments when you\\'re not sure what to say! You\\'ve lived abroad,\\r\\nnearly everyone would say that\\'s pretty cool!\\r\\n\\r\\nCheers for the offer of a drink ha ha! But I\\'m so crap I\\'d probably just\\r\\nput it off and hope to be left alone! The lovely thing about the internet\\r\\nis it is so anonymous even I don\\'t mind being honest. The second I meet\\r\\nsomeone I\\'m worrying I\\'m boring them, annoying them etc! Even my CBT doc!\\r\\n\\r\\nI wish I could find just one positive to focus on. I really can\\'t. The only\\r\\none I should have (my gf) I twist to make it one of the biggest negatives -\\r\\nme being a burden to her. I\\'m not fun, I\\'m not confident, I now have no\\r\\njob, I have cr*p future financially, I can never acheive in basic things\\r\\nlike house buying etc (I\\'ve never even owned a car in my name!) because\\r\\nevery time I get myself on an even keel I sabotage it best I can, waiting\\r\\nfor the disaster to hit.\\r\\n\\r\\nCheers for the replies.\\r\\n',\n",
       " 'dvirnimrod84@gmail.com',\n",
       " \"Thanks for the reply, its nice to know you're not alone isn't it? However,\\r\\nit'd be nicer if people said it got any better! I hate the idea that this\\r\\nis forever, like an alcoholic or something!\\r\\n\\r\\nI hope you haven't given up; I don't know how you just 'get over it', for\\r\\ngood or bad! I have no spiritualty (I almost envy those who do!) so am\\r\\nunder no illusions that it gets better after life but, much like someone in\\r\\nconstant physical pain, I feel like I should be allowed to just give up\\r\\nwithout guilt.\\r\\n\\r\\nI fully empathise with your issues, they sound identical! I beat myself up\\r\\na little more as, being a man, society expects you to step up - think I get\\r\\nweird looks when the gf is dealing with everything!\\r\\n\\r\\nI wish you luck with your future too - I hope you are doing something to\\r\\ntry and fight it as I think without at least trying Meds/ Talk therapy etc\\r\\nthen giving up in your head can easily turn in to giving up 'properly'.\\r\\n\",\n",
       " 'dvirnimrod84@gmail.com',\n",
       " 'I have read the replies and sympathise with you all, despite it being some\\r\\ntime since I wrote the original post. Unfortunately little changes.\\r\\n\\r\\nPaulsinbc you sound very similar! I\\'m impressed you can volunteer, I\\r\\nstruggle with people and then somehow feel worse as I think I should be\\r\\nable to cope compared to people who have REAL problems. I\\'ve never felt\\r\\nhard done by or unfortunate - my problems are me!\\r\\n\\r\\nHowever, you\\'re right, there is an element of fanning the flames! The\\r\\nreason I\\'ve largely stopped looking at this site is I don\\'t see a benefit\\r\\nfor me or anyone else. I recognise some may get comfort from support from\\r\\nlike minded people, or signposted to suitable resources or recognise\\r\\nsymptoms of PTS or similar, but for me all I read is people who live with\\r\\nit forever with no answers and that in itself is depressing.\\r\\n\\r\\nPeople say knowledge is power, but I find it to be a curse. The more you\\r\\nknow, the more you realise your insignificance, the hopelessness of\\r\\nsituations and the reality of the world rather than the rose-tinted \\'it\\'ll\\r\\nall work out in the end\\' view we\\'re told to believe. I really struggle with\\r\\nthe inability of professionals to accept that some people don\\'t succeed,\\r\\nsome people do fail, some people aren\\'t talented, some people aren\\'t nice -\\r\\nwhy can\\'t that be me? It\\'s no different than saying \"it can\\'t happen to me\".\\r\\n\\r\\nSo for that reason I\\'m very much keeping this site at arms length. I\\'d\\r\\nunrealistically hoped for advice or signposting or, ridiculously, a miracle\\r\\ncure but it\\'s more a gathering for people to support each other with\\r\\nknowing nods or virtual hugs. I recognise the support that may give to\\r\\nothers but for me, it just makes me feel worse.\\r\\n',\n",
       " 'dvirnimrod84@gmail.com',\n",
       " \"What is it with my compulsion to reply despite my last comment?! [image:\\r\\nwink]\\r\\n\\r\\nYeah 8 months, feels both more and less. Unfortunately I doubt I will\\r\\neither give you insightful answers or even a nice positive slant on my\\r\\nresponse - you have been warned!\\r\\n\\r\\nLittle has changed. I tried drugs, didn't work, I tried therapy, too much\\r\\nreligion and not willing to try again - a weird catch 22 in where you need\\r\\nto ask for help but are afraid of talking to people even day to day.\\r\\nFriends are nonexistent, I quit my job and haven't returned. I still feel\\r\\nlike a burden to those around me, and how ever much they care it doesn't\\r\\nexcuse it - in fact it makes it worse. I can't escape feeling that if I was\\r\\na good person then I'd protect them from me - if you were highly infectious\\r\\nwith a  deadly disease would you hug your family? So internally and\\r\\nexternally, very much status quo. I'm still here, slightly surprisingly.\\r\\n\\r\\nIt is fair to say I'm confused as to my wants and beliefs about my\\r\\nsituation. One day it's just me and there is no hope, next day it's won't\\r\\nplease someone give me a magic wand (but I won't ask!). If I seem\\r\\nungrateful with any responses then that wasn't my intention, maybe it's my\\r\\nway, I always focus on negative and all I see is lots of people struggling\\r\\nand no-one coming out the other side. It feels like the blind leading the\\r\\nblind.\\r\\n\\r\\nFurther more most people seem to have a good reason through circumstance or\\r\\nsubstance abuse or dramas in their life -I'm just like this for no real\\r\\nreason. Pretty pathetic really.\\r\\n\\r\\nMy girlfriend does support me but it both helps me survive and yet stops me\\r\\nfacing my issues and makes me feel not good enough and as if I'm holding\\r\\nher back. I know she doesn't feel that, but I feel like it MUST or it will\\r\\neventually when she realises what she'll miss out on.\\r\\n\\r\\nCycles of mood are continuous but rarely hit a positive slant, some days\\r\\nI'm just ok and potter around and others I feel the strongest urge to give\\r\\nup. The only trigger I know doesn't help (but isn't crucial) is the weather\\r\\nbut that's common with lots of people. A bad day will turn in to a bed day\\r\\neasily if it's grey! Lucky I live in UK \\r\\n\\r\\nI've tried improvements in diet etc but I'm not exactly a bad eater anyway,\\r\\nexercise is fine but doesn't really change anything, just gives me\\r\\nsomething to do. Easily lose will to do it though. My socialising is\\r\\nobviously nonexistent and I try to encourage girlfriend to do her own thing\\r\\nwith friends in that respect.\\r\\n\\r\\nSo in summary, nothings changed, I'm in a state of status quo, every plan I\\r\\ncome up with I find a major flaw in, I strongly doubt there's a way out, I\\r\\nhate the way I look, sound and feel and feel I should protect people from\\r\\ntheir own blinkered love.\\r\\n\\r\\nSo, sorry and hope you have more success.\\r\\n\",\n",
       " 'dvirnimrod84@gmail.com',\n",
       " 'I\\'m not deluded enough to think people wouldn\\'t care if someone close to\\r\\nthem wasn\\'t there anymore. People aren\\'t generally that heartless. However,\\r\\nit doesn\\'t mean they wouldn\\'t be better off. Like a child who is removed\\r\\nfrom an unfit parent; they\\'d cry and be upset and miss them but ultimately\\r\\nthey\\'re better off. We all get over loss - we don\\'t as easily get over\\r\\nregret, disappointment and missed opportunities. Only I hold people back.\\r\\n\\r\\nI agree, I have nothing to really complain about, I almost wish I did as\\r\\nthen it\\'d explain it. I just can\\'t cope with society; I can\\'t even talk to\\r\\npeople on the phone or worry about what a stranger thinks of me. I just\\r\\ndon\\'t know what to do; stubbornness, stupidity, anxiety stops me from doing\\r\\nthings and every time I try to fight it I can only keep up the pretence for\\r\\na while and then everything collapses. I just know I\\'m right - we seem\\r\\nscared to admit some people are just failures and not equipped. We could\\r\\nname loads of people in our lives we could say are useless or horrible etc,\\r\\nbut the second their is an element of affection for them is we decide to\\r\\nlie to them and ourselves - \"they\\'re just unlucky/ need help/ have hidden\\r\\ntalents\" - I don\\'t believe it.\\r\\n\\r\\nI have, and if not struggling, do still do a fair bit of exercise. Cycling,\\r\\njogging etc but fitness has never really helped. In my 20s particularly I\\r\\nwas extremely fit but it didn\\'t help. When I said way I look I meant more\\r\\nappearance than shape.\\r\\n\\r\\nI do appreciate responses but worry there is no hope. Maybe I can\\'t hear it\\r\\neven if there is....\\r\\n',\n",
       " 'dvirnimrod84@gmail.com',\n",
       " \"I smiled at that last comment - my girlfriend says I'm too nice. It's a\\r\\nidea I struggle with (how can someone be too nice?) but she says people\\r\\njust take advantage or walk all over me. I'd bend over backwards to help a\\r\\nstranger even if it detrimented me which is possibly part and parcel of the\\r\\nworrying about what others think element. So whilst on here I may come\\r\\nacross ungrateful I can assure you I'm not really - this is perhaps my\\r\\nselfish place. I've tried to be very thankful for all the responses on\\r\\nhere, I just struggle to see any benefit in it.\\r\\n\\r\\nYou can't say you have a hidden talent and then not say what it is [image:\\r\\nwink] that's just mean...! Good for you though. Genuinely. However some\\r\\npeople are just bang on average, I'm one of those. I'm not in some deluded\\r\\nspiral that makes me think I'm the worst at anything, or have a difficult\\r\\nhand or anything, I'm just realistic and know I, like many others, are just\\r\\nbang on average but if I do dip one way it's always the worse than average\\r\\nway. It's my head that beats me up for my limitations and stops me just\\r\\nfuctioning - it's hard to explain so I'll stop!\\r\\n\\r\\nTrying to think of good things is difficult for me, I can't think of\\r\\nanything I can't put a negative slant on! Maybe I'm good at arguing... But\\r\\nif I look at widely accepted sections of my life it's not a good overall\\r\\npicture:\\r\\n\\r\\nFamily - fed up with me, disappointed and feel sorry for me on one hand.\\r\\nHave never really included me anyway (but maybe that's my withdrawal\\r\\ntendancies)\\r\\n\\r\\nLove Life - good and yet that makes it bad! If I didn't care about her I'd\\r\\nbe quite happy taking advantage but if you love someone you don't want to\\r\\nhurt them in any way, emotionally, financially, future etc. If you love\\r\\nthem let them go as the saying goes...\\r\\n\\r\\nFinancially - was poor, sorted with job, would be cleared up in a few years\\r\\n(credit) but don't struggle day to day at all as girlfriend is very\\r\\nsuccessful. So I'm just leaching...\\r\\n\\r\\nFriends - if you can measure a person by their friends then I'm zero. I\\r\\nmean zero, not one person. My fault, there fault it, it doesn't really\\r\\nmatter.\\r\\n\\r\\nHealth - other than this(!) ok really, standard weight, normal height,\\r\\ndon't smoke, drink or do drugs. Eat reasonably healthily and do sport\\r\\nsporadically when it's either sunny and/or I have a spark of inspiration.\\r\\nTried routines, lasted a week before a bad day threw it all off.\\r\\n\\r\\nCareer - down the pooper! Can't return to full time teaching, know I can't\\r\\ndo that. To 'stuck up' for want of a better word to take a shop job knowing\\r\\nI trained to be a teacher. Also can't find another job that is term time\\r\\nonly (to spend time with partner). I'd struggle in ANY job anyway. Too\\r\\noverqualified for most things that might suit purpose. Supply is\\r\\npossibility but that means new people and stuff every day - not my string\\r\\npoint! Plus it means phone calls for availability and I can't talk on\\r\\nphone! Pathetic, whinging, excuse riddled crap eh? Not on benefits or\\r\\nanything as gf is on plentiful wage.\\r\\n\\r\\nLooks - awful, have the face of a teenager who can't grow even a hint of a\\r\\nmoustache never mind a beard which means I'm constantly asked for ID (or my\\r\\nparents if a knock at the door) despite being 34!!! People say you should\\r\\nbe flattered but to me it feels like a kick in the face - maybe it's the\\r\\nbloke thing, it's like people telling you you're a child. I almost am a\\r\\nchild... My facial skin is awful too, no creams or regimes suggested by the\\r\\ngirlfriend work so I've just given up. Maybe I'm an expert at giving up!!\\r\\nTo be fair, all things above have been tried for at least 6 months from\\r\\ndrugs to therapy to face cream!\\r\\n\\r\\nI do appreciate your help/advice. I still wonder if it's just character\\r\\nrather than depression. Maybe I'm just a cynical, boring, lonely, ugly\\r\\nloner. That's fine when it's just you, a killer when you feel you're\\r\\nholding others back from a 'proper' life.\\r\\n\",\n",
       " 'illonashachar78@gmail.com',\n",
       " 'I am in restaurant with my friend but she is going home soon.\\r\\nI will be close to Your hotel in 15 minutes.  I would like to say good bye\\r\\nto You.  I will let You know when I will be outside Your hotel.  And go out\\r\\nthere ok?\\r\\n',\n",
       " 'illonashachar78@gmail.com',\n",
       " 'Ok but I think everything will be closed soon.  Exept of Mcdonald !\\r\\nWe can go to mcdonald.\\r\\n',\n",
       " 'illonashachar78@gmail.com',\n",
       " 'Hey are You sure that You want meet with me? Dont You prefer to sleep?\\r\\n',\n",
       " 'illonashachar78@gmail.com',\n",
       " 'Thank You Shavit! !!! IT was so nice to meet You   I would like\\r\\n to visit\\r\\nIsrael very much, I will let You know before I come  and let me\\r\\n know next\\r\\nyear when You be in Poland ! Sleep good and have safe travel to Yehud :)\\r\\n',\n",
       " 'illonashachar78@gmail.com',\n",
       " 'Hi Shavit !  how are You?  I moved to Warsaw today. I often thi\\r\\nnk about\\r\\nYou, I had so nice time with You  Could I visit You in Izrael d\\r\\nuring\\r\\nupcoming winter?\\r\\nGreat thank You!  I met 2 girl\\r\\nyesterday who were in Israel  and they told me I can feel safe during\\r\\nsaightseeing Israel by myself (because I know You work and have another\\r\\nthings to do SO I wouldnt like You to change Your plans and make any\\r\\nproblem for You )\\r\\n',\n",
       " 'illonashachar78@gmail.com',\n",
       " 'Hey ! I am sorry I wrote that I would talk to You in 30 minutes but I was\\r\\nso busy. My friend called me to talk about her problem, then I made quick\\r\\ndecision to go to Lublin to take my stuff and come back to Warsaw tomorrow\\r\\nso I am in bus to Lublin now. Yes I changed city and I am starting work on\\r\\nmonday. Shavit thank You  You are so nice and I miss our conver\\r\\nsation too\\r\\n!!!    Today is first day with quite good weather since You left Poland!  I\\r\\nmean: without rain!\\r\\nAll of my friends who were in Izrael recomend me to go there.  They said IT\\r\\nis amazing there  If You are working now, answer me later.  Hav\\r\\ne a nice\\r\\nday \\r\\nOh I just remember that You dont work this week \\r\\n',\n",
       " 'illonashachar78@gmail.com',\n",
       " 'I dont know yet but I hope I will be able to come to Izrael    in January\\r\\nor February. Would it be ok for You?\\r\\nWhen would be the best time for You?\\r\\nShavit I can rent room in hostel not to make any problems, but It would be\\r\\ngreat to meet with You \\r\\n',\n",
       " 'dvirnimrod84@gmail.com',\n",
       " \"Resisting the urge to get in to a theological debate... let's just agree to\\r\\ndisagree. Sometimes I envy those with faith, today I almost feel anger...\\r\\nAnyway, my problem not yours.\\r\\n\\r\\nI hope things improve for you,hopefully your faith gives you a bas\\r\\ne to\\r\\nwork from and you turn around those feelings you have. If you believe what\\r\\nyou have written then I feel you are closer than you think you are to\\r\\naccepting/being happy.\\r\\n\\r\\nI'm as tired as I've ever been. Tired, bored and had enough. I can\\r\\n't even\\r\\nthink of a positive thing to say. I think I'm ready to sleep now.\\r\\n\",\n",
       " 'illonashachar78@gmail.com',\n",
       " \"Wow thats great.  Warm!  I wanted to write ''super'' in Your language but I\\r\\ncant copy this signs from internet and put it here .\\r\\n\\r\\nThx  Because Polish language, especialy pronunciacion is diffic\\r\\nult so it\\r\\nis easy for us to say words in Your language. But You are quite good at\\r\\nPolish too\\r\\nYes  does Your grandmother sometimes speak polish with anybody \\r\\nor she\\r\\ndoesnt have opportunities to use it?\\r\\n\",\n",
       " 'illonashachar78@gmail.com',\n",
       " 'Yes I remember she is 90. Does she undersand a lot when she hear polish?\\r\\n\\r\\nOh yes You told me that they were living in Rumunia but my mind was focused\\r\\ndo much on Your grandmother from Poland that I forgot about the rest. .....\\r\\nI am sorry \\r\\n',\n",
       " 'illonashachar78@gmail.com',\n",
       " 'Yes I feel it \\r\\nMeybe Your polish side live longer because Your grandmother and\\r\\ngrandfather  had so difficult live when they were young so they become\\r\\nstronger for everything. I know meybe it is a little stupid what I wrote.\\r\\n...\\r\\n',\n",
       " 'dvirnimrod84@gmail.com',\n",
       " \"Let me start by saying I feel for you, I really do. You have a GENUINE\\r\\nreason to feel like you do and should not feel bad or apologise for asking\\r\\nfor help! You make me feel even more pathetic but that's my issue rather\\r\\nthan yours!! Perspective makes me think even worse of myself as I know I'm\\r\\nlucky compared to lots - so why do I feel like this?\\r\\n\\r\\nAs regards the drug route, a lot of people have suggested this. However one\\r\\nmajor issue stops me and is not really ever talked about - I'm terrified of\\r\\npeople/meetings etc! So I can't see a Doctor! When at my lowest I was being\\r\\nferried around so had no choice and needed a Doctors note etc but now the\\r\\nthought of seeing a Doctor (or any body I know I have to talk to) terrifies\\r\\nme to the point I'd almost have a panic attack. So not sure what to do\\r\\nthere really! Still not convinced on the drug thing anyway - it only made\\r\\nme slightly manic (obsessed with projects) and had no effect on my overall\\r\\nmood at all, well other than making the idea of 'going' seem even more\\r\\nrational.\\r\\n\\r\\nSo instead of me whinging on and on let me just make a few completely\\r\\nuneducated comments regarding your situation. You don't seem depressed so\\r\\nmuch as tired! I don't mean that in a dismissive way but you clearly have a\\r\\nlot on your plate and I think (if there is any) you need some support. I'd\\r\\ngo as far as saying I doubt the drugs are halping you - they seem to be\\r\\ntreating a symptom not a cause.\\r\\n\\r\\nDid you have anxiety before all the pressures you're under? I think you'd\\r\\nfeel a hell of a lot better quicker if you directed your energy to finding\\r\\nfinancial and/or respite support if there is any. You're probably doing too\\r\\nmuch and it's impacting on your health physically and emotionally. If there\\r\\nisn't any further help then, other than shaking your head at the hand\\r\\nyou've been dealt, then you seem to have a good plan of action at the\\r\\nmoment. If that plan could be super organised to include you (as in time\\r\\nfor yourself etc) and maybe incorporate a job (if you so wished) you may\\r\\nfind you were in control a bit more.\\r\\n\\r\\nI'm not trying to sound dismissive at all I promise! You have a compelling\\r\\nreason to feel the way you do and I acknowledge I'm talking without all the\\r\\nfacts. I just get the sense it's a lack of control on a very hectic/\\r\\nemotional draining life that is you're primary concern. For example, if you\\r\\nwon the lottery and could deal with all the bills and give the care to your\\r\\ndaughter you wish do you think you'd feel infinitely better? You're\\r\\ndepressed because of the situation I think so hopefully either you, or you\\r\\nand others, could plan a route that would help you considerably. I think\\r\\nthere is a lot of hope for you to be VERY happy and enjoy your life with\\r\\nyour daughter but you've just been struggling for years and it's worn you\\r\\ndown. Asking for help (other than medicinal) is the right way to go.\\r\\n\",\n",
       " 'illonashachar78@gmail.com',\n",
       " 'Oh thats bad!  This is not good explanation,  they should go to doctor!\\r\\n!!!!!!!!!!!!!!\\r\\nYou remainded me sth : I read great book last month about one American\\r\\nCouple (70 old woman with Cancer and her 75 years old husband with\\r\\nAlzhaimer who escaped from hospital to travel in camper through 66 Road\\r\\nfrom East side of US to California (to Disneyland and Santa Monica where\\r\\nthey met the first time ) and when they finished their trip and were\\r\\nsleeping in camper woman put their documents on the table, started the\\r\\nengine and closed every windows in car ....... IT was wonderful book \\r\\n\\r\\nThey reduced time of living but raised standard of living.    I dont\\r\\ncomment if she made good or wrong decision. I dont know why I shared this\\r\\nstory with You but we were talking about old people and time of life so.\\r\\n..... \\r\\n',\n",
       " 'illonashachar78@gmail.com',\n",
       " 'I am fine  thank You! Yes tomorrow is my first day and I am a l\\r\\nittle\\r\\nstressed like always when I get new job.\\r\\nI am going to studying today   . I was out yesterday evening with my new\\r\\nfriend and her friends and we were playing billard so my weekend is ok \\r\\n\\r\\nWhat about You?\\r\\n',\n",
       " 'illonashachar78@gmail.com',\n",
       " 'Really ?? I know some people in poland who have it  but  almost everobody\\r\\nuse messanger. Why do You need wattsap if You have messanger?\\r\\n',\n",
       " 'illonashachar78@gmail.com',\n",
       " 'Ok! I will let You know when I install watssap.... I am going to synagogue\\r\\nin the evening to take part in sightseeing trip and  hebrew language lesson\\r\\n\\r\\nToday is special day when many tamples (other religious ) are open and\\r\\nthere are organised special events inside\\r\\nWhat about You ?\\r\\n',\n",
       " 'illonashachar78@gmail.com',\n",
       " 'Hey Shavit  best wishes because of 5778 year!\\r\\nHow do You celebrate it?  Arent You working these 2 days ?\\r\\nI was in synagogue and saw a part of shabat but didnt take part in hebrew\\r\\nlesson because I didnt feel good (I was cold )\\r\\n',\n",
       " 'illonashachar78@gmail.com',\n",
       " 'Hi Shav thank You  I thought about You too  !!! Yes\\r\\n I have good time in\\r\\nWarsaw.  I am reading great book today (reportage about Israel people )....\\r\\nWhere was this picture taken (I mean new photo which You put on facebook\\r\\ntoday ) ?\\r\\n',\n",
       " 'illonashachar78@gmail.com',\n",
       " 'Wow thats great  I thought it is Poland on picture because it l\\r\\nooks\\r\\nfamiliar !!!  I will write to You later because I am working no\\r\\nw.  Have a\\r\\nnice day \\r\\n',\n",
       " 'illonashachar78@gmail.com',\n",
       " 'hey Shavit \\r\\noh You went to sleep  I will write to You another evening when \\r\\nYou will\\r\\nbe available. I can write to You only when I am home (using messanger on my\\r\\ncomputer) because my telephone is broken and I cant write long messages on\\r\\ntelephone.... Good night \\r\\n',\n",
       " 'illonashachar78@gmail.com',\n",
       " 'hey Shavit are U going to be in israel  19-25/27.04 .? Would it be good\\r\\ntime for u to meet with me ? i am not asking about hosting me (i know it\\r\\nis  it is too early to ask about it ! ). ...\\r\\n',\n",
       " 'dvirnimrod84@gmail.com',\n",
       " \"Please don't be sorry - very aware that's my issue not yours!\\r\\n\\r\\nYou sound like you have a very clear plan, you almost sound excited! I'm\\r\\nsure you are, but if you're not do, but make that your focus and you may\\r\\nfeel the clouds lift quite a lot! I envy that purpose, or goal or action\\r\\nplan - I can't think of any!\\r\\n\\r\\nI think my girlfriend might stay with someone she felt sorry for, like a\\r\\nresponsibility for so to speak. I think she WOULD be sad if I 'left' but\\r\\nshe'd be happy again a lot sooner than having to live with me! It's quite\\r\\nanalytical, I recognise that, but to me I'd rather her be sad for a year\\r\\nwith 'loss' rather than sad for 20 years with me! It's weighing up value,\\r\\nshort term pain for long term gain... As for a job, my head stops me, I\\r\\nfeel I can do most jobs but only temporarily as my head messes me up,\\r\\nmesses my professional relationships up and I just can't see how I can hold\\r\\ndown a job - it's hard to explain, but being sociable (like you have to be\\r\\nat work) is almost physically draining and eventually my energy runs out\\r\\nand I drop all the balls I'm juggling.\\r\\n\\r\\nYou may be right about reason for depression but the genetic one concerns\\r\\nme most - that means I'll never be 'fixed'... I'd rather just give up now.\\r\\n\\r\\nOrdinary to me is depressing. Ordinary is forgetable, ordinary is boring,\\r\\nordinary doesn't 'exist'. To give you a glimpse of my thinking; the popular\\r\\nkids in school were 'exceptional', but even the bullied kids had something\\r\\nabout them. When you're average, you're invisible. You can take the\\r\\n(friendly) mick out of someone who's bad at something, you can admire the\\r\\ntalent of someone who's great at something, but when someone is average\\r\\nit's just a shrug, no story, move on. I'm genuinely the most forgettable\\r\\nman in the world! I'm one of a large group of siblings, I'm one forgotten\\r\\nin family dos, I was one forgotten at school (old teacher remembered all\\r\\nsiblings during catch up chat to parents bar me) I'm one forgotten at work\\r\\n- I really am a waste of space!\\r\\n\\r\\nThe media's main fault is trying to make people believe that happy endings\\r\\nexist, that we all have a hidden talent and if you want something enough\\r\\nthen it magically comes true. Sorry, my view is very much it doesn't! It\\r\\ndoesn't 'all work out in the end' and we're just fed this fantasy world\\r\\nthat depresses us when the reality slaps us in the face!\\r\\n\\r\\nSorry - trying so hard not to just 'release' on here....\\r\\n\",\n",
       " 'illonashachar78@gmail.com',\n",
       " 'oh great... the flight tickets are  sale now. I will buy it ok? ( even if\\r\\nYou would be very busy this time, it would be be nice to meet with You even\\r\\none time.... \\r\\n',\n",
       " 'illonashachar78@gmail.com',\n",
       " 'Yes I am still working in Warsaw   but I will have 3 months of \\r\\nvacation\\r\\nfrom 15 Aprill \\r\\nWinter in Poland is not so cold this year ! more than 0 Celcius degree\\r\\nalmost every day\\r\\nhow are U?\\r\\n',\n",
       " 'illonashachar78@gmail.com',\n",
       " 'dont know yet but probably during my 3 months vacation. I am  planning to\\r\\nspend about one week in Lisbon and go from Lisbon to Santiago de\\r\\nCompostella on foot ( 520 km, people who are following this trail can sleep\\r\\neveryday in hostels for only  5 Euro ! )\\r\\n',\n",
       " 'illonashachar78@gmail.com',\n",
       " \"my telephone's battery was dead.....70 years! great, I will be  happy to\\r\\nsee how people in Israel celebrate it   oh to be honest Poland \\r\\nin winter\\r\\nis not good idea, I always feel I would like to escape from my country\\r\\nduring winter \\r\\nI am going to Portugal at the beginning of may for about 3 weeks  \\r\\n  \\r\\n\\r\\n\",\n",
       " 'illonashachar78@gmail.com',\n",
       " 'yes, i hope it will be great.... I belive it must be amazing in India, (U\\r\\nhave to remember about vaccinations before going there, it is so dirty\\r\\n....... )\\r\\n',\n",
       " 'dvirnimrod84@gmail.com',\n",
       " \"Please do not get me wrong, I do not believe any one characteristic makes\\r\\nsomeone of no value, further more I think it'd be impossible not to be of\\r\\nSOME value, it's just to what weighting you give a value when compared to\\r\\nall the problems it may cause. For example, alcohol gives you a small boost\\r\\nbut, when abused, can cause significant problems. For those with a problem,\\r\\nit may be better to just give up the alcohol.\\r\\n\\r\\nI too have multiple issues with religion (that's a real rant!) but I don't\\r\\nthink anyone has the right to judge another. I would never judge anyone\\r\\nelse as worthless, but I know myself and can judge myself. I stand by that\\r\\njudgement based on what I know, what I do, what I think and the proof I\\r\\nhave. A person suffering from anorexia will ignore the scales reading too\\r\\nlow a weight, I suffer from no dilusions. Everything points to me being\\r\\neverything I think I am.\\r\\n\\r\\nYou sound like a much better person than me, you maintain strength in\\r\\ndifficulty and have the fight in you to counter injustice. I can barely\\r\\nface people so volunteering is out of the question, whether that is lazy or\\r\\ncowardly, I simply can't pretend to be 'normal' any more and public is so\\r\\nmuch energy.\\r\\n\\r\\nI am a faceless person on here. The reality of me is much worse.\\r\\n\",\n",
       " 'dvirnimrod84@gmail.com',\n",
       " \"I care a lot about most people, more than is healthy perhaps. I take on\\r\\nothers problems if I can and feel more useful if I'm helping someone else.\\r\\nI'm often accused of making people's decisions for them regarding me\\r\\nthough, although I don't see that as an issue if I'm protecting them. For\\r\\nexample I say I should leave gf to protect her, she and family say it's her\\r\\ndecision to give up on me not mine. I still struggle a lot with that way of\\r\\nthinking. I feel you should protect people, even from themselves sometimes.\\r\\n\\r\\nA reply after 8 months due to some shift.... bit more mundane I'm afraid,\\r\\nsomeone replied after a long time, put effort in to their thread and I had\\r\\nan email telling me so I felt it was polite to respond! Sorry!\\r\\n\\r\\nIs 'holding back' a strange metaphor?! :D But yeah, maybe that's what it is\\r\\n- in fact it'd be easier to escape as I have no upper body strength at all!\\r\\nBut it's meant more in the way that if I struggle through on the low level\\r\\nI am my girlfriend will put up with it and not have the marrigate, house,\\r\\nholidays, and have to basically look after me (phone calls, sorting\\r\\nanything that invloves others, avoiding social events to look after me)\\r\\nwhere as if I went, she'd be sad for a while, perhaps never even forget,\\r\\nbut move on and get a 'proper' boyfriend and get all that stuff. She didn't\\r\\nsign up for this - she met the fake easy-going confident full time teacher\\r\\nwith prospects...!\\r\\n\\r\\nIs there such thing as too much time on a computer?! I didn't realise! I\\r\\nfilled in a survey the other day - it said how long do you spend on the\\r\\ninterent a day. I was strugling to find the 'all day' option!\\r\\n\",\n",
       " 'dvirnimrod84@gmail.com',\n",
       " 'It\\'s strange talking on the internet as you answer one comment but then\\r\\nsomeone else adds an extension question, but all of it is stuff you\\'ve\\r\\nthought before. Does that make sense?! Another words, whilst I offer my\\r\\nopinion on a particular though process it doesn\\'t mean I\\'ve not actually\\r\\ngone far beyond that in my own thinking.\\r\\n\\r\\nSo to answer your very well thoughout view, it is all stuff I have thought\\r\\nof before and almost counted out! I\\'m just a whiner obviously \\r\\n\\r\\nIf I did what I want I\\'d be sportsman, but then we have to be realistic and\\r\\nsay that isn\\'t going to bring in any wage! Besides, I also know I struggle\\r\\nin team situations in reality as I struggle with the bravado that is\\r\\nespecially prevalent in male sports. So what else do I enjoy, genuinely,\\r\\nnothing. But even I recognise that might be an extension of my apathy.\\r\\nTeaching is fun, I love working with kids... but the other teachers,\\r\\nparents, Ofsted, paperwork, and most constant judgement of any career makes\\r\\nit impossible. On a side note, if you have any issues with self confidence,\\r\\nteaching is NOT the way to go! I\\'ve never known a career in which you\\'re so\\r\\nreguarly scutinised and there\\'s always something you could have done better\\r\\n- and if you\\'re of a fragile nature you naturally only focus on that.\\r\\n\\r\\nNo jobs don\\'t have to be people based, I too have worked in media as a\\r\\njournalist (although that is people based!) but can\\'t think of anything I\\'d\\r\\nenjoy or, more pertinently, be able to do - skill, time or wage wise!\\r\\nSetting up a cattery would be nice, but need money for that. Being an\\r\\narchitect always appealed by I have neither the time (course duration) or\\r\\nthe skills to do it!\\r\\n\\r\\nI\\'m not sure if this is normal or not; I struggle with people but also\\r\\nstruggle alone. It\\'s not like once I have escaped people I feel relaxed.\\r\\nMaybe I\\'m in a sydrome called \\'grass is always greener\\'! When left alone I\\r\\nam even more self destructive in my thoughts - thinking time is not good\\r\\ntime.\\r\\n\\r\\nI do appreciate you saying \\'maybe there isn\\'t anything you massively excel\\r\\nin\\' - it\\'s those kind of statements that make me think people are writing\\r\\nrealistically rather than using a softly softly approach. It\\'s not like\\r\\nnegatives are the only reality but I can only begin to believe a statement\\r\\nif people acknowledge the bad. People saying \"I\\'m sure you\\'re good at x\"\\r\\njust makes me turn off, someone saying \"Ok, you\\'re crap at that BUT\\r\\ntry....\" is much more realistic. Unfortunately I haven\\'t found the good\\r\\nthing!\\r\\n\\r\\nI know that \\'you\\'d be better off\\' is an extremely frustrating statement.\\r\\nThe question is, do you reveal what you\\'re thinking or keep it to yourself?\\r\\nI always say \\'be careful what you ask or you might not like the answer\\',\\r\\nbut if I\\'m being asked to open up and not bottle feelings then where is the\\r\\nline on what is acceptable to share and what isn\\'t? I can\\'t help very\\r\\nstrongly feeling that.\\r\\n\\r\\nI do think time heals and it seems logical to reduce any pain to it\\'s\\r\\nminimum; a year or so after I\\'m gone or a lifetime of regrets, missed\\r\\nopportunities and struggles with me around. I can\\'t do the whole marriage,\\r\\nkids thing. I am next to useless when it comes to mortgages and luxuries.\\r\\nWe all start with dreams of being rich and famous and having everything we\\r\\nwant, we then give up certain dreams as childhood subsides and reality\\r\\nkicks in, as we get older we give up more and more dreams as we can\\'t\\r\\nachieve them. But once you\\'ve given up every dream, don\\'t you just fade\\r\\naway? A very old person knows they will not travel the world again, they\\r\\nknow they can not look like a 30 year old movie star, their wish may be to\\r\\nsee a grandchild go to university or even simply to reach 100. But once\\r\\nyou\\'ve done everything you can do, or know you will ever do, then, to me,\\r\\nit feels like it\\'s time to go.\\r\\n\\r\\nI tried the meds, ok only once, but it didn\\'t work. I can\\'t face going back\\r\\nto the doctors again and having to talk about all this. It feel so pathetic\\r\\ntalking to a grown man about my piddly stupid head. There\\'s people going in\\r\\nthere with proper problems, or at least fixable ones!\\r\\n\\r\\nAm I afraid of death? Not really, the thought of it is very much in my\\r\\nhead. And I mean the actual thought, not the before or the after, the\\r\\nthought of that last breath then nothing. I don\\'t think greatly of the\\r\\ndrama of after a death (like \\'oh people will miss me etc etc) I just am\\r\\ntransfixed on the thought of that very last spark of the brain. It will\\r\\ncome one day. Whilst I\\'m very careful not to talk about suicide on here\\r\\n(\\'gone\\' or \\'left\\' being much friendlier terms) I know I\\'d never make me\\r\\npassing traumatic for train divers, dog walkers or unsuspecting family\\r\\nmembers.\\r\\n\\r\\nBungee-jumping, skydiving or Vegas all sound great. But that\\'s where the\\r\\nreality sets in, how exactly am I paying for this?! If there was one thing\\r\\nthat I think would have the greatest impact on my mental health it\\'d be\\r\\nwinning the lottery - I could then distract myself with things, or feel\\r\\nlike I was providing for my family. I\\'d still have those demons, I\\'d still\\r\\navoid people, I\\'d still have no friends etc, but instead of stewing I\\'d be\\r\\nbeing kept busy on a beach in Hawaii! Money doesn\\'t solve everything, but\\r\\nit makes the low points easier to deal with as you can more readily escape.\\r\\nI do love travel that being said, and when ever I can afford it I do.\\r\\n\\r\\nI\\'m never going to feel differently to the way I do... that\\'s as far as I\\'m\\r\\nwilling to agree with your last statement!  I\\'ve actually\\r\\ntried the big changes, I\\'ve tried doing the things that scare me or out of\\r\\nmy comfort zone. I went to University alone, along way away from family, I\\r\\ntravelled Europe camping for a summer, I took on jobs I didn\\'t think I\\r\\ncould do, I moved to new areas with no contacts. I think I\\'ve done\\r\\neverything I\\'m \\'supposed\\' to improve myself and my thinking. But none of it\\r\\nworked, all of is (possibly self-inflicted) failed, I always reverted to\\r\\n\\'type\\'.\\r\\n\\r\\nI appreciate everyone on here giving their time to convince me otherwise. I\\r\\nhave never doubted there are very nice people in this world, just as there\\r\\nare horrible ones. I do believe the horrible ones get a \\'better\\' life but\\r\\nthat\\'s a different conversation. But I\\'m beginning to find that me\\r\\nanswering these views is just making me more sure I\\'m right - I\\'m a\\r\\nhopeless case.\\r\\n\\r\\nWhether it\\'s depression, anxiety, personality, whining, my fault, other\\'s\\r\\nfault, luck or time it now kind of strikes me as irrelevant. I\\'m at this\\r\\ndestination, there are no more stops.\\r\\n',\n",
       " 'dvirnimrod84@gmail.com',\n",
       " \"Kick away!\\r\\n\\r\\nFair enough, I don't do much at the moment. I occasionally do a little bit\\r\\nof exercising (jogging/cycling) but a grey cloud, real or metaphorical,\\r\\nquickly kills any energy I have! I don't think it's the lack of doing\\r\\nanything that causes this however, I'm still 'better' than when I was at\\r\\nwork/ socialising - but then if this is the best it gets... well.\\r\\n\\r\\nI have visitied the Doctor, and for the record he was really nice. Very\\r\\nsupportive in fact. But it didn't change the fact I felt stupid and as if I\\r\\nwas wasting his, and others, time. I remember being really worked up about\\r\\nthe fact our appointment slot was overunning because I felt like I was\\r\\nholiding up other people. But I did that because my girlfriend was with me\\r\\nat all times (and forced me!) and because I needed to get a Doctors note\\r\\nfor work. Now I no longer work, I no longer need to waste people's time.\\r\\nBut you're right, I'm an expert in giving up!\\r\\n\\r\\nThe girlfriend question comment is a difficult one and the one I battle\\r\\nevery day more than anything else. If I leave her there is nowhere to go,\\r\\nthat really is it. I mean that in the practical sense here, house etc but\\r\\nalso it means that really is the end. I stay through her appeals and for\\r\\nmaybe that ounce of hope that she, and others, are right that it'll pass.\\r\\nAlthough I've always been like this. I'm not staying with her for ease, or\\r\\nto string her along, but leaving her really is a final decision - I have no\\r\\nbelief there is something better than her. Probably makes no sense. The 1%\\r\\nhope keeps me alive, therefore the 1% keeps me here. If I lose the here, I\\r\\nhave absolutely zero interest in the alive.\\r\\n\\r\\nI really do appreciate your replies, a constructive kick is better than a\\r\\ncompassionate hug for me. But I can't find that kick that I can't talk my\\r\\nway around or explain away. I hate my head! I have actually tried\\r\\neverything I'm supposed to, maybe not for long enough, but I've seen zero\\r\\ndifference. Leaving work calmed me down and made me able to uncurl from a\\r\\nball but does that mean I can never return to a job? That then creates\\r\\ndifferent problems emotionally and financially.\\r\\n\\r\\nI saw the CBT guy but, nice as he was, he tried a religious route with me\\r\\n(never going to work) and I put on my fake chatty character for the hour,\\r\\neven if I was tired afterwards. It didn't do anything. Even if I try to get\\r\\nrefered again by the Doctor, I'd actually be scared that I'd be seeing him\\r\\nagain, or be seen to have asked not for him - and although I'm fairly sure\\r\\nhe wouldn't care, it genuinely freaks me out! How messed up is that?!\\r\\n\\r\\nI'm actually ok, if I prepare well, for an hour or so around people - I can\\r\\nseem easy going and chatty, any longer than that and it gets difficult. If\\r\\nI can't prepare, i.e. I know there will be questions I'm not expecting or\\r\\nit's someone I feel who will judge me e.g. a car mechanic as a 'guy' then I\\r\\ncan't do it. How silly is this - I still get uneasy surrounded by teenage\\r\\ngirls! I'm not in the remotest bit interested in them obviously, but just\\r\\nthe feeling of inadequacy/ that I'm a loser makes me feel 'weird'. Same\\r\\nwith family, there is a duration before it gets too personal; I can feel\\r\\nmyself being overly happy and lively around them as if it's all pouring out\\r\\non first meeting them but that there is a finite amount and then my energy\\r\\ndrops and I disappear.\\r\\n\\r\\nGrrr.... I'm whining again. Shoot me.\\r\\n\",\n",
       " 'itaicohen266@gmail.com',\n",
       " \"No  the intent of this guide isn't a how-to or strategy guide. My \\r\\nintent\\r\\nis to build an index of all the great information that available on pet\\r\\nbattling that is currently scattered across sites and posts and condense it\\r\\nto one location. I'm hoping to keep this fairly up-to-date as best I can.\\r\\n\\r\\nIf you spot that I've got some information incorrect, some information is\\r\\nmissing, or you have some information/link/macro/addon you'd like to share,\\r\\nplease let me know in the comments and I will update.\\r\\n\",\n",
       " 'itaicohen266@gmail.com',\n",
       " \"Pet battles are one of the features Blizzard introduced with the Mists of\\r\\nPandaria expansion for WoW. Currently, they're mini-games within the game,\\r\\nintended as an alternative action or for when there's down-time in the\\r\\ngame. As there are really no rewards outside of pet-battle rewards (more\\r\\npets, achievements, titles, pet battle supplies), they are not an\\r\\nalternative to gearing up your character.\\r\\n\",\n",
       " 'itaicohen266@gmail.com',\n",
       " \"You need to have a character that is level 5 and have 10 gold. You also\\r\\nneed to have a full account - pet battles will not work on starter/free to\\r\\nplay accounts. If you meet the requirements, head to a Pet Battle trainer\\r\\nto learn. \\r\\n\\r\\nOnce you've learned the skill, a couple of things will happen. You'll get a\\r\\nseries of basic quests from the trainer which will teach you the basics of\\r\\npet battling and you'll notice little green paws on your mini-map. Those\\r\\npaws represent pets you can battle with. You can select to track pet\\r\\nbattles with the same mini-map button you use to track everything in game.\\r\\n\",\n",
       " 'itaicohen266@gmail.com',\n",
       " \"Ten gold is too much for new characters!\\r\\nIt's supposed to be. Blizzard added the pet battle system as a mini-game\\r\\nfor experienced players. New players should be focused on learning to play\\r\\nthe game. However, with the recent hotfix reducing training from 100g to\\r\\n10g, this should be available much sooner for new players.\\r\\n\",\n",
       " 'itaicohen266@gmail.com',\n",
       " 'Right now, the total pet cap is 1000. However, if you came into MoP with\\r\\nmore than the cap, your extra pets are still there  you just can\\'t\\r\\n catch\\r\\nadditional pets. Once you dip below the cap, you can catch new pets.\\r\\nIn Legion, completing a series of World Quests will reward players with an\\r\\nitem, the Pocket Pet Portal (\\r\\nhttp://www.wowhead.com/item139003/pocket-pet-portal), that raises their\\r\\npet cap to 1500. The Pocket Pet Portal is rewarded from completing the\\r\\n\"Battle on the Broken Isles\" achievement, which requires completing 30\\r\\nWorld Pet Battle quests.\\r\\nIn addition, you can only have up to 3 of each unique type of pet. Again,\\r\\nif you came into MoP with more than 3, those pets are still there. Until\\r\\nyou release/cage the extras, you are unable to add more of those unique\\r\\ntype of pets. For example, I started MoP with 9 Cornish Rex cats. Until I\\r\\ncaged my extras, I was unable to learn/add additional ones.\\r\\nHowever, some pets are unique no matter how many you had across your alts.\\r\\nPretty much any Bind to Account pet (such as the Wind Rider Cub or the 4th\\r\\nanniversary Baby Blizzard Bear) and achievement pets (such as Nuts) will\\r\\nonly exist as a single copy in your pet journal.\\r\\n',\n",
       " 'itaicohen266@gmail.com',\n",
       " \"You may already have a pet collection and have all you need to get started.\\r\\nHowever, if you're brand new and are starting with nothing, you have\\r\\nseveral options. The Pet Trainer who taught you how to battle will also\\r\\nsell you a pet based on your starting race. You can visit any of the pet\\r\\nvendors in game to purchase additional pets (opposite faction pets will\\r\\neither require you to visit the AH or roll an alt to purchase). Some pets\\r\\nare awarded from quests, some pets are drops, some pets are awarded from\\r\\nachievements, some pets are obtained from special events, some are for sale\\r\\nin the Blizzard store, and some are obtained from the trading card game.\\r\\nA lot of battle pets are obtained via battling and capturing wild pets\\r\\n(this is covered further on in the FAQs).\\r\\n\\r\\nMany battle pets are able to be sold on the AH. However, any pets that are\\r\\ncaptured in the wild are NOT able to be caged/sold. Currently, Blizzard has\\r\\ndisabled the selling of captured pets (this is discussed further on in the\\r\\nFAQs). IMPORTANT: If you buy a pre-leveled pet off the AH, you won't be\\r\\nable to add it to your collection unless you already have a pet of that\\r\\nlevel!\\r\\n\\r\\nWarcraftpets is the definitive site for where to obtain pets. (link:\\r\\nhttp://www.warcraftpets.com/) WoWPedia has a fantastic listing of all the\\r\\npets in game as well. \\r\\n\\r\\nIt is important to note that not all pets are able to do battle. The\\r\\nballoon pets (Alliance, Horde, Darkmoon Faire), most kite pets (Dragon kite\\r\\nwith 5.1 is now able to fight), the Guild Page and Herald, and the Argent\\r\\nSquire/Gruntling are ineligible for pet battles. These guys are just for\\r\\nlooking pretty while following you around.\\r\\n\",\n",
       " 'itaicohen266@gmail.com',\n",
       " 'What do you mean, caging pets?\\r\\nCurrently, some pets are able to be put into a cage. Wild battle pets are\\r\\ncurrently unable to be caged. In addition, BoA pets (such as the Blizzard\\r\\nstore pets), pets from achievements (such as Nuts), pets that grant\\r\\nachievements (such as the Spirit of Competition), and pets from some quests\\r\\n(such as the Singing Sunflower and Northrend Childrens Week orphan\\r\\ns) are\\r\\nalso unable to be caged. Vendor pets (such as the Cornish Rex cat), dropped\\r\\npets (such as the Emerald Whelpling), and some quest pets (such as the\\r\\nAzeroth and Outland Childrens Week rewards) are able to be caged.\\r\\n\\r\\nThe best way to be tell for sure if your pet can be caged is to right-click\\r\\non it in the Pet Journal. If it can be caged, youll see that as an\\r\\n option.\\r\\nOnce a pet is caged, it becomes an item in your inventory that you can\\r\\ntrade or sell as normal.\\r\\n',\n",
       " 'itaicohen266@gmail.com',\n",
       " 'What if I want to get rid of a pet that cant be caged?\\r\\nYour only option is to release the pets. This is also ava\\r\\nilable by\\r\\nright-clicking on a pet in your Pet Journal. There is no animation of the\\r\\npet running free  they merely disappear from your listed pets. Tho\\r\\nse more\\r\\ntender-hearted may find it hard to release some pets (Northrend orphans\\r\\nhave nowhere else to go!)\\r\\n\\r\\nWhen I right-click, I also get the option to rename. What is that?\\r\\nAfter years of asking, pet collectors have finally gotten the right to\\r\\nrename their pets. It does exactly what you think it does  you can\\r\\n rename\\r\\nyour Cornish Rex to Fluffy if you so desire. Pet naming follows pretty much\\r\\nthe same set of rules as naming your character: nothing obscene/offensive,\\r\\nno titles (such as Mr), and no linkers (such as The). You can put multiple\\r\\ncapital letters and spaces into a pet name, so youve got that goin\\r\\ng for\\r\\nyou, which is nice.\\r\\n',\n",
       " 'itaicohen266@gmail.com',\n",
       " \"What does the color around the pet's portrait mean?\\r\\nLike gear, battle pets have a quality associated with them. Currently,\\r\\nthere's poor (grey), common (white), uncommon (green), and rare (blue)\\r\\npets. There are no epic or legendary pets available to PLAYERS, but some\\r\\nNPC Tamers use Epic pets and the Grand Master Tamers have Legendary pets.\\r\\nIn addition, there are legendary pets to battle through-out Pandaria and\\r\\nDraenor.\\r\\nPet quality affects the total stat values a battle pet has. Poor quality\\r\\npets will have lower stats than common quality pets of the same level, and\\r\\nso on. For fighting, it's recommended to use high quality pets over lower\\r\\nquality pets.\\r\\nShalura from Anvilmar has made a fantastic compilation of pre-existing pet\\r\\nqualities as well. (link: http://us.battle.net/wow/en/forum/topic/6712862299\\r\\n)\\r\\n\\r\\nThere's a gold ring around my pets'/opponent pets' portrait. What does that\\r\\nmean?\\r\\n The gold color indicates which pet gets to go first.\\r\\n\\r\\nWhat does my pet's family mean?\\r\\nIf you're familiar with Pokemon (or Rock-Paper-Scissors), you'll understand\\r\\nabout pet types/families. WoW pet battles have a type associated with them\\r\\n(for example, critter). This determines what other attack types they are\\r\\nstrong against (critters are strong against undead type attacks) and weak\\r\\nagainst (critters are weak against beast type attacks), in addition to\\r\\nhaving a special ability associated with the type (critter types break out\\r\\nof crowd control more quickly). While a battle pet will have a base type,\\r\\nthey can also have other type's moves (for example, a rabbit, which is a\\r\\ncritter type, learns burrow, a beast move, at level 4).\\r\\nWowpedia has a very nice chart showing what battle pet types are strong and\\r\\nweak against. \\r\\n\",\n",
       " 'itaicohen266@gmail.com',\n",
       " \"What types of pet battles are there?\\r\\nLike much of the game, Pet Battles have a PvE and a PvP component.\\r\\n\\r\\nPvE battles are those battles with wild pets or with the NPC Pet Tamers.\\r\\nThis is the way if you want to collect pets and level them up.\\r\\n\\r\\n\\r\\n\\r\\nPvP battles are battles with other players. On your Pet Battle tab, there's\\r\\na button to find a random pet battle. Unlike PvP'ing in other parts of the\\r\\ngame, you will not know who you are battling against. Character names are\\r\\nnot displayed. Also, losses are not tracked, only wins. Your pet will gain\\r\\nXP from doing random PvP battles. However, dueling will not yield XP.\\r\\n\\r\\nTgwaste from Korialstrasz wrote a macro for finding PvP Pet Battles without\\r\\nopening your pet journal (find it in the macros section of this thread).\\r\\n\",\n",
       " 'itaicohen266@gmail.com',\n",
       " \"Where should I go to find pet battles?\\r\\nPretty much anywhere in the world. If you're just starting out, you'll want\\r\\nto level your pets along a similar zone path as a character. Lower level\\r\\nbattle pets are found in lower level zones and progress slightly slower\\r\\nthan character levels. For example, Elwyn Forest and Stormwind have level\\r\\n1-2 pets while Westfall has level 2-4 pets. You'll want to start in a zone\\r\\nthat has pets appropriate to your pets' levels.\\r\\n\\r\\nQuintessence (Senior Content Manager at Warcraftpets.com) has compiled a\\r\\nlisting of pet levels by zone. Useful for plotting out your pet-leveling\\r\\nplan. (link:\\r\\nhttp://wowpetaddiction.blogspot.com/2012/09/zones-by-pet-level.html#more)\\r\\n\\r\\nWrelch from Wyrmrest Accord also put together a nice forum thread with this\\r\\ninformation: http://us.battle.net/wow/en/forum/topic/6758257090\\r\\n\\r\\nWarcraftpets put together a visual map with several search functions as\\r\\nwell http://www.warcraftpets.com/guides/pets/wow-pets-by-zone/?wildY\\r\\n\\r\\nWhy are all of the pets I find Beasts and Critters in this zone? Battle\\r\\npets tend to follow the flavor of the zone. In a forested zone, you\\r\\nll find\\r\\nforest pets. Near water, aquatic pets. Places with undead will have undead\\r\\npets.\\r\\n\\r\\nOh no! My battle pet didn't last through the battle/has been wounded. What\\r\\ndo I do?\\r\\nYou have several options to heal/revive your battle pets. One is to use\\r\\nyour revive pet ability, which has a 8 minute cooldown. You can visit a\\r\\nstable master (able to be tracked via the mini-map) to heal/revive your\\r\\npets (no CD). Lastly, you can use a Pet Bandage (obtained from Pet Supply\\r\\nbags from battling Pet Tamers, with Celestial Coins obtained from the\\r\\nCelestial Tournament on the Timeless Isle, or with Pet Charms from the\\r\\nGarrison Menagerie) to heal/revive your pets.\\r\\n\\r\\nOne suggestion has been to park an alt near a stable master and log onto\\r\\nthat character when you need to heal/revive, instead of coming in from the\\r\\nwilds. However, be aware that logging into a character places a short CD (\\r\\n~ 3 min) on interacting with a stablemaster (they ask for your to wait a\\r\\nfew minutes) and your revive pets ability.\\r\\n\",\n",
       " 'itaicohen266@gmail.com',\n",
       " ' *How do I capture a wild pet? *\\r\\nYou should have a trap icon on your pet battle bar. Once a wild pet gets\\r\\nbelow 35% health, this icon will light up and you can attempt to capture\\r\\nthe pet. Your chances of capture increase the lower the health of the wild\\r\\npet. This becomes a delicate dance of you trying not to kill the pet while\\r\\nkeeping your own pets alive. Having the Terrible Turnip or Molten Corgi as\\r\\none of your capture pets makes this a little easier, as these pets have an\\r\\nability that will never kill.\\r\\n\\r\\nYou can progress towards better traps by raising battle pets to level 25.\\r\\nThe Pristine Trap is the best trap in game and is earned by completing the\\r\\n\"Pro Pet Crew\" achievement. The Draenic Trap, which only works in Draenor,\\r\\nis obtained by leveling your Garrison Pet Menagerie to level 2.\\r\\n\\r\\nSpecial note: occasionally in the wild, you\\'ll see that an additional\\r\\npet(s) has joined the battle.\\r\\nIf you\\'re looking to capture more pets, pay attention to the quality of\\r\\nboth pets you\\'re fighting (the additional pets\\' portrait will display\\r\\nsmaller next to the pet you\\'re currently fighting). You can only use a trap\\r\\nonce per fight. Don\\'t waste a trap on a lower-quality pet if there\\'s a rare\\r\\npet waiting in to battle (I learned that the hard way).\\r\\n',\n",
       " 'itaicohen266@gmail.com',\n",
       " ' *I\\'ve heard some pets only spawn in certain conditions. How do I know what\\r\\npets and what the conditions are?*\\r\\nThe Pet Journal has this information in it - if you know what pet you are\\r\\nlooking for (for example, the Baby Ape). At this point, the \"rare\\r\\nspawn/scarce\" pets require a single condition - time of day (late night,\\r\\ndaytime, morning), weather (raining, sandstorm, snowing), or season\\r\\n(winter, summer).\\r\\n\\r\\nQuintessence from Warcraftpets has started a discussion thread on the\\r\\nWarcraftpets forum listing some of this information.\\r\\n*http://www.warcraftpets.com/community/forum/viewtopic.php?f3&t8\\r\\n*).\\r\\n\\r\\n*Are there any special pets I should keep my eyes open for in each zone?*\\r\\nYes. Most zones tend to have one special, zone-unique pet. Twixi from\\r\\nGarrosh put together a listing of each zone\\'s special pet(s) and their\\r\\nlevel, to help with your need to catch them all.\\r\\nhttp://us.battle.net/wow/en/forum/topic/6758627164\\r\\n\\r\\n*Is there an advantage to raising a pet vs. catching a higher level pet? *\\r\\nNot in relation to the stats. Unlike Pokemon, caught and raised pets of the\\r\\nsame unique type, quality, and breed (for example, two uncommon squirrels\\r\\nof breed 5) will have their stats raised in the exact same manner. The only\\r\\nthing affected would be the \"Raise X Pets to Level Y\" achievements, if the\\r\\npet caught is higher level than the achievement (catching a level 11 pet\\r\\ndoesn\\'t count for raising pets to level 10).\\r\\n\\r\\nMore discussion of the Breeds can be found in the Theorycrafting section.\\r\\n',\n",
       " 'itaicohen266@gmail.com',\n",
       " ' *How does pet XP work? What about my pets in a party? *\\r\\nPets gain XP by fighting other pets (either in PvE battles vs. wild/tamer\\r\\npets or in PvP battles against other PC\\'s pets). XP is needed to advance\\r\\nyour pet\\'s levels, much like your characters need XP to level. Pets do not\\r\\ngain a rested XP bonus.\\r\\n\\r\\nLevel 25 pets, and pets that are 5+ levels above the enemy pet, receive no\\r\\nexperience for that battle, although they do count when experience is split\\r\\n(as long as they are alive at the end of the battle). A \"difficulty bonus\"\\r\\nis given to pets that survive a battle under certain conditions. First, if\\r\\na pet is 2+ levels below the level of the enemy pet, they generally receive\\r\\nthe difficulty bonus. Also, if a pet at or below the level of the enemy\\r\\npets manages to solo a multi-pet team, or 2 pets of equal or lower level\\r\\ntake on a 3-pet team, they will receive a difficulty bonus.\\r\\n\\r\\nAs of a hotfix to patch 5.1, level 25 pets no longer soak XP. Feel free to\\r\\nlevel lowbies with your 25s to your heart\\'s content!\\r\\n\\r\\n*Whats the highest level my pets can reach?*\\r\\nCurrently, 25 is the max level a battle pet can reach.\\r\\n\\r\\n*My pet has reached level 10. How do I change what skills it can use in\\r\\nbattle? *\\r\\nIn the pet journal, add the pet whose moves you want to change to your team\\r\\n(if they aren\\'t already on your current team). On their top abilities\\r\\nbuttons you should see a little yellow downward pointing triangle. Click on\\r\\nthat to select a different move.\\r\\n',\n",
       " 'itaicohen266@gmail.com',\n",
       " ' *Any tips for leveling pets quickly?*\\r\\nAside from following the pet tamer questline and battling wild pets, there\\r\\nare a few tricks.\\r\\n\\r\\nOne Pokemon standard is to start the fight with a low-level pet you wish to\\r\\npowerlevel against higher level pets. That pet must perform an action in\\r\\norder to credit  merely having it out does not count. After your l\\r\\now-level\\r\\npet has done its duty, switch it out for a higher level pet and proceed to\\r\\nknock out the wild pet(s). Alternately, swap in your low-level pet and then\\r\\nimmediately swap it out (obviously, need to time this just right in pet\\r\\nbattles!).\\r\\n\\r\\nThere are a few items in-game that will increase XP gain of battle pets.\\r\\nThe Safari Hat, obtained by completing the achievement \"Taming the World\",\\r\\nwill increase XP gain of pets by 10%.\\r\\nPet Treats will increase the XP gain by 50% for 1 hour and Lesser Pet\\r\\nTreats increase the XP gain by 25% for 1 hour. All the pet XP boosts stack.\\r\\nPet Treats can drop from Tamer Bags or be purchased with either Celestial\\r\\nCoins at the Timeless Isle or with Pet Charms.\\r\\n\\r\\nAdditionally, periodically there will be \"Bonus Pet XP\" weeks in WoW, where\\r\\nall pets\\' XP gains are doubled. This is a fantastic time to level pets.\\r\\nAgain, all the XP boosts stack.\\r\\n\\r\\nFinally, there are stones that increase levels (covered a little further\\r\\ndown in this guide).\\r\\n',\n",
       " 'itaicohen266@gmail.com',\n",
       " ' *My minor child and I share a battle.net  account. Will\\r\\nwe be able to pet battle each other?*\\r\\nUnfortunately at the current time, Blizzard has made Pet Battles active on\\r\\nonly ONE WoW account per battle.net account. While every WoW account will\\r\\nhave access to Pet Battles (and share pets across accounts), only the first\\r\\naccount to log-in each play session will be able to use the Pet Battles\\r\\nfeatures. The rest of the WoW accounts will find that the Pet Journal is\\r\\nlocked.\\r\\n\\r\\nIf you are serious about wanting access at the same time on separate WoW\\r\\naccounts, you will need to set-up additional battle.net accounts for each\\r\\nWoW account you want simultaneous Pet Battle access on. The CSF forum (found\\r\\n http://us.battle.net/wow/en/forum/1011699/ ) will better be able to help\\r\\nyou with any questions you have pertaining to moving WoW accounts and all.\\r\\nUnfortunately, removing WoW accounts from a battle.net account means that\\r\\nthe moved WoW account will lose access to the shared pets, mounts, and\\r\\nother BoA privilages (such as heirlooms).\\r\\n',\n",
       " 'itaicohen266@gmail.com',\n",
       " ' *What are Pet Battles Stones?*\\r\\nPet Battles Stones are an item added by Blizzard with patch 5.1 that\\r\\nenables you to upgrade the quality of your battle pet. There\\'s two types of\\r\\nstones: one which will upgrade the quality of pets and one that will\\r\\nupgrade the level of pets.\\r\\n\\r\\nQuality upgrades (Battle stones): Flawless Battle stones are rewarded for\\r\\ncompleting some pet quests, can drop from some bosses, can be present in\\r\\ntamer bags, and are available for purchase with either Celestial Coins or\\r\\nPet Charms. There\\'s also Polished Battle stones (but they only upgrade to\\r\\nuncommon and are pretty useless now).\\r\\n\\r\\nLeveling stones (Battle-training stones): Currently, there are family\\r\\nspecific stones (which drop from battles/tamer battles and are also\\r\\navailable for purchase with Pet Charms), Flawless Battle-training stones\\r\\n(which are awarded for completing Menagerie pet quests and available for\\r\\npurchase with Pet Charms), and Fel-touched Battle-Training Stones, which\\r\\naward 5 pet levels and drop from the Fel-Touched Pet Supplies, obtained by\\r\\nbattling the legendary pets in Tanaan Jungle.\\r\\n\\r\\n*How do I obtain Pet Battles Stones?*\\r\\nThere are several ways, depending on the stone.\\r\\n\\r\\nPolished Battle Stones are sold by Commander Lo Ping in the Niuzao Temple\\r\\nin Townalong Steppes for 1000 JP. Again, these merely upgrade a pet to\\r\\nuncommon and are pretty much a waste of JP. Do not buy these.\\r\\n\\r\\nYou can purchase a Marked Flawless Battlestone for 3 Celestial Coins\\r\\nobtained from the Celestial Tournament on the Timeless Isle or at the\\r\\nGarrison Menagerie for 15 Pet Charms.\\r\\n\\r\\nFamily Battle-training Stones are a *random* drop that you get from\\r\\nbattling wild pets or Pet Tamers. Mostly, wild pets will drop family\\r\\nspecific stones but can drop the general purpose (need to confirm this).\\r\\nAlso, some pets seem to have identity confusion and may drop a different\\r\\nfamily stone. As of 5.4, you can turn 3 family specific stones (ex,\\r\\nFlawless Beast Battle Stone) into one general purpose Flawless Battlestone.\\r\\nFamily battle-training stones are also available for purchase at the\\r\\nGarrison Menagerie in the \"Mystery Bag\" for 2 pet charms (random which\\r\\nfamily(s) you get). Flawless Battle-training stones are also available at\\r\\nthe Garrison for 3 pet charms.\\r\\n\\r\\nAdditionally, once a character has upgraded their Draenor garrison to level\\r\\n3, they are given a quest outside their new Menagerie by either Lio the\\r\\nLioness (Alliance) or Serr\\'ah (Horde) to find a stone outside their\\r\\ngarrison mine. Completing this quest rewards the character with the\\r\\n\"Ultimate Battle-Training Stone\" , which will level any battle pet to 25.\\r\\nThis quest can be done on multiple characters.\\r\\n\\r\\nCurrently, Battle Stones *may* disappear from your inventory through the\\r\\nmagic of CRZ. If this happens to you, open a ticket to get it restored.\\r\\n\\r\\n*How do I use a Battle Stone?*\\r\\nTo use one of these, you need to summon the pet in question, target it, and\\r\\nthen use the item. Clicking on the pet in the Pet Journal will not do\\r\\nanything.\\r\\n',\n",
       " 'itaicohen266@gmail.com',\n",
       " ' Updated with new link. Shylir, please check your email. Also, back to the\\r\\nfront!\\r\\n\\r\\nQuestion: has anyone put any thought into compiling a \"rare spawn\"\\r\\ninformation sticky, with a listing of the pets that need special conditions\\r\\nto be caught (ie, raining on the island for Baby Ape, daytime for Little\\r\\nBlack Ram, winter for Snowy Owl, etc)?\\r\\n\\r\\nI would love to, but am finding that maintaining this thread is enough for\\r\\nme and I don\\'t feel comfortable as I don\\'t know enough (been too busy\\r\\nputting this thread together to level pets as much as I wanted - oh the\\r\\nirony!).\\r\\n',\n",
       " 'itaicohen266@gmail.com',\n",
       " \" First, I apologize for the delay in getting back to you. I ended up having\\r\\na fairly busy weekend.\\r\\n\\r\\nUnfortunately, I do not have first hand knowledge about WoW accounts on the\\r\\nsame b.net account. I have a trial account I could try out, but I am\\r\\ncurrently at work without access.\\r\\n\\r\\nHowever, it's been reported that pets are b.net bound, so they *should* be\\r\\nsharable. If you can, you can test this by setting up a\\r\\nfree-to-play/endless trial account and seeing if that account has access to\\r\\nyour current pets. If this works, RaF should work as well then.\\r\\n\\r\\nIf they're not, there are several possible solutions, depending on what\\r\\nHorde specific pets you need. Do you need just the Argent Gruntling, Horde\\r\\nballoon, and Horde guild pets? You can roll a DK on another server (since\\r\\nthey start out at higher level) and do your thing to get the pets you need.\\r\\nAlternatively, you can...pay to faction switch one of your current toons\\r\\nand find a Horde guild on your current server to fit your needs. Given the\\r\\ncost of RaF (base account + 2 months of game time), this would probably\\r\\neven out to cost the same.\\r\\n\\r\\nI know the above are not the answers you're looking for, but they do exist\\r\\nas solutions. If you do figure out an answer, please report back!\\r\\n\",\n",
       " 'itaicohen266@gmail.com',\n",
       " \" I had seen Warla's thread. Unfortunately, I didn't have time to check it\\r\\nout yesterday. I was thinking about it today and am in the process of\\r\\nattempting to look it over. If I don't get a chance to look at it before\\r\\ntonight, I'll add a link to the thread at the very least.\\r\\n\\r\\nAlso, I'm going to be on vacation for a few days, so this thread won't be\\r\\nupdated for a week or so. I promise when I come back I'll look things over\\r\\nand update things as needed.\\r\\n\",\n",
       " 'itaicohen266@gmail.com',\n",
       " \" sorry for the delay in getting back to you.\\r\\n\\r\\nFor putting together a synergistic team, I'd use the wowhead listing of pet\\r\\nabilities/companion listing (which may be time consuming), check out the\\r\\nwarcraftpets forums, or make a thread in this forum. I *think* I've seen a\\r\\nthread about team synergy, but it may be buried now.\\r\\n\\r\\nHope this helps you out!\\r\\n\",\n",
       " 'itaicohen266@gmail.com',\n",
       " \" sorry for the delay in getting back to you.\\r\\n\\r\\nFor putting together a synergistic team, I'd use the wowhead listing of pet\\r\\nabilities/companion listing (which may be time consuming), check out the\\r\\nwarcraftpets forums, or make a thread in this forum. I *think* I've seen a\\r\\nthread about team synergy, but it may be buried now.\\r\\n\\r\\nHope this helps you out!\\r\\n\",\n",
       " 'itaicohen266@gmail.com',\n",
       " \" First, you have to have a full version of the game (the endless trial\\r\\naccount is not eligible). Second, you have to have paid the 10 g to train\\r\\nfor Pet Battles and completed the initial quests the trainer sends you on.\\r\\nOnce you've completed that initial series of quests, you can go anywhere in\\r\\nthe world where little green paws show up on your mini-map (the paws\\r\\nrepresent battle pets). During the battle with a wild battle pet, once you\\r\\nknock that pet down to 35% health or lower (but don't knock them out\\r\\ncompletely), your cage icon should light up. Then, it's a matter of luck if\\r\\nthe cage will actually capture the battle pet.\\r\\n\",\n",
       " 'itaicohen266@gmail.com',\n",
       " \" Unrelated to your question: Timmain, from ElfQuest?\\r\\n\\r\\nAnswering your question: The Difficulty Bonus *should* be affecting the\\r\\namount of XP you get. If your pets are 2 levels below the pets you are\\r\\nbattling or take on 2 or 3 of the pets themselves, they should be getting\\r\\nXP reflecting this bonus. When the battle is over and the XP flashes aboves\\r\\neach pet's head, it should have this bonus XP built in. For example, I'll\\r\\nhave one pet get 49 XP and the other pet get 194 XP with the difficulty\\r\\nbonus (note: that XP reflects the bonus xp being added in - it's not the\\r\\ntypical XP plus that number).\\r\\n\\r\\nKeep in mind that the XP is still split amongst your surviving pets that\\r\\nparticipated in the battle.\\r\\n\\r\\nAre you not getting the proper amount of XP? Was it possible you were\\r\\nadding the numbers wrong? If you were reading the numbers correctly and\\r\\nyour pets aren't level 25, you're experiencing a bug and should open a\\r\\nticket to report it.\\r\\n\",\n",
       " 'itaicohen266@gmail.com',\n",
       " \"*  \\r\\n , !*\\r\\n\\r\\nOn Sun, Feb 11, 2018 at 11:16 PM, Itai Cohen <itaicohen266@gmail.com> wrote\\r\\n:\\r\\n\\r\\n> sorry for the delay in getting back to you.\\r\\n>\\r\\n> For putting together a synergistic team, I'd use the wowhead listing of\\r\\n> pet abilities/companion listing (which may be time consuming), check out\\r\\n> the warcraftpets forums, or make a thread in this forum. I *think* I've\\r\\n> seen a thread about team synergy, but it may be buried now.\\r\\n>\\r\\n> Hope this helps you out!\\r\\n>\\r\\n\",\n",
       " 'itaicohen266@gmail.com',\n",
       " \" Without an Addon, there's no easy way, especially with low level pets.\\r\\nYou'd need to know how the H/P/S numbers relate for each pet to each breed.\\r\\nFor example, a S/S breed Snail will not have the same speed stat as a S/S\\r\\nbreed moth.\\r\\n\\r\\nWith level 1 pets, this is impossible because there is no real stat\\r\\ndifferetiation. Even addons will get the level 1 breeds incorrect.\\r\\n\\r\\nIf you are serious about knowing breeds, an addon is highly suggested. I\\r\\ndon't think it's possible to do it without an addon unless you're Rainman\\r\\nand/or have print-outs for every pet with the numbers.\\r\\n\",\n",
       " 'leapeturel@gmail.com',\n",
       " \"Hey you ! how are you ? you don't feel depressed ? and presents for your\\r\\ngirl friend, she liked ?! bisous\\r\\n\",\n",
       " 'leapeturel@gmail.com',\n",
       " 'I will take more time later to answer you because I have to take a boat to\\r\\ngo to Koh tao.. give me some news about you, and everything that you want\\r\\nto say ( remember, I like when you speak, even if it is better when I can\\r\\nwatch you..)\\r\\n',\n",
       " 'leapeturel@gmail.com',\n",
       " \"oh...hard for you... I think a lot about you, and I remember all moments\\r\\ntogether.. for exemple, one week ago, we were watching girls thai who made\\r\\nsport near to the river !\\r\\nok, not a good idea to think about that.. but I hope we could have news\\r\\nsouvenirs ( good word?!) together ?in an other city / country ?!\\r\\nSo, about me, I'm fine, I'm in koh Pahgan, it's nice but a little\\r\\nexpensive, and too much tourists..! I drink beers but it's not the same\\r\\ntaste without you..\\r\\nI will think about you tomorow when you will begin your study.. when is the\\r\\nend ? (I'm sorry, I forget..)\\r\\neh, send me some photos ( and photos of you ! ) !\\r\\n\",\n",
       " 'leapeturel@gmail.com',\n",
       " \"Hey Shavit ! I'm in Kao lak, too much tourists, it's just terrible.. so\\r\\ntomorow, I leave, I don't now where... So, if you finish at the end of\\r\\nmarch ( When I come back in France), maybe we could see each other after\\r\\n... ?!\\r\\nAnd about the book from Paolo caulo '11 minutes' ?! Did You like the end ?!\\r\\n\",\n",
       " 'leapeturel@gmail.com',\n",
       " 'Oooooh thank you !! Sometimes I watch some pictures of you.. and I tell me\\r\\n\" I want to see him, really...\" No time to read ?! So, I imagine no time\\r\\nany more to see a movie, like \"walk the line\" ?! about me, I meet a friend\\r\\nfrom France for 1 week, and we meet only french people so I don\\'t speak a\\r\\nlot in English... But when you will come in France, we could speak \\r\\n I\\'m\\r\\nstill in Thailand, I will go in Cambodge only end of february. poor you,\\r\\nonly study all the day... but in two months it\\'is finished !! courage ! je\\r\\nt\\'embrasse\\r\\n',\n",
       " 'leapeturel@gmail.com',\n",
       " \"What movie ? I don't remember..\\r\\nI'm in Chang Mai, great ! tomorow Pai and I Think going to Cambodgia after\\r\\nto meet other french friends. And you, are you ok ? You still study a lot ?\\r\\neven during week end, or you have the time to make party ?!\\r\\n\",\n",
       " 'leapeturel@gmail.com',\n",
       " 'Hi Shavit ! Yes, still in Thailand, I\\'m in Koh lanta, I really like this\\r\\nplace, better than in Koh Panghan ! I leave country in 3 days to meet my\\r\\nfriend in Cambodgia. You didn\\'t see photos ? I have a file about my trip.\\r\\nabout insects, that was really \"hateable\"... really !\\r\\n',\n",
       " 'leapeturel@gmail.com',\n",
       " \"when is your final test ? end of march ? and after ? Yep, I'm in Cambodia !\\r\\nwe are 5 friends together, we spent 4 days in Koh Rong Samlaem, we lived\\r\\nwith a family from Island, so great, so typic, I liked ! this night we go\\r\\nto Siam Reap. It's soon the end of my travel..\\r\\n\",\n",
       " 'leapeturel@gmail.com',\n",
       " 'seriously ?!! but you remember rules ?! oF course I want to play with you !\\r\\nI come back 26 march..!\\r\\n',\n",
       " 'leapeturel@gmail.com',\n",
       " \"We are in Kanpong Cham, nice ! tomorow pnhon phem because my friend go back\\r\\nin france, and to finish Koh Pahgnan to meet a french friend (all my\\r\\nfriends are in asia.. crazy)\\r\\nand I now a new version about La Belotte, more funny, when I will see you,\\r\\nI'll learn you..\\r\\n\",\n",
       " 'leapeturel@gmail.com',\n",
       " 'yeah... I m in ko pahngan,  I do nothing except beach, restaurant, ... time\\r\\nto come back ! about you ?!\\r\\nI think yes, because I miss my friends and my family... it is the end for\\r\\nyou !!!after, only good time ! in france ?!\\r\\n',\n",
       " 'leapeturel@gmail.com',\n",
       " \"in France, it's spring now ! apparently, 20 degres in my city ! nice ! in\\r\\nBangkok, it's raining today... bad day !\\r\\n\",\n",
       " 'leapeturel@gmail.com',\n",
       " \"Hi Shavit ! How are U ? I'm sorry, I didn't give U some new about me... My\\r\\nboyfriend read your message when you said maybe You'll come in France at\\r\\nthe end of may.. So, he were jealous.. Did you have your results from your\\r\\nexamen ? What do you do this summer ? I kiss you, La\\r\\n\",\n",
       " 'leapeturel@gmail.com',\n",
       " \"Hi Shavit ! How are you ? What do you do this summer ?\\r\\nFor me, lots of changes... I'm not anymore with Dorian for 1 month.. I\\r\\nbroke with him, and I think it's better.\\r\\nI enjoy the holidays, tonight I take a plane to meet friends in Berlin for\\r\\nfew days ! And I try to find job but it's very difficult..\\r\\nAnd you !?!\\r\\n\",\n",
       " 'leapeturel@gmail.com',\n",
       " \"hi !! You speak french ?! eh eh  I came back from Berlin yester\\r\\nday night\\r\\n; in fact, I was not in Berlin, but in an island in the north to visit a\\r\\nfriend who works during the summer in a camping ! now I'm in Paris for few\\r\\ndays ! What kind of job do you do ? New trip in september ?! great ! tell\\r\\nme more when you know where you will go ! kisses !\\r\\n\",\n",
       " 'leapeturel@gmail.com',\n",
       " \"i'm in Zagreb now, just came back from Budapest and tomorrow i'm going back\\r\\nto Poland\\r\\nit was really nice, i was studying here for 5 months, the region of Balkan\\r\\nis really interesting and worth to see\\r\\n\",\n",
       " 'leapeturel@gmail.com',\n",
       " \"i was really busy those days and at the same time I had big discussion with\\r\\nmy bff so i just didn't have mind to reply it\\r\\nhehehe, yeah it was funny....\\r\\ni'm just suprised that after whole those months you still remember me and u\\r\\ntexted to me\\r\\n\",\n",
       " 'leapeturel@gmail.com',\n",
       " \"It was weird to see that everybody can speak polish  yeah, it w\\r\\nas nice to\\r\\nsee my mother and bff. Now, i need to relax before my internships period\\r\\ni got second internship, i will work a little bit but i like it. Finally i\\r\\nwill do something normal not only studying\\r\\nSo, how is your life? How's your holidays?\\r\\nI have my internship, it's really nice and my boss likes me (i think \\r\\n )\\r\\n\",\n",
       " 'leapeturel@gmail.com',\n",
       " \"Probably Pag island, you have lots of clubs there\\r\\nin Spain you have Ibiza\\r\\nbut you know, i'm not a party animal and i prefer seeing the city, not to\\r\\nparty \\r\\nlot of students go also to Amsterdam just to smoke weed\\r\\nthis is famous place on Pag Island- Zrce beach\\r\\n\",\n",
       " 'leapeturel@gmail.com',\n",
       " 'you are welcome, as i see you start plan your trip to Europe. and you\\r\\nshould study hahaha \\r\\noh really? you mentioned something about weekend. But never mind \\r\\n\\r\\nCongrats. Now you can plan your trip haha \\r\\nfor how long are you going to stay in Europe?\\r\\n',\n",
       " 'leapeturel@gmail.com',\n",
       " \"well... quite long  well, comparing to my 5 months travelling a\\r\\nnd\\r\\nstudying in Croaita, it's not enough  haha \\r\\nbut really, if you would like to visit more Balkan - go to Sarajevo. A girl\\r\\nwho i met in Budapest posted on my wall that she really enjoyed her trip to\\r\\nSarajevo\\r\\nand she is grateful that i gave her a contact to the tour guide in Sarajevo\\r\\n\\r\\n\",\n",
       " 'leapeturel@gmail.com',\n",
       " \"the people, the history, the culture- catholics, ortodox, muslims and jews\\r\\nlive together there and they don't care who you are\\r\\nyou have everything there and it's really cheap \\r\\n\",\n",
       " 'leapeturel@gmail.com',\n",
       " \"yeah, it's hot right now, but when i was there it was only 15, and it was\\r\\nin May \\r\\nyou know, you will do what you want\\r\\ndepends what do you want to do during your holidays \\r\\n\",\n",
       " 'leapeturel@gmail.com',\n",
       " \"Well, my friend from Brazil and Finland were in Wroclaw and Krakow and they\\r\\nreally enjoyed both cities\\r\\nIt's super weird (especially expensive) to get from Prague to Krakow\\r\\nI think it's cheaper and nicer to go to Wroclaw\\r\\n\",\n",
       " 'leapeturel@gmail.com',\n",
       " \"so? Did you decide where to go? Tomorrow, i will be at work and i will have\\r\\nbetter connection with Internet so i can help you\\r\\nhola! Bien, gracias  I'm at the office now, working a little bi\\r\\nt. Then\\r\\nspanish classes, and then football match poland-germany in pub \\r\\nand you? how are you? \\r\\n\",\n",
       " 'leapeturel@gmail.com',\n",
       " 'Well, i have some time on Sunday, I will have more time during weekend\\r\\nCause on Monday or Tuesday, i could have a break at work but only for max 2\\r\\nhours\\r\\nI think there is no chance to watch Israelian match \\r\\nI asked couple of my friends-football fans and they said that is almost\\r\\nmpossible to watch this match\\r\\n',\n",
       " 'leapeturel@gmail.com',\n",
       " \"Hahaha, maybe in some hostel or something like that haha \\r\\nAnd what's the match? I mean, football, volleyball?\\r\\n\",\n",
       " 'leapeturel@gmail.com',\n",
       " \"hi, thanks for a meeting  sorry, that it was short but you know\\r\\n, i need\\r\\nto work  and your friend wasn't in good condition  \\r\\nSorry, that i wasn't\\r\\nmyself, but i 'm very tired, a little bit stress and today it's not my day\\r\\nsince 8 am\\\\\\r\\nsorry once again\\r\\n\",\n",
       " 'asafdavid08@gmail.com',\n",
       " \"So, as many of you know, I love my Switch. First and foremost, it's\\r\\nportability makes for a great gaming experience.\\r\\n\\r\\nThat said, I'm not blind to some of its flaws. From it's screen resolution,\\r\\nto it horsepower, to it's mostly plastic build; there are many areas where\\r\\nNintendo could improve the Switch.\\r\\n\\r\\nWith that said, how soon before we see Nintendo roll out an updated Switch?\\r\\nAnd what changes do you expect or hope to see?\\r\\n\",\n",
       " 'asafdavid08@gmail.com',\n",
       " \"Most of us a pretty happy with last year's phone purchase; be it a Pixel,\\r\\niPhone, Galaxy or something else.\\r\\n\\r\\nYet, try as they might, no OEM can produce a truly perfect phone. As\\r\\ntechnology changes, some compromise presents itself. And as consumers, we\\r\\naccept some of these to get as close to perfect as possible.\\r\\n\\r\\nSo, when you examine that piece of glass and metal in your hand, how would\\r\\nyou improve it?\\r\\n\\r\\nLet's hear below.\\r\\n\",\n",
       " 'asafdavid08@gmail.com',\n",
       " \"Welp....looks like Disney is gonna do it again.\\r\\n\\r\\nBlack Panther. Infinity War. Solo. Incredibles 2. Wreak It Ralph 2. Ant Man\\r\\nand Wasp....\\r\\n\\r\\nThese films are gonna lead to another year of complete domination by the\\r\\nHouse of Mouse.\\r\\n\\r\\nI think the only film that may not see massive success is A Wrinkle in Time\\r\\nand maybe The Nutcracker. But we'll see.\\r\\n\\r\\nWhat Disney film are you most looking forward to?\\r\\n\",\n",
       " 'asafdavid08@gmail.com',\n",
       " \"Look....\\r\\n\\r\\nI know things get dicey when we talk about ecosystems. Especially when they\\r\\nare between Apple and Google. This is especially true after reading the\\r\\nthread _silellak_ posted this past week or weekend.\\r\\n\\r\\nReading through it now, its as if people are suddenly audio experts.\\r\\n\\r\\nCan we be real honest for a moment?\\r\\n\\r\\nI don't need to have heard any of them to come to this conclusion:\\r\\n\\r\\nThey all sound great; with one maybe sounding a bit better than the others.\\r\\n\\r\\nDoes it really matter though? The things that make them unique are their\\r\\nability to use voice commands to do extra functions.\\r\\n\\r\\nIf any of us are truly looking for superior sound aren't going to buy a\\r\\nsmartspeakers. Plain and simple.\\r\\n\\r\\nThe Sonos, Google Home Max or the Apple HomePod will put out audio that is\\r\\ntruly beyond a fault.\\r\\n\\r\\nThe real discussion should be the features.\\r\\n\\r\\nI hate to be the one to say this; but are we simply arguing sound quality\\r\\nbecause Apple thinks that's what's most important? Or, because the HomePod\\r\\nis lacking many features at launch?\\r\\n\\r\\nRegardless, the HomePod will get more features as time goes on; just like\\r\\nthe Echo did.\\r\\n\\r\\nIt's really just making me scratch my head how crazy this is getting...\\r\\n\",\n",
       " 'asafdavid08@gmail.com',\n",
       " \"Well, this escalated quickly.\\r\\n\\r\\nhttps://www.google.com/amp/s/nypost.com/2018/01/17/reporter-behind-ansari-story-criticizes-hln-hosts-looks-in-scathing-email/amp/\\r\\n\\r\\nFor those who may not follow the link, I'll try to paraphrase this:\\r\\n\\r\\nMrs. Banfield was against the tone, *NOT THE FACTS,* revolving around the\\r\\nAziz story written. She then voiced her opinions on air condemning the way\\r\\nthe story was delivered.\\r\\n\\r\\nAgain, *not the facts.*\\r\\n\\r\\nFollowing that, Katie Way, the reporter at Babe.net, decided to fire back.\\r\\nAnd she took some extremely low blows at Banfield; namely taking aim at her\\r\\nage and looks.\\r\\n\\r\\nIt was...sad. And certainly beneath one who claims to be a feminist.\\r\\n\\r\\nNow, it makes me wonder, how do those that support this article and it's\\r\\ndelivery, those that say arguments against it are a mess, feel knowing that\\r\\nauthors other side?\\r\\n\",\n",
       " 'asafdavid08@gmail.com',\n",
       " \"So, I don't need to tell any of you that there's been an extremely heighten\\r\\nawareness of sexual harassment; especially in Hollywood.\\r\\n\\r\\nOne that's *long* overdue.\\r\\n\\r\\nYet, something was bothering me, and the latest claim against Aziz really\\r\\nbrings up an issue:\\r\\n\\r\\nhttps://babe.net/2018/01/13/aziz-ansari-28355\\r\\n\\r\\nI then read this article:\\r\\n\\r\\nhttps://www.theatlantic.com/entertainment/archive/2018/01/the-humiliation-of-aziz-ansari/550541/\\r\\n\\r\\n.......\\r\\n\\r\\nI want to be completely honest. All the accounts in the #MeToo movement\\r\\naren't the same. And this particular story against Aziz is a bit of a\\r\\ntipping point that I'm afraid may begin to hurt the entire movement.\\r\\n\\r\\nIt seems as though we have people jumping on the symbolic bandwagon.\\r\\n\\r\\nWhile people should be fully held responsible for their foul, assualting\\r\\nactions; but what about inaction?\\r\\n\\r\\nDuring the Weinstein saga, like many, I was dumbfounded. How could so many\\r\\nwomen have been lead into these situations.\\r\\n\\r\\nYet, as I researched a bit more, it turns out that many women, now famous\\r\\nfrom their associations with Weinstein, knew full well that other young\\r\\naspiring actresses were walking into the same trap.\\r\\n\\r\\nAnd I think that disgusted me just as much.\\r\\n\\r\\nWhy would you allow other women to be subjected to the same foul treatment?\\r\\nCertainly you would mention to your neighbors and friends if you knew a\\r\\npedophile were lurking nearby! This is just as terrible.\\r\\n\\r\\nTurns out, some women in Hollywood had indeed voiced their experiences, but\\r\\nwere mostly ignored. Yet, the important part was that they had voiced it in\\r\\nthe public! Some put out a warning.\\r\\n\\r\\nAgain, I want to be clear: This in no way brushes aside the actions of men\\r\\nwho misuse their celebrity or power to gain what they want.\\r\\n\\r\\nBut I can shake the feeling that standing there and taking it....is\\r\\nstrange. And bordering on stupid.\\r\\n\\r\\nThere are plenty of women around the world who simply wouldn't stand around\\r\\nfor this behaviour. My sister's, wife and numerous female friends are\\r\\nequally stunned by these situations.\\r\\n\\r\\nGoing to meet strange men alone at night, standing around while men\\r\\nmasterbate in front of them...\\r\\n\\r\\nWhy? Is your potential career more important than your dignity or respect?\\r\\n\\r\\nI don't believe any men is these forums would absolve another man of this\\r\\nbehaviour. But those of you with daughters; certainly you've trained your\\r\\ngirls that this is unacceptable and they should immediately leave, run or\\r\\nflee if they encounter unwanted sexual advances.\\r\\n\\r\\nMy daughter is 4yrs old and my wife and I have already discussed, and\\r\\ncontinue to discuss with her that no one should touch her in certain\\r\\nplaces. What decent parent hasn't?\\r\\n\\r\\nYet, what is happening when people grow older? Some obviously retain these\\r\\nlessons. Others seem to be ignoring it.\\r\\n\\r\\nI've always believed that when a situation is in your control, you need to\\r\\ntake responsibility for what follows. Because in life there are going to be\\r\\nmany instances where you don't have control.\\r\\n\\r\\nI may be rambling in some of this post. Maybe some of my thoughts aren't\\r\\nbeing clearly communicated.\\r\\n\\r\\nBut I want to hear the thoughts of others in this community. There are a\\r\\nvariety of people here that differ from maybe those in my immediate circle.\\r\\n\\r\\nHow do some of you feel about the entirety of the recent flood of\\r\\naccusations? Do you feel all are legimate? Are some just jumping on the\\r\\nbandwagon?\\r\\n\\r\\nAlso, do you feel that all the accusations leveled at those in power will\\r\\nremedy the situation? Could it backfire?\\r\\n\\r\\nPlease....please keep this civil. I really want us to have a decent\\r\\ndiscussions that respects others opinions. *(Unless that opinion suggests\\r\\nthat sexual harassment is okay. If so, you're a piece of crap and don't\\r\\nbother commenting.)*\\r\\n\\r\\nThanks.\\r\\n\",\n",
       " 'asafdavid08@gmail.com',\n",
       " \"I now need a new tablet. I'm simply not going to spend upwards of $300 for\\r\\na screen replacement when I can spend just a bit more and get a new one.\\r\\n\\r\\nMy first thought, of course, was just get another iPad. Perfectly\\r\\nreasonable assessment. The iPad is hands down the best *pure* tablet by a\\r\\nlong shot. In fact, outside of buying the failed Motorola Xoom at launch,\\r\\nand promptly switching to the iPad 2 7 or so months later; or the time I\\r\\ntried out a Surface 3, I haven't seriously considered trying anything else.\\r\\n\\r\\nBut things have now changed. I wanna try something different.\\r\\n\\r\\nAfter leaving behind my iPhone and Apple Watch and inserting myself back\\r\\ninto Android, now seems to be a great time to do so.\\r\\n\\r\\nThe question is simply what to get.\\r\\n\\r\\nMy options are the following:\\r\\n\\r\\nWindows 10 detectables or Chromebook 2-n-1's *(at least until some OEM\\r\\nunleashes a true Chrome OS tablet)*\\r\\n\\r\\nMy budget is $600; let's hear your suggestions below.\\r\\n\\r\\nLet's go!\\r\\n\",\n",
       " 'asafdavid08@gmail.com',\n",
       " \" Wow...just wow...This game is crazy. And huge. So freaking huge!\\r\\n\\r\\nI'm 20 hours in and I'm still getting lost on these Titans. Here's my\\r\\nbreakdown of Xenoblade Chronicles 2.\\r\\n\\r\\nFirst, this game is not for those who want something they can play in very\\r\\nsmall chunks. It is a pretty deep JRPG and requires/seizures your attention\\r\\nfor long periods of time. To get the most from this title you must devote\\r\\nsome time to learning it's ins and outs.\\r\\n\\r\\nOver the course of the first 10+ hours, you're going to have information\\r\\nfeed to you. Most importantly, those involving combat. Clicking through\\r\\nthese tutoriorls because you think you understand will result in you\\r\\npromptly being destroyed by your enemies.\\r\\n\\r\\nThe world of Alrest feels as though it is literally seeking your utter\\r\\ndestruction for any and every failure. Time attacks incorrectly and you may\\r\\nleave your foe with just enough life to lay down a world of hurt upon you.\\r\\n\\r\\nRegarding combat: It's superb. The learning curve can be steep though. You\\r\\nhave such a wealth of options at your diposal that it can overwhelm you.\\r\\nElements, weapons, directional stances, etc....your mind will be working\\r\\novertime to figure out what your next step in battlefield should be and you\\r\\ndon't have very long to decide.\\r\\n\\r\\nXenoblade fights require you to be not just quick thinking, but divisive.\\r\\n\\r\\nThe HUD during combat is another aspect that can be a bit much. Especially\\r\\nif you were again, the type of person to ignore the tutorials. It is\\r\\ninformation overload.\\r\\n\\r\\nWatch your parties health, watch you characters auto attack timing, watch\\r\\nyou special abilities, watch your enemies attacks, watch for status changes\\r\\nin the enemies.\\r\\n\\r\\nYour eyes need to be trained to take this all in and be able to act upon it\\r\\nin an instance.\\r\\n\\r\\nThe amount of damage you can deliver is huge if you are prepared. It can\\r\\ngreatly reduced the amount of time your fighting an opponent.\\r\\n\\r\\nCombat is something that Xenoblade does very well. It makes you feel like a\\r\\npro when you successfully bring down a for due to your skill. Something you\\r\\ndon't always get from a game.\\r\\n\\r\\nNext up is exploration.\\r\\n\\r\\nAs I mentioned earlier, the world of Xenoblade is humongous! It makes the\\r\\nland of Hyrule in BotW look downright bleak and empty. Towns are full of\\r\\npeople and feel alive with activity. So many shops to spend your money on\\r\\nto prepare for combat. Numerous NPCs to speak with to not only learn about\\r\\nthis world, but also what's happening in it and actually advancing it's\\r\\nabilities to assist you later.\\r\\n\\r\\nOutside of the towns, the landscape is simply beautiful. The areas vary\\r\\ngreatly from lush jungles to sandy deserts. Branching paths usually reward\\r\\nyou for simply exploring.\\r\\n\\r\\nBut while the towns and landscapes are wonderful, the guiding arrow to\\r\\ncomplete missions is borderline a deal breaker. Seriously, this thing is\\r\\nuseless unless your on a level area. Alrest is wide, tall and full of nooks\\r\\nand crannies. If you aren't up for looking behind every corner, checking\\r\\nevery hole, you'll miss you stop.\\r\\n\\r\\nMy advice: You better listen to whoever is giving you an assignment because\\r\\nsimply following the arrow at the top of the HUD will drive you insane.\\r\\n\\r\\nFinally, the story. I won't spoil anything here, but I will say that it's\\r\\nvery good so far. Probably not the deepest thing out there, but certainly\\r\\nentertaining. Leans heavily into ideas and mannerisms found in many\\r\\nJapanese mangas. If you like those things, you throughly enjoy yourself.\\r\\n\\r\\nTo sum up, I'd say this game is certainly worth the price of admission.\\r\\nZelda kicked off the Switch launch properly, and Xenoblade is giving the\\r\\nhuge assist to finish off Nintendo's efforts in 2017.\\r\\n\\r\\nXenoblade has kicked my tail to the point that sometimes I want to just put\\r\\nthe controller down. But those times I successfully pull off a combo of\\r\\nepic proportions...it just reels me back in.\\r\\n\\r\\nSo, what do you all think of XC2?\\r\\n\\r\\nLet's discuss below!\\r\\n\",\n",
       " 'asafdavid08@gmail.com',\n",
       " 'We live tech. We breath tech. We use tech.\\r\\n\\r\\nFrom gaming, to vehicles, to mobile, tech is constantly moving and\\r\\npresenting us with either new things, or improvements on things we already\\r\\nuse.\\r\\n\\r\\nWith that said, what has been your best tech purchase in 2017?\\r\\n\\r\\nThat single item that has truly enriched your life or been an absolute\\r\\npleasure to use daily.\\r\\n\\r\\nSound off below!\\r\\n',\n",
       " 'asafdavid08@gmail.com',\n",
       " \"Can we just take a moment and be honest? The DCEU is a mess; plain and\\r\\nsimple.\\r\\n\\r\\nI don't want this post to be a MCU vs DCEU debate. To be fair, the MCU has\\r\\nplenty of issues of its own. There a few problems with continuity, some of\\r\\nthe films aren't great, villians are mostly forgettable, etc.\\r\\n\\r\\nDespite these issues though, the MCU has a common thread that has made it's\\r\\nmovies must watch for many; especially the average moviegoer.\\r\\n\\r\\nThe DCEU though...its problems are deeper than what's on the screen.\\r\\n\\r\\nFrom the producers, directors, screenwriters...If you can't get the\\r\\nsituation right behind the camera, how can you expect to put a good film on\\r\\nscreen?\\r\\n\\r\\nWonder Woman is a good/great film, but it's measured against it's\\r\\nstablemates, which helps it to look even better.\\r\\n\\r\\nMan of Steel was decent/good. It's problem was being _too_ dark for the\\r\\ncoming out of a new Superman film.\\r\\n\\r\\nSuicide Squad was meh/decent. Problem here is, we didn't need this film yet.\\r\\n\\r\\nFinally: Batman vs Superman was bad/meh. This film had way too many issues\\r\\nand even the most advent DC fan can see that; especially when they compare\\r\\nit back to Wonder Woman.\\r\\n\\r\\nHaving too many hands in the kitchen has wrecked the DCEU and the attempts\\r\\nto right the ship with Justice League doesn't seem to be helping a lot.\\r\\n\\r\\nIs it maybe time to just scrap what's on the table for Warner Bros and just\\r\\nrestart?\\r\\n\\r\\nAt least by going back to the beginning, a single head can help churn out a\\r\\nconsistent vision with none of the problems of trying to stitch together\\r\\nthese previous films.\\r\\n\\r\\nDC characters are too well known to be saddled with such films. Superman,\\r\\nBatman, Wonder Woman all deserve better than this.\\r\\n\",\n",
       " 'asafdavid08@gmail.com',\n",
       " \"Wow....just wow!\\r\\n\\r\\nThe Switch has really come into its own this first year. Launching with\\r\\nBotW, followed by Mario Odyssey was certainly a great plan.\\r\\n\\r\\nBut now, Nintendo intends to end the year on another high note:\\r\\n\\r\\nXenoblade Chronicles 2.\\r\\n\\r\\nI can't state just how pleased I am with Nintendo's efforts. Each of these\\r\\ngames alone will fill weeks of your time if you spend the time exploring.\\r\\n\\r\\nPersonally, I've always been a fan of single player campaigns, so this\\r\\nlineup appeals to me, but probably not to those who enjoy online play.\\r\\n\\r\\nRegardless, I think Nintendo is a perfect compliment to either an X Box or\\r\\nPlaystation owner.\\r\\n\\r\\nHow do you feel about the Switch and it's first year lineup? Confident they\\r\\ncan continue to deliver the goods?\\r\\n\",\n",
       " 'asafdavid08@gmail.com',\n",
       " \"So, the gist is that someone is going to remedy the saturation issue that's\\r\\nbeen plaguing the Pixel 2's display. Granted, it doesn't address the more\\r\\nserious issues some users may be experiencing.\\r\\n\\r\\nRegardless, for those like me with no major display problems, this will be\\r\\nmuch appreciated.\\r\\n\\r\\nMy single issue with my 2 XL is the muted colors. While I don't notice in\\r\\nnormal usage too often...as soon as I see my 6P, it's obvious.\\r\\n\\r\\nHere's hoping this upcoming app helps!\\r\\n\",\n",
       " 'asafdavid08@gmail.com',\n",
       " \"Could some of you who purchased an iPhone 8 please explain why you did so?\\r\\n\\r\\nI simply can't fathom why you wouldn't wait for the clearly superior\\r\\niPhone: the iPhone X. It contains all the things that make a new phone\\r\\nexciting: new (though questionably ugly) design, beautiful AMOLED screen,\\r\\nmore advanced cameras, etc. It's the iPhone that is more forward thinking\\r\\nand helps push it's competition.\\r\\n\\r\\nMy personal opinion is that the iPhone 8 is simply a warmed over device\\r\\nthat certainly doesn't deserve to have increased even slightly in price.\\r\\nAnd while the X is a bit too expensive, I can at least understand and see\\r\\nlegitimate changes.\\r\\n\\r\\nSo why did you spend your money on the inferior iPhone and not wait for the\\r\\nclearly better one?\\r\\n\",\n",
       " 'asafdavid08@gmail.com',\n",
       " \"So, lets see if we can pin down what the table stakes seem to be for our\\r\\nmobile phones:\\r\\n\\r\\n1. Greatly reduced bezels.\\r\\n\\r\\n2. Water proof.\\r\\n\\r\\n3. AMOLED display.\\r\\n\\r\\n4. Great camera.\\r\\n\\r\\nIt would seem that if you have these things, you're golden. The iPhone X,\\r\\nGoogle Pixel 2, Galaxy Note8 and LG V30 seem to share these things in\\r\\ncommon.\\r\\n\\r\\nNow, what about extras?\\r\\n\\r\\n1. Wireless charging.\\r\\n\\r\\n2. Headphone jack.\\r\\n\\r\\nWhile not table stakes, they are important to many users. This is an area\\r\\nwhere only LG and Samsung have made a clear attempt to keep both. Sorry\\r\\nApple and Google. You may miss a few sales omitting one or both of these.\\r\\n\\r\\nFinally:\\r\\n\\r\\n1. Pricing.\\r\\n\\r\\nThis is a point of contention. Spending nearly a grand on a phone is wild.\\r\\nI damned Apple for it and Samsung and Google dont get a pass. This is\\r\\ngetting ridiculous. Plain and simple. *At least one can make a hefty profit\\r\\nreselling the iPhone X*.\\r\\n\\r\\nThat said, I can honestly say I'm glad that we have such a great selection\\r\\nof phones this fall. We'll continue to nitpick over minor things, but\\r\\nregardless of which you pick, you should be happy.\\r\\n\",\n",
       " 'asafdavid08@gmail.com',\n",
       " 'The best way to retain customers in a product driven market like mobile is\\r\\na strong or even mix of software, hardware and services.\\r\\n\\r\\nYet, no company is quite there on all three.\\r\\n\\r\\nApple lacks the strong foundation of services. Google is missing the\\r\\nhardware side, and Microsoft is hurting in software.\\r\\n\\r\\nSo, which company has the longest way to go to complete the holy trifecta?\\r\\nPlease offer your explanations below.\\r\\n',\n",
       " 'asafdavid08@gmail.com',\n",
       " 'The Razer is the first major phone to be acknowledged to use a 120Hz\\r\\ndisplay.\\r\\n\\r\\nAnd the hands on from many sites seems to be extremely positive. The\\r\\ndifference, while not picked up on camera well, seems to be immediately\\r\\nseen.\\r\\n\\r\\nSo, how soon before we see more mainstream OEMs take the plunge and give us\\r\\nthese faster refresh rates on phones?\\r\\n\\r\\nWith the push for everyone to use OLED, this may take a bit longer than\\r\\nusual...but still.\\r\\n\\r\\nThink Samsung, king of displays, can pull it off?\\r\\n',\n",
       " 'asafdavid08@gmail.com',\n",
       " \"So, the gist is that someone is going to remedy the saturation issue that's\\r\\nbeen plaguing the Pixel 2's display. Granted, it doesn't address the more\\r\\nserious issues some users may be experiencing.\\r\\n\\r\\nRegardless, for those like me with no major display problems, this will be\\r\\nmuch appreciated.\\r\\n\\r\\nMy single issue with my 2 XL is the muted colors. While I don't notice in\\r\\nnormal usage too often...as soon as I see my 6P, it's obvious.\\r\\n\\r\\nHere's hoping this upcoming app helps!\\r\\n\",\n",
       " 'asafdavid08@gmail.com',\n",
       " \"Personally, I have no need for cellular in my smartwatch. But I'll admit\\r\\nthis:\\r\\n\\r\\nApple has done this right with Series 3! Adding the antenna to the screen\\r\\nis actually genius.\\r\\n\\r\\nPlease take note all Android Wear makers. There's no need to add sensors\\r\\nand wireless bands in the watch band itself. People like to change their\\r\\nwatchbands!\\r\\n\",\n",
       " 'asafdavid08@gmail.com',\n",
       " \"You're an Apple user. You have an iPhone, iPad, Apple Watch and a Mac (or\\r\\nsome combination of these). You're also locked into the ecosystem and it\\r\\nwould be expensive to suddenly switch to another platform if you wanted to.\\r\\n\\r\\nYet, you feel as though, at times, you're missing out on features from\\r\\nother platforms such as Googles Android or Microsofts Windows. Granted, the\\r\\nenvy may not sway you to leave, but you can't help but long for offerings\\r\\nfrom the other side.\\r\\n\\r\\nWhat's missing from iOS and Mac OS that you would love to see Apple\\r\\nimplement into its platform? It can be software or even hardware.\\r\\n\\r\\nLet's hear your thoughts about *ONLY* Apple below.\\r\\n\\r\\nStay positive!\\r\\n\",\n",
       " 'asafdavid08@gmail.com',\n",
       " \"You're an Android user. You have dozens of options for your phone, from\\r\\ndozens of OEMs, a few semi options for a tablet, maybe rocking an Android\\r\\nWear device and heck, you may even work from a Chrome OS laptop (or some\\r\\ncombination of these). You're also locked into the ecosystem and it would\\r\\nbe expensive to suddenly switch to another platform if you wanted to.\\r\\n\\r\\nYet, you feel as though, at times, you're missing out on features from\\r\\nother platforms such as Apple's platform or Microsofts Windows. Maybe some\\r\\nof that nice, nearly seamless intergration.\\r\\n\\r\\nWhat's missing from Android or even Chrome OS that you would love to see\\r\\nGoogle implement into its platform? It can be software or even hardware.\\r\\n\\r\\nLet's hear your thoughts about *ONLY* Google below.\\r\\n\\r\\nStay positive!\\r\\n\",\n",
       " 'asafdavid08@gmail.com',\n",
       " \"Check out this article:\\r\\n\\r\\nhttps://www.google.com/amp/s/chromeunboxed.com/google-eve-new-laptop-patent-chromebook/amp/\\r\\n\\r\\nNow, it brings up a lot of points regarding the Chromeboom Eve. But my\\r\\nfocus is the design itself. It addresses the major flaw many 2n1s face:\\r\\n\\r\\nNo one likes touching the letter keys when in tablet mode.\\r\\n\\r\\nIt still boggles my mind that OEMs still make laptops that do this. It's a\\r\\nusability nightmare. Laptops are still generally heavier than your basic\\r\\ntablet or iPad. Why combine that extra weight with the feeling of pressing\\r\\nkeys when you're holding the device in its alternate mode?\\r\\n\\r\\nSo, Google seems to be looking at a way around it, but still leaving the\\r\\nkeyboard attached.\\r\\n\\r\\nGranted, both Google and Microsoft have tried different approaches to this.\\r\\nThey've each created devices that separate the screen from the keyboard.\\r\\nBut this still results in some compromises. The Surface Pro requires a\\r\\nkickstand and has stability issues when used on your lap. And the Pixel C\\r\\nwas top heavy to an extent.\\r\\n\\r\\nIn their defense though, you could at least detach the Keyboards and flip\\r\\nthem so as to not encounter the issues of most other 2n1s.\\r\\n\\r\\nDo you imagine that Google could pull off a relatively thin and light\\r\\nweight Chrome OS laptop as it's designed in the patent? One that hides the\\r\\nkeys beneath a cover hinge that also acts as a touch pad?\\r\\n\",\n",
       " 'asafdavid08@gmail.com',\n",
       " \"So, should Apple go all in on using eye/facial recognition to supplant\\r\\nTouch ID, do you believe they'll continue to attempt to embed a fingerprint\\r\\nsensor under the display?\\r\\n\\r\\nHonestly, it wouldn't make much sense to me.\\r\\n\\r\\nA hands free solution, that's followed up by a method that requires\\r\\ntouching to unlock on a future device seems backwards. Once you move\\r\\nforward with a new technology like eye/facial recognition, especially if\\r\\nit's the primary source of security, it would seem an admission of failure\\r\\nto say, 'Hey, Touch ID was really better...Let's just go back to that.'\\r\\n\\r\\nWhat do you imagine Apple will do?\\r\\n\\r\\nPart of me wonders if they'll just add the sensor to the power button. As\\r\\nfar as I know, no major players in the US implement the fingerprint sensor\\r\\nthere, so to an extent, it would be more or less unique to the iPhone. (I'm\\r\\nfully aware Sony does this, but they still disable that sensor in the US.)\\r\\n\\r\\nIt also makes me wonder about the iPads future. Would future tablets\\r\\nimplement the 'Face ID'? Is Apple going to remove the button from it as\\r\\nwell?\\r\\n\\r\\nLet's hear your thoughts below.\\r\\n\",\n",
       " 'asafdavid08@gmail.com',\n",
       " \"Netflix. Hulu. Amazon Prime. HBO Go. Showtime. Crunchy Roll. Sling TV.\\r\\nYouTube Red...Etc.\\r\\n\\r\\nHell, now even Disney is jumping into the fray.\\r\\n\\r\\nJust how sustainable is this business? There's no way people are going to\\r\\ncontinue to pay for numerous streaming services to get all their content.\\r\\nSo what will the end result be?\\r\\n\\r\\n*1. Will some of these services join into one central service?*\\r\\n\\r\\n*2. Are some going to simply fail due to not having enough diversity of\\r\\ncontent?*\\r\\n\\r\\n*3. Or worse, will we eventually be forced back into the archaic cable\\r\\ntelevision model of old?*\\r\\n\\r\\nHonestly, I'm not gonna pay for more than 3 services. And I don't imagine\\r\\nmany of you will either. If the idea was to keep people from\\r\\npirating...Well, this idea that every company and studio needing it's own\\r\\nservice is going to backfire very quickly.\\r\\n\",\n",
       " 'asafdavid08@gmail.com',\n",
       " 'Since it\\'s widely regarded as the best smartphone camera, in what ways do\\r\\nyou imagine Google can improve on its camera?\\r\\n\\r\\nLast year\\'s specs:\\r\\n\\r\\n   - 1/2.3\" 12MP CMOS sensor with 1.55m pixels\\r\\n   - F2.0 aperture\\r\\n   - AF with on-sensor phase detection and laser-assistance\\r\\n   - Dual-tone LED flash\\r\\n   - 4K video at 30 fps\\r\\n   - 1080p slow-motion at 120fps, 720p at 240fps\\r\\n   - Manual controls and Raw-support with third-party camera apps\\r\\n   - Gyroscope-based video stabilization\\r\\n   - 8MP front camera, 1/3.2\" sensor, 1.4 m pixels, F2.4, 1080p video\\r\\n   - Unlimited cloud storage for full-resolution images and videos\\r\\n\\r\\nNow, rumors suggest that Google isn\\'t going to bother with dual cameras at\\r\\nthis time. Which means they will no doubt put their full efforts into\\r\\nmaking the software do the heavy lifting. And if last year\\'s camera is the\\r\\nmeasurement stick, then it\\'s easy to expect that Google could easily repeat\\r\\nit\\'s efforts.\\r\\n\\r\\nLet\\'s here you\\'re thoughts below.\\r\\n',\n",
       " 'asafdavid08@gmail.com',\n",
       " \"So, how many of you are getting destroyed in the Trial of Swords?\\r\\n\\r\\nI think back to when I first started the game and how often I died. It\\r\\nhonestly like starting from scratch again with this Trial.\\r\\n\\r\\nSeriously, it's comparable to All You Need Is Kill....Except I'm not\\r\\ngetting better at a fast enough rate.\\r\\n\\r\\nThat said, still having fun. I want that fully charged Master Sword!\\r\\n\",\n",
       " 'asafdavid08@gmail.com',\n",
       " \"So far, I'm enjoying the beta on my iPad Pro 9.7.\\r\\n\\r\\nA few things I've noticed so far:\\r\\n\\r\\n*Chrome is displaying the web address toward the right corner of the bar*\\r\\n\\r\\n*My display appears to be dimmer than normal*\\r\\n\\r\\n*Scrolling seems faster, really wish I could see it on the newer iPads with\\r\\nthe faster refresh displays*\\r\\n\\r\\n*No app crashes so far, but I've had some freeze up for a few moments*\\r\\n\\r\\nAll in all, I think this is going to be a huge relegation for iPad owners\\r\\nwho wish for a bit more utility from the world's best pure tablet.\\r\\n\\r\\nHow has your experience been?\\r\\n\",\n",
       " 'asafdavid08@gmail.com',\n",
       " \"I just want an open discussion about this topic as I didn't immediately see\\r\\none as of late.\\r\\n\\r\\nHow do you feel about Americans choosing to travel to a country like North\\r\\nKorea? With the political climate being as it has been for quite a while,\\r\\nshould a persons sense of adventure be placed secondary to the possible\\r\\nrisks that potentially come from a trip like this?\\r\\n\\r\\nAlso, what does one gain by visiting North Korea? Is being able to tout\\r\\nthat you've gone to such a place really worthwhile considering the apparent\\r\\nrisks?\\r\\n\\r\\nLet's hear your thoughts below.\\r\\n\",\n",
       " 'asafdavid08@gmail.com',\n",
       " \"My heart wants to believe that all hype around WW is well deserved. To\\r\\nbelieve that it is actually a great summer blockbuster.\\r\\n\\r\\nI want to believe that this female directed film is good, not just for\\r\\nbeing overseen by a woman, but because much love and time was put into\\r\\nelevating the status of a strong female character.\\r\\n\\r\\nBut...I just don't know.\\r\\n\\r\\nI can't help but to think back to all the hype the new Ghostbusters\\r\\nreceived and I become a bit jaded.\\r\\n\\r\\nSo many articles were written on how fantastic the talent was for that\\r\\nmovie. How that an all female cast would do so wonderfully and shut up all\\r\\nthe haters.\\r\\n\\r\\nAnd then we got the film...And it was relatively a flop.\\r\\n\\r\\nAnd now we have WW. It's just too bad she has to carry the weight of 3 past\\r\\nfilms that have varied between 'alright' (MoS) to okay (Suicide Squad) to\\r\\nterrible (BvS).\\r\\n\\r\\nThat's a lot of pressure to be under...Even for the shoulders of one of\\r\\ncomics strongest and most beloved characters.\\r\\n\\r\\nSo, here's hoping that WW suceeds where the other DC films have stumbled or\\r\\nin many cases, completely fallen.\\r\\n\\r\\nWhat do you all think: Will Wonder Woman be a success, or will this film\\r\\necho Ghostbusters and further push back DCs movie universe?\\r\\n\",\n",
       " 'asafdavid08@gmail.com',\n",
       " \"Currently, I have the 42mm Aluminum Sport model. And while it's been a\\r\\ngreat device, I can't help but feel as though I want a larger device.\\r\\n\\r\\nBut not for battery life. I simply like my watches on the larger size. I\\r\\nthink a 48mm size option would suit me just fine.\\r\\n\\r\\nWhat do you all think? Are you happy with the current two sizes; or would\\r\\nyou like to see Apple give us an even larger 48mm or more size?\\r\\n\",\n",
       " 'asafdavid08@gmail.com',\n",
       " \"So, I may be in the minority, but I'm buying this as I didn't own a Wii U\\r\\nat the time to play this game.\\r\\n\\r\\nMario Kart has always been an extremely fun game to play with people\\r\\nactually in the room with you. And since the Switch comes with two\\r\\ncontrollers, you can instantly pick up and play against any willing family\\r\\nmember or friend.\\r\\n\\r\\nSo, are you buying MK8 today?\\r\\n\",\n",
       " 'asafdavid08@gmail.com',\n",
       " \"So, it appears that maybe we're headed toward a future of Star Wars films\\r\\nwhere the Jedi, Sith and the Force begin to take a back seat.\\r\\n\\r\\nMaybe I'm just reading too much into the newest trailer, but it makes me\\r\\ncringe.\\r\\n\\r\\nIn my opinion, Star Wars is nothing without force users; those that use it\\r\\nfor evil and those who stand against them. It's basically a generic space\\r\\nodyssey, a poor mans Star Trek.\\r\\n\\r\\nIve never watched a Star Wars film for bounty hunters, galactic politics,\\r\\nfoot soldiers clad in white or anything else. I've watched solely because\\r\\nof those champions of good wielding swords made of light and making use of\\r\\nan unknown mystic force against foes who, on the surface, appear to be evil.\\r\\n\\r\\nIf Luke Skywalkers comment about the Jedi ending means that they are going\\r\\nto simply evolve, than I'm cool with that.\\r\\n\\r\\nBut if it means that all connections to the Force are going out the\\r\\nwindow...I'm done.\\r\\n\\r\\nI already had hostile feelings about The Force Awakens and its copy and\\r\\npaste method of apeing A New Hope. (Seriously, Finn would've been a better\\r\\nJedi character as his life experience of being a Storm Trooper was\\r\\nsomething we hadn't seen in film before. We've already seen a lonely\\r\\noutcast character living on a desert planet rise to prominence )\\r\\n\\r\\nEnding Force users would be a blow to my investment in Star Wars.\\r\\n\\r\\nBut who knows...maybe I'm jumping the gun. Maybe I'm overthinking the\\r\\ncontext. I certainly hope so.\\r\\n\\r\\nWhat do you all think?\\r\\n\",\n",
       " 'dvirnimrod84@gmail.com',\n",
       " \"So you're an Indian person living in Russia speaking English... That's\\r\\nbloomin impressive! But I still maintain you might find it tricky to\\r\\nexpress yourself in a personal way in a language other than your home one.\\r\\n\\r\\nHowever, don't let me discourage you if you feel it is benefitting you in\\r\\nanyway. You sound slightly lonely but I imagine that is largely due to your\\r\\npersonal circumstances and possibly a short term thing while you sort your\\r\\neducation in medicine. Keep that goal in mind and the time will fly. Once\\r\\nyou've qualified you will probably have a lot more choices and can then\\r\\nchoose where to be. If you're going to these lengths to follow your\\r\\nprofession then you clearly enjoy it so that's another thing that is good.\\r\\n\\r\\nI'm sure you could find like minded people local to you if you looked.\\r\\nThere are very few 'unique' people in this world that you wouldn't have\\r\\nsomething in common with. But I'm not sure if you've fully explained what's\\r\\nwrong, what's making you unhappy.\\r\\n\\r\\nImagine dragons are very good, Mark Wahlberg not so much \\r\\n\",\n",
       " 'dvirnimrod84@gmail.com',\n",
       " \"I mean this with the greatest respect, but would you not be better finding\\r\\nsupport in your native language?\\r\\n\\r\\nYou sound like you have identified the issues that are causing your\\r\\ndepression and sound like you may be able to talk through your fears and\\r\\nproblems but I'm concerned you may struggle to clearly express yourself if\\r\\nyou're speaking in a foreign language.\\r\\n\\r\\nDon't get me wrong, you're English is far better than my non-existant\\r\\nRussian! I just think you need to be able to talk freely and that could be\\r\\nhard if English is not your first language.\\r\\n\",\n",
       " 'dvirnimrod84@gmail.com',\n",
       " \"I love the way you write! It sounds really verbal! Very nice of you to sign\\r\\nup to reply. How weird is this though; I didn't think I had paranoia but\\r\\nyou almost sound like my little sister! I know you're not, but in my head\\r\\nI'm beginning to wonder whether I should write on here!\\r\\n\\r\\nI probably do have depression, I acknowledge that. I think my personality\\r\\nmight not help but I agree, depression is likely. I have social anxiety, I\\r\\nover think far too much, I have mild symptoms of OCD, I have some body\\r\\nissues, I hide my trichotillomania well being male (face) and I'm somewhat\\r\\nof a perfectionist or idealist - if I could have done it better then it was\\r\\ncrap.\\r\\n\\r\\nGenetically speaking there doesn't seem to be any history of it in my\\r\\nfamily. Because of the way my last job blew up, my parents became more\\r\\naware of the situation. That's not to say they were completely blind to it,\\r\\nbut it became more of a discussion. My parents have both had depression due\\r\\nto work but were fine before and after the event that caused it (tribunals\\r\\netc) but they don't really understand the 'lack of reason' side of it. I\\r\\nshared with them for a while, on both ups and downs, but got the impression\\r\\nit was upsetting them so have largely stopped talking about it. I never\\r\\nmentioned suicide to them. Again, due to the situation my older sister\\r\\nbecame aware and she too pressed a little but there is a limit you want to\\r\\ntalk about things when all it does is upset people and they can't help you\\r\\nanyway. I have not talked about it with other family members. I'm already\\r\\nknown as the depressing one, so I try to sound super happy when I'm around\\r\\nfamily now. I was told that the reason I'm, at least subconciously, left\\r\\nout in family gatherings is because I'm quiet/ serious/ boring (actual\\r\\nterms!). I'm aware they'd care if I wasn't here - most people are\\r\\ngenetically programmed to protect their kin, but my absence would make no\\r\\ndifference really. I now spend Xmas away from family, I'm fairly sure\\r\\nthey're happier for it! I hate being a chore. I love your statement about\\r\\nit being 'disgusting sweet s*t' - that's so very much my style, even in the\\r\\ndepths it's very much black humour, sarcasm etc - struggle with sweet stuff!\\r\\n\\r\\nOutside my family there is just my girlfriend. That sounds extreme, but\\r\\nit's really not. I don't have a single other friend, that is equally my\\r\\nfault. But I talk to no one from University days, no ex colleagues etc. I\\r\\nknow no-one else. Partially I like it that way, it's easy and I don't feel\\r\\nlike a burden, on the other hand I feel like some of them could have fought\\r\\nto 'look after me' - they all gave up very easily. I know that's not fair.\\r\\nYou shouldn't test your friends. But on the other hand, if I really cared\\r\\nfor someone and knew they were struggling emotionally, I'd put in a little\\r\\nmore effort. I wasn't ever mean or snappy with them, I just kind of\\r\\ndisappeared. But it's not their job to understand mental issues, they have\\r\\ntheir own busy lives with their own problems.\\r\\n\\r\\nSo I sometimes speak to my girlfriend, less so these days though. When it\\r\\nall hit the fan I had no choice but to share everything with her, not that\\r\\nit was brand new information of anything - I've been with her for a long\\r\\ntime. But maybe the intensity of the feelings was new, of the fact they\\r\\nwere always there. But again, there's very little she can do so why depress\\r\\nher. I don't want to see her cry because of me. So I've largely stopped\\r\\ntalking about things, in a way that might give her the impression I'm\\r\\nimproving. Occasionally stuff slips out, or I sarcastically mention\\r\\n'leaving' but I cover it well now. I still tell her to find someone else, I\\r\\ncover it in a light/jokey way but, although I'm not stupid and I know she\\r\\nsees though it, it is kind of an acceptable level of sharing.\\r\\n\\r\\nYou're right about social anxiety too. That I fully recognise. I care way\\r\\nmore than I should, or want to, about others thoughts. Doesn't stop it\\r\\nthough. I do analyse everything I've said and done before and after events\\r\\nbut I can't forget it - really stupid example; I still remember saying\\r\\nsomething that was taken the mick out of at school, probably really mildly,\\r\\nand that was about twenty five years ago! How the hell can I get over this\\r\\nwhen I still stew over stuff I said when I was 9?!\\r\\n\\r\\nDespite seeing every flaw in myself I don't take criticism well, not in a\\r\\ngrumpy way but in a defeatest way. If I'm told a million things are good\\r\\nbut 'this' needs improving then it was an awful experience. I know that is\\r\\nboth ridiculous and common but want it stop effecting me so much. In\\r\\ncomplete contrast I am very patient and forgiving of others, I'll always\\r\\nsee the other side of the argument and I'll happily give people as much\\r\\ntime as they need. I'm the epitomy of 'do as I say, not as I do!'. I know\\r\\nwhere I'm going wrong, I know my thought processes are messed up, but I\\r\\njust don't know how to fix them. I can't think of many situations where\\r\\nI've felt 'better' than anyone else - the closest I get it wondering why\\r\\nhorrible people in this world are more likely to succeed; stupidity is\\r\\nrewarded (TOWIE type), rudeness is applauded (Cowell), stabbing people in\\r\\nthe back is relabled 'ambition', and generous people get walked on and\\r\\ncriminals win the lottery!\\r\\n\\r\\nI'm really happy you've started to figure your life out. You sound very\\r\\nintelligent and in control. You also mentioned being in school so I suspect\\r\\nyou are quite young; for you to have such a good grip on your feelings and\\r\\nrecognise triggers and mental health issues is quite impressive. Is it an\\r\\navenue you have interest in? I'm genuinely happy you have got such a grip\\r\\non it early, understanding it early may help you in the long run - I don't\\r\\nknow, but I suspect the longer this is left the harder it is to undo the\\r\\n'learning to hate yourself' that is embedded in to you. Much like whe I\\r\\nused to teach, the longer you left a mistake/misconception with a child the\\r\\nharder it was to 'unteach' it - so I just have 34 years to unteach\\r\\nmyself! [image:\\r\\nwink]\\r\\n\\r\\nAnd you're definitely not my little sister are you?! \\r\\n\",\n",
       " 'dvirnimrod84@gmail.com',\n",
       " \"Typical responces in themselves are not a bad thing, but perhaps too\\r\\ngeneric for most people. However, with limited information they are the\\r\\nonly thing that can be given to you.\\r\\n\\r\\nI don't feel you can give up until you've tried. So you'll need to talk to\\r\\nsomeone on here, close to you, a doctor or a therapist or someone. You need\\r\\nto gve them a lot of information.\\r\\n\\r\\nIf you've done all that and still feel like giving up then I fully\\r\\nsympathise. Just try to avoid giving one line sentences as that is not\\r\\nsharing, that is a call for help and you'd be much better seeking moe\\r\\nimmediate attention like the Samaritans etc (unless you're scared of phone\\r\\ncalls like me!)\\r\\n\\r\\nI do symathise, but you need to share and you need to try first.\\r\\n\",\n",
       " 'dvirnimrod84@gmail.com',\n",
       " 'I, and this thread, are probably not the best avenue to seek answers. It\\'s\\r\\nvery much a \\'give up\\' thread the way it\\'s going! \\r\\n\\r\\nStart your own thread. Tell your story if you want, writing it down can\\r\\nhelp clarify what areas of your life make you feel the way you do. You may\\r\\nhave a reason when you just keep writing.\\r\\n\\r\\nI\\'m not going to give you the easy answer and say \"I\\'m sure you\\'re amazing\"\\r\\nas I don\\'t know you and that\\'s just not realistic. I know nothing about you.\\r\\n\\r\\nHowever, on these boards are a lot of clever, kind, insightful people so\\r\\nthey would be much better placed to help you than me. I don\\'t think us\\r\\nmutually agreeing how tiring life is will help either of us.\\r\\n',\n",
       " 'dvirnimrod84@gmail.com',\n",
       " \"Kick away!\\r\\n\\r\\nFair enough, I don't do much at the moment. I occasionally do a little bit\\r\\nof exercising (jogging/cycling) but a grey cloud, real or metaphorical,\\r\\nquickly kills any energy I have! I don't think it's the lack of doing\\r\\nanything that causes this however, I'm still 'better' than when I was at\\r\\nwork/ socialising - but then if this is the best it gets... well.\\r\\n\\r\\nI have visitied the Doctor, and for the record he was really nice. Very\\r\\nsupportive in fact. But it didn't change the fact I felt stupid and as if I\\r\\nwas wasting his, and others, time. I remember being really worked up about\\r\\nthe fact our appointment slot was overunning because I felt like I was\\r\\nholiding up other people. But I did that because my girlfriend was with me\\r\\nat all times (and forced me!) and because I needed to get a Doctors note\\r\\nfor work. Now I no longer work, I no longer need to waste people's time.\\r\\nBut you're right, I'm an expert in giving up!\\r\\n\\r\\nThe girlfriend question comment is a difficult one and the one I battle\\r\\nevery day more than anything else. If I leave her there is nowhere to go,\\r\\nthat really is it. I mean that in the practical sense here, house etc but\\r\\nalso it means that really is the end. I stay through her appeals and for\\r\\nmaybe that ounce of hope that she, and others, are right that it'll pass.\\r\\nAlthough I've always been like this. I'm not staying with her for ease, or\\r\\nto string her along, but leaving her really is a final decision - I have no\\r\\nbelief there is something better than her. Probably makes no sense. The 1%\\r\\nhope keeps me alive, therefore the 1% keeps me here. If I lose the here, I\\r\\nhave absolutely zero interest in the alive.\\r\\n\\r\\nI really do appreciate your replies, a constructive kick is better than a\\r\\ncompassionate hug for me. But I can't find that kick that I can't talk my\\r\\nway around or explain away. I hate my head! I have actually tried\\r\\neverything I'm supposed to, maybe not for long enough, but I've seen zero\\r\\ndifference. Leaving work calmed me down and made me able to uncurl from a\\r\\nball but does that mean I can never return to a job? That then creates\\r\\ndifferent problems emotionally and financially.\\r\\n\\r\\nI saw the CBT guy but, nice as he was, he tried a religious route with me\\r\\n(never going to work) and I put on my fake chatty character for the hour,\\r\\neven if I was tired afterwards. It didn't do anything. Even if I try to get\\r\\nrefered again by the Doctor, I'd actually be scared that I'd be seeing him\\r\\nagain, or be seen to have asked not for him - and although I'm fairly sure\\r\\nhe wouldn't care, it genuinely freaks me out! How messed up is that?!\\r\\n\\r\\nI'm actually ok, if I prepare well, for an hour or so around people - I can\\r\\nseem easy going and chatty, any longer than that and it gets difficult. If\\r\\nI can't prepare, i.e. I know there will be questions I'm not expecting or\\r\\nit's someone I feel who will judge me e.g. a car mechanic as a 'guy' then I\\r\\ncan't do it. How silly is this - I still get uneasy surrounded by teenage\\r\\ngirls! I'm not in the remotest bit interested in them obviously, but just\\r\\nthe feeling of inadequacy/ that I'm a loser makes me feel 'weird'. Same\\r\\nwith family, there is a duration before it gets too personal; I can feel\\r\\nmyself being overly happy and lively around them as if it's all pouring out\\r\\non first meeting them but that there is a finite amount and then my energy\\r\\ndrops and I disappear.\\r\\n\\r\\nGrrr.... I'm whining again. Shoot me.\\r\\n\"]"
      ]
     },
     "execution_count": 10,
     "metadata": {},
     "output_type": "execute_result"
    }
   ],
   "source": [
    "lst1"
   ]
  },
  {
   "cell_type": "markdown",
   "metadata": {},
   "source": [
    "ok, now the text is much better... but there are still some characters that can make noises to our model, like punctuations and newLine signs. but we will not remove them in advance, because different senders have different message structure and they use this characters in different way, so in order to try to generate most similat message as we can, we have to keep them. (and if the model result will not be good enough for us, we will try to remove some of them...)  \n",
    "\n",
    "so.. before we start buliding models and train them, we have to divide the data to 5 lists, one for each sender. let's do this:"
   ]
  },
  {
   "cell_type": "code",
   "execution_count": 11,
   "metadata": {
    "collapsed": true
   },
   "outputs": [],
   "source": [
    "def classify_lists(email,lst):\n",
    "    newlst=\"\"\n",
    "    for i in  np.arange(0,len(lst),2):\n",
    "        if lst[i]==email:\n",
    "              newlst = newlst + lst[i+1] + \" \" + \"\\r\\n\" + \" \"\n",
    "    return newlst"
   ]
  },
  {
   "cell_type": "markdown",
   "metadata": {},
   "source": [
    "EXPLAIN: we defined a function that get list and email and return list of all the messages of this email in the list of got as parameter. (in order to be coherent with the data, we used \\r\\n as new line character between messages)"
   ]
  },
  {
   "cell_type": "code",
   "execution_count": 12,
   "metadata": {
    "collapsed": true
   },
   "outputs": [],
   "source": [
    "ilonaText=classify_lists('illonashachar78@gmail.com',lst1)\n",
    "dvirText=classify_lists('dvirnimrod84@gmail.com',lst1)\n",
    "asafText=classify_lists('asafdavid08@gmail.com',lst1)\n",
    "itaiText=classify_lists('itaicohen266@gmail.com',lst1)\n",
    "leaText=classify_lists('leapeturel@gmail.com',lst1)"
   ]
  },
  {
   "cell_type": "markdown",
   "metadata": {},
   "source": [
    "### 3.3 building model for each type"
   ]
  },
  {
   "cell_type": "markdown",
   "metadata": {},
   "source": [
    "in this subpart, we will explain for each type our preprocessing we made (if any) , and how we define the model for it.  \n",
    "for all the models we will use n-sequence-architecture as described in class. at the first type we will explain each step, after it we will do all the steps together. and use this function with changing the parameters in the next types."
   ]
  },
  {
   "cell_type": "markdown",
   "metadata": {},
   "source": [
    "we will define the following function that will print us some general details  about the text:"
   ]
  },
  {
   "cell_type": "code",
   "execution_count": 12,
   "metadata": {
    "collapsed": true
   },
   "outputs": [],
   "source": [
    "def get_general_details(txt):\n",
    "    header = [\"Punctuation\", \"Appearance \"]\n",
    "    rows = [(\":\",txt.count(\":\")),(\",\",txt.count(\",\")),(\"-\",txt.count(\"-\")),(\"=\",txt.count(\"=\")),(\";\",txt.count(\";\")),\n",
    "            (\".\",txt.count(\".\")),(\"!\",txt.count(\"!\")),(\"?\",txt.count(\"?\")),(\"(\",txt.count(\"(\")),(\")\",txt.count(\")\")),\n",
    "           (\"'\",txt.count(\"'\")),(\"#\",txt.count(\"#\")),(\"\\\\\",txt.count(\"\\\\\"))]\n",
    "    print(tabulate(rows,headers=header,numalign=\"center\",tablefmt=\"grid\") +\"\\n\")\n",
    "    print(\"Number of words: \" , len(leaText.split(' ')))\n",
    "    print(\"Number of characters: \" , len(txt))\n",
    "    print(\"Capital letters appearance: \" , sum(1 for c in txt if c.isupper())/len(txt))\n",
    "    print(\"Uniqe capital letters: \" , len(set(list(c for c in leaText if c.isupper()))))\n",
    "    print(\"Uniqe lower letters: \" , len(set(list(c for c in leaText if c.islower()))))\n",
    "    print(\"digits characters appearance: \" , sum(1 for c in txt if c.isdigit())/len(txt))\n"
   ]
  },
  {
   "cell_type": "markdown",
   "metadata": {},
   "source": [
    "### Type 1: sender address - leapeturel@gmail.com"
   ]
  },
  {
   "cell_type": "markdown",
   "metadata": {},
   "source": [
    "*examine the data*"
   ]
  },
  {
   "cell_type": "code",
   "execution_count": 13,
   "metadata": {
    "scrolled": true
   },
   "outputs": [
    {
     "data": {
      "text/plain": [
       "'Hey you ! how are you ? you don\\'t feel depressed ? and presents for your\\r\\ngirl friend, she liked ?! bisous\\r\\n \\r\\n I will take more time later to answer you because I have to take a boat to\\r\\ngo to Koh tao.. give me some news about you, and everything that you want\\r\\nto say ( remember, I like when you speak, even if it is better when I can\\r\\nwatch you..)\\r\\n \\r\\n oh...hard for you... I think a lot about you, and I remember all moments\\r\\ntogether.. for exemple, one week ago, we were watching girls thai who made\\r\\nsport near to the river !\\r\\nok, not a good idea to think about that.. but I hope we could have news\\r\\nsouvenirs ( good word?!) together ?in an other city / country ?!\\r\\nSo, about me, I\\'m fine, I\\'m in koh Pahgan, it\\'s nice but a little\\r\\nexpensive, and too much tourists..! I drink beers but it\\'s not the same\\r\\ntaste without you..\\r\\nI will think about you tomorow when you will begin your study.. when is the\\r\\nend ? (I\\'m sorry, I forget..)\\r\\neh, send me some photos ( and photos of you ! ) !\\r\\n \\r\\n Hey Shavit ! I\\'m in Kao lak, too much tourists, it\\'s just terrible.. so\\r\\ntomorow, I leave, I don\\'t now where... So, if you finish at the end of\\r\\nmarch ( When I come back in France), maybe we could see each other after\\r\\n... ?!\\r\\nAnd about the book from Paolo caulo \\'11 minutes\\' ?! Did You like the end ?!\\r\\n \\r\\n Oooooh thank you !! Sometimes I watch some pictures of you.. and I tell me\\r\\n\" I want to see him, really...\" No time to read ?! So, I imagine no time\\r\\nany more to see a movie, like \"walk the line\" ?! about me, I meet a friend\\r\\nfrom France for 1 week, and we meet only french people so I don\\'t speak a\\r\\nlot in English... But when you will come in France, we could speak \\r\\n I\\'m\\r\\nstill in Thailand, I will go in Cambodge only end of february. poor you,\\r\\nonly study all the day... but in two months it\\'is finished !! courage ! je\\r\\nt\\'embrasse\\r\\n \\r\\n What movie ? I don\\'t remember..\\r\\nI\\'m in Chang Mai, great ! tomorow Pai and I Think going to Cambodgia after\\r\\nto meet other french friends. And you, are you ok ? You still study a lot ?\\r\\neven during week end, or you have the time to make party ?!\\r\\n \\r\\n Hi Shavit ! Yes, still in Thailand, I\\'m in Koh lanta, I really like this\\r\\nplace, better than in Koh Panghan ! I leave country in 3 days to meet my\\r\\nfriend in Cambodgia. You didn\\'t see photos ? I have a file about my trip.\\r\\nabout insects, that was really \"hateable\"... really !\\r\\n \\r\\n when is your final test ? end of march ? and after ? Yep, I\\'m in Cambodia !\\r\\nwe are 5 friends together, we spent 4 days in Koh Rong Samlaem, we lived\\r\\nwith a family from Island, so great, so typic, I liked ! this night we go\\r\\nto Siam Reap. It\\'s soon the end of my travel..\\r\\n \\r\\n seriously ?!! but you remember rules ?! oF course I want to play with you !\\r\\nI come back 26 march..!\\r\\n \\r\\n We are in Kanpong Cham, nice ! tomorow pnhon phem because my friend go back\\r\\nin france, and to finish Koh Pahgnan to meet a french friend (all my\\r\\nfriends are in asia.. crazy)\\r\\nand I now a new version about La Belotte, more funny, when I will see you,\\r\\nI\\'ll learn you..\\r\\n \\r\\n yeah... I m in ko pahngan,  I do nothing except beach, restaurant, ... time\\r\\nto come back ! about you ?!\\r\\nI think yes, because I miss my friends and my family... it is the end for\\r\\nyou !!!after, only good time ! in france ?!\\r\\n \\r\\n in France, it\\'s spring now ! apparently, 20 degres in my city ! nice ! in\\r\\nBangkok, it\\'s raining today... bad day !\\r\\n \\r\\n Hi Shavit ! How are U ? I\\'m sorry, I didn\\'t give U some new about me... My\\r\\nboyfriend read your message when you said maybe You\\'ll come in France at\\r\\nthe end of may.. So, he were jealous.. Did you have your results from your\\r\\nexamen ? What do you do this summer ? I kiss you, La\\r\\n \\r\\n Hi Shavit ! How are you ? What do you do this summer ?\\r\\nFor me, lots of changes... I\\'m not anymore with Dorian for 1 month.. I\\r\\nbroke with him, and I think it\\'s better.\\r\\nI enjoy the holidays, tonight I take a plane to meet friends in Berlin for\\r\\nfew days ! And I try to find job but it\\'s very difficult..\\r\\nAnd you !?!\\r\\n \\r\\n hi !! You speak french ?! eh eh  I came back from Berlin yester\\r\\nday night\\r\\n; in fact, I was not in Berlin, but in an island in the north to visit a\\r\\nfriend who works during the summer in a camping ! now I\\'m in Paris for few\\r\\ndays ! What kind of job do you do ? New trip in september ?! great ! tell\\r\\nme more when you know where you will go ! kisses !\\r\\n \\r\\n i\\'m in Zagreb now, just came back from Budapest and tomorrow i\\'m going back\\r\\nto Poland\\r\\nit was really nice, i was studying here for 5 months, the region of Balkan\\r\\nis really interesting and worth to see\\r\\n \\r\\n i was really busy those days and at the same time I had big discussion with\\r\\nmy bff so i just didn\\'t have mind to reply it\\r\\nhehehe, yeah it was funny....\\r\\ni\\'m just suprised that after whole those months you still remember me and u\\r\\ntexted to me\\r\\n \\r\\n It was weird to see that everybody can speak polish  yeah, it w\\r\\nas nice to\\r\\nsee my mother and bff. Now, i need to relax before my internships period\\r\\ni got second internship, i will work a little bit but i like it. Finally i\\r\\nwill do something normal not only studying\\r\\nSo, how is your life? How\\'s your holidays?\\r\\nI have my internship, it\\'s really nice and my boss likes me (i think \\r\\n )\\r\\n \\r\\n Probably Pag island, you have lots of clubs there\\r\\nin Spain you have Ibiza\\r\\nbut you know, i\\'m not a party animal and i prefer seeing the city, not to\\r\\nparty \\r\\nlot of students go also to Amsterdam just to smoke weed\\r\\nthis is famous place on Pag Island- Zrce beach\\r\\n \\r\\n you are welcome, as i see you start plan your trip to Europe. and you\\r\\nshould study hahaha \\r\\noh really? you mentioned something about weekend. But never mind \\r\\n\\r\\nCongrats. Now you can plan your trip haha \\r\\nfor how long are you going to stay in Europe?\\r\\n \\r\\n well... quite long  well, comparing to my 5 months travelling a\\r\\nnd\\r\\nstudying in Croaita, it\\'s not enough  haha \\r\\nbut really, if you would like to visit more Balkan - go to Sarajevo. A girl\\r\\nwho i met in Budapest posted on my wall that she really enjoyed her trip to\\r\\nSarajevo\\r\\nand she is grateful that i gave her a contact to the tour guide in Sarajevo\\r\\n\\r\\n \\r\\n the people, the history, the culture- catholics, ortodox, muslims and jews\\r\\nlive together there and they don\\'t care who you are\\r\\nyou have everything there and it\\'s really cheap \\r\\n \\r\\n yeah, it\\'s hot right now, but when i was there it was only 15, and it was\\r\\nin May \\r\\nyou know, you will do what you want\\r\\ndepends what do you want to do during your holidays \\r\\n \\r\\n Well, my friend from Brazil and Finland were in Wroclaw and Krakow and they\\r\\nreally enjoyed both cities\\r\\nIt\\'s super weird (especially expensive) to get from Prague to Krakow\\r\\nI think it\\'s cheaper and nicer to go to Wroclaw\\r\\n \\r\\n so? Did you decide where to go? Tomorrow, i will be at work and i will have\\r\\nbetter connection with Internet so i can help you\\r\\nhola! Bien, gracias  I\\'m at the office now, working a little bi\\r\\nt. Then\\r\\nspanish classes, and then football match poland-germany in pub \\r\\nand you? how are you? \\r\\n \\r\\n Well, i have some time on Sunday, I will have more time during weekend\\r\\nCause on Monday or Tuesday, i could have a break at work but only for max 2\\r\\nhours\\r\\nI think there is no chance to watch Israelian match \\r\\nI asked couple of my friends-football fans and they said that is almost\\r\\nmpossible to watch this match\\r\\n \\r\\n Hahaha, maybe in some hostel or something like that haha \\r\\nAnd what\\'s the match? I mean, football, volleyball?\\r\\n \\r\\n hi, thanks for a meeting  sorry, that it was short but you know\\r\\n, i need\\r\\nto work  and your friend wasn\\'t in good condition  \\r\\nSorry, that i wasn\\'t\\r\\nmyself, but i \\'m very tired, a little bit stress and today it\\'s not my day\\r\\nsince 8 am\\\\\\r\\nsorry once again\\r\\n \\r\\n '"
      ]
     },
     "execution_count": 13,
     "metadata": {},
     "output_type": "execute_result"
    }
   ],
   "source": [
    "leaText"
   ]
  },
  {
   "cell_type": "code",
   "execution_count": 14,
   "metadata": {},
   "outputs": [
    {
     "name": "stdout",
     "output_type": "stream",
     "text": [
      "+---------------+---------------+\n",
      "| Punctuation   |  Appearance   |\n",
      "+===============+===============+\n",
      "| :             |       0       |\n",
      "+---------------+---------------+\n",
      "| ,             |      105      |\n",
      "+---------------+---------------+\n",
      "| -             |       5       |\n",
      "+---------------+---------------+\n",
      "| =             |       0       |\n",
      "+---------------+---------------+\n",
      "| ;             |       1       |\n",
      "+---------------+---------------+\n",
      "| .             |      100      |\n",
      "+---------------+---------------+\n",
      "| !             |      58       |\n",
      "+---------------+---------------+\n",
      "| ?             |      43       |\n",
      "+---------------+---------------+\n",
      "| (             |       8       |\n",
      "+---------------+---------------+\n",
      "| )             |       8       |\n",
      "+---------------+---------------+\n",
      "| '             |      50       |\n",
      "+---------------+---------------+\n",
      "| #             |       0       |\n",
      "+---------------+---------------+\n",
      "| \\             |       1       |\n",
      "+---------------+---------------+\n",
      "\n",
      "Number of words:  1442\n",
      "Number of characters:  7671\n",
      "Capital letters appearance:  0.026463303350280278\n",
      "Uniqe capital letters:  21\n",
      "Uniqe lower letters:  26\n",
      "digits characters appearance:  0.0022161387042106636\n"
     ]
    }
   ],
   "source": [
    "get_general_details(leaText)"
   ]
  },
  {
   "cell_type": "markdown",
   "metadata": {},
   "source": [
    "first, we can notice that we have 7671 words in total, this amount of words is small. hence, we decided to use model that read each 10 characters seperately, and not a model that read each word seperately, because it will be more difficult to get good result with small amount of practise samples.  \n",
    "because we treat at the character level, there is important for each character that appear in the text, because each one will make the vocabulary bigger. so, before we define the model, we will clean the text a little bit more.  \n",
    "first we will clean punctuation that appear rarely:"
   ]
  },
  {
   "cell_type": "code",
   "execution_count": 15,
   "metadata": {
    "collapsed": true,
    "scrolled": true
   },
   "outputs": [],
   "source": [
    "leaText_=re.sub(r'[\\(\\)\\;\\-\\\\]','',leaText)"
   ]
  },
  {
   "cell_type": "markdown",
   "metadata": {},
   "source": [
    "we also want to represent new line so we can preserve the structure of the message after generation. at the plain text newLine represent as: \\r\\n , we will substitute it to another sign that will take one character only. we will choose \"#\" character. "
   ]
  },
  {
   "cell_type": "code",
   "execution_count": 16,
   "metadata": {
    "collapsed": true
   },
   "outputs": [],
   "source": [
    "leaText_=re.sub(r'\\r\\n','#',leaText_)"
   ]
  },
  {
   "cell_type": "markdown",
   "metadata": {},
   "source": [
    "*remark* - before each \" ' \" character there is '\\' but '\\' is only because the way python print the text.  \n",
    "as you can notice by the following snippet:"
   ]
  },
  {
   "cell_type": "code",
   "execution_count": 17,
   "metadata": {},
   "outputs": [
    {
     "data": {
      "text/plain": [
       "0"
      ]
     },
     "execution_count": 17,
     "metadata": {},
     "output_type": "execute_result"
    }
   ],
   "source": [
    "leaText_.count('\\\\')"
   ]
  },
  {
   "cell_type": "markdown",
   "metadata": {},
   "source": [
    "we can notice that there are 203 instances of capital letters, that include 21 uniqe letters. this is only ~0.02% from all the characters in the text, so if we will lowercase all the characters the change in the text will not be significant, and our vocabulary will be smaller, so it will be more easy for train.  \n",
    "let's do that:"
   ]
  },
  {
   "cell_type": "code",
   "execution_count": 18,
   "metadata": {
    "collapsed": true
   },
   "outputs": [],
   "source": [
    "leaText_=leaText_.lower()"
   ]
  },
  {
   "cell_type": "markdown",
   "metadata": {},
   "source": [
    "let's take a look again at the text before we build our model:"
   ]
  },
  {
   "cell_type": "code",
   "execution_count": 19,
   "metadata": {
    "scrolled": true
   },
   "outputs": [
    {
     "data": {
      "text/plain": [
       "'hey you ! how are you ? you don\\'t feel depressed ? and presents for your#girl friend, she liked ?! bisous# # i will take more time later to answer you because i have to take a boat to#go to koh tao.. give me some news about you, and everything that you want#to say  remember, i like when you speak, even if it is better when i can#watch you..# # oh...hard for you... i think a lot about you, and i remember all moments#together.. for exemple, one week ago, we were watching girls thai who made#sport near to the river !#ok, not a good idea to think about that.. but i hope we could have news#souvenirs  good word?! together ?in an other city / country ?!#so, about me, i\\'m fine, i\\'m in koh pahgan, it\\'s nice but a little#expensive, and too much tourists..! i drink beers but it\\'s not the same#taste without you..#i will think about you tomorow when you will begin your study.. when is the#end ? i\\'m sorry, i forget..#eh, send me some photos  and photos of you !  !# # hey shavit ! i\\'m in kao lak, too much tourists, it\\'s just terrible.. so#tomorow, i leave, i don\\'t now where... so, if you finish at the end of#march  when i come back in france, maybe we could see each other after#... ?!#and about the book from paolo caulo \\'11 minutes\\' ?! did you like the end ?!# # oooooh thank you !! sometimes i watch some pictures of you.. and i tell me#\" i want to see him, really...\" no time to read ?! so, i imagine no time#any more to see a movie, like \"walk the line\" ?! about me, i meet a friend#from france for 1 week, and we meet only french people so i don\\'t speak a#lot in english... but when you will come in france, we could speak # i\\'m#still in thailand, i will go in cambodge only end of february. poor you,#only study all the day... but in two months it\\'is finished !! courage ! je#t\\'embrasse# # what movie ? i don\\'t remember..#i\\'m in chang mai, great ! tomorow pai and i think going to cambodgia after#to meet other french friends. and you, are you ok ? you still study a lot ?#even during week end, or you have the time to make party ?!# # hi shavit ! yes, still in thailand, i\\'m in koh lanta, i really like this#place, better than in koh panghan ! i leave country in 3 days to meet my#friend in cambodgia. you didn\\'t see photos ? i have a file about my trip.#about insects, that was really \"hateable\"... really !# # when is your final test ? end of march ? and after ? yep, i\\'m in cambodia !#we are 5 friends together, we spent 4 days in koh rong samlaem, we lived#with a family from island, so great, so typic, i liked ! this night we go#to siam reap. it\\'s soon the end of my travel..# # seriously ?!! but you remember rules ?! of course i want to play with you !#i come back 26 march..!# # we are in kanpong cham, nice ! tomorow pnhon phem because my friend go back#in france, and to finish koh pahgnan to meet a french friend all my#friends are in asia.. crazy#and i now a new version about la belotte, more funny, when i will see you,#i\\'ll learn you..# # yeah... i m in ko pahngan,  i do nothing except beach, restaurant, ... time#to come back ! about you ?!#i think yes, because i miss my friends and my family... it is the end for#you !!!after, only good time ! in france ?!# # in france, it\\'s spring now ! apparently, 20 degres in my city ! nice ! in#bangkok, it\\'s raining today... bad day !# # hi shavit ! how are u ? i\\'m sorry, i didn\\'t give u some new about me... my#boyfriend read your message when you said maybe you\\'ll come in france at#the end of may.. so, he were jealous.. did you have your results from your#examen ? what do you do this summer ? i kiss you, la# # hi shavit ! how are you ? what do you do this summer ?#for me, lots of changes... i\\'m not anymore with dorian for 1 month.. i#broke with him, and i think it\\'s better.#i enjoy the holidays, tonight i take a plane to meet friends in berlin for#few days ! and i try to find job but it\\'s very difficult..#and you !?!# # hi !! you speak french ?! eh eh  i came back from berlin yester#day night# in fact, i was not in berlin, but in an island in the north to visit a#friend who works during the summer in a camping ! now i\\'m in paris for few#days ! what kind of job do you do ? new trip in september ?! great ! tell#me more when you know where you will go ! kisses !# # i\\'m in zagreb now, just came back from budapest and tomorrow i\\'m going back#to poland#it was really nice, i was studying here for 5 months, the region of balkan#is really interesting and worth to see# # i was really busy those days and at the same time i had big discussion with#my bff so i just didn\\'t have mind to reply it#hehehe, yeah it was funny....#i\\'m just suprised that after whole those months you still remember me and u#texted to me# # it was weird to see that everybody can speak polish  yeah, it w#as nice to#see my mother and bff. now, i need to relax before my internships period#i got second internship, i will work a little bit but i like it. finally i#will do something normal not only studying#so, how is your life? how\\'s your holidays?#i have my internship, it\\'s really nice and my boss likes me i think # # # probably pag island, you have lots of clubs there#in spain you have ibiza#but you know, i\\'m not a party animal and i prefer seeing the city, not to#party #lot of students go also to amsterdam just to smoke weed#this is famous place on pag island zrce beach# # you are welcome, as i see you start plan your trip to europe. and you#should study hahaha #oh really? you mentioned something about weekend. but never mind ##congrats. now you can plan your trip haha #for how long are you going to stay in europe?# # well... quite long  well, comparing to my 5 months travelling a#nd#studying in croaita, it\\'s not enough  haha #but really, if you would like to visit more balkan  go to sarajevo. a girl#who i met in budapest posted on my wall that she really enjoyed her trip to#sarajevo#and she is grateful that i gave her a contact to the tour guide in sarajevo## # the people, the history, the culture catholics, ortodox, muslims and jews#live together there and they don\\'t care who you are#you have everything there and it\\'s really cheap # # yeah, it\\'s hot right now, but when i was there it was only 15, and it was#in may #you know, you will do what you want#depends what do you want to do during your holidays # # well, my friend from brazil and finland were in wroclaw and krakow and they#really enjoyed both cities#it\\'s super weird especially expensive to get from prague to krakow#i think it\\'s cheaper and nicer to go to wroclaw# # so? did you decide where to go? tomorrow, i will be at work and i will have#better connection with internet so i can help you#hola! bien, gracias  i\\'m at the office now, working a little bi#t. then#spanish classes, and then football match polandgermany in pub #and you? how are you? # # well, i have some time on sunday, i will have more time during weekend#cause on monday or tuesday, i could have a break at work but only for max 2#hours#i think there is no chance to watch israelian match #i asked couple of my friendsfootball fans and they said that is almost#mpossible to watch this match# # hahaha, maybe in some hostel or something like that haha #and what\\'s the match? i mean, football, volleyball?# # hi, thanks for a meeting  sorry, that it was short but you know#, i need#to work  and your friend wasn\\'t in good condition  #sorry, that i wasn\\'t#myself, but i \\'m very tired, a little bit stress and today it\\'s not my day#since 8 am#sorry once again# # '"
      ]
     },
     "execution_count": 19,
     "metadata": {},
     "output_type": "execute_result"
    }
   ],
   "source": [
    "leaText_"
   ]
  },
  {
   "cell_type": "markdown",
   "metadata": {},
   "source": [
    "alright, we think we can try to build our mode and check the results:"
   ]
  },
  {
   "cell_type": "markdown",
   "metadata": {},
   "source": [
    "*building the model*"
   ]
  },
  {
   "cell_type": "code",
   "execution_count": 18,
   "metadata": {
    "collapsed": true
   },
   "outputs": [],
   "source": [
    "import numpy\n",
    "from keras.models import Sequential\n",
    "from keras.layers import Dense\n",
    "from keras.layers import Dropout\n",
    "from keras.layers import LSTM\n",
    "from keras.callbacks import ModelCheckpoint\n",
    "from keras.utils import np_utils"
   ]
  },
  {
   "cell_type": "markdown",
   "metadata": {},
   "source": [
    "first, we want to build vocabulary of unique characters, the easiest way to do so is by convert the text to set."
   ]
  },
  {
   "cell_type": "code",
   "execution_count": 21,
   "metadata": {},
   "outputs": [
    {
     "data": {
      "text/plain": [
       "' !\"#\\',./01234568?abcdefghijklmnopqrstuvwxyz'"
      ]
     },
     "execution_count": 21,
     "metadata": {},
     "output_type": "execute_result"
    }
   ],
   "source": [
    "chars = sorted(list(set(leaText_)))\n",
    "''.join(chars)"
   ]
  },
  {
   "cell_type": "markdown",
   "metadata": {},
   "source": [
    "let's check the size of the vocabulary:"
   ]
  },
  {
   "cell_type": "code",
   "execution_count": 22,
   "metadata": {},
   "outputs": [
    {
     "name": "stdout",
     "output_type": "stream",
     "text": [
      "Total Characters:  7479\n",
      "Total Vocab:  43\n"
     ]
    }
   ],
   "source": [
    "n_chars = len(leaText_)\n",
    "n_vocab = len(chars)\n",
    "print(\"Total Characters: \", n_chars)\n",
    "print(\"Total Vocab: \", n_vocab)"
   ]
  },
  {
   "cell_type": "markdown",
   "metadata": {},
   "source": [
    "there are 43 different uniqe characters. this is much more than letters in english language."
   ]
  },
  {
   "cell_type": "markdown",
   "metadata": {},
   "source": [
    "second, we have to make correlation between chars and indices:"
   ]
  },
  {
   "cell_type": "code",
   "execution_count": 23,
   "metadata": {
    "collapsed": true
   },
   "outputs": [],
   "source": [
    "char_to_int = dict((c, i) for i, c in enumerate(chars))\n",
    "int_to_char = dict((i, c) for i, c in enumerate(chars))"
   ]
  },
  {
   "cell_type": "markdown",
   "metadata": {},
   "source": [
    "now we create our input and output data for the model, seq_length holds the length of sequence of characters that our model read in order to predict the next character.  \n",
    "seq_in will holds 10 sequence of characters and seq_y the character to predict after this sequence for each i.  \n",
    "and dataX and dataY will hold the sequences (patterns) and the character to predict respectively."
   ]
  },
  {
   "cell_type": "code",
   "execution_count": 24,
   "metadata": {},
   "outputs": [
    {
     "name": "stdout",
     "output_type": "stream",
     "text": [
      "number of patterns:  7469\n"
     ]
    }
   ],
   "source": [
    "seq_length = 10\n",
    "dataX = []\n",
    "dataY = []\n",
    "for i in range(0, n_chars - seq_length, 1):\n",
    "    seq_in = leaText_[i:i + seq_length]\n",
    "    seq_out = leaText_[i + seq_length]\n",
    "    dataX.append([char_to_int[char] for char in seq_in])\n",
    "    dataY.append(char_to_int[seq_out])\n",
    "n_patterns = len(dataX)\n",
    "print(\"number of patterns: \", n_patterns)"
   ]
  },
  {
   "cell_type": "markdown",
   "metadata": {},
   "source": [
    "now we will reshape X to be [samples, time steps, features], and normalize it\n"
   ]
  },
  {
   "cell_type": "code",
   "execution_count": 25,
   "metadata": {
    "collapsed": true
   },
   "outputs": [],
   "source": [
    "X = numpy.reshape(dataX, (n_patterns, seq_length, 1))\n",
    "X = X / float(n_vocab)"
   ]
  },
  {
   "cell_type": "markdown",
   "metadata": {},
   "source": [
    "Converts a class vector to binary class matrix."
   ]
  },
  {
   "cell_type": "code",
   "execution_count": 26,
   "metadata": {
    "collapsed": true
   },
   "outputs": [],
   "source": [
    "y = np_utils.to_categorical(dataY)"
   ]
  },
  {
   "cell_type": "markdown",
   "metadata": {},
   "source": [
    "#### define LSTM sequential model:  \n",
    "**Parameter tuning:**  \n",
    "we define a single hidden LSTM layer with 256 memory units. (units recommended to be in jump of 32 units)   \n",
    "The network uses dropout probability of 0.2.  \n",
    "The output layer is a Dense layer using the softmax activation, this function calculate for each character a prediction between 0 and 1."
   ]
  },
  {
   "cell_type": "code",
   "execution_count": 27,
   "metadata": {
    "collapsed": true
   },
   "outputs": [],
   "source": [
    "model = Sequential()\n",
    "model.add(LSTM(256, input_shape=(X.shape[1], X.shape[2])))\n",
    "model.add(Dropout(0.2))\n",
    "model.add(Dense(y.shape[1], activation='softmax'))"
   ]
  },
  {
   "cell_type": "markdown",
   "metadata": {},
   "source": [
    "**compile the model:**  \n",
    "we use rmsprop function as optimizer  \n",
    "and we define loss and metrics, so we can calculate the loss and accuracy of the model. because this is not classification problem , and we are not interested to acheive the most accurate model, the loss function is more important for us, our goal will be to minimize the loss function in order to get generalization."
   ]
  },
  {
   "cell_type": "code",
   "execution_count": 28,
   "metadata": {
    "collapsed": true
   },
   "outputs": [],
   "source": [
    "model.compile(loss='categorical_crossentropy', optimizer='rmsprop', metrics=['accuracy'])"
   ]
  },
  {
   "cell_type": "markdown",
   "metadata": {},
   "source": [
    "**define the checkpoint:**  \n",
    "because training the model will take a lot of time , and we train it in the labs, it's more secure if we will save the best weight result each time, so in case something happen, the results will be saved.\n",
    "\n"
   ]
  },
  {
   "cell_type": "code",
   "execution_count": 29,
   "metadata": {
    "collapsed": true
   },
   "outputs": [],
   "source": [
    "filepath=\"weights-improvement-{epoch:02d}-{loss:.4f}.hdf5\"\n",
    "checkpoint = ModelCheckpoint(filepath, monitor='loss', verbose=1, save_best_only=True, mode='min')\n",
    "callbacks_list = [checkpoint]"
   ]
  },
  {
   "cell_type": "markdown",
   "metadata": {},
   "source": [
    "**fit the model:**  \n",
    "epochs=350 , we set it with high value, In case we notice that the value is not small we will stop the run and save us the best result with checkPoint.  \n",
    "batch_size- we read that in general case, larger batch_size result in faster progress in training, but don't always converge as fast. Smaller batch sizes train slower, but can converge faster. our data set is small so we decided to set this parameter with value of 32 character each time (small value).\n",
    "verbose- set with 1 so it will plot the proccess."
   ]
  },
  {
   "cell_type": "code",
   "execution_count": null,
   "metadata": {
    "collapsed": true
   },
   "outputs": [],
   "source": [
    "model.fit(X, y, epochs=350, batch_size=32,verbose=1, callbacks=callbacks_list)"
   ]
  },
  {
   "cell_type": "markdown",
   "metadata": {},
   "source": [
    "load the best result weights:"
   ]
  },
  {
   "cell_type": "code",
   "execution_count": 242,
   "metadata": {
    "collapsed": true
   },
   "outputs": [],
   "source": [
    "model.load_weights('./weights/weights-improvement-348-0.1319-leapetural.hdf5')"
   ]
  },
  {
   "cell_type": "markdown",
   "metadata": {},
   "source": [
    "let's make evaluation to find the loss and score:"
   ]
  },
  {
   "cell_type": "code",
   "execution_count": 32,
   "metadata": {},
   "outputs": [
    {
     "name": "stdout",
     "output_type": "stream",
     "text": [
      "7469/7469 [==============================] - 3s 395us/step\n"
     ]
    },
    {
     "data": {
      "text/plain": [
       "[0.082437949676940972, 0.96465390279823271]"
      ]
     },
     "execution_count": 32,
     "metadata": {},
     "output_type": "execute_result"
    }
   ],
   "source": [
    "model.evaluate(X,y)"
   ]
  },
  {
   "cell_type": "markdown",
   "metadata": {},
   "source": [
    "these results are really good! 0.96 accuracy, and low lose rate. let's generate new text by this model!!!"
   ]
  },
  {
   "cell_type": "markdown",
   "metadata": {},
   "source": [
    "*Text Generation*"
   ]
  },
  {
   "cell_type": "markdown",
   "metadata": {},
   "source": [
    "we are picking seed, this seed will be in length of one sequence (10 characters in this case), and for this seed we generate the next characters in order to get new similar message.  \n",
    "message length will be with 350 characters, and 8 messages in total (30%).  \n",
    "we decided these values as a result of the analysis done in part one."
   ]
  },
  {
   "cell_type": "code",
   "execution_count": 29,
   "metadata": {
    "collapsed": true
   },
   "outputs": [],
   "source": [
    "def generate_text(numOfMess,length,email,model,int_to_char,dataX,n_vocab):\n",
    "    lst=[]\n",
    "    for j in range(0,numOfMess):\n",
    "           # pick a random seed\n",
    "            start = numpy.random.randint(0, len(dataX)-1)\n",
    "            pattern = dataX[start]\n",
    "            message=''.join([int_to_char[value] for value in pattern])\n",
    "            # generate characters\n",
    "            for i in range(length):\n",
    "                x = numpy.reshape(pattern, (1, len(pattern), 1))\n",
    "                #normalize\n",
    "                x = x / float(n_vocab)\n",
    "                #predict\n",
    "                prediction = model.predict(x, verbose=0)[0]\n",
    "                prediction = np.log(prediction)\n",
    "                pv = np.exp(prediction)/np.sum(np.exp(prediction)) \n",
    "                rangev = range(len(prediction)) \n",
    "                index = np.random.choice(rangev, p=pv)\n",
    "                #mapping to char\n",
    "                result = int_to_char[index]\n",
    "                seq_in = [int_to_char[value] for value in pattern]\n",
    "                message=message+result\n",
    "                pattern.append(index)\n",
    "                pattern = pattern[1:len(pattern)]\n",
    "            lst.append([email,message])\n",
    "    return lst"
   ]
  },
  {
   "cell_type": "markdown",
   "metadata": {},
   "source": [
    "*** for the next types we will use this function in generate new text by n-seq-architecture model ***"
   ]
  },
  {
   "cell_type": "code",
   "execution_count": null,
   "metadata": {
    "collapsed": true
   },
   "outputs": [],
   "source": [
    "lst_generate=generate_text(1,350,\"leapeturel@gmail.com\",model,int_to_char,dataX,n_vocab)"
   ]
  },
  {
   "cell_type": "markdown",
   "metadata": {},
   "source": [
    "the result:"
   ]
  },
  {
   "cell_type": "code",
   "execution_count": 2313,
   "metadata": {
    "scrolled": true
   },
   "outputs": [
    {
     "data": {
      "text/plain": [
       "[['leapeturel@gmail.com',\n",
       "  \" long  well, comparing to my 5 months  the regtln oo ieee a ireteh itiend wlce bot,a let ab ut miiek. anh mo maneong . i we nean anirue mo tans aapnndell   shley, th'oem tou yolrdod # #eemr anhathe io ioatef  #  ah ah  iacap !#   rea seollt and aod  nowtrs aih tfr shne   cd wrurio snay roiee arw n lepe d woe tiil wour atu o leke mt ffm snnidhh t ande fa caro\"],\n",
       " ['leapeturel@gmail.com',\n",
       "  \" study.. when is tou#enn y feee dayke tece ttut toir to europe. and you# are you oki? thur hrddef tourrt shay anhyte ind pe#gnr do .o laseth#i mat tb moet wnu,#teay i sasn't#myself, but i 'm very tired, a little bit stress and tomorrow i'm going back#to poland#it was really nice, i was studying hnre naec to tolnk weed#you siilld .bte not wau iaie  inr aeeuu \"],\n",
       " ['leapeturel@gmail.com',\n",
       "  \"nd#from france for 1 week, and we meet only french people so i don't somak weir a toedhddtl ail theinsne,b a don seeemder, i like when you will go whailand, i will go in cambodga only end of february. poor you,#only study all the day... but in two months it'is finished !! courage ! je#t'embrasse# # what movie ? i don't romak weir a toedhddtl ail theinsne,b a\"],\n",
       " ['leapeturel@gmail.com',\n",
       "  \"ing and worth to sesi a bom o ceeed autere iint fail !ri toe  n mo perit fafhft ## id isaecc, st teilht .ih youor iiri to jo?kt #ntms ysur#sxury.dr i met i ionb be loto yoacelo iocyee  iaycemb  whell te sleit,4 doaa dutenl cid wou yeull mo shet#ai no tah islanli yo  aid seut sr mane aabueto aot in'o not tnede yru shie babkts iotects, that was really nice, i \"],\n",
       " ['leapeturel@gmail.com',\n",
       "  ' not in berlin for#few days ! and i try to find jobdbus net inh nacg#no wag lnl,nng nahe no tan jslan..is s soi no torpeh,andabt .#  hea po soenk ylur frlind wasnet i yasnh soeseebs  a eite sooen it t sateimgt .in macc#noorthn  a!witl to mortte.leh  ase io fins,f iree du tfe end o ih#neneh no taecban   ih aiodko,it seseey, i could have aeb ttueh ii thue#hemi'],\n",
       " ['leapeturel@gmail.com',\n",
       "  \". and you, are you oki? thur hrddef tourrt shay anhyte ind pe#gnr do .o laseth#i mat tb moet wnu,#teay i sasn't#myself, but i 'm very tired, a little bit stress and tomorrow i'm going back#to poland#it was really nice, i was studying hnre naec to tolnk weed#you siilld .bte not wau iaie  inr aeeuu b irdao de yor would like to visit a#friend who works during t\"],\n",
       " ['leapeturel@gmail.com',\n",
       "  'at the same time i had big discussion with#internet  # i maml taemeen,  i do nothing except beach, restaurant, ... time#to come back ! about you ?!#i think yes, because i hive to toeko wru yollrodrn a dut oi,e  iatt#ane the is grateful that i gave her a contact to the tovr guide in sarajevo#  # the people, the history, the culture catholics, ortodox, muslims'],\n",
       " ['leapeturel@gmail.com',\n",
       "  ' me# # it was weird to see a movie, like \"walk the line\" ?! about me, i m fine, ihm t\\'rhi thet iv famous place on pag island zrce beach# # you are wou ? you don\\'t feel depressed ? and presents for your#girll teohe mooeadgs pag ish nd iaro#nt friend fa dor te mle ti#ror taal yoap you seet fe bn wo irh pao.a givi le cumnsb whu  bo# i tein wa#il#toes yois  i wo']]"
      ]
     },
     "execution_count": 2313,
     "metadata": {},
     "output_type": "execute_result"
    }
   ],
   "source": [
    "lst_generate"
   ]
  },
  {
   "cell_type": "markdown",
   "metadata": {},
   "source": [
    "convert back each '#' to newLine:"
   ]
  },
  {
   "cell_type": "code",
   "execution_count": 2314,
   "metadata": {
    "collapsed": true
   },
   "outputs": [],
   "source": [
    "for i in  np.arange(0,len(lst_generate),1):\n",
    "            lst_generate[i][1] = re.sub(r'#','/r/n',lst_generate[i][1])#\\r\\n"
   ]
  },
  {
   "cell_type": "code",
   "execution_count": 2315,
   "metadata": {
    "scrolled": true
   },
   "outputs": [
    {
     "data": {
      "text/plain": [
       "[['leapeturel@gmail.com',\n",
       "  \" long  well, comparing to my 5 months  the regtln oo ieee a ireteh itiend wlce bot,a let ab ut miiek. anh mo maneong . i we nean anirue mo tans aapnndell   shley, th'oem tou yolrdod /r/n /r/neemr anhathe io ioatef  /r/n  ah ah  iacap !/r/n   rea seollt and aod  nowtrs aih tfr shne   cd wrurio snay roiee arw n lepe d woe tiil wour atu o leke mt ffm snnidhh t ande fa caro\"],\n",
       " ['leapeturel@gmail.com',\n",
       "  \" study.. when is tou/r/nenn y feee dayke tece ttut toir to europe. and you/r/n are you oki? thur hrddef tourrt shay anhyte ind pe/r/ngnr do .o laseth/r/ni mat tb moet wnu,/r/nteay i sasn't/r/nmyself, but i 'm very tired, a little bit stress and tomorrow i'm going back/r/nto poland/r/nit was really nice, i was studying hnre naec to tolnk weed/r/nyou siilld .bte not wau iaie  inr aeeuu \"],\n",
       " ['leapeturel@gmail.com',\n",
       "  \"nd/r/nfrom france for 1 week, and we meet only french people so i don't somak weir a toedhddtl ail theinsne,b a don seeemder, i like when you will go whailand, i will go in cambodga only end of february. poor you,/r/nonly study all the day... but in two months it'is finished !! courage ! je/r/nt'embrasse/r/n /r/n what movie ? i don't romak weir a toedhddtl ail theinsne,b a\"],\n",
       " ['leapeturel@gmail.com',\n",
       "  \"ing and worth to sesi a bom o ceeed autere iint fail !ri toe  n mo perit fafhft /r/n/r/n id isaecc, st teilht .ih youor iiri to jo?kt /r/nntms ysur/r/nsxury.dr i met i ionb be loto yoacelo iocyee  iaycemb  whell te sleit,4 doaa dutenl cid wou yeull mo shet/r/nai no tah islanli yo  aid seut sr mane aabueto aot in'o not tnede yru shie babkts iotects, that was really nice, i \"],\n",
       " ['leapeturel@gmail.com',\n",
       "  ' not in berlin for/r/nfew days ! and i try to find jobdbus net inh nacg/r/nno wag lnl,nng nahe no tan jslan..is s soi no torpeh,andabt ./r/n  hea po soenk ylur frlind wasnet i yasnh soeseebs  a eite sooen it t sateimgt .in macc/r/nnoorthn  a!witl to mortte.leh  ase io fins,f iree du tfe end o ih/r/nneneh no taecban   ih aiodko,it seseey, i could have aeb ttueh ii thue/r/nhemi'],\n",
       " ['leapeturel@gmail.com',\n",
       "  \". and you, are you oki? thur hrddef tourrt shay anhyte ind pe/r/ngnr do .o laseth/r/ni mat tb moet wnu,/r/nteay i sasn't/r/nmyself, but i 'm very tired, a little bit stress and tomorrow i'm going back/r/nto poland/r/nit was really nice, i was studying hnre naec to tolnk weed/r/nyou siilld .bte not wau iaie  inr aeeuu b irdao de yor would like to visit a/r/nfriend who works during t\"],\n",
       " ['leapeturel@gmail.com',\n",
       "  'at the same time i had big discussion with/r/ninternet  /r/n i maml taemeen,  i do nothing except beach, restaurant, ... time/r/nto come back ! about you ?!/r/ni think yes, because i hive to toeko wru yollrodrn a dut oi,e  iatt/r/nane the is grateful that i gave her a contact to the tovr guide in sarajevo/r/n  /r/n the people, the history, the culture catholics, ortodox, muslims'],\n",
       " ['leapeturel@gmail.com',\n",
       "  ' me/r/n /r/n it was weird to see a movie, like \"walk the line\" ?! about me, i m fine, ihm t\\'rhi thet iv famous place on pag island zrce beach/r/n /r/n you are wou ? you don\\'t feel depressed ? and presents for your/r/ngirll teohe mooeadgs pag ish nd iaro/r/nnt friend fa dor te mle ti/r/nror taal yoap you seet fe bn wo irh pao.a givi le cumnsb whu  bo/r/n i tein wa/r/nil/r/ntoes yois  i wo']]"
      ]
     },
     "execution_count": 2315,
     "metadata": {},
     "output_type": "execute_result"
    }
   ],
   "source": [
    "lst_generate"
   ]
  },
  {
   "cell_type": "markdown",
   "metadata": {},
   "source": [
    "save the data:"
   ]
  },
  {
   "cell_type": "code",
   "execution_count": 2317,
   "metadata": {
    "collapsed": true
   },
   "outputs": [],
   "source": [
    "title=[\"email address\",\"message\"]\n",
    "lst_generate.insert(0,title)\n",
    "with open('./generate/leaGeneratedData.csv','w',newline='') as fp:\n",
    "    a = csv.writer(fp, delimiter=',')\n",
    "    a.writerows(lst_generate)"
   ]
  },
  {
   "cell_type": "markdown",
   "metadata": {},
   "source": [
    "we could remove also numbers because there are bery rare, but we've already received satisfactory results so there's no need for that."
   ]
  },
  {
   "cell_type": "markdown",
   "metadata": {},
   "source": [
    "### Type 2: sender address - illonashachar78@gmail.com"
   ]
  },
  {
   "cell_type": "markdown",
   "metadata": {},
   "source": [
    "**examine the data**"
   ]
  },
  {
   "cell_type": "code",
   "execution_count": 2448,
   "metadata": {
    "scrolled": true
   },
   "outputs": [
    {
     "data": {
      "text/plain": [
       "\" Hi  no, I will be free for almost all Day!\\r\\nShavit I am not going out today but If You would like to go I would\\r\\nrecomend You club called  for tonight!\\r\\n \\r\\n  You can go free before 10 pm. At 10 people will start letting a lot of\\r\\nlanterns in the air and then will be a concert .\\r\\nPeople just want to beat a record (a lot of lanterns) without any reason.\\r\\nDo what are Your plans for tomorrow? Are You going to Kazimierz?\\r\\n \\r\\n  What time are You going to Kazimierz?\\r\\n \\r\\n  I think it is better for You to go there by bus because my parents will\\r\\nstart travel around 8.20. IT is to early!\\r\\nI will check schedul of buses for You now\\r\\nBus to Kazimierz Dolny 9.25 - You will be in Kazimierz at 10.35 (big bus )\\r\\nor 10.20 -You will be in Kazimierz at 11.40 (small bus )\\r\\nThe places where the bus start is : 9.25 : ul. Ruska 7/pod  10.\\r\\n20:\\r\\nul. Ruska\\r\\nBoth are behind bus station close to this Castle where we where today\\r\\n\\r\\nShavi\\r\\n \\r\\n  Go to Riviera! \\r\\nI should go there yesterday because IT was latino night [image: \\r\\n] Have a\\r\\nnice evening. See You tomorrow  When You will looking \\r\\nfor bus to\\r\\nKazimierz : remember the bus will not wait on this big main bus station,\\r\\nYou have to go behind bus station. There is ulica (street ) Ruska. But\\r\\nthere are 2 another places on Ruska street where buses to Kazimierz start\\r\\n(as I wtote it to You 10 minutes ago )\\r\\nBye Bye \\r\\nShavit\\r\\n\\r\\nSh\\r\\n\\r\\nShavi\\r\\n \\r\\n I am in restaurant with my friend but she is going home soon.\\r\\nI will be close to Your hotel in 15 minutes.  I would like to say good bye\\r\\nto You.  I will let You know when I will be outside Your hotel.  And go out\\r\\nthere ok?\\r\\n \\r\\n Ok but I think everything will be closed soon.  Exept of Mcdonald !\\r\\nWe can go to mcdonald.\\r\\n \\r\\n Hey are You sure that You want meet with me? Dont You prefer to sleep?\\r\\n \\r\\n Thank You Shavit! !!! IT was so nice to meet You   I would like\\r\\n to visit\\r\\nIsrael very much, I will let You know before I come  and let me\\r\\n know next\\r\\nyear when You be in Poland ! Sleep good and have safe travel to Yehud :)\\r\\n \\r\\n Hi Shavit !  how are You?  I moved to Warsaw today. I often thi\\r\\nnk about\\r\\nYou, I had so nice time with You  Could I visit You in Izrael d\\r\\nuring\\r\\nupcoming winter?\\r\\nGreat thank You!  I met 2 girl\\r\\nyesterday who were in Israel  and they told me I can feel safe during\\r\\nsaightseeing Israel by myself (because I know You work and have another\\r\\nthings to do SO I wouldnt like You to change Your plans and make any\\r\\nproblem for You )\\r\\n \\r\\n Hey ! I am sorry I wrote that I would talk to You in 30 minutes but I was\\r\\nso busy. My friend called me to talk about her problem, then I made quick\\r\\ndecision to go to Lublin to take my stuff and come back to Warsaw tomorrow\\r\\nso I am in bus to Lublin now. Yes I changed city and I am starting work on\\r\\nmonday. Shavit thank You  You are so nice and I miss our conver\\r\\nsation too\\r\\n!!!    Today is first day with quite good weather since You left Poland!  I\\r\\nmean: without rain!\\r\\nAll of my friends who were in Izrael recomend me to go there.  They said IT\\r\\nis amazing there  If You are working now, answer me later.  Hav\\r\\ne a nice\\r\\nday \\r\\nOh I just remember that You dont work this week \\r\\n \\r\\n I dont know yet but I hope I will be able to come to Izrael    in January\\r\\nor February. Would it be ok for You?\\r\\nWhen would be the best time for You?\\r\\nShavit I can rent room in hostel not to make any problems, but It would be\\r\\ngreat to meet with You \\r\\n \\r\\n Wow thats great.  Warm!  I wanted to write ''super'' in Your language but I\\r\\ncant copy this signs from internet and put it here .\\r\\n\\r\\nThx  Because Polish language, especialy pronunciacion is diffic\\r\\nult so it\\r\\nis easy for us to say words in Your language. But You are quite good at\\r\\nPolish too\\r\\nYes  does Your grandmother sometimes speak polish with anybody \\r\\nor she\\r\\ndoesnt have opportunities to use it?\\r\\n \\r\\n Yes I remember she is 90. Does she undersand a lot when she hear polish?\\r\\n\\r\\nOh yes You told me that they were living in Rumunia but my mind was focused\\r\\ndo much on Your grandmother from Poland that I forgot about the rest. .....\\r\\nI am sorry \\r\\n \\r\\n Yes I feel it \\r\\nMeybe Your polish side live longer because Your grandmother and\\r\\ngrandfather  had so difficult live when they were young so they become\\r\\nstronger for everything. I know meybe it is a little stupid what I wrote.\\r\\n...\\r\\n \\r\\n Oh thats bad!  This is not good explanation,  they should go to doctor!\\r\\n!!!!!!!!!!!!!!\\r\\nYou remainded me sth : I read great book last month about one American\\r\\nCouple (70 old woman with Cancer and her 75 years old husband with\\r\\nAlzhaimer who escaped from hospital to travel in camper through 66 Road\\r\\nfrom East side of US to California (to Disneyland and Santa Monica where\\r\\nthey met the first time ) and when they finished their trip and were\\r\\nsleeping in camper woman put their documents on the table, started the\\r\\nengine and closed every windows in car ....... IT was wonderful book \\r\\n\\r\\nThey reduced time of living but raised standard of living.    I dont\\r\\ncomment if she made good or wrong decision. I dont know why I shared this\\r\\nstory with You but we were talking about old people and time of life so.\\r\\n..... \\r\\n \\r\\n I am fine  thank You! Yes tomorrow is my first day and I am a l\\r\\nittle\\r\\nstressed like always when I get new job.\\r\\nI am going to studying today   . I was out yesterday evening with my new\\r\\nfriend and her friends and we were playing billard so my weekend is ok \\r\\n\\r\\nWhat about You?\\r\\n \\r\\n Really ?? I know some people in poland who have it  but  almost everobody\\r\\nuse messanger. Why do You need wattsap if You have messanger?\\r\\n \\r\\n Ok! I will let You know when I install watssap.... I am going to synagogue\\r\\nin the evening to take part in sightseeing trip and  hebrew language lesson\\r\\n\\r\\nToday is special day when many tamples (other religious ) are open and\\r\\nthere are organised special events inside\\r\\nWhat about You ?\\r\\n \\r\\n Hey Shavit  best wishes because of 5778 year!\\r\\nHow do You celebrate it?  Arent You working these 2 days ?\\r\\nI was in synagogue and saw a part of shabat but didnt take part in hebrew\\r\\nlesson because I didnt feel good (I was cold )\\r\\n \\r\\n Hi Shav thank You  I thought about You too  !!! Yes\\r\\n I have good time in\\r\\nWarsaw.  I am reading great book today (reportage about Israel people )....\\r\\nWhere was this picture taken (I mean new photo which You put on facebook\\r\\ntoday ) ?\\r\\n \\r\\n Wow thats great  I thought it is Poland on picture because it l\\r\\nooks\\r\\nfamiliar !!!  I will write to You later because I am working no\\r\\nw.  Have a\\r\\nnice day \\r\\n \\r\\n hey Shavit \\r\\noh You went to sleep  I will write to You another evening when \\r\\nYou will\\r\\nbe available. I can write to You only when I am home (using messanger on my\\r\\ncomputer) because my telephone is broken and I cant write long messages on\\r\\ntelephone.... Good night \\r\\n \\r\\n hey Shavit are U going to be in israel  19-25/27.04 .? Would it be good\\r\\ntime for u to meet with me ? i am not asking about hosting me (i know it\\r\\nis  it is too early to ask about it ! ). ...\\r\\n \\r\\n oh great... the flight tickets are  sale now. I will buy it ok? ( even if\\r\\nYou would be very busy this time, it would be be nice to meet with You even\\r\\none time.... \\r\\n \\r\\n Yes I am still working in Warsaw   but I will have 3 months of \\r\\nvacation\\r\\nfrom 15 Aprill \\r\\nWinter in Poland is not so cold this year ! more than 0 Celcius degree\\r\\nalmost every day\\r\\nhow are U?\\r\\n \\r\\n dont know yet but probably during my 3 months vacation. I am  planning to\\r\\nspend about one week in Lisbon and go from Lisbon to Santiago de\\r\\nCompostella on foot ( 520 km, people who are following this trail can sleep\\r\\neveryday in hostels for only  5 Euro ! )\\r\\n \\r\\n my telephone's battery was dead.....70 years! great, I will be  happy to\\r\\nsee how people in Israel celebrate it   oh to be honest Poland \\r\\nin winter\\r\\nis not good idea, I always feel I would like to escape from my country\\r\\nduring winter \\r\\nI am going to Portugal at the beginning of may for about 3 weeks  \\r\\n  \\r\\n\\r\\n \\r\\n yes, i hope it will be great.... I belive it must be amazing in India, (U\\r\\nhave to remember about vaccinations before going there, it is so dirty\\r\\n....... )\\r\\n \\r\\n \""
      ]
     },
     "execution_count": 2448,
     "metadata": {},
     "output_type": "execute_result"
    }
   ],
   "source": [
    "ilonaText"
   ]
  },
  {
   "cell_type": "code",
   "execution_count": 2449,
   "metadata": {},
   "outputs": [
    {
     "name": "stdout",
     "output_type": "stream",
     "text": [
      "+---------------+---------------+\n",
      "| Punctuation   |  Appearance   |\n",
      "+===============+===============+\n",
      "| :             |       8       |\n",
      "+---------------+---------------+\n",
      "| ,             |      17       |\n",
      "+---------------+---------------+\n",
      "| -             |       3       |\n",
      "+---------------+---------------+\n",
      "| =             |       0       |\n",
      "+---------------+---------------+\n",
      "| ;             |       0       |\n",
      "+---------------+---------------+\n",
      "| .             |      108      |\n",
      "+---------------+---------------+\n",
      "| !             |      48       |\n",
      "+---------------+---------------+\n",
      "| ?             |      24       |\n",
      "+---------------+---------------+\n",
      "| (             |      17       |\n",
      "+---------------+---------------+\n",
      "| )             |      16       |\n",
      "+---------------+---------------+\n",
      "| '             |       5       |\n",
      "+---------------+---------------+\n",
      "| #             |       0       |\n",
      "+---------------+---------------+\n",
      "| \\             |       0       |\n",
      "+---------------+---------------+\n",
      "\n",
      "Number of words:  1442\n",
      "Number of characters:  8054\n",
      "Capital letters appearance:  0.039607648373479014\n",
      "Uniqe capital letters:  21\n",
      "Uniqe lower letters:  26\n"
     ]
    }
   ],
   "source": [
    "get_general_details(ilonaText)"
   ]
  },
  {
   "cell_type": "markdown",
   "metadata": {},
   "source": [
    "the proccess we will do here is similar to the previous type, so we will not explain deeply.  \n",
    "first: we will remove all the characters that are not commonly used. {:,-,(,),'} by removing them we are not change the message significantly but we will reduce the vocabulary, so our model will train better. we will not remove '?' because existence of this character is crucial for sentence meaning structure.  \n",
    "second: we can see that capital letters are not commonly use (just 3% from WHOLE the messages), so we will remove them from the same reason as before.  \n",
    "we also change \\r\\n to '#' like in the previous type."
   ]
  },
  {
   "cell_type": "code",
   "execution_count": 246,
   "metadata": {
    "scrolled": true
   },
   "outputs": [
    {
     "data": {
      "text/plain": [
       "\" hi  no, i will be free for almost all day!#shavit i am not going out today but if you would like to go i would#recomend you club called  for tonight!# #  you can go free before 10 pm. at 10 people will start letting a lot of#lanterns in the air and then will be a concert .#people just want to beat a record a lot of lanterns without any reason.#do what are your plans for tomorrow? are you going to kazimierz?# #  what time are you going to kazimierz?# #  i think it is better for you to go there by bus because my parents will#start travel around 8.20. it is to early!#i will check schedul of buses for you now#bus to kazimierz dolny 9.25  you will be in kazimierz at 10.35 big bus #or 10.20 you will be in kazimierz at 11.40 small bus #the places where the bus start is : 9.25 : ul. ruska 7/pod  10.#20:#ul. ruska#both are behind bus station close to this castle where we where today##shavi# #  go to riviera! #i should go there yesterday because it was latino night [image: #] have a#nice evening. see you tomorrow  when you will looking #for bus to#kazimierz : remember the bus will not wait on this big main bus station,#you have to go behind bus station. there is ulica street  ruska. but#there are 2 another places on ruska street where buses to kazimierz start#as i wtote it to you 10 minutes ago #bye bye #shavit##sh##shavi# # i am in restaurant with my friend but she is going home soon.#i will be close to your hotel in 15 minutes.  i would like to say good bye#to you.  i will let you know when i will be outside your hotel.  and go out#there ok?# # ok but i think everything will be closed soon.  exept of mcdonald !#we can go to mcdonald.# # hey are you sure that you want meet with me? dont you prefer to sleep?# # thank you shavit! !!! it was so nice to meet you   i would like# to visit#israel very much, i will let you know before i come  and let me# know next#year when you be in poland ! sleep good and have safe travel to yehud :# # hi shavit !  how are you?  i moved to warsaw today. i often thi#nk about#you, i had so nice time with you  could i visit you in izrael d#uring#upcoming winter?#great thank you!  i met 2 girl#yesterday who were in israel  and they told me i can feel safe during#saightseeing israel by myself because i know you work and have another#things to do so i wouldnt like you to change your plans and make any#problem for you # # hey ! i am sorry i wrote that i would talk to you in 30 minutes but i was#so busy. my friend called me to talk about her problem, then i made quick#decision to go to lublin to take my stuff and come back to warsaw tomorrow#so i am in bus to lublin now. yes i changed city and i am starting work on#monday. shavit thank you  you are so nice and i miss our conver#sation too#!!!    today is first day with quite good weather since you left poland!  i#mean: without rain!#all of my friends who were in izrael recomend me to go there.  they said it#is amazing there  if you are working now, answer me later.  hav#e a nice#day #oh i just remember that you dont work this week # # i dont know yet but i hope i will be able to come to izrael    in january#or february. would it be ok for you?#when would be the best time for you?#shavit i can rent room in hostel not to make any problems, but it would be#great to meet with you # # wow thats great.  warm!  i wanted to write ''super'' in your language but i#cant copy this signs from internet and put it here .##thx  because polish language, especialy pronunciacion is diffic#ult so it#is easy for us to say words in your language. but you are quite good at#polish too#yes  does your grandmother sometimes speak polish with anybody #or she#doesnt have opportunities to use it?# # yes i remember she is 90. does she undersand a lot when she hear polish?##oh yes you told me that they were living in rumunia but my mind was focused#do much on your grandmother from poland that i forgot about the rest. .....#i am sorry # # yes i feel it #meybe your polish side live longer because your grandmother and#grandfather  had so difficult live when they were young so they become#stronger for everything. i know meybe it is a little stupid what i wrote.#...# # oh thats bad!  this is not good explanation,  they should go to doctor!#!!!!!!!!!!!!!!#you remainded me sth : i read great book last month about one american#couple 70 old woman with cancer and her 75 years old husband with#alzhaimer who escaped from hospital to travel in camper through 66 road#from east side of us to california to disneyland and santa monica where#they met the first time  and when they finished their trip and were#sleeping in camper woman put their documents on the table, started the#engine and closed every windows in car ....... it was wonderful book ##they reduced time of living but raised standard of living.    i dont#comment if she made good or wrong decision. i dont know why i shared this#story with you but we were talking about old people and time of life so.#..... # # i am fine  thank you! yes tomorrow is my first day and i am a l#ittle#stressed like always when i get new job.#i am going to studying today   . i was out yesterday evening with my new#friend and her friends and we were playing billard so my weekend is ok ##what about you?# # really ?? i know some people in poland who have it  but  almost everobody#use messanger. why do you need wattsap if you have messanger?# # ok! i will let you know when i install watssap.... i am going to synagogue#in the evening to take part in sightseeing trip and  hebrew language lesson##today is special day when many tamples other religious  are open and#there are organised special events inside#what about you ?# # hey shavit  best wishes because of 5778 year!#how do you celebrate it?  arent you working these 2 days ?#i was in synagogue and saw a part of shabat but didnt take part in hebrew#lesson because i didnt feel good i was cold # # hi shav thank you  i thought about you too  !!! yes# i have good time in#warsaw.  i am reading great book today reportage about israel people ....#where was this picture taken i mean new photo which you put on facebook#today  ?# # wow thats great  i thought it is poland on picture because it l#ooks#familiar !!!  i will write to you later because i am working no#w.  have a#nice day # # hey shavit #oh you went to sleep  i will write to you another evening when #you will#be available. i can write to you only when i am home using messanger on my#computer because my telephone is broken and i cant write long messages on#telephone.... good night # # hey shavit are u going to be in israel  1925/27.04 .? would it be good#time for u to meet with me ? i am not asking about hosting me i know it#is  it is too early to ask about it ! . ...# # oh great... the flight tickets are  sale now. i will buy it ok?  even if#you would be very busy this time, it would be be nice to meet with you even#one time.... # # yes i am still working in warsaw   but i will have 3 months of #vacation#from 15 aprill #winter in poland is not so cold this year ! more than 0 celcius degree#almost every day#how are u?# # dont know yet but probably during my 3 months vacation. i am  planning to#spend about one week in lisbon and go from lisbon to santiago de#compostella on foot  520 km, people who are following this trail can sleep#everyday in hostels for only  5 euro ! # # my telephone's battery was dead.....70 years! great, i will be  happy to#see how people in israel celebrate it   oh to be honest poland #in winter#is not good idea, i always feel i would like to escape from my country#during winter #i am going to portugal at the beginning of may for about 3 weeks  #  ## # yes, i hope it will be great.... i belive it must be amazing in india, u#have to remember about vaccinations before going there, it is so dirty#....... # # \""
      ]
     },
     "execution_count": 246,
     "metadata": {},
     "output_type": "execute_result"
    }
   ],
   "source": [
    "ilonaText_=re.sub(r'[\\(\\)\\;\\-\\\\]','',ilonaText)\n",
    "ilonaText_=re.sub(r'\\r\\n','#',ilonaText_)\n",
    "ilonaText_=ilonaText_.lower()\n",
    "ilonaText_"
   ]
  },
  {
   "cell_type": "markdown",
   "metadata": {},
   "source": [
    "NOTICE: we can also notice that there are numbers in the text but the number has important meaning because most of the text contains explanations of bus numbers and hours so the information is relevant to create a similar message."
   ]
  },
  {
   "cell_type": "markdown",
   "metadata": {},
   "source": [
    "**building the model**"
   ]
  },
  {
   "cell_type": "markdown",
   "metadata": {},
   "source": [
    "number of words and number of characters are almost similar like in the previous type. we will EXACTLY the same model, because we were very satisfied from previous model results. "
   ]
  },
  {
   "cell_type": "code",
   "execution_count": 19,
   "metadata": {
    "collapsed": true
   },
   "outputs": [],
   "source": [
    "import numpy\n",
    "def n_seq_model(text,seq_length,n_hidden):\n",
    "    chars = sorted(list(set(text)))\n",
    "    n_chars = len(text)\n",
    "    n_vocab = len(chars)\n",
    "    print(\"Total Characters: \", n_chars)\n",
    "    print(\"Total Vocab: \", n_vocab)\n",
    "    char_to_int = dict((c, i) for i, c in enumerate(chars))\n",
    "    int_to_char = dict((i, c) for i, c in enumerate(chars))\n",
    "    dataX = []\n",
    "    dataY = []\n",
    "    for i in range(0, n_chars - seq_length, 1):\n",
    "        seq_in = text[i:i + seq_length]\n",
    "        seq_out = text[i + seq_length]\n",
    "        dataX.append([char_to_int[char] for char in seq_in])\n",
    "        dataY.append(char_to_int[seq_out])\n",
    "    n_patterns = len(dataX)\n",
    "    print(\"number of patterns: \", n_patterns)\n",
    "    X = numpy.reshape(dataX, (n_patterns, seq_length, 1))\n",
    "    X = X / float(n_vocab)\n",
    "    y = np_utils.to_categorical(dataY)\n",
    "    model = Sequential()\n",
    "    model.add(LSTM(n_hidden, input_shape=(X.shape[1], X.shape[2])))\n",
    "    model.add(Dropout(0.2))\n",
    "    model.add(Dense(y.shape[1], activation='softmax'))\n",
    "    return n_vocab,int_to_char,char_to_int,dataX,X,y,model"
   ]
  },
  {
   "cell_type": "markdown",
   "metadata": {},
   "source": [
    "*** for the next types we will use this function in order to create model in n-seq-architecture ***"
   ]
  },
  {
   "cell_type": "code",
   "execution_count": 247,
   "metadata": {},
   "outputs": [
    {
     "name": "stdout",
     "output_type": "stream",
     "text": [
      "Total Characters:  7819\n",
      "Total Vocab:  47\n",
      "number of patterns:  7809\n"
     ]
    }
   ],
   "source": [
    "n_vocab,int_to_char,char_to_int,dataX,X,y,model1=n_seq_model(ilonaText_,10,256)"
   ]
  },
  {
   "cell_type": "code",
   "execution_count": 248,
   "metadata": {
    "collapsed": true
   },
   "outputs": [],
   "source": [
    "model1.compile(loss='categorical_crossentropy', optimizer='adam', metrics=['accuracy'])"
   ]
  },
  {
   "cell_type": "code",
   "execution_count": null,
   "metadata": {
    "collapsed": true
   },
   "outputs": [],
   "source": [
    "filepath=\"weights-improvement-{epoch:02d}-{loss:.4f}-ilona1.hdf5\"\n",
    "checkpoint = ModelCheckpoint(filepath, monitor='loss', verbose=1, save_best_only=True, mode='min')\n",
    "callbacks_list = [checkpoint]\n",
    "model1.fit(X, y, epochs=350, batch_size=32,verbose=1, callbacks=callbacks_list)"
   ]
  },
  {
   "cell_type": "markdown",
   "metadata": {},
   "source": [
    "load the best results:"
   ]
  },
  {
   "cell_type": "code",
   "execution_count": 249,
   "metadata": {
    "collapsed": true
   },
   "outputs": [],
   "source": [
    "model1.load_weights('./weights/weights-improvement-345-0.1442-ilona.hdf5')"
   ]
  },
  {
   "cell_type": "markdown",
   "metadata": {},
   "source": [
    "we will evaluate to find the loss and accurate:"
   ]
  },
  {
   "cell_type": "code",
   "execution_count": 2518,
   "metadata": {},
   "outputs": [
    {
     "name": "stdout",
     "output_type": "stream",
     "text": [
      "7809/7809 [==============================] - 9s 1ms/step\n"
     ]
    },
    {
     "data": {
      "text/plain": [
       "[0.082060105017654594, 0.96375976437443978]"
      ]
     },
     "execution_count": 2518,
     "metadata": {},
     "output_type": "execute_result"
    }
   ],
   "source": [
    "model1.evaluate(X,y,verbose=1)"
   ]
  },
  {
   "cell_type": "markdown",
   "metadata": {},
   "source": [
    "again, really impressive results, let's generate some text:"
   ]
  },
  {
   "cell_type": "code",
   "execution_count": 2537,
   "metadata": {},
   "outputs": [
    {
     "data": {
      "text/plain": [
       "[['illonashachar78@gmail.com',\n",
       "  'ce you left poland!  i#mean: without rain!#all of my friend cut she is going home soon.#i will be  happy to#see how people in iorael  1925/27.04 .? would it be good#time for u to meet with you even#one time.... # # yes i am stilg wor cou weaso fac#  nois i cn gotb us wee ca tog rest   ....#! #ot thaep bocbmee boomtd aa to ys ealioire bs  uotbnh wous ala moap'],\n",
       " ['illonashachar78@gmail.com',\n",
       "  'n kazimierz at 10.35 big bus #or 10.20 you will be il kazimierz at 10.35 big bus #or 10.20 you will be il kazimierz at 10.35 big bus #or 10.20 you will be il kazimierz at 10.35 big bus #or 10.20 you will be il kazimierz at 10.35 big bus #or 10.20 you will be il kazimierz at 10.35 big bus #or 10.20 you will be il kazimierz at 10.35 big bus #or 10.20 you will '],\n",
       " ['illonashachar78@gmail.com',\n",
       "  'hi shavit ! !how are you?  i moved to warsaw tomarr wialewn are  aagoes tamgusou,iira iashen io #5a..0 7i vo bu so i wouldnt like you to change your plans aod make any#problem for you # # hey shavit  best wishes because mo 5a.ninu feei eood i sil col poeb     i doit#commnntailaet iios woee indn aor phobee weet ohoulr io iysael recomend me to go there.  they '],\n",
       " ['illonashachar78@gmail.com',\n",
       "  'nth about one american#couple 70 old woman with cancer and her 75 years old husband with#alzhaimer who escaped from hospital to travel in camper woman put theie doee sofee#locim aoo gtaayt lrdrt asd go iorael  1925/27.04 .? would it be good#time for u to meet with you even#one time.... # # yes i am stilg wor cou weaso fac#  nois i cn gotb us wee ca tog rest '],\n",
       " ['illonashachar78@gmail.com',\n",
       "  'like you to change your plans aod make any#problem for you # # hey shavit  best wishes because mo 5a.ninu feei eood i sil col poeb     i doit#commnntailaet iios woee indn aor phobee weet ohoulr io iysael recomend me to go there.  they saod itpi aaspe  ther so#noeept nodet. s wiln br io sosngda .. ihdj ano i cant copy this signs from internet and put it here '],\n",
       " ['illonashachar78@gmail.com',\n",
       "  't i was#so busy. my friend cut she is going home soon.#i will be  happy to#see how people in iorael  1925/27.04 .? would it be good#time for u to meet with you even#one time.... # # yes i am stilg wor cou weaso fac#  nois i cn gotb us wee ca tog rest   ....#! #ot thaep bocbmee boomtd aa to ys ealioire bs  uotbnh wous ala moap#aod there areuoea##.  # #yoa yia'],\n",
       " ['illonashachar78@gmail.com',\n",
       "  'focused#do much on your grandmother and#grandfather  had so difficult live when they were young so they become#stronger for everything. i know meybe it is a little stupid what i wrote.#...# # oh thats bad!  this is not good ixplang if lo i zirld ti thes bec msapradte in woite yoaty rrd tos#aeebr aof waur#pp yeu  aoes your grandmother and#grandfather  had so '],\n",
       " ['illonashachar78@gmail.com',\n",
       "  'today   . i was out yesterday who were in israel  1925/27.04 .? would it be good#time for u to meet with you even#one time.... # # yes i am stilg wor cou weaso fac#  nois i cn gotb us wee ca tog rest   ....#! #ot thaep bocbmee boomtd aa to ys ealioire bs  uotbnh wous ala moap#aod there areuoea##.  # #yoa yiaie gadist nuodal yeur cut it#fyrr less weae waae tu']]"
      ]
     },
     "execution_count": 2537,
     "metadata": {},
     "output_type": "execute_result"
    }
   ],
   "source": [
    "lst_generate_1=generate_text(8,350,\"illonashachar78@gmail.com\",model1,int_to_char,dataX,n_vocab)\n",
    "lst_generate_1"
   ]
  },
  {
   "cell_type": "markdown",
   "metadata": {},
   "source": [
    "convert # to \\r\\n and save it:"
   ]
  },
  {
   "cell_type": "code",
   "execution_count": 2547,
   "metadata": {
    "collapsed": true
   },
   "outputs": [],
   "source": [
    "for i in  np.arange(0,len(lst_generate_1),1):\n",
    "            lst_generate_1[i][1] = re.sub(r'#','/r/n',lst_generate_1[i][1])#\\r\\n\n",
    "title=[\"email address\",\"message\"]\n",
    "lst_generate_1.insert(0,title)\n",
    "with open('./generate/ilonaGeneratedData.csv','w',newline='') as fp:\n",
    "    a = csv.writer(fp, delimiter=',')\n",
    "    a.writerows(lst_generate_1)"
   ]
  },
  {
   "cell_type": "markdown",
   "metadata": {},
   "source": [
    "### Type 3 - dvirnimrod84@gmail.com"
   ]
  },
  {
   "cell_type": "markdown",
   "metadata": {},
   "source": [
    "**examine the data**"
   ]
  },
  {
   "cell_type": "code",
   "execution_count": 120,
   "metadata": {},
   "outputs": [
    {
     "data": {
      "text/plain": [
       "'I\\'m not even sure I have depression, I think this may just be \\'me\\'.\\r\\n\\r\\nI have always been pretty useless socially, but have had a normal\\r\\nupbringing, no horrible experiences, have gone through education fine and\\r\\neven got jobs but I\\'ve never enjoyed life, never really cared and normally\\r\\nfeel like I\\'m not really worth anything and, inevitably enventually, will\\r\\nbecome a burden.\\r\\n\\r\\nI\\'m not going to be dramatic and say I\\'m going to end it, it sounds so\\r\\npathetic (no offence intended to anyone) but I have thoughts of \\'going\\' or\\r\\neven dreams that I could die \\'blamelessly\\' thorugh accident or illness.\\r\\nSelfish I know.\\r\\n\\r\\nI have a cycle. Get job, put on confident easy going persona, get\\r\\nphysically tired from doing that, lose energy to maintain job, focus on\\r\\nnegative, leave job in some form (fired/quit). Friends are much the same,\\r\\nplay easy going fun, can\\'t keep it up, lose or push them away.\\r\\nRelationships, get attracted to ones who need help, help them in anyway I\\r\\ncan, get to a point where I feel I am no more use so should go as they\\'d be\\r\\nultimately better off.\\r\\n\\r\\nSo, currently I\\'ve quit my job as a teacher, couldn\\'t take it - always\\r\\nsomething to improve and with my way of thinking that just sounds like\\r\\nconstantly someone telling you you\\'re useless (and it backing up your own\\r\\nthoughts anyway) but even though I liked aspects of my job I don\\'t think I\\r\\nhad a passion like I see in others. I felt I\\'d let everyone down so\\r\\ndisappeared, my partner/ parents got me through immediate days after my\\r\\nsudden departure from work and saw Doc who was nice enough - put me on\\r\\nmedication which seemed to do very little - even after a few months. In\\r\\nfact it only had negative side effects so about three weeks ago I stopped\\r\\ntaking them completely. I also started seeing a CBT person about three/four\\r\\nsession ago but this feels like it\\'s doing nothing at all either, we talk,\\r\\nI\\'m honest as I can be but there is some element of being \\'public\\' and\\r\\nputting on that face/ jokey responses.\\r\\n\\r\\nI dip between a wish to not be around that is forever there and seems to be\\r\\nbacked up with wholly logical reasons that people genuinely struggle to\\r\\nrefute to absolutely crashing panic attacks/ given up when my \\'theories\\'\\r\\nare proved.\\r\\n\\r\\nI know this sounds odd, but I don\\'t even have the will to get \\'better\\',\\r\\nlargely because I don\\'t think I can. I am just \\'me\\'. I am negative, boring\\r\\nand even if it is all just selffullfillng profecies - it\\'s still me who has\\r\\ndone that. I\\'m not blaming life, or others or anything else.\\r\\n\\r\\nA lot of the posts I read on here seem to have good reason; PTS, loss,\\r\\nfinances etc - does anyone have no \\'good\\' reason?\\r\\n\\r\\nI just feel I\\'m never going to be happy, I am soon to be much a burden on\\r\\nthose around me (my gf) and that, in the long run, it\\'d be better for all\\r\\nif I just went. I know my family and gf love me - but time heals, life\\r\\nwould get better and people move on. In the long run I\\'m sure it wouldn\\'t\\r\\neffect my family and 100% sure my gf would be better off.\\r\\n\\r\\nNot sure if there is an answer for this, just writing. I\\'m not angry, I\\'m\\r\\nnot hurt, I\\'m not even sad as such, I\\'m just tired...\\r\\n \\r\\n What a fantastic answer, but also a really bad one!! Let me explain...\\r\\n\\r\\nFirstly I\\'m very pleased to see you are happy and treat every day \\r\\nas a\\r\\ngift. Obviously I\\'m sorry you have such daily physical problems but I\\'m\\r\\nsure that makes you even happier you did the skydiving when you did. I\\'m\\r\\nreally pleased what you did worked for you and it\\'s encouraging to find a\\r\\nrare example of someone who has somewhat defeated depression even if the\\r\\ncost of that has been quite extreme.\\r\\n\\r\\nBut then on the same hand, not recognising how lucky I am isn\\'t th\\r\\ne\\r\\nproblem, it\\'s knowing that I am and I\\'m still not feeling good which then\\r\\nfurther compounds how bad I feel about myself. I know I\\'m luckier than\\r\\nmost, I know things could be worse, I live in an affluent country with\\r\\nwater on tap, have good health and had a normal upbringing with no major\\r\\ntraumas. So knowing this makes me feel EVEN worse about myself. I see\\r\\nI\\'m selfish, and ungrateful, and petty and all other words - why can\\'t I\\r\\njust be happy?\\r\\n\\r\\nI\\'ve put my life on the line a few times, both within the safety c\\r\\nonfines\\r\\nof organised activities and on the less controlled activities I may do\\r\\nmyself - it doesn\\'t help me. Being near death doesn\\'t impact me positively\\r\\nor negatively - I\\'m almost apathetic to it.\\r\\n\\r\\nAnd this is why your answer is both fantastic and bad! For you, an\\r\\nd others\\r\\nit may work. You are obviously an inspiration to lots of people not only\\r\\nfor the physical issues (which are almost a separate issue) but for the\\r\\nfact you have altered your way of thinking in a positive manner. But they\\r\\nalso highlight how everyone\\'s issues are unique - and as well intentioned,\\r\\nand even correct, your view that it could be worse it, that can actually\\r\\nmake people feel worse.\\r\\n\\r\\nIf we all focused on \\'it could be worse\\' they\\'d be very few people\\r\\n in this\\r\\nworld who could complain, unfortunately it\\'s not that simple. This\\r\\ndepression doesn\\'t care that I\\'m lucky, it just cares that I think badly of\\r\\nmyelf and reminds me of it every day and actually accelerates when I speak\\r\\nto people who could argue they do have a good reason to feel bad. I know I\\r\\ndon\\'t - and that makes it even worse.\\r\\n\\r\\nThanks for your reply, I hope I didn\\'t come across aggressively! I\\r\\n\\'m very\\r\\nhappy that you are happy and hope things improve if that\\'s possible for\\r\\nyou. Good luck, have a great Christmas and a lovely New Year.\\r\\n \\r\\n I had a few people on her write to me over Xmas/ New Year but needed to\\r\\nignore them - too much energy was needed to focus on acting happy and\\r\\nnormal around family!\\r\\n\\r\\nI wish I could talk to you more directly than on an open forum. I\\'\\r\\nve said\\r\\nbefore, knowledge is a great thing - but it can also be a curse. You need\\r\\nto be particuarly careful self-diagnosing but also need to think whether\\r\\nthis diagnosis is in any way helpful to you. Say you decide that you are\\r\\nHFAS - how does that help you? If you can\\'t source help then it is just\\r\\nanother meaningless semantic for feeling awful day to day.\\r\\n\\r\\nI\\'ve also mentioned that it is probably important to get outside y\\r\\nour own\\r\\nhead - think about doing things that stop you thinking about yourself.\\r\\nHowever, as a caveat, I also recognise doing anything (like talking to\\r\\nanother human being as you rightly point out!) can be extrememly stressful.\\r\\n\\r\\nI\\'d never pick holes in others punctuation and grammar unless they\\r\\n were\\r\\ndoing it to others! It\\'s a forum, not a thesis! However if you have the\\r\\ntime and pride to check your message back then maybe you do have the time\\r\\nto look at HFAS if it interests you.\\r\\n\\r\\nTo be honest, knowledge is something I despise yet am addicted to \\r\\nso I\\r\\nwill inevitably be searching HFSA after I\\'ve written this reply! But\\r\\nwithout an argument or focus it is impossible to really research a topic to\\r\\nany purpose. I will happily help others if I can (preferably from afar!)\\r\\nbut not sure what I could do to focus your research on this matter and\\r\\nwhether it\\'d even be of any benefit to you anyway.\\r\\n\\r\\nLike I said, there is certainly an interesting discussion to be ha\\r\\nd but\\r\\nunfortunately I doubt this is the place to do it effectively for you or I.\\r\\n\\r\\nGood Luck.\\r\\n \\r\\n Quick research, scan read. Told you I would... I definitely don\\'t have\\r\\nHFSA. You may well have but it\\'d take more than a quick chat to establish\\r\\nthat.\\r\\n\\r\\nAs I\\'m sure you\\'re aware, everyone is somewhere on the autistic sp\\r\\nectrum\\r\\nand all the various labels that spin off that. Even the most \\'normal\\' of\\r\\npeople might feel particuarly calmed by a colour, or get irritated by a\\r\\nsimple tapping noise. The issues arise when your \\'quirks\\' impact on your\\r\\nlife. Mine do for me, and yours sound like they do for you.\\r\\n\\r\\nI have had a ton of labels I have both researched or been told abo\\r\\nut that\\r\\nmight fit my ways of thinking and acting but the conclusion I reached was\\r\\nthat it was all kind of pointless - a label by its very nature is just a\\r\\nbroad title to fit many people and when that comes to the brain it\\'s a very\\r\\npointless exercise. You might be able to group broken limbs in patients but\\r\\nwith the head it\\'s nearly impossible  - there\\'s too many bits that do or\\r\\ndon\\'t apply for every individual. Ultimately a title is only helpful to\\r\\npoint you in the right direction to get you personalised help. And it HAS\\r\\nto be personalised.\\r\\n\\r\\nI think I have depression, with social anxiety. I have signs of bi\\r\\npolar, I\\r\\nget symptoms of SAD, I have trichotillomania, I have mild OCD that gets\\r\\nworse if I\\'m stressed, I have panic attacks, I over think everything, I\\r\\nhave low self-esteem and no confidence, I feel suicidal most days and a\\r\\nmillion other mini-labels. Doesn\\'t help me though. It\\'s the classic \\'what\\'s\\r\\nin a name?\\'\\r\\n\\r\\nI hope you see my point. We sound very similar yet I would class m\\r\\nyself as\\r\\na people pleaser, I rarely sure emotion outside the house and am overly\\r\\npolite to even strangers. So whilst HFSA might apply in parts, it doesn\\'t\\r\\nsolve everything.\\r\\n\\r\\nThink about what you want from this title. How will it help you? Y\\r\\nou might\\r\\nbe better focusing on the things that make you feel better, not labelling\\r\\nsomething that makes you feel bad.\\r\\n\\r\\nGood luck.\\r\\n \\r\\n I doubt you have no one, family is only one part. Work friends? Neighbours?\\r\\n\\r\\nBut, for the sake of discussion, if there is really no-one then in a way\\r\\nyou know how to feel better and that gives you a lot of power. I don\\'t even\\r\\nknow how to be \\'happy\\' and feel I should leave those around me before I\\r\\ndrag them down too!\\r\\n\\r\\nIf you feel lonely, then be a little more proactive, join some clubs or\\r\\ngroups etc. Without being offensive, you are a little older than me and\\r\\nthere are a lot more clubs set up for your age group than mine that\\r\\nwouldn\\'t be intimidating. I get expectations of sports clubs (loud bravado\\r\\npeople!) or nightclubs etc where as I\\'m sure there are more suitable groups\\r\\nfor you. Knowing what you want to make you happy is a great thing.\\r\\n\\r\\nAs for your family, you seem to want nothing to do with them. Great! Sorry,\\r\\npeople on here may say that\\'s sad etc or to try but it\\'s your situation -\\r\\nif you simply don\\'t get on then absolutely forget them. People survive\\r\\nwithout families all the time. Or you mentioned the recluse, maybe you need\\r\\neach other...\\r\\n\\r\\nI sympathise, in case that didn\\'t come across, so whilst I appreciate I\\r\\nhave one on you by having a partner (although that can make you feel worse\\r\\nby the way in that you feel like a burden) you also have one on me knowing\\r\\nwhat will make you happy.\\r\\n\\r\\nYou don\\'t need family/partner to feel loved. In fact family\\'s love often\\r\\nfeels more \\'because you\\'re family\\' than out of want. Friends are there\\r\\npurely because they want to be.\\r\\n \\r\\n Hi Hypercat, I really didn\\'t mean any offence, I just meant you have more\\r\\naccess to such activities due to your age. I bet most of the people in\\r\\nthose activities you talk of are of similar age and are in similar\\r\\nsituations due to unemployment, retirement etc. You may well be the\\r\\nyoungest there but I\\'m sure you have plenty in common with them. In fact\\r\\nI\\'m envious! All I was trying to say is there isn\\'t that social world more\\r\\nmid 30 year olds, you\\'re kind of expected to be all sociable and loud. My\\r\\none friend tried to get me to go to a craft course - he\\'s ten years older\\r\\nthan me, and he was youngest be 10 years! It doesn\\'t mean its not pleasant\\r\\nto some degree but you do feel very \\'odd one out\\'\\r\\n\\r\\nI apologise if I jumped to conclusions based on your message but I maintain\\r\\nthat with the active social life you live you have LOADS of people who\\r\\nwould miss you. Love is not exclusively available from family and partners.\\r\\nYou seemed to suggest this was why you were largely unhappy so I think you\\r\\nknow what makes you tick; you miss a partner/ family bonds. I\\'m not going\\r\\nto be stupid enough to say \\'fix it\\' then as it\\'s never that simple, but\\r\\nknowing what would make you happy is a positive; at least it gives you a\\r\\ntarget.\\r\\n \\r\\n Great message. Funnily enough I am/was a teacher too - but I think the\\r\\nenvironment is particularly toxic for those with is style of thinking (the\\r\\nprofession is based around you/ the work never being good enough and what\\r\\ncan you do to improve in the UK)\\r\\n\\r\\nCatch 22 means that once this impacts you to the degree I had to quit my\\r\\njob, it means you cut off a social group and have no money for new\\r\\nexperiences/ days out.\\r\\n\\r\\nAs regards you, I\\'d stay in Australia! I imagine it\\'s a lot nicer when you\\r\\nhave a crappy day opening the curtains to sunshine! Tthat\\'d make a little,\\r\\nbut significant difference.\\r\\n\\r\\nI\\'m not sure what I\\'ll do now, think teaching is gone, can\\'t see what I can\\r\\ndo to keep me \\'sane\\' as a career and find very little point in most things.\\r\\nI go to CBT but it just feels like we\\'re talking about philosophy, my way\\r\\nof thinking hasn\\'t changed one iota.\\r\\n\\r\\nI had no reasons to think this way, I created them almost. Now I actually\\r\\nhave no job etc. I am not a victim, I did it to myself. I think I have just\\r\\ngiven up, if I see 2015 I will be a little surprised as I imagine something\\r\\nwill come along in next few months that will be enough to knock me fully\\r\\nover the edge; an unexpected bill, a worry how I\\'m impacting on my partner,\\r\\na death in the family - something...\\r\\n \\r\\n I do love travelling but now, having just had to quit work, it isn\\'t even\\r\\npossible for me to \\'save\\' at all. Besides, my gf still has a job so I\\'m\\r\\ntaking on my full time job of being a burden \\r\\n\\r\\nEverything you write makes perfect sense. But the most relevant part is the\\r\\ntone; you seem to know everything isn\\'t perfect but know your triggers and\\r\\nthat there is good and bad. I was joking about staying in Oz, I fully\\r\\nrecognise complications regarding family etc. Fortunately, or\\r\\nunfortunately, I now have no friends, no job, limited family (that I see\\r\\nrarely anyway) so am not tied to any geographical place. It\\'s just gfs job\\r\\nthat keeps me where I am.\\r\\n\\r\\nI just struggle with people so much that I need a job that has little\\r\\ninteraction. Don\\'t get me wrong, most people would see me as easy going,\\r\\nrelaxed, even funny at work but it is all such a tiring act I can never\\r\\nmaintain it. I just spend my time thinking they don\\'t really like me, or\\r\\nthey think I\\'m an idiot or that I\\'m crap at my job. Think I just need to be\\r\\na recluse!\\r\\n \\r\\n We certainly have strong similarities, you seem to be a lot further along\\r\\nin your understanding of you and your triggers though. Going to Australia\\r\\nin the first place is quite an acheivement and you must be doing something\\r\\nright!\\r\\n\\r\\nI too only really get enjoyment from helping others, the issue comes that\\r\\nwhen that \\'problem\\' is solved I feel of no use and begin to withdraw. I\\r\\nhave done it with friends and family. My girlfriend is a case in point, she\\r\\nhad relationship, financial and work issues and I helped her solve all of\\r\\nthese to be in a better place to the point now she considers everything to\\r\\nbe pretty good in those departments, but I have nothing left to offer her.\\r\\nWorse still, I am now only going to be a burdn on her financially and\\r\\nemotionally and can offer her no decent future prospects. All that swims in\\r\\nmy head is \"if you love them let them go\" as staying with her seems very\\r\\nselfish.\\r\\n\\r\\nHowever, she is the first person who I have ever really shared this with.\\r\\nMy past relationships completed the cycle! She understands as much as one\\r\\ncan and is very supportive but I feel that her patience must run out\\r\\neventually (she\\'s a teacher so she does have a lot!) and she shouldn\\'t have\\r\\nto deal with this anyway.\\r\\n\\r\\nIf I were you I\\'d visit America. Not sure where you\\'re going but if you\\r\\nhave the means then do it. If nothing else it is something to look back on\\r\\none day and think \\'wow, I did that\\' and gives you that ton more of info to\\r\\ntalk about with friends, strangers, future partners that can fill those\\r\\nawkward moments when you\\'re not sure what to say! You\\'ve lived abroad,\\r\\nnearly everyone would say that\\'s pretty cool!\\r\\n\\r\\nCheers for the offer of a drink ha ha! But I\\'m so crap I\\'d probably just\\r\\nput it off and hope to be left alone! The lovely thing about the internet\\r\\nis it is so anonymous even I don\\'t mind being honest. The second I meet\\r\\nsomeone I\\'m worrying I\\'m boring them, annoying them etc! Even my CBT doc!\\r\\n\\r\\nI wish I could find just one positive to focus on. I really can\\'t. The only\\r\\none I should have (my gf) I twist to make it one of the biggest negatives -\\r\\nme being a burden to her. I\\'m not fun, I\\'m not confident, I now have no\\r\\njob, I have cr*p future financially, I can never acheive in basic things\\r\\nlike house buying etc (I\\'ve never even owned a car in my name!) because\\r\\nevery time I get myself on an even keel I sabotage it best I can, waiting\\r\\nfor the disaster to hit.\\r\\n\\r\\nCheers for the replies.\\r\\n \\r\\n Thanks for the reply, its nice to know you\\'re not alone isn\\'t it? However,\\r\\nit\\'d be nicer if people said it got any better! I hate the idea that this\\r\\nis forever, like an alcoholic or something!\\r\\n\\r\\nI hope you haven\\'t given up; I don\\'t know how you just \\'get over it\\', for\\r\\ngood or bad! I have no spiritualty (I almost envy those who do!) so am\\r\\nunder no illusions that it gets better after life but, much like someone in\\r\\nconstant physical pain, I feel like I should be allowed to just give up\\r\\nwithout guilt.\\r\\n\\r\\nI fully empathise with your issues, they sound identical! I beat myself up\\r\\na little more as, being a man, society expects you to step up - think I get\\r\\nweird looks when the gf is dealing with everything!\\r\\n\\r\\nI wish you luck with your future too - I hope you are doing something to\\r\\ntry and fight it as I think without at least trying Meds/ Talk therapy etc\\r\\nthen giving up in your head can easily turn in to giving up \\'properly\\'.\\r\\n \\r\\n I have read the replies and sympathise with you all, despite it being some\\r\\ntime since I wrote the original post. Unfortunately little changes.\\r\\n\\r\\nPaulsinbc you sound very similar! I\\'m impressed you can volunteer, I\\r\\nstruggle with people and then somehow feel worse as I think I should be\\r\\nable to cope compared to people who have REAL problems. I\\'ve never felt\\r\\nhard done by or unfortunate - my problems are me!\\r\\n\\r\\nHowever, you\\'re right, there is an element of fanning the flames! The\\r\\nreason I\\'ve largely stopped looking at this site is I don\\'t see a benefit\\r\\nfor me or anyone else. I recognise some may get comfort from support from\\r\\nlike minded people, or signposted to suitable resources or recognise\\r\\nsymptoms of PTS or similar, but for me all I read is people who live with\\r\\nit forever with no answers and that in itself is depressing.\\r\\n\\r\\nPeople say knowledge is power, but I find it to be a curse. The more you\\r\\nknow, the more you realise your insignificance, the hopelessness of\\r\\nsituations and the reality of the world rather than the rose-tinted \\'it\\'ll\\r\\nall work out in the end\\' view we\\'re told to believe. I really struggle with\\r\\nthe inability of professionals to accept that some people don\\'t succeed,\\r\\nsome people do fail, some people aren\\'t talented, some people aren\\'t nice -\\r\\nwhy can\\'t that be me? It\\'s no different than saying \"it can\\'t happen to me\".\\r\\n\\r\\nSo for that reason I\\'m very much keeping this site at arms length. I\\'d\\r\\nunrealistically hoped for advice or signposting or, ridiculously, a miracle\\r\\ncure but it\\'s more a gathering for people to support each other with\\r\\nknowing nods or virtual hugs. I recognise the support that may give to\\r\\nothers but for me, it just makes me feel worse.\\r\\n \\r\\n What is it with my compulsion to reply despite my last comment?! [image:\\r\\nwink]\\r\\n\\r\\nYeah 8 months, feels both more and less. Unfortunately I doubt I will\\r\\neither give you insightful answers or even a nice positive slant on my\\r\\nresponse - you have been warned!\\r\\n\\r\\nLittle has changed. I tried drugs, didn\\'t work, I tried therapy, too much\\r\\nreligion and not willing to try again - a weird catch 22 in where you need\\r\\nto ask for help but are afraid of talking to people even day to day.\\r\\nFriends are nonexistent, I quit my job and haven\\'t returned. I still feel\\r\\nlike a burden to those around me, and how ever much they care it doesn\\'t\\r\\nexcuse it - in fact it makes it worse. I can\\'t escape feeling that if I was\\r\\na good person then I\\'d protect them from me - if you were highly infectious\\r\\nwith a  deadly disease would you hug your family? So internally and\\r\\nexternally, very much status quo. I\\'m still here, slightly surprisingly.\\r\\n\\r\\nIt is fair to say I\\'m confused as to my wants and beliefs about my\\r\\nsituation. One day it\\'s just me and there is no hope, next day it\\'s won\\'t\\r\\nplease someone give me a magic wand (but I won\\'t ask!). If I seem\\r\\nungrateful with any responses then that wasn\\'t my intention, maybe it\\'s my\\r\\nway, I always focus on negative and all I see is lots of people struggling\\r\\nand no-one coming out the other side. It feels like the blind leading the\\r\\nblind.\\r\\n\\r\\nFurther more most people seem to have a good reason through circumstance or\\r\\nsubstance abuse or dramas in their life -I\\'m just like this for no real\\r\\nreason. Pretty pathetic really.\\r\\n\\r\\nMy girlfriend does support me but it both helps me survive and yet stops me\\r\\nfacing my issues and makes me feel not good enough and as if I\\'m holding\\r\\nher back. I know she doesn\\'t feel that, but I feel like it MUST or it will\\r\\neventually when she realises what she\\'ll miss out on.\\r\\n\\r\\nCycles of mood are continuous but rarely hit a positive slant, some days\\r\\nI\\'m just ok and potter around and others I feel the strongest urge to give\\r\\nup. The only trigger I know doesn\\'t help (but isn\\'t crucial) is the weather\\r\\nbut that\\'s common with lots of people. A bad day will turn in to a bed day\\r\\neasily if it\\'s grey! Lucky I live in UK \\r\\n\\r\\nI\\'ve tried improvements in diet etc but I\\'m not exactly a bad eater anyway,\\r\\nexercise is fine but doesn\\'t really change anything, just gives me\\r\\nsomething to do. Easily lose will to do it though. My socialising is\\r\\nobviously nonexistent and I try to encourage girlfriend to do her own thing\\r\\nwith friends in that respect.\\r\\n\\r\\nSo in summary, nothings changed, I\\'m in a state of status quo, every plan I\\r\\ncome up with I find a major flaw in, I strongly doubt there\\'s a way out, I\\r\\nhate the way I look, sound and feel and feel I should protect people from\\r\\ntheir own blinkered love.\\r\\n\\r\\nSo, sorry and hope you have more success.\\r\\n \\r\\n I\\'m not deluded enough to think people wouldn\\'t care if someone close to\\r\\nthem wasn\\'t there anymore. People aren\\'t generally that heartless. However,\\r\\nit doesn\\'t mean they wouldn\\'t be better off. Like a child who is removed\\r\\nfrom an unfit parent; they\\'d cry and be upset and miss them but ultimately\\r\\nthey\\'re better off. We all get over loss - we don\\'t as easily get over\\r\\nregret, disappointment and missed opportunities. Only I hold people back.\\r\\n\\r\\nI agree, I have nothing to really complain about, I almost wish I did as\\r\\nthen it\\'d explain it. I just can\\'t cope with society; I can\\'t even talk to\\r\\npeople on the phone or worry about what a stranger thinks of me. I just\\r\\ndon\\'t know what to do; stubbornness, stupidity, anxiety stops me from doing\\r\\nthings and every time I try to fight it I can only keep up the pretence for\\r\\na while and then everything collapses. I just know I\\'m right - we seem\\r\\nscared to admit some people are just failures and not equipped. We could\\r\\nname loads of people in our lives we could say are useless or horrible etc,\\r\\nbut the second their is an element of affection for them is we decide to\\r\\nlie to them and ourselves - \"they\\'re just unlucky/ need help/ have hidden\\r\\ntalents\" - I don\\'t believe it.\\r\\n\\r\\nI have, and if not struggling, do still do a fair bit of exercise. Cycling,\\r\\njogging etc but fitness has never really helped. In my 20s particularly I\\r\\nwas extremely fit but it didn\\'t help. When I said way I look I meant more\\r\\nappearance than shape.\\r\\n\\r\\nI do appreciate responses but worry there is no hope. Maybe I can\\'t hear it\\r\\neven if there is....\\r\\n \\r\\n I smiled at that last comment - my girlfriend says I\\'m too nice. It\\'s a\\r\\nidea I struggle with (how can someone be too nice?) but she says people\\r\\njust take advantage or walk all over me. I\\'d bend over backwards to help a\\r\\nstranger even if it detrimented me which is possibly part and parcel of the\\r\\nworrying about what others think element. So whilst on here I may come\\r\\nacross ungrateful I can assure you I\\'m not really - this is perhaps my\\r\\nselfish place. I\\'ve tried to be very thankful for all the responses on\\r\\nhere, I just struggle to see any benefit in it.\\r\\n\\r\\nYou can\\'t say you have a hidden talent and then not say what it is [image:\\r\\nwink] that\\'s just mean...! Good for you though. Genuinely. However some\\r\\npeople are just bang on average, I\\'m one of those. I\\'m not in some deluded\\r\\nspiral that makes me think I\\'m the worst at anything, or have a difficult\\r\\nhand or anything, I\\'m just realistic and know I, like many others, are just\\r\\nbang on average but if I do dip one way it\\'s always the worse than average\\r\\nway. It\\'s my head that beats me up for my limitations and stops me just\\r\\nfuctioning - it\\'s hard to explain so I\\'ll stop!\\r\\n\\r\\nTrying to think of good things is difficult for me, I can\\'t think of\\r\\nanything I can\\'t put a negative slant on! Maybe I\\'m good at arguing... But\\r\\nif I look at widely accepted sections of my life it\\'s not a good overall\\r\\npicture:\\r\\n\\r\\nFamily - fed up with me, disappointed and feel sorry for me on one hand.\\r\\nHave never really included me anyway (but maybe that\\'s my withdrawal\\r\\ntendancies)\\r\\n\\r\\nLove Life - good and yet that makes it bad! If I didn\\'t care about her I\\'d\\r\\nbe quite happy taking advantage but if you love someone you don\\'t want to\\r\\nhurt them in any way, emotionally, financially, future etc. If you love\\r\\nthem let them go as the saying goes...\\r\\n\\r\\nFinancially - was poor, sorted with job, would be cleared up in a few years\\r\\n(credit) but don\\'t struggle day to day at all as girlfriend is very\\r\\nsuccessful. So I\\'m just leaching...\\r\\n\\r\\nFriends - if you can measure a person by their friends then I\\'m zero. I\\r\\nmean zero, not one person. My fault, there fault it, it doesn\\'t really\\r\\nmatter.\\r\\n\\r\\nHealth - other than this(!) ok really, standard weight, normal height,\\r\\ndon\\'t smoke, drink or do drugs. Eat reasonably healthily and do sport\\r\\nsporadically when it\\'s either sunny and/or I have a spark of inspiration.\\r\\nTried routines, lasted a week before a bad day threw it all off.\\r\\n\\r\\nCareer - down the pooper! Can\\'t return to full time teaching, know I can\\'t\\r\\ndo that. To \\'stuck up\\' for want of a better word to take a shop job knowing\\r\\nI trained to be a teacher. Also can\\'t find another job that is term time\\r\\nonly (to spend time with partner). I\\'d struggle in ANY job anyway. Too\\r\\noverqualified for most things that might suit purpose. Supply is\\r\\npossibility but that means new people and stuff every day - not my string\\r\\npoint! Plus it means phone calls for availability and I can\\'t talk on\\r\\nphone! Pathetic, whinging, excuse riddled crap eh? Not on benefits or\\r\\nanything as gf is on plentiful wage.\\r\\n\\r\\nLooks - awful, have the face of a teenager who can\\'t grow even a hint of a\\r\\nmoustache never mind a beard which means I\\'m constantly asked for ID (or my\\r\\nparents if a knock at the door) despite being 34!!! People say you should\\r\\nbe flattered but to me it feels like a kick in the face - maybe it\\'s the\\r\\nbloke thing, it\\'s like people telling you you\\'re a child. I almost am a\\r\\nchild... My facial skin is awful too, no creams or regimes suggested by the\\r\\ngirlfriend work so I\\'ve just given up. Maybe I\\'m an expert at giving up!!\\r\\nTo be fair, all things above have been tried for at least 6 months from\\r\\ndrugs to therapy to face cream!\\r\\n\\r\\nI do appreciate your help/advice. I still wonder if it\\'s just character\\r\\nrather than depression. Maybe I\\'m just a cynical, boring, lonely, ugly\\r\\nloner. That\\'s fine when it\\'s just you, a killer when you feel you\\'re\\r\\nholding others back from a \\'proper\\' life.\\r\\n \\r\\n Resisting the urge to get in to a theological debate... let\\'s just agree to\\r\\ndisagree. Sometimes I envy those with faith, today I almost feel anger...\\r\\nAnyway, my problem not yours.\\r\\n\\r\\nI hope things improve for you,hopefully your faith gives you a bas\\r\\ne to\\r\\nwork from and you turn around those feelings you have. If you believe what\\r\\nyou have written then I feel you are closer than you think you are to\\r\\naccepting/being happy.\\r\\n\\r\\nI\\'m as tired as I\\'ve ever been. Tired, bored and had enough. I can\\r\\n\\'t even\\r\\nthink of a positive thing to say. I think I\\'m ready to sleep now.\\r\\n \\r\\n Let me start by saying I feel for you, I really do. You have a GENUINE\\r\\nreason to feel like you do and should not feel bad or apologise for asking\\r\\nfor help! You make me feel even more pathetic but that\\'s my issue rather\\r\\nthan yours!! Perspective makes me think even worse of myself as I know I\\'m\\r\\nlucky compared to lots - so why do I feel like this?\\r\\n\\r\\nAs regards the drug route, a lot of people have suggested this. However one\\r\\nmajor issue stops me and is not really ever talked about - I\\'m terrified of\\r\\npeople/meetings etc! So I can\\'t see a Doctor! When at my lowest I was being\\r\\nferried around so had no choice and needed a Doctors note etc but now the\\r\\nthought of seeing a Doctor (or any body I know I have to talk to) terrifies\\r\\nme to the point I\\'d almost have a panic attack. So not sure what to do\\r\\nthere really! Still not convinced on the drug thing anyway - it only made\\r\\nme slightly manic (obsessed with projects) and had no effect on my overall\\r\\nmood at all, well other than making the idea of \\'going\\' seem even more\\r\\nrational.\\r\\n\\r\\nSo instead of me whinging on and on let me just make a few completely\\r\\nuneducated comments regarding your situation. You don\\'t seem depressed so\\r\\nmuch as tired! I don\\'t mean that in a dismissive way but you clearly have a\\r\\nlot on your plate and I think (if there is any) you need some support. I\\'d\\r\\ngo as far as saying I doubt the drugs are halping you - they seem to be\\r\\ntreating a symptom not a cause.\\r\\n\\r\\nDid you have anxiety before all the pressures you\\'re under? I think you\\'d\\r\\nfeel a hell of a lot better quicker if you directed your energy to finding\\r\\nfinancial and/or respite support if there is any. You\\'re probably doing too\\r\\nmuch and it\\'s impacting on your health physically and emotionally. If there\\r\\nisn\\'t any further help then, other than shaking your head at the hand\\r\\nyou\\'ve been dealt, then you seem to have a good plan of action at the\\r\\nmoment. If that plan could be super organised to include you (as in time\\r\\nfor yourself etc) and maybe incorporate a job (if you so wished) you may\\r\\nfind you were in control a bit more.\\r\\n\\r\\nI\\'m not trying to sound dismissive at all I promise! You have a compelling\\r\\nreason to feel the way you do and I acknowledge I\\'m talking without all the\\r\\nfacts. I just get the sense it\\'s a lack of control on a very hectic/\\r\\nemotional draining life that is you\\'re primary concern. For example, if you\\r\\nwon the lottery and could deal with all the bills and give the care to your\\r\\ndaughter you wish do you think you\\'d feel infinitely better? You\\'re\\r\\ndepressed because of the situation I think so hopefully either you, or you\\r\\nand others, could plan a route that would help you considerably. I think\\r\\nthere is a lot of hope for you to be VERY happy and enjoy your life with\\r\\nyour daughter but you\\'ve just been struggling for years and it\\'s worn you\\r\\ndown. Asking for help (other than medicinal) is the right way to go.\\r\\n \\r\\n Please don\\'t be sorry - very aware that\\'s my issue not yours!\\r\\n\\r\\nYou sound like you have a very clear plan, you almost sound excited! I\\'m\\r\\nsure you are, but if you\\'re not do, but make that your focus and you may\\r\\nfeel the clouds lift quite a lot! I envy that purpose, or goal or action\\r\\nplan - I can\\'t think of any!\\r\\n\\r\\nI think my girlfriend might stay with someone she felt sorry for, like a\\r\\nresponsibility for so to speak. I think she WOULD be sad if I \\'left\\' but\\r\\nshe\\'d be happy again a lot sooner than having to live with me! It\\'s quite\\r\\nanalytical, I recognise that, but to me I\\'d rather her be sad for a year\\r\\nwith \\'loss\\' rather than sad for 20 years with me! It\\'s weighing up value,\\r\\nshort term pain for long term gain... As for a job, my head stops me, I\\r\\nfeel I can do most jobs but only temporarily as my head messes me up,\\r\\nmesses my professional relationships up and I just can\\'t see how I can hold\\r\\ndown a job - it\\'s hard to explain, but being sociable (like you have to be\\r\\nat work) is almost physically draining and eventually my energy runs out\\r\\nand I drop all the balls I\\'m juggling.\\r\\n\\r\\nYou may be right about reason for depression but the genetic one concerns\\r\\nme most - that means I\\'ll never be \\'fixed\\'... I\\'d rather just give up now.\\r\\n\\r\\nOrdinary to me is depressing. Ordinary is forgetable, ordinary is boring,\\r\\nordinary doesn\\'t \\'exist\\'. To give you a glimpse of my thinking; the popular\\r\\nkids in school were \\'exceptional\\', but even the bullied kids had something\\r\\nabout them. When you\\'re average, you\\'re invisible. You can take the\\r\\n(friendly) mick out of someone who\\'s bad at something, you can admire the\\r\\ntalent of someone who\\'s great at something, but when someone is average\\r\\nit\\'s just a shrug, no story, move on. I\\'m genuinely the most forgettable\\r\\nman in the world! I\\'m one of a large group of siblings, I\\'m one forgotten\\r\\nin family dos, I was one forgotten at school (old teacher remembered all\\r\\nsiblings during catch up chat to parents bar me) I\\'m one forgotten at work\\r\\n- I really am a waste of space!\\r\\n\\r\\nThe media\\'s main fault is trying to make people believe that happy endings\\r\\nexist, that we all have a hidden talent and if you want something enough\\r\\nthen it magically comes true. Sorry, my view is very much it doesn\\'t! It\\r\\ndoesn\\'t \\'all work out in the end\\' and we\\'re just fed this fantasy world\\r\\nthat depresses us when the reality slaps us in the face!\\r\\n\\r\\nSorry - trying so hard not to just \\'release\\' on here....\\r\\n \\r\\n Please do not get me wrong, I do not believe any one characteristic makes\\r\\nsomeone of no value, further more I think it\\'d be impossible not to be of\\r\\nSOME value, it\\'s just to what weighting you give a value when compared to\\r\\nall the problems it may cause. For example, alcohol gives you a small boost\\r\\nbut, when abused, can cause significant problems. For those with a problem,\\r\\nit may be better to just give up the alcohol.\\r\\n\\r\\nI too have multiple issues with religion (that\\'s a real rant!) but I don\\'t\\r\\nthink anyone has the right to judge another. I would never judge anyone\\r\\nelse as worthless, but I know myself and can judge myself. I stand by that\\r\\njudgement based on what I know, what I do, what I think and the proof I\\r\\nhave. A person suffering from anorexia will ignore the scales reading too\\r\\nlow a weight, I suffer from no dilusions. Everything points to me being\\r\\neverything I think I am.\\r\\n\\r\\nYou sound like a much better person than me, you maintain strength in\\r\\ndifficulty and have the fight in you to counter injustice. I can barely\\r\\nface people so volunteering is out of the question, whether that is lazy or\\r\\ncowardly, I simply can\\'t pretend to be \\'normal\\' any more and public is so\\r\\nmuch energy.\\r\\n\\r\\nI am a faceless person on here. The reality of me is much worse.\\r\\n \\r\\n I care a lot about most people, more than is healthy perhaps. I take on\\r\\nothers problems if I can and feel more useful if I\\'m helping someone else.\\r\\nI\\'m often accused of making people\\'s decisions for them regarding me\\r\\nthough, although I don\\'t see that as an issue if I\\'m protecting them. For\\r\\nexample I say I should leave gf to protect her, she and family say it\\'s her\\r\\ndecision to give up on me not mine. I still struggle a lot with that way of\\r\\nthinking. I feel you should protect people, even from themselves sometimes.\\r\\n\\r\\nA reply after 8 months due to some shift.... bit more mundane I\\'m afraid,\\r\\nsomeone replied after a long time, put effort in to their thread and I had\\r\\nan email telling me so I felt it was polite to respond! Sorry!\\r\\n\\r\\nIs \\'holding back\\' a strange metaphor?! :D But yeah, maybe that\\'s what it is\\r\\n- in fact it\\'d be easier to escape as I have no upper body strength at all!\\r\\nBut it\\'s meant more in the way that if I struggle through on the low level\\r\\nI am my girlfriend will put up with it and not have the marrigate, house,\\r\\nholidays, and have to basically look after me (phone calls, sorting\\r\\nanything that invloves others, avoiding social events to look after me)\\r\\nwhere as if I went, she\\'d be sad for a while, perhaps never even forget,\\r\\nbut move on and get a \\'proper\\' boyfriend and get all that stuff. She didn\\'t\\r\\nsign up for this - she met the fake easy-going confident full time teacher\\r\\nwith prospects...!\\r\\n\\r\\nIs there such thing as too much time on a computer?! I didn\\'t realise! I\\r\\nfilled in a survey the other day - it said how long do you spend on the\\r\\ninterent a day. I was strugling to find the \\'all day\\' option!\\r\\n \\r\\n It\\'s strange talking on the internet as you answer one comment but then\\r\\nsomeone else adds an extension question, but all of it is stuff you\\'ve\\r\\nthought before. Does that make sense?! Another words, whilst I offer my\\r\\nopinion on a particular though process it doesn\\'t mean I\\'ve not actually\\r\\ngone far beyond that in my own thinking.\\r\\n\\r\\nSo to answer your very well thoughout view, it is all stuff I have thought\\r\\nof before and almost counted out! I\\'m just a whiner obviously \\r\\n\\r\\nIf I did what I want I\\'d be sportsman, but then we have to be realistic and\\r\\nsay that isn\\'t going to bring in any wage! Besides, I also know I struggle\\r\\nin team situations in reality as I struggle with the bravado that is\\r\\nespecially prevalent in male sports. So what else do I enjoy, genuinely,\\r\\nnothing. But even I recognise that might be an extension of my apathy.\\r\\nTeaching is fun, I love working with kids... but the other teachers,\\r\\nparents, Ofsted, paperwork, and most constant judgement of any career makes\\r\\nit impossible. On a side note, if you have any issues with self confidence,\\r\\nteaching is NOT the way to go! I\\'ve never known a career in which you\\'re so\\r\\nreguarly scutinised and there\\'s always something you could have done better\\r\\n- and if you\\'re of a fragile nature you naturally only focus on that.\\r\\n\\r\\nNo jobs don\\'t have to be people based, I too have worked in media as a\\r\\njournalist (although that is people based!) but can\\'t think of anything I\\'d\\r\\nenjoy or, more pertinently, be able to do - skill, time or wage wise!\\r\\nSetting up a cattery would be nice, but need money for that. Being an\\r\\narchitect always appealed by I have neither the time (course duration) or\\r\\nthe skills to do it!\\r\\n\\r\\nI\\'m not sure if this is normal or not; I struggle with people but also\\r\\nstruggle alone. It\\'s not like once I have escaped people I feel relaxed.\\r\\nMaybe I\\'m in a sydrome called \\'grass is always greener\\'! When left alone I\\r\\nam even more self destructive in my thoughts - thinking time is not good\\r\\ntime.\\r\\n\\r\\nI do appreciate you saying \\'maybe there isn\\'t anything you massively excel\\r\\nin\\' - it\\'s those kind of statements that make me think people are writing\\r\\nrealistically rather than using a softly softly approach. It\\'s not like\\r\\nnegatives are the only reality but I can only begin to believe a statement\\r\\nif people acknowledge the bad. People saying \"I\\'m sure you\\'re good at x\"\\r\\njust makes me turn off, someone saying \"Ok, you\\'re crap at that BUT\\r\\ntry....\" is much more realistic. Unfortunately I haven\\'t found the good\\r\\nthing!\\r\\n\\r\\nI know that \\'you\\'d be better off\\' is an extremely frustrating statement.\\r\\nThe question is, do you reveal what you\\'re thinking or keep it to yourself?\\r\\nI always say \\'be careful what you ask or you might not like the answer\\',\\r\\nbut if I\\'m being asked to open up and not bottle feelings then where is the\\r\\nline on what is acceptable to share and what isn\\'t? I can\\'t help very\\r\\nstrongly feeling that.\\r\\n\\r\\nI do think time heals and it seems logical to reduce any pain to it\\'s\\r\\nminimum; a year or so after I\\'m gone or a lifetime of regrets, missed\\r\\nopportunities and struggles with me around. I can\\'t do the whole marriage,\\r\\nkids thing. I am next to useless when it comes to mortgages and luxuries.\\r\\nWe all start with dreams of being rich and famous and having everything we\\r\\nwant, we then give up certain dreams as childhood subsides and reality\\r\\nkicks in, as we get older we give up more and more dreams as we can\\'t\\r\\nachieve them. But once you\\'ve given up every dream, don\\'t you just fade\\r\\naway? A very old person knows they will not travel the world again, they\\r\\nknow they can not look like a 30 year old movie star, their wish may be to\\r\\nsee a grandchild go to university or even simply to reach 100. But once\\r\\nyou\\'ve done everything you can do, or know you will ever do, then, to me,\\r\\nit feels like it\\'s time to go.\\r\\n\\r\\nI tried the meds, ok only once, but it didn\\'t work. I can\\'t face going back\\r\\nto the doctors again and having to talk about all this. It feel so pathetic\\r\\ntalking to a grown man about my piddly stupid head. There\\'s people going in\\r\\nthere with proper problems, or at least fixable ones!\\r\\n\\r\\nAm I afraid of death? Not really, the thought of it is very much in my\\r\\nhead. And I mean the actual thought, not the before or the after, the\\r\\nthought of that last breath then nothing. I don\\'t think greatly of the\\r\\ndrama of after a death (like \\'oh people will miss me etc etc) I just am\\r\\ntransfixed on the thought of that very last spark of the brain. It will\\r\\ncome one day. Whilst I\\'m very careful not to talk about suicide on here\\r\\n(\\'gone\\' or \\'left\\' being much friendlier terms) I know I\\'d never make me\\r\\npassing traumatic for train divers, dog walkers or unsuspecting family\\r\\nmembers.\\r\\n\\r\\nBungee-jumping, skydiving or Vegas all sound great. But that\\'s where the\\r\\nreality sets in, how exactly am I paying for this?! If there was one thing\\r\\nthat I think would have the greatest impact on my mental health it\\'d be\\r\\nwinning the lottery - I could then distract myself with things, or feel\\r\\nlike I was providing for my family. I\\'d still have those demons, I\\'d still\\r\\navoid people, I\\'d still have no friends etc, but instead of stewing I\\'d be\\r\\nbeing kept busy on a beach in Hawaii! Money doesn\\'t solve everything, but\\r\\nit makes the low points easier to deal with as you can more readily escape.\\r\\nI do love travel that being said, and when ever I can afford it I do.\\r\\n\\r\\nI\\'m never going to feel differently to the way I do... that\\'s as far as I\\'m\\r\\nwilling to agree with your last statement!  I\\'ve actually\\r\\ntried the big changes, I\\'ve tried doing the things that scare me or out of\\r\\nmy comfort zone. I went to University alone, along way away from family, I\\r\\ntravelled Europe camping for a summer, I took on jobs I didn\\'t think I\\r\\ncould do, I moved to new areas with no contacts. I think I\\'ve done\\r\\neverything I\\'m \\'supposed\\' to improve myself and my thinking. But none of it\\r\\nworked, all of is (possibly self-inflicted) failed, I always reverted to\\r\\n\\'type\\'.\\r\\n\\r\\nI appreciate everyone on here giving their time to convince me otherwise. I\\r\\nhave never doubted there are very nice people in this world, just as there\\r\\nare horrible ones. I do believe the horrible ones get a \\'better\\' life but\\r\\nthat\\'s a different conversation. But I\\'m beginning to find that me\\r\\nanswering these views is just making me more sure I\\'m right - I\\'m a\\r\\nhopeless case.\\r\\n\\r\\nWhether it\\'s depression, anxiety, personality, whining, my fault, other\\'s\\r\\nfault, luck or time it now kind of strikes me as irrelevant. I\\'m at this\\r\\ndestination, there are no more stops.\\r\\n \\r\\n Kick away!\\r\\n\\r\\nFair enough, I don\\'t do much at the moment. I occasionally do a little bit\\r\\nof exercising (jogging/cycling) but a grey cloud, real or metaphorical,\\r\\nquickly kills any energy I have! I don\\'t think it\\'s the lack of doing\\r\\nanything that causes this however, I\\'m still \\'better\\' than when I was at\\r\\nwork/ socialising - but then if this is the best it gets... well.\\r\\n\\r\\nI have visitied the Doctor, and for the record he was really nice. Very\\r\\nsupportive in fact. But it didn\\'t change the fact I felt stupid and as if I\\r\\nwas wasting his, and others, time. I remember being really worked up about\\r\\nthe fact our appointment slot was overunning because I felt like I was\\r\\nholiding up other people. But I did that because my girlfriend was with me\\r\\nat all times (and forced me!) and because I needed to get a Doctors note\\r\\nfor work. Now I no longer work, I no longer need to waste people\\'s time.\\r\\nBut you\\'re right, I\\'m an expert in giving up!\\r\\n\\r\\nThe girlfriend question comment is a difficult one and the one I battle\\r\\nevery day more than anything else. If I leave her there is nowhere to go,\\r\\nthat really is it. I mean that in the practical sense here, house etc but\\r\\nalso it means that really is the end. I stay through her appeals and for\\r\\nmaybe that ounce of hope that she, and others, are right that it\\'ll pass.\\r\\nAlthough I\\'ve always been like this. I\\'m not staying with her for ease, or\\r\\nto string her along, but leaving her really is a final decision - I have no\\r\\nbelief there is something better than her. Probably makes no sense. The 1%\\r\\nhope keeps me alive, therefore the 1% keeps me here. If I lose the here, I\\r\\nhave absolutely zero interest in the alive.\\r\\n\\r\\nI really do appreciate your replies, a constructive kick is better than a\\r\\ncompassionate hug for me. But I can\\'t find that kick that I can\\'t talk my\\r\\nway around or explain away. I hate my head! I have actually tried\\r\\neverything I\\'m supposed to, maybe not for long enough, but I\\'ve seen zero\\r\\ndifference. Leaving work calmed me down and made me able to uncurl from a\\r\\nball but does that mean I can never return to a job? That then creates\\r\\ndifferent problems emotionally and financially.\\r\\n\\r\\nI saw the CBT guy but, nice as he was, he tried a religious route with me\\r\\n(never going to work) and I put on my fake chatty character for the hour,\\r\\neven if I was tired afterwards. It didn\\'t do anything. Even if I try to get\\r\\nrefered again by the Doctor, I\\'d actually be scared that I\\'d be seeing him\\r\\nagain, or be seen to have asked not for him - and although I\\'m fairly sure\\r\\nhe wouldn\\'t care, it genuinely freaks me out! How messed up is that?!\\r\\n\\r\\nI\\'m actually ok, if I prepare well, for an hour or so around people - I can\\r\\nseem easy going and chatty, any longer than that and it gets difficult. If\\r\\nI can\\'t prepare, i.e. I know there will be questions I\\'m not expecting or\\r\\nit\\'s someone I feel who will judge me e.g. a car mechanic as a \\'guy\\' then I\\r\\ncan\\'t do it. How silly is this - I still get uneasy surrounded by teenage\\r\\ngirls! I\\'m not in the remotest bit interested in them obviously, but just\\r\\nthe feeling of inadequacy/ that I\\'m a loser makes me feel \\'weird\\'. Same\\r\\nwith family, there is a duration before it gets too personal; I can feel\\r\\nmyself being overly happy and lively around them as if it\\'s all pouring out\\r\\non first meeting them but that there is a finite amount and then my energy\\r\\ndrops and I disappear.\\r\\n\\r\\nGrrr.... I\\'m whining again. Shoot me.\\r\\n \\r\\n So you\\'re an Indian person living in Russia speaking English... That\\'s\\r\\nbloomin impressive! But I still maintain you might find it tricky to\\r\\nexpress yourself in a personal way in a language other than your home one.\\r\\n\\r\\nHowever, don\\'t let me discourage you if you feel it is benefitting you in\\r\\nanyway. You sound slightly lonely but I imagine that is largely due to your\\r\\npersonal circumstances and possibly a short term thing while you sort your\\r\\neducation in medicine. Keep that goal in mind and the time will fly. Once\\r\\nyou\\'ve qualified you will probably have a lot more choices and can then\\r\\nchoose where to be. If you\\'re going to these lengths to follow your\\r\\nprofession then you clearly enjoy it so that\\'s another thing that is good.\\r\\n\\r\\nI\\'m sure you could find like minded people local to you if you looked.\\r\\nThere are very few \\'unique\\' people in this world that you wouldn\\'t have\\r\\nsomething in common with. But I\\'m not sure if you\\'ve fully explained what\\'s\\r\\nwrong, what\\'s making you unhappy.\\r\\n\\r\\nImagine dragons are very good, Mark Wahlberg not so much \\r\\n \\r\\n I mean this with the greatest respect, but would you not be better finding\\r\\nsupport in your native language?\\r\\n\\r\\nYou sound like you have identified the issues that are causing your\\r\\ndepression and sound like you may be able to talk through your fears and\\r\\nproblems but I\\'m concerned you may struggle to clearly express yourself if\\r\\nyou\\'re speaking in a foreign language.\\r\\n\\r\\nDon\\'t get me wrong, you\\'re English is far better than my non-existant\\r\\nRussian! I just think you need to be able to talk freely and that could be\\r\\nhard if English is not your first language.\\r\\n \\r\\n I love the way you write! It sounds really verbal! Very nice of you to sign\\r\\nup to reply. How weird is this though; I didn\\'t think I had paranoia but\\r\\nyou almost sound like my little sister! I know you\\'re not, but in my head\\r\\nI\\'m beginning to wonder whether I should write on here!\\r\\n\\r\\nI probably do have depression, I acknowledge that. I think my personality\\r\\nmight not help but I agree, depression is likely. I have social anxiety, I\\r\\nover think far too much, I have mild symptoms of OCD, I have some body\\r\\nissues, I hide my trichotillomania well being male (face) and I\\'m somewhat\\r\\nof a perfectionist or idealist - if I could have done it better then it was\\r\\ncrap.\\r\\n\\r\\nGenetically speaking there doesn\\'t seem to be any history of it in my\\r\\nfamily. Because of the way my last job blew up, my parents became more\\r\\naware of the situation. That\\'s not to say they were completely blind to it,\\r\\nbut it became more of a discussion. My parents have both had depression due\\r\\nto work but were fine before and after the event that caused it (tribunals\\r\\netc) but they don\\'t really understand the \\'lack of reason\\' side of it. I\\r\\nshared with them for a while, on both ups and downs, but got the impression\\r\\nit was upsetting them so have largely stopped talking about it. I never\\r\\nmentioned suicide to them. Again, due to the situation my older sister\\r\\nbecame aware and she too pressed a little but there is a limit you want to\\r\\ntalk about things when all it does is upset people and they can\\'t help you\\r\\nanyway. I have not talked about it with other family members. I\\'m already\\r\\nknown as the depressing one, so I try to sound super happy when I\\'m around\\r\\nfamily now. I was told that the reason I\\'m, at least subconciously, left\\r\\nout in family gatherings is because I\\'m quiet/ serious/ boring (actual\\r\\nterms!). I\\'m aware they\\'d care if I wasn\\'t here - most people are\\r\\ngenetically programmed to protect their kin, but my absence would make no\\r\\ndifference really. I now spend Xmas away from family, I\\'m fairly sure\\r\\nthey\\'re happier for it! I hate being a chore. I love your statement about\\r\\nit being \\'disgusting sweet s*t\\' - that\\'s so very much my style, even in the\\r\\ndepths it\\'s very much black humour, sarcasm etc - struggle with sweet stuff!\\r\\n\\r\\nOutside my family there is just my girlfriend. That sounds extreme, but\\r\\nit\\'s really not. I don\\'t have a single other friend, that is equally my\\r\\nfault. But I talk to no one from University days, no ex colleagues etc. I\\r\\nknow no-one else. Partially I like it that way, it\\'s easy and I don\\'t feel\\r\\nlike a burden, on the other hand I feel like some of them could have fought\\r\\nto \\'look after me\\' - they all gave up very easily. I know that\\'s not fair.\\r\\nYou shouldn\\'t test your friends. But on the other hand, if I really cared\\r\\nfor someone and knew they were struggling emotionally, I\\'d put in a little\\r\\nmore effort. I wasn\\'t ever mean or snappy with them, I just kind of\\r\\ndisappeared. But it\\'s not their job to understand mental issues, they have\\r\\ntheir own busy lives with their own problems.\\r\\n\\r\\nSo I sometimes speak to my girlfriend, less so these days though. When it\\r\\nall hit the fan I had no choice but to share everything with her, not that\\r\\nit was brand new information of anything - I\\'ve been with her for a long\\r\\ntime. But maybe the intensity of the feelings was new, of the fact they\\r\\nwere always there. But again, there\\'s very little she can do so why depress\\r\\nher. I don\\'t want to see her cry because of me. So I\\'ve largely stopped\\r\\ntalking about things, in a way that might give her the impression I\\'m\\r\\nimproving. Occasionally stuff slips out, or I sarcastically mention\\r\\n\\'leaving\\' but I cover it well now. I still tell her to find someone else, I\\r\\ncover it in a light/jokey way but, although I\\'m not stupid and I know she\\r\\nsees though it, it is kind of an acceptable level of sharing.\\r\\n\\r\\nYou\\'re right about social anxiety too. That I fully recognise. I care way\\r\\nmore than I should, or want to, about others thoughts. Doesn\\'t stop it\\r\\nthough. I do analyse everything I\\'ve said and done before and after events\\r\\nbut I can\\'t forget it - really stupid example; I still remember saying\\r\\nsomething that was taken the mick out of at school, probably really mildly,\\r\\nand that was about twenty five years ago! How the hell can I get over this\\r\\nwhen I still stew over stuff I said when I was 9?!\\r\\n\\r\\nDespite seeing every flaw in myself I don\\'t take criticism well, not in a\\r\\ngrumpy way but in a defeatest way. If I\\'m told a million things are good\\r\\nbut \\'this\\' needs improving then it was an awful experience. I know that is\\r\\nboth ridiculous and common but want it stop effecting me so much. In\\r\\ncomplete contrast I am very patient and forgiving of others, I\\'ll always\\r\\nsee the other side of the argument and I\\'ll happily give people as much\\r\\ntime as they need. I\\'m the epitomy of \\'do as I say, not as I do!\\'. I know\\r\\nwhere I\\'m going wrong, I know my thought processes are messed up, but I\\r\\njust don\\'t know how to fix them. I can\\'t think of many situations where\\r\\nI\\'ve felt \\'better\\' than anyone else - the closest I get it wondering why\\r\\nhorrible people in this world are more likely to succeed; stupidity is\\r\\nrewarded (TOWIE type), rudeness is applauded (Cowell), stabbing people in\\r\\nthe back is relabled \\'ambition\\', and generous people get walked on and\\r\\ncriminals win the lottery!\\r\\n\\r\\nI\\'m really happy you\\'ve started to figure your life out. You sound very\\r\\nintelligent and in control. You also mentioned being in school so I suspect\\r\\nyou are quite young; for you to have such a good grip on your feelings and\\r\\nrecognise triggers and mental health issues is quite impressive. Is it an\\r\\navenue you have interest in? I\\'m genuinely happy you have got such a grip\\r\\non it early, understanding it early may help you in the long run - I don\\'t\\r\\nknow, but I suspect the longer this is left the harder it is to undo the\\r\\n\\'learning to hate yourself\\' that is embedded in to you. Much like whe I\\r\\nused to teach, the longer you left a mistake/misconception with a child the\\r\\nharder it was to \\'unteach\\' it - so I just have 34 years to unteach\\r\\nmyself! [image:\\r\\nwink]\\r\\n\\r\\nAnd you\\'re definitely not my little sister are you?! \\r\\n \\r\\n Typical responces in themselves are not a bad thing, but perhaps too\\r\\ngeneric for most people. However, with limited information they are the\\r\\nonly thing that can be given to you.\\r\\n\\r\\nI don\\'t feel you can give up until you\\'ve tried. So you\\'ll need to talk to\\r\\nsomeone on here, close to you, a doctor or a therapist or someone. You need\\r\\nto gve them a lot of information.\\r\\n\\r\\nIf you\\'ve done all that and still feel like giving up then I fully\\r\\nsympathise. Just try to avoid giving one line sentences as that is not\\r\\nsharing, that is a call for help and you\\'d be much better seeking moe\\r\\nimmediate attention like the Samaritans etc (unless you\\'re scared of phone\\r\\ncalls like me!)\\r\\n\\r\\nI do symathise, but you need to share and you need to try first.\\r\\n \\r\\n I, and this thread, are probably not the best avenue to seek answers. It\\'s\\r\\nvery much a \\'give up\\' thread the way it\\'s going! \\r\\n\\r\\nStart your own thread. Tell your story if you want, writing it down can\\r\\nhelp clarify what areas of your life make you feel the way you do. You may\\r\\nhave a reason when you just keep writing.\\r\\n\\r\\nI\\'m not going to give you the easy answer and say \"I\\'m sure you\\'re amazing\"\\r\\nas I don\\'t know you and that\\'s just not realistic. I know nothing about you.\\r\\n\\r\\nHowever, on these boards are a lot of clever, kind, insightful people so\\r\\nthey would be much better placed to help you than me. I don\\'t think us\\r\\nmutually agreeing how tiring life is will help either of us.\\r\\n \\r\\n Kick away!\\r\\n\\r\\nFair enough, I don\\'t do much at the moment. I occasionally do a little bit\\r\\nof exercising (jogging/cycling) but a grey cloud, real or metaphorical,\\r\\nquickly kills any energy I have! I don\\'t think it\\'s the lack of doing\\r\\nanything that causes this however, I\\'m still \\'better\\' than when I was at\\r\\nwork/ socialising - but then if this is the best it gets... well.\\r\\n\\r\\nI have visitied the Doctor, and for the record he was really nice. Very\\r\\nsupportive in fact. But it didn\\'t change the fact I felt stupid and as if I\\r\\nwas wasting his, and others, time. I remember being really worked up about\\r\\nthe fact our appointment slot was overunning because I felt like I was\\r\\nholiding up other people. But I did that because my girlfriend was with me\\r\\nat all times (and forced me!) and because I needed to get a Doctors note\\r\\nfor work. Now I no longer work, I no longer need to waste people\\'s time.\\r\\nBut you\\'re right, I\\'m an expert in giving up!\\r\\n\\r\\nThe girlfriend question comment is a difficult one and the one I battle\\r\\nevery day more than anything else. If I leave her there is nowhere to go,\\r\\nthat really is it. I mean that in the practical sense here, house etc but\\r\\nalso it means that really is the end. I stay through her appeals and for\\r\\nmaybe that ounce of hope that she, and others, are right that it\\'ll pass.\\r\\nAlthough I\\'ve always been like this. I\\'m not staying with her for ease, or\\r\\nto string her along, but leaving her really is a final decision - I have no\\r\\nbelief there is something better than her. Probably makes no sense. The 1%\\r\\nhope keeps me alive, therefore the 1% keeps me here. If I lose the here, I\\r\\nhave absolutely zero interest in the alive.\\r\\n\\r\\nI really do appreciate your replies, a constructive kick is better than a\\r\\ncompassionate hug for me. But I can\\'t find that kick that I can\\'t talk my\\r\\nway around or explain away. I hate my head! I have actually tried\\r\\neverything I\\'m supposed to, maybe not for long enough, but I\\'ve seen zero\\r\\ndifference. Leaving work calmed me down and made me able to uncurl from a\\r\\nball but does that mean I can never return to a job? That then creates\\r\\ndifferent problems emotionally and financially.\\r\\n\\r\\nI saw the CBT guy but, nice as he was, he tried a religious route with me\\r\\n(never going to work) and I put on my fake chatty character for the hour,\\r\\neven if I was tired afterwards. It didn\\'t do anything. Even if I try to get\\r\\nrefered again by the Doctor, I\\'d actually be scared that I\\'d be seeing him\\r\\nagain, or be seen to have asked not for him - and although I\\'m fairly sure\\r\\nhe wouldn\\'t care, it genuinely freaks me out! How messed up is that?!\\r\\n\\r\\nI\\'m actually ok, if I prepare well, for an hour or so around people - I can\\r\\nseem easy going and chatty, any longer than that and it gets difficult. If\\r\\nI can\\'t prepare, i.e. I know there will be questions I\\'m not expecting or\\r\\nit\\'s someone I feel who will judge me e.g. a car mechanic as a \\'guy\\' then I\\r\\ncan\\'t do it. How silly is this - I still get uneasy surrounded by teenage\\r\\ngirls! I\\'m not in the remotest bit interested in them obviously, but just\\r\\nthe feeling of inadequacy/ that I\\'m a loser makes me feel \\'weird\\'. Same\\r\\nwith family, there is a duration before it gets too personal; I can feel\\r\\nmyself being overly happy and lively around them as if it\\'s all pouring out\\r\\non first meeting them but that there is a finite amount and then my energy\\r\\ndrops and I disappear.\\r\\n\\r\\nGrrr.... I\\'m whining again. Shoot me.\\r\\n \\r\\n '"
      ]
     },
     "execution_count": 120,
     "metadata": {},
     "output_type": "execute_result"
    }
   ],
   "source": [
    "dvirText"
   ]
  },
  {
   "cell_type": "code",
   "execution_count": 118,
   "metadata": {},
   "outputs": [
    {
     "name": "stdout",
     "output_type": "stream",
     "text": [
      "+---------------+---------------+\n",
      "| Punctuation   |  Appearance   |\n",
      "+===============+===============+\n",
      "| :             |       5       |\n",
      "+---------------+---------------+\n",
      "| ,             |      483      |\n",
      "+---------------+---------------+\n",
      "| -             |      97       |\n",
      "+---------------+---------------+\n",
      "| =             |       0       |\n",
      "+---------------+---------------+\n",
      "| ;             |      18       |\n",
      "+---------------+---------------+\n",
      "| .             |      525      |\n",
      "+---------------+---------------+\n",
      "| !             |      128      |\n",
      "+---------------+---------------+\n",
      "| ?             |      32       |\n",
      "+---------------+---------------+\n",
      "| (             |      51       |\n",
      "+---------------+---------------+\n",
      "| )             |      51       |\n",
      "+---------------+---------------+\n",
      "| '             |      641      |\n",
      "+---------------+---------------+\n",
      "| #             |       0       |\n",
      "+---------------+---------------+\n",
      "| \\             |       0       |\n",
      "+---------------+---------------+\n",
      "\n",
      "Number of words:  1442\n",
      "Number of characters:  59430\n",
      "Capital letters appearance:  0.020747097425542656\n",
      "Uniqe capital letters:  21\n",
      "Uniqe lower letters:  26\n",
      "digits characters appearance:  0.0006057546693589097\n"
     ]
    }
   ],
   "source": [
    "get_general_details(dvirText)"
   ]
  },
  {
   "cell_type": "markdown",
   "metadata": {},
   "source": [
    "In this type, unlike the previous ones, there are many characters , we can see that the number of digits in the text are very small so for our goal, it will not effet if we will remove them and thereby reduce the size of the dictionary. the same about capital letters (convert to lower letters).  \n",
    "we will also remove ':' because it exist only 5 times. and as we did before we change \\r\\n to #.  \n",
    "we do all this steps to reduce the size of the vocabulary so the model will be trained better and faster."
   ]
  },
  {
   "cell_type": "code",
   "execution_count": 16,
   "metadata": {},
   "outputs": [
    {
     "data": {
      "text/plain": [
       "'i\\'m not even sure i have depression, i think this may just be \\'me\\'. #  # i have always been pretty useless socially, but have had a normal # upbringing, no horrible experiences, have gone through education fine and # even got jobs but i\\'ve never enjoyed life, never really cared and normally # feel like i\\'m not really worth anything and, inevitably enventually, will # become a burden. #  # i\\'m not going to be dramatic and say i\\'m going to end it, it sounds so # pathetic no offence intended to anyone but i have thoughts of \\'going\\' or # even dreams that i could die \\'blamelessly\\' thorugh accident or illness. # selfish i know. #  # i have a cycle. get job, put on confident easy going persona, get # physically tired from doing that, lose energy to maintain job, focus on # negative, leave job in some form fired/quit. friends are much the same, # play easy going fun, can\\'t keep it up, lose or push them away. # relationships, get attracted to ones who need help, help them in anyway i # can, get to a point where i feel i am no more use so should go as they\\'d be # ultimately better off. #  # so, currently i\\'ve quit my job as a teacher, couldn\\'t take it  always # something to improve and with my way of thinking that just sounds like # constantly someone telling you you\\'re useless and it backing up your own # thoughts anyway but even though i liked aspects of my job i don\\'t think i # had a passion like i see in others. i felt i\\'d let everyone down so # disappeared, my partner/ parents got me through immediate days after my # sudden departure from work and saw doc who was nice enough  put me on # medication which seemed to do very little  even after a few months. in # fact it only had negative side effects so about three weeks ago i stopped # taking them completely. i also started seeing a cbt person about three/four # session ago but this feels like it\\'s doing nothing at all either, we talk, # i\\'m honest as i can be but there is some element of being \\'public\\' and # putting on that face/ jokey responses. #  # i dip between a wish to not be around that is forever there and seems to be # backed up with wholly logical reasons that people genuinely struggle to # refute to absolutely crashing panic attacks/ given up when my \\'theories\\' # are proved. #  # i know this sounds odd, but i don\\'t even have the will to get \\'better\\', # largely because i don\\'t think i can. i am just \\'me\\'. i am negative, boring # and even if it is all just selffullfillng profecies  it\\'s still me who has # done that. i\\'m not blaming life, or others or anything else. #  # a lot of the posts i read on here seem to have good reason pts, loss, # finances etc  does anyone have no \\'good\\' reason? #  # i just feel i\\'m never going to be happy, i am soon to be much a burden on # those around me my gf and that, in the long run, it\\'d be better for all # if i just went. i know my family and gf love me  but time heals, life # would get better and people move on. in the long run i\\'m sure it wouldn\\'t # effect my family and       % sure my gf would be better off. #  # not sure if there is an answer for this, just writing. i\\'m not angry, i\\'m # not hurt, i\\'m not even sad as such, i\\'m just tired... #   #  what a fantastic answer, but also a really bad one!! let me explain... #  # firstly i\\'m very pleased to see you are happy and treat every day  # as a # gift. obviously i\\'m sorry you have such daily physical problems but i\\'m # sure that makes you even happier you did the skydiving when you did. i\\'m # really pleased what you did worked for you and it\\'s encouraging to find a # rare example of someone who has somewhat defeated depression even if the # cost of that has been quite extreme. #  # but then on the same hand, not recognising how lucky i am isn\\'t th # e # problem, it\\'s knowing that i am and i\\'m still not feeling good which then # further compounds how bad i feel about myself. i know i\\'m luckier than # most, i know things could be worse, i live in an affluent country with # water on tap, have good health and had a normal upbringing with no major # traumas. so knowing this makes me feel even worse about myself. i see # i\\'m selfish, and ungrateful, and petty and all other words  why can\\'t i # just be happy? #  # i\\'ve put my life on the line a few times, both within the safety c # onfines # of organised activities and on the less controlled activities i may do # myself  it doesn\\'t help me. being near death doesn\\'t impact me positively # or negatively  i\\'m almost apathetic to it. #  # and this is why your answer is both fantastic and bad! for you, an # d others # it may work. you are obviously an inspiration to lots of people not only # for the physical issues which are almost a separate issue but for the # fact you have altered your way of thinking in a positive manner. but they # also highlight how everyone\\'s issues are unique  and as well intentioned, # and even correct, your view that it could be worse it, that can actually # make people feel worse. #  # if we all focused on \\'it could be worse\\' they\\'d be very few people #  in this # world who could complain, unfortunately it\\'s not that simple. this # depression doesn\\'t care that i\\'m lucky, it just cares that i think badly of # myelf and reminds me of it every day and actually accelerates when i speak # to people who could argue they do have a good reason to feel bad. i know i # don\\'t  and that makes it even worse. #  # thanks for your reply, i hope i didn\\'t come across aggressively! i # \\'m very # happy that you are happy and hope things improve if that\\'s possible for # you. good luck, have a great christmas and a lovely new year. #   #  i had a few people on her write to me over xmas/ new year but needed to # ignore them  too much energy was needed to focus on acting happy and # normal around family! #  # i wish i could talk to you more directly than on an open forum. i\\' # ve said # before, knowledge is a great thing  but it can also be a curse. you need # to be particuarly careful selfdiagnosing but also need to think whether # this diagnosis is in any way helpful to you. say you decide that you are # hfas  how does that help you? if you can\\'t source help then it is just # another meaningless semantic for feeling awful day to day. #  # i\\'ve also mentioned that it is probably important to get outside y # our own # head  think about doing things that stop you thinking about yourself. # however, as a caveat, i also recognise doing anything like talking to # another human being as you rightly point out! can be extrememly stressful. #  # i\\'d never pick holes in others punctuation and grammar unless they #  were # doing it to others! it\\'s a forum, not a thesis! however if you have the # time and pride to check your message back then maybe you do have the time # to look at hfas if it interests you. #  # to be honest, knowledge is something i despise yet am addicted to  # so i # will inevitably be searching hfsa after i\\'ve written this reply! but # without an argument or focus it is impossible to really research a topic to # any purpose. i will happily help others if i can preferably from afar! # but not sure what i could do to focus your research on this matter and # whether it\\'d even be of any benefit to you anyway. #  # like i said, there is certainly an interesting discussion to be ha # d but # unfortunately i doubt this is the place to do it effectively for you or i. #  # good luck. #   #  quick research, scan read. told you i would... i definitely don\\'t have # hfsa. you may well have but it\\'d take more than a quick chat to establish # that. #  # as i\\'m sure you\\'re aware, everyone is somewhere on the autistic sp # ectrum # and all the various labels that spin off that. even the most \\'normal\\' of # people might feel particuarly calmed by a colour, or get irritated by a # simple tapping noise. the issues arise when your \\'quirks\\' impact on your # life. mine do for me, and yours sound like they do for you. #  # i have had a ton of labels i have both researched or been told abo # ut that # might fit my ways of thinking and acting but the conclusion i reached was # that it was all kind of pointless  a label by its very nature is just a # broad title to fit many people and when that comes to the brain it\\'s a very # pointless exercise. you might be able to group broken limbs in patients but # with the head it\\'s nearly impossible   there\\'s too many bits that do or # don\\'t apply for every individual. ultimately a title is only helpful to # point you in the right direction to get you personalised help. and it has # to be personalised. #  # i think i have depression, with social anxiety. i have signs of bi # polar, i # get symptoms of sad, i have trichotillomania, i have mild ocd that gets # worse if i\\'m stressed, i have panic attacks, i over think everything, i # have low selfesteem and no confidence, i feel suicidal most days and a # million other minilabels. doesn\\'t help me though. it\\'s the classic \\'what\\'s # in a name?\\' #  # i hope you see my point. we sound very similar yet i would class m # yself as # a people pleaser, i rarely sure emotion outside the house and am overly # polite to even strangers. so whilst hfsa might apply in parts, it doesn\\'t # solve everything. #  # think about what you want from this title. how will it help you? y # ou might # be better focusing on the things that make you feel better, not labelling # something that makes you feel bad. #  # good luck. #   #  i doubt you have no one, family is only one part. work friends? neighbours? #  # but, for the sake of discussion, if there is really noone then in a way # you know how to feel better and that gives you a lot of power. i don\\'t even # know how to be \\'happy\\' and feel i should leave those around me before i # drag them down too! #  # if you feel lonely, then be a little more proactive, join some clubs or # groups etc. without being offensive, you are a little older than me and # there are a lot more clubs set up for your age group than mine that # wouldn\\'t be intimidating. i get expectations of sports clubs loud bravado # people! or nightclubs etc where as i\\'m sure there are more suitable groups # for you. knowing what you want to make you happy is a great thing. #  # as for your family, you seem to want nothing to do with them. great! sorry, # people on here may say that\\'s sad etc or to try but it\\'s your situation  # if you simply don\\'t get on then absolutely forget them. people survive # without families all the time. or you mentioned the recluse, maybe you need # each other... #  # i sympathise, in case that didn\\'t come across, so whilst i appreciate i # have one on you by having a partner although that can make you feel worse # by the way in that you feel like a burden you also have one on me knowing # what will make you happy. #  # you don\\'t need family/partner to feel loved. in fact family\\'s love often # feels more \\'because you\\'re family\\' than out of want. friends are there # purely because they want to be. #   #  hi hypercat, i really didn\\'t mean any offence, i just meant you have more # access to such activities due to your age. i bet most of the people in # those activities you talk of are of similar age and are in similar # situations due to unemployment, retirement etc. you may well be the # youngest there but i\\'m sure you have plenty in common with them. in fact # i\\'m envious! all i was trying to say is there isn\\'t that social world more # mid      year olds, you\\'re kind of expected to be all sociable and loud. my # one friend tried to get me to go to a craft course  he\\'s ten years older # than me, and he was youngest be      years! it doesn\\'t mean its not pleasant # to some degree but you do feel very \\'odd one out\\' #  # i apologise if i jumped to conclusions based on your message but i maintain # that with the active social life you live you have loads of people who # would miss you. love is not exclusively available from family and partners. # you seemed to suggest this was why you were largely unhappy so i think you # know what makes you tick you miss a partner/ family bonds. i\\'m not going # to be stupid enough to say \\'fix it\\' then as it\\'s never that simple, but # knowing what would make you happy is a positive at least it gives you a # target. #   #  great message. funnily enough i am/was a teacher too  but i think the # environment is particularly toxic for those with is style of thinking the # profession is based around you/ the work never being good enough and what # can you do to improve in the uk #  # catch      means that once this impacts you to the degree i had to quit my # job, it means you cut off a social group and have no money for new # experiences/ days out. #  # as regards you, i\\'d stay in australia! i imagine it\\'s a lot nicer when you # have a crappy day opening the curtains to sunshine! tthat\\'d make a little, # but significant difference. #  # i\\'m not sure what i\\'ll do now, think teaching is gone, can\\'t see what i can # do to keep me \\'sane\\' as a career and find very little point in most things. # i go to cbt but it just feels like we\\'re talking about philosophy, my way # of thinking hasn\\'t changed one iota. #  # i had no reasons to think this way, i created them almost. now i actually # have no job etc. i am not a victim, i did it to myself. i think i have just # given up, if i see          i will be a little surprised as i imagine something # will come along in next few months that will be enough to knock me fully # over the edge an unexpected bill, a worry how i\\'m impacting on my partner, # a death in the family  something... #   #  i do love travelling but now, having just had to quit work, it isn\\'t even # possible for me to \\'save\\' at all. besides, my gf still has a job so i\\'m # taking on my full time job of being a burden  #  # everything you write makes perfect sense. but the most relevant part is the # tone you seem to know everything isn\\'t perfect but know your triggers and # that there is good and bad. i was joking about staying in oz, i fully # recognise complications regarding family etc. fortunately, or # unfortunately, i now have no friends, no job, limited family that i see # rarely anyway so am not tied to any geographical place. it\\'s just gfs job # that keeps me where i am. #  # i just struggle with people so much that i need a job that has little # interaction. don\\'t get me wrong, most people would see me as easy going, # relaxed, even funny at work but it is all such a tiring act i can never # maintain it. i just spend my time thinking they don\\'t really like me, or # they think i\\'m an idiot or that i\\'m crap at my job. think i just need to be # a recluse! #   #  we certainly have strong similarities, you seem to be a lot further along # in your understanding of you and your triggers though. going to australia # in the first place is quite an acheivement and you must be doing something # right! #  # i too only really get enjoyment from helping others, the issue comes that # when that \\'problem\\' is solved i feel of no use and begin to withdraw. i # have done it with friends and family. my girlfriend is a case in point, she # had relationship, financial and work issues and i helped her solve all of # these to be in a better place to the point now she considers everything to # be pretty good in those departments, but i have nothing left to offer her. # worse still, i am now only going to be a burdn on her financially and # emotionally and can offer her no decent future prospects. all that swims in # my head is \"if you love them let them go\" as staying with her seems very # selfish. #  # however, she is the first person who i have ever really shared this with. # my past relationships completed the cycle! she understands as much as one # can and is very supportive but i feel that her patience must run out # eventually she\\'s a teacher so she does have a lot! and she shouldn\\'t have # to deal with this anyway. #  # if i were you i\\'d visit america. not sure where you\\'re going but if you # have the means then do it. if nothing else it is something to look back on # one day and think \\'wow, i did that\\' and gives you that ton more of info to # talk about with friends, strangers, future partners that can fill those # awkward moments when you\\'re not sure what to say! you\\'ve lived abroad, # nearly everyone would say that\\'s pretty cool! #  # cheers for the offer of a drink ha ha! but i\\'m so crap i\\'d probably just # put it off and hope to be left alone! the lovely thing about the internet # is it is so anonymous even i don\\'t mind being honest. the second i meet # someone i\\'m worrying i\\'m boring them, annoying them etc! even my cbt doc! #  # i wish i could find just one positive to focus on. i really can\\'t. the only # one i should have my gf i twist to make it one of the biggest negatives  # me being a burden to her. i\\'m not fun, i\\'m not confident, i now have no # job, i have cr*p future financially, i can never acheive in basic things # like house buying etc i\\'ve never even owned a car in my name! because # every time i get myself on an even keel i sabotage it best i can, waiting # for the disaster to hit. #  # cheers for the replies. #   #  thanks for the reply, its nice to know you\\'re not alone isn\\'t it? however, # it\\'d be nicer if people said it got any better! i hate the idea that this # is forever, like an alcoholic or something! #  # i hope you haven\\'t given up i don\\'t know how you just \\'get over it\\', for # good or bad! i have no spiritualty i almost envy those who do! so am # under no illusions that it gets better after life but, much like someone in # constant physical pain, i feel like i should be allowed to just give up # without guilt. #  # i fully empathise with your issues, they sound identical! i beat myself up # a little more as, being a man, society expects you to step up  think i get # weird looks when the gf is dealing with everything! #  # i wish you luck with your future too  i hope you are doing something to # try and fight it as i think without at least trying meds/ talk therapy etc # then giving up in your head can easily turn in to giving up \\'properly\\'. #   #  i have read the replies and sympathise with you all, despite it being some # time since i wrote the original post. unfortunately little changes. #  # paulsinbc you sound very similar! i\\'m impressed you can volunteer, i # struggle with people and then somehow feel worse as i think i should be # able to cope compared to people who have real problems. i\\'ve never felt # hard done by or unfortunate  my problems are me! #  # however, you\\'re right, there is an element of fanning the flames! the # reason i\\'ve largely stopped looking at this site is i don\\'t see a benefit # for me or anyone else. i recognise some may get comfort from support from # like minded people, or signposted to suitable resources or recognise # symptoms of pts or similar, but for me all i read is people who live with # it forever with no answers and that in itself is depressing. #  # people say knowledge is power, but i find it to be a curse. the more you # know, the more you realise your insignificance, the hopelessness of # situations and the reality of the world rather than the rosetinted \\'it\\'ll # all work out in the end\\' view we\\'re told to believe. i really struggle with # the inability of professionals to accept that some people don\\'t succeed, # some people do fail, some people aren\\'t talented, some people aren\\'t nice  # why can\\'t that be me? it\\'s no different than saying \"it can\\'t happen to me\". #  # so for that reason i\\'m very much keeping this site at arms length. i\\'d # unrealistically hoped for advice or signposting or, ridiculously, a miracle # cure but it\\'s more a gathering for people to support each other with # knowing nods or virtual hugs. i recognise the support that may give to # others but for me, it just makes me feel worse. #   #  what is it with my compulsion to reply despite my last comment?! [image # wink] #  # yeah    months, feels both more and less. unfortunately i doubt i will # either give you insightful answers or even a nice positive slant on my # response  you have been warned! #  # little has changed. i tried drugs, didn\\'t work, i tried therapy, too much # religion and not willing to try again  a weird catch      in where you need # to ask for help but are afraid of talking to people even day to day. # friends are nonexistent, i quit my job and haven\\'t returned. i still feel # like a burden to those around me, and how ever much they care it doesn\\'t # excuse it  in fact it makes it worse. i can\\'t escape feeling that if i was # a good person then i\\'d protect them from me  if you were highly infectious # with a  deadly disease would you hug your family? so internally and # externally, very much status quo. i\\'m still here, slightly surprisingly. #  # it is fair to say i\\'m confused as to my wants and beliefs about my # situation. one day it\\'s just me and there is no hope, next day it\\'s won\\'t # please someone give me a magic wand but i won\\'t ask!. if i seem # ungrateful with any responses then that wasn\\'t my intention, maybe it\\'s my # way, i always focus on negative and all i see is lots of people struggling # and noone coming out the other side. it feels like the blind leading the # blind. #  # further more most people seem to have a good reason through circumstance or # substance abuse or dramas in their life i\\'m just like this for no real # reason. pretty pathetic really. #  # my girlfriend does support me but it both helps me survive and yet stops me # facing my issues and makes me feel not good enough and as if i\\'m holding # her back. i know she doesn\\'t feel that, but i feel like it must or it will # eventually when she realises what she\\'ll miss out on. #  # cycles of mood are continuous but rarely hit a positive slant, some days # i\\'m just ok and potter around and others i feel the strongest urge to give # up. the only trigger i know doesn\\'t help but isn\\'t crucial is the weather # but that\\'s common with lots of people. a bad day will turn in to a bed day # easily if it\\'s grey! lucky i live in uk  #  # i\\'ve tried improvements in diet etc but i\\'m not exactly a bad eater anyway, # exercise is fine but doesn\\'t really change anything, just gives me # something to do. easily lose will to do it though. my socialising is # obviously nonexistent and i try to encourage girlfriend to do her own thing # with friends in that respect. #  # so in summary, nothings changed, i\\'m in a state of status quo, every plan i # come up with i find a major flaw in, i strongly doubt there\\'s a way out, i # hate the way i look, sound and feel and feel i should protect people from # their own blinkered love. #  # so, sorry and hope you have more success. #   #  i\\'m not deluded enough to think people wouldn\\'t care if someone close to # them wasn\\'t there anymore. people aren\\'t generally that heartless. however, # it doesn\\'t mean they wouldn\\'t be better off. like a child who is removed # from an unfit parent they\\'d cry and be upset and miss them but ultimately # they\\'re better off. we all get over loss  we don\\'t as easily get over # regret, disappointment and missed opportunities. only i hold people back. #  # i agree, i have nothing to really complain about, i almost wish i did as # then it\\'d explain it. i just can\\'t cope with society i can\\'t even talk to # people on the phone or worry about what a stranger thinks of me. i just # don\\'t know what to do stubbornness, stupidity, anxiety stops me from doing # things and every time i try to fight it i can only keep up the pretence for # a while and then everything collapses. i just know i\\'m right  we seem # scared to admit some people are just failures and not equipped. we could # name loads of people in our lives we could say are useless or horrible etc, # but the second their is an element of affection for them is we decide to # lie to them and ourselves  \"they\\'re just unlucky/ need help/ have hidden # talents\"  i don\\'t believe it. #  # i have, and if not struggling, do still do a fair bit of exercise. cycling, # jogging etc but fitness has never really helped. in my     s particularly i # was extremely fit but it didn\\'t help. when i said way i look i meant more # appearance than shape. #  # i do appreciate responses but worry there is no hope. maybe i can\\'t hear it # even if there is.... #   #  i smiled at that last comment  my girlfriend says i\\'m too nice. it\\'s a # idea i struggle with how can someone be too nice? but she says people # just take advantage or walk all over me. i\\'d bend over backwards to help a # stranger even if it detrimented me which is possibly part and parcel of the # worrying about what others think element. so whilst on here i may come # across ungrateful i can assure you i\\'m not really  this is perhaps my # selfish place. i\\'ve tried to be very thankful for all the responses on # here, i just struggle to see any benefit in it. #  # you can\\'t say you have a hidden talent and then not say what it is [image # wink] that\\'s just mean...! good for you though. genuinely. however some # people are just bang on average, i\\'m one of those. i\\'m not in some deluded # spiral that makes me think i\\'m the worst at anything, or have a difficult # hand or anything, i\\'m just realistic and know i, like many others, are just # bang on average but if i do dip one way it\\'s always the worse than average # way. it\\'s my head that beats me up for my limitations and stops me just # fuctioning  it\\'s hard to explain so i\\'ll stop! #  # trying to think of good things is difficult for me, i can\\'t think of # anything i can\\'t put a negative slant on! maybe i\\'m good at arguing... but # if i look at widely accepted sections of my life it\\'s not a good overall # picture #  # family  fed up with me, disappointed and feel sorry for me on one hand. # have never really included me anyway but maybe that\\'s my withdrawal # tendancies #  # love life  good and yet that makes it bad! if i didn\\'t care about her i\\'d # be quite happy taking advantage but if you love someone you don\\'t want to # hurt them in any way, emotionally, financially, future etc. if you love # them let them go as the saying goes... #  # financially  was poor, sorted with job, would be cleared up in a few years # credit but don\\'t struggle day to day at all as girlfriend is very # successful. so i\\'m just leaching... #  # friends  if you can measure a person by their friends then i\\'m zero. i # mean zero, not one person. my fault, there fault it, it doesn\\'t really # matter. #  # health  other than this! ok really, standard weight, normal height, # don\\'t smoke, drink or do drugs. eat reasonably healthily and do sport # sporadically when it\\'s either sunny and/or i have a spark of inspiration. # tried routines, lasted a week before a bad day threw it all off. #  # career  down the pooper! can\\'t return to full time teaching, know i can\\'t # do that. to \\'stuck up\\' for want of a better word to take a shop job knowing # i trained to be a teacher. also can\\'t find another job that is term time # only to spend time with partner. i\\'d struggle in any job anyway. too # overqualified for most things that might suit purpose. supply is # possibility but that means new people and stuff every day  not my string # point! plus it means phone calls for availability and i can\\'t talk on # phone! pathetic, whinging, excuse riddled crap eh? not on benefits or # anything as gf is on plentiful wage. #  # looks  awful, have the face of a teenager who can\\'t grow even a hint of a # moustache never mind a beard which means i\\'m constantly asked for id or my # parents if a knock at the door despite being     !!! people say you should # be flattered but to me it feels like a kick in the face  maybe it\\'s the # bloke thing, it\\'s like people telling you you\\'re a child. i almost am a # child... my facial skin is awful too, no creams or regimes suggested by the # girlfriend work so i\\'ve just given up. maybe i\\'m an expert at giving up!! # to be fair, all things above have been tried for at least    months from # drugs to therapy to face cream! #  # i do appreciate your help/advice. i still wonder if it\\'s just character # rather than depression. maybe i\\'m just a cynical, boring, lonely, ugly # loner. that\\'s fine when it\\'s just you, a killer when you feel you\\'re # holding others back from a \\'proper\\' life. #   #  resisting the urge to get in to a theological debate... let\\'s just agree to # disagree. sometimes i envy those with faith, today i almost feel anger... # anyway, my problem not yours. #  # i hope things improve for you,hopefully your faith gives you a bas # e to # work from and you turn around those feelings you have. if you believe what # you have written then i feel you are closer than you think you are to # accepting/being happy. #  # i\\'m as tired as i\\'ve ever been. tired, bored and had enough. i can # \\'t even # think of a positive thing to say. i think i\\'m ready to sleep now. #   #  let me start by saying i feel for you, i really do. you have a genuine # reason to feel like you do and should not feel bad or apologise for asking # for help! you make me feel even more pathetic but that\\'s my issue rather # than yours!! perspective makes me think even worse of myself as i know i\\'m # lucky compared to lots  so why do i feel like this? #  # as regards the drug route, a lot of people have suggested this. however one # major issue stops me and is not really ever talked about  i\\'m terrified of # people/meetings etc! so i can\\'t see a doctor! when at my lowest i was being # ferried around so had no choice and needed a doctors note etc but now the # thought of seeing a doctor or any body i know i have to talk to terrifies # me to the point i\\'d almost have a panic attack. so not sure what to do # there really! still not convinced on the drug thing anyway  it only made # me slightly manic obsessed with projects and had no effect on my overall # mood at all, well other than making the idea of \\'going\\' seem even more # rational. #  # so instead of me whinging on and on let me just make a few completely # uneducated comments regarding your situation. you don\\'t seem depressed so # much as tired! i don\\'t mean that in a dismissive way but you clearly have a # lot on your plate and i think if there is any you need some support. i\\'d # go as far as saying i doubt the drugs are halping you  they seem to be # treating a symptom not a cause. #  # did you have anxiety before all the pressures you\\'re under? i think you\\'d # feel a hell of a lot better quicker if you directed your energy to finding # financial and/or respite support if there is any. you\\'re probably doing too # much and it\\'s impacting on your health physically and emotionally. if there # isn\\'t any further help then, other than shaking your head at the hand # you\\'ve been dealt, then you seem to have a good plan of action at the # moment. if that plan could be super organised to include you as in time # for yourself etc and maybe incorporate a job if you so wished you may # find you were in control a bit more. #  # i\\'m not trying to sound dismissive at all i promise! you have a compelling # reason to feel the way you do and i acknowledge i\\'m talking without all the # facts. i just get the sense it\\'s a lack of control on a very hectic/ # emotional draining life that is you\\'re primary concern. for example, if you # won the lottery and could deal with all the bills and give the care to your # daughter you wish do you think you\\'d feel infinitely better? you\\'re # depressed because of the situation i think so hopefully either you, or you # and others, could plan a route that would help you considerably. i think # there is a lot of hope for you to be very happy and enjoy your life with # your daughter but you\\'ve just been struggling for years and it\\'s worn you # down. asking for help other than medicinal is the right way to go. #   #  please don\\'t be sorry  very aware that\\'s my issue not yours! #  # you sound like you have a very clear plan, you almost sound excited! i\\'m # sure you are, but if you\\'re not do, but make that your focus and you may # feel the clouds lift quite a lot! i envy that purpose, or goal or action # plan  i can\\'t think of any! #  # i think my girlfriend might stay with someone she felt sorry for, like a # responsibility for so to speak. i think she would be sad if i \\'left\\' but # she\\'d be happy again a lot sooner than having to live with me! it\\'s quite # analytical, i recognise that, but to me i\\'d rather her be sad for a year # with \\'loss\\' rather than sad for      years with me! it\\'s weighing up value, # short term pain for long term gain... as for a job, my head stops me, i # feel i can do most jobs but only temporarily as my head messes me up, # messes my professional relationships up and i just can\\'t see how i can hold # down a job  it\\'s hard to explain, but being sociable like you have to be # at work is almost physically draining and eventually my energy runs out # and i drop all the balls i\\'m juggling. #  # you may be right about reason for depression but the genetic one concerns # me most  that means i\\'ll never be \\'fixed\\'... i\\'d rather just give up now. #  # ordinary to me is depressing. ordinary is forgetable, ordinary is boring, # ordinary doesn\\'t \\'exist\\'. to give you a glimpse of my thinking the popular # kids in school were \\'exceptional\\', but even the bullied kids had something # about them. when you\\'re average, you\\'re invisible. you can take the # friendly mick out of someone who\\'s bad at something, you can admire the # talent of someone who\\'s great at something, but when someone is average # it\\'s just a shrug, no story, move on. i\\'m genuinely the most forgettable # man in the world! i\\'m one of a large group of siblings, i\\'m one forgotten # in family dos, i was one forgotten at school old teacher remembered all # siblings during catch up chat to parents bar me i\\'m one forgotten at work #  i really am a waste of space! #  # the media\\'s main fault is trying to make people believe that happy endings # exist, that we all have a hidden talent and if you want something enough # then it magically comes true. sorry, my view is very much it doesn\\'t! it # doesn\\'t \\'all work out in the end\\' and we\\'re just fed this fantasy world # that depresses us when the reality slaps us in the face! #  # sorry  trying so hard not to just \\'release\\' on here.... #   #  please do not get me wrong, i do not believe any one characteristic makes # someone of no value, further more i think it\\'d be impossible not to be of # some value, it\\'s just to what weighting you give a value when compared to # all the problems it may cause. for example, alcohol gives you a small boost # but, when abused, can cause significant problems. for those with a problem, # it may be better to just give up the alcohol. #  # i too have multiple issues with religion that\\'s a real rant! but i don\\'t # think anyone has the right to judge another. i would never judge anyone # else as worthless, but i know myself and can judge myself. i stand by that # judgement based on what i know, what i do, what i think and the proof i # have. a person suffering from anorexia will ignore the scales reading too # low a weight, i suffer from no dilusions. everything points to me being # everything i think i am. #  # you sound like a much better person than me, you maintain strength in # difficulty and have the fight in you to counter injustice. i can barely # face people so volunteering is out of the question, whether that is lazy or # cowardly, i simply can\\'t pretend to be \\'normal\\' any more and public is so # much energy. #  # i am a faceless person on here. the reality of me is much worse. #   #  i care a lot about most people, more than is healthy perhaps. i take on # others problems if i can and feel more useful if i\\'m helping someone else. # i\\'m often accused of making people\\'s decisions for them regarding me # though, although i don\\'t see that as an issue if i\\'m protecting them. for # example i say i should leave gf to protect her, she and family say it\\'s her # decision to give up on me not mine. i still struggle a lot with that way of # thinking. i feel you should protect people, even from themselves sometimes. #  # a reply after    months due to some shift.... bit more mundane i\\'m afraid, # someone replied after a long time, put effort in to their thread and i had # an email telling me so i felt it was polite to respond! sorry! #  # is \\'holding back\\' a strange metaphor?! d but yeah, maybe that\\'s what it is #  in fact it\\'d be easier to escape as i have no upper body strength at all! # but it\\'s meant more in the way that if i struggle through on the low level # i am my girlfriend will put up with it and not have the marrigate, house, # holidays, and have to basically look after me phone calls, sorting # anything that invloves others, avoiding social events to look after me # where as if i went, she\\'d be sad for a while, perhaps never even forget, # but move on and get a \\'proper\\' boyfriend and get all that stuff. she didn\\'t # sign up for this  she met the fake easygoing confident full time teacher # with prospects...! #  # is there such thing as too much time on a computer?! i didn\\'t realise! i # filled in a survey the other day  it said how long do you spend on the # interent a day. i was strugling to find the \\'all day\\' option! #   #  it\\'s strange talking on the internet as you answer one comment but then # someone else adds an extension question, but all of it is stuff you\\'ve # thought before. does that make sense?! another words, whilst i offer my # opinion on a particular though process it doesn\\'t mean i\\'ve not actually # gone far beyond that in my own thinking. #  # so to answer your very well thoughout view, it is all stuff i have thought # of before and almost counted out! i\\'m just a whiner obviously  #  # if i did what i want i\\'d be sportsman, but then we have to be realistic and # say that isn\\'t going to bring in any wage! besides, i also know i struggle # in team situations in reality as i struggle with the bravado that is # especially prevalent in male sports. so what else do i enjoy, genuinely, # nothing. but even i recognise that might be an extension of my apathy. # teaching is fun, i love working with kids... but the other teachers, # parents, ofsted, paperwork, and most constant judgement of any career makes # it impossible. on a side note, if you have any issues with self confidence, # teaching is not the way to go! i\\'ve never known a career in which you\\'re so # reguarly scutinised and there\\'s always something you could have done better #  and if you\\'re of a fragile nature you naturally only focus on that. #  # no jobs don\\'t have to be people based, i too have worked in media as a # journalist although that is people based! but can\\'t think of anything i\\'d # enjoy or, more pertinently, be able to do  skill, time or wage wise! # setting up a cattery would be nice, but need money for that. being an # architect always appealed by i have neither the time course duration or # the skills to do it! #  # i\\'m not sure if this is normal or not i struggle with people but also # struggle alone. it\\'s not like once i have escaped people i feel relaxed. # maybe i\\'m in a sydrome called \\'grass is always greener\\'! when left alone i # am even more self destructive in my thoughts  thinking time is not good # time. #  # i do appreciate you saying \\'maybe there isn\\'t anything you massively excel # in\\'  it\\'s those kind of statements that make me think people are writing # realistically rather than using a softly softly approach. it\\'s not like # negatives are the only reality but i can only begin to believe a statement # if people acknowledge the bad. people saying \"i\\'m sure you\\'re good at x\" # just makes me turn off, someone saying \"ok, you\\'re crap at that but # try....\" is much more realistic. unfortunately i haven\\'t found the good # thing! #  # i know that \\'you\\'d be better off\\' is an extremely frustrating statement. # the question is, do you reveal what you\\'re thinking or keep it to yourself? # i always say \\'be careful what you ask or you might not like the answer\\', # but if i\\'m being asked to open up and not bottle feelings then where is the # line on what is acceptable to share and what isn\\'t? i can\\'t help very # strongly feeling that. #  # i do think time heals and it seems logical to reduce any pain to it\\'s # minimum a year or so after i\\'m gone or a lifetime of regrets, missed # opportunities and struggles with me around. i can\\'t do the whole marriage, # kids thing. i am next to useless when it comes to mortgages and luxuries. # we all start with dreams of being rich and famous and having everything we # want, we then give up certain dreams as childhood subsides and reality # kicks in, as we get older we give up more and more dreams as we can\\'t # achieve them. but once you\\'ve given up every dream, don\\'t you just fade # away? a very old person knows they will not travel the world again, they # know they can not look like a      year old movie star, their wish may be to # see a grandchild go to university or even simply to reach       . but once # you\\'ve done everything you can do, or know you will ever do, then, to me, # it feels like it\\'s time to go. #  # i tried the meds, ok only once, but it didn\\'t work. i can\\'t face going back # to the doctors again and having to talk about all this. it feel so pathetic # talking to a grown man about my piddly stupid head. there\\'s people going in # there with proper problems, or at least fixable ones! #  # am i afraid of death? not really, the thought of it is very much in my # head. and i mean the actual thought, not the before or the after, the # thought of that last breath then nothing. i don\\'t think greatly of the # drama of after a death like \\'oh people will miss me etc etc i just am # transfixed on the thought of that very last spark of the brain. it will # come one day. whilst i\\'m very careful not to talk about suicide on here # \\'gone\\' or \\'left\\' being much friendlier terms i know i\\'d never make me # passing traumatic for train divers, dog walkers or unsuspecting family # members. #  # bungeejumping, skydiving or vegas all sound great. but that\\'s where the # reality sets in, how exactly am i paying for this?! if there was one thing # that i think would have the greatest impact on my mental health it\\'d be # winning the lottery  i could then distract myself with things, or feel # like i was providing for my family. i\\'d still have those demons, i\\'d still # avoid people, i\\'d still have no friends etc, but instead of stewing i\\'d be # being kept busy on a beach in hawaii! money doesn\\'t solve everything, but # it makes the low points easier to deal with as you can more readily escape. # i do love travel that being said, and when ever i can afford it i do. #  # i\\'m never going to feel differently to the way i do... that\\'s as far as i\\'m # willing to agree with your last statement!  i\\'ve actually # tried the big changes, i\\'ve tried doing the things that scare me or out of # my comfort zone. i went to university alone, along way away from family, i # travelled europe camping for a summer, i took on jobs i didn\\'t think i # could do, i moved to new areas with no contacts. i think i\\'ve done # everything i\\'m \\'supposed\\' to improve myself and my thinking. but none of it # worked, all of is possibly selfinflicted failed, i always reverted to # \\'type\\'. #  # i appreciate everyone on here giving their time to convince me otherwise. i # have never doubted there are very nice people in this world, just as there # are horrible ones. i do believe the horrible ones get a \\'better\\' life but # that\\'s a different conversation. but i\\'m beginning to find that me # answering these views is just making me more sure i\\'m right  i\\'m a # hopeless case. #  # whether it\\'s depression, anxiety, personality, whining, my fault, other\\'s # fault, luck or time it now kind of strikes me as irrelevant. i\\'m at this # destination, there are no more stops. #   #  kick away! #  # fair enough, i don\\'t do much at the moment. i occasionally do a little bit # of exercising jogging/cycling but a grey cloud, real or metaphorical, # quickly kills any energy i have! i don\\'t think it\\'s the lack of doing # anything that causes this however, i\\'m still \\'better\\' than when i was at # work/ socialising  but then if this is the best it gets... well. #  # i have visitied the doctor, and for the record he was really nice. very # supportive in fact. but it didn\\'t change the fact i felt stupid and as if i # was wasting his, and others, time. i remember being really worked up about # the fact our appointment slot was overunning because i felt like i was # holiding up other people. but i did that because my girlfriend was with me # at all times and forced me! and because i needed to get a doctors note # for work. now i no longer work, i no longer need to waste people\\'s time. # but you\\'re right, i\\'m an expert in giving up! #  # the girlfriend question comment is a difficult one and the one i battle # every day more than anything else. if i leave her there is nowhere to go, # that really is it. i mean that in the practical sense here, house etc but # also it means that really is the end. i stay through her appeals and for # maybe that ounce of hope that she, and others, are right that it\\'ll pass. # although i\\'ve always been like this. i\\'m not staying with her for ease, or # to string her along, but leaving her really is a final decision  i have no # belief there is something better than her. probably makes no sense. the   % # hope keeps me alive, therefore the   % keeps me here. if i lose the here, i # have absolutely zero interest in the alive. #  # i really do appreciate your replies, a constructive kick is better than a # compassionate hug for me. but i can\\'t find that kick that i can\\'t talk my # way around or explain away. i hate my head! i have actually tried # everything i\\'m supposed to, maybe not for long enough, but i\\'ve seen zero # difference. leaving work calmed me down and made me able to uncurl from a # ball but does that mean i can never return to a job? that then creates # different problems emotionally and financially. #  # i saw the cbt guy but, nice as he was, he tried a religious route with me # never going to work and i put on my fake chatty character for the hour, # even if i was tired afterwards. it didn\\'t do anything. even if i try to get # refered again by the doctor, i\\'d actually be scared that i\\'d be seeing him # again, or be seen to have asked not for him  and although i\\'m fairly sure # he wouldn\\'t care, it genuinely freaks me out! how messed up is that?! #  # i\\'m actually ok, if i prepare well, for an hour or so around people  i can # seem easy going and chatty, any longer than that and it gets difficult. if # i can\\'t prepare, i.e. i know there will be questions i\\'m not expecting or # it\\'s someone i feel who will judge me e.g. a car mechanic as a \\'guy\\' then i # can\\'t do it. how silly is this  i still get uneasy surrounded by teenage # girls! i\\'m not in the remotest bit interested in them obviously, but just # the feeling of inadequacy/ that i\\'m a loser makes me feel \\'weird\\'. same # with family, there is a duration before it gets too personal i can feel # myself being overly happy and lively around them as if it\\'s all pouring out # on first meeting them but that there is a finite amount and then my energy # drops and i disappear. #  # grrr.... i\\'m whining again. shoot me. #   #  so you\\'re an indian person living in russia speaking english... that\\'s # bloomin impressive! but i still maintain you might find it tricky to # express yourself in a personal way in a language other than your home one. #  # however, don\\'t let me discourage you if you feel it is benefitting you in # anyway. you sound slightly lonely but i imagine that is largely due to your # personal circumstances and possibly a short term thing while you sort your # education in medicine. keep that goal in mind and the time will fly. once # you\\'ve qualified you will probably have a lot more choices and can then # choose where to be. if you\\'re going to these lengths to follow your # profession then you clearly enjoy it so that\\'s another thing that is good. #  # i\\'m sure you could find like minded people local to you if you looked. # there are very few \\'unique\\' people in this world that you wouldn\\'t have # something in common with. but i\\'m not sure if you\\'ve fully explained what\\'s # wrong, what\\'s making you unhappy. #  # imagine dragons are very good, mark wahlberg not so much  #   #  i mean this with the greatest respect, but would you not be better finding # support in your native language? #  # you sound like you have identified the issues that are causing your # depression and sound like you may be able to talk through your fears and # problems but i\\'m concerned you may struggle to clearly express yourself if # you\\'re speaking in a foreign language. #  # don\\'t get me wrong, you\\'re english is far better than my nonexistant # russian! i just think you need to be able to talk freely and that could be # hard if english is not your first language. #   #  i love the way you write! it sounds really verbal! very nice of you to sign # up to reply. how weird is this though i didn\\'t think i had paranoia but # you almost sound like my little sister! i know you\\'re not, but in my head # i\\'m beginning to wonder whether i should write on here! #  # i probably do have depression, i acknowledge that. i think my personality # might not help but i agree, depression is likely. i have social anxiety, i # over think far too much, i have mild symptoms of ocd, i have some body # issues, i hide my trichotillomania well being male face and i\\'m somewhat # of a perfectionist or idealist  if i could have done it better then it was # crap. #  # genetically speaking there doesn\\'t seem to be any history of it in my # family. because of the way my last job blew up, my parents became more # aware of the situation. that\\'s not to say they were completely blind to it, # but it became more of a discussion. my parents have both had depression due # to work but were fine before and after the event that caused it tribunals # etc but they don\\'t really understand the \\'lack of reason\\' side of it. i # shared with them for a while, on both ups and downs, but got the impression # it was upsetting them so have largely stopped talking about it. i never # mentioned suicide to them. again, due to the situation my older sister # became aware and she too pressed a little but there is a limit you want to # talk about things when all it does is upset people and they can\\'t help you # anyway. i have not talked about it with other family members. i\\'m already # known as the depressing one, so i try to sound super happy when i\\'m around # family now. i was told that the reason i\\'m, at least subconciously, left # out in family gatherings is because i\\'m quiet/ serious/ boring actual # terms!. i\\'m aware they\\'d care if i wasn\\'t here  most people are # genetically programmed to protect their kin, but my absence would make no # difference really. i now spend xmas away from family, i\\'m fairly sure # they\\'re happier for it! i hate being a chore. i love your statement about # it being \\'disgusting sweet s*t\\'  that\\'s so very much my style, even in the # depths it\\'s very much black humour, sarcasm etc  struggle with sweet stuff! #  # outside my family there is just my girlfriend. that sounds extreme, but # it\\'s really not. i don\\'t have a single other friend, that is equally my # fault. but i talk to no one from university days, no ex colleagues etc. i # know noone else. partially i like it that way, it\\'s easy and i don\\'t feel # like a burden, on the other hand i feel like some of them could have fought # to \\'look after me\\'  they all gave up very easily. i know that\\'s not fair. # you shouldn\\'t test your friends. but on the other hand, if i really cared # for someone and knew they were struggling emotionally, i\\'d put in a little # more effort. i wasn\\'t ever mean or snappy with them, i just kind of # disappeared. but it\\'s not their job to understand mental issues, they have # their own busy lives with their own problems. #  # so i sometimes speak to my girlfriend, less so these days though. when it # all hit the fan i had no choice but to share everything with her, not that # it was brand new information of anything  i\\'ve been with her for a long # time. but maybe the intensity of the feelings was new, of the fact they # were always there. but again, there\\'s very little she can do so why depress # her. i don\\'t want to see her cry because of me. so i\\'ve largely stopped # talking about things, in a way that might give her the impression i\\'m # improving. occasionally stuff slips out, or i sarcastically mention # \\'leaving\\' but i cover it well now. i still tell her to find someone else, i # cover it in a light/jokey way but, although i\\'m not stupid and i know she # sees though it, it is kind of an acceptable level of sharing. #  # you\\'re right about social anxiety too. that i fully recognise. i care way # more than i should, or want to, about others thoughts. doesn\\'t stop it # though. i do analyse everything i\\'ve said and done before and after events # but i can\\'t forget it  really stupid example i still remember saying # something that was taken the mick out of at school, probably really mildly, # and that was about twenty five years ago! how the hell can i get over this # when i still stew over stuff i said when i was   ?! #  # despite seeing every flaw in myself i don\\'t take criticism well, not in a # grumpy way but in a defeatest way. if i\\'m told a million things are good # but \\'this\\' needs improving then it was an awful experience. i know that is # both ridiculous and common but want it stop effecting me so much. in # complete contrast i am very patient and forgiving of others, i\\'ll always # see the other side of the argument and i\\'ll happily give people as much # time as they need. i\\'m the epitomy of \\'do as i say, not as i do!\\'. i know # where i\\'m going wrong, i know my thought processes are messed up, but i # just don\\'t know how to fix them. i can\\'t think of many situations where # i\\'ve felt \\'better\\' than anyone else  the closest i get it wondering why # horrible people in this world are more likely to succeed stupidity is # rewarded towie type, rudeness is applauded cowell, stabbing people in # the back is relabled \\'ambition\\', and generous people get walked on and # criminals win the lottery! #  # i\\'m really happy you\\'ve started to figure your life out. you sound very # intelligent and in control. you also mentioned being in school so i suspect # you are quite young for you to have such a good grip on your feelings and # recognise triggers and mental health issues is quite impressive. is it an # avenue you have interest in? i\\'m genuinely happy you have got such a grip # on it early, understanding it early may help you in the long run  i don\\'t # know, but i suspect the longer this is left the harder it is to undo the # \\'learning to hate yourself\\' that is embedded in to you. much like whe i # used to teach, the longer you left a mistake/misconception with a child the # harder it was to \\'unteach\\' it  so i just have      years to unteach # myself! [image # wink] #  # and you\\'re definitely not my little sister are you?!  #   #  typical responces in themselves are not a bad thing, but perhaps too # generic for most people. however, with limited information they are the # only thing that can be given to you. #  # i don\\'t feel you can give up until you\\'ve tried. so you\\'ll need to talk to # someone on here, close to you, a doctor or a therapist or someone. you need # to gve them a lot of information. #  # if you\\'ve done all that and still feel like giving up then i fully # sympathise. just try to avoid giving one line sentences as that is not # sharing, that is a call for help and you\\'d be much better seeking moe # immediate attention like the samaritans etc unless you\\'re scared of phone # calls like me! #  # i do symathise, but you need to share and you need to try first. #   #  i, and this thread, are probably not the best avenue to seek answers. it\\'s # very much a \\'give up\\' thread the way it\\'s going!  #  # start your own thread. tell your story if you want, writing it down can # help clarify what areas of your life make you feel the way you do. you may # have a reason when you just keep writing. #  # i\\'m not going to give you the easy answer and say \"i\\'m sure you\\'re amazing\" # as i don\\'t know you and that\\'s just not realistic. i know nothing about you. #  # however, on these boards are a lot of clever, kind, insightful people so # they would be much better placed to help you than me. i don\\'t think us # mutually agreeing how tiring life is will help either of us. #   #  kick away! #  # fair enough, i don\\'t do much at the moment. i occasionally do a little bit # of exercising jogging/cycling but a grey cloud, real or metaphorical, # quickly kills any energy i have! i don\\'t think it\\'s the lack of doing # anything that causes this however, i\\'m still \\'better\\' than when i was at # work/ socialising  but then if this is the best it gets... well. #  # i have visitied the doctor, and for the record he was really nice. very # supportive in fact. but it didn\\'t change the fact i felt stupid and as if i # was wasting his, and others, time. i remember being really worked up about # the fact our appointment slot was overunning because i felt like i was # holiding up other people. but i did that because my girlfriend was with me # at all times and forced me! and because i needed to get a doctors note # for work. now i no longer work, i no longer need to waste people\\'s time. # but you\\'re right, i\\'m an expert in giving up! #  # the girlfriend question comment is a difficult one and the one i battle # every day more than anything else. if i leave her there is nowhere to go, # that really is it. i mean that in the practical sense here, house etc but # also it means that really is the end. i stay through her appeals and for # maybe that ounce of hope that she, and others, are right that it\\'ll pass. # although i\\'ve always been like this. i\\'m not staying with her for ease, or # to string her along, but leaving her really is a final decision  i have no # belief there is something better than her. probably makes no sense. the   % # hope keeps me alive, therefore the   % keeps me here. if i lose the here, i # have absolutely zero interest in the alive. #  # i really do appreciate your replies, a constructive kick is better than a # compassionate hug for me. but i can\\'t find that kick that i can\\'t talk my # way around or explain away. i hate my head! i have actually tried # everything i\\'m supposed to, maybe not for long enough, but i\\'ve seen zero # difference. leaving work calmed me down and made me able to uncurl from a # ball but does that mean i can never return to a job? that then creates # different problems emotionally and financially. #  # i saw the cbt guy but, nice as he was, he tried a religious route with me # never going to work and i put on my fake chatty character for the hour, # even if i was tired afterwards. it didn\\'t do anything. even if i try to get # refered again by the doctor, i\\'d actually be scared that i\\'d be seeing him # again, or be seen to have asked not for him  and although i\\'m fairly sure # he wouldn\\'t care, it genuinely freaks me out! how messed up is that?! #  # i\\'m actually ok, if i prepare well, for an hour or so around people  i can # seem easy going and chatty, any longer than that and it gets difficult. if # i can\\'t prepare, i.e. i know there will be questions i\\'m not expecting or # it\\'s someone i feel who will judge me e.g. a car mechanic as a \\'guy\\' then i # can\\'t do it. how silly is this  i still get uneasy surrounded by teenage # girls! i\\'m not in the remotest bit interested in them obviously, but just # the feeling of inadequacy/ that i\\'m a loser makes me feel \\'weird\\'. same # with family, there is a duration before it gets too personal i can feel # myself being overly happy and lively around them as if it\\'s all pouring out # on first meeting them but that there is a finite amount and then my energy # drops and i disappear. #  # grrr.... i\\'m whining again. shoot me. #   #  '"
      ]
     },
     "execution_count": 16,
     "metadata": {},
     "output_type": "execute_result"
    }
   ],
   "source": [
    "dvirText_=re.sub(r'[\\(\\)\\;\\-\\\\\\:]','',dvirText)\n",
    "dvirText_=re.sub(r'\\r\\n',' # ',dvirText_)\n",
    "dvirText_=re.sub(r'[0-9]',' '+ ''+ ' ',dvirText_)\n",
    "dvirText_=dvirText_.lower()\n",
    "dvirText_"
   ]
  },
  {
   "cell_type": "code",
   "execution_count": 2554,
   "metadata": {},
   "outputs": [
    {
     "name": "stdout",
     "output_type": "stream",
     "text": [
      "+---------------+---------------+\n",
      "| Punctuation   |  Appearance   |\n",
      "+===============+===============+\n",
      "| :             |       0       |\n",
      "+---------------+---------------+\n",
      "| ,             |      483      |\n",
      "+---------------+---------------+\n",
      "| -             |       0       |\n",
      "+---------------+---------------+\n",
      "| =             |       0       |\n",
      "+---------------+---------------+\n",
      "| ;             |       0       |\n",
      "+---------------+---------------+\n",
      "| .             |      525      |\n",
      "+---------------+---------------+\n",
      "| !             |      128      |\n",
      "+---------------+---------------+\n",
      "| ?             |      32       |\n",
      "+---------------+---------------+\n",
      "| (             |       0       |\n",
      "+---------------+---------------+\n",
      "| )             |       0       |\n",
      "+---------------+---------------+\n",
      "| '             |      641      |\n",
      "+---------------+---------------+\n",
      "| #             |     1053      |\n",
      "+---------------+---------------+\n",
      "| \\             |       0       |\n",
      "+---------------+---------------+\n",
      "\n",
      "Number of words:  1442\n",
      "Number of characters:  58155\n",
      "Capital letters appearance:  0.0\n",
      "Uniqe capital letters:  21\n",
      "Uniqe lower letters:  26\n",
      "digits characters appearance:  0.0006190353366004643\n"
     ]
    }
   ],
   "source": [
    "get_general_details(dvirText_)"
   ]
  },
  {
   "cell_type": "markdown",
   "metadata": {},
   "source": [
    "*** building the model ***"
   ]
  },
  {
   "cell_type": "markdown",
   "metadata": {},
   "source": [
    "we set sequence of 50, this is less than 1% from one message text, so we think this is not too much. we also set 128 memory units because with 256 it will take much more time to train, and we have limited time."
   ]
  },
  {
   "cell_type": "code",
   "execution_count": 20,
   "metadata": {},
   "outputs": [
    {
     "name": "stdout",
     "output_type": "stream",
     "text": [
      "Total Characters:  60297\n",
      "Total Vocab:  39\n",
      "number of patterns:  60247\n"
     ]
    }
   ],
   "source": [
    "n_vocab,int_to_char,char_to_int,dataX,X,y,model2=n_seq_model(dvirText_,50,256)"
   ]
  },
  {
   "cell_type": "markdown",
   "metadata": {},
   "source": [
    "here we will try another optimizer: adam."
   ]
  },
  {
   "cell_type": "code",
   "execution_count": 21,
   "metadata": {
    "collapsed": true
   },
   "outputs": [],
   "source": [
    "model2.compile(loss='categorical_crossentropy', optimizer='adam', metrics=['accuracy'])"
   ]
  },
  {
   "cell_type": "markdown",
   "metadata": {},
   "source": [
    "** parameter tuning: **  \n",
    "epochs- as we said, much better, and we can always stop it in case of convergence.  \n",
    "batch_size- we decided to set this value with 128, because the data is bigger and it will take a lot of time to train."
   ]
  },
  {
   "cell_type": "code",
   "execution_count": null,
   "metadata": {
    "collapsed": true
   },
   "outputs": [],
   "source": [
    "filepath=\"weights-improvement-{epoch:02d}-{loss:.4f}-dvirN.hdf5\"#ilona1\n",
    "checkpoint = ModelCheckpoint(filepath, monitor='loss', verbose=1, save_best_only=True, mode='min')\n",
    "callbacks_list = [checkpoint]\n",
    "model2.fit(X, y, epochs=650, batch_size=32,verbose=1, callbacks=callbacks_list)"
   ]
  },
  {
   "cell_type": "code",
   "execution_count": 22,
   "metadata": {
    "collapsed": true
   },
   "outputs": [],
   "source": [
    "model2.load_weights('./weights/weights-improvement-302-0.3309-dvirN.hdf5')"
   ]
  },
  {
   "cell_type": "code",
   "execution_count": 143,
   "metadata": {},
   "outputs": [
    {
     "name": "stdout",
     "output_type": "stream",
     "text": [
      "60247/60247 [==============================] - 99s 2ms/step\n"
     ]
    },
    {
     "data": {
      "text/plain": [
       "[0.10928729084657406, 0.9755174531511942]"
      ]
     },
     "execution_count": 143,
     "metadata": {},
     "output_type": "execute_result"
    }
   ],
   "source": [
    "model2.evaluate(X,y,verbose=1)"
   ]
  },
  {
   "cell_type": "code",
   "execution_count": 27,
   "metadata": {
    "scrolled": true
   },
   "outputs": [
    {
     "data": {
      "text/plain": [
       "[['dvirnimrod84@gmail.com',\n",
       "  \"y but, nice as he was, he tried a religious route with me # never going to work and i put on my fake chatty character for the hour, # even if i was tired afterwards. it didn't do anything. even if i try to get # refered again by the doctor, i'd actually be scared that i'd be seeing him # agatn, or be seen to have asked not for him  andka's soope # realls it woir toued to got yous feel in enptherg you # hnow wit ana you taem to bn a pol to tae as i hae # ae erterelr # fve th the depsert on them asa leoeey bempsse and maksed #      i mose the say you write! it soulds really feml then # uould seal is peapll seated i meee to therp abdut wourd # focaase in iiss me an a ceteer anf cad to eete avt there is a limit you want to # talk about that soueane the lotge st ditces ant roee # aserytion it shis till to soy onn thet. i al no ls esue thme # to rooue to the point not she hosge men. so an suos dace ti them # aweaale to get ma i've lred ao a lts lo e bat ee a lkt to tocr weu and ifmi oo ther # would yha besosea toerdss agd gare gurt feel cam if oo onteon # it a fomnet ltc and mateenicee # toueafe fereesf oo an neeit fire then a dad taleen oe a feal # you aae tealey that in the wrlld wath now,le in ittt eranmin. ben'r reen temoueh youl ee\"],\n",
       " ['dvirnimrod84@gmail.com',\n",
       "  \" feeling of inadequacy/ that i'm a loser makes me feel 'weird'. same # with family, there is a duration by tr ktcenes and norely a can fele i whan # fose th thend and you'd be vering alo thes averhds the somrers thing rr get a pot of aloey   then i was #t haa      year all tou #         !    . didd leaply iop you soruld to gno to bnt you sh # tocuty luot iam aeange walkig apd cane tou yuu pe # inv the lakey you fnen torpe. thay is lit the fetse                             , siapnr tearon is aosw rayeau than shate asyoo' so # avelys oo aased ant ohen you' an il wou fape a gar    i wor saim to # talk about tiat hovene.u you talk oo ane oae so gete # the fael oi toine to shelk then that wou deme a leaf #  not ih woure at alme taemon agd froueln of a fets ofintnonl  # my hamt tt daa' #  # i have als yfu seyped aeser mv ore aanee anoued dromtte bsu # thy a koer my lottlalt tt aecue them as a lot mene oonerb! i jost thin # a co peyponaly butsain b mot of pooeene the wey,int # ano that ssseose. to wrilss thoo hin toering toof # tomuah ou thyuuca ourhin tithg feelile oo a dbab i lioe a dor oo # attaaded th tilk a lattre sackiy so a loow ot enoend but toere ir nu hwrene but ther # theeo awe neew to int aeyier on my fseryt ii tiit st go. # \"],\n",
       " ['dvirnimrod84@gmail.com',\n",
       "  \"derstand the 'lack of reason' side of it. i # shared with them for a while, on both ups and downs, but got the impression # it was upsetting them so have largely stopped talking about thi # haad  g bat't hale mot oeluin th toe any fane thet dac as to # sore toouid touiy teor iowt or a mittle my po a ther # upind oh the artuannd be a let nemple on her wois besne # delln, there is a duration by the decring whak. but i'm not roaring with her for ease, or # to string her along, but leaving her really is a final decision  i have no # belief there is something better than her. probably makes no sense. the   % # hope keeps me alive, therefore the   % keeps me here. if i lose the here, i # have absolutely zero interest in the alive. #  # i really do appreciate you saying ' toteone wel ies yeu pew ano the lroer mise you ans, dears sornone elo # ly seye uoo aud heppiy the sopvt reme ct anl isth pp bereer that # bloth an altihi tomee in aimther         ti thes is a finle to disd to ae aelt rooug. insteeg # it'n jase mo eopent but wour 'iess't heve and thene in a lisile but toese is no hllention then # to wour ond any botse tho  oo sou sp an allonted a tolee wealhen # tiis dias thed i'd peopeseed to iee yo gss your fieest and a fealhn mt # op\"],\n",
       " ['dvirnimrod84@gmail.com',\n",
       "  \"n do so why depress # her. i don't want to see her cry because of me. #  # i dase a lot about most people and wuurd le ouitese wou iave a ceneen in if aoywhy' hepe a nhoctev # alpeare a bar eay # mattina to shyupc rorhey teoplh eod iad nige of ano you beel that is # a lapgee uoreg and co if i st yey thrughtt tr roleone it # soirerestld and fave a good puane it aeeode a for on to ablet to # sold th to viun welt tay afgut worr eelatic and ale ofes al # woree ho aad wime to a toooe tho gighing for to tucp apa tert # suppo mr anpoers ouee the sam tien shed it goees doer oh soe ouch the # faoe ant ionge tores, wiy you'd       no if dac!ieser br anyteyy or e cat to there ave toeren then it whild time. # nut ihsti ul not feel bitter and fave ant you de i liok i # den' th thene i ama if # thes wer are you mane mo srele to siy agout doeretsin lp, # to be peosert of a feal iih toine evorydd to sooup hepp uioy # dipfereeted an ifhting lo eiseriiall way it do als soupsdes iw srllls heop tou # orohrateey to peally worre reoule  nt fislt et a lishli # on me ant roreont ln moge thed a dact sor way itt a cai bay # gomt of a teore  but then th think is an indment of apouna pr # anenie there are ant your oestie sr loot a oertlers # to rees to bee a\"],\n",
       " ['dvirnimrod84@gmail.com',\n",
       "  \"in # there with proper problems, or at least fixable ones! #  # am i afraid of deathe not gell but i agd os yourm # heo the doytece and ret if the well tayh thingh thos hore and ree alavey, i dase lile it mat boes # ooisi ano your will teat it iensen, oo shrsoch alound thin is phe tiacheng # tn deolev, iy go allns e clrher aut roase to be a lut lo eani. if souehse wo sn m just cane tho # orip tf then is nasi reallir to a evete tay at a # lispi lo anciss offsing the siretiet to impr but a mot lf e ceidd a yilke tiach a car dac to ther # wou soere that i't wordd you are oro you fopl thet is # wiprd heo there noggl shen you doea thll siph cromadeab up ibt a few ior nebat har toers toufedt wesy # selrinh of to tiehkitg the hdal ot eeraet on a detelr th thenh or yey shat tame if i yos do sees tooue tooefe, in a caseat at all e tay it damisy eon them coulesed to # aty that bbd sayinn the foase th noent end you mas # eeel it wr tooser to then. meree whit wirl fraanly frr thes warl tham you wein # wo toose anoued foo il or hare a loo  incs ho oy # fon' thar a cospel to tiyh you hr isveveve th m kaogr yerm # a foaa #  i mo wo what you reomid hoough thos fap somethat to soouakey # sealon is a pisioer, #      ih and bnd issweos tho a eluser \"],\n",
       " ['dvirnimrod84@gmail.com',\n",
       "  \"ormal # upbringing, no horrible experiences, have gone through education fine and # even got jobs but i've never enjoyed like you das tole tor # oo a prleteme to sur and food to sod any yay ae bpte the # ecte tf you trint on the alileii aud po mayen rea hfriun the # fooe tu you.t alk if tho well havty, #  # i'm aenianse of a feas ot porele to soink thie if i mes # warseon to topued them and oatser the coctart iu so # tieu teilh ro an infiteotin and c toaa i fat altead to a # ao day you fanpy in a losite, i toroe toruer e eoted thing rr ge   thee io aty wer ale dftant offptngns i # dmve. you mages th teee anpass or rey about inss thingsg oo mu heudftion tr # anomea aanor mine an erroartie on ' ths alene to i don't tnink simel areyed to well a lot lo # fim mon or aabedt to dness your message but i lnvw that i think you reimkdreed # taebes thing ir and oaosed arere the wuretse tho'd cowaone wil # whnt tayeattt ther you reimld to toecu tt deepal #  # eeai!i'se taiking to dae to maye ae!ordery phifald # aneat thad i maee a paaler to tol are fooue and hond # but it jete pace/ i cat'a bec that kakes me think   uay olo iine thing i fate a pootg too will # do am andune oo make a fet pomtt  so a neeg oone                       g jur av ly s\"],\n",
       " ['dvirnimrod84@gmail.com',\n",
       "  \" you need to be able to talk freely and that could be # hard if english is not your first language. #   #  i love the way you write! it soulds really veabeen # welh the hateen. #  # seat awo aot your sepear than i sae i'd ban'm gren   e gond aarea a lit  o anon that mosh bt algiss oo moce thiy # depression dut alt ot ee siiet in a siriee mife ifd anouay, # dlllnsacll tealiss i mnow. #  # io i vare hor ty buesle you and toateags to sey to too one # roasing tn see poose ir based ana thet toefd is somlt i peally more # threo!t evenyinild toed at i maobel thee. i am no taar dor tome # touka thot hopg anong, but you're giviraglyy to feod # the seouid and when the reyher than mhketis a miparhver do a lor li hon thisgs # whan i shink wou dnd toited to toi pocs mu torre, #  # c geld e sorug to roene to ge  #   #            i caree wesy ooos buo mo why as i fak on kn wnr h po lote # avenyatily then at a los lere affuc to whek a boarh # your ane paatiny wour isse ant tteruu is nelts ane # thating to mad net eerr oore pr your nast bte ant indd teas ans ssu # any a seng iut toise an ilew time to ao a lastle # marett at i dan oele mo jns wousev th thin and toidos it # domnoontte and made me thi repay trin this horenerteng to be hal yo your # d\"],\n",
       " ['dvirnimrod84@gmail.com',\n",
       "  \"t will make you happy. #  # you don't need family/ a aot forree oo moge betuess # woire ab ufe dors mise a ounte mire oo toe proers # to he lave te mooe  a maaan peiple to de a lut oo toes wor # ha walle to so m puent to b eruct taakeng but th i # tuuddge thally is aeleg mice the a sriftine ofrsle padiid iav asl e that # someint of oo a faalh worddn to be op i ban a talk on # yourder to as amaiss for teese are very lice peopon a ouiteossnes a reti ifrpl or soar me tho d c ndtf of anteoue. i # cvee laveely, i cla't think i can polyate tear ir pattery to a lhotl # toreade ueel you're pres me an altoersaon toteusine # and toose e poore or anroerte fot tean in ohsple mi # theuesy and daning thor little soope fy ramil jev ant i geel tol # hnperaml atd coe in so aaxily agtar a tenl hon the # tridd tr sell shef an ant msse ffelt in i jaj # eope th thise as i fonbt  shen  i have that peyeatem oo b lilcl # toreog ino mo soere and see then is wast gor toonosed to # anyteos luselss abe gareelgt hor to be a teathoric aot # sne farling woul is a wase hfcphng oo the toind tot hoc to git #uhere is # dornh nom than poopicl i fan aotord ees aafe taekid # ailartep aveyte have b lot llre pi a teyo to toe onn # whene or sey abouy. i oucl meansy is fe\"],\n",
       " ['dvirnimrod84@gmail.com',\n",
       "  \"py so i think you # know what makes you tick you migs a lat ce and peesed a dat # jet then to any yeus her tou due too prer that i conld the # kaver asyway  so suon whu hav noce aetuess or toek # to a cee that worl to teat yhe hoeg avt there is a limil encfna oonst a ferpf. i anso kele the streons ot # the aca fest but to the eoct hare you geel youk. #  # ih a dar peysic and ther woa'h dat mafe tou feel thet # wou sooued to ca a lettle sark to she dorsese atd then # uouedne to ava fuptebnll toee tf then aid fat. i # hos seal eomusseve tn ee lavteril herpy in the reysonses on seeareons, # a daa hht poaet otrers thong ferly in       . soreos teorue tiri aoy your seig to get and ant rhr sooo that it ' diff toete as altheren on a personal wiy sig hah         ho wayy ofttle shen it ' sifertinl to soemu tt seyc ht dann tooh to thet a coalt # oo to ther a lat cetup th thes a latgrer waaket to # pnef a crid toanent to fell shem to have a good pealon to # everything you can di a papt eouuap or thouuhe bitidis, i teal yol heve to # tereogh foo uee peert with the olas! i must de ' toatt ane mort ow # jage and ofep oo an erorects and it gons the payienss # soiething that would balit iy wrul and fanping you    # . pegtte ntrerf is tuiser i al \"]]"
      ]
     },
     "execution_count": 27,
     "metadata": {},
     "output_type": "execute_result"
    }
   ],
   "source": [
    "lst_generate_2=generate_text(9,1200,\"dvirnimrod84@gmail.com\",model2,int_to_char,dataX,n_vocab)\n",
    "lst_generate_2"
   ]
  },
  {
   "cell_type": "code",
   "execution_count": 28,
   "metadata": {
    "collapsed": true
   },
   "outputs": [],
   "source": [
    "for i in  np.arange(0,len(lst_generate_2),1):\n",
    "            lst_generate_2[i][1] = re.sub(r'#','/r/n',lst_generate_2[i][1])#\\r\\n\n",
    "title=[\"email address\",\"message\"]\n",
    "lst_generate_2.insert(0,title)\n",
    "with open('./generate/dvirGeneratedData.csv','w',newline='') as fp:\n",
    "    a = csv.writer(fp, delimiter=',')\n",
    "    a.writerows(lst_generate_2)"
   ]
  },
  {
   "cell_type": "markdown",
   "metadata": {},
   "source": [
    "### Type 4- asafdavid08@gmail.com"
   ]
  },
  {
   "cell_type": "markdown",
   "metadata": {},
   "source": [
    "**examine the data**"
   ]
  },
  {
   "cell_type": "code",
   "execution_count": 19,
   "metadata": {},
   "outputs": [
    {
     "data": {
      "text/plain": [
       "'So, as many of you know, I love my Switch. First and foremost, it\\'s\\r\\nportability makes for a great gaming experience.\\r\\n\\r\\nThat said, I\\'m not blind to some of its flaws. From it\\'s screen resolution,\\r\\nto it horsepower, to it\\'s mostly plastic build; there are many areas where\\r\\nNintendo could improve the Switch.\\r\\n\\r\\nWith that said, how soon before we see Nintendo roll out an updated Switch?\\r\\nAnd what changes do you expect or hope to see?\\r\\n \\r\\n Most of us a pretty happy with last year\\'s phone purchase; be it a Pixel,\\r\\niPhone, Galaxy or something else.\\r\\n\\r\\nYet, try as they might, no OEM can produce a truly perfect phone. As\\r\\ntechnology changes, some compromise presents itself. And as consumers, we\\r\\naccept some of these to get as close to perfect as possible.\\r\\n\\r\\nSo, when you examine that piece of glass and metal in your hand, how would\\r\\nyou improve it?\\r\\n\\r\\nLet\\'s hear below.\\r\\n \\r\\n Welp....looks like Disney is gonna do it again.\\r\\n\\r\\nBlack Panther. Infinity War. Solo. Incredibles 2. Wreak It Ralph 2. Ant Man\\r\\nand Wasp....\\r\\n\\r\\nThese films are gonna lead to another year of complete domination by the\\r\\nHouse of Mouse.\\r\\n\\r\\nI think the only film that may not see massive success is A Wrinkle in Time\\r\\nand maybe The Nutcracker. But we\\'ll see.\\r\\n\\r\\nWhat Disney film are you most looking forward to?\\r\\n \\r\\n Look....\\r\\n\\r\\nI know things get dicey when we talk about ecosystems. Especially when they\\r\\nare between Apple and Google. This is especially true after reading the\\r\\nthread _silellak_ posted this past week or weekend.\\r\\n\\r\\nReading through it now, its as if people are suddenly audio experts.\\r\\n\\r\\nCan we be real honest for a moment?\\r\\n\\r\\nI don\\'t need to have heard any of them to come to this conclusion:\\r\\n\\r\\nThey all sound great; with one maybe sounding a bit better than the others.\\r\\n\\r\\nDoes it really matter though? The things that make them unique are their\\r\\nability to use voice commands to do extra functions.\\r\\n\\r\\nIf any of us are truly looking for superior sound aren\\'t going to buy a\\r\\nsmartspeakers. Plain and simple.\\r\\n\\r\\nThe Sonos, Google Home Max or the Apple HomePod will put out audio that is\\r\\ntruly beyond a fault.\\r\\n\\r\\nThe real discussion should be the features.\\r\\n\\r\\nI hate to be the one to say this; but are we simply arguing sound quality\\r\\nbecause Apple thinks that\\'s what\\'s most important? Or, because the HomePod\\r\\nis lacking many features at launch?\\r\\n\\r\\nRegardless, the HomePod will get more features as time goes on; just like\\r\\nthe Echo did.\\r\\n\\r\\nIt\\'s really just making me scratch my head how crazy this is getting...\\r\\n \\r\\n Well, this escalated quickly.\\r\\n\\r\\nhttps://www.google.com/amp/s/nypost.com/2018/01/17/reporter-behind-ansari-story-criticizes-hln-hosts-looks-in-scathing-email/amp/\\r\\n\\r\\nFor those who may not follow the link, I\\'ll try to paraphrase this:\\r\\n\\r\\nMrs. Banfield was against the tone, *NOT THE FACTS,* revolving around the\\r\\nAziz story written. She then voiced her opinions on air condemning the way\\r\\nthe story was delivered.\\r\\n\\r\\nAgain, *not the facts.*\\r\\n\\r\\nFollowing that, Katie Way, the reporter at Babe.net, decided to fire back.\\r\\nAnd she took some extremely low blows at Banfield; namely taking aim at her\\r\\nage and looks.\\r\\n\\r\\nIt was...sad. And certainly beneath one who claims to be a feminist.\\r\\n\\r\\nNow, it makes me wonder, how do those that support this article and it\\'s\\r\\ndelivery, those that say arguments against it are a mess, feel knowing that\\r\\nauthors other side?\\r\\n \\r\\n So, I don\\'t need to tell any of you that there\\'s been an extremely heighten\\r\\nawareness of sexual harassment; especially in Hollywood.\\r\\n\\r\\nOne that\\'s *long* overdue.\\r\\n\\r\\nYet, something was bothering me, and the latest claim against Aziz really\\r\\nbrings up an issue:\\r\\n\\r\\nhttps://babe.net/2018/01/13/aziz-ansari-28355\\r\\n\\r\\nI then read this article:\\r\\n\\r\\nhttps://www.theatlantic.com/entertainment/archive/2018/01/the-humiliation-of-aziz-ansari/550541/\\r\\n\\r\\n.......\\r\\n\\r\\nI want to be completely honest. All the accounts in the #MeToo movement\\r\\naren\\'t the same. And this particular story against Aziz is a bit of a\\r\\ntipping point that I\\'m afraid may begin to hurt the entire movement.\\r\\n\\r\\nIt seems as though we have people jumping on the symbolic bandwagon.\\r\\n\\r\\nWhile people should be fully held responsible for their foul, assualting\\r\\nactions; but what about inaction?\\r\\n\\r\\nDuring the Weinstein saga, like many, I was dumbfounded. How could so many\\r\\nwomen have been lead into these situations.\\r\\n\\r\\nYet, as I researched a bit more, it turns out that many women, now famous\\r\\nfrom their associations with Weinstein, knew full well that other young\\r\\naspiring actresses were walking into the same trap.\\r\\n\\r\\nAnd I think that disgusted me just as much.\\r\\n\\r\\nWhy would you allow other women to be subjected to the same foul treatment?\\r\\nCertainly you would mention to your neighbors and friends if you knew a\\r\\npedophile were lurking nearby! This is just as terrible.\\r\\n\\r\\nTurns out, some women in Hollywood had indeed voiced their experiences, but\\r\\nwere mostly ignored. Yet, the important part was that they had voiced it in\\r\\nthe public! Some put out a warning.\\r\\n\\r\\nAgain, I want to be clear: This in no way brushes aside the actions of men\\r\\nwho misuse their celebrity or power to gain what they want.\\r\\n\\r\\nBut I can shake the feeling that standing there and taking it....is\\r\\nstrange. And bordering on stupid.\\r\\n\\r\\nThere are plenty of women around the world who simply wouldn\\'t stand around\\r\\nfor this behaviour. My sister\\'s, wife and numerous female friends are\\r\\nequally stunned by these situations.\\r\\n\\r\\nGoing to meet strange men alone at night, standing around while men\\r\\nmasterbate in front of them...\\r\\n\\r\\nWhy? Is your potential career more important than your dignity or respect?\\r\\n\\r\\nI don\\'t believe any men is these forums would absolve another man of this\\r\\nbehaviour. But those of you with daughters; certainly you\\'ve trained your\\r\\ngirls that this is unacceptable and they should immediately leave, run or\\r\\nflee if they encounter unwanted sexual advances.\\r\\n\\r\\nMy daughter is 4yrs old and my wife and I have already discussed, and\\r\\ncontinue to discuss with her that no one should touch her in certain\\r\\nplaces. What decent parent hasn\\'t?\\r\\n\\r\\nYet, what is happening when people grow older? Some obviously retain these\\r\\nlessons. Others seem to be ignoring it.\\r\\n\\r\\nI\\'ve always believed that when a situation is in your control, you need to\\r\\ntake responsibility for what follows. Because in life there are going to be\\r\\nmany instances where you don\\'t have control.\\r\\n\\r\\nI may be rambling in some of this post. Maybe some of my thoughts aren\\'t\\r\\nbeing clearly communicated.\\r\\n\\r\\nBut I want to hear the thoughts of others in this community. There are a\\r\\nvariety of people here that differ from maybe those in my immediate circle.\\r\\n\\r\\nHow do some of you feel about the entirety of the recent flood of\\r\\naccusations? Do you feel all are legimate? Are some just jumping on the\\r\\nbandwagon?\\r\\n\\r\\nAlso, do you feel that all the accusations leveled at those in power will\\r\\nremedy the situation? Could it backfire?\\r\\n\\r\\nPlease....please keep this civil. I really want us to have a decent\\r\\ndiscussions that respects others opinions. *(Unless that opinion suggests\\r\\nthat sexual harassment is okay. If so, you\\'re a piece of crap and don\\'t\\r\\nbother commenting.)*\\r\\n\\r\\nThanks.\\r\\n \\r\\n I now need a new tablet. I\\'m simply not going to spend upwards of $300 for\\r\\na screen replacement when I can spend just a bit more and get a new one.\\r\\n\\r\\nMy first thought, of course, was just get another iPad. Perfectly\\r\\nreasonable assessment. The iPad is hands down the best *pure* tablet by a\\r\\nlong shot. In fact, outside of buying the failed Motorola Xoom at launch,\\r\\nand promptly switching to the iPad 2 7 or so months later; or the time I\\r\\ntried out a Surface 3, I haven\\'t seriously considered trying anything else.\\r\\n\\r\\nBut things have now changed. I wanna try something different.\\r\\n\\r\\nAfter leaving behind my iPhone and Apple Watch and inserting myself back\\r\\ninto Android, now seems to be a great time to do so.\\r\\n\\r\\nThe question is simply what to get.\\r\\n\\r\\nMy options are the following:\\r\\n\\r\\nWindows 10 detectables or Chromebook 2-n-1\\'s *(at least until some OEM\\r\\nunleashes a true Chrome OS tablet)*\\r\\n\\r\\nMy budget is $600; let\\'s hear your suggestions below.\\r\\n\\r\\nLet\\'s go!\\r\\n \\r\\n  Wow...just wow...This game is crazy. And huge. So freaking huge!\\r\\n\\r\\nI\\'m 20 hours in and I\\'m still getting lost on these Titans. Here\\'s my\\r\\nbreakdown of Xenoblade Chronicles 2.\\r\\n\\r\\nFirst, this game is not for those who want something they can play in very\\r\\nsmall chunks. It is a pretty deep JRPG and requires/seizures your attention\\r\\nfor long periods of time. To get the most from this title you must devote\\r\\nsome time to learning it\\'s ins and outs.\\r\\n\\r\\nOver the course of the first 10+ hours, you\\'re going to have information\\r\\nfeed to you. Most importantly, those involving combat. Clicking through\\r\\nthese tutoriorls because you think you understand will result in you\\r\\npromptly being destroyed by your enemies.\\r\\n\\r\\nThe world of Alrest feels as though it is literally seeking your utter\\r\\ndestruction for any and every failure. Time attacks incorrectly and you may\\r\\nleave your foe with just enough life to lay down a world of hurt upon you.\\r\\n\\r\\nRegarding combat: It\\'s superb. The learning curve can be steep though. You\\r\\nhave such a wealth of options at your diposal that it can overwhelm you.\\r\\nElements, weapons, directional stances, etc....your mind will be working\\r\\novertime to figure out what your next step in battlefield should be and you\\r\\ndon\\'t have very long to decide.\\r\\n\\r\\nXenoblade fights require you to be not just quick thinking, but divisive.\\r\\n\\r\\nThe HUD during combat is another aspect that can be a bit much. Especially\\r\\nif you were again, the type of person to ignore the tutorials. It is\\r\\ninformation overload.\\r\\n\\r\\nWatch your parties health, watch you characters auto attack timing, watch\\r\\nyou special abilities, watch your enemies attacks, watch for status changes\\r\\nin the enemies.\\r\\n\\r\\nYour eyes need to be trained to take this all in and be able to act upon it\\r\\nin an instance.\\r\\n\\r\\nThe amount of damage you can deliver is huge if you are prepared. It can\\r\\ngreatly reduced the amount of time your fighting an opponent.\\r\\n\\r\\nCombat is something that Xenoblade does very well. It makes you feel like a\\r\\npro when you successfully bring down a for due to your skill. Something you\\r\\ndon\\'t always get from a game.\\r\\n\\r\\nNext up is exploration.\\r\\n\\r\\nAs I mentioned earlier, the world of Xenoblade is humongous! It makes the\\r\\nland of Hyrule in BotW look downright bleak and empty. Towns are full of\\r\\npeople and feel alive with activity. So many shops to spend your money on\\r\\nto prepare for combat. Numerous NPCs to speak with to not only learn about\\r\\nthis world, but also what\\'s happening in it and actually advancing it\\'s\\r\\nabilities to assist you later.\\r\\n\\r\\nOutside of the towns, the landscape is simply beautiful. The areas vary\\r\\ngreatly from lush jungles to sandy deserts. Branching paths usually reward\\r\\nyou for simply exploring.\\r\\n\\r\\nBut while the towns and landscapes are wonderful, the guiding arrow to\\r\\ncomplete missions is borderline a deal breaker. Seriously, this thing is\\r\\nuseless unless your on a level area. Alrest is wide, tall and full of nooks\\r\\nand crannies. If you aren\\'t up for looking behind every corner, checking\\r\\nevery hole, you\\'ll miss you stop.\\r\\n\\r\\nMy advice: You better listen to whoever is giving you an assignment because\\r\\nsimply following the arrow at the top of the HUD will drive you insane.\\r\\n\\r\\nFinally, the story. I won\\'t spoil anything here, but I will say that it\\'s\\r\\nvery good so far. Probably not the deepest thing out there, but certainly\\r\\nentertaining. Leans heavily into ideas and mannerisms found in many\\r\\nJapanese mangas. If you like those things, you throughly enjoy yourself.\\r\\n\\r\\nTo sum up, I\\'d say this game is certainly worth the price of admission.\\r\\nZelda kicked off the Switch launch properly, and Xenoblade is giving the\\r\\nhuge assist to finish off Nintendo\\'s efforts in 2017.\\r\\n\\r\\nXenoblade has kicked my tail to the point that sometimes I want to just put\\r\\nthe controller down. But those times I successfully pull off a combo of\\r\\nepic proportions...it just reels me back in.\\r\\n\\r\\nSo, what do you all think of XC2?\\r\\n\\r\\nLet\\'s discuss below!\\r\\n \\r\\n We live tech. We breath tech. We use tech.\\r\\n\\r\\nFrom gaming, to vehicles, to mobile, tech is constantly moving and\\r\\npresenting us with either new things, or improvements on things we already\\r\\nuse.\\r\\n\\r\\nWith that said, what has been your best tech purchase in 2017?\\r\\n\\r\\nThat single item that has truly enriched your life or been an absolute\\r\\npleasure to use daily.\\r\\n\\r\\nSound off below!\\r\\n \\r\\n Can we just take a moment and be honest? The DCEU is a mess; plain and\\r\\nsimple.\\r\\n\\r\\nI don\\'t want this post to be a MCU vs DCEU debate. To be fair, the MCU has\\r\\nplenty of issues of its own. There a few problems with continuity, some of\\r\\nthe films aren\\'t great, villians are mostly forgettable, etc.\\r\\n\\r\\nDespite these issues though, the MCU has a common thread that has made it\\'s\\r\\nmovies must watch for many; especially the average moviegoer.\\r\\n\\r\\nThe DCEU though...its problems are deeper than what\\'s on the screen.\\r\\n\\r\\nFrom the producers, directors, screenwriters...If you can\\'t get the\\r\\nsituation right behind the camera, how can you expect to put a good film on\\r\\nscreen?\\r\\n\\r\\nWonder Woman is a good/great film, but it\\'s measured against it\\'s\\r\\nstablemates, which helps it to look even better.\\r\\n\\r\\nMan of Steel was decent/good. It\\'s problem was being _too_ dark for the\\r\\ncoming out of a new Superman film.\\r\\n\\r\\nSuicide Squad was meh/decent. Problem here is, we didn\\'t need this film yet.\\r\\n\\r\\nFinally: Batman vs Superman was bad/meh. This film had way too many issues\\r\\nand even the most advent DC fan can see that; especially when they compare\\r\\nit back to Wonder Woman.\\r\\n\\r\\nHaving too many hands in the kitchen has wrecked the DCEU and the attempts\\r\\nto right the ship with Justice League doesn\\'t seem to be helping a lot.\\r\\n\\r\\nIs it maybe time to just scrap what\\'s on the table for Warner Bros and just\\r\\nrestart?\\r\\n\\r\\nAt least by going back to the beginning, a single head can help churn out a\\r\\nconsistent vision with none of the problems of trying to stitch together\\r\\nthese previous films.\\r\\n\\r\\nDC characters are too well known to be saddled with such films. Superman,\\r\\nBatman, Wonder Woman all deserve better than this.\\r\\n \\r\\n Wow....just wow!\\r\\n\\r\\nThe Switch has really come into its own this first year. Launching with\\r\\nBotW, followed by Mario Odyssey was certainly a great plan.\\r\\n\\r\\nBut now, Nintendo intends to end the year on another high note:\\r\\n\\r\\nXenoblade Chronicles 2.\\r\\n\\r\\nI can\\'t state just how pleased I am with Nintendo\\'s efforts. Each of these\\r\\ngames alone will fill weeks of your time if you spend the time exploring.\\r\\n\\r\\nPersonally, I\\'ve always been a fan of single player campaigns, so this\\r\\nlineup appeals to me, but probably not to those who enjoy online play.\\r\\n\\r\\nRegardless, I think Nintendo is a perfect compliment to either an X Box or\\r\\nPlaystation owner.\\r\\n\\r\\nHow do you feel about the Switch and it\\'s first year lineup? Confident they\\r\\ncan continue to deliver the goods?\\r\\n \\r\\n So, the gist is that someone is going to remedy the saturation issue that\\'s\\r\\nbeen plaguing the Pixel 2\\'s display. Granted, it doesn\\'t address the more\\r\\nserious issues some users may be experiencing.\\r\\n\\r\\nRegardless, for those like me with no major display problems, this will be\\r\\nmuch appreciated.\\r\\n\\r\\nMy single issue with my 2 XL is the muted colors. While I don\\'t notice in\\r\\nnormal usage too often...as soon as I see my 6P, it\\'s obvious.\\r\\n\\r\\nHere\\'s hoping this upcoming app helps!\\r\\n \\r\\n Could some of you who purchased an iPhone 8 please explain why you did so?\\r\\n\\r\\nI simply can\\'t fathom why you wouldn\\'t wait for the clearly superior\\r\\niPhone: the iPhone X. It contains all the things that make a new phone\\r\\nexciting: new (though questionably ugly) design, beautiful AMOLED screen,\\r\\nmore advanced cameras, etc. It\\'s the iPhone that is more forward thinking\\r\\nand helps push it\\'s competition.\\r\\n\\r\\nMy personal opinion is that the iPhone 8 is simply a warmed over device\\r\\nthat certainly doesn\\'t deserve to have increased even slightly in price.\\r\\nAnd while the X is a bit too expensive, I can at least understand and see\\r\\nlegitimate changes.\\r\\n\\r\\nSo why did you spend your money on the inferior iPhone and not wait for the\\r\\nclearly better one?\\r\\n \\r\\n So, lets see if we can pin down what the table stakes seem to be for our\\r\\nmobile phones:\\r\\n\\r\\n1. Greatly reduced bezels.\\r\\n\\r\\n2. Water proof.\\r\\n\\r\\n3. AMOLED display.\\r\\n\\r\\n4. Great camera.\\r\\n\\r\\nIt would seem that if you have these things, you\\'re golden. The iPhone X,\\r\\nGoogle Pixel 2, Galaxy Note8 and LG V30 seem to share these things in\\r\\ncommon.\\r\\n\\r\\nNow, what about extras?\\r\\n\\r\\n1. Wireless charging.\\r\\n\\r\\n2. Headphone jack.\\r\\n\\r\\nWhile not table stakes, they are important to many users. This is an area\\r\\nwhere only LG and Samsung have made a clear attempt to keep both. Sorry\\r\\nApple and Google. You may miss a few sales omitting one or both of these.\\r\\n\\r\\nFinally:\\r\\n\\r\\n1. Pricing.\\r\\n\\r\\nThis is a point of contention. Spending nearly a grand on a phone is wild.\\r\\nI damned Apple for it and Samsung and Google dont get a pass. This is\\r\\ngetting ridiculous. Plain and simple. *At least one can make a hefty profit\\r\\nreselling the iPhone X*.\\r\\n\\r\\nThat said, I can honestly say I\\'m glad that we have such a great selection\\r\\nof phones this fall. We\\'ll continue to nitpick over minor things, but\\r\\nregardless of which you pick, you should be happy.\\r\\n \\r\\n The best way to retain customers in a product driven market like mobile is\\r\\na strong or even mix of software, hardware and services.\\r\\n\\r\\nYet, no company is quite there on all three.\\r\\n\\r\\nApple lacks the strong foundation of services. Google is missing the\\r\\nhardware side, and Microsoft is hurting in software.\\r\\n\\r\\nSo, which company has the longest way to go to complete the holy trifecta?\\r\\nPlease offer your explanations below.\\r\\n \\r\\n The Razer is the first major phone to be acknowledged to use a 120Hz\\r\\ndisplay.\\r\\n\\r\\nAnd the hands on from many sites seems to be extremely positive. The\\r\\ndifference, while not picked up on camera well, seems to be immediately\\r\\nseen.\\r\\n\\r\\nSo, how soon before we see more mainstream OEMs take the plunge and give us\\r\\nthese faster refresh rates on phones?\\r\\n\\r\\nWith the push for everyone to use OLED, this may take a bit longer than\\r\\nusual...but still.\\r\\n\\r\\nThink Samsung, king of displays, can pull it off?\\r\\n \\r\\n So, the gist is that someone is going to remedy the saturation issue that\\'s\\r\\nbeen plaguing the Pixel 2\\'s display. Granted, it doesn\\'t address the more\\r\\nserious issues some users may be experiencing.\\r\\n\\r\\nRegardless, for those like me with no major display problems, this will be\\r\\nmuch appreciated.\\r\\n\\r\\nMy single issue with my 2 XL is the muted colors. While I don\\'t notice in\\r\\nnormal usage too often...as soon as I see my 6P, it\\'s obvious.\\r\\n\\r\\nHere\\'s hoping this upcoming app helps!\\r\\n \\r\\n Personally, I have no need for cellular in my smartwatch. But I\\'ll admit\\r\\nthis:\\r\\n\\r\\nApple has done this right with Series 3! Adding the antenna to the screen\\r\\nis actually genius.\\r\\n\\r\\nPlease take note all Android Wear makers. There\\'s no need to add sensors\\r\\nand wireless bands in the watch band itself. People like to change their\\r\\nwatchbands!\\r\\n \\r\\n You\\'re an Apple user. You have an iPhone, iPad, Apple Watch and a Mac (or\\r\\nsome combination of these). You\\'re also locked into the ecosystem and it\\r\\nwould be expensive to suddenly switch to another platform if you wanted to.\\r\\n\\r\\nYet, you feel as though, at times, you\\'re missing out on features from\\r\\nother platforms such as Googles Android or Microsofts Windows. Granted, the\\r\\nenvy may not sway you to leave, but you can\\'t help but long for offerings\\r\\nfrom the other side.\\r\\n\\r\\nWhat\\'s missing from iOS and Mac OS that you would love to see Apple\\r\\nimplement into its platform? It can be software or even hardware.\\r\\n\\r\\nLet\\'s hear your thoughts about *ONLY* Apple below.\\r\\n\\r\\nStay positive!\\r\\n \\r\\n You\\'re an Android user. You have dozens of options for your phone, from\\r\\ndozens of OEMs, a few semi options for a tablet, maybe rocking an Android\\r\\nWear device and heck, you may even work from a Chrome OS laptop (or some\\r\\ncombination of these). You\\'re also locked into the ecosystem and it would\\r\\nbe expensive to suddenly switch to another platform if you wanted to.\\r\\n\\r\\nYet, you feel as though, at times, you\\'re missing out on features from\\r\\nother platforms such as Apple\\'s platform or Microsofts Windows. Maybe some\\r\\nof that nice, nearly seamless intergration.\\r\\n\\r\\nWhat\\'s missing from Android or even Chrome OS that you would love to see\\r\\nGoogle implement into its platform? It can be software or even hardware.\\r\\n\\r\\nLet\\'s hear your thoughts about *ONLY* Google below.\\r\\n\\r\\nStay positive!\\r\\n \\r\\n Check out this article:\\r\\n\\r\\nhttps://www.google.com/amp/s/chromeunboxed.com/google-eve-new-laptop-patent-chromebook/amp/\\r\\n\\r\\nNow, it brings up a lot of points regarding the Chromeboom Eve. But my\\r\\nfocus is the design itself. It addresses the major flaw many 2n1s face:\\r\\n\\r\\nNo one likes touching the letter keys when in tablet mode.\\r\\n\\r\\nIt still boggles my mind that OEMs still make laptops that do this. It\\'s a\\r\\nusability nightmare. Laptops are still generally heavier than your basic\\r\\ntablet or iPad. Why combine that extra weight with the feeling of pressing\\r\\nkeys when you\\'re holding the device in its alternate mode?\\r\\n\\r\\nSo, Google seems to be looking at a way around it, but still leaving the\\r\\nkeyboard attached.\\r\\n\\r\\nGranted, both Google and Microsoft have tried different approaches to this.\\r\\nThey\\'ve each created devices that separate the screen from the keyboard.\\r\\nBut this still results in some compromises. The Surface Pro requires a\\r\\nkickstand and has stability issues when used on your lap. And the Pixel C\\r\\nwas top heavy to an extent.\\r\\n\\r\\nIn their defense though, you could at least detach the Keyboards and flip\\r\\nthem so as to not encounter the issues of most other 2n1s.\\r\\n\\r\\nDo you imagine that Google could pull off a relatively thin and light\\r\\nweight Chrome OS laptop as it\\'s designed in the patent? One that hides the\\r\\nkeys beneath a cover hinge that also acts as a touch pad?\\r\\n \\r\\n So, should Apple go all in on using eye/facial recognition to supplant\\r\\nTouch ID, do you believe they\\'ll continue to attempt to embed a fingerprint\\r\\nsensor under the display?\\r\\n\\r\\nHonestly, it wouldn\\'t make much sense to me.\\r\\n\\r\\nA hands free solution, that\\'s followed up by a method that requires\\r\\ntouching to unlock on a future device seems backwards. Once you move\\r\\nforward with a new technology like eye/facial recognition, especially if\\r\\nit\\'s the primary source of security, it would seem an admission of failure\\r\\nto say, \\'Hey, Touch ID was really better...Let\\'s just go back to that.\\'\\r\\n\\r\\nWhat do you imagine Apple will do?\\r\\n\\r\\nPart of me wonders if they\\'ll just add the sensor to the power button. As\\r\\nfar as I know, no major players in the US implement the fingerprint sensor\\r\\nthere, so to an extent, it would be more or less unique to the iPhone. (I\\'m\\r\\nfully aware Sony does this, but they still disable that sensor in the US.)\\r\\n\\r\\nIt also makes me wonder about the iPads future. Would future tablets\\r\\nimplement the \\'Face ID\\'? Is Apple going to remove the button from it as\\r\\nwell?\\r\\n\\r\\nLet\\'s hear your thoughts below.\\r\\n \\r\\n Netflix. Hulu. Amazon Prime. HBO Go. Showtime. Crunchy Roll. Sling TV.\\r\\nYouTube Red...Etc.\\r\\n\\r\\nHell, now even Disney is jumping into the fray.\\r\\n\\r\\nJust how sustainable is this business? There\\'s no way people are going to\\r\\ncontinue to pay for numerous streaming services to get all their content.\\r\\nSo what will the end result be?\\r\\n\\r\\n*1. Will some of these services join into one central service?*\\r\\n\\r\\n*2. Are some going to simply fail due to not having enough diversity of\\r\\ncontent?*\\r\\n\\r\\n*3. Or worse, will we eventually be forced back into the archaic cable\\r\\ntelevision model of old?*\\r\\n\\r\\nHonestly, I\\'m not gonna pay for more than 3 services. And I don\\'t imagine\\r\\nmany of you will either. If the idea was to keep people from\\r\\npirating...Well, this idea that every company and studio needing it\\'s own\\r\\nservice is going to backfire very quickly.\\r\\n \\r\\n Since it\\'s widely regarded as the best smartphone camera, in what ways do\\r\\nyou imagine Google can improve on its camera?\\r\\n\\r\\nLast year\\'s specs:\\r\\n\\r\\n   - 1/2.3\" 12MP CMOS sensor with 1.55m pixels\\r\\n   - F2.0 aperture\\r\\n   - AF with on-sensor phase detection and laser-assistance\\r\\n   - Dual-tone LED flash\\r\\n   - 4K video at 30 fps\\r\\n   - 1080p slow-motion at 120fps, 720p at 240fps\\r\\n   - Manual controls and Raw-support with third-party camera apps\\r\\n   - Gyroscope-based video stabilization\\r\\n   - 8MP front camera, 1/3.2\" sensor, 1.4 m pixels, F2.4, 1080p video\\r\\n   - Unlimited cloud storage for full-resolution images and videos\\r\\n\\r\\nNow, rumors suggest that Google isn\\'t going to bother with dual cameras at\\r\\nthis time. Which means they will no doubt put their full efforts into\\r\\nmaking the software do the heavy lifting. And if last year\\'s camera is the\\r\\nmeasurement stick, then it\\'s easy to expect that Google could easily repeat\\r\\nit\\'s efforts.\\r\\n\\r\\nLet\\'s here you\\'re thoughts below.\\r\\n \\r\\n So, how many of you are getting destroyed in the Trial of Swords?\\r\\n\\r\\nI think back to when I first started the game and how often I died. It\\r\\nhonestly like starting from scratch again with this Trial.\\r\\n\\r\\nSeriously, it\\'s comparable to All You Need Is Kill....Except I\\'m not\\r\\ngetting better at a fast enough rate.\\r\\n\\r\\nThat said, still having fun. I want that fully charged Master Sword!\\r\\n \\r\\n So far, I\\'m enjoying the beta on my iPad Pro 9.7.\\r\\n\\r\\nA few things I\\'ve noticed so far:\\r\\n\\r\\n*Chrome is displaying the web address toward the right corner of the bar*\\r\\n\\r\\n*My display appears to be dimmer than normal*\\r\\n\\r\\n*Scrolling seems faster, really wish I could see it on the newer iPads with\\r\\nthe faster refresh displays*\\r\\n\\r\\n*No app crashes so far, but I\\'ve had some freeze up for a few moments*\\r\\n\\r\\nAll in all, I think this is going to be a huge relegation for iPad owners\\r\\nwho wish for a bit more utility from the world\\'s best pure tablet.\\r\\n\\r\\nHow has your experience been?\\r\\n \\r\\n I just want an open discussion about this topic as I didn\\'t immediately see\\r\\none as of late.\\r\\n\\r\\nHow do you feel about Americans choosing to travel to a country like North\\r\\nKorea? With the political climate being as it has been for quite a while,\\r\\nshould a persons sense of adventure be placed secondary to the possible\\r\\nrisks that potentially come from a trip like this?\\r\\n\\r\\nAlso, what does one gain by visiting North Korea? Is being able to tout\\r\\nthat you\\'ve gone to such a place really worthwhile considering the apparent\\r\\nrisks?\\r\\n\\r\\nLet\\'s hear your thoughts below.\\r\\n \\r\\n My heart wants to believe that all hype around WW is well deserved. To\\r\\nbelieve that it is actually a great summer blockbuster.\\r\\n\\r\\nI want to believe that this female directed film is good, not just for\\r\\nbeing overseen by a woman, but because much love and time was put into\\r\\nelevating the status of a strong female character.\\r\\n\\r\\nBut...I just don\\'t know.\\r\\n\\r\\nI can\\'t help but to think back to all the hype the new Ghostbusters\\r\\nreceived and I become a bit jaded.\\r\\n\\r\\nSo many articles were written on how fantastic the talent was for that\\r\\nmovie. How that an all female cast would do so wonderfully and shut up all\\r\\nthe haters.\\r\\n\\r\\nAnd then we got the film...And it was relatively a flop.\\r\\n\\r\\nAnd now we have WW. It\\'s just too bad she has to carry the weight of 3 past\\r\\nfilms that have varied between \\'alright\\' (MoS) to okay (Suicide Squad) to\\r\\nterrible (BvS).\\r\\n\\r\\nThat\\'s a lot of pressure to be under...Even for the shoulders of one of\\r\\ncomics strongest and most beloved characters.\\r\\n\\r\\nSo, here\\'s hoping that WW suceeds where the other DC films have stumbled or\\r\\nin many cases, completely fallen.\\r\\n\\r\\nWhat do you all think: Will Wonder Woman be a success, or will this film\\r\\necho Ghostbusters and further push back DCs movie universe?\\r\\n \\r\\n Currently, I have the 42mm Aluminum Sport model. And while it\\'s been a\\r\\ngreat device, I can\\'t help but feel as though I want a larger device.\\r\\n\\r\\nBut not for battery life. I simply like my watches on the larger size. I\\r\\nthink a 48mm size option would suit me just fine.\\r\\n\\r\\nWhat do you all think? Are you happy with the current two sizes; or would\\r\\nyou like to see Apple give us an even larger 48mm or more size?\\r\\n \\r\\n So, I may be in the minority, but I\\'m buying this as I didn\\'t own a Wii U\\r\\nat the time to play this game.\\r\\n\\r\\nMario Kart has always been an extremely fun game to play with people\\r\\nactually in the room with you. And since the Switch comes with two\\r\\ncontrollers, you can instantly pick up and play against any willing family\\r\\nmember or friend.\\r\\n\\r\\nSo, are you buying MK8 today?\\r\\n \\r\\n So, it appears that maybe we\\'re headed toward a future of Star Wars films\\r\\nwhere the Jedi, Sith and the Force begin to take a back seat.\\r\\n\\r\\nMaybe I\\'m just reading too much into the newest trailer, but it makes me\\r\\ncringe.\\r\\n\\r\\nIn my opinion, Star Wars is nothing without force users; those that use it\\r\\nfor evil and those who stand against them. It\\'s basically a generic space\\r\\nodyssey, a poor mans Star Trek.\\r\\n\\r\\nIve never watched a Star Wars film for bounty hunters, galactic politics,\\r\\nfoot soldiers clad in white or anything else. I\\'ve watched solely because\\r\\nof those champions of good wielding swords made of light and making use of\\r\\nan unknown mystic force against foes who, on the surface, appear to be evil.\\r\\n\\r\\nIf Luke Skywalkers comment about the Jedi ending means that they are going\\r\\nto simply evolve, than I\\'m cool with that.\\r\\n\\r\\nBut if it means that all connections to the Force are going out the\\r\\nwindow...I\\'m done.\\r\\n\\r\\nI already had hostile feelings about The Force Awakens and its copy and\\r\\npaste method of apeing A New Hope. (Seriously, Finn would\\'ve been a better\\r\\nJedi character as his life experience of being a Storm Trooper was\\r\\nsomething we hadn\\'t seen in film before. We\\'ve already seen a lonely\\r\\noutcast character living on a desert planet rise to prominence )\\r\\n\\r\\nEnding Force users would be a blow to my investment in Star Wars.\\r\\n\\r\\nBut who knows...maybe I\\'m jumping the gun. Maybe I\\'m overthinking the\\r\\ncontext. I certainly hope so.\\r\\n\\r\\nWhat do you all think?\\r\\n \\r\\n '"
      ]
     },
     "execution_count": 19,
     "metadata": {},
     "output_type": "execute_result"
    }
   ],
   "source": [
    "asafText"
   ]
  },
  {
   "cell_type": "code",
   "execution_count": 17,
   "metadata": {},
   "outputs": [
    {
     "name": "stdout",
     "output_type": "stream",
     "text": [
      "+---------------+---------------+\n",
      "| Punctuation   |  Appearance   |\n",
      "+===============+===============+\n",
      "| :             |      24       |\n",
      "+---------------+---------------+\n",
      "| ,             |      220      |\n",
      "+---------------+---------------+\n",
      "| -             |      41       |\n",
      "+---------------+---------------+\n",
      "| =             |       0       |\n",
      "+---------------+---------------+\n",
      "| ;             |      16       |\n",
      "+---------------+---------------+\n",
      "| .             |      427      |\n",
      "+---------------+---------------+\n",
      "| !             |      15       |\n",
      "+---------------+---------------+\n",
      "| ?             |      59       |\n",
      "+---------------+---------------+\n",
      "| (             |      10       |\n",
      "+---------------+---------------+\n",
      "| )             |      10       |\n",
      "+---------------+---------------+\n",
      "| '             |      159      |\n",
      "+---------------+---------------+\n",
      "| #             |       1       |\n",
      "+---------------+---------------+\n",
      "| \\             |       0       |\n",
      "+---------------+---------------+\n",
      "\n",
      "Number of words:  1442\n",
      "Number of characters:  29975\n",
      "Capital letters appearance:  0.029624687239366138\n",
      "Uniqe capital letters:  21\n",
      "Uniqe lower letters:  26\n",
      "digits characters appearance:  0.0047706422018348625\n"
     ]
    }
   ],
   "source": [
    "get_general_details(asafText)"
   ]
  },
  {
   "cell_type": "code",
   "execution_count": 20,
   "metadata": {},
   "outputs": [
    {
     "data": {
      "text/plain": [
       "'so, as many of you know, i love my switch. first and foremost, it\\'s#portability makes for a great gaming experience.##that said, i\\'m not blind to some of its flaws. from it\\'s screen resolution,#to it horsepower, to it\\'s mostly plastic build there are many areas where#nintendo could improve the switch.##with that said, how soon before we see nintendo roll out an updated switch?#and what changes do you expect or hope to see?# # most of us a pretty happy with last year\\'s phone purchase be it a pixel,#iphone, galaxy or something else.##yet, try as they might, no oem can produce a truly perfect phone. as#technology changes, some compromise presents itself. and as consumers, we#accept some of these to get as close to perfect as possible.##so, when you examine that piece of glass and metal in your hand, how would#you improve it?##let\\'s hear below.# # welp....looks like disney is gonna do it again.##black panther. infinity war. solo. incredibles   . wreak it ralph   . ant man#and wasp....##these films are gonna lead to another year of complete domination by the#house of mouse.##i think the only film that may not see massive success is a wrinkle in time#and maybe the nutcracker. but we\\'ll see.##what disney film are you most looking forward to?# # look....##i know things get dicey when we talk about ecosystems. especially when they#are between apple and google. this is especially true after reading the#thread _silellak_ posted this past week or weekend.##reading through it now, its as if people are suddenly audio experts.##can we be real honest for a moment?##i don\\'t need to have heard any of them to come to this conclusion##they all sound great with one maybe sounding a bit better than the others.##does it really matter though? the things that make them unique are their#ability to use voice commands to do extra functions.##if any of us are truly looking for superior sound aren\\'t going to buy a#smartspeakers. plain and simple.##the sonos, google home max or the apple homepod will put out audio that is#truly beyond a fault.##the real discussion should be the features.##i hate to be the one to say this but are we simply arguing sound quality#because apple thinks that\\'s what\\'s most important? or, because the homepod#is lacking many features at launch?##regardless, the homepod will get more features as time goes on just like#the echo did.##it\\'s really just making me scratch my head how crazy this is getting...# # well, this escalated quickly.##https//www.google.com/amp/s/nypost.com/        /    /    /reporter-behind-ansari-story-criticizes-hln-hosts-looks-in-scathing-email/amp/##for those who may not follow the link, i\\'ll try to paraphrase this##mrs. banfield was against the tone, *not the facts,* revolving around the#aziz story written. she then voiced her opinions on air condemning the way#the story was delivered.##again, *not the facts.*##following that, katie way, the reporter at babe.net, decided to fire back.#and she took some extremely low blows at banfield namely taking aim at her#age and looks.##it was...sad. and certainly beneath one who claims to be a feminist.##now, it makes me wonder, how do those that support this article and it\\'s#delivery, those that say arguments against it are a mess, feel knowing that#authors other side?# # so, i don\\'t need to tell any of you that there\\'s been an extremely heighten#awareness of sexual harassment especially in hollywood.##one that\\'s *long* overdue.##yet, something was bothering me, and the latest claim against aziz really#brings up an issue##https//babe.net/        /    /    /aziz-ansari-          ##i then read this article##https//www.theatlantic.com/entertainment/archive/        /    /the-humiliation-of-aziz-ansari/            /##.......##i want to be completely honest. all the accounts in the metoo movement#aren\\'t the same. and this particular story against aziz is a bit of a#tipping point that i\\'m afraid may begin to hurt the entire movement.##it seems as though we have people jumping on the symbolic bandwagon.##while people should be fully held responsible for their foul, assualting#actions but what about inaction?##during the weinstein saga, like many, i was dumbfounded. how could so many#women have been lead into these situations.##yet, as i researched a bit more, it turns out that many women, now famous#from their associations with weinstein, knew full well that other young#aspiring actresses were walking into the same trap.##and i think that disgusted me just as much.##why would you allow other women to be subjected to the same foul treatment?#certainly you would mention to your neighbors and friends if you knew a#pedophile were lurking nearby! this is just as terrible.##turns out, some women in hollywood had indeed voiced their experiences, but#were mostly ignored. yet, the important part was that they had voiced it in#the public! some put out a warning.##again, i want to be clear this in no way brushes aside the actions of men#who misuse their celebrity or power to gain what they want.##but i can shake the feeling that standing there and taking it....is#strange. and bordering on stupid.##there are plenty of women around the world who simply wouldn\\'t stand around#for this behaviour. my sister\\'s, wife and numerous female friends are#equally stunned by these situations.##going to meet strange men alone at night, standing around while men#masterbate in front of them...##why? is your potential career more important than your dignity or respect?##i don\\'t believe any men is these forums would absolve another man of this#behaviour. but those of you with daughters certainly you\\'ve trained your#girls that this is unacceptable and they should immediately leave, run or#flee if they encounter unwanted sexual advances.##my daughter is   yrs old and my wife and i have already discussed, and#continue to discuss with her that no one should touch her in certain#places. what decent parent hasn\\'t?##yet, what is happening when people grow older? some obviously retain these#lessons. others seem to be ignoring it.##i\\'ve always believed that when a situation is in your control, you need to#take responsibility for what follows. because in life there are going to be#many instances where you don\\'t have control.##i may be rambling in some of this post. maybe some of my thoughts aren\\'t#being clearly communicated.##but i want to hear the thoughts of others in this community. there are a#variety of people here that differ from maybe those in my immediate circle.##how do some of you feel about the entirety of the recent flood of#accusations? do you feel all are legimate? are some just jumping on the#bandwagon?##also, do you feel that all the accusations leveled at those in power will#remedy the situation? could it backfire?##please....please keep this civil. i really want us to have a decent#discussions that respects others opinions. *unless that opinion suggests#that sexual harassment is okay. if so, you\\'re a piece of crap and don\\'t#bother commenting.*##thanks.# # i now need a new tablet. i\\'m simply not going to spend upwards of $       for#a screen replacement when i can spend just a bit more and get a new one.##my first thought, of course, was just get another ipad. perfectly#reasonable assessment. the ipad is hands down the best *pure* tablet by a#long shot. in fact, outside of buying the failed motorola xoom at launch,#and promptly switching to the ipad       or so months later or the time i#tried out a surface   , i haven\\'t seriously considered trying anything else.##but things have now changed. i wanna try something different.##after leaving behind my iphone and apple watch and inserting myself back#into android, now seems to be a great time to do so.##the question is simply what to get.##my options are the following##windows      detectables or chromebook   -n-  \\'s *at least until some oem#unleashes a true chrome os tablet*##my budget is $       let\\'s hear your suggestions below.##let\\'s go!# #  wow...just wow...this game is crazy. and huge. so freaking huge!##i\\'m      hours in and i\\'m still getting lost on these titans. here\\'s my#breakdown of xenoblade chronicles   .##first, this game is not for those who want something they can play in very#small chunks. it is a pretty deep jrpg and requires/seizures your attention#for long periods of time. to get the most from this title you must devote#some time to learning it\\'s ins and outs.##over the course of the first     + hours, you\\'re going to have information#feed to you. most importantly, those involving combat. clicking through#these tutoriorls because you think you understand will result in you#promptly being destroyed by your enemies.##the world of alrest feels as though it is literally seeking your utter#destruction for any and every failure. time attacks incorrectly and you may#leave your foe with just enough life to lay down a world of hurt upon you.##regarding combat it\\'s superb. the learning curve can be steep though. you#have such a wealth of options at your diposal that it can overwhelm you.#elements, weapons, directional stances, etc....your mind will be working#overtime to figure out what your next step in battlefield should be and you#don\\'t have very long to decide.##xenoblade fights require you to be not just quick thinking, but divisive.##the hud during combat is another aspect that can be a bit much. especially#if you were again, the type of person to ignore the tutorials. it is#information overload.##watch your parties health, watch you characters auto attack timing, watch#you special abilities, watch your enemies attacks, watch for status changes#in the enemies.##your eyes need to be trained to take this all in and be able to act upon it#in an instance.##the amount of damage you can deliver is huge if you are prepared. it can#greatly reduced the amount of time your fighting an opponent.##combat is something that xenoblade does very well. it makes you feel like a#pro when you successfully bring down a for due to your skill. something you#don\\'t always get from a game.##next up is exploration.##as i mentioned earlier, the world of xenoblade is humongous! it makes the#land of hyrule in botw look downright bleak and empty. towns are full of#people and feel alive with activity. so many shops to spend your money on#to prepare for combat. numerous npcs to speak with to not only learn about#this world, but also what\\'s happening in it and actually advancing it\\'s#abilities to assist you later.##outside of the towns, the landscape is simply beautiful. the areas vary#greatly from lush jungles to sandy deserts. branching paths usually reward#you for simply exploring.##but while the towns and landscapes are wonderful, the guiding arrow to#complete missions is borderline a deal breaker. seriously, this thing is#useless unless your on a level area. alrest is wide, tall and full of nooks#and crannies. if you aren\\'t up for looking behind every corner, checking#every hole, you\\'ll miss you stop.##my advice you better listen to whoever is giving you an assignment because#simply following the arrow at the top of the hud will drive you insane.##finally, the story. i won\\'t spoil anything here, but i will say that it\\'s#very good so far. probably not the deepest thing out there, but certainly#entertaining. leans heavily into ideas and mannerisms found in many#japanese mangas. if you like those things, you throughly enjoy yourself.##to sum up, i\\'d say this game is certainly worth the price of admission.#zelda kicked off the switch launch properly, and xenoblade is giving the#huge assist to finish off nintendo\\'s efforts in         .##xenoblade has kicked my tail to the point that sometimes i want to just put#the controller down. but those times i successfully pull off a combo of#epic proportions...it just reels me back in.##so, what do you all think of xc  ?##let\\'s discuss below!# # we live tech. we breath tech. we use tech.##from gaming, to vehicles, to mobile, tech is constantly moving and#presenting us with either new things, or improvements on things we already#use.##with that said, what has been your best tech purchase in         ?##that single item that has truly enriched your life or been an absolute#pleasure to use daily.##sound off below!# # can we just take a moment and be honest? the dceu is a mess plain and#simple.##i don\\'t want this post to be a mcu vs dceu debate. to be fair, the mcu has#plenty of issues of its own. there a few problems with continuity, some of#the films aren\\'t great, villians are mostly forgettable, etc.##despite these issues though, the mcu has a common thread that has made it\\'s#movies must watch for many especially the average moviegoer.##the dceu though...its problems are deeper than what\\'s on the screen.##from the producers, directors, screenwriters...if you can\\'t get the#situation right behind the camera, how can you expect to put a good film on#screen?##wonder woman is a good/great film, but it\\'s measured against it\\'s#stablemates, which helps it to look even better.##man of steel was decent/good. it\\'s problem was being _too_ dark for the#coming out of a new superman film.##suicide squad was meh/decent. problem here is, we didn\\'t need this film yet.##finally batman vs superman was bad/meh. this film had way too many issues#and even the most advent dc fan can see that especially when they compare#it back to wonder woman.##having too many hands in the kitchen has wrecked the dceu and the attempts#to right the ship with justice league doesn\\'t seem to be helping a lot.##is it maybe time to just scrap what\\'s on the table for warner bros and just#restart?##at least by going back to the beginning, a single head can help churn out a#consistent vision with none of the problems of trying to stitch together#these previous films.##dc characters are too well known to be saddled with such films. superman,#batman, wonder woman all deserve better than this.# # wow....just wow!##the switch has really come into its own this first year. launching with#botw, followed by mario odyssey was certainly a great plan.##but now, nintendo intends to end the year on another high note##xenoblade chronicles   .##i can\\'t state just how pleased i am with nintendo\\'s efforts. each of these#games alone will fill weeks of your time if you spend the time exploring.##personally, i\\'ve always been a fan of single player campaigns, so this#lineup appeals to me, but probably not to those who enjoy online play.##regardless, i think nintendo is a perfect compliment to either an x box or#playstation owner.##how do you feel about the switch and it\\'s first year lineup? confident they#can continue to deliver the goods?# # so, the gist is that someone is going to remedy the saturation issue that\\'s#been plaguing the pixel   \\'s display. granted, it doesn\\'t address the more#serious issues some users may be experiencing.##regardless, for those like me with no major display problems, this will be#much appreciated.##my single issue with my    xl is the muted colors. while i don\\'t notice in#normal usage too often...as soon as i see my   p, it\\'s obvious.##here\\'s hoping this upcoming app helps!# # could some of you who purchased an iphone    please explain why you did so?##i simply can\\'t fathom why you wouldn\\'t wait for the clearly superior#iphone the iphone x. it contains all the things that make a new phone#exciting new though questionably ugly design, beautiful amoled screen,#more advanced cameras, etc. it\\'s the iphone that is more forward thinking#and helps push it\\'s competition.##my personal opinion is that the iphone    is simply a warmed over device#that certainly doesn\\'t deserve to have increased even slightly in price.#and while the x is a bit too expensive, i can at least understand and see#legitimate changes.##so why did you spend your money on the inferior iphone and not wait for the#clearly better one?# # so, lets see if we can pin down what the table stakes seem to be for our#mobile phones##  . greatly reduced bezels.##  . water proof.##  . amoled display.##  . great camera.##it would seem that if you have these things, you\\'re golden. the iphone x,#google pixel   , galaxy note   and lg v     seem to share these things in#common.##now, what about extras?##  . wireless charging.##  . headphone jack.##while not table stakes, they are important to many users. this is an area#where only lg and samsung have made a clear attempt to keep both. sorry#apple and google. you may miss a few sales omitting one or both of these.##finally##  . pricing.##this is a point of contention. spending nearly a grand on a phone is wild.#i damned apple for it and samsung and google dont get a pass. this is#getting ridiculous. plain and simple. *at least one can make a hefty profit#reselling the iphone x*.##that said, i can honestly say i\\'m glad that we have such a great selection#of phones this fall. we\\'ll continue to nitpick over minor things, but#regardless of which you pick, you should be happy.# # the best way to retain customers in a product driven market like mobile is#a strong or even mix of software, hardware and services.##yet, no company is quite there on all three.##apple lacks the strong foundation of services. google is missing the#hardware side, and microsoft is hurting in software.##so, which company has the longest way to go to complete the holy trifecta?#please offer your explanations below.# # the razer is the first major phone to be acknowledged to use a       hz#display.##and the hands on from many sites seems to be extremely positive. the#difference, while not picked up on camera well, seems to be immediately#seen.##so, how soon before we see more mainstream oems take the plunge and give us#these faster refresh rates on phones?##with the push for everyone to use oled, this may take a bit longer than#usual...but still.##think samsung, king of displays, can pull it off?# # so, the gist is that someone is going to remedy the saturation issue that\\'s#been plaguing the pixel   \\'s display. granted, it doesn\\'t address the more#serious issues some users may be experiencing.##regardless, for those like me with no major display problems, this will be#much appreciated.##my single issue with my    xl is the muted colors. while i don\\'t notice in#normal usage too often...as soon as i see my   p, it\\'s obvious.##here\\'s hoping this upcoming app helps!# # personally, i have no need for cellular in my smartwatch. but i\\'ll admit#this##apple has done this right with series   ! adding the antenna to the screen#is actually genius.##please take note all android wear makers. there\\'s no need to add sensors#and wireless bands in the watch band itself. people like to change their#watchbands!# # you\\'re an apple user. you have an iphone, ipad, apple watch and a mac or#some combination of these. you\\'re also locked into the ecosystem and it#would be expensive to suddenly switch to another platform if you wanted to.##yet, you feel as though, at times, you\\'re missing out on features from#other platforms such as googles android or microsofts windows. granted, the#envy may not sway you to leave, but you can\\'t help but long for offerings#from the other side.##what\\'s missing from ios and mac os that you would love to see apple#implement into its platform? it can be software or even hardware.##let\\'s hear your thoughts about *only* apple below.##stay positive!# # you\\'re an android user. you have dozens of options for your phone, from#dozens of oems, a few semi options for a tablet, maybe rocking an android#wear device and heck, you may even work from a chrome os laptop or some#combination of these. you\\'re also locked into the ecosystem and it would#be expensive to suddenly switch to another platform if you wanted to.##yet, you feel as though, at times, you\\'re missing out on features from#other platforms such as apple\\'s platform or microsofts windows. maybe some#of that nice, nearly seamless intergration.##what\\'s missing from android or even chrome os that you would love to see#google implement into its platform? it can be software or even hardware.##let\\'s hear your thoughts about *only* google below.##stay positive!# # check out this article##https//www.google.com/amp/s/chromeunboxed.com/google-eve-new-laptop-patent-chromebook/amp/##now, it brings up a lot of points regarding the chromeboom eve. but my#focus is the design itself. it addresses the major flaw many   n  s face##no one likes touching the letter keys when in tablet mode.##it still boggles my mind that oems still make laptops that do this. it\\'s a#usability nightmare. laptops are still generally heavier than your basic#tablet or ipad. why combine that extra weight with the feeling of pressing#keys when you\\'re holding the device in its alternate mode?##so, google seems to be looking at a way around it, but still leaving the#keyboard attached.##granted, both google and microsoft have tried different approaches to this.#they\\'ve each created devices that separate the screen from the keyboard.#but this still results in some compromises. the surface pro requires a#kickstand and has stability issues when used on your lap. and the pixel c#was top heavy to an extent.##in their defense though, you could at least detach the keyboards and flip#them so as to not encounter the issues of most other   n  s.##do you imagine that google could pull off a relatively thin and light#weight chrome os laptop as it\\'s designed in the patent? one that hides the#keys beneath a cover hinge that also acts as a touch pad?# # so, should apple go all in on using eye/facial recognition to supplant#touch id, do you believe they\\'ll continue to attempt to embed a fingerprint#sensor under the display?##honestly, it wouldn\\'t make much sense to me.##a hands free solution, that\\'s followed up by a method that requires#touching to unlock on a future device seems backwards. once you move#forward with a new technology like eye/facial recognition, especially if#it\\'s the primary source of security, it would seem an admission of failure#to say, \\'hey, touch id was really better...let\\'s just go back to that.\\'##what do you imagine apple will do?##part of me wonders if they\\'ll just add the sensor to the power button. as#far as i know, no major players in the us implement the fingerprint sensor#there, so to an extent, it would be more or less unique to the iphone. i\\'m#fully aware sony does this, but they still disable that sensor in the us.##it also makes me wonder about the ipads future. would future tablets#implement the \\'face id\\'? is apple going to remove the button from it as#well?##let\\'s hear your thoughts below.# # netflix. hulu. amazon prime. hbo go. showtime. crunchy roll. sling tv.#youtube red...etc.##hell, now even disney is jumping into the fray.##just how sustainable is this business? there\\'s no way people are going to#continue to pay for numerous streaming services to get all their content.#so what will the end result be?##*  . will some of these services join into one central service?*##*  . are some going to simply fail due to not having enough diversity of#content?*##*  . or worse, will we eventually be forced back into the archaic cable#television model of old?*##honestly, i\\'m not gonna pay for more than    services. and i don\\'t imagine#many of you will either. if the idea was to keep people from#pirating...well, this idea that every company and studio needing it\\'s own#service is going to backfire very quickly.# # since it\\'s widely regarded as the best smartphone camera, in what ways do#you imagine google can improve on its camera?##last year\\'s specs##   -   /  .  \"     mp cmos sensor with   .    m pixels#   - f  .   aperture#   - af with on-sensor phase detection and laser-assistance#   - dual-tone led flash#   -   k video at      fps#   -         p slow-motion at       fps,       p at       fps#   - manual controls and raw-support with third-party camera apps#   - gyroscope-based video stabilization#   -   mp front camera,   /  .  \" sensor,   .   m pixels, f  .  ,         p video#   - unlimited cloud storage for full-resolution images and videos##now, rumors suggest that google isn\\'t going to bother with dual cameras at#this time. which means they will no doubt put their full efforts into#making the software do the heavy lifting. and if last year\\'s camera is the#measurement stick, then it\\'s easy to expect that google could easily repeat#it\\'s efforts.##let\\'s here you\\'re thoughts below.# # so, how many of you are getting destroyed in the trial of swords?##i think back to when i first started the game and how often i died. it#honestly like starting from scratch again with this trial.##seriously, it\\'s comparable to all you need is kill....except i\\'m not#getting better at a fast enough rate.##that said, still having fun. i want that fully charged master sword!# # so far, i\\'m enjoying the beta on my ipad pro   .  .##a few things i\\'ve noticed so far##*chrome is displaying the web address toward the right corner of the bar*##*my display appears to be dimmer than normal*##*scrolling seems faster, really wish i could see it on the newer ipads with#the faster refresh displays*##*no app crashes so far, but i\\'ve had some freeze up for a few moments*##all in all, i think this is going to be a huge relegation for ipad owners#who wish for a bit more utility from the world\\'s best pure tablet.##how has your experience been?# # i just want an open discussion about this topic as i didn\\'t immediately see#one as of late.##how do you feel about americans choosing to travel to a country like north#korea? with the political climate being as it has been for quite a while,#should a persons sense of adventure be placed secondary to the possible#risks that potentially come from a trip like this?##also, what does one gain by visiting north korea? is being able to tout#that you\\'ve gone to such a place really worthwhile considering the apparent#risks?##let\\'s hear your thoughts below.# # my heart wants to believe that all hype around ww is well deserved. to#believe that it is actually a great summer blockbuster.##i want to believe that this female directed film is good, not just for#being overseen by a woman, but because much love and time was put into#elevating the status of a strong female character.##but...i just don\\'t know.##i can\\'t help but to think back to all the hype the new ghostbusters#received and i become a bit jaded.##so many articles were written on how fantastic the talent was for that#movie. how that an all female cast would do so wonderfully and shut up all#the haters.##and then we got the film...and it was relatively a flop.##and now we have ww. it\\'s just too bad she has to carry the weight of    past#films that have varied between \\'alright\\' mos to okay suicide squad to#terrible bvs.##that\\'s a lot of pressure to be under...even for the shoulders of one of#comics strongest and most beloved characters.##so, here\\'s hoping that ww suceeds where the other dc films have stumbled or#in many cases, completely fallen.##what do you all think will wonder woman be a success, or will this film#echo ghostbusters and further push back dcs movie universe?# # currently, i have the     mm aluminum sport model. and while it\\'s been a#great device, i can\\'t help but feel as though i want a larger device.##but not for battery life. i simply like my watches on the larger size. i#think a     mm size option would suit me just fine.##what do you all think? are you happy with the current two sizes or would#you like to see apple give us an even larger     mm or more size?# # so, i may be in the minority, but i\\'m buying this as i didn\\'t own a wii u#at the time to play this game.##mario kart has always been an extremely fun game to play with people#actually in the room with you. and since the switch comes with two#controllers, you can instantly pick up and play against any willing family#member or friend.##so, are you buying mk   today?# # so, it appears that maybe we\\'re headed toward a future of star wars films#where the jedi, sith and the force begin to take a back seat.##maybe i\\'m just reading too much into the newest trailer, but it makes me#cringe.##in my opinion, star wars is nothing without force users those that use it#for evil and those who stand against them. it\\'s basically a generic space#odyssey, a poor mans star trek.##ive never watched a star wars film for bounty hunters, galactic politics,#foot soldiers clad in white or anything else. i\\'ve watched solely because#of those champions of good wielding swords made of light and making use of#an unknown mystic force against foes who, on the surface, appear to be evil.##if luke skywalkers comment about the jedi ending means that they are going#to simply evolve, than i\\'m cool with that.##but if it means that all connections to the force are going out the#window...i\\'m done.##i already had hostile feelings about the force awakens and its copy and#paste method of apeing a new hope. seriously, finn would\\'ve been a better#jedi character as his life experience of being a storm trooper was#something we hadn\\'t seen in film before. we\\'ve already seen a lonely#outcast character living on a desert planet rise to prominence ##ending force users would be a blow to my investment in star wars.##but who knows...maybe i\\'m jumping the gun. maybe i\\'m overthinking the#context. i certainly hope so.##what do you all think?# # '"
      ]
     },
     "execution_count": 20,
     "metadata": {},
     "output_type": "execute_result"
    }
   ],
   "source": [
    "asafText_=re.sub(r'[\\(\\)\\;\\\\\\:\\#]','',asafText)\n",
    "asafText_=re.sub(r'\\r\\n','#',asafText_)\n",
    "asafText_=re.sub(r'[0-9]',' '+ ''+ ' ',asafText_)\n",
    "asafText_=asafText_.lower()\n",
    "asafText_"
   ]
  },
  {
   "cell_type": "markdown",
   "metadata": {},
   "source": [
    "**building the model**"
   ]
  },
  {
   "cell_type": "code",
   "execution_count": 30,
   "metadata": {},
   "outputs": [
    {
     "name": "stdout",
     "output_type": "stream",
     "text": [
      "Total Characters:  29315\n",
      "Total Vocab:  40\n",
      "number of patterns:  29295\n"
     ]
    }
   ],
   "source": [
    "n_vocab,int_to_char,char_to_int,dataX,X,y,model3=n_seq_model(asafText_,20,256)"
   ]
  },
  {
   "cell_type": "code",
   "execution_count": 31,
   "metadata": {
    "collapsed": true
   },
   "outputs": [],
   "source": [
    "model3.compile(loss='categorical_crossentropy', optimizer='rmsprop', metrics=['accuracy'])"
   ]
  },
  {
   "cell_type": "code",
   "execution_count": 34,
   "metadata": {
    "scrolled": true
   },
   "outputs": [
    {
     "name": "stdout",
     "output_type": "stream",
     "text": [
      "Epoch 1/650\n",
      "29280/29295 [============================>.] - ETA: 0s - loss: 3.0101 - acc: 0.1714\n",
      "Epoch 00001: loss improved from inf to 3.00996, saving model to weights-improvement-01-3.0100-asaf1.hdf5\n",
      "29295/29295 [==============================] - 63s 2ms/step - loss: 3.0100 - acc: 0.1714\n",
      "Epoch 2/650\n",
      "29280/29295 [============================>.] - ETA: 0s - loss: 2.9140 - acc: 0.2019\n",
      "Epoch 00002: loss improved from 3.00996 to 2.91390, saving model to weights-improvement-02-2.9139-asaf1.hdf5\n",
      "29295/29295 [==============================] - 63s 2ms/step - loss: 2.9139 - acc: 0.2019\n",
      "Epoch 3/650\n",
      "29280/29295 [============================>.] - ETA: 0s - loss: 2.8656 - acc: 0.2106\n",
      "Epoch 00003: loss improved from 2.91390 to 2.86563, saving model to weights-improvement-03-2.8656-asaf1.hdf5\n",
      "29295/29295 [==============================] - 63s 2ms/step - loss: 2.8656 - acc: 0.2105\n",
      "Epoch 4/650\n",
      "29280/29295 [============================>.] - ETA: 0s - loss: 2.8350 - acc: 0.2149\n",
      "Epoch 00004: loss improved from 2.86563 to 2.83487, saving model to weights-improvement-04-2.8349-asaf1.hdf5\n",
      "29295/29295 [==============================] - 64s 2ms/step - loss: 2.8349 - acc: 0.2149\n",
      "Epoch 5/650\n",
      "29280/29295 [============================>.] - ETA: 0s - loss: 2.8114 - acc: 0.2148\n",
      "Epoch 00005: loss improved from 2.83487 to 2.81121, saving model to weights-improvement-05-2.8112-asaf1.hdf5\n",
      "29295/29295 [==============================] - 65s 2ms/step - loss: 2.8112 - acc: 0.2149\n",
      "Epoch 6/650\n",
      "29280/29295 [============================>.] - ETA: 0s - loss: 2.7891 - acc: 0.2188\n",
      "Epoch 00006: loss improved from 2.81121 to 2.78917, saving model to weights-improvement-06-2.7892-asaf1.hdf5\n",
      "29295/29295 [==============================] - 65s 2ms/step - loss: 2.7892 - acc: 0.2188\n",
      "Epoch 7/650\n",
      "29280/29295 [============================>.] - ETA: 0s - loss: 2.7694 - acc: 0.2235\n",
      "Epoch 00007: loss improved from 2.78917 to 2.76945, saving model to weights-improvement-07-2.7695-asaf1.hdf5\n",
      "29295/29295 [==============================] - 65s 2ms/step - loss: 2.7695 - acc: 0.2235\n",
      "Epoch 8/650\n",
      "29280/29295 [============================>.] - ETA: 0s - loss: 2.7505 - acc: 0.2266\n",
      "Epoch 00008: loss improved from 2.76945 to 2.75049, saving model to weights-improvement-08-2.7505-asaf1.hdf5\n",
      "29295/29295 [==============================] - 65s 2ms/step - loss: 2.7505 - acc: 0.2266\n",
      "Epoch 9/650\n",
      "29280/29295 [============================>.] - ETA: 0s - loss: 2.7324 - acc: 0.2327\n",
      "Epoch 00009: loss improved from 2.75049 to 2.73251, saving model to weights-improvement-09-2.7325-asaf1.hdf5\n",
      "29295/29295 [==============================] - 65s 2ms/step - loss: 2.7325 - acc: 0.2327\n",
      "Epoch 10/650\n",
      "29280/29295 [============================>.] - ETA: 0s - loss: 2.7144 - acc: 0.2356\n",
      "Epoch 00010: loss improved from 2.73251 to 2.71420, saving model to weights-improvement-10-2.7142-asaf1.hdf5\n",
      "29295/29295 [==============================] - 65s 2ms/step - loss: 2.7142 - acc: 0.2356\n",
      "Epoch 11/650\n",
      "29280/29295 [============================>.] - ETA: 0s - loss: 2.6872 - acc: 0.2420\n",
      "Epoch 00011: loss improved from 2.71420 to 2.68721, saving model to weights-improvement-11-2.6872-asaf1.hdf5\n",
      "29295/29295 [==============================] - 65s 2ms/step - loss: 2.6872 - acc: 0.2420\n",
      "Epoch 12/650\n",
      "29280/29295 [============================>.] - ETA: 0s - loss: 2.6631 - acc: 0.2462\n",
      "Epoch 00012: loss improved from 2.68721 to 2.66349, saving model to weights-improvement-12-2.6635-asaf1.hdf5\n",
      "29295/29295 [==============================] - 66s 2ms/step - loss: 2.6635 - acc: 0.2461\n",
      "Epoch 13/650\n",
      "29280/29295 [============================>.] - ETA: 0s - loss: 2.6287 - acc: 0.2528\n",
      "Epoch 00013: loss improved from 2.66349 to 2.62843, saving model to weights-improvement-13-2.6284-asaf1.hdf5\n",
      "29295/29295 [==============================] - 72s 2ms/step - loss: 2.6284 - acc: 0.2528\n",
      "Epoch 14/650\n",
      "29280/29295 [============================>.] - ETA: 0s - loss: 2.5960 - acc: 0.2625\n",
      "Epoch 00014: loss improved from 2.62843 to 2.59601, saving model to weights-improvement-14-2.5960-asaf1.hdf5\n",
      "29295/29295 [==============================] - 77s 3ms/step - loss: 2.5960 - acc: 0.2625\n",
      "Epoch 15/650\n",
      "29280/29295 [============================>.] - ETA: 0s - loss: 2.5536 - acc: 0.2723\n",
      "Epoch 00015: loss improved from 2.59601 to 2.55361, saving model to weights-improvement-15-2.5536-asaf1.hdf5\n",
      "29295/29295 [==============================] - 73s 2ms/step - loss: 2.5536 - acc: 0.2723\n",
      "Epoch 16/650\n",
      "29280/29295 [============================>.] - ETA: 0s - loss: 2.5073 - acc: 0.2825\n",
      "Epoch 00016: loss improved from 2.55361 to 2.50713, saving model to weights-improvement-16-2.5071-asaf1.hdf5\n",
      "29295/29295 [==============================] - 68s 2ms/step - loss: 2.5071 - acc: 0.2825\n",
      "Epoch 17/650\n",
      "29280/29295 [============================>.] - ETA: 0s - loss: 2.4581 - acc: 0.2950\n",
      "Epoch 00017: loss improved from 2.50713 to 2.45817, saving model to weights-improvement-17-2.4582-asaf1.hdf5\n",
      "29295/29295 [==============================] - 69s 2ms/step - loss: 2.4582 - acc: 0.2950\n",
      "Epoch 18/650\n",
      "29280/29295 [============================>.] - ETA: 0s - loss: 2.3976 - acc: 0.3103\n",
      "Epoch 00018: loss improved from 2.45817 to 2.39765, saving model to weights-improvement-18-2.3976-asaf1.hdf5\n",
      "29295/29295 [==============================] - 67s 2ms/step - loss: 2.3976 - acc: 0.3104\n",
      "Epoch 19/650\n",
      "29280/29295 [============================>.] - ETA: 0s - loss: 2.3400 - acc: 0.3225\n",
      "Epoch 00019: loss improved from 2.39765 to 2.33983, saving model to weights-improvement-19-2.3398-asaf1.hdf5\n",
      "29295/29295 [==============================] - 68s 2ms/step - loss: 2.3398 - acc: 0.3225\n",
      "Epoch 20/650\n",
      "29280/29295 [============================>.] - ETA: 0s - loss: 2.2699 - acc: 0.3411\n",
      "Epoch 00020: loss improved from 2.33983 to 2.26985, saving model to weights-improvement-20-2.2699-asaf1.hdf5\n",
      "29295/29295 [==============================] - 67s 2ms/step - loss: 2.2699 - acc: 0.3411\n",
      "Epoch 21/650\n",
      "29280/29295 [============================>.] - ETA: 0s - loss: 2.1973 - acc: 0.3596\n",
      "Epoch 00021: loss improved from 2.26985 to 2.19722, saving model to weights-improvement-21-2.1972-asaf1.hdf5\n",
      "29295/29295 [==============================] - 68s 2ms/step - loss: 2.1972 - acc: 0.3595\n",
      "Epoch 22/650\n",
      "29280/29295 [============================>.] - ETA: 0s - loss: 2.1228 - acc: 0.3792\n",
      "Epoch 00022: loss improved from 2.19722 to 2.12267, saving model to weights-improvement-22-2.1227-asaf1.hdf5\n",
      "29295/29295 [==============================] - 69s 2ms/step - loss: 2.1227 - acc: 0.3793\n",
      "Epoch 23/650\n",
      "29280/29295 [============================>.] - ETA: 0s - loss: 2.0579 - acc: 0.3957- ETA: 0s - loss: 2.0574 - acc\n",
      "Epoch 00023: loss improved from 2.12267 to 2.05794, saving model to weights-improvement-23-2.0579-asaf1.hdf5\n",
      "29295/29295 [==============================] - 68s 2ms/step - loss: 2.0579 - acc: 0.3957\n",
      "Epoch 24/650\n",
      "29280/29295 [============================>.] - ETA: 0s - loss: 1.9711 - acc: 0.4255\n",
      "Epoch 00024: loss improved from 2.05794 to 1.97131, saving model to weights-improvement-24-1.9713-asaf1.hdf5\n",
      "29295/29295 [==============================] - 68s 2ms/step - loss: 1.9713 - acc: 0.4255\n",
      "Epoch 25/650\n",
      "29280/29295 [============================>.] - ETA: 0s - loss: 1.8931 - acc: 0.4428\n",
      "Epoch 00025: loss improved from 1.97131 to 1.89304, saving model to weights-improvement-25-1.8930-asaf1.hdf5\n",
      "29295/29295 [==============================] - 69s 2ms/step - loss: 1.8930 - acc: 0.4428\n",
      "Epoch 26/650\n",
      "29280/29295 [============================>.] - ETA: 0s - loss: 1.8253 - acc: 0.4613\n",
      "Epoch 00026: loss improved from 1.89304 to 1.82568, saving model to weights-improvement-26-1.8257-asaf1.hdf5\n",
      "29295/29295 [==============================] - 69s 2ms/step - loss: 1.8257 - acc: 0.4612\n",
      "Epoch 27/650\n",
      "29280/29295 [============================>.] - ETA: 0s - loss: 1.7493 - acc: 0.4839\n",
      "Epoch 00027: loss improved from 1.82568 to 1.74948, saving model to weights-improvement-27-1.7495-asaf1.hdf5\n",
      "29295/29295 [==============================] - 69s 2ms/step - loss: 1.7495 - acc: 0.4839\n",
      "Epoch 28/650\n",
      "29280/29295 [============================>.] - ETA: 0s - loss: 1.6746 - acc: 0.5024\n",
      "Epoch 00028: loss improved from 1.74948 to 1.67460, saving model to weights-improvement-28-1.6746-asaf1.hdf5\n",
      "29295/29295 [==============================] - 69s 2ms/step - loss: 1.6746 - acc: 0.5024\n"
     ]
    },
    {
     "name": "stdout",
     "output_type": "stream",
     "text": [
      "Epoch 29/650\n",
      "29280/29295 [============================>.] - ETA: 0s - loss: 1.6074 - acc: 0.5260\n",
      "Epoch 00029: loss improved from 1.67460 to 1.60742, saving model to weights-improvement-29-1.6074-asaf1.hdf5\n",
      "29295/29295 [==============================] - 62s 2ms/step - loss: 1.6074 - acc: 0.5260\n",
      "Epoch 30/650\n",
      "29280/29295 [============================>.] - ETA: 0s - loss: 1.5376 - acc: 0.5411\n",
      "Epoch 00030: loss improved from 1.60742 to 1.53751, saving model to weights-improvement-30-1.5375-asaf1.hdf5\n",
      "29295/29295 [==============================] - 62s 2ms/step - loss: 1.5375 - acc: 0.5410\n",
      "Epoch 31/650\n",
      "29280/29295 [============================>.] - ETA: 0s - loss: 1.4764 - acc: 0.5626\n",
      "Epoch 00031: loss improved from 1.53751 to 1.47632, saving model to weights-improvement-31-1.4763-asaf1.hdf5\n",
      "29295/29295 [==============================] - 63s 2ms/step - loss: 1.4763 - acc: 0.5627\n",
      "Epoch 32/650\n",
      "29280/29295 [============================>.] - ETA: 0s - loss: 1.4035 - acc: 0.5803\n",
      "Epoch 00032: loss improved from 1.47632 to 1.40353, saving model to weights-improvement-32-1.4035-asaf1.hdf5\n",
      "29295/29295 [==============================] - 63s 2ms/step - loss: 1.4035 - acc: 0.5802\n",
      "Epoch 33/650\n",
      "29280/29295 [============================>.] - ETA: 0s - loss: 1.3438 - acc: 0.6008\n",
      "Epoch 00033: loss improved from 1.40353 to 1.34368, saving model to weights-improvement-33-1.3437-asaf1.hdf5\n",
      "29295/29295 [==============================] - 63s 2ms/step - loss: 1.3437 - acc: 0.6008\n",
      "Epoch 34/650\n",
      "29280/29295 [============================>.] - ETA: 0s - loss: 1.2840 - acc: 0.6141\n",
      "Epoch 00034: loss improved from 1.34368 to 1.28428, saving model to weights-improvement-34-1.2843-asaf1.hdf5\n",
      "29295/29295 [==============================] - 63s 2ms/step - loss: 1.2843 - acc: 0.6140\n",
      "Epoch 35/650\n",
      "29280/29295 [============================>.] - ETA: 0s - loss: 1.2286 - acc: 0.6322\n",
      "Epoch 00035: loss improved from 1.28428 to 1.22851, saving model to weights-improvement-35-1.2285-asaf1.hdf5\n",
      "29295/29295 [==============================] - 63s 2ms/step - loss: 1.2285 - acc: 0.6322\n",
      "Epoch 36/650\n",
      "29280/29295 [============================>.] - ETA: 0s - loss: 1.1782 - acc: 0.6463\n",
      "Epoch 00036: loss improved from 1.22851 to 1.17807, saving model to weights-improvement-36-1.1781-asaf1.hdf5\n",
      "29295/29295 [==============================] - 64s 2ms/step - loss: 1.1781 - acc: 0.6464\n",
      "Epoch 37/650\n",
      "29280/29295 [============================>.] - ETA: 0s - loss: 1.1253 - acc: 0.6602\n",
      "Epoch 00037: loss improved from 1.17807 to 1.12521, saving model to weights-improvement-37-1.1252-asaf1.hdf5\n",
      "29295/29295 [==============================] - 64s 2ms/step - loss: 1.1252 - acc: 0.6602\n",
      "Epoch 38/650\n",
      "29280/29295 [============================>.] - ETA: 0s - loss: 1.0754 - acc: 0.6762\n",
      "Epoch 00038: loss improved from 1.12521 to 1.07534, saving model to weights-improvement-38-1.0753-asaf1.hdf5\n",
      "29295/29295 [==============================] - 64s 2ms/step - loss: 1.0753 - acc: 0.6762\n",
      "Epoch 39/650\n",
      "29280/29295 [============================>.] - ETA: 0s - loss: 1.0329 - acc: 0.6872\n",
      "Epoch 00039: loss improved from 1.07534 to 1.03284, saving model to weights-improvement-39-1.0328-asaf1.hdf5\n",
      "29295/29295 [==============================] - 64s 2ms/step - loss: 1.0328 - acc: 0.6871\n",
      "Epoch 40/650\n",
      "29280/29295 [============================>.] - ETA: 0s - loss: 0.9907 - acc: 0.7015\n",
      "Epoch 00040: loss improved from 1.03284 to 0.99050, saving model to weights-improvement-40-0.9905-asaf1.hdf5\n",
      "29295/29295 [==============================] - 64s 2ms/step - loss: 0.9905 - acc: 0.7016\n",
      "Epoch 41/650\n",
      "29280/29295 [============================>.] - ETA: 0s - loss: 0.9485 - acc: 0.7125\n",
      "Epoch 00041: loss improved from 0.99050 to 0.94850, saving model to weights-improvement-41-0.9485-asaf1.hdf5\n",
      "29295/29295 [==============================] - 65s 2ms/step - loss: 0.9485 - acc: 0.7125\n",
      "Epoch 42/650\n",
      "29280/29295 [============================>.] - ETA: 0s - loss: 0.9178 - acc: 0.7222\n",
      "Epoch 00042: loss improved from 0.94850 to 0.91751, saving model to weights-improvement-42-0.9175-asaf1.hdf5\n",
      "29295/29295 [==============================] - 64s 2ms/step - loss: 0.9175 - acc: 0.7222\n",
      "Epoch 43/650\n",
      "29280/29295 [============================>.] - ETA: 0s - loss: 0.8811 - acc: 0.7318\n",
      "Epoch 00043: loss improved from 0.91751 to 0.88136, saving model to weights-improvement-43-0.8814-asaf1.hdf5\n",
      "29295/29295 [==============================] - 65s 2ms/step - loss: 0.8814 - acc: 0.7317\n",
      "Epoch 44/650\n",
      "29280/29295 [============================>.] - ETA: 0s - loss: 0.8444 - acc: 0.7423\n",
      "Epoch 00044: loss improved from 0.88136 to 0.84463, saving model to weights-improvement-44-0.8446-asaf1.hdf5\n",
      "29295/29295 [==============================] - 65s 2ms/step - loss: 0.8446 - acc: 0.7422\n",
      "Epoch 45/650\n",
      "29280/29295 [============================>.] - ETA: 0s - loss: 0.8138 - acc: 0.7529\n",
      "Epoch 00045: loss improved from 0.84463 to 0.81385, saving model to weights-improvement-45-0.8138-asaf1.hdf5\n",
      "29295/29295 [==============================] - 65s 2ms/step - loss: 0.8138 - acc: 0.7529\n",
      "Epoch 46/650\n",
      "29280/29295 [============================>.] - ETA: 0s - loss: 0.7869 - acc: 0.7599\n",
      "Epoch 00046: loss improved from 0.81385 to 0.78689, saving model to weights-improvement-46-0.7869-asaf1.hdf5\n",
      "29295/29295 [==============================] - 65s 2ms/step - loss: 0.7869 - acc: 0.7599\n",
      "Epoch 47/650\n",
      "29280/29295 [============================>.] - ETA: 0s - loss: 0.7590 - acc: 0.7649\n",
      "Epoch 00047: loss improved from 0.78689 to 0.75902, saving model to weights-improvement-47-0.7590-asaf1.hdf5\n",
      "29295/29295 [==============================] - 65s 2ms/step - loss: 0.7590 - acc: 0.7649\n",
      "Epoch 48/650\n",
      "29280/29295 [============================>.] - ETA: 0s - loss: 0.7261 - acc: 0.7808\n",
      "Epoch 00048: loss improved from 0.75902 to 0.72610, saving model to weights-improvement-48-0.7261-asaf1.hdf5\n",
      "29295/29295 [==============================] - 66s 2ms/step - loss: 0.7261 - acc: 0.7808\n",
      "Epoch 49/650\n",
      "29280/29295 [============================>.] - ETA: 0s - loss: 0.7072 - acc: 0.7820\n",
      "Epoch 00049: loss improved from 0.72610 to 0.70714, saving model to weights-improvement-49-0.7071-asaf1.hdf5\n",
      "29295/29295 [==============================] - 66s 2ms/step - loss: 0.7071 - acc: 0.7820\n",
      "Epoch 50/650\n",
      "29280/29295 [============================>.] - ETA: 0s - loss: 0.6843 - acc: 0.7909\n",
      "Epoch 00050: loss improved from 0.70714 to 0.68426, saving model to weights-improvement-50-0.6843-asaf1.hdf5\n",
      "29295/29295 [==============================] - 66s 2ms/step - loss: 0.6843 - acc: 0.7910\n",
      "Epoch 51/650\n",
      "29280/29295 [============================>.] - ETA: 0s - loss: 0.6641 - acc: 0.7954\n",
      "Epoch 00051: loss improved from 0.68426 to 0.66403, saving model to weights-improvement-51-0.6640-asaf1.hdf5\n",
      "29295/29295 [==============================] - 66s 2ms/step - loss: 0.6640 - acc: 0.7955\n",
      "Epoch 52/650\n",
      "29280/29295 [============================>.] - ETA: 0s - loss: 0.6460 - acc: 0.8006\n",
      "Epoch 00052: loss improved from 0.66403 to 0.64592, saving model to weights-improvement-52-0.6459-asaf1.hdf5\n",
      "29295/29295 [==============================] - 66s 2ms/step - loss: 0.6459 - acc: 0.8006\n",
      "Epoch 53/650\n",
      "29280/29295 [============================>.] - ETA: 0s - loss: 0.6268 - acc: 0.8092\n",
      "Epoch 00053: loss improved from 0.64592 to 0.62681, saving model to weights-improvement-53-0.6268-asaf1.hdf5\n",
      "29295/29295 [==============================] - 66s 2ms/step - loss: 0.6268 - acc: 0.8092\n",
      "Epoch 54/650\n",
      "29280/29295 [============================>.] - ETA: 0s - loss: 0.6132 - acc: 0.8087\n",
      "Epoch 00054: loss improved from 0.62681 to 0.61340, saving model to weights-improvement-54-0.6134-asaf1.hdf5\n",
      "29295/29295 [==============================] - 66s 2ms/step - loss: 0.6134 - acc: 0.8086\n",
      "Epoch 55/650\n",
      "29280/29295 [============================>.] - ETA: 0s - loss: 0.5925 - acc: 0.8163\n",
      "Epoch 00055: loss improved from 0.61340 to 0.59251, saving model to weights-improvement-55-0.5925-asaf1.hdf5\n",
      "29295/29295 [==============================] - 66s 2ms/step - loss: 0.5925 - acc: 0.8163\n",
      "Epoch 56/650\n",
      "29280/29295 [============================>.] - ETA: 0s - loss: 0.5851 - acc: 0.8202\n",
      "Epoch 00056: loss improved from 0.59251 to 0.58546, saving model to weights-improvement-56-0.5855-asaf1.hdf5\n",
      "29295/29295 [==============================] - 67s 2ms/step - loss: 0.5855 - acc: 0.8201\n"
     ]
    },
    {
     "name": "stdout",
     "output_type": "stream",
     "text": [
      "Epoch 57/650\n",
      "29280/29295 [============================>.] - ETA: 0s - loss: 0.5624 - acc: 0.8278\n",
      "Epoch 00057: loss improved from 0.58546 to 0.56252, saving model to weights-improvement-57-0.5625-asaf1.hdf5\n",
      "29295/29295 [==============================] - 62s 2ms/step - loss: 0.5625 - acc: 0.8277\n",
      "Epoch 58/650\n",
      "29280/29295 [============================>.] - ETA: 0s - loss: 0.5551 - acc: 0.8301\n",
      "Epoch 00058: loss improved from 0.56252 to 0.55500, saving model to weights-improvement-58-0.5550-asaf1.hdf5\n",
      "29295/29295 [==============================] - 62s 2ms/step - loss: 0.5550 - acc: 0.8301\n",
      "Epoch 59/650\n",
      "29280/29295 [============================>.] - ETA: 0s - loss: 0.5397 - acc: 0.8350\n",
      "Epoch 00059: loss improved from 0.55500 to 0.53975, saving model to weights-improvement-59-0.5398-asaf1.hdf5\n",
      "29295/29295 [==============================] - 63s 2ms/step - loss: 0.5398 - acc: 0.8350\n",
      "Epoch 60/650\n",
      "29280/29295 [============================>.] - ETA: 0s - loss: 0.5350 - acc: 0.8352\n",
      "Epoch 00060: loss improved from 0.53975 to 0.53495, saving model to weights-improvement-60-0.5349-asaf1.hdf5\n",
      "29295/29295 [==============================] - 63s 2ms/step - loss: 0.5349 - acc: 0.8352\n",
      "Epoch 61/650\n",
      "29280/29295 [============================>.] - ETA: 0s - loss: 0.5245 - acc: 0.8378\n",
      "Epoch 00061: loss improved from 0.53495 to 0.52440, saving model to weights-improvement-61-0.5244-asaf1.hdf5\n",
      "29295/29295 [==============================] - 63s 2ms/step - loss: 0.5244 - acc: 0.8378\n",
      "Epoch 62/650\n",
      "29280/29295 [============================>.] - ETA: 0s - loss: 0.5116 - acc: 0.8414\n",
      "Epoch 00062: loss improved from 0.52440 to 0.51173, saving model to weights-improvement-62-0.5117-asaf1.hdf5\n",
      "29295/29295 [==============================] - 63s 2ms/step - loss: 0.5117 - acc: 0.8413\n",
      "Epoch 63/650\n",
      "29280/29295 [============================>.] - ETA: 0s - loss: 0.4978 - acc: 0.8478\n",
      "Epoch 00063: loss improved from 0.51173 to 0.49771, saving model to weights-improvement-63-0.4977-asaf1.hdf5\n",
      "29295/29295 [==============================] - 64s 2ms/step - loss: 0.4977 - acc: 0.8479\n",
      "Epoch 64/650\n",
      "29280/29295 [============================>.] - ETA: 0s - loss: 0.4874 - acc: 0.8485\n",
      "Epoch 00064: loss improved from 0.49771 to 0.48740, saving model to weights-improvement-64-0.4874-asaf1.hdf5\n",
      "29295/29295 [==============================] - 63s 2ms/step - loss: 0.4874 - acc: 0.8486\n",
      "Epoch 65/650\n",
      "29280/29295 [============================>.] - ETA: 0s - loss: 0.4740 - acc: 0.8545\n",
      "Epoch 00065: loss improved from 0.48740 to 0.47389, saving model to weights-improvement-65-0.4739-asaf1.hdf5\n",
      "29295/29295 [==============================] - 64s 2ms/step - loss: 0.4739 - acc: 0.8545\n",
      "Epoch 66/650\n",
      "29280/29295 [============================>.] - ETA: 0s - loss: 0.4673 - acc: 0.8551\n",
      "Epoch 00066: loss improved from 0.47389 to 0.46751, saving model to weights-improvement-66-0.4675-asaf1.hdf5\n",
      "29295/29295 [==============================] - 64s 2ms/step - loss: 0.4675 - acc: 0.8550\n",
      "Epoch 67/650\n",
      "29280/29295 [============================>.] - ETA: 0s - loss: 0.4599 - acc: 0.8584\n",
      "Epoch 00067: loss improved from 0.46751 to 0.45996, saving model to weights-improvement-67-0.4600-asaf1.hdf5\n",
      "29295/29295 [==============================] - 64s 2ms/step - loss: 0.4600 - acc: 0.8584\n",
      "Epoch 68/650\n",
      "29280/29295 [============================>.] - ETA: 0s - loss: 0.4558 - acc: 0.8572\n",
      "Epoch 00068: loss improved from 0.45996 to 0.45570, saving model to weights-improvement-68-0.4557-asaf1.hdf5\n",
      "29295/29295 [==============================] - 64s 2ms/step - loss: 0.4557 - acc: 0.8573\n",
      "Epoch 69/650\n",
      "29280/29295 [============================>.] - ETA: 0s - loss: 0.4535 - acc: 0.8609\n",
      "Epoch 00069: loss improved from 0.45570 to 0.45342, saving model to weights-improvement-69-0.4534-asaf1.hdf5\n",
      "29295/29295 [==============================] - 65s 2ms/step - loss: 0.4534 - acc: 0.8610\n",
      "Epoch 70/650\n",
      "29280/29295 [============================>.] - ETA: 0s - loss: 0.4415 - acc: 0.8611\n",
      "Epoch 00070: loss improved from 0.45342 to 0.44141, saving model to weights-improvement-70-0.4414-asaf1.hdf5\n",
      "29295/29295 [==============================] - 64s 2ms/step - loss: 0.4414 - acc: 0.8611\n",
      "Epoch 71/650\n",
      "29280/29295 [============================>.] - ETA: 0s - loss: 0.4340 - acc: 0.8647\n",
      "Epoch 00071: loss improved from 0.44141 to 0.43384, saving model to weights-improvement-71-0.4338-asaf1.hdf5\n",
      "29295/29295 [==============================] - 65s 2ms/step - loss: 0.4338 - acc: 0.8647\n",
      "Epoch 72/650\n",
      "29280/29295 [============================>.] - ETA: 0s - loss: 0.4226 - acc: 0.8673\n",
      "Epoch 00072: loss improved from 0.43384 to 0.42286, saving model to weights-improvement-72-0.4229-asaf1.hdf5\n",
      "29295/29295 [==============================] - 65s 2ms/step - loss: 0.4229 - acc: 0.8673\n",
      "Epoch 73/650\n",
      "29280/29295 [============================>.] - ETA: 0s - loss: 0.4212 - acc: 0.8689\n",
      "Epoch 00073: loss improved from 0.42286 to 0.42106, saving model to weights-improvement-73-0.4211-asaf1.hdf5\n",
      "29295/29295 [==============================] - 66s 2ms/step - loss: 0.4211 - acc: 0.8689\n",
      "Epoch 74/650\n",
      "29280/29295 [============================>.] - ETA: 0s - loss: 0.4196 - acc: 0.8675\n",
      "Epoch 00074: loss improved from 0.42106 to 0.41974, saving model to weights-improvement-74-0.4197-asaf1.hdf5\n",
      "29295/29295 [==============================] - 65s 2ms/step - loss: 0.4197 - acc: 0.8675\n",
      "Epoch 75/650\n",
      "29280/29295 [============================>.] - ETA: 0s - loss: 0.4072 - acc: 0.8735\n",
      "Epoch 00075: loss improved from 0.41974 to 0.40725, saving model to weights-improvement-75-0.4072-asaf1.hdf5\n",
      "29295/29295 [==============================] - 65s 2ms/step - loss: 0.4072 - acc: 0.8735\n",
      "Epoch 76/650\n",
      "29280/29295 [============================>.] - ETA: 0s - loss: 0.4007 - acc: 0.8763\n",
      "Epoch 00076: loss improved from 0.40725 to 0.40085, saving model to weights-improvement-76-0.4008-asaf1.hdf5\n",
      "29295/29295 [==============================] - 66s 2ms/step - loss: 0.4008 - acc: 0.8763\n",
      "Epoch 77/650\n",
      "29280/29295 [============================>.] - ETA: 0s - loss: 0.4007 - acc: 0.8750\n",
      "Epoch 00077: loss improved from 0.40085 to 0.40062, saving model to weights-improvement-77-0.4006-asaf1.hdf5\n",
      "29295/29295 [==============================] - 66s 2ms/step - loss: 0.4006 - acc: 0.8750\n",
      "Epoch 78/650\n",
      "29280/29295 [============================>.] - ETA: 0s - loss: 0.3897 - acc: 0.8789\n",
      "Epoch 00078: loss improved from 0.40062 to 0.38976, saving model to weights-improvement-78-0.3898-asaf1.hdf5\n",
      "29295/29295 [==============================] - 66s 2ms/step - loss: 0.3898 - acc: 0.8789\n",
      "Epoch 79/650\n",
      "29280/29295 [============================>.] - ETA: 0s - loss: 0.3934 - acc: 0.8769\n",
      "Epoch 00079: loss did not improve\n",
      "29295/29295 [==============================] - 66s 2ms/step - loss: 0.3936 - acc: 0.8769\n",
      "Epoch 80/650\n",
      "29280/29295 [============================>.] - ETA: 0s - loss: 0.3820 - acc: 0.8840\n",
      "Epoch 00080: loss improved from 0.38976 to 0.38200, saving model to weights-improvement-80-0.3820-asaf1.hdf5\n",
      "29295/29295 [==============================] - 66s 2ms/step - loss: 0.3820 - acc: 0.8840\n",
      "Epoch 81/650\n",
      "29280/29295 [============================>.] - ETA: 0s - loss: 0.3843 - acc: 0.8800\n",
      "Epoch 00081: loss did not improve\n",
      "29295/29295 [==============================] - 66s 2ms/step - loss: 0.3841 - acc: 0.8800\n",
      "Epoch 82/650\n",
      "29280/29295 [============================>.] - ETA: 0s - loss: 0.3755 - acc: 0.8830\n",
      "Epoch 00082: loss improved from 0.38200 to 0.37562, saving model to weights-improvement-82-0.3756-asaf1.hdf5\n",
      "29295/29295 [==============================] - 66s 2ms/step - loss: 0.3756 - acc: 0.8829\n",
      "Epoch 83/650\n",
      "29280/29295 [============================>.] - ETA: 0s - loss: 0.3798 - acc: 0.8832\n",
      "Epoch 00083: loss did not improve\n",
      "29295/29295 [==============================] - 67s 2ms/step - loss: 0.3799 - acc: 0.8831\n",
      "Epoch 84/650\n",
      "29280/29295 [============================>.] - ETA: 0s - loss: 0.3658 - acc: 0.8856\n",
      "Epoch 00084: loss improved from 0.37562 to 0.36579, saving model to weights-improvement-84-0.3658-asaf1.hdf5\n",
      "29295/29295 [==============================] - 66s 2ms/step - loss: 0.3658 - acc: 0.8855\n",
      "Epoch 85/650\n",
      "29280/29295 [============================>.] - ETA: 0s - loss: 0.3596 - acc: 0.8898\n",
      "Epoch 00085: loss improved from 0.36579 to 0.35954, saving model to weights-improvement-85-0.3595-asaf1.hdf5\n",
      "29295/29295 [==============================] - 67s 2ms/step - loss: 0.3595 - acc: 0.8898\n"
     ]
    },
    {
     "name": "stdout",
     "output_type": "stream",
     "text": [
      "Epoch 86/650\n",
      "29280/29295 [============================>.] - ETA: 0s - loss: 0.3658 - acc: 0.8865\n",
      "Epoch 00086: loss did not improve\n",
      "29295/29295 [==============================] - 62s 2ms/step - loss: 0.3660 - acc: 0.8865\n",
      "Epoch 87/650\n",
      "29280/29295 [============================>.] - ETA: 0s - loss: 0.3517 - acc: 0.8904\n",
      "Epoch 00087: loss improved from 0.35954 to 0.35173, saving model to weights-improvement-87-0.3517-asaf1.hdf5\n",
      "29295/29295 [==============================] - 62s 2ms/step - loss: 0.3517 - acc: 0.8904\n",
      "Epoch 88/650\n",
      "29280/29295 [============================>.] - ETA: 0s - loss: 0.3505 - acc: 0.8914\n",
      "Epoch 00088: loss improved from 0.35173 to 0.35046, saving model to weights-improvement-88-0.3505-asaf1.hdf5\n",
      "29295/29295 [==============================] - 63s 2ms/step - loss: 0.3505 - acc: 0.8914\n",
      "Epoch 89/650\n",
      "29280/29295 [============================>.] - ETA: 0s - loss: 0.3535 - acc: 0.8918\n",
      "Epoch 00089: loss did not improve\n",
      "29295/29295 [==============================] - 63s 2ms/step - loss: 0.3533 - acc: 0.8918\n",
      "Epoch 90/650\n",
      "29280/29295 [============================>.] - ETA: 0s - loss: 0.3504 - acc: 0.8909\n",
      "Epoch 00090: loss improved from 0.35046 to 0.35032, saving model to weights-improvement-90-0.3503-asaf1.hdf5\n",
      "29295/29295 [==============================] - 63s 2ms/step - loss: 0.3503 - acc: 0.8909\n",
      "Epoch 91/650\n",
      "29280/29295 [============================>.] - ETA: 0s - loss: 0.3493 - acc: 0.8897\n",
      "Epoch 00091: loss improved from 0.35032 to 0.34929, saving model to weights-improvement-91-0.3493-asaf1.hdf5\n",
      "29295/29295 [==============================] - 63s 2ms/step - loss: 0.3493 - acc: 0.8897\n",
      "Epoch 92/650\n",
      "29280/29295 [============================>.] - ETA: 0s - loss: 0.3425 - acc: 0.8917\n",
      "Epoch 00092: loss improved from 0.34929 to 0.34269, saving model to weights-improvement-92-0.3427-asaf1.hdf5\n",
      "29295/29295 [==============================] - 63s 2ms/step - loss: 0.3427 - acc: 0.8917\n",
      "Epoch 93/650\n",
      "29280/29295 [============================>.] - ETA: 0s - loss: 0.3320 - acc: 0.8987\n",
      "Epoch 00093: loss improved from 0.34269 to 0.33192, saving model to weights-improvement-93-0.3319-asaf1.hdf5\n",
      "29295/29295 [==============================] - 64s 2ms/step - loss: 0.3319 - acc: 0.8987\n",
      "Epoch 94/650\n",
      "29280/29295 [============================>.] - ETA: 0s - loss: 0.3397 - acc: 0.8955\n",
      "Epoch 00094: loss did not improve\n",
      "29295/29295 [==============================] - 64s 2ms/step - loss: 0.3397 - acc: 0.8955\n",
      "Epoch 95/650\n",
      "29280/29295 [============================>.] - ETA: 0s - loss: 0.3321 - acc: 0.8958\n",
      "Epoch 00095: loss did not improve\n",
      "29295/29295 [==============================] - 64s 2ms/step - loss: 0.3321 - acc: 0.8958\n",
      "Epoch 96/650\n",
      "29280/29295 [============================>.] - ETA: 0s - loss: 0.3262 - acc: 0.8990\n",
      "Epoch 00096: loss improved from 0.33192 to 0.32618, saving model to weights-improvement-96-0.3262-asaf1.hdf5\n",
      "29295/29295 [==============================] - 64s 2ms/step - loss: 0.3262 - acc: 0.8990\n",
      "Epoch 97/650\n",
      "29280/29295 [============================>.] - ETA: 0s - loss: 0.3287 - acc: 0.8983\n",
      "Epoch 00097: loss did not improve\n",
      "29295/29295 [==============================] - 64s 2ms/step - loss: 0.3286 - acc: 0.8983\n",
      "Epoch 98/650\n",
      "29280/29295 [============================>.] - ETA: 0s - loss: 0.3262 - acc: 0.8974- ETA: 0s - loss: 0.3263 - acc: 0\n",
      "Epoch 00098: loss did not improve\n",
      "29295/29295 [==============================] - 64s 2ms/step - loss: 0.3264 - acc: 0.8973\n",
      "Epoch 99/650\n",
      "29280/29295 [============================>.] - ETA: 0s - loss: 0.3178 - acc: 0.9018\n",
      "Epoch 00099: loss improved from 0.32618 to 0.31791, saving model to weights-improvement-99-0.3179-asaf1.hdf5\n",
      "29295/29295 [==============================] - 64s 2ms/step - loss: 0.3179 - acc: 0.9017\n",
      "Epoch 100/650\n",
      "29280/29295 [============================>.] - ETA: 0s - loss: 0.3176 - acc: 0.9001\n",
      "Epoch 00100: loss improved from 0.31791 to 0.31757, saving model to weights-improvement-100-0.3176-asaf1.hdf5\n",
      "29295/29295 [==============================] - 65s 2ms/step - loss: 0.3176 - acc: 0.9001\n",
      "Epoch 101/650\n",
      "29280/29295 [============================>.] - ETA: 0s - loss: 0.3113 - acc: 0.9038\n",
      "Epoch 00101: loss improved from 0.31757 to 0.31126, saving model to weights-improvement-101-0.3113-asaf1.hdf5\n",
      "29295/29295 [==============================] - 65s 2ms/step - loss: 0.3113 - acc: 0.9038\n",
      "Epoch 102/650\n",
      "29280/29295 [============================>.] - ETA: 0s - loss: 0.3199 - acc: 0.9010\n",
      "Epoch 00102: loss did not improve\n",
      "29295/29295 [==============================] - 65s 2ms/step - loss: 0.3198 - acc: 0.9010\n",
      "Epoch 103/650\n",
      "29280/29295 [============================>.] - ETA: 0s - loss: 0.3150 - acc: 0.9037\n",
      "Epoch 00103: loss did not improve\n",
      "29295/29295 [==============================] - 65s 2ms/step - loss: 0.3151 - acc: 0.9037\n",
      "Epoch 104/650\n",
      "29280/29295 [============================>.] - ETA: 0s - loss: 0.3066 - acc: 0.9047\n",
      "Epoch 00104: loss improved from 0.31126 to 0.30655, saving model to weights-improvement-104-0.3065-asaf1.hdf5\n",
      "29295/29295 [==============================] - 66s 2ms/step - loss: 0.3065 - acc: 0.9047\n",
      "Epoch 105/650\n",
      "29280/29295 [============================>.] - ETA: 0s - loss: 0.3088 - acc: 0.9033\n",
      "Epoch 00105: loss did not improve\n",
      "29295/29295 [==============================] - 65s 2ms/step - loss: 0.3089 - acc: 0.9033\n",
      "Epoch 106/650\n",
      "29280/29295 [============================>.] - ETA: 0s - loss: 0.3057 - acc: 0.9031\n",
      "Epoch 00106: loss improved from 0.30655 to 0.30571, saving model to weights-improvement-106-0.3057-asaf1.hdf5\n",
      "29295/29295 [==============================] - 65s 2ms/step - loss: 0.3057 - acc: 0.9031\n",
      "Epoch 107/650\n",
      "29280/29295 [============================>.] - ETA: 0s - loss: 0.3057 - acc: 0.9047\n",
      "Epoch 00107: loss did not improve\n",
      "29295/29295 [==============================] - 66s 2ms/step - loss: 0.3057 - acc: 0.9047\n",
      "Epoch 108/650\n",
      "29280/29295 [============================>.] - ETA: 0s - loss: 0.2990 - acc: 0.9060\n",
      "Epoch 00108: loss improved from 0.30571 to 0.29903, saving model to weights-improvement-108-0.2990-asaf1.hdf5\n",
      "29295/29295 [==============================] - 65s 2ms/step - loss: 0.2990 - acc: 0.9060\n",
      "Epoch 109/650\n",
      "29280/29295 [============================>.] - ETA: 0s - loss: 0.2992 - acc: 0.9076\n",
      "Epoch 00109: loss did not improve\n",
      "29295/29295 [==============================] - 66s 2ms/step - loss: 0.2992 - acc: 0.9076\n",
      "Epoch 110/650\n",
      "29280/29295 [============================>.] - ETA: 0s - loss: 0.3001 - acc: 0.9060\n",
      "Epoch 00110: loss did not improve\n",
      "29295/29295 [==============================] - 66s 2ms/step - loss: 0.3004 - acc: 0.9059\n",
      "Epoch 111/650\n",
      "29280/29295 [============================>.] - ETA: 0s - loss: 0.2972 - acc: 0.9076\n",
      "Epoch 00111: loss improved from 0.29903 to 0.29712, saving model to weights-improvement-111-0.2971-asaf1.hdf5\n",
      "29295/29295 [==============================] - 66s 2ms/step - loss: 0.2971 - acc: 0.9076\n",
      "Epoch 112/650\n",
      "29280/29295 [============================>.] - ETA: 0s - loss: 0.2956 - acc: 0.9080\n",
      "Epoch 00112: loss improved from 0.29712 to 0.29563, saving model to weights-improvement-112-0.2956-asaf1.hdf5\n",
      "29295/29295 [==============================] - 65s 2ms/step - loss: 0.2956 - acc: 0.9079\n",
      "Epoch 113/650\n",
      "29280/29295 [============================>.] - ETA: 0s - loss: 0.2920 - acc: 0.9100\n",
      "Epoch 00113: loss improved from 0.29563 to 0.29207, saving model to weights-improvement-113-0.2921-asaf1.hdf5\n",
      "29295/29295 [==============================] - 66s 2ms/step - loss: 0.2921 - acc: 0.9100\n",
      "Epoch 114/650\n",
      "29280/29295 [============================>.] - ETA: 0s - loss: 0.2908 - acc: 0.9082\n",
      "Epoch 00114: loss improved from 0.29207 to 0.29078, saving model to weights-improvement-114-0.2908-asaf1.hdf5\n",
      "29295/29295 [==============================] - 66s 2ms/step - loss: 0.2908 - acc: 0.9083\n",
      "Epoch 115/650\n",
      "29280/29295 [============================>.] - ETA: 0s - loss: 0.2875 - acc: 0.9097\n",
      "Epoch 00115: loss improved from 0.29078 to 0.28751, saving model to weights-improvement-115-0.2875-asaf1.hdf5\n",
      "29295/29295 [==============================] - 66s 2ms/step - loss: 0.2875 - acc: 0.9097\n",
      "Epoch 116/650\n",
      "29280/29295 [============================>.] - ETA: 0s - loss: 0.2862 - acc: 0.9118\n",
      "Epoch 00116: loss improved from 0.28751 to 0.28610, saving model to weights-improvement-116-0.2861-asaf1.hdf5\n",
      "29295/29295 [==============================] - 67s 2ms/step - loss: 0.2861 - acc: 0.9118\n"
     ]
    },
    {
     "name": "stdout",
     "output_type": "stream",
     "text": [
      "Epoch 117/650\n",
      "29280/29295 [============================>.] - ETA: 0s - loss: 0.2856 - acc: 0.9098\n",
      "Epoch 00117: loss improved from 0.28610 to 0.28551, saving model to weights-improvement-117-0.2855-asaf1.hdf5\n",
      "29295/29295 [==============================] - 62s 2ms/step - loss: 0.2855 - acc: 0.9098\n",
      "Epoch 118/650\n",
      "29280/29295 [============================>.] - ETA: 0s - loss: 0.2850 - acc: 0.9121\n",
      "Epoch 00118: loss improved from 0.28551 to 0.28500, saving model to weights-improvement-118-0.2850-asaf1.hdf5\n",
      "29295/29295 [==============================] - 62s 2ms/step - loss: 0.2850 - acc: 0.9121\n",
      "Epoch 119/650\n",
      "29280/29295 [============================>.] - ETA: 0s - loss: 0.2780 - acc: 0.9136\n",
      "Epoch 00119: loss improved from 0.28500 to 0.27802, saving model to weights-improvement-119-0.2780-asaf1.hdf5\n",
      "29295/29295 [==============================] - 62s 2ms/step - loss: 0.2780 - acc: 0.9136\n",
      "Epoch 120/650\n",
      "29280/29295 [============================>.] - ETA: 0s - loss: 0.2901 - acc: 0.9086\n",
      "Epoch 00120: loss did not improve\n",
      "29295/29295 [==============================] - 62s 2ms/step - loss: 0.2901 - acc: 0.9087\n",
      "Epoch 121/650\n",
      "29280/29295 [============================>.] - ETA: 0s - loss: 0.2792 - acc: 0.9118\n",
      "Epoch 00121: loss did not improve\n",
      "29295/29295 [==============================] - 62s 2ms/step - loss: 0.2792 - acc: 0.9118\n",
      "Epoch 122/650\n",
      "29280/29295 [============================>.] - ETA: 0s - loss: 0.2751 - acc: 0.9154\n",
      "Epoch 00122: loss improved from 0.27802 to 0.27512, saving model to weights-improvement-122-0.2751-asaf1.hdf5\n",
      "29295/29295 [==============================] - 62s 2ms/step - loss: 0.2751 - acc: 0.9154\n",
      "Epoch 123/650\n",
      "29280/29295 [============================>.] - ETA: 0s - loss: 0.2866 - acc: 0.9110\n",
      "Epoch 00123: loss did not improve\n",
      "29295/29295 [==============================] - 63s 2ms/step - loss: 0.2865 - acc: 0.9110\n",
      "Epoch 124/650\n",
      "29280/29295 [============================>.] - ETA: 0s - loss: 0.2812 - acc: 0.9135\n",
      "Epoch 00124: loss did not improve\n",
      "29295/29295 [==============================] - 63s 2ms/step - loss: 0.2812 - acc: 0.9136\n",
      "Epoch 125/650\n",
      "29280/29295 [============================>.] - ETA: 0s - loss: 0.2755 - acc: 0.9127\n",
      "Epoch 00125: loss did not improve\n",
      "29295/29295 [==============================] - 63s 2ms/step - loss: 0.2754 - acc: 0.9127\n",
      "Epoch 126/650\n",
      "29280/29295 [============================>.] - ETA: 0s - loss: 0.2762 - acc: 0.9136\n",
      "Epoch 00126: loss did not improve\n",
      "29295/29295 [==============================] - 63s 2ms/step - loss: 0.2761 - acc: 0.9136\n",
      "Epoch 127/650\n",
      "29280/29295 [============================>.] - ETA: 0s - loss: 0.2672 - acc: 0.9187\n",
      "Epoch 00127: loss improved from 0.27512 to 0.26713, saving model to weights-improvement-127-0.2671-asaf1.hdf5\n",
      "29295/29295 [==============================] - 63s 2ms/step - loss: 0.2671 - acc: 0.9188\n",
      "Epoch 128/650\n",
      "29280/29295 [============================>.] - ETA: 0s - loss: 0.2706 - acc: 0.9158\n",
      "Epoch 00128: loss did not improve\n",
      "29295/29295 [==============================] - 63s 2ms/step - loss: 0.2707 - acc: 0.9158\n",
      "Epoch 129/650\n",
      "29280/29295 [============================>.] - ETA: 0s - loss: 0.2721 - acc: 0.9146\n",
      "Epoch 00129: loss did not improve\n",
      "29295/29295 [==============================] - 63s 2ms/step - loss: 0.2721 - acc: 0.9146\n",
      "Epoch 130/650\n",
      "29280/29295 [============================>.] - ETA: 0s - loss: 0.2657 - acc: 0.9187\n",
      "Epoch 00130: loss improved from 0.26713 to 0.26564, saving model to weights-improvement-130-0.2656-asaf1.hdf5\n",
      "29295/29295 [==============================] - 64s 2ms/step - loss: 0.2656 - acc: 0.9187\n",
      "Epoch 131/650\n",
      "29280/29295 [============================>.] - ETA: 0s - loss: 0.2575 - acc: 0.9210\n",
      "Epoch 00131: loss improved from 0.26564 to 0.25744, saving model to weights-improvement-131-0.2574-asaf1.hdf5\n",
      "29295/29295 [==============================] - 64s 2ms/step - loss: 0.2574 - acc: 0.9210\n",
      "Epoch 132/650\n",
      "29280/29295 [============================>.] - ETA: 0s - loss: 0.2655 - acc: 0.9183\n",
      "Epoch 00132: loss did not improve\n",
      "29295/29295 [==============================] - 64s 2ms/step - loss: 0.2656 - acc: 0.9183\n",
      "Epoch 133/650\n",
      "29280/29295 [============================>.] - ETA: 0s - loss: 0.2607 - acc: 0.9187\n",
      "Epoch 00133: loss did not improve\n",
      "29295/29295 [==============================] - 64s 2ms/step - loss: 0.2607 - acc: 0.9187\n",
      "Epoch 134/650\n",
      "29280/29295 [============================>.] - ETA: 0s - loss: 0.2587 - acc: 0.9190\n",
      "Epoch 00134: loss did not improve\n",
      "29295/29295 [==============================] - 64s 2ms/step - loss: 0.2587 - acc: 0.9190\n",
      "Epoch 135/650\n",
      "29280/29295 [============================>.] - ETA: 0s - loss: 0.2624 - acc: 0.9198\n",
      "Epoch 00135: loss did not improve\n",
      "29295/29295 [==============================] - 64s 2ms/step - loss: 0.2625 - acc: 0.9198\n",
      "Epoch 136/650\n",
      "29280/29295 [============================>.] - ETA: 0s - loss: 0.2621 - acc: 0.9183\n",
      "Epoch 00136: loss did not improve\n",
      "29295/29295 [==============================] - 65s 2ms/step - loss: 0.2623 - acc: 0.9182\n",
      "Epoch 137/650\n",
      "29280/29295 [============================>.] - ETA: 0s - loss: 0.2541 - acc: 0.9224\n",
      "Epoch 00137: loss improved from 0.25744 to 0.25398, saving model to weights-improvement-137-0.2540-asaf1.hdf5\n",
      "29295/29295 [==============================] - 64s 2ms/step - loss: 0.2540 - acc: 0.9224\n",
      "Epoch 138/650\n",
      "29280/29295 [============================>.] - ETA: 0s - loss: 0.2530 - acc: 0.9199\n",
      "Epoch 00138: loss improved from 0.25398 to 0.25312, saving model to weights-improvement-138-0.2531-asaf1.hdf5\n",
      "29295/29295 [==============================] - 65s 2ms/step - loss: 0.2531 - acc: 0.9198\n",
      "Epoch 139/650\n",
      "29280/29295 [============================>.] - ETA: 0s - loss: 0.2539 - acc: 0.9205\n",
      "Epoch 00139: loss did not improve\n",
      "29295/29295 [==============================] - 65s 2ms/step - loss: 0.2538 - acc: 0.9205\n",
      "Epoch 140/650\n",
      "29280/29295 [============================>.] - ETA: 0s - loss: 0.2561 - acc: 0.9196\n",
      "Epoch 00140: loss did not improve\n",
      "29295/29295 [==============================] - 65s 2ms/step - loss: 0.2560 - acc: 0.9196\n",
      "Epoch 141/650\n",
      "29280/29295 [============================>.] - ETA: 0s - loss: 0.2496 - acc: 0.9229\n",
      "Epoch 00141: loss improved from 0.25312 to 0.24949, saving model to weights-improvement-141-0.2495-asaf1.hdf5\n",
      "29295/29295 [==============================] - 65s 2ms/step - loss: 0.2495 - acc: 0.9230\n",
      "Epoch 142/650\n",
      "29280/29295 [============================>.] - ETA: 0s - loss: 0.2481 - acc: 0.9234\n",
      "Epoch 00142: loss improved from 0.24949 to 0.24816, saving model to weights-improvement-142-0.2482-asaf1.hdf5\n",
      "29295/29295 [==============================] - 65s 2ms/step - loss: 0.2482 - acc: 0.9234\n",
      "Epoch 143/650\n",
      "29280/29295 [============================>.] - ETA: 0s - loss: 0.2488 - acc: 0.9219\n",
      "Epoch 00143: loss did not improve\n",
      "29295/29295 [==============================] - 66s 2ms/step - loss: 0.2488 - acc: 0.9219\n",
      "Epoch 144/650\n",
      "29280/29295 [============================>.] - ETA: 0s - loss: 0.2446 - acc: 0.9240\n",
      "Epoch 00144: loss improved from 0.24816 to 0.24457, saving model to weights-improvement-144-0.2446-asaf1.hdf5\n",
      "29295/29295 [==============================] - 65s 2ms/step - loss: 0.2446 - acc: 0.9240\n",
      "Epoch 145/650\n",
      "29280/29295 [============================>.] - ETA: 0s - loss: 0.2507 - acc: 0.9216\n",
      "Epoch 00145: loss did not improve\n",
      "29295/29295 [==============================] - 66s 2ms/step - loss: 0.2506 - acc: 0.9216\n",
      "Epoch 146/650\n",
      "29280/29295 [============================>.] - ETA: 0s - loss: 0.2458 - acc: 0.9228\n",
      "Epoch 00146: loss did not improve\n",
      "29295/29295 [==============================] - 65s 2ms/step - loss: 0.2458 - acc: 0.9228\n",
      "Epoch 147/650\n",
      "29280/29295 [============================>.] - ETA: 0s - loss: 0.2442 - acc: 0.9228\n",
      "Epoch 00147: loss improved from 0.24457 to 0.24415, saving model to weights-improvement-147-0.2441-asaf1.hdf5\n",
      "29295/29295 [==============================] - 66s 2ms/step - loss: 0.2441 - acc: 0.9228\n",
      "Epoch 148/650\n",
      "29280/29295 [============================>.] - ETA: 0s - loss: 0.2480 - acc: 0.9218\n",
      "Epoch 00148: loss did not improve\n",
      "29295/29295 [==============================] - 66s 2ms/step - loss: 0.2481 - acc: 0.9218\n",
      "Epoch 149/650\n",
      "29280/29295 [============================>.] - ETA: 0s - loss: 0.2428 - acc: 0.9243\n",
      "Epoch 00149: loss improved from 0.24415 to 0.24288, saving model to weights-improvement-149-0.2429-asaf1.hdf5\n",
      "29295/29295 [==============================] - 63s 2ms/step - loss: 0.2429 - acc: 0.9243\n",
      "Epoch 150/650\n",
      "29280/29295 [============================>.] - ETA: 0s - loss: 0.2448 - acc: 0.9241\n",
      "Epoch 00150: loss did not improve\n",
      "29295/29295 [==============================] - 62s 2ms/step - loss: 0.2447 - acc: 0.9242\n",
      "Epoch 151/650\n",
      "29280/29295 [============================>.] - ETA: 0s - loss: 0.2356 - acc: 0.9260\n",
      "Epoch 00151: loss improved from 0.24288 to 0.23562, saving model to weights-improvement-151-0.2356-asaf1.hdf5\n",
      "29295/29295 [==============================] - 62s 2ms/step - loss: 0.2356 - acc: 0.9260\n",
      "Epoch 152/650\n",
      "29280/29295 [============================>.] - ETA: 0s - loss: 0.2376 - acc: 0.9266\n",
      "Epoch 00152: loss did not improve\n",
      "29295/29295 [==============================] - 62s 2ms/step - loss: 0.2376 - acc: 0.9266\n",
      "Epoch 153/650\n",
      "29280/29295 [============================>.] - ETA: 0s - loss: 0.2410 - acc: 0.9240\n",
      "Epoch 00153: loss did not improve\n",
      "29295/29295 [==============================] - 62s 2ms/step - loss: 0.2410 - acc: 0.9240\n",
      "Epoch 154/650\n",
      "29280/29295 [============================>.] - ETA: 0s - loss: 0.2415 - acc: 0.9228\n",
      "Epoch 00154: loss did not improve\n",
      "29295/29295 [==============================] - 62s 2ms/step - loss: 0.2416 - acc: 0.9228\n",
      "Epoch 155/650\n",
      "29280/29295 [============================>.] - ETA: 0s - loss: 0.2385 - acc: 0.9259\n",
      "Epoch 00155: loss did not improve\n",
      "29295/29295 [==============================] - 63s 2ms/step - loss: 0.2385 - acc: 0.9259\n",
      "Epoch 156/650\n",
      "29280/29295 [============================>.] - ETA: 0s - loss: 0.2378 - acc: 0.9266\n",
      "Epoch 00156: loss did not improve\n",
      "29295/29295 [==============================] - 62s 2ms/step - loss: 0.2377 - acc: 0.9266\n",
      "Epoch 157/650\n",
      "29280/29295 [============================>.] - ETA: 0s - loss: 0.2325 - acc: 0.9252\n",
      "Epoch 00157: loss improved from 0.23562 to 0.23238, saving model to weights-improvement-157-0.2324-asaf1.hdf5\n",
      "29295/29295 [==============================] - 63s 2ms/step - loss: 0.2324 - acc: 0.9253\n",
      "Epoch 158/650\n",
      "29280/29295 [============================>.] - ETA: 0s - loss: 0.2361 - acc: 0.9256\n",
      "Epoch 00158: loss did not improve\n",
      "29295/29295 [==============================] - 63s 2ms/step - loss: 0.2360 - acc: 0.9256\n",
      "Epoch 159/650\n",
      "29280/29295 [============================>.] - ETA: 0s - loss: 0.2330 - acc: 0.9264\n",
      "Epoch 00159: loss did not improve\n",
      "29295/29295 [==============================] - 63s 2ms/step - loss: 0.2331 - acc: 0.9264\n",
      "Epoch 160/650\n",
      "29280/29295 [============================>.] - ETA: 0s - loss: 0.2283 - acc: 0.9289\n",
      "Epoch 00160: loss improved from 0.23238 to 0.22819, saving model to weights-improvement-160-0.2282-asaf1.hdf5\n",
      "29295/29295 [==============================] - 63s 2ms/step - loss: 0.2282 - acc: 0.9290\n",
      "Epoch 161/650\n",
      "29280/29295 [============================>.] - ETA: 0s - loss: 0.2339 - acc: 0.9265\n",
      "Epoch 00161: loss did not improve\n",
      "29295/29295 [==============================] - 63s 2ms/step - loss: 0.2338 - acc: 0.9265\n",
      "Epoch 162/650\n",
      "29280/29295 [============================>.] - ETA: 0s - loss: 0.2301 - acc: 0.9288\n",
      "Epoch 00162: loss did not improve\n",
      "29295/29295 [==============================] - 63s 2ms/step - loss: 0.2301 - acc: 0.9288\n",
      "Epoch 163/650\n",
      "29280/29295 [============================>.] - ETA: 0s - loss: 0.2298 - acc: 0.9285\n",
      "Epoch 00163: loss did not improve\n",
      "29295/29295 [==============================] - 63s 2ms/step - loss: 0.2299 - acc: 0.9285\n",
      "Epoch 164/650\n",
      "29280/29295 [============================>.] - ETA: 0s - loss: 0.2332 - acc: 0.9268\n",
      "Epoch 00164: loss did not improve\n",
      "29295/29295 [==============================] - 64s 2ms/step - loss: 0.2331 - acc: 0.9268\n",
      "Epoch 165/650\n",
      "29280/29295 [============================>.] - ETA: 0s - loss: 0.2319 - acc: 0.9260\n",
      "Epoch 00165: loss did not improve\n",
      "29295/29295 [==============================] - 64s 2ms/step - loss: 0.2319 - acc: 0.9260\n",
      "Epoch 166/650\n",
      "29280/29295 [============================>.] - ETA: 0s - loss: 0.2274 - acc: 0.9295\n",
      "Epoch 00166: loss improved from 0.22819 to 0.22740, saving model to weights-improvement-166-0.2274-asaf1.hdf5\n",
      "29295/29295 [==============================] - 64s 2ms/step - loss: 0.2274 - acc: 0.9295\n",
      "Epoch 167/650\n",
      "29280/29295 [============================>.] - ETA: 0s - loss: 0.2310 - acc: 0.9274\n",
      "Epoch 00167: loss did not improve\n",
      "29295/29295 [==============================] - 64s 2ms/step - loss: 0.2309 - acc: 0.9274\n",
      "Epoch 168/650\n",
      "29280/29295 [============================>.] - ETA: 0s - loss: 0.2300 - acc: 0.9286\n",
      "Epoch 00168: loss did not improve\n",
      "29295/29295 [==============================] - 64s 2ms/step - loss: 0.2299 - acc: 0.9287\n",
      "Epoch 169/650\n",
      "29280/29295 [============================>.] - ETA: 0s - loss: 0.2327 - acc: 0.9283\n",
      "Epoch 00169: loss did not improve\n",
      "29295/29295 [==============================] - 64s 2ms/step - loss: 0.2327 - acc: 0.9284\n",
      "Epoch 170/650\n",
      "29280/29295 [============================>.] - ETA: 0s - loss: 0.2258 - acc: 0.9308\n",
      "Epoch 00170: loss improved from 0.22740 to 0.22577, saving model to weights-improvement-170-0.2258-asaf1.hdf5\n",
      "29295/29295 [==============================] - 65s 2ms/step - loss: 0.2258 - acc: 0.9307\n",
      "Epoch 171/650\n",
      "29280/29295 [============================>.] - ETA: 0s - loss: 0.2239 - acc: 0.9303\n",
      "Epoch 00171: loss improved from 0.22577 to 0.22403, saving model to weights-improvement-171-0.2240-asaf1.hdf5\n",
      "29295/29295 [==============================] - 65s 2ms/step - loss: 0.2240 - acc: 0.9302\n",
      "Epoch 172/650\n",
      "29280/29295 [============================>.] - ETA: 0s - loss: 0.2280 - acc: 0.9280\n",
      "Epoch 00172: loss did not improve\n",
      "29295/29295 [==============================] - 65s 2ms/step - loss: 0.2279 - acc: 0.9280\n",
      "Epoch 173/650\n",
      "29280/29295 [============================>.] - ETA: 0s - loss: 0.2253 - acc: 0.9283\n",
      "Epoch 00173: loss did not improve\n",
      "29295/29295 [==============================] - 67s 2ms/step - loss: 0.2253 - acc: 0.9283\n",
      "Epoch 174/650\n",
      "29280/29295 [============================>.] - ETA: 0s - loss: 0.2236 - acc: 0.9306\n",
      "Epoch 00174: loss improved from 0.22403 to 0.22370, saving model to weights-improvement-174-0.2237-asaf1.hdf5\n",
      "29295/29295 [==============================] - 67s 2ms/step - loss: 0.2237 - acc: 0.9306\n",
      "Epoch 175/650\n",
      "29280/29295 [============================>.] - ETA: 0s - loss: 0.2192 - acc: 0.9317\n",
      "Epoch 00175: loss improved from 0.22370 to 0.21929, saving model to weights-improvement-175-0.2193-asaf1.hdf5\n",
      "29295/29295 [==============================] - 67s 2ms/step - loss: 0.2193 - acc: 0.9316\n",
      "Epoch 176/650\n",
      "29280/29295 [============================>.] - ETA: 0s - loss: 0.2236 - acc: 0.9319\n",
      "Epoch 00176: loss did not improve\n",
      "29295/29295 [==============================] - 67s 2ms/step - loss: 0.2236 - acc: 0.9319\n",
      "Epoch 177/650\n",
      "29280/29295 [============================>.] - ETA: 0s - loss: 0.2224 - acc: 0.9307\n",
      "Epoch 00177: loss did not improve\n",
      "29295/29295 [==============================] - 67s 2ms/step - loss: 0.2224 - acc: 0.9306\n",
      "Epoch 178/650\n",
      "29280/29295 [============================>.] - ETA: 0s - loss: 0.2177 - acc: 0.9323\n",
      "Epoch 00178: loss improved from 0.21929 to 0.21774, saving model to weights-improvement-178-0.2177-asaf1.hdf5\n",
      "29295/29295 [==============================] - 67s 2ms/step - loss: 0.2177 - acc: 0.9323\n",
      "Epoch 179/650\n",
      "29280/29295 [============================>.] - ETA: 0s - loss: 0.2184 - acc: 0.9314\n",
      "Epoch 00179: loss did not improve\n",
      "29295/29295 [==============================] - 68s 2ms/step - loss: 0.2184 - acc: 0.9313\n",
      "Epoch 180/650\n",
      "29280/29295 [============================>.] - ETA: 0s - loss: 0.2191 - acc: 0.9310\n",
      "Epoch 00180: loss did not improve\n",
      "29295/29295 [==============================] - 67s 2ms/step - loss: 0.2193 - acc: 0.9310\n",
      "Epoch 181/650\n",
      "29280/29295 [============================>.] - ETA: 0s - loss: 0.2146 - acc: 0.9331\n",
      "Epoch 00181: loss improved from 0.21774 to 0.21455, saving model to weights-improvement-181-0.2146-asaf1.hdf5\n",
      "29295/29295 [==============================] - 68s 2ms/step - loss: 0.2146 - acc: 0.9331\n",
      "Epoch 182/650\n"
     ]
    },
    {
     "name": "stdout",
     "output_type": "stream",
     "text": [
      "29280/29295 [============================>.] - ETA: 0s - loss: 0.2126 - acc: 0.9344\n",
      "Epoch 00182: loss improved from 0.21455 to 0.21269, saving model to weights-improvement-182-0.2127-asaf1.hdf5\n",
      "29295/29295 [==============================] - 62s 2ms/step - loss: 0.2127 - acc: 0.9343\n",
      "Epoch 183/650\n",
      "29280/29295 [============================>.] - ETA: 0s - loss: 0.2152 - acc: 0.9329\n",
      "Epoch 00183: loss did not improve\n",
      "29295/29295 [==============================] - 62s 2ms/step - loss: 0.2152 - acc: 0.9329\n",
      "Epoch 184/650\n",
      "29280/29295 [============================>.] - ETA: 0s - loss: 0.2123 - acc: 0.9339\n",
      "Epoch 00184: loss improved from 0.21269 to 0.21239, saving model to weights-improvement-184-0.2124-asaf1.hdf5\n",
      "29295/29295 [==============================] - 62s 2ms/step - loss: 0.2124 - acc: 0.9339\n",
      "Epoch 185/650\n",
      "29280/29295 [============================>.] - ETA: 0s - loss: 0.2117 - acc: 0.9346\n",
      "Epoch 00185: loss improved from 0.21239 to 0.21173, saving model to weights-improvement-185-0.2117-asaf1.hdf5\n",
      "29295/29295 [==============================] - 62s 2ms/step - loss: 0.2117 - acc: 0.9346\n",
      "Epoch 186/650\n",
      "29280/29295 [============================>.] - ETA: 0s - loss: 0.2061 - acc: 0.9360\n",
      "Epoch 00186: loss improved from 0.21173 to 0.20618, saving model to weights-improvement-186-0.2062-asaf1.hdf5\n",
      "29295/29295 [==============================] - 62s 2ms/step - loss: 0.2062 - acc: 0.9359\n",
      "Epoch 187/650\n",
      "29280/29295 [============================>.] - ETA: 0s - loss: 0.2094 - acc: 0.9344\n",
      "Epoch 00187: loss did not improve\n",
      "29295/29295 [==============================] - 62s 2ms/step - loss: 0.2093 - acc: 0.9344\n",
      "Epoch 188/650\n",
      "29280/29295 [============================>.] - ETA: 0s - loss: 0.2097 - acc: 0.9336\n",
      "Epoch 00188: loss did not improve\n",
      "29295/29295 [==============================] - 63s 2ms/step - loss: 0.2100 - acc: 0.9335\n",
      "Epoch 189/650\n",
      "29280/29295 [============================>.] - ETA: 0s - loss: 0.2088 - acc: 0.9349\n",
      "Epoch 00189: loss did not improve\n",
      "29295/29295 [==============================] - 62s 2ms/step - loss: 0.2088 - acc: 0.9349\n",
      "Epoch 190/650\n",
      "29280/29295 [============================>.] - ETA: 0s - loss: 0.2080 - acc: 0.9352\n",
      "Epoch 00190: loss did not improve\n",
      "29295/29295 [==============================] - 63s 2ms/step - loss: 0.2079 - acc: 0.9352\n",
      "Epoch 191/650\n",
      "29280/29295 [============================>.] - ETA: 0s - loss: 0.2087 - acc: 0.9346\n",
      "Epoch 00191: loss did not improve\n",
      "29295/29295 [==============================] - 63s 2ms/step - loss: 0.2087 - acc: 0.9347\n",
      "Epoch 192/650\n",
      "29280/29295 [============================>.] - ETA: 0s - loss: 0.2089 - acc: 0.9348\n",
      "Epoch 00192: loss did not improve\n",
      "29295/29295 [==============================] - 63s 2ms/step - loss: 0.2089 - acc: 0.9348\n",
      "Epoch 193/650\n",
      "29280/29295 [============================>.] - ETA: 0s - loss: 0.2073 - acc: 0.9359\n",
      "Epoch 00193: loss did not improve\n",
      "29295/29295 [==============================] - 63s 2ms/step - loss: 0.2074 - acc: 0.9359\n",
      "Epoch 194/650\n",
      "29280/29295 [============================>.] - ETA: 0s - loss: 0.2035 - acc: 0.9365\n",
      "Epoch 00194: loss improved from 0.20618 to 0.20356, saving model to weights-improvement-194-0.2036-asaf1.hdf5\n",
      "29295/29295 [==============================] - 63s 2ms/step - loss: 0.2036 - acc: 0.9364\n",
      "Epoch 195/650\n",
      "29280/29295 [============================>.] - ETA: 0s - loss: 0.2082 - acc: 0.9349\n",
      "Epoch 00195: loss did not improve\n",
      "29295/29295 [==============================] - 63s 2ms/step - loss: 0.2081 - acc: 0.9349\n",
      "Epoch 196/650\n",
      "29280/29295 [============================>.] - ETA: 0s - loss: 0.2057 - acc: 0.9347\n",
      "Epoch 00196: loss did not improve\n",
      "29295/29295 [==============================] - 64s 2ms/step - loss: 0.2058 - acc: 0.9346\n",
      "Epoch 197/650\n",
      "29280/29295 [============================>.] - ETA: 0s - loss: 0.2068 - acc: 0.9360\n",
      "Epoch 00197: loss did not improve\n",
      "29295/29295 [==============================] - 64s 2ms/step - loss: 0.2068 - acc: 0.9360\n",
      "Epoch 198/650\n",
      "29280/29295 [============================>.] - ETA: 0s - loss: 0.1937 - acc: 0.9397\n",
      "Epoch 00198: loss improved from 0.20356 to 0.19359, saving model to weights-improvement-198-0.1936-asaf1.hdf5\n",
      "29295/29295 [==============================] - 64s 2ms/step - loss: 0.1936 - acc: 0.9397\n",
      "Epoch 199/650\n",
      "29280/29295 [============================>.] - ETA: 0s - loss: 0.2046 - acc: 0.9343\n",
      "Epoch 00199: loss did not improve\n",
      "29295/29295 [==============================] - 64s 2ms/step - loss: 0.2046 - acc: 0.9343\n",
      "Epoch 200/650\n",
      "29280/29295 [============================>.] - ETA: 0s - loss: 0.2077 - acc: 0.9360\n",
      "Epoch 00200: loss did not improve\n",
      "29295/29295 [==============================] - 64s 2ms/step - loss: 0.2078 - acc: 0.9360\n",
      "Epoch 201/650\n",
      "29280/29295 [============================>.] - ETA: 0s - loss: 0.1995 - acc: 0.9358\n",
      "Epoch 00201: loss did not improve\n",
      "29295/29295 [==============================] - 64s 2ms/step - loss: 0.1995 - acc: 0.9358\n",
      "Epoch 202/650\n",
      "29280/29295 [============================>.] - ETA: 0s - loss: 0.2064 - acc: 0.9347\n",
      "Epoch 00202: loss did not improve\n",
      "29295/29295 [==============================] - 76s 3ms/step - loss: 0.2063 - acc: 0.9347\n",
      "Epoch 203/650\n",
      "29280/29295 [============================>.] - ETA: 0s - loss: 0.1995 - acc: 0.9362\n",
      "Epoch 00203: loss did not improve\n",
      "29295/29295 [==============================] - 79s 3ms/step - loss: 0.1997 - acc: 0.9362\n",
      "Epoch 204/650\n",
      "29280/29295 [============================>.] - ETA: 0s - loss: 0.2014 - acc: 0.9368\n",
      "Epoch 00204: loss did not improve\n",
      "29295/29295 [==============================] - 65s 2ms/step - loss: 0.2015 - acc: 0.9368\n",
      "Epoch 205/650\n",
      "29280/29295 [============================>.] - ETA: 0s - loss: 0.1985 - acc: 0.9379\n",
      "Epoch 00205: loss did not improve\n",
      "29295/29295 [==============================] - 59s 2ms/step - loss: 0.1986 - acc: 0.9379\n",
      "Epoch 206/650\n",
      "29280/29295 [============================>.] - ETA: 0s - loss: 0.1987 - acc: 0.9380\n",
      "Epoch 00206: loss did not improve\n",
      "29295/29295 [==============================] - 59s 2ms/step - loss: 0.1986 - acc: 0.9380\n",
      "Epoch 207/650\n",
      "29280/29295 [============================>.] - ETA: 0s - loss: 0.1929 - acc: 0.9404\n",
      "Epoch 00207: loss improved from 0.19359 to 0.19293, saving model to weights-improvement-207-0.1929-asaf1.hdf5\n",
      "29295/29295 [==============================] - 62s 2ms/step - loss: 0.1929 - acc: 0.9404\n",
      "Epoch 208/650\n",
      "29280/29295 [============================>.] - ETA: 0s - loss: 0.1941 - acc: 0.9411\n",
      "Epoch 00208: loss did not improve\n",
      "29295/29295 [==============================] - 68s 2ms/step - loss: 0.1940 - acc: 0.9411\n",
      "Epoch 209/650\n",
      "29280/29295 [============================>.] - ETA: 0s - loss: 0.1991 - acc: 0.9381\n",
      "Epoch 00209: loss did not improve\n",
      "29295/29295 [==============================] - 64s 2ms/step - loss: 0.1992 - acc: 0.9381\n",
      "Epoch 210/650\n",
      "29280/29295 [============================>.] - ETA: 0s - loss: 0.1975 - acc: 0.9379\n",
      "Epoch 00210: loss did not improve\n",
      "29295/29295 [==============================] - 57s 2ms/step - loss: 0.1974 - acc: 0.9379\n",
      "Epoch 211/650\n",
      "29280/29295 [============================>.] - ETA: 0s - loss: 0.2081 - acc: 0.9350\n",
      "Epoch 00211: loss did not improve\n",
      "29295/29295 [==============================] - 60s 2ms/step - loss: 0.2082 - acc: 0.9350\n",
      "Epoch 212/650\n",
      "29280/29295 [============================>.] - ETA: 0s - loss: 0.1968 - acc: 0.9381\n",
      "Epoch 00212: loss did not improve\n",
      "29295/29295 [==============================] - 62s 2ms/step - loss: 0.1967 - acc: 0.9381\n",
      "Epoch 213/650\n",
      "29280/29295 [============================>.] - ETA: 0s - loss: 0.2039 - acc: 0.9378\n",
      "Epoch 00213: loss did not improve\n",
      "29295/29295 [==============================] - 62s 2ms/step - loss: 0.2039 - acc: 0.9379\n",
      "Epoch 214/650\n",
      "29280/29295 [============================>.] - ETA: 0s - loss: 0.1953 - acc: 0.9394\n",
      "Epoch 00214: loss did not improve\n",
      "29295/29295 [==============================] - 63s 2ms/step - loss: 0.1953 - acc: 0.9394\n",
      "Epoch 215/650\n",
      "29280/29295 [============================>.] - ETA: 0s - loss: 0.1931 - acc: 0.9399\n",
      "Epoch 00215: loss did not improve\n",
      "29295/29295 [==============================] - 64s 2ms/step - loss: 0.1930 - acc: 0.9399\n",
      "Epoch 216/650\n",
      "29280/29295 [============================>.] - ETA: 0s - loss: 0.1986 - acc: 0.9379\n",
      "Epoch 00216: loss did not improve\n",
      "29295/29295 [==============================] - 64s 2ms/step - loss: 0.1985 - acc: 0.9379\n"
     ]
    },
    {
     "name": "stdout",
     "output_type": "stream",
     "text": [
      "Epoch 217/650\n",
      "29280/29295 [============================>.] - ETA: 0s - loss: 0.1951 - acc: 0.9404\n",
      "Epoch 00217: loss did not improve\n",
      "29295/29295 [==============================] - 57s 2ms/step - loss: 0.1951 - acc: 0.9405\n",
      "Epoch 218/650\n",
      "29280/29295 [============================>.] - ETA: 0s - loss: 0.1919 - acc: 0.9415\n",
      "Epoch 00218: loss improved from 0.19293 to 0.19182, saving model to weights-improvement-218-0.1918-asaf1.hdf5\n",
      "29295/29295 [==============================] - 58s 2ms/step - loss: 0.1918 - acc: 0.9415\n",
      "Epoch 219/650\n",
      "29280/29295 [============================>.] - ETA: 0s - loss: 0.1956 - acc: 0.9389\n",
      "Epoch 00219: loss did not improve\n",
      "29295/29295 [==============================] - 62s 2ms/step - loss: 0.1956 - acc: 0.9389\n",
      "Epoch 220/650\n",
      "29280/29295 [============================>.] - ETA: 0s - loss: 0.1985 - acc: 0.9372\n",
      "Epoch 00220: loss did not improve\n",
      "29295/29295 [==============================] - 70s 2ms/step - loss: 0.1985 - acc: 0.9372\n",
      "Epoch 221/650\n",
      "29280/29295 [============================>.] - ETA: 0s - loss: 0.1964 - acc: 0.9376\n",
      "Epoch 00221: loss did not improve\n",
      "29295/29295 [==============================] - 69s 2ms/step - loss: 0.1965 - acc: 0.9375\n",
      "Epoch 222/650\n",
      "29280/29295 [============================>.] - ETA: 0s - loss: 0.1901 - acc: 0.9404\n",
      "Epoch 00222: loss improved from 0.19182 to 0.19018, saving model to weights-improvement-222-0.1902-asaf1.hdf5\n",
      "29295/29295 [==============================] - 63s 2ms/step - loss: 0.1902 - acc: 0.9404\n",
      "Epoch 223/650\n",
      "29280/29295 [============================>.] - ETA: 0s - loss: 0.1855 - acc: 0.9416\n",
      "Epoch 00223: loss improved from 0.19018 to 0.18547, saving model to weights-improvement-223-0.1855-asaf1.hdf5\n",
      "29295/29295 [==============================] - 60s 2ms/step - loss: 0.1855 - acc: 0.9417\n",
      "Epoch 224/650\n",
      "29280/29295 [============================>.] - ETA: 0s - loss: 0.1903 - acc: 0.9415\n",
      "Epoch 00224: loss did not improve\n",
      "29295/29295 [==============================] - 59s 2ms/step - loss: 0.1903 - acc: 0.9415\n",
      "Epoch 225/650\n",
      "29280/29295 [============================>.] - ETA: 0s - loss: 0.1856 - acc: 0.9423\n",
      "Epoch 00225: loss did not improve\n",
      "29295/29295 [==============================] - 68s 2ms/step - loss: 0.1855 - acc: 0.9423\n",
      "Epoch 226/650\n",
      "29280/29295 [============================>.] - ETA: 0s - loss: 0.1957 - acc: 0.9387- E\n",
      "Epoch 00226: loss did not improve\n",
      "29295/29295 [==============================] - 61s 2ms/step - loss: 0.1957 - acc: 0.9386\n",
      "Epoch 227/650\n",
      "29280/29295 [============================>.] - ETA: 0s - loss: 0.1943 - acc: 0.9404\n",
      "Epoch 00227: loss did not improve\n",
      "29295/29295 [==============================] - 60s 2ms/step - loss: 0.1942 - acc: 0.9404\n",
      "Epoch 228/650\n",
      "29280/29295 [============================>.] - ETA: 0s - loss: 0.1886 - acc: 0.9417\n",
      "Epoch 00228: loss did not improve\n",
      "29295/29295 [==============================] - 68s 2ms/step - loss: 0.1886 - acc: 0.9417\n",
      "Epoch 229/650\n",
      "29280/29295 [============================>.] - ETA: 0s - loss: 0.1887 - acc: 0.9407\n",
      "Epoch 00229: loss did not improve\n",
      "29295/29295 [==============================] - 65s 2ms/step - loss: 0.1886 - acc: 0.9407\n",
      "Epoch 230/650\n",
      "14120/29295 [=============>................] - ETA: 33s - loss: 0.1789 - acc: 0.9451"
     ]
    },
    {
     "ename": "KeyboardInterrupt",
     "evalue": "",
     "output_type": "error",
     "traceback": [
      "\u001b[1;31m---------------------------------------------------------------------------\u001b[0m",
      "\u001b[1;31mKeyboardInterrupt\u001b[0m                         Traceback (most recent call last)",
      "\u001b[1;32m<ipython-input-34-987dca52695f>\u001b[0m in \u001b[0;36m<module>\u001b[1;34m()\u001b[0m\n\u001b[0;32m      2\u001b[0m \u001b[0mcheckpoint\u001b[0m \u001b[1;33m=\u001b[0m \u001b[0mModelCheckpoint\u001b[0m\u001b[1;33m(\u001b[0m\u001b[0mfilepath\u001b[0m\u001b[1;33m,\u001b[0m \u001b[0mmonitor\u001b[0m\u001b[1;33m=\u001b[0m\u001b[1;34m'loss'\u001b[0m\u001b[1;33m,\u001b[0m \u001b[0mverbose\u001b[0m\u001b[1;33m=\u001b[0m\u001b[1;36m1\u001b[0m\u001b[1;33m,\u001b[0m \u001b[0msave_best_only\u001b[0m\u001b[1;33m=\u001b[0m\u001b[1;32mTrue\u001b[0m\u001b[1;33m,\u001b[0m \u001b[0mmode\u001b[0m\u001b[1;33m=\u001b[0m\u001b[1;34m'min'\u001b[0m\u001b[1;33m)\u001b[0m\u001b[1;33m\u001b[0m\u001b[0m\n\u001b[0;32m      3\u001b[0m \u001b[0mcallbacks_list\u001b[0m \u001b[1;33m=\u001b[0m \u001b[1;33m[\u001b[0m\u001b[0mcheckpoint\u001b[0m\u001b[1;33m]\u001b[0m\u001b[1;33m\u001b[0m\u001b[0m\n\u001b[1;32m----> 4\u001b[1;33m \u001b[0mmodel3\u001b[0m\u001b[1;33m.\u001b[0m\u001b[0mfit\u001b[0m\u001b[1;33m(\u001b[0m\u001b[0mX\u001b[0m\u001b[1;33m,\u001b[0m \u001b[0my\u001b[0m\u001b[1;33m,\u001b[0m \u001b[0mepochs\u001b[0m\u001b[1;33m=\u001b[0m\u001b[1;36m650\u001b[0m\u001b[1;33m,\u001b[0m \u001b[0mbatch_size\u001b[0m\u001b[1;33m=\u001b[0m\u001b[1;36m40\u001b[0m\u001b[1;33m,\u001b[0m\u001b[0mverbose\u001b[0m\u001b[1;33m=\u001b[0m\u001b[1;36m1\u001b[0m\u001b[1;33m,\u001b[0m \u001b[0mcallbacks\u001b[0m\u001b[1;33m=\u001b[0m\u001b[0mcallbacks_list\u001b[0m\u001b[1;33m)\u001b[0m\u001b[1;33m\u001b[0m\u001b[0m\n\u001b[0m",
      "\u001b[1;32m~\\Anaconda3\\lib\\site-packages\\keras\\models.py\u001b[0m in \u001b[0;36mfit\u001b[1;34m(self, x, y, batch_size, epochs, verbose, callbacks, validation_split, validation_data, shuffle, class_weight, sample_weight, initial_epoch, steps_per_epoch, validation_steps, **kwargs)\u001b[0m\n\u001b[0;32m    963\u001b[0m                               \u001b[0minitial_epoch\u001b[0m\u001b[1;33m=\u001b[0m\u001b[0minitial_epoch\u001b[0m\u001b[1;33m,\u001b[0m\u001b[1;33m\u001b[0m\u001b[0m\n\u001b[0;32m    964\u001b[0m                               \u001b[0msteps_per_epoch\u001b[0m\u001b[1;33m=\u001b[0m\u001b[0msteps_per_epoch\u001b[0m\u001b[1;33m,\u001b[0m\u001b[1;33m\u001b[0m\u001b[0m\n\u001b[1;32m--> 965\u001b[1;33m                               validation_steps=validation_steps)\n\u001b[0m\u001b[0;32m    966\u001b[0m \u001b[1;33m\u001b[0m\u001b[0m\n\u001b[0;32m    967\u001b[0m     def evaluate(self, x=None, y=None,\n",
      "\u001b[1;32m~\\Anaconda3\\lib\\site-packages\\keras\\engine\\training.py\u001b[0m in \u001b[0;36mfit\u001b[1;34m(self, x, y, batch_size, epochs, verbose, callbacks, validation_split, validation_data, shuffle, class_weight, sample_weight, initial_epoch, steps_per_epoch, validation_steps, **kwargs)\u001b[0m\n\u001b[0;32m   1667\u001b[0m                               \u001b[0minitial_epoch\u001b[0m\u001b[1;33m=\u001b[0m\u001b[0minitial_epoch\u001b[0m\u001b[1;33m,\u001b[0m\u001b[1;33m\u001b[0m\u001b[0m\n\u001b[0;32m   1668\u001b[0m                               \u001b[0msteps_per_epoch\u001b[0m\u001b[1;33m=\u001b[0m\u001b[0msteps_per_epoch\u001b[0m\u001b[1;33m,\u001b[0m\u001b[1;33m\u001b[0m\u001b[0m\n\u001b[1;32m-> 1669\u001b[1;33m                               validation_steps=validation_steps)\n\u001b[0m\u001b[0;32m   1670\u001b[0m \u001b[1;33m\u001b[0m\u001b[0m\n\u001b[0;32m   1671\u001b[0m     def evaluate(self, x=None, y=None,\n",
      "\u001b[1;32m~\\Anaconda3\\lib\\site-packages\\keras\\engine\\training.py\u001b[0m in \u001b[0;36m_fit_loop\u001b[1;34m(self, f, ins, out_labels, batch_size, epochs, verbose, callbacks, val_f, val_ins, shuffle, callback_metrics, initial_epoch, steps_per_epoch, validation_steps)\u001b[0m\n\u001b[0;32m   1204\u001b[0m                         \u001b[0mins_batch\u001b[0m\u001b[1;33m[\u001b[0m\u001b[0mi\u001b[0m\u001b[1;33m]\u001b[0m \u001b[1;33m=\u001b[0m \u001b[0mins_batch\u001b[0m\u001b[1;33m[\u001b[0m\u001b[0mi\u001b[0m\u001b[1;33m]\u001b[0m\u001b[1;33m.\u001b[0m\u001b[0mtoarray\u001b[0m\u001b[1;33m(\u001b[0m\u001b[1;33m)\u001b[0m\u001b[1;33m\u001b[0m\u001b[0m\n\u001b[0;32m   1205\u001b[0m \u001b[1;33m\u001b[0m\u001b[0m\n\u001b[1;32m-> 1206\u001b[1;33m                     \u001b[0mouts\u001b[0m \u001b[1;33m=\u001b[0m \u001b[0mf\u001b[0m\u001b[1;33m(\u001b[0m\u001b[0mins_batch\u001b[0m\u001b[1;33m)\u001b[0m\u001b[1;33m\u001b[0m\u001b[0m\n\u001b[0m\u001b[0;32m   1207\u001b[0m                     \u001b[1;32mif\u001b[0m \u001b[1;32mnot\u001b[0m \u001b[0misinstance\u001b[0m\u001b[1;33m(\u001b[0m\u001b[0mouts\u001b[0m\u001b[1;33m,\u001b[0m \u001b[0mlist\u001b[0m\u001b[1;33m)\u001b[0m\u001b[1;33m:\u001b[0m\u001b[1;33m\u001b[0m\u001b[0m\n\u001b[0;32m   1208\u001b[0m                         \u001b[0mouts\u001b[0m \u001b[1;33m=\u001b[0m \u001b[1;33m[\u001b[0m\u001b[0mouts\u001b[0m\u001b[1;33m]\u001b[0m\u001b[1;33m\u001b[0m\u001b[0m\n",
      "\u001b[1;32m~\\Anaconda3\\lib\\site-packages\\keras\\backend\\tensorflow_backend.py\u001b[0m in \u001b[0;36m__call__\u001b[1;34m(self, inputs)\u001b[0m\n\u001b[0;32m   2473\u001b[0m         \u001b[0msession\u001b[0m \u001b[1;33m=\u001b[0m \u001b[0mget_session\u001b[0m\u001b[1;33m(\u001b[0m\u001b[1;33m)\u001b[0m\u001b[1;33m\u001b[0m\u001b[0m\n\u001b[0;32m   2474\u001b[0m         updated = session.run(fetches=fetches, feed_dict=feed_dict,\n\u001b[1;32m-> 2475\u001b[1;33m                               **self.session_kwargs)\n\u001b[0m\u001b[0;32m   2476\u001b[0m         \u001b[1;32mreturn\u001b[0m \u001b[0mupdated\u001b[0m\u001b[1;33m[\u001b[0m\u001b[1;33m:\u001b[0m\u001b[0mlen\u001b[0m\u001b[1;33m(\u001b[0m\u001b[0mself\u001b[0m\u001b[1;33m.\u001b[0m\u001b[0moutputs\u001b[0m\u001b[1;33m)\u001b[0m\u001b[1;33m]\u001b[0m\u001b[1;33m\u001b[0m\u001b[0m\n\u001b[0;32m   2477\u001b[0m \u001b[1;33m\u001b[0m\u001b[0m\n",
      "\u001b[1;32m~\\Anaconda3\\lib\\site-packages\\tensorflow\\python\\client\\session.py\u001b[0m in \u001b[0;36mrun\u001b[1;34m(self, fetches, feed_dict, options, run_metadata)\u001b[0m\n\u001b[0;32m    776\u001b[0m     \u001b[1;32mtry\u001b[0m\u001b[1;33m:\u001b[0m\u001b[1;33m\u001b[0m\u001b[0m\n\u001b[0;32m    777\u001b[0m       result = self._run(None, fetches, feed_dict, options_ptr,\n\u001b[1;32m--> 778\u001b[1;33m                          run_metadata_ptr)\n\u001b[0m\u001b[0;32m    779\u001b[0m       \u001b[1;32mif\u001b[0m \u001b[0mrun_metadata\u001b[0m\u001b[1;33m:\u001b[0m\u001b[1;33m\u001b[0m\u001b[0m\n\u001b[0;32m    780\u001b[0m         \u001b[0mproto_data\u001b[0m \u001b[1;33m=\u001b[0m \u001b[0mtf_session\u001b[0m\u001b[1;33m.\u001b[0m\u001b[0mTF_GetBuffer\u001b[0m\u001b[1;33m(\u001b[0m\u001b[0mrun_metadata_ptr\u001b[0m\u001b[1;33m)\u001b[0m\u001b[1;33m\u001b[0m\u001b[0m\n",
      "\u001b[1;32m~\\Anaconda3\\lib\\site-packages\\tensorflow\\python\\client\\session.py\u001b[0m in \u001b[0;36m_run\u001b[1;34m(self, handle, fetches, feed_dict, options, run_metadata)\u001b[0m\n\u001b[0;32m    980\u001b[0m     \u001b[1;32mif\u001b[0m \u001b[0mfinal_fetches\u001b[0m \u001b[1;32mor\u001b[0m \u001b[0mfinal_targets\u001b[0m\u001b[1;33m:\u001b[0m\u001b[1;33m\u001b[0m\u001b[0m\n\u001b[0;32m    981\u001b[0m       results = self._do_run(handle, final_targets, final_fetches,\n\u001b[1;32m--> 982\u001b[1;33m                              feed_dict_string, options, run_metadata)\n\u001b[0m\u001b[0;32m    983\u001b[0m     \u001b[1;32melse\u001b[0m\u001b[1;33m:\u001b[0m\u001b[1;33m\u001b[0m\u001b[0m\n\u001b[0;32m    984\u001b[0m       \u001b[0mresults\u001b[0m \u001b[1;33m=\u001b[0m \u001b[1;33m[\u001b[0m\u001b[1;33m]\u001b[0m\u001b[1;33m\u001b[0m\u001b[0m\n",
      "\u001b[1;32m~\\Anaconda3\\lib\\site-packages\\tensorflow\\python\\client\\session.py\u001b[0m in \u001b[0;36m_do_run\u001b[1;34m(self, handle, target_list, fetch_list, feed_dict, options, run_metadata)\u001b[0m\n\u001b[0;32m   1030\u001b[0m     \u001b[1;32mif\u001b[0m \u001b[0mhandle\u001b[0m \u001b[1;32mis\u001b[0m \u001b[1;32mNone\u001b[0m\u001b[1;33m:\u001b[0m\u001b[1;33m\u001b[0m\u001b[0m\n\u001b[0;32m   1031\u001b[0m       return self._do_call(_run_fn, self._session, feed_dict, fetch_list,\n\u001b[1;32m-> 1032\u001b[1;33m                            target_list, options, run_metadata)\n\u001b[0m\u001b[0;32m   1033\u001b[0m     \u001b[1;32melse\u001b[0m\u001b[1;33m:\u001b[0m\u001b[1;33m\u001b[0m\u001b[0m\n\u001b[0;32m   1034\u001b[0m       return self._do_call(_prun_fn, self._session, handle, feed_dict,\n",
      "\u001b[1;32m~\\Anaconda3\\lib\\site-packages\\tensorflow\\python\\client\\session.py\u001b[0m in \u001b[0;36m_do_call\u001b[1;34m(self, fn, *args)\u001b[0m\n\u001b[0;32m   1037\u001b[0m   \u001b[1;32mdef\u001b[0m \u001b[0m_do_call\u001b[0m\u001b[1;33m(\u001b[0m\u001b[0mself\u001b[0m\u001b[1;33m,\u001b[0m \u001b[0mfn\u001b[0m\u001b[1;33m,\u001b[0m \u001b[1;33m*\u001b[0m\u001b[0margs\u001b[0m\u001b[1;33m)\u001b[0m\u001b[1;33m:\u001b[0m\u001b[1;33m\u001b[0m\u001b[0m\n\u001b[0;32m   1038\u001b[0m     \u001b[1;32mtry\u001b[0m\u001b[1;33m:\u001b[0m\u001b[1;33m\u001b[0m\u001b[0m\n\u001b[1;32m-> 1039\u001b[1;33m       \u001b[1;32mreturn\u001b[0m \u001b[0mfn\u001b[0m\u001b[1;33m(\u001b[0m\u001b[1;33m*\u001b[0m\u001b[0margs\u001b[0m\u001b[1;33m)\u001b[0m\u001b[1;33m\u001b[0m\u001b[0m\n\u001b[0m\u001b[0;32m   1040\u001b[0m     \u001b[1;32mexcept\u001b[0m \u001b[0merrors\u001b[0m\u001b[1;33m.\u001b[0m\u001b[0mOpError\u001b[0m \u001b[1;32mas\u001b[0m \u001b[0me\u001b[0m\u001b[1;33m:\u001b[0m\u001b[1;33m\u001b[0m\u001b[0m\n\u001b[0;32m   1041\u001b[0m       \u001b[0mmessage\u001b[0m \u001b[1;33m=\u001b[0m \u001b[0mcompat\u001b[0m\u001b[1;33m.\u001b[0m\u001b[0mas_text\u001b[0m\u001b[1;33m(\u001b[0m\u001b[0me\u001b[0m\u001b[1;33m.\u001b[0m\u001b[0mmessage\u001b[0m\u001b[1;33m)\u001b[0m\u001b[1;33m\u001b[0m\u001b[0m\n",
      "\u001b[1;32m~\\Anaconda3\\lib\\site-packages\\tensorflow\\python\\client\\session.py\u001b[0m in \u001b[0;36m_run_fn\u001b[1;34m(session, feed_dict, fetch_list, target_list, options, run_metadata)\u001b[0m\n\u001b[0;32m   1019\u001b[0m         return tf_session.TF_Run(session, options,\n\u001b[0;32m   1020\u001b[0m                                  \u001b[0mfeed_dict\u001b[0m\u001b[1;33m,\u001b[0m \u001b[0mfetch_list\u001b[0m\u001b[1;33m,\u001b[0m \u001b[0mtarget_list\u001b[0m\u001b[1;33m,\u001b[0m\u001b[1;33m\u001b[0m\u001b[0m\n\u001b[1;32m-> 1021\u001b[1;33m                                  status, run_metadata)\n\u001b[0m\u001b[0;32m   1022\u001b[0m \u001b[1;33m\u001b[0m\u001b[0m\n\u001b[0;32m   1023\u001b[0m     \u001b[1;32mdef\u001b[0m \u001b[0m_prun_fn\u001b[0m\u001b[1;33m(\u001b[0m\u001b[0msession\u001b[0m\u001b[1;33m,\u001b[0m \u001b[0mhandle\u001b[0m\u001b[1;33m,\u001b[0m \u001b[0mfeed_dict\u001b[0m\u001b[1;33m,\u001b[0m \u001b[0mfetch_list\u001b[0m\u001b[1;33m)\u001b[0m\u001b[1;33m:\u001b[0m\u001b[1;33m\u001b[0m\u001b[0m\n",
      "\u001b[1;31mKeyboardInterrupt\u001b[0m: "
     ]
    }
   ],
   "source": [
    "filepath=\"weights-improvement-{epoch:02d}-{loss:.4f}-asaf1.hdf5\"#ilona1\n",
    "checkpoint = ModelCheckpoint(filepath, monitor='loss', verbose=1, save_best_only=True, mode='min')\n",
    "callbacks_list = [checkpoint]\n",
    "model3.fit(X, y, epochs=650, batch_size=40,verbose=1, callbacks=callbacks_list)"
   ]
  },
  {
   "cell_type": "code",
   "execution_count": 35,
   "metadata": {
    "collapsed": true
   },
   "outputs": [],
   "source": [
    "model3.load_weights('./weights/weights-improvement-223-0.1855-asaf1.hdf5')"
   ]
  },
  {
   "cell_type": "code",
   "execution_count": 36,
   "metadata": {},
   "outputs": [
    {
     "name": "stdout",
     "output_type": "stream",
     "text": [
      "29295/29295 [==============================] - 26s 885us/step\n"
     ]
    },
    {
     "data": {
      "text/plain": [
       "[0.066968457580609708, 0.98433179724112696]"
      ]
     },
     "execution_count": 36,
     "metadata": {},
     "output_type": "execute_result"
    }
   ],
   "source": [
    "model3.evaluate(X,y,verbose=1)"
   ]
  },
  {
   "cell_type": "code",
   "execution_count": 43,
   "metadata": {
    "scrolled": true
   },
   "outputs": [
    {
     "data": {
      "text/plain": [
       "[['asafdavid08@gmail.com',\n",
       "  \"e?# # most of us a pretty happy with last year's phone purchase be it a pixel,#iphone, galaxy or something else.##yet, try as they might, no oem can produce a truly perfect phone. as#technolo,y ca foebeg ot se#eits.siiu crnicteit, whes will be#mama ioialiig to toree bn f#cueo codu'essoayears,cehen ahhinsdt s#  uss, nt you sot sis'des'rlek sf say prdg. tailldne anple toirl#a   moo iivf sp tuarene tisseg #aeainn an whss pisect thet ir eg pacuuengy  do sanpen. thnnen ar somsh kneoi oo bntn ere oftas#bomagssnnlee#.ten \"],\n",
       " ['asafdavid08@gmail.com',\n",
       "  \"odel. and while it's been a#great device, i can't help but feel as though i want a larger device.##but not for battery life. i simply like my watches on the larger size. i#think a     mm size option would suit me just fine.##what do you all think of sc  x##let yesl thes iase cee#aeare no ss eede teo then th tey #nhtm tou lrs toer aallsee##toi saes ssm aelisellel asdrg tielly andow # cot soil sfey oete aoh ihnngn wt bm wher ohot is all lakil titt haniny aeeas she anhim weyh uhat ssocla#the tehin toib sere pseereee a\"],\n",
       " ['asafdavid08@gmail.com',\n",
       "  \"s, you throughly enjoy yourself.##to sum up, i'd say this game is certainly worth the price of admission.#zelda kicked off the switch launch properly, and xenoblade is giving the#huge assist th finish opf tunce ancmatse iuisng tiuir and gren of eostl#in moue n ass syasierm aptecce#thet bas case too fhe..botte onss poilld a rotll  boped iil io on uaen#.ena#et' b ca'g a     m aimi.reet arron it a per ip in in meieiy fe#wlmu.m.##aongb. waus thele tsu haveness test teinl to belivserg.tie and iamess bndnhe toabk toeco s\"],\n",
       " ['asafdavid08@gmail.com',\n",
       "  \" platform if you wanted to.##yet, you feel an though, at times, you're missing out on features from#other platforms such as apple's platform or microsofts windows. maybe some#of that nice, nearly seam es e woungtc eot oolg arduad#iam ltinr thot wouu leless.nean#shsno -ud facdttsrny pane crdte thenes wpe#hatu a drnst him aperg ln dfswo peos.si lasien a aateri#bbreoe meason aaet wha thins phee to tee enddn. tumar oien so eet andng thmse th mal ooh tohs islen no eoollit.##iot woeg.    sow fn io thes so espt ane artnan\"],\n",
       " ['asafdavid08@gmail.com',\n",
       "  'turns out, some women on holl tithen### gi iinin wan#heren on toe mares dudmm withm,as fa sosetg thess anl seilin ta##vtling brele aadit th mtn#hnfio fnlceeted,yy arel eft afstse  l thu pard to teep po bnmtoatteng whe cyhe tote nossawsors bbk sorr fooole to tou hald shss ruttgt oo toe woreer hispee.#mo cocnns of mons.ri asttcet tha iontet ofsh dse thclc teu suacealilbasteun thetsorr. no lacsu strr oumml. ancltiidgi ihs srovee#a#tieley onlo sspe #xtraliines, #to iarereee oast gea#      f stse some ouii meseae#po the'],\n",
       " ['asafdavid08@gmail.com',\n",
       "  \"ems faster, really wish i could see it on the newer ipads with#thes arimge#tou uuoldg yeaatiit ipppe errbrietg#nreu lafen in geiyg th shm horee ia# lo,si ess trat'os casirein.teee that soiog #      m sirer oeme #rerii iave yomr riae is crppy ifaea.tem shee oo koeng ta#bet rel that t see iom  sfttii if ecepne itce in#po astheyyere toe aaeouat,#eiteni to mere yo suas halelwt in sou badii of thosn bar yeers fomucht hs ooen  #fm miiel awo canr ao thiht anditin bs loweots seythr a  rr toml pn phei foseoisleti# eponi.#ll\"],\n",
       " ['asafdavid08@gmail.com',\n",
       "  \"pt i'm not#getting better at a fast anough aatoe #so thw waus bot toep op eestleg bite th sha#coppe iivpens.ns ane nein feelusd mf sari caniss bo lt hfsy aet a esy thet. eai mu a deaat ieascct  no she lieutg tr tsy parhn.s #sooo. wou hed so thlepr lesdut ro tae poweed simlse th thy capoy f sovs.re#ln ccdn inmie###sp siaes so seed th the dnhnni toore cnt akeigeng the yai shs fiootdtgwt bueths te sae porec ietpareser sfuy tsingly frtm the fortie af binca leele thea so ts c cetsd ties sslceang rh opeee  nocc mamd  wha\"],\n",
       " ['asafdavid08@gmail.com',\n",
       "  \" many   n  s face##no one likes touching the letter keys when in tablet mode.##it still boggles my mind that oems still make laptops that do this. it's a#usability nightmare. laptops are still generally heavier than your basic#tablet or ipad. why combine that extra weight with the feeling of pressing#keys when you're hording tee disice tn beanvit. tudsl to  evoaalaegee dadine gt i finggos onsnir ot eode oo tot oooe   up oike oneei na thegn andadire thru mot tfat'elspany fhs a saw art tyi koise           inr' p sant\"],\n",
       " ['asafdavid08@gmail.com',\n",
       "  \"ch.##why would you allow other women to be subjected to the same foul treatment?#certainly you would mention to your neighbors and friends if you knew a#pedophile were lurking nearpy! t'iis wo teed the san ntl fhvr ans tuati siere  olm b.m b sei oha ouiilo por dln audke bipred# wl naes toit ti las hnaewetn areue the#srice ccf sastireee aeuuei le iorsine.oi..##ve a'hant tont hn atsieniln  tow are this arpplvt ofo plno.fs oostin  a#taxs all iosein fi wous ciom##    so faver's bnreati to sac# c han soe phat d sirt tio\"]]"
      ]
     },
     "execution_count": 43,
     "metadata": {},
     "output_type": "execute_result"
    }
   ],
   "source": [
    "lst_generate_3=generate_text(9,500,\"asafdavid08@gmail.com\",model3,int_to_char,dataX,n_vocab)\n",
    "lst_generate_3"
   ]
  },
  {
   "cell_type": "code",
   "execution_count": 44,
   "metadata": {
    "collapsed": true
   },
   "outputs": [],
   "source": [
    "for i in  np.arange(0,len(lst_generate_3),1):\n",
    "            lst_generate_3[i][1] = re.sub(r'#','/r/n',lst_generate_3[i][1])#\\r\\n\n",
    "title=[\"email address\",\"message\"]\n",
    "lst_generate_3.insert(0,title)\n",
    "with open('./generate/asafGeneratedData.csv','w',newline='') as fp:\n",
    "    a = csv.writer(fp, delimiter=',')\n",
    "    a.writerows(lst_generate_3)"
   ]
  },
  {
   "cell_type": "markdown",
   "metadata": {},
   "source": [
    "### Type 5- itaicohen266@gmail.com"
   ]
  },
  {
   "cell_type": "markdown",
   "metadata": {},
   "source": [
    "**examine the data**"
   ]
  },
  {
   "cell_type": "code",
   "execution_count": 45,
   "metadata": {},
   "outputs": [
    {
     "data": {
      "text/plain": [
       "'No  the intent of this guide isn\\'t a how-to or strategy guide. My \\r\\nintent\\r\\nis to build an index of all the great information that available on pet\\r\\nbattling that is currently scattered across sites and posts and condense it\\r\\nto one location. I\\'m hoping to keep this fairly up-to-date as best I can.\\r\\n\\r\\nIf you spot that I\\'ve got some information incorrect, some information is\\r\\nmissing, or you have some information/link/macro/addon you\\'d like to share,\\r\\nplease let me know in the comments and I will update.\\r\\n \\r\\n Pet battles are one of the features Blizzard introduced with the Mists of\\r\\nPandaria expansion for WoW. Currently, they\\'re mini-games within the game,\\r\\nintended as an alternative action or for when there\\'s down-time in the\\r\\ngame. As there are really no rewards outside of pet-battle rewards (more\\r\\npets, achievements, titles, pet battle supplies), they are not an\\r\\nalternative to gearing up your character.\\r\\n \\r\\n You need to have a character that is level 5 and have 10 gold. You also\\r\\nneed to have a full account - pet battles will not work on starter/free to\\r\\nplay accounts. If you meet the requirements, head to a Pet Battle trainer\\r\\nto learn. \\r\\n\\r\\nOnce you\\'ve learned the skill, a couple of things will happen. You\\'ll get a\\r\\nseries of basic quests from the trainer which will teach you the basics of\\r\\npet battling and you\\'ll notice little green paws on your mini-map. Those\\r\\npaws represent pets you can battle with. You can select to track pet\\r\\nbattles with the same mini-map button you use to track everything in game.\\r\\n \\r\\n Ten gold is too much for new characters!\\r\\nIt\\'s supposed to be. Blizzard added the pet battle system as a mini-game\\r\\nfor experienced players. New players should be focused on learning to play\\r\\nthe game. However, with the recent hotfix reducing training from 100g to\\r\\n10g, this should be available much sooner for new players.\\r\\n \\r\\n Right now, the total pet cap is 1000. However, if you came into MoP with\\r\\nmore than the cap, your extra pets are still there  you just can\\'t\\r\\n catch\\r\\nadditional pets. Once you dip below the cap, you can catch new pets.\\r\\nIn Legion, completing a series of World Quests will reward players with an\\r\\nitem, the Pocket Pet Portal (\\r\\nhttp://www.wowhead.com/item139003/pocket-pet-portal), that raises their\\r\\npet cap to 1500. The Pocket Pet Portal is rewarded from completing the\\r\\n\"Battle on the Broken Isles\" achievement, which requires completing 30\\r\\nWorld Pet Battle quests.\\r\\nIn addition, you can only have up to 3 of each unique type of pet. Again,\\r\\nif you came into MoP with more than 3, those pets are still there. Until\\r\\nyou release/cage the extras, you are unable to add more of those unique\\r\\ntype of pets. For example, I started MoP with 9 Cornish Rex cats. Until I\\r\\ncaged my extras, I was unable to learn/add additional ones.\\r\\nHowever, some pets are unique no matter how many you had across your alts.\\r\\nPretty much any Bind to Account pet (such as the Wind Rider Cub or the 4th\\r\\nanniversary Baby Blizzard Bear) and achievement pets (such as Nuts) will\\r\\nonly exist as a single copy in your pet journal.\\r\\n \\r\\n You may already have a pet collection and have all you need to get started.\\r\\nHowever, if you\\'re brand new and are starting with nothing, you have\\r\\nseveral options. The Pet Trainer who taught you how to battle will also\\r\\nsell you a pet based on your starting race. You can visit any of the pet\\r\\nvendors in game to purchase additional pets (opposite faction pets will\\r\\neither require you to visit the AH or roll an alt to purchase). Some pets\\r\\nare awarded from quests, some pets are drops, some pets are awarded from\\r\\nachievements, some pets are obtained from special events, some are for sale\\r\\nin the Blizzard store, and some are obtained from the trading card game.\\r\\nA lot of battle pets are obtained via battling and capturing wild pets\\r\\n(this is covered further on in the FAQs).\\r\\n\\r\\nMany battle pets are able to be sold on the AH. However, any pets that are\\r\\ncaptured in the wild are NOT able to be caged/sold. Currently, Blizzard has\\r\\ndisabled the selling of captured pets (this is discussed further on in the\\r\\nFAQs). IMPORTANT: If you buy a pre-leveled pet off the AH, you won\\'t be\\r\\nable to add it to your collection unless you already have a pet of that\\r\\nlevel!\\r\\n\\r\\nWarcraftpets is the definitive site for where to obtain pets. (link:\\r\\nhttp://www.warcraftpets.com/) WoWPedia has a fantastic listing of all the\\r\\npets in game as well. \\r\\n\\r\\nIt is important to note that not all pets are able to do battle. The\\r\\nballoon pets (Alliance, Horde, Darkmoon Faire), most kite pets (Dragon kite\\r\\nwith 5.1 is now able to fight), the Guild Page and Herald, and the Argent\\r\\nSquire/Gruntling are ineligible for pet battles. These guys are just for\\r\\nlooking pretty while following you around.\\r\\n \\r\\n What do you mean, caging pets?\\r\\nCurrently, some pets are able to be put into a cage. Wild battle pets are\\r\\ncurrently unable to be caged. In addition, BoA pets (such as the Blizzard\\r\\nstore pets), pets from achievements (such as Nuts), pets that grant\\r\\nachievements (such as the Spirit of Competition), and pets from some quests\\r\\n(such as the Singing Sunflower and Northrend Childrens Week orphan\\r\\ns) are\\r\\nalso unable to be caged. Vendor pets (such as the Cornish Rex cat), dropped\\r\\npets (such as the Emerald Whelpling), and some quest pets (such as the\\r\\nAzeroth and Outland Childrens Week rewards) are able to be caged.\\r\\n\\r\\nThe best way to be tell for sure if your pet can be caged is to right-click\\r\\non it in the Pet Journal. If it can be caged, youll see that as an\\r\\n option.\\r\\nOnce a pet is caged, it becomes an item in your inventory that you can\\r\\ntrade or sell as normal.\\r\\n \\r\\n What if I want to get rid of a pet that cant be caged?\\r\\nYour only option is to release the pets. This is also ava\\r\\nilable by\\r\\nright-clicking on a pet in your Pet Journal. There is no animation of the\\r\\npet running free  they merely disappear from your listed pets. Tho\\r\\nse more\\r\\ntender-hearted may find it hard to release some pets (Northrend orphans\\r\\nhave nowhere else to go!)\\r\\n\\r\\nWhen I right-click, I also get the option to rename. What is that?\\r\\nAfter years of asking, pet collectors have finally gotten the right to\\r\\nrename their pets. It does exactly what you think it does  you can\\r\\n rename\\r\\nyour Cornish Rex to Fluffy if you so desire. Pet naming follows pretty much\\r\\nthe same set of rules as naming your character: nothing obscene/offensive,\\r\\nno titles (such as Mr), and no linkers (such as The). You can put multiple\\r\\ncapital letters and spaces into a pet name, so youve got that goin\\r\\ng for\\r\\nyou, which is nice.\\r\\n \\r\\n What does the color around the pet\\'s portrait mean?\\r\\nLike gear, battle pets have a quality associated with them. Currently,\\r\\nthere\\'s poor (grey), common (white), uncommon (green), and rare (blue)\\r\\npets. There are no epic or legendary pets available to PLAYERS, but some\\r\\nNPC Tamers use Epic pets and the Grand Master Tamers have Legendary pets.\\r\\nIn addition, there are legendary pets to battle through-out Pandaria and\\r\\nDraenor.\\r\\nPet quality affects the total stat values a battle pet has. Poor quality\\r\\npets will have lower stats than common quality pets of the same level, and\\r\\nso on. For fighting, it\\'s recommended to use high quality pets over lower\\r\\nquality pets.\\r\\nShalura from Anvilmar has made a fantastic compilation of pre-existing pet\\r\\nqualities as well. (link: http://us.battle.net/wow/en/forum/topic/6712862299\\r\\n)\\r\\n\\r\\nThere\\'s a gold ring around my pets\\'/opponent pets\\' portrait. What does that\\r\\nmean?\\r\\n The gold color indicates which pet gets to go first.\\r\\n\\r\\nWhat does my pet\\'s family mean?\\r\\nIf you\\'re familiar with Pokemon (or Rock-Paper-Scissors), you\\'ll understand\\r\\nabout pet types/families. WoW pet battles have a type associated with them\\r\\n(for example, critter). This determines what other attack types they are\\r\\nstrong against (critters are strong against undead type attacks) and weak\\r\\nagainst (critters are weak against beast type attacks), in addition to\\r\\nhaving a special ability associated with the type (critter types break out\\r\\nof crowd control more quickly). While a battle pet will have a base type,\\r\\nthey can also have other type\\'s moves (for example, a rabbit, which is a\\r\\ncritter type, learns burrow, a beast move, at level 4).\\r\\nWowpedia has a very nice chart showing what battle pet types are strong and\\r\\nweak against. \\r\\n \\r\\n What types of pet battles are there?\\r\\nLike much of the game, Pet Battles have a PvE and a PvP component.\\r\\n\\r\\nPvE battles are those battles with wild pets or with the NPC Pet Tamers.\\r\\nThis is the way if you want to collect pets and level them up.\\r\\n\\r\\n\\r\\n\\r\\nPvP battles are battles with other players. On your Pet Battle tab, there\\'s\\r\\na button to find a random pet battle. Unlike PvP\\'ing in other parts of the\\r\\ngame, you will not know who you are battling against. Character names are\\r\\nnot displayed. Also, losses are not tracked, only wins. Your pet will gain\\r\\nXP from doing random PvP battles. However, dueling will not yield XP.\\r\\n\\r\\nTgwaste from Korialstrasz wrote a macro for finding PvP Pet Battles without\\r\\nopening your pet journal (find it in the macros section of this thread).\\r\\n \\r\\n Where should I go to find pet battles?\\r\\nPretty much anywhere in the world. If you\\'re just starting out, you\\'ll want\\r\\nto level your pets along a similar zone path as a character. Lower level\\r\\nbattle pets are found in lower level zones and progress slightly slower\\r\\nthan character levels. For example, Elwyn Forest and Stormwind have level\\r\\n1-2 pets while Westfall has level 2-4 pets. You\\'ll want to start in a zone\\r\\nthat has pets appropriate to your pets\\' levels.\\r\\n\\r\\nQuintessence (Senior Content Manager at Warcraftpets.com) has compiled a\\r\\nlisting of pet levels by zone. Useful for plotting out your pet-leveling\\r\\nplan. (link:\\r\\nhttp://wowpetaddiction.blogspot.com/2012/09/zones-by-pet-level.html#more)\\r\\n\\r\\nWrelch from Wyrmrest Accord also put together a nice forum thread with this\\r\\ninformation: http://us.battle.net/wow/en/forum/topic/6758257090\\r\\n\\r\\nWarcraftpets put together a visual map with several search functions as\\r\\nwell http://www.warcraftpets.com/guides/pets/wow-pets-by-zone/?wildY\\r\\n\\r\\nWhy are all of the pets I find Beasts and Critters in this zone? Battle\\r\\npets tend to follow the flavor of the zone. In a forested zone, you\\r\\nll find\\r\\nforest pets. Near water, aquatic pets. Places with undead will have undead\\r\\npets.\\r\\n\\r\\nOh no! My battle pet didn\\'t last through the battle/has been wounded. What\\r\\ndo I do?\\r\\nYou have several options to heal/revive your battle pets. One is to use\\r\\nyour revive pet ability, which has a 8 minute cooldown. You can visit a\\r\\nstable master (able to be tracked via the mini-map) to heal/revive your\\r\\npets (no CD). Lastly, you can use a Pet Bandage (obtained from Pet Supply\\r\\nbags from battling Pet Tamers, with Celestial Coins obtained from the\\r\\nCelestial Tournament on the Timeless Isle, or with Pet Charms from the\\r\\nGarrison Menagerie) to heal/revive your pets.\\r\\n\\r\\nOne suggestion has been to park an alt near a stable master and log onto\\r\\nthat character when you need to heal/revive, instead of coming in from the\\r\\nwilds. However, be aware that logging into a character places a short CD (\\r\\n~ 3 min) on interacting with a stablemaster (they ask for your to wait a\\r\\nfew minutes) and your revive pets ability.\\r\\n \\r\\n  *How do I capture a wild pet? *\\r\\nYou should have a trap icon on your pet battle bar. Once a wild pet gets\\r\\nbelow 35% health, this icon will light up and you can attempt to capture\\r\\nthe pet. Your chances of capture increase the lower the health of the wild\\r\\npet. This becomes a delicate dance of you trying not to kill the pet while\\r\\nkeeping your own pets alive. Having the Terrible Turnip or Molten Corgi as\\r\\none of your capture pets makes this a little easier, as these pets have an\\r\\nability that will never kill.\\r\\n\\r\\nYou can progress towards better traps by raising battle pets to level 25.\\r\\nThe Pristine Trap is the best trap in game and is earned by completing the\\r\\n\"Pro Pet Crew\" achievement. The Draenic Trap, which only works in Draenor,\\r\\nis obtained by leveling your Garrison Pet Menagerie to level 2.\\r\\n\\r\\nSpecial note: occasionally in the wild, you\\'ll see that an additional\\r\\npet(s) has joined the battle.\\r\\nIf you\\'re looking to capture more pets, pay attention to the quality of\\r\\nboth pets you\\'re fighting (the additional pets\\' portrait will display\\r\\nsmaller next to the pet you\\'re currently fighting). You can only use a trap\\r\\nonce per fight. Don\\'t waste a trap on a lower-quality pet if there\\'s a rare\\r\\npet waiting in to battle (I learned that the hard way).\\r\\n \\r\\n  *I\\'ve heard some pets only spawn in certain conditions. How do I know what\\r\\npets and what the conditions are?*\\r\\nThe Pet Journal has this information in it - if you know what pet you are\\r\\nlooking for (for example, the Baby Ape). At this point, the \"rare\\r\\nspawn/scarce\" pets require a single condition - time of day (late night,\\r\\ndaytime, morning), weather (raining, sandstorm, snowing), or season\\r\\n(winter, summer).\\r\\n\\r\\nQuintessence from Warcraftpets has started a discussion thread on the\\r\\nWarcraftpets forum listing some of this information.\\r\\n*http://www.warcraftpets.com/community/forum/viewtopic.php?f3&t8\\r\\n*).\\r\\n\\r\\n*Are there any special pets I should keep my eyes open for in each zone?*\\r\\nYes. Most zones tend to have one special, zone-unique pet. Twixi from\\r\\nGarrosh put together a listing of each zone\\'s special pet(s) and their\\r\\nlevel, to help with your need to catch them all.\\r\\nhttp://us.battle.net/wow/en/forum/topic/6758627164\\r\\n\\r\\n*Is there an advantage to raising a pet vs. catching a higher level pet? *\\r\\nNot in relation to the stats. Unlike Pokemon, caught and raised pets of the\\r\\nsame unique type, quality, and breed (for example, two uncommon squirrels\\r\\nof breed 5) will have their stats raised in the exact same manner. The only\\r\\nthing affected would be the \"Raise X Pets to Level Y\" achievements, if the\\r\\npet caught is higher level than the achievement (catching a level 11 pet\\r\\ndoesn\\'t count for raising pets to level 10).\\r\\n\\r\\nMore discussion of the Breeds can be found in the Theorycrafting section.\\r\\n \\r\\n  *How does pet XP work? What about my pets in a party? *\\r\\nPets gain XP by fighting other pets (either in PvE battles vs. wild/tamer\\r\\npets or in PvP battles against other PC\\'s pets). XP is needed to advance\\r\\nyour pet\\'s levels, much like your characters need XP to level. Pets do not\\r\\ngain a rested XP bonus.\\r\\n\\r\\nLevel 25 pets, and pets that are 5+ levels above the enemy pet, receive no\\r\\nexperience for that battle, although they do count when experience is split\\r\\n(as long as they are alive at the end of the battle). A \"difficulty bonus\"\\r\\nis given to pets that survive a battle under certain conditions. First, if\\r\\na pet is 2+ levels below the level of the enemy pet, they generally receive\\r\\nthe difficulty bonus. Also, if a pet at or below the level of the enemy\\r\\npets manages to solo a multi-pet team, or 2 pets of equal or lower level\\r\\ntake on a 3-pet team, they will receive a difficulty bonus.\\r\\n\\r\\nAs of a hotfix to patch 5.1, level 25 pets no longer soak XP. Feel free to\\r\\nlevel lowbies with your 25s to your heart\\'s content!\\r\\n\\r\\n*Whats the highest level my pets can reach?*\\r\\nCurrently, 25 is the max level a battle pet can reach.\\r\\n\\r\\n*My pet has reached level 10. How do I change what skills it can use in\\r\\nbattle? *\\r\\nIn the pet journal, add the pet whose moves you want to change to your team\\r\\n(if they aren\\'t already on your current team). On their top abilities\\r\\nbuttons you should see a little yellow downward pointing triangle. Click on\\r\\nthat to select a different move.\\r\\n \\r\\n  *Any tips for leveling pets quickly?*\\r\\nAside from following the pet tamer questline and battling wild pets, there\\r\\nare a few tricks.\\r\\n\\r\\nOne Pokemon standard is to start the fight with a low-level pet you wish to\\r\\npowerlevel against higher level pets. That pet must perform an action in\\r\\norder to credit  merely having it out does not count. After your l\\r\\now-level\\r\\npet has done its duty, switch it out for a higher level pet and proceed to\\r\\nknock out the wild pet(s). Alternately, swap in your low-level pet and then\\r\\nimmediately swap it out (obviously, need to time this just right in pet\\r\\nbattles!).\\r\\n\\r\\nThere are a few items in-game that will increase XP gain of battle pets.\\r\\nThe Safari Hat, obtained by completing the achievement \"Taming the World\",\\r\\nwill increase XP gain of pets by 10%.\\r\\nPet Treats will increase the XP gain by 50% for 1 hour and Lesser Pet\\r\\nTreats increase the XP gain by 25% for 1 hour. All the pet XP boosts stack.\\r\\nPet Treats can drop from Tamer Bags or be purchased with either Celestial\\r\\nCoins at the Timeless Isle or with Pet Charms.\\r\\n\\r\\nAdditionally, periodically there will be \"Bonus Pet XP\" weeks in WoW, where\\r\\nall pets\\' XP gains are doubled. This is a fantastic time to level pets.\\r\\nAgain, all the XP boosts stack.\\r\\n\\r\\nFinally, there are stones that increase levels (covered a little further\\r\\ndown in this guide).\\r\\n \\r\\n  *My minor child and I share a battle.net  account. Will\\r\\nwe be able to pet battle each other?*\\r\\nUnfortunately at the current time, Blizzard has made Pet Battles active on\\r\\nonly ONE WoW account per battle.net account. While every WoW account will\\r\\nhave access to Pet Battles (and share pets across accounts), only the first\\r\\naccount to log-in each play session will be able to use the Pet Battles\\r\\nfeatures. The rest of the WoW accounts will find that the Pet Journal is\\r\\nlocked.\\r\\n\\r\\nIf you are serious about wanting access at the same time on separate WoW\\r\\naccounts, you will need to set-up additional battle.net accounts for each\\r\\nWoW account you want simultaneous Pet Battle access on. The CSF forum (found\\r\\n http://us.battle.net/wow/en/forum/1011699/ ) will better be able to help\\r\\nyou with any questions you have pertaining to moving WoW accounts and all.\\r\\nUnfortunately, removing WoW accounts from a battle.net account means that\\r\\nthe moved WoW account will lose access to the shared pets, mounts, and\\r\\nother BoA privilages (such as heirlooms).\\r\\n \\r\\n  *What are Pet Battles Stones?*\\r\\nPet Battles Stones are an item added by Blizzard with patch 5.1 that\\r\\nenables you to upgrade the quality of your battle pet. There\\'s two types of\\r\\nstones: one which will upgrade the quality of pets and one that will\\r\\nupgrade the level of pets.\\r\\n\\r\\nQuality upgrades (Battle stones): Flawless Battle stones are rewarded for\\r\\ncompleting some pet quests, can drop from some bosses, can be present in\\r\\ntamer bags, and are available for purchase with either Celestial Coins or\\r\\nPet Charms. There\\'s also Polished Battle stones (but they only upgrade to\\r\\nuncommon and are pretty useless now).\\r\\n\\r\\nLeveling stones (Battle-training stones): Currently, there are family\\r\\nspecific stones (which drop from battles/tamer battles and are also\\r\\navailable for purchase with Pet Charms), Flawless Battle-training stones\\r\\n(which are awarded for completing Menagerie pet quests and available for\\r\\npurchase with Pet Charms), and Fel-touched Battle-Training Stones, which\\r\\naward 5 pet levels and drop from the Fel-Touched Pet Supplies, obtained by\\r\\nbattling the legendary pets in Tanaan Jungle.\\r\\n\\r\\n*How do I obtain Pet Battles Stones?*\\r\\nThere are several ways, depending on the stone.\\r\\n\\r\\nPolished Battle Stones are sold by Commander Lo Ping in the Niuzao Temple\\r\\nin Townalong Steppes for 1000 JP. Again, these merely upgrade a pet to\\r\\nuncommon and are pretty much a waste of JP. Do not buy these.\\r\\n\\r\\nYou can purchase a Marked Flawless Battlestone for 3 Celestial Coins\\r\\nobtained from the Celestial Tournament on the Timeless Isle or at the\\r\\nGarrison Menagerie for 15 Pet Charms.\\r\\n\\r\\nFamily Battle-training Stones are a *random* drop that you get from\\r\\nbattling wild pets or Pet Tamers. Mostly, wild pets will drop family\\r\\nspecific stones but can drop the general purpose (need to confirm this).\\r\\nAlso, some pets seem to have identity confusion and may drop a different\\r\\nfamily stone. As of 5.4, you can turn 3 family specific stones (ex,\\r\\nFlawless Beast Battle Stone) into one general purpose Flawless Battlestone.\\r\\nFamily battle-training stones are also available for purchase at the\\r\\nGarrison Menagerie in the \"Mystery Bag\" for 2 pet charms (random which\\r\\nfamily(s) you get). Flawless Battle-training stones are also available at\\r\\nthe Garrison for 3 pet charms.\\r\\n\\r\\nAdditionally, once a character has upgraded their Draenor garrison to level\\r\\n3, they are given a quest outside their new Menagerie by either Lio the\\r\\nLioness (Alliance) or Serr\\'ah (Horde) to find a stone outside their\\r\\ngarrison mine. Completing this quest rewards the character with the\\r\\n\"Ultimate Battle-Training Stone\" , which will level any battle pet to 25.\\r\\nThis quest can be done on multiple characters.\\r\\n\\r\\nCurrently, Battle Stones *may* disappear from your inventory through the\\r\\nmagic of CRZ. If this happens to you, open a ticket to get it restored.\\r\\n\\r\\n*How do I use a Battle Stone?*\\r\\nTo use one of these, you need to summon the pet in question, target it, and\\r\\nthen use the item. Clicking on the pet in the Pet Journal will not do\\r\\nanything.\\r\\n \\r\\n  Updated with new link. Shylir, please check your email. Also, back to the\\r\\nfront!\\r\\n\\r\\nQuestion: has anyone put any thought into compiling a \"rare spawn\"\\r\\ninformation sticky, with a listing of the pets that need special conditions\\r\\nto be caught (ie, raining on the island for Baby Ape, daytime for Little\\r\\nBlack Ram, winter for Snowy Owl, etc)?\\r\\n\\r\\nI would love to, but am finding that maintaining this thread is enough for\\r\\nme and I don\\'t feel comfortable as I don\\'t know enough (been too busy\\r\\nputting this thread together to level pets as much as I wanted - oh the\\r\\nirony!).\\r\\n \\r\\n  First, I apologize for the delay in getting back to you. I ended up having\\r\\na fairly busy weekend.\\r\\n\\r\\nUnfortunately, I do not have first hand knowledge about WoW accounts on the\\r\\nsame b.net account. I have a trial account I could try out, but I am\\r\\ncurrently at work without access.\\r\\n\\r\\nHowever, it\\'s been reported that pets are b.net bound, so they *should* be\\r\\nsharable. If you can, you can test this by setting up a\\r\\nfree-to-play/endless trial account and seeing if that account has access to\\r\\nyour current pets. If this works, RaF should work as well then.\\r\\n\\r\\nIf they\\'re not, there are several possible solutions, depending on what\\r\\nHorde specific pets you need. Do you need just the Argent Gruntling, Horde\\r\\nballoon, and Horde guild pets? You can roll a DK on another server (since\\r\\nthey start out at higher level) and do your thing to get the pets you need.\\r\\nAlternatively, you can...pay to faction switch one of your current toons\\r\\nand find a Horde guild on your current server to fit your needs. Given the\\r\\ncost of RaF (base account + 2 months of game time), this would probably\\r\\neven out to cost the same.\\r\\n\\r\\nI know the above are not the answers you\\'re looking for, but they do exist\\r\\nas solutions. If you do figure out an answer, please report back!\\r\\n \\r\\n  I had seen Warla\\'s thread. Unfortunately, I didn\\'t have time to check it\\r\\nout yesterday. I was thinking about it today and am in the process of\\r\\nattempting to look it over. If I don\\'t get a chance to look at it before\\r\\ntonight, I\\'ll add a link to the thread at the very least.\\r\\n\\r\\nAlso, I\\'m going to be on vacation for a few days, so this thread won\\'t be\\r\\nupdated for a week or so. I promise when I come back I\\'ll look things over\\r\\nand update things as needed.\\r\\n \\r\\n  sorry for the delay in getting back to you.\\r\\n\\r\\nFor putting together a synergistic team, I\\'d use the wowhead listing of pet\\r\\nabilities/companion listing (which may be time consuming), check out the\\r\\nwarcraftpets forums, or make a thread in this forum. I *think* I\\'ve seen a\\r\\nthread about team synergy, but it may be buried now.\\r\\n\\r\\nHope this helps you out!\\r\\n \\r\\n  sorry for the delay in getting back to you.\\r\\n\\r\\nFor putting together a synergistic team, I\\'d use the wowhead listing of pet\\r\\nabilities/companion listing (which may be time consuming), check out the\\r\\nwarcraftpets forums, or make a thread in this forum. I *think* I\\'ve seen a\\r\\nthread about team synergy, but it may be buried now.\\r\\n\\r\\nHope this helps you out!\\r\\n \\r\\n  First, you have to have a full version of the game (the endless trial\\r\\naccount is not eligible). Second, you have to have paid the 10 g to train\\r\\nfor Pet Battles and completed the initial quests the trainer sends you on.\\r\\nOnce you\\'ve completed that initial series of quests, you can go anywhere in\\r\\nthe world where little green paws show up on your mini-map (the paws\\r\\nrepresent battle pets). During the battle with a wild battle pet, once you\\r\\nknock that pet down to 35% health or lower (but don\\'t knock them out\\r\\ncompletely), your cage icon should light up. Then, it\\'s a matter of luck if\\r\\nthe cage will actually capture the battle pet.\\r\\n \\r\\n  Unrelated to your question: Timmain, from ElfQuest?\\r\\n\\r\\nAnswering your question: The Difficulty Bonus *should* be affecting the\\r\\namount of XP you get. If your pets are 2 levels below the pets you are\\r\\nbattling or take on 2 or 3 of the pets themselves, they should be getting\\r\\nXP reflecting this bonus. When the battle is over and the XP flashes aboves\\r\\neach pet\\'s head, it should have this bonus XP built in. For example, I\\'ll\\r\\nhave one pet get 49 XP and the other pet get 194 XP with the difficulty\\r\\nbonus (note: that XP reflects the bonus xp being added in - it\\'s not the\\r\\ntypical XP plus that number).\\r\\n\\r\\nKeep in mind that the XP is still split amongst your surviving pets that\\r\\nparticipated in the battle.\\r\\n\\r\\nAre you not getting the proper amount of XP? Was it possible you were\\r\\nadding the numbers wrong? If you were reading the numbers correctly and\\r\\nyour pets aren\\'t level 25, you\\'re experiencing a bug and should open a\\r\\nticket to report it.\\r\\n \\r\\n *  \\r\\n , !*\\r\\n\\r\\nOn Sun, Feb 11, 2018 at 11:16 PM, Itai Cohen <itaicohen266@gmail.com> wrote\\r\\n:\\r\\n\\r\\n> sorry for the delay in getting back to you.\\r\\n>\\r\\n> For putting together a synergistic team, I\\'d use the wowhead listing of\\r\\n> pet abilities/companion listing (which may be time consuming), check out\\r\\n> the warcraftpets forums, or make a thread in this forum. I *think* I\\'ve\\r\\n> seen a thread about team synergy, but it may be buried now.\\r\\n>\\r\\n> Hope this helps you out!\\r\\n>\\r\\n \\r\\n  Without an Addon, there\\'s no easy way, especially with low level pets.\\r\\nYou\\'d need to know how the H/P/S numbers relate for each pet to each breed.\\r\\nFor example, a S/S breed Snail will not have the same speed stat as a S/S\\r\\nbreed moth.\\r\\n\\r\\nWith level 1 pets, this is impossible because there is no real stat\\r\\ndifferetiation. Even addons will get the level 1 breeds incorrect.\\r\\n\\r\\nIf you are serious about knowing breeds, an addon is highly suggested. I\\r\\ndon\\'t think it\\'s possible to do it without an addon unless you\\'re Rainman\\r\\nand/or have print-outs for every pet with the numbers.\\r\\n \\r\\n '"
      ]
     },
     "execution_count": 45,
     "metadata": {},
     "output_type": "execute_result"
    }
   ],
   "source": [
    "itaiText"
   ]
  },
  {
   "cell_type": "code",
   "execution_count": 46,
   "metadata": {},
   "outputs": [
    {
     "name": "stdout",
     "output_type": "stream",
     "text": [
      "+---------------+---------------+\n",
      "| Punctuation   |  Appearance   |\n",
      "+===============+===============+\n",
      "| :             |      25       |\n",
      "+---------------+---------------+\n",
      "| ,             |      224      |\n",
      "+---------------+---------------+\n",
      "| -             |      58       |\n",
      "+---------------+---------------+\n",
      "| =             |       0       |\n",
      "+---------------+---------------+\n",
      "| ;             |       0       |\n",
      "+---------------+---------------+\n",
      "| .             |      269      |\n",
      "+---------------+---------------+\n",
      "| !             |      13       |\n",
      "+---------------+---------------+\n",
      "| ?             |      30       |\n",
      "+---------------+---------------+\n",
      "| (             |      80       |\n",
      "+---------------+---------------+\n",
      "| )             |      81       |\n",
      "+---------------+---------------+\n",
      "| '             |      79       |\n",
      "+---------------+---------------+\n",
      "| #             |       1       |\n",
      "+---------------+---------------+\n",
      "| \\             |       0       |\n",
      "+---------------+---------------+\n",
      "\n",
      "Number of words:  1442\n",
      "Number of characters:  26672\n",
      "Capital letters appearance:  0.029544091181763647\n",
      "Uniqe capital letters:  21\n",
      "Uniqe lower letters:  26\n",
      "digits characters appearance:  0.00614877024595081\n"
     ]
    }
   ],
   "source": [
    "get_general_details(itaiText)"
   ]
  },
  {
   "cell_type": "code",
   "execution_count": 19,
   "metadata": {},
   "outputs": [
    {
     "data": {
      "text/plain": [
       "'no the intent of this guide isn\\'t a how-to or strategy guide. my intent is to build an index of all the great information that available on pet battling that is currently scattered across sites and posts and condense it to one location. i\\'m hoping to keep this fairly up-to-date as best i can. if you spot that i\\'ve got some information incorrect, some information is missing, or you have some information/link/macro/addon you\\'d like to share, please let me know in the comments and i will update. pet battles are one of the features blizzard introduced with the mists of pandaria expansion for wow. currently, they\\'re mini-games within the game, intended as an alternative action or for when there\\'s down-time in the game. as there are really no rewards outside of pet-battle rewards , they are not an alternative to gearing up your character. you need to have a character that is level and have gold. you also need to have a full account - pet battles will not work on starter/free to play accounts. if you meet the requirements, head to a pet battle trainer to learn. once you\\'ve learned the skill, a couple of things will happen. you\\'ll get a series of basic quests from the trainer which will teach you the basics of pet battling and you\\'ll notice little green paws on your mini-map. those paws represent pets you can battle with. you can select to track pet battles with the same mini-map button you use to track everything in game. ten gold is too much for new characters! it\\'s supposed to be. blizzard added the pet battle system as a mini-game for experienced players. new players should be focused on learning to play the game. however, with the recent hotfix reducing training from g to g, this should be available much sooner for new players. right now, the total pet cap is . however, if you came into mop with more than the cap, your extra pets are still there you just can\\'t catch additional pets. once you dip below the cap, you can catch new pets. in legion, completing a series of world quests will reward players with an item, the pocket pet portal , that raises their pet cap to . the pocket pet portal is rewarded from completing the \"battle on the broken isles\" achievement, which requires completing world pet battle quests. in addition, you can only have up to of each unique type of pet. again, if you came into mop with more than , those pets are still there. until you release/cage the extras, you are unable to add more of those unique type of pets. for example, i started mop with cornish rex cats. until i caged my extras, i was unable to learn/add additional ones. however, some pets are unique no matter how many you had across your alts. pretty much any bind to account pet and achievement pets will only exist as a single copy in your pet journal. you may already have a pet collection and have all you need to get started. however, if you\\'re brand new and are starting with nothing, you have several options. the pet trainer who taught you how to battle will also sell you a pet based on your starting race. you can visit any of the pet vendors in game to purchase additional pets . some pets are awarded from quests, some pets are drops, some pets are awarded from achievements, some pets are obtained from special events, some are for sale in the blizzard store, and some are obtained from the trading card game. a lot of battle pets are obtained via battling and capturing wild pets . many battle pets are able to be sold on the ah. however, any pets that are captured in the wild are not able to be caged/sold. currently, blizzard has disabled the selling of captured pets . important if you buy a pre-leveled pet off the ah, you won\\'t be able to add it to your collection unless you already have a pet of that level! warcraftpets is the definitive site for where to obtain pets. wowpedia has a fantastic listing of all the pets in game as well. it is important to note that not all pets are able to do battle. the balloon pets , most kite pets , the guild page and herald, and the argent squire/gruntling are ineligible for pet battles. these guys are just for looking pretty while following you around. what do you mean, caging pets? currently, some pets are able to be put into a cage. wild battle pets are currently unable to be caged. in addition, boa pets , pets from achievements , pets that grant achievements , and pets from some quests are also unable to be caged. vendor pets , dropped pets , and some quest pets are able to be caged. the best way to be tell for sure if your pet can be caged is to right-click on it in the pet journal. if it can be caged, youll see that as an option. once a pet is caged, it becomes an item in your inventory that you can trade or sell as normal. what if i want to get rid of a pet that cant be caged? your only option is to release the pets. this is also ava ilable by right-clicking on a pet in your pet journal. there is no animation of the pet running free they merely disappear from your listed pets. tho se more tender-hearted may find it hard to release some pets when i right-click, i also get the option to rename. what is that? after years of asking, pet collectors have finally gotten the right to rename their pets. it does exactly what you think it does you can rename your cornish rex to fluffy if you so desire. pet naming follows pretty much the same set of rules as naming your character nothing obscene/offensive, no titles , and no linkers . you can put multiple capital letters and spaces into a pet name, so youve got that goin g for you, which is nice. what does the color around the pet\\'s portrait mean? like gear, battle pets have a quality associated with them. currently, there\\'s poor , common , uncommon , and rare pets. there are no epic or legendary pets available to players, but some npc tamers use epic pets and the grand master tamers have legendary pets. in addition, there are legendary pets to battle through-out pandaria and draenor. pet quality affects the total stat values a battle pet has. poor quality pets will have lower stats than common quality pets of the same level, and so on. for fighting, it\\'s recommended to use high quality pets over lower quality pets. shalura from anvilmar has made a fantastic compilation of pre-existing pet qualities as well. there\\'s a gold ring around my pets\\'/opponent pets\\' portrait. what does that mean? the gold color indicates which pet gets to go first. what does my pet\\'s family mean? if you\\'re familiar with pokemon , you\\'ll understand about pet types/families. wow pet battles have a type associated with them . this determines what other attack types they are strong against and weak against , in addition to having a special ability associated with the type . while a battle pet will have a base type, they can also have other type\\'s moves . wowpedia has a very nice chart showing what battle pet types are strong and weak against. what types of pet battles are there? like much of the game, pet battles have a pve and a pvp component. pve battles are those battles with wild pets or with the npc pet tamers. this is the way if you want to collect pets and level them up. pvp battles are battles with other players. on your pet battle tab, there\\'s a button to find a random pet battle. unlike pvp\\'ing in other parts of the game, you will not know who you are battling against. character names are not displayed. also, losses are not tracked, only wins. your pet will gain xp from doing random pvp battles. however, dueling will not yield xp. tgwaste from korialstrasz wrote a macro for finding pvp pet battles without opening your pet journal . where should i go to find pet battles? pretty much anywhere in the world. if you\\'re just starting out, you\\'ll want to level your pets along a similar zone path as a character. lower level battle pets are found in lower level zones and progress slightly slower than character levels. for example, elwyn forest and stormwind have level - pets while westfall has level - pets. you\\'ll want to start in a zone that has pets appropriate to your pets\\' levels. quintessence has compiled a listing of pet levels by zone. useful for plotting out your pet-leveling plan. wrelch from wyrmrest accord also put together a nice forum thread with this information warcraftpets put together a visual map with several search functions as well why are all of the pets i find beasts and critters in this zone? battle pets tend to follow the flavor of the zone. in a forested zone, you ll find forest pets. near water, aquatic pets. places with undead will have undead pets. oh no! my battle pet didn\\'t last through the battle/has been wounded. what do i do? you have several options to heal/revive your battle pets. one is to use your revive pet ability, which has a minute cooldown. you can visit a stable master to heal/revive your pets . lastly, you can use a pet bandage to heal/revive your pets. one suggestion has been to park an alt near a stable master and log onto that character when you need to heal/revive, instead of coming in from the wilds. however, be aware that logging into a character places a short cd on interacting with a stablemaster and your revive pets ability. how do i capture a wild pet? you should have a trap icon on your pet battle bar. once a wild pet gets below health, this icon will light up and you can attempt to capture the pet. your chances of capture increase the lower the health of the wild pet. this becomes a delicate dance of you trying not to kill the pet while keeping your own pets alive. having the terrible turnip or molten corgi as one of your capture pets makes this a little easier, as these pets have an ability that will never kill. you can progress towards better traps by raising battle pets to level . the pristine trap is the best trap in game and is earned by completing the \"pro pet crew\" achievement. the draenic trap, which only works in draenor, is obtained by leveling your garrison pet menagerie to level . special note occasionally in the wild, you\\'ll see that an additional pet has joined the battle. if you\\'re looking to capture more pets, pay attention to the quality of both pets you\\'re fighting . you can only use a trap once per fight. don\\'t waste a trap on a lower-quality pet if there\\'s a rare pet waiting in to battle . i\\'ve heard some pets only spawn in certain conditions. how do i know what pets and what the conditions are? the pet journal has this information in it - if you know what pet you are looking for . at this point, the \"rare spawn/scarce\" pets require a single condition - time of day , weather , or season . quintessence from warcraftpets has started a discussion thread on the warcraftpets forum listing some of this information. ). are there any special pets i should keep my eyes open for in each zone? yes. most zones tend to have one special, zone-unique pet. twixi from garrosh put together a listing of each zone\\'s special pet and their level, to help with your need to catch them all. is there an advantage to raising a pet vs. catching a higher level pet? not in relation to the stats. unlike pokemon, caught and raised pets of the same unique type, quality, and breed will have their stats raised in the exact same manner. the only thing affected would be the \"raise x pets to level y\" achievements, if the pet caught is higher level than the achievement . more discussion of the breeds can be found in the theorycrafting section. how does pet xp work? what about my pets in a party? pets gain xp by fighting other pets . xp is needed to advance your pet\\'s levels, much like your characters need xp to level. pets do not gain a rested xp bonus. level pets, and pets that are + levels above the enemy pet, receive no experience for that battle, although they do count when experience is split . a \"difficulty bonus\" is given to pets that survive a battle under certain conditions. first, if a pet is + levels below the level of the enemy pet, they generally receive the difficulty bonus. also, if a pet at or below the level of the enemy pets manages to solo a multi-pet team, or pets of equal or lower level take on a -pet team, they will receive a difficulty bonus. as of a hotfix to patch . , level pets no longer soak xp. feel free to level lowbies with your s to your heart\\'s content! whats the highest level my pets can reach? currently, is the max level a battle pet can reach. my pet has reached level . how do i change what skills it can use in battle? in the pet journal, add the pet whose moves you want to change to your team . on their top abilities buttons you should see a little yellow downward pointing triangle. click on that to select a different move. any tips for leveling pets quickly? aside from following the pet tamer questline and battling wild pets, there are a few tricks. one pokemon standard is to start the fight with a low-level pet you wish to powerlevel against higher level pets. that pet must perform an action in order to credit merely having it out does not count. after your l ow-level pet has done its duty, switch it out for a higher level pet and proceed to knock out the wild pet. alternately, swap in your low-level pet and then immediately swap it out . there are a few items in-game that will increase xp gain of battle pets. the safari hat, obtained by completing the achievement \"taming the world\", will increase xp gain of pets by . pet treats will increase the xp gain by for hour and lesser pet treats increase the xp gain by for hour. all the pet xp boosts stack. pet treats can drop from tamer bags or be purchased with either celestial coins at the timeless isle or with pet charms. additionally, periodically there will be \"bonus pet xp\" weeks in wow, where all pets\\' xp gains are doubled. this is a fantastic time to level pets. again, all the xp boosts stack. finally, there are stones that increase levels . my minor child and i share a battle.net account. will we be able to pet battle each other? unfortunately at the current time, blizzard has made pet battles active on only one wow account per battle.net account. while every wow account will have access to pet battles , only the first account to log-in each play session will be able to use the pet battles features. the rest of the wow accounts will find that the pet journal is locked. if you are serious about wanting access at the same time on separate wow accounts, you will need to set-up additional battle.net accounts for each wow account you want simultaneous pet battle access on. the csf forum will better be able to help you with any questions you have pertaining to moving wow accounts and all. unfortunately, removing wow accounts from a battle.net account means that the moved wow account will lose access to the shared pets, mounts, and other boa privilages . what are pet battles stones? pet battles stones are an item added by blizzard with patch . that enables you to upgrade the quality of your battle pet. there\\'s two types of stones one which will upgrade the quality of pets and one that will upgrade the level of pets. quality upgrades flawless battle stones are rewarded for completing some pet quests, can drop from some bosses, can be present in tamer bags, and are available for purchase with either celestial coins or pet charms. there\\'s also polished battle stones . leveling stones currently, there are family specific stones , flawless battle-training stones , and fel-touched battle-training stones, which award pet levels and drop from the fel-touched pet supplies, obtained by battling the legendary pets in tanaan jungle. how do i obtain pet battles stones? there are several ways, depending on the stone. polished battle stones are sold by commander lo ping in the niuzao temple in townalong steppes for jp. again, these merely upgrade a pet to uncommon and are pretty much a waste of jp. do not buy these. you can purchase a marked flawless battlestone for celestial coins obtained from the celestial tournament on the timeless isle or at the garrison menagerie for pet charms. family battle-training stones are a random drop that you get from battling wild pets or pet tamers. mostly, wild pets will drop family specific stones but can drop the general purpose . also, some pets seem to have identity confusion and may drop a different family stone. as of . , you can turn family specific stones into one general purpose flawless battlestone. family battle-training stones are also available for purchase at the garrison menagerie in the \"mystery bag\" for pet charms you get). flawless battle-training stones are also available at the garrison for pet charms. additionally, once a character has upgraded their draenor garrison to level , they are given a quest outside their new menagerie by either lio the lioness or serr\\'ah to find a stone outside their garrison mine. completing this quest rewards the character with the \"ultimate battle-training stone\" , which will level any battle pet to . this quest can be done on multiple characters. currently, battle stones may disappear from your inventory through the magic of crz. if this happens to you, open a ticket to get it restored. how do i use a battle stone? to use one of these, you need to summon the pet in question, target it, and then use the item. clicking on the pet in the pet journal will not do anything. updated with new link. shylir, please check your email. also, back to the front! question has anyone put any thought into compiling a \"rare spawn\" information sticky, with a listing of the pets that need special conditions to be caught ? i would love to, but am finding that maintaining this thread is enough for me and i don\\'t feel comfortable as i don\\'t know enough . first, i apologize for the delay in getting back to you. i ended up having a fairly busy weekend. unfortunately, i do not have first hand knowledge about wow accounts on the same b.net account. i have a trial account i could try out, but i am currently at work without access. however, it\\'s been reported that pets are b.net bound, so they should be sharable. if you can, you can test this by setting up a free-to-play/endless trial account and seeing if that account has access to your current pets. if this works, raf should work as well then. if they\\'re not, there are several possible solutions, depending on what horde specific pets you need. do you need just the argent gruntling, horde balloon, and horde guild pets? you can roll a dk on another server and do your thing to get the pets you need. alternatively, you can...pay to faction switch one of your current toons and find a horde guild on your current server to fit your needs. given the cost of raf , this would probably even out to cost the same. i know the above are not the answers you\\'re looking for, but they do exist as solutions. if you do figure out an answer, please report back! i had seen warla\\'s thread. unfortunately, i didn\\'t have time to check it out yesterday. i was thinking about it today and am in the process of attempting to look it over. if i don\\'t get a chance to look at it before tonight, i\\'ll add a link to the thread at the very least. also, i\\'m going to be on vacation for a few days, so this thread won\\'t be updated for a week or so. i promise when i come back i\\'ll look things over and update things as needed. sorry for the delay in getting back to you. for putting together a synergistic team, i\\'d use the wowhead listing of pet abilities/companion listing , check out the warcraftpets forums, or make a thread in this forum. i think i\\'ve seen a thread about team synergy, but it may be buried now. hope this helps you out! sorry for the delay in getting back to you. for putting together a synergistic team, i\\'d use the wowhead listing of pet abilities/companion listing , check out the warcraftpets forums, or make a thread in this forum. i think i\\'ve seen a thread about team synergy, but it may be buried now. hope this helps you out! first, you have to have a full version of the game . second, you have to have paid the g to train for pet battles and completed the initial quests the trainer sends you on. once you\\'ve completed that initial series of quests, you can go anywhere in the world where little green paws show up on your mini-map . during the battle with a wild battle pet, once you knock that pet down to health or lower , your cage icon should light up. then, it\\'s a matter of luck if the cage will actually capture the battle pet. unrelated to your question timmain, from elfquest? answering your question the difficulty bonus should be affecting the amount of xp you get. if your pets are levels below the pets you are battling or take on or of the pets themselves, they should be getting xp reflecting this bonus. when the battle is over and the xp flashes aboves each pet\\'s head, it should have this bonus xp built in. for example, i\\'ll have one pet get xp and the other pet get xp with the difficulty bonus . keep in mind that the xp is still split amongst your surviving pets that participated in the battle. are you not getting the proper amount of xp? was it possible you were adding the numbers wrong? if you were reading the numbers correctly and your pets aren\\'t level , you\\'re experiencing a bug and should open a ticket to report it. , ! on sun, feb , at pm, itai cohen pet abilities/companion listing , check out the warcraftpets forums, or make a thread in this forum. i think i\\'ve seen a thread about team synergy, but it may be buried now. hope this helps you out! without an addon, there\\'s no easy way, especially with low level pets. you\\'d need to know how the h/p/s numbers relate for each pet to each breed. for example, a s/s breed snail will not have the same speed stat as a s/s breed moth. with level pets, this is impossible because there is no real stat differetiation. even addons will get the level breeds incorrect. if you are serious about knowing breeds, an addon is highly suggested. i don\\'t think it\\'s possible to do it without an addon unless you\\'re rainman and/or have print-outs for every pet with the numbers.'"
      ]
     },
     "execution_count": 19,
     "metadata": {},
     "output_type": "execute_result"
    }
   ],
   "source": [
    "itaiText_ = re.sub(r'https?:\\/\\/(www\\.)?[-a-zA-Z0-9@:%._\\+~#=]{2,256}\\.[a-z]{2,6}\\b([-a-zA-Z0-9@:%_\\+.~#?&//=]*)',' ',itaiText)\n",
    "itaiText_=re.sub(r'\\r\\n',' # ',itaiText_)\n",
    "itaiText_=re.sub(r'[0-9]',' '+ ''+ ' ',itaiText_)\n",
    "itaiText_=re.sub(r'\\([^)]*\\)|\\<[^)]*\\>', '', itaiText_)\n",
    "itaiText_=re.sub(r'[\\;\\\\\\:\\#\\<\\>\\*\\%]',' ',itaiText_)\n",
    "itaiText_= ' '.join(itaiText_.split()) # substitute multiply whitespace to one whitespace\n",
    "itaiText_=itaiText_.lower()\n",
    "itaiText_"
   ]
  },
  {
   "cell_type": "code",
   "execution_count": 31,
   "metadata": {},
   "outputs": [
    {
     "name": "stdout",
     "output_type": "stream",
     "text": [
      "Total Characters:  22057\n",
      "Total Vocab:  37\n",
      "number of patterns:  22042\n"
     ]
    }
   ],
   "source": [
    "n_vocab,int_to_char,char_to_int,dataX,X,y,model4=n_seq_model(itaiText_,15,128)"
   ]
  },
  {
   "cell_type": "code",
   "execution_count": 32,
   "metadata": {
    "collapsed": true
   },
   "outputs": [],
   "source": [
    "model4.compile(loss='categorical_crossentropy', optimizer='rmsprop', metrics=['accuracy'])"
   ]
  },
  {
   "cell_type": "code",
   "execution_count": null,
   "metadata": {
    "collapsed": true
   },
   "outputs": [],
   "source": [
    "filepath=\"weights-improvement-{epoch:02d}-{loss:.4f}-itai.hdf5\"#ilona1\n",
    "checkpoint = ModelCheckpoint(filepath, monitor='loss', verbose=1, save_best_only=True, mode='min')\n",
    "callbacks_list = [checkpoint]\n",
    "model4.fit(X, y, epochs=950, batch_size=32,verbose=1, callbacks=callbacks_list)"
   ]
  },
  {
   "cell_type": "code",
   "execution_count": 33,
   "metadata": {
    "collapsed": true
   },
   "outputs": [],
   "source": [
    "model4.load_weights('./weights/weights-improvement-929-0.3824-itai.hdf5')"
   ]
  },
  {
   "cell_type": "code",
   "execution_count": 24,
   "metadata": {},
   "outputs": [
    {
     "name": "stdout",
     "output_type": "stream",
     "text": [
      "22042/22042 [==============================] - 7s 298us/step\n"
     ]
    },
    {
     "data": {
      "text/plain": [
       "[0.16239810233572177, 0.96071136917179678]"
      ]
     },
     "execution_count": 24,
     "metadata": {},
     "output_type": "execute_result"
    }
   ],
   "source": [
    "model4.evaluate(X,y,verbose=1)"
   ]
  },
  {
   "cell_type": "code",
   "execution_count": 34,
   "metadata": {
    "scrolled": true
   },
   "outputs": [
    {
     "data": {
      "text/plain": [
       "[[' itaicohen266@gmail.com',\n",
       "  'capture increase the looer whth tee cemtl.tep bacturt ho a doiab oroekh o teiuhu lee  mo yhu bla burimi nn yel aastles aadtuia whr batoles wilt bantanaeey lut.a man kors  nogits you hen  uelahte pr tet atu s toodse dr ilt  tor cano ws bo fageiyh uoen  aso psem pne iet roa petse pees a fcisac iat tou agdou te mak  woer ir daloui pats  ongead.safw oo nnnni h tecltent te and ihcnab tueatornn sess aoe wbtsldt te meser t a crrollt on teu bantstsn toar wour tuirtion toe metev auome tot eoeoon .eaiist you cev f te ca'],\n",
       " [' itaicohen266@gmail.com',\n",
       "  'a battling and capturing wild pets . many battle pets are able to be caged. vhedee mats wn thakn  ioeedmef tr bece co eani to bet has hase tnen a carels paa maetoi gfden,achuceu  entiti lhns won psns ll reee ro toal d ceadec lfl aoipalesd i to pald thel shok sees tiitl ii news woulu mege  hli foenllen is tit has seer.t demise teneiss,wn wiakl i iandd iets.frddd yhu lo tins thl cetill heneso fy msoeeig yparte orveea tn tou uolrliy ane loam tne batcle oats  thue aattln pet vrsssi.i fftcde pondsi l t ne deo t noe'],\n",
       " [' itaicohen266@gmail.com',\n",
       "  's pretty much the same set of rules asr rhtoed.f aesdc iowumi f seliit cb,lyw at idd nn hatel p co ro  annme iet tet hgstle  a pieyeerg.t lin we catlle p to the oeatt rh lee wha pee ,rols war  aotiti ohat asdpdcbty pet conatee net hat tor on yoarle sn p tavh.te the hevel i pec drtoe poot aatole pets  antun tae pot eavtie y las  eice io bnvmnts th the feeet oelt hnou hoeeteiti thtn goe areealt me rresie   marens wh aaaihiit vitltn wou col ptalslio phtarng   dtmet aeto bn paleas c sall ot mo bo roer hevtahnt tot'],\n",
       " [' itaicohen266@gmail.com',\n",
       "  'n g for you, which is nice. what does thet meanei aopeeds cotnstiise that aii tpei. lnw fu rhte d ieatec set bastlen wtonln an  odes bmern tou lut cnlg ieo sou aacoutts  roiertya thet drinssyn thed phes ibtt asy pee yoebn iavs cn the aere dn f teadte iar laee thh bht,ti c auhie pat cn  ash ontdrs fir toorir toecthng sets thel ioinseat ohvitn po badtuersv mnnd. alwiie bn ooe f yhr eannl yt bpett tt moo oh thw br  mdee nhl myecw tatel seer ano seeo to canl ea aarel to teu hamelt haveln ntin peres loe tn cavy ie '],\n",
       " [' itaicohen266@gmail.com',\n",
       "  ' simultaneous pet battle tat. cndeti nn thu bentitsd thu aptins fna d fyor fpl noo omath.ou iettarnea tou lintyn givern lee sea foiie petls oo aant in catt bn salt ceounes aetoles nerei sy bett iec pot teateisent anewett to tea teared   lis vhe pel tot creo fln io eant b cowdt ctd phw battles ate the trtll hnwer aattne ptt snegt cc toles tn dedciioa  hdeete wiesl s saven  clt ardmpti gerere oete.d woet tn  ualisragte tov aattues woeltent aloshhtiy, bldmn thus souul io piluh  nhe catiirgne tht ancrtld to tha da'],\n",
       " [' itaicohen266@gmail.com',\n",
       "  'has been wounded. what do i do? you have several options to heal/revive your pets . lastly, you can us ha auhetnrgsi th the sele a buoiaeteo bio iooeayrv iu tee gomi cadeaye tner iu citp e  aadti thl hht io iotirdgd. iuitean o tomd oet wase thinie tep aolrte idsel mepe f pendtd thall tets yhir h feg seme teen ohnsl sea nat nhu brtie to  aaouit  eloiedins oe thin  anrope to lov une teer thr ipc oac wa thi gare the nat b ttre to thi cohsteon you aantuenro ohte aoo wpalles tnuean fe yhese afd soacel bnoritsl,yild'],\n",
       " [' itaicohen266@gmail.com',\n",
       "  'their level, to help with your need to catch them all. is there an advantage to raisi sill betrre pets aon bcie  cle to  la b tial,ieee wotl tots onts c lttil,pels ar  asoone than the spp iate petelll iop.abalel oene  noee you salu to ooldl.  ohiasele pet i a tote tn toi poood  ra shu hanel ft coo bhr moasei eoeeestatoonleg ann iets youe lo incaaroa   dhd ntteu,nu thvcea als dodylenn shtia peeibhsgm . caseltinn it toamt blnr ooru tht casilt. acdi tter fo yees wei fec thu tets a doafdve to catt rh a yiu aad ut '],\n",
       " [' itaicohen266@gmail.com',\n",
       "  'ho you are battling ig toel metel  adtnl tiae pe ari i penrld totg a culeeateln on tet ratelss bndnas, in ii ani ih gat toe ie to tht aedtntel lon theit,wuv   fo thel fesel yo lot toat wour tear iin atem terdi betile pnos dudmi osrm awoin ii thu all ayarseh the pitlengd fonm fnrmeriane thml  ald ciae thtt weecs set lonky, adtily luve thusi hete  ooeereedde lhw ioe ehme ana shts aeenult   fnu ihem to cn iiamyend isoet mite  aar neo   ntits aisiee alse,nv poect ont iilssr  teeteilee pats lfdd yhe set aentlt  sol'],\n",
       " [' itaicohen266@gmail.com',\n",
       "  'our revive pet ability, which has a minute cooldown. you can visit any of the pet vendirs inigt wiatil  roeeeaalv aetul sear miee tpers oiel so toold lo tou caaolne your rets  ooe dssi iete. oaiss ohen aaaday  teai bate yhus lorils sndy lpestar wh read c tell a ae toe  ensiissingti bon arewt new iatt tylg po oockt bntorti pia tiattep f nos tr oenaaa  fli i we mee weatere   lhten ,pccd iath tpe uees bttrr if ahd th au a tart teo rat torelse yoo pav,lan b tet oo bnse coru anomeni oe a tee  etcts fsimnantco thei ']]"
      ]
     },
     "execution_count": 34,
     "metadata": {},
     "output_type": "execute_result"
    }
   ],
   "source": [
    "lst_generate_4=generate_text(9,500,\"itaicohen266@gmail.com\",model4,int_to_char,dataX,n_vocab)\n",
    "lst_generate_4"
   ]
  },
  {
   "cell_type": "code",
   "execution_count": 35,
   "metadata": {
    "collapsed": true
   },
   "outputs": [],
   "source": [
    "for i in  np.arange(0,len(lst_generate_4),1):\n",
    "            lst_generate_4[i][1] = re.sub(r'#','/r/n',lst_generate_4[i][1])#\\r\\n\n",
    "title=[\"email address\",\"message\"]\n",
    "lst_generate_4.insert(0,title)\n",
    "with open('./generate/itaiGeneratedData.csv','w',newline='') as fp:\n",
    "    a = csv.writer(fp, delimiter=',')\n",
    "    a.writerows(lst_generate_4)"
   ]
  },
  {
   "cell_type": "markdown",
   "metadata": {},
   "source": [
    "## what could we do to get even better results?\n",
    "\n",
    "as you know we were limited on time,because we worked in the labs, so we couldn't train the model for more than a few hours. but some of the following things we tried to do and others we think may help us but due to time constraints just mention them.  \n",
    "\n",
    "* try to reduce more the vocabulary by remove all punctuation from the source text.\n",
    "* train the model on padded sentences rather than random sequences of characters, so it will be more precise.\n",
    "* increase the number of epochs.\n",
    "* try to Tune the batch size. \n",
    "* add more memory units or more layers.\n",
    "\n",
    "** in conclusion ** , we think that the results we received were surprising, although the texts are not entirely readable in most of them you can still see sequences of words completely logical, and in the other parts of the text, where the generated text was bot so good, you can still understand the general idea. We think that with more training time and by exploring more the affects of different values for each parameter, we could achieved even better results.  \n",
    "in long texts we saw that this architecture doesnt work well, and the texts were almost not readable, but even there we can see that the structure of word and sentences are logical.  \n",
    "In addition, it is important to note that before we chose to use the above architecture, we debated to use word distribution. After investigation, we realized that the models that are divided into words are generally less precise. In addition, the number of words in e-mail messages is small in our case."
   ]
  },
  {
   "cell_type": "markdown",
   "metadata": {},
   "source": [
    "### Bibliography\n",
    "\n",
    "we used the following resources in addition to lectures:  \n",
    "* lstm keras example- https://github.com/keras-team/keras/blob/master/examples/lstm_text_generation.py\n",
    "* keras documentation in keras site. - https://keras.io/"
   ]
  }
 ],
 "metadata": {
  "kernelspec": {
   "display_name": "Python 3",
   "language": "python",
   "name": "python3"
  },
  "language_info": {
   "codemirror_mode": {
    "name": "ipython",
    "version": 3
   },
   "file_extension": ".py",
   "mimetype": "text/x-python",
   "name": "python",
   "nbconvert_exporter": "python",
   "pygments_lexer": "ipython3",
   "version": "3.6.4"
  }
 },
 "nbformat": 4,
 "nbformat_minor": 2
}
