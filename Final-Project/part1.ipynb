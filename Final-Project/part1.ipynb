{
 "cells": [
  {
   "cell_type": "markdown",
   "metadata": {
    "collapsed": true
   },
   "source": [
    "\n",
    "\n",
    "\n",
    "# *** FINAL PROJECT - Application of methods for data analysis***\n",
    "\n",
    "###   *part 1- data collection*\n",
    "\n",
    "**Goal:** collect emails of five different senders.  \n",
    "**Plan:** we will use Gmail API in order to connect to our gmail in take emails from there.  \n",
    "\n",
    "first let's import the relevant packages.  \n",
    "Brief summary about them:  \n",
    "email package - this package is for managing email messages, we will use the main class from there called email.message in order to create messages objects and get the relevant information from them.  \n",
    "imaplib package - implements a client for communicating with Internet Message Access Protocol, we will use it in order to connect to gmail imap.  \n",
    "re package - regular expression package, we will use it in order to search\\remove patterns in the data."
   ]
  },
  {
   "cell_type": "code",
   "execution_count": 2,
   "metadata": {
    "collapsed": true
   },
   "outputs": [],
   "source": [
    "import email\n",
    "import imaplib\n",
    "import re"
   ]
  },
  {
   "cell_type": "markdown",
   "metadata": {},
   "source": [
    "connect to imap.gmail api using IMAP package, and login by user and passwrd (pwd)"
   ]
  },
  {
   "cell_type": "code",
   "execution_count": 3,
   "metadata": {},
   "outputs": [
    {
     "data": {
      "text/plain": [
       "('OK', [b'shavitcherni91@gmail.com authenticated (Success)'])"
      ]
     },
     "execution_count": 3,
     "metadata": {},
     "output_type": "execute_result"
    }
   ],
   "source": [
    "user=\"shavitcherni91\"   #to delete later\n",
    "pwd=\"tamirshavit\"       #to delete later\n",
    "\n",
    "mail = imaplib.IMAP4_SSL(\"imap.gmail.com\")\n",
    "mail.login(user,pwd)"
   ]
  },
  {
   "cell_type": "markdown",
   "metadata": {},
   "source": [
    "now, after we are logged in, we can send queries to gmail api by the variable mail we created,  \n",
    "first we will choose folder \"INBOX\", because the relevant emails will be there."
   ]
  },
  {
   "cell_type": "code",
   "execution_count": 4,
   "metadata": {},
   "outputs": [
    {
     "data": {
      "text/plain": [
       "('OK', [b'2'])"
      ]
     },
     "execution_count": 4,
     "metadata": {},
     "output_type": "execute_result"
    }
   ],
   "source": [
    "mail.select(\"INBOX\")"
   ]
  },
  {
   "cell_type": "markdown",
   "metadata": {},
   "source": [
    "this command will take all the emails in INBOX folder and saves their ids in data.  \n",
    "result will hold the status for our request. (ok,failed)  \n",
    "\n",
    "about the command: 'search' is the function we want to do, None indicate the parameters for the function, and the third argument is a filter, \"ALL\" means take everything. (equivalent to no filter)"
   ]
  },
  {
   "cell_type": "code",
   "execution_count": 5,
   "metadata": {},
   "outputs": [
    {
     "data": {
      "text/plain": [
       "[b'3 4']"
      ]
     },
     "execution_count": 5,
     "metadata": {},
     "output_type": "execute_result"
    }
   ],
   "source": [
    "result, data= mail.uid('search',None, \"ALL\")\n",
    "data"
   ]
  },
  {
   "cell_type": "markdown",
   "metadata": {},
   "source": [
    "data now holds a list with one string member that include all the ids.  \n",
    "let's split it to list that each member is id:"
   ]
  },
  {
   "cell_type": "code",
   "execution_count": 6,
   "metadata": {},
   "outputs": [
    {
     "data": {
      "text/plain": [
       "[b'3', b'4']"
      ]
     },
     "execution_count": 6,
     "metadata": {},
     "output_type": "execute_result"
    }
   ],
   "source": [
    "inbox_item_list = data[0].split() \n",
    "inbox_item_list"
   ]
  },
  {
   "cell_type": "markdown",
   "metadata": {},
   "source": [
    "from this step we dont use api anymore, we have all the data we want and we will take the relevant information from it.  \n",
    "first, we want to collect the emails of just five senders:"
   ]
  },
  {
   "cell_type": "code",
   "execution_count": 7,
   "metadata": {
    "collapsed": true
   },
   "outputs": [],
   "source": [
    "emailAddresses_list = [\"shavit91@gmail.com\",\"shavitcherni91@gmail.com\",\"cherniho@post.bgu.ac.il\",\"four@gmail.com\",\"five@gmail.com\"]email_message"
   ]
  },
  {
   "cell_type": "markdown",
   "metadata": {},
   "source": [
    "let's investigate the FROM field as we can see its include the email assress of the sender, but not only... it also include more characters, so we have to extract only the address.  \n",
    "we will do it inside the loop."
   ]
  },
  {
   "cell_type": "code",
   "execution_count": 21,
   "metadata": {},
   "outputs": [
    {
     "name": "stdout",
     "output_type": "stream",
     "text": [
      "subject: try\n",
      "from: =?UTF-8?B?16nXkdeZ15gg16bXqNeg15nXl9eV15E=?= <shavitcherni91@gmail.com>\n"
     ]
    }
   ],
   "source": [
    "result2, email_data = mail.uid('fetch', inbox_item_list[0], '(RFC822)')\n",
    "raw_email = email_data[0][1].decode(\"ISO-8859-1\")  \n",
    "email_message = email.message_from_string(raw_email) \n",
    "print(\"subject: \" + email_message['SUBJECT'])\n",
    "print(\"from: \" + email_message['FROM'])"
   ]
  },
  {
   "cell_type": "markdown",
   "metadata": {},
   "source": [
    "this snippet include the main functionality, we fetch each email id in order to get the email data. each data is coded in byte, so we have to decode it to ISO-8859-1 in order to get string. after we have the decoded data, we create message by using message_from_string function in email package. the field \"FROM\" in email_message as we mentioned include the email address but with some more details like name or other signs we dont need so we are using re package in order to get *only* the email address.  \n",
    "\n",
    "we save the data in a list container, each member is also a list that describe a sender, and each sender is also a list with 2 members, the first one is the subject and the second is the payload data."
   ]
  },
  {
   "cell_type": "code",
   "execution_count": 309,
   "metadata": {
    "collapsed": true
   },
   "outputs": [],
   "source": [
    "lst=[]\n",
    "for item in inbox_item_list:\n",
    "    result2, email_data = mail.uid('fetch', item, '(RFC822)')\n",
    "    raw_email = email_data[0][1].decode(\"ISO-8859-1\")  \n",
    "    email_message = email.message_from_string(raw_email) \n",
    "    m = re.search('[^\\s@<>]+@[^\\s@<>]+\\.[^\\s@<>]+',email_message['FROM'])\n",
    "    lst_member=[]\n",
    "    if m.group(0) in emailAddresses_list:\n",
    "        lst_data=[]\n",
    "        lst_data.append(email_message['SUBJECT'])\n",
    "        for part in email_message.walk():\n",
    "            content_type = part.get_content_type()\n",
    "            if \"plain\" in content_type:\n",
    "                lst_data.append(part.get_payload())\n",
    "            else:\n",
    "                continue\n",
    "        lst_member.append(lst_data)\n",
    "    lst.append(lst_member)"
   ]
  },
  {
   "cell_type": "markdown",
   "metadata": {},
   "source": [
    "let's see our output list:"
   ]
  },
  {
   "cell_type": "code",
   "execution_count": 321,
   "metadata": {},
   "outputs": [
    {
     "data": {
      "text/plain": [
       "[[['try', 'shavit try\\r\\n']],\n",
       " [['hello world', 'another try, another hello world\\r\\n']]]"
      ]
     },
     "execution_count": 321,
     "metadata": {},
     "output_type": "execute_result"
    }
   ],
   "source": [
    "lst"
   ]
  },
  {
   "cell_type": "markdown",
   "metadata": {},
   "source": [
    "as we can see, there are signs like \\r\\n that are not language meaningful, so we will remove them (using re).  \n",
    "for now, we decided not to remove numbers, punctuations and other signs."
   ]
  },
  {
   "cell_type": "code",
   "execution_count": 330,
   "metadata": {},
   "outputs": [
    {
     "data": {
      "text/plain": [
       "[[['try', 'shavit try']], [['hello world', 'another try another hello world']]]"
      ]
     },
     "execution_count": 330,
     "metadata": {},
     "output_type": "execute_result"
    }
   ],
   "source": [
    "for i in range(0,len(lst)): #each member\n",
    "    for j in range(0,len(lst[i])): #each message\n",
    "        for t in range(0,2):\n",
    "            lst[i][j][t] = re.sub(r'[^ \\w\\.]', '', lst[i][j][t])\n",
    "lst"
   ]
  },
  {
   "cell_type": "markdown",
   "metadata": {},
   "source": [
    "\n",
    "\n",
    "*relevant information we used from the internet:*\n",
    "\n",
    "using IMAP with gmail tutorial: https://yuji.wordpress.com/2011/06/22/python-imaplib-imap-example-with-gmail/  \n",
    "phyton docs: https://docs.python.org \n",
    "building regular expressions: https://regexr.com/  \n",
    "and lectures material."
   ]
  }
 ],
 "metadata": {
  "kernelspec": {
   "display_name": "Python 3",
   "language": "python",
   "name": "python3"
  },
  "language_info": {
   "codemirror_mode": {
    "name": "ipython",
    "version": 3
   },
   "file_extension": ".py",
   "mimetype": "text/x-python",
   "name": "python",
   "nbconvert_exporter": "python",
   "pygments_lexer": "ipython3",
   "version": "3.6.3"
  }
 },
 "nbformat": 4,
 "nbformat_minor": 2
}
