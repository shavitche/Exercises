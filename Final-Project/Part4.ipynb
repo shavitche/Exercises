{
 "cells": [
  {
   "cell_type": "markdown",
   "metadata": {},
   "source": [
    "# PART 4 - Classification of generated text"
   ]
  },
  {
   "cell_type": "markdown",
   "metadata": {},
   "source": [
    "first we will load our best model from part 2:"
   ]
  },
  {
   "cell_type": "code",
   "execution_count": 235,
   "metadata": {},
   "outputs": [],
   "source": [
    "import pickle\n",
    "classify_model = pickle.load(open(\"./modelSave/LinearSVC_Model.sav\", 'rb'))"
   ]
  },
  {
   "cell_type": "markdown",
   "metadata": {},
   "source": [
    "check if it is loaded correctly:"
   ]
  },
  {
   "cell_type": "code",
   "execution_count": 236,
   "metadata": {},
   "outputs": [
    {
     "data": {
      "text/plain": [
       "0.92907801418439717"
      ]
     },
     "execution_count": 236,
     "metadata": {},
     "output_type": "execute_result"
    }
   ],
   "source": [
    "classify_model.best_score_"
   ]
  },
  {
   "cell_type": "markdown",
   "metadata": {},
   "source": [
    "great! , let's continue and read the generated text:"
   ]
  },
  {
   "cell_type": "code",
   "execution_count": 237,
   "metadata": {
    "collapsed": true
   },
   "outputs": [],
   "source": [
    "import pandas as pd\n",
    "import csv"
   ]
  },
  {
   "cell_type": "code",
   "execution_count": 238,
   "metadata": {
    "scrolled": true
   },
   "outputs": [
    {
     "data": {
      "text/html": [
       "<div>\n",
       "<style>\n",
       "    .dataframe thead tr:only-child th {\n",
       "        text-align: right;\n",
       "    }\n",
       "\n",
       "    .dataframe thead th {\n",
       "        text-align: left;\n",
       "    }\n",
       "\n",
       "    .dataframe tbody tr th {\n",
       "        vertical-align: top;\n",
       "    }\n",
       "</style>\n",
       "<table border=\"1\" class=\"dataframe\">\n",
       "  <thead>\n",
       "    <tr style=\"text-align: right;\">\n",
       "      <th></th>\n",
       "      <th>email address</th>\n",
       "      <th>message</th>\n",
       "    </tr>\n",
       "  </thead>\n",
       "  <tbody>\n",
       "    <tr>\n",
       "      <th>0</th>\n",
       "      <td>illonashachar78@gmail.com</td>\n",
       "      <td>ce you left poland!  i/r/nmean: without rain!/...</td>\n",
       "    </tr>\n",
       "    <tr>\n",
       "      <th>1</th>\n",
       "      <td>illonashachar78@gmail.com</td>\n",
       "      <td>n kazimierz at 10.35 big bus /r/nor 10.20 you ...</td>\n",
       "    </tr>\n",
       "    <tr>\n",
       "      <th>2</th>\n",
       "      <td>illonashachar78@gmail.com</td>\n",
       "      <td>hi shavit ! !how are you?  i moved to warsaw t...</td>\n",
       "    </tr>\n",
       "    <tr>\n",
       "      <th>3</th>\n",
       "      <td>illonashachar78@gmail.com</td>\n",
       "      <td>nth about one american/r/ncouple 70 old woman ...</td>\n",
       "    </tr>\n",
       "    <tr>\n",
       "      <th>4</th>\n",
       "      <td>illonashachar78@gmail.com</td>\n",
       "      <td>like you to change your plans aod make any/r/n...</td>\n",
       "    </tr>\n",
       "    <tr>\n",
       "      <th>5</th>\n",
       "      <td>illonashachar78@gmail.com</td>\n",
       "      <td>t i was/r/nso busy. my friend cut she is going...</td>\n",
       "    </tr>\n",
       "    <tr>\n",
       "      <th>6</th>\n",
       "      <td>illonashachar78@gmail.com</td>\n",
       "      <td>focused/r/ndo much on your grandmother and/r/n...</td>\n",
       "    </tr>\n",
       "    <tr>\n",
       "      <th>7</th>\n",
       "      <td>illonashachar78@gmail.com</td>\n",
       "      <td>today   . i was out yesterday who were in isra...</td>\n",
       "    </tr>\n",
       "    <tr>\n",
       "      <th>0</th>\n",
       "      <td>leapeturel@gmail.com</td>\n",
       "      <td>long  well, comparing to my 5 months  the reg...</td>\n",
       "    </tr>\n",
       "    <tr>\n",
       "      <th>1</th>\n",
       "      <td>leapeturel@gmail.com</td>\n",
       "      <td>study.. when is tou/r/nenn y feee dayke tece ...</td>\n",
       "    </tr>\n",
       "    <tr>\n",
       "      <th>2</th>\n",
       "      <td>leapeturel@gmail.com</td>\n",
       "      <td>nd/r/nfrom france for 1 week, and we meet only...</td>\n",
       "    </tr>\n",
       "    <tr>\n",
       "      <th>3</th>\n",
       "      <td>leapeturel@gmail.com</td>\n",
       "      <td>ing and worth to sesi a bom o ceeed autere iin...</td>\n",
       "    </tr>\n",
       "    <tr>\n",
       "      <th>4</th>\n",
       "      <td>leapeturel@gmail.com</td>\n",
       "      <td>not in berlin for/r/nfew days ! and i try to ...</td>\n",
       "    </tr>\n",
       "    <tr>\n",
       "      <th>5</th>\n",
       "      <td>leapeturel@gmail.com</td>\n",
       "      <td>. and you, are you oki? thur hrddef tourrt sha...</td>\n",
       "    </tr>\n",
       "    <tr>\n",
       "      <th>6</th>\n",
       "      <td>leapeturel@gmail.com</td>\n",
       "      <td>at the same time i had big discussion with/r/n...</td>\n",
       "    </tr>\n",
       "    <tr>\n",
       "      <th>7</th>\n",
       "      <td>leapeturel@gmail.com</td>\n",
       "      <td>me/r/n /r/n it was weird to see a movie, like...</td>\n",
       "    </tr>\n",
       "    <tr>\n",
       "      <th>0</th>\n",
       "      <td>itaicohen266@gmail.com</td>\n",
       "      <td>capture increase the looer whth tee cemtl.tep ...</td>\n",
       "    </tr>\n",
       "    <tr>\n",
       "      <th>1</th>\n",
       "      <td>itaicohen266@gmail.com</td>\n",
       "      <td>a battling and capturing wild pets . many batt...</td>\n",
       "    </tr>\n",
       "    <tr>\n",
       "      <th>2</th>\n",
       "      <td>itaicohen266@gmail.com</td>\n",
       "      <td>s pretty much the same set of rules asr rhtoed...</td>\n",
       "    </tr>\n",
       "    <tr>\n",
       "      <th>3</th>\n",
       "      <td>itaicohen266@gmail.com</td>\n",
       "      <td>n g for you, which is nice. what does thet mea...</td>\n",
       "    </tr>\n",
       "    <tr>\n",
       "      <th>4</th>\n",
       "      <td>itaicohen266@gmail.com</td>\n",
       "      <td>simultaneous pet battle tat. cndeti nn thu be...</td>\n",
       "    </tr>\n",
       "    <tr>\n",
       "      <th>5</th>\n",
       "      <td>itaicohen266@gmail.com</td>\n",
       "      <td>has been wounded. what do i do? you have sever...</td>\n",
       "    </tr>\n",
       "    <tr>\n",
       "      <th>6</th>\n",
       "      <td>itaicohen266@gmail.com</td>\n",
       "      <td>their level, to help with your need to catch t...</td>\n",
       "    </tr>\n",
       "    <tr>\n",
       "      <th>7</th>\n",
       "      <td>itaicohen266@gmail.com</td>\n",
       "      <td>ho you are battling ig toel metel  adtnl tiae ...</td>\n",
       "    </tr>\n",
       "    <tr>\n",
       "      <th>8</th>\n",
       "      <td>itaicohen266@gmail.com</td>\n",
       "      <td>our revive pet ability, which has a minute coo...</td>\n",
       "    </tr>\n",
       "    <tr>\n",
       "      <th>0</th>\n",
       "      <td>asafdavid08@gmail.com</td>\n",
       "      <td>e?/r/n /r/n most of us a pretty happy with las...</td>\n",
       "    </tr>\n",
       "    <tr>\n",
       "      <th>1</th>\n",
       "      <td>asafdavid08@gmail.com</td>\n",
       "      <td>odel. and while it's been a/r/ngreat device, i...</td>\n",
       "    </tr>\n",
       "    <tr>\n",
       "      <th>2</th>\n",
       "      <td>asafdavid08@gmail.com</td>\n",
       "      <td>s, you throughly enjoy yourself./r/n/r/nto sum...</td>\n",
       "    </tr>\n",
       "    <tr>\n",
       "      <th>3</th>\n",
       "      <td>asafdavid08@gmail.com</td>\n",
       "      <td>platform if you wanted to./r/n/r/nyet, you fe...</td>\n",
       "    </tr>\n",
       "    <tr>\n",
       "      <th>4</th>\n",
       "      <td>asafdavid08@gmail.com</td>\n",
       "      <td>turns out, some women on holl tithen/r/n/r/n/r...</td>\n",
       "    </tr>\n",
       "    <tr>\n",
       "      <th>5</th>\n",
       "      <td>asafdavid08@gmail.com</td>\n",
       "      <td>ems faster, really wish i could see it on the ...</td>\n",
       "    </tr>\n",
       "    <tr>\n",
       "      <th>6</th>\n",
       "      <td>asafdavid08@gmail.com</td>\n",
       "      <td>pt i'm not/r/ngetting better at a fast anough ...</td>\n",
       "    </tr>\n",
       "    <tr>\n",
       "      <th>7</th>\n",
       "      <td>asafdavid08@gmail.com</td>\n",
       "      <td>many   n  s face/r/n/r/nno one likes touching...</td>\n",
       "    </tr>\n",
       "    <tr>\n",
       "      <th>8</th>\n",
       "      <td>asafdavid08@gmail.com</td>\n",
       "      <td>ch./r/n/r/nwhy would you allow other women to ...</td>\n",
       "    </tr>\n",
       "    <tr>\n",
       "      <th>0</th>\n",
       "      <td>dvirnimrod84@gmail.com</td>\n",
       "      <td>y but, nice as he was, he tried a religious ro...</td>\n",
       "    </tr>\n",
       "    <tr>\n",
       "      <th>1</th>\n",
       "      <td>dvirnimrod84@gmail.com</td>\n",
       "      <td>feeling of inadequacy/ that i'm a loser makes...</td>\n",
       "    </tr>\n",
       "    <tr>\n",
       "      <th>2</th>\n",
       "      <td>dvirnimrod84@gmail.com</td>\n",
       "      <td>derstand the 'lack of reason' side of it. i /r...</td>\n",
       "    </tr>\n",
       "    <tr>\n",
       "      <th>3</th>\n",
       "      <td>dvirnimrod84@gmail.com</td>\n",
       "      <td>n do so why depress /r/n her. i don't want to ...</td>\n",
       "    </tr>\n",
       "    <tr>\n",
       "      <th>4</th>\n",
       "      <td>dvirnimrod84@gmail.com</td>\n",
       "      <td>in /r/n there with proper problems, or at leas...</td>\n",
       "    </tr>\n",
       "    <tr>\n",
       "      <th>5</th>\n",
       "      <td>dvirnimrod84@gmail.com</td>\n",
       "      <td>ormal /r/n upbringing, no horrible experiences...</td>\n",
       "    </tr>\n",
       "    <tr>\n",
       "      <th>6</th>\n",
       "      <td>dvirnimrod84@gmail.com</td>\n",
       "      <td>you need to be able to talk freely and that c...</td>\n",
       "    </tr>\n",
       "    <tr>\n",
       "      <th>7</th>\n",
       "      <td>dvirnimrod84@gmail.com</td>\n",
       "      <td>t will make you happy. /r/n  /r/n you don't ne...</td>\n",
       "    </tr>\n",
       "    <tr>\n",
       "      <th>8</th>\n",
       "      <td>dvirnimrod84@gmail.com</td>\n",
       "      <td>py so i think you /r/n know what makes you tic...</td>\n",
       "    </tr>\n",
       "  </tbody>\n",
       "</table>\n",
       "</div>"
      ],
      "text/plain": [
       "               email address  \\\n",
       "0  illonashachar78@gmail.com   \n",
       "1  illonashachar78@gmail.com   \n",
       "2  illonashachar78@gmail.com   \n",
       "3  illonashachar78@gmail.com   \n",
       "4  illonashachar78@gmail.com   \n",
       "5  illonashachar78@gmail.com   \n",
       "6  illonashachar78@gmail.com   \n",
       "7  illonashachar78@gmail.com   \n",
       "0       leapeturel@gmail.com   \n",
       "1       leapeturel@gmail.com   \n",
       "2       leapeturel@gmail.com   \n",
       "3       leapeturel@gmail.com   \n",
       "4       leapeturel@gmail.com   \n",
       "5       leapeturel@gmail.com   \n",
       "6       leapeturel@gmail.com   \n",
       "7       leapeturel@gmail.com   \n",
       "0     itaicohen266@gmail.com   \n",
       "1     itaicohen266@gmail.com   \n",
       "2     itaicohen266@gmail.com   \n",
       "3     itaicohen266@gmail.com   \n",
       "4     itaicohen266@gmail.com   \n",
       "5     itaicohen266@gmail.com   \n",
       "6     itaicohen266@gmail.com   \n",
       "7     itaicohen266@gmail.com   \n",
       "8     itaicohen266@gmail.com   \n",
       "0      asafdavid08@gmail.com   \n",
       "1      asafdavid08@gmail.com   \n",
       "2      asafdavid08@gmail.com   \n",
       "3      asafdavid08@gmail.com   \n",
       "4      asafdavid08@gmail.com   \n",
       "5      asafdavid08@gmail.com   \n",
       "6      asafdavid08@gmail.com   \n",
       "7      asafdavid08@gmail.com   \n",
       "8      asafdavid08@gmail.com   \n",
       "0     dvirnimrod84@gmail.com   \n",
       "1     dvirnimrod84@gmail.com   \n",
       "2     dvirnimrod84@gmail.com   \n",
       "3     dvirnimrod84@gmail.com   \n",
       "4     dvirnimrod84@gmail.com   \n",
       "5     dvirnimrod84@gmail.com   \n",
       "6     dvirnimrod84@gmail.com   \n",
       "7     dvirnimrod84@gmail.com   \n",
       "8     dvirnimrod84@gmail.com   \n",
       "\n",
       "                                             message  \n",
       "0  ce you left poland!  i/r/nmean: without rain!/...  \n",
       "1  n kazimierz at 10.35 big bus /r/nor 10.20 you ...  \n",
       "2  hi shavit ! !how are you?  i moved to warsaw t...  \n",
       "3  nth about one american/r/ncouple 70 old woman ...  \n",
       "4  like you to change your plans aod make any/r/n...  \n",
       "5  t i was/r/nso busy. my friend cut she is going...  \n",
       "6  focused/r/ndo much on your grandmother and/r/n...  \n",
       "7  today   . i was out yesterday who were in isra...  \n",
       "0   long  well, comparing to my 5 months  the reg...  \n",
       "1   study.. when is tou/r/nenn y feee dayke tece ...  \n",
       "2  nd/r/nfrom france for 1 week, and we meet only...  \n",
       "3  ing and worth to sesi a bom o ceeed autere iin...  \n",
       "4   not in berlin for/r/nfew days ! and i try to ...  \n",
       "5  . and you, are you oki? thur hrddef tourrt sha...  \n",
       "6  at the same time i had big discussion with/r/n...  \n",
       "7   me/r/n /r/n it was weird to see a movie, like...  \n",
       "0  capture increase the looer whth tee cemtl.tep ...  \n",
       "1  a battling and capturing wild pets . many batt...  \n",
       "2  s pretty much the same set of rules asr rhtoed...  \n",
       "3  n g for you, which is nice. what does thet mea...  \n",
       "4   simultaneous pet battle tat. cndeti nn thu be...  \n",
       "5  has been wounded. what do i do? you have sever...  \n",
       "6  their level, to help with your need to catch t...  \n",
       "7  ho you are battling ig toel metel  adtnl tiae ...  \n",
       "8  our revive pet ability, which has a minute coo...  \n",
       "0  e?/r/n /r/n most of us a pretty happy with las...  \n",
       "1  odel. and while it's been a/r/ngreat device, i...  \n",
       "2  s, you throughly enjoy yourself./r/n/r/nto sum...  \n",
       "3   platform if you wanted to./r/n/r/nyet, you fe...  \n",
       "4  turns out, some women on holl tithen/r/n/r/n/r...  \n",
       "5  ems faster, really wish i could see it on the ...  \n",
       "6  pt i'm not/r/ngetting better at a fast anough ...  \n",
       "7   many   n  s face/r/n/r/nno one likes touching...  \n",
       "8  ch./r/n/r/nwhy would you allow other women to ...  \n",
       "0  y but, nice as he was, he tried a religious ro...  \n",
       "1   feeling of inadequacy/ that i'm a loser makes...  \n",
       "2  derstand the 'lack of reason' side of it. i /r...  \n",
       "3  n do so why depress /r/n her. i don't want to ...  \n",
       "4  in /r/n there with proper problems, or at leas...  \n",
       "5  ormal /r/n upbringing, no horrible experiences...  \n",
       "6   you need to be able to talk freely and that c...  \n",
       "7  t will make you happy. /r/n  /r/n you don't ne...  \n",
       "8  py so i think you /r/n know what makes you tic...  "
      ]
     },
     "execution_count": 238,
     "metadata": {},
     "output_type": "execute_result"
    }
   ],
   "source": [
    "df = pd.read_csv(\"./generate/ilonaGeneratedData.csv\")\n",
    "df = df.append(pd.read_csv(\"./generate/leaGeneratedData.csv\"))\n",
    "df = df.append(pd.read_csv(\"./generate/itaiGeneratedData.csv\"))\n",
    "df = df.append(pd.read_csv(\"./generate/asafGeneratedData.csv\"))\n",
    "df = df.append(pd.read_csv(\"./generate/dvirGeneratedData.csv\"))\n",
    "df"
   ]
  },
  {
   "cell_type": "markdown",
   "metadata": {},
   "source": [
    "make the same prepartion as we did in part 2 before we trained the model:"
   ]
  },
  {
   "cell_type": "code",
   "execution_count": 239,
   "metadata": {
    "scrolled": true
   },
   "outputs": [
    {
     "data": {
      "text/html": [
       "<div>\n",
       "<style>\n",
       "    .dataframe thead tr:only-child th {\n",
       "        text-align: right;\n",
       "    }\n",
       "\n",
       "    .dataframe thead th {\n",
       "        text-align: left;\n",
       "    }\n",
       "\n",
       "    .dataframe tbody tr th {\n",
       "        vertical-align: top;\n",
       "    }\n",
       "</style>\n",
       "<table border=\"1\" class=\"dataframe\">\n",
       "  <thead>\n",
       "    <tr style=\"text-align: right;\">\n",
       "      <th></th>\n",
       "      <th>email address</th>\n",
       "      <th>message</th>\n",
       "    </tr>\n",
       "  </thead>\n",
       "  <tbody>\n",
       "    <tr>\n",
       "      <th>0</th>\n",
       "      <td>illonashachar78@gmail.com</td>\n",
       "      <td>ce you left poland!  i/r/nmean: without rain!/...</td>\n",
       "    </tr>\n",
       "    <tr>\n",
       "      <th>1</th>\n",
       "      <td>illonashachar78@gmail.com</td>\n",
       "      <td>n kazimierz at NUM.NUM big bus /r/nor NUM.NUM ...</td>\n",
       "    </tr>\n",
       "    <tr>\n",
       "      <th>2</th>\n",
       "      <td>illonashachar78@gmail.com</td>\n",
       "      <td>hi shavit ! !how are you?  i moved to warsaw t...</td>\n",
       "    </tr>\n",
       "    <tr>\n",
       "      <th>3</th>\n",
       "      <td>illonashachar78@gmail.com</td>\n",
       "      <td>nth about one american/r/ncouple NUM old woman...</td>\n",
       "    </tr>\n",
       "    <tr>\n",
       "      <th>4</th>\n",
       "      <td>illonashachar78@gmail.com</td>\n",
       "      <td>like you to change your plans aod make any/r/n...</td>\n",
       "    </tr>\n",
       "    <tr>\n",
       "      <th>5</th>\n",
       "      <td>illonashachar78@gmail.com</td>\n",
       "      <td>t i was/r/nso busy. my friend cut she is going...</td>\n",
       "    </tr>\n",
       "    <tr>\n",
       "      <th>6</th>\n",
       "      <td>illonashachar78@gmail.com</td>\n",
       "      <td>focused/r/ndo much on your grandmother and/r/n...</td>\n",
       "    </tr>\n",
       "    <tr>\n",
       "      <th>7</th>\n",
       "      <td>illonashachar78@gmail.com</td>\n",
       "      <td>today   . i was out yesterday who were in isra...</td>\n",
       "    </tr>\n",
       "    <tr>\n",
       "      <th>0</th>\n",
       "      <td>leapeturel@gmail.com</td>\n",
       "      <td>long  well, comparing to my NUM months  the r...</td>\n",
       "    </tr>\n",
       "    <tr>\n",
       "      <th>1</th>\n",
       "      <td>leapeturel@gmail.com</td>\n",
       "      <td>study.. when is tou/r/nenn y feee dayke tece ...</td>\n",
       "    </tr>\n",
       "    <tr>\n",
       "      <th>2</th>\n",
       "      <td>leapeturel@gmail.com</td>\n",
       "      <td>nd/r/nfrom france for NUM week, and we meet on...</td>\n",
       "    </tr>\n",
       "    <tr>\n",
       "      <th>3</th>\n",
       "      <td>leapeturel@gmail.com</td>\n",
       "      <td>ing and worth to sesi a bom o ceeed autere iin...</td>\n",
       "    </tr>\n",
       "    <tr>\n",
       "      <th>4</th>\n",
       "      <td>leapeturel@gmail.com</td>\n",
       "      <td>not in berlin for/r/nfew days ! and i try to ...</td>\n",
       "    </tr>\n",
       "    <tr>\n",
       "      <th>5</th>\n",
       "      <td>leapeturel@gmail.com</td>\n",
       "      <td>. and you, are you oki? thur hrddef tourrt sha...</td>\n",
       "    </tr>\n",
       "    <tr>\n",
       "      <th>6</th>\n",
       "      <td>leapeturel@gmail.com</td>\n",
       "      <td>at the same time i had big discussion with/r/n...</td>\n",
       "    </tr>\n",
       "    <tr>\n",
       "      <th>7</th>\n",
       "      <td>leapeturel@gmail.com</td>\n",
       "      <td>me/r/n /r/n it was weird to see a movie, like...</td>\n",
       "    </tr>\n",
       "    <tr>\n",
       "      <th>0</th>\n",
       "      <td>itaicohen266@gmail.com</td>\n",
       "      <td>capture increase the looer whth tee cemtl.tep ...</td>\n",
       "    </tr>\n",
       "    <tr>\n",
       "      <th>1</th>\n",
       "      <td>itaicohen266@gmail.com</td>\n",
       "      <td>a battling and capturing wild pets . many batt...</td>\n",
       "    </tr>\n",
       "    <tr>\n",
       "      <th>2</th>\n",
       "      <td>itaicohen266@gmail.com</td>\n",
       "      <td>s pretty much the same set of rules asr rhtoed...</td>\n",
       "    </tr>\n",
       "    <tr>\n",
       "      <th>3</th>\n",
       "      <td>itaicohen266@gmail.com</td>\n",
       "      <td>n g for you, which is nice. what does thet mea...</td>\n",
       "    </tr>\n",
       "    <tr>\n",
       "      <th>4</th>\n",
       "      <td>itaicohen266@gmail.com</td>\n",
       "      <td>simultaneous pet battle tat. cndeti nn thu be...</td>\n",
       "    </tr>\n",
       "    <tr>\n",
       "      <th>5</th>\n",
       "      <td>itaicohen266@gmail.com</td>\n",
       "      <td>has been wounded. what do i do? you have sever...</td>\n",
       "    </tr>\n",
       "    <tr>\n",
       "      <th>6</th>\n",
       "      <td>itaicohen266@gmail.com</td>\n",
       "      <td>their level, to help with your need to catch t...</td>\n",
       "    </tr>\n",
       "    <tr>\n",
       "      <th>7</th>\n",
       "      <td>itaicohen266@gmail.com</td>\n",
       "      <td>ho you are battling ig toel metel  adtnl tiae ...</td>\n",
       "    </tr>\n",
       "    <tr>\n",
       "      <th>8</th>\n",
       "      <td>itaicohen266@gmail.com</td>\n",
       "      <td>our revive pet ability, which has a minute coo...</td>\n",
       "    </tr>\n",
       "    <tr>\n",
       "      <th>0</th>\n",
       "      <td>asafdavid08@gmail.com</td>\n",
       "      <td>e?/r/n /r/n most of us a pretty happy with las...</td>\n",
       "    </tr>\n",
       "    <tr>\n",
       "      <th>1</th>\n",
       "      <td>asafdavid08@gmail.com</td>\n",
       "      <td>odel. and while it's been a/r/ngreat device, i...</td>\n",
       "    </tr>\n",
       "    <tr>\n",
       "      <th>2</th>\n",
       "      <td>asafdavid08@gmail.com</td>\n",
       "      <td>s, you throughly enjoy yourself./r/n/r/nto sum...</td>\n",
       "    </tr>\n",
       "    <tr>\n",
       "      <th>3</th>\n",
       "      <td>asafdavid08@gmail.com</td>\n",
       "      <td>platform if you wanted to./r/n/r/nyet, you fe...</td>\n",
       "    </tr>\n",
       "    <tr>\n",
       "      <th>4</th>\n",
       "      <td>asafdavid08@gmail.com</td>\n",
       "      <td>turns out, some women on holl tithen/r/n/r/n/r...</td>\n",
       "    </tr>\n",
       "    <tr>\n",
       "      <th>5</th>\n",
       "      <td>asafdavid08@gmail.com</td>\n",
       "      <td>ems faster, really wish i could see it on the ...</td>\n",
       "    </tr>\n",
       "    <tr>\n",
       "      <th>6</th>\n",
       "      <td>asafdavid08@gmail.com</td>\n",
       "      <td>pt i'm not/r/ngetting better at a fast anough ...</td>\n",
       "    </tr>\n",
       "    <tr>\n",
       "      <th>7</th>\n",
       "      <td>asafdavid08@gmail.com</td>\n",
       "      <td>many   n  s face/r/n/r/nno one likes touching...</td>\n",
       "    </tr>\n",
       "    <tr>\n",
       "      <th>8</th>\n",
       "      <td>asafdavid08@gmail.com</td>\n",
       "      <td>ch./r/n/r/nwhy would you allow other women to ...</td>\n",
       "    </tr>\n",
       "    <tr>\n",
       "      <th>0</th>\n",
       "      <td>dvirnimrod84@gmail.com</td>\n",
       "      <td>y but, nice as he was, he tried a religious ro...</td>\n",
       "    </tr>\n",
       "    <tr>\n",
       "      <th>1</th>\n",
       "      <td>dvirnimrod84@gmail.com</td>\n",
       "      <td>feeling of inadequacy/ that i'm a loser makes...</td>\n",
       "    </tr>\n",
       "    <tr>\n",
       "      <th>2</th>\n",
       "      <td>dvirnimrod84@gmail.com</td>\n",
       "      <td>derstand the 'lack of reason' side of it. i /r...</td>\n",
       "    </tr>\n",
       "    <tr>\n",
       "      <th>3</th>\n",
       "      <td>dvirnimrod84@gmail.com</td>\n",
       "      <td>n do so why depress /r/n her. i don't want to ...</td>\n",
       "    </tr>\n",
       "    <tr>\n",
       "      <th>4</th>\n",
       "      <td>dvirnimrod84@gmail.com</td>\n",
       "      <td>in /r/n there with proper problems, or at leas...</td>\n",
       "    </tr>\n",
       "    <tr>\n",
       "      <th>5</th>\n",
       "      <td>dvirnimrod84@gmail.com</td>\n",
       "      <td>ormal /r/n upbringing, no horrible experiences...</td>\n",
       "    </tr>\n",
       "    <tr>\n",
       "      <th>6</th>\n",
       "      <td>dvirnimrod84@gmail.com</td>\n",
       "      <td>you need to be able to talk freely and that c...</td>\n",
       "    </tr>\n",
       "    <tr>\n",
       "      <th>7</th>\n",
       "      <td>dvirnimrod84@gmail.com</td>\n",
       "      <td>t will make you happy. /r/n  /r/n you don't ne...</td>\n",
       "    </tr>\n",
       "    <tr>\n",
       "      <th>8</th>\n",
       "      <td>dvirnimrod84@gmail.com</td>\n",
       "      <td>py so i think you /r/n know what makes you tic...</td>\n",
       "    </tr>\n",
       "  </tbody>\n",
       "</table>\n",
       "</div>"
      ],
      "text/plain": [
       "               email address  \\\n",
       "0  illonashachar78@gmail.com   \n",
       "1  illonashachar78@gmail.com   \n",
       "2  illonashachar78@gmail.com   \n",
       "3  illonashachar78@gmail.com   \n",
       "4  illonashachar78@gmail.com   \n",
       "5  illonashachar78@gmail.com   \n",
       "6  illonashachar78@gmail.com   \n",
       "7  illonashachar78@gmail.com   \n",
       "0       leapeturel@gmail.com   \n",
       "1       leapeturel@gmail.com   \n",
       "2       leapeturel@gmail.com   \n",
       "3       leapeturel@gmail.com   \n",
       "4       leapeturel@gmail.com   \n",
       "5       leapeturel@gmail.com   \n",
       "6       leapeturel@gmail.com   \n",
       "7       leapeturel@gmail.com   \n",
       "0     itaicohen266@gmail.com   \n",
       "1     itaicohen266@gmail.com   \n",
       "2     itaicohen266@gmail.com   \n",
       "3     itaicohen266@gmail.com   \n",
       "4     itaicohen266@gmail.com   \n",
       "5     itaicohen266@gmail.com   \n",
       "6     itaicohen266@gmail.com   \n",
       "7     itaicohen266@gmail.com   \n",
       "8     itaicohen266@gmail.com   \n",
       "0      asafdavid08@gmail.com   \n",
       "1      asafdavid08@gmail.com   \n",
       "2      asafdavid08@gmail.com   \n",
       "3      asafdavid08@gmail.com   \n",
       "4      asafdavid08@gmail.com   \n",
       "5      asafdavid08@gmail.com   \n",
       "6      asafdavid08@gmail.com   \n",
       "7      asafdavid08@gmail.com   \n",
       "8      asafdavid08@gmail.com   \n",
       "0     dvirnimrod84@gmail.com   \n",
       "1     dvirnimrod84@gmail.com   \n",
       "2     dvirnimrod84@gmail.com   \n",
       "3     dvirnimrod84@gmail.com   \n",
       "4     dvirnimrod84@gmail.com   \n",
       "5     dvirnimrod84@gmail.com   \n",
       "6     dvirnimrod84@gmail.com   \n",
       "7     dvirnimrod84@gmail.com   \n",
       "8     dvirnimrod84@gmail.com   \n",
       "\n",
       "                                             message  \n",
       "0  ce you left poland!  i/r/nmean: without rain!/...  \n",
       "1  n kazimierz at NUM.NUM big bus /r/nor NUM.NUM ...  \n",
       "2  hi shavit ! !how are you?  i moved to warsaw t...  \n",
       "3  nth about one american/r/ncouple NUM old woman...  \n",
       "4  like you to change your plans aod make any/r/n...  \n",
       "5  t i was/r/nso busy. my friend cut she is going...  \n",
       "6  focused/r/ndo much on your grandmother and/r/n...  \n",
       "7  today   . i was out yesterday who were in isra...  \n",
       "0   long  well, comparing to my NUM months  the r...  \n",
       "1   study.. when is tou/r/nenn y feee dayke tece ...  \n",
       "2  nd/r/nfrom france for NUM week, and we meet on...  \n",
       "3  ing and worth to sesi a bom o ceeed autere iin...  \n",
       "4   not in berlin for/r/nfew days ! and i try to ...  \n",
       "5  . and you, are you oki? thur hrddef tourrt sha...  \n",
       "6  at the same time i had big discussion with/r/n...  \n",
       "7   me/r/n /r/n it was weird to see a movie, like...  \n",
       "0  capture increase the looer whth tee cemtl.tep ...  \n",
       "1  a battling and capturing wild pets . many batt...  \n",
       "2  s pretty much the same set of rules asr rhtoed...  \n",
       "3  n g for you, which is nice. what does thet mea...  \n",
       "4   simultaneous pet battle tat. cndeti nn thu be...  \n",
       "5  has been wounded. what do i do? you have sever...  \n",
       "6  their level, to help with your need to catch t...  \n",
       "7  ho you are battling ig toel metel  adtnl tiae ...  \n",
       "8  our revive pet ability, which has a minute coo...  \n",
       "0  e?/r/n /r/n most of us a pretty happy with las...  \n",
       "1  odel. and while it's been a/r/ngreat device, i...  \n",
       "2  s, you throughly enjoy yourself./r/n/r/nto sum...  \n",
       "3   platform if you wanted to./r/n/r/nyet, you fe...  \n",
       "4  turns out, some women on holl tithen/r/n/r/n/r...  \n",
       "5  ems faster, really wish i could see it on the ...  \n",
       "6  pt i'm not/r/ngetting better at a fast anough ...  \n",
       "7   many   n  s face/r/n/r/nno one likes touching...  \n",
       "8  ch./r/n/r/nwhy would you allow other women to ...  \n",
       "0  y but, nice as he was, he tried a religious ro...  \n",
       "1   feeling of inadequacy/ that i'm a loser makes...  \n",
       "2  derstand the 'lack of reason' side of it. i /r...  \n",
       "3  n do so why depress /r/n her. i don't want to ...  \n",
       "4  in /r/n there with proper problems, or at leas...  \n",
       "5  ormal /r/n upbringing, no horrible experiences...  \n",
       "6   you need to be able to talk freely and that c...  \n",
       "7  t will make you happy. /r/n  /r/n you don't ne...  \n",
       "8  py so i think you /r/n know what makes you tic...  "
      ]
     },
     "execution_count": 239,
     "metadata": {},
     "output_type": "execute_result"
    }
   ],
   "source": [
    "import re\n",
    "for index, row in df.iterrows():   \n",
    "    row['message'] = re.sub(r'\\d+','NUM',row['message'])\n",
    "df"
   ]
  },
  {
   "cell_type": "markdown",
   "metadata": {},
   "source": [
    "## from unstructured data to structured data - with TFIDF"
   ]
  },
  {
   "cell_type": "code",
   "execution_count": 240,
   "metadata": {
    "collapsed": true
   },
   "outputs": [],
   "source": [
    "messages = []\n",
    "for index, row in df.iterrows():   \n",
    "    messages.append(row['message'])"
   ]
  },
  {
   "cell_type": "code",
   "execution_count": 241,
   "metadata": {
    "collapsed": true
   },
   "outputs": [],
   "source": [
    "vectorizer = pickle.load(open(\"./modelSave/TfidfVectorizer.sav\", 'rb'))"
   ]
  },
  {
   "cell_type": "markdown",
   "metadata": {},
   "source": [
    "we use transform and not fit_transform as before , because the model is already fitted and we want to transform the current messages to the model that was fitted at part 2."
   ]
  },
  {
   "cell_type": "code",
   "execution_count": 242,
   "metadata": {
    "collapsed": true
   },
   "outputs": [],
   "source": [
    "tfidf_matrix = vectorizer.transform(messages)\n",
    "tfidf_asArray = tfidf_matrix.toarray()"
   ]
  },
  {
   "cell_type": "code",
   "execution_count": 243,
   "metadata": {
    "scrolled": true
   },
   "outputs": [
    {
     "data": {
      "text/plain": [
       "0    illonashachar78@gmail.com\n",
       "1    illonashachar78@gmail.com\n",
       "2    illonashachar78@gmail.com\n",
       "3    illonashachar78@gmail.com\n",
       "4    illonashachar78@gmail.com\n",
       "5    illonashachar78@gmail.com\n",
       "6    illonashachar78@gmail.com\n",
       "7    illonashachar78@gmail.com\n",
       "0         leapeturel@gmail.com\n",
       "1         leapeturel@gmail.com\n",
       "2         leapeturel@gmail.com\n",
       "3         leapeturel@gmail.com\n",
       "4         leapeturel@gmail.com\n",
       "5         leapeturel@gmail.com\n",
       "6         leapeturel@gmail.com\n",
       "7         leapeturel@gmail.com\n",
       "0       itaicohen266@gmail.com\n",
       "1       itaicohen266@gmail.com\n",
       "2       itaicohen266@gmail.com\n",
       "3       itaicohen266@gmail.com\n",
       "4       itaicohen266@gmail.com\n",
       "5       itaicohen266@gmail.com\n",
       "6       itaicohen266@gmail.com\n",
       "7       itaicohen266@gmail.com\n",
       "8       itaicohen266@gmail.com\n",
       "0        asafdavid08@gmail.com\n",
       "1        asafdavid08@gmail.com\n",
       "2        asafdavid08@gmail.com\n",
       "3        asafdavid08@gmail.com\n",
       "4        asafdavid08@gmail.com\n",
       "5        asafdavid08@gmail.com\n",
       "6        asafdavid08@gmail.com\n",
       "7        asafdavid08@gmail.com\n",
       "8        asafdavid08@gmail.com\n",
       "0       dvirnimrod84@gmail.com\n",
       "1       dvirnimrod84@gmail.com\n",
       "2       dvirnimrod84@gmail.com\n",
       "3       dvirnimrod84@gmail.com\n",
       "4       dvirnimrod84@gmail.com\n",
       "5       dvirnimrod84@gmail.com\n",
       "6       dvirnimrod84@gmail.com\n",
       "7       dvirnimrod84@gmail.com\n",
       "8       dvirnimrod84@gmail.com\n",
       "Name: email address, dtype: object"
      ]
     },
     "execution_count": 243,
     "metadata": {},
     "output_type": "execute_result"
    }
   ],
   "source": [
    "features = tfidf_asArray\n",
    "target = df[\"email address\"]\n",
    "target"
   ]
  },
  {
   "cell_type": "code",
   "execution_count": 244,
   "metadata": {},
   "outputs": [
    {
     "data": {
      "text/plain": [
       "(43, 3112)"
      ]
     },
     "execution_count": 244,
     "metadata": {},
     "output_type": "execute_result"
    }
   ],
   "source": [
    "features.shape"
   ]
  },
  {
   "cell_type": "code",
   "execution_count": 245,
   "metadata": {},
   "outputs": [
    {
     "data": {
      "text/plain": [
       "(43,)"
      ]
     },
     "execution_count": 245,
     "metadata": {},
     "output_type": "execute_result"
    }
   ],
   "source": [
    "target.shape"
   ]
  },
  {
   "cell_type": "markdown",
   "metadata": {},
   "source": [
    "let's classify the generated data:"
   ]
  },
  {
   "cell_type": "code",
   "execution_count": 246,
   "metadata": {},
   "outputs": [],
   "source": [
    "predictions = classify_model.predict(features)"
   ]
  },
  {
   "cell_type": "markdown",
   "metadata": {},
   "source": [
    "using accuracy_score to calculate the prediction score:"
   ]
  },
  {
   "cell_type": "code",
   "execution_count": 250,
   "metadata": {},
   "outputs": [],
   "source": [
    "from sklearn.metrics import accuracy_score\n",
    "accuracy = accuracy_score(predictions,target)"
   ]
  },
  {
   "cell_type": "code",
   "execution_count": 251,
   "metadata": {},
   "outputs": [
    {
     "data": {
      "text/plain": [
       "0.88372093023255816"
      ]
     },
     "execution_count": 251,
     "metadata": {},
     "output_type": "execute_result"
    }
   ],
   "source": [
    "accuracy"
   ]
  },
  {
   "cell_type": "markdown",
   "metadata": {},
   "source": [
    "our total accuracy is 88% , let's check the accuracy for each type:"
   ]
  },
  {
   "cell_type": "markdown",
   "metadata": {},
   "source": [
    "**Type 1: sender address - leapeturel@gmail.com**"
   ]
  },
  {
   "cell_type": "code",
   "execution_count": 257,
   "metadata": {},
   "outputs": [
    {
     "name": "stdout",
     "output_type": "stream",
     "text": [
      "1.0\n"
     ]
    }
   ],
   "source": [
    "print(accuracy_score(predictions[8:16],target[8:16]))"
   ]
  },
  {
   "cell_type": "markdown",
   "metadata": {},
   "source": [
    "#### Type 2: sender address - illonashachar78@gmail.com"
   ]
  },
  {
   "cell_type": "code",
   "execution_count": 260,
   "metadata": {},
   "outputs": [
    {
     "name": "stdout",
     "output_type": "stream",
     "text": [
      "1.0\n"
     ]
    }
   ],
   "source": [
    "print(accuracy_score(predictions[0:8],target[0:8]))"
   ]
  },
  {
   "cell_type": "markdown",
   "metadata": {},
   "source": [
    "#### Type 3 - dvirnimrod84@gmail.com"
   ]
  },
  {
   "cell_type": "code",
   "execution_count": 261,
   "metadata": {
    "scrolled": true
   },
   "outputs": [
    {
     "name": "stdout",
     "output_type": "stream",
     "text": [
      "0.777777777778\n"
     ]
    }
   ],
   "source": [
    "print(accuracy_score(predictions[len(predictions)-9:],target[len(predictions)-9:]))"
   ]
  },
  {
   "cell_type": "markdown",
   "metadata": {},
   "source": [
    "#### Type 4- asafdavid08@gmail.com"
   ]
  },
  {
   "cell_type": "code",
   "execution_count": 270,
   "metadata": {},
   "outputs": [
    {
     "name": "stdout",
     "output_type": "stream",
     "text": [
      "1.0\n"
     ]
    }
   ],
   "source": [
    "print(accuracy_score(predictions[25:34],target[25:34]))"
   ]
  },
  {
   "cell_type": "markdown",
   "metadata": {},
   "source": [
    "#### Type 5- itaicohen266@gmail.com"
   ]
  },
  {
   "cell_type": "code",
   "execution_count": 277,
   "metadata": {},
   "outputs": [
    {
     "name": "stdout",
     "output_type": "stream",
     "text": [
      "0.666666666667\n"
     ]
    }
   ],
   "source": [
    "print(accuracy_score(predictions[16:25],target[16:25]))"
   ]
  },
  {
   "cell_type": "markdown",
   "metadata": {},
   "source": [
    "we can notice that senders with short messages were more accurate than senders with long messges, we notice that also in part 3 that it was difficult to generate long messages that sounds logical. in part 3 we also wrote what we think we have could do in order improve it.  \n",
    "in addition to what we wrote in part 3 , we can notice that asaf is more accurate than itai this is because we used longer sequence of characters (50) to predict the next character in the generation proccess. so one more think we could do in order to get more accurate results is to use longer sequences. but we didnt have time to train model of this kind. (more than couple of hours).\n",
    "* in part 3 we described more steps we can do in order to get better result\n",
    "\n",
    "In general the results of 88% are pretty good."
   ]
  },
  {
   "cell_type": "code",
   "execution_count": 355,
   "metadata": {},
   "outputs": [
    {
     "data": {
      "text/plain": [
       "<matplotlib.axes._subplots.AxesSubplot at 0x14f781d5860>"
      ]
     },
     "execution_count": 355,
     "metadata": {},
     "output_type": "execute_result"
    },
    {
     "data": {
      "image/png": "[encoded data removed]",
      "text/plain": [
       "<matplotlib.figure.Figure at 0x14f7a589d68>"
      ]
     },
     "metadata": {},
     "output_type": "display_data"
    }
   ],
   "source": [
    "#from pandas_ml import ConfusionMatrix\n",
    "from pandas_ml import ConfusionMatrix\n",
    "import numpy as np\n",
    "import seaborn as sn\n",
    "from sklearn.metrics import confusion_matrix\n",
    "y_true = np.asarray(target)\n",
    "y_pred = np.asarray(predictions)\n",
    "array=confusion_matrix(y_true, y_pred)\n",
    "names=['asafdavid08@gmail.com','dvirnimrod84@gmail.com','leapeturel@gmail.com','itaicohen266@gmail.com','illonashachar78@gmail.com']\n",
    "df_cm = pd.DataFrame(array, names,\n",
    "                  names)\n",
    "fig=plt.figure(figsize = (10,7))\n",
    "ax = fig.add_subplot(111)\n",
    "fig.subplots_adjust(top=0.85)\n",
    "ax.set_title('confusion matrix: Actual/Predicted')\n",
    "\n",
    "\n",
    "sn.set(font_scale=1.8)\n",
    "sn.heatmap(df_cm, annot=True,annot_kws={\"size\": 18})# font size"
   ]
  },
  {
   "cell_type": "markdown",
   "metadata": {},
   "source": [
    "we can notice that asaf lea and illona have only TP values, it means it is 100% accurate as we saw by the score value above.  \n",
    "itai has 6 TP and 3 messages classified to other types, we can see that is was classified to 3 different types, so maybe some of his messgaes were very general. ont the other hand we can notie that dvir has 7 TP and 2 messages that are not, classified to the same type (asaf) , so maybe he wrote a bit similar to him in these messages , or about topics that asaf wrote on this own messages.\n",
    "\n",
    "in conclusion we can notice that we handle better with senders who wrote short messages, this may be because many factors mainly because some of the senders have similar topics, they are on the same age and same culture so they wrote very similar, and other factors like that we had limited time to train the architecture (part 3 we wrote what we could do to make its better), maybe to change architecture that will work better for the \"problematic\" types. and other reasons we have to investigate more deeply.\n",
    "\n",
    "in general the results are very good, and we are very satisfied from them."
   ]
  }
 ],
 "metadata": {
  "kernelspec": {
   "display_name": "Python 3",
   "language": "python",
   "name": "python3"
  }
 },
 "nbformat": 4,
 "nbformat_minor": 2
}
